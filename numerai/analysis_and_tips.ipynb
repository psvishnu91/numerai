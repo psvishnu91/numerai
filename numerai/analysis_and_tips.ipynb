{
 "cells": [
  {
   "cell_type": "code",
   "execution_count": 1,
   "metadata": {},
   "outputs": [],
   "source": [
    "import matplotlib\n",
    "import numpy as np\n",
    "import pandas as pd\n",
    "from numerapi import NumerAPI\n",
    "import random\n",
    "import sklearn\n",
    "import lightgbm\n",
    "import matplotlib.pyplot as plt\n",
    "# from utils import save_model, load_model, neutralize, get_biggest_change_features, validation_metrics\n",
    "%matplotlib inline\n",
    "\n",
    "from sklearn import (\n",
    "    feature_extraction, feature_selection, decomposition, linear_model,\n",
    "    model_selection, metrics, svm\n",
    ")\n",
    "\n",
    "#pandas.options.display.max_rows=1000\n",
    "#pandas.options.display.max_columns=300"
   ]
  },
  {
   "cell_type": "code",
   "execution_count": 2,
   "metadata": {},
   "outputs": [
    {
     "name": "stderr",
     "output_type": "stream",
     "text": [
      "2023-03-30 17:16:37,028 INFO numerapi.utils: target file already exists\n",
      "2023-03-30 17:16:37,030 INFO numerapi.utils: download complete\n"
     ]
    },
    {
     "data": {
      "text/html": [
       "<div>\n",
       "<style scoped>\n",
       "    .dataframe tbody tr th:only-of-type {\n",
       "        vertical-align: middle;\n",
       "    }\n",
       "\n",
       "    .dataframe tbody tr th {\n",
       "        vertical-align: top;\n",
       "    }\n",
       "\n",
       "    .dataframe thead th {\n",
       "        text-align: right;\n",
       "    }\n",
       "</style>\n",
       "<table border=\"1\" class=\"dataframe\">\n",
       "  <thead>\n",
       "    <tr style=\"text-align: right;\">\n",
       "      <th></th>\n",
       "      <th>era</th>\n",
       "      <th>data_type</th>\n",
       "      <th>feature_honoured_observational_balaamite</th>\n",
       "      <th>feature_polaroid_vadose_quinze</th>\n",
       "      <th>feature_untidy_withdrawn_bargeman</th>\n",
       "      <th>feature_genuine_kyphotic_trehala</th>\n",
       "      <th>feature_unenthralled_sportful_schoolhouse</th>\n",
       "      <th>feature_divulsive_explanatory_ideologue</th>\n",
       "      <th>feature_ichthyotic_roofed_yeshiva</th>\n",
       "      <th>feature_waggly_outlandish_carbonisation</th>\n",
       "      <th>...</th>\n",
       "      <th>target_paul_v4_20</th>\n",
       "      <th>target_paul_v4_60</th>\n",
       "      <th>target_george_v4_20</th>\n",
       "      <th>target_george_v4_60</th>\n",
       "      <th>target_william_v4_20</th>\n",
       "      <th>target_william_v4_60</th>\n",
       "      <th>target_arthur_v4_20</th>\n",
       "      <th>target_arthur_v4_60</th>\n",
       "      <th>target_thomas_v4_20</th>\n",
       "      <th>target_thomas_v4_60</th>\n",
       "    </tr>\n",
       "    <tr>\n",
       "      <th>id</th>\n",
       "      <th></th>\n",
       "      <th></th>\n",
       "      <th></th>\n",
       "      <th></th>\n",
       "      <th></th>\n",
       "      <th></th>\n",
       "      <th></th>\n",
       "      <th></th>\n",
       "      <th></th>\n",
       "      <th></th>\n",
       "      <th></th>\n",
       "      <th></th>\n",
       "      <th></th>\n",
       "      <th></th>\n",
       "      <th></th>\n",
       "      <th></th>\n",
       "      <th></th>\n",
       "      <th></th>\n",
       "      <th></th>\n",
       "      <th></th>\n",
       "      <th></th>\n",
       "    </tr>\n",
       "  </thead>\n",
       "  <tbody>\n",
       "    <tr>\n",
       "      <th>n003bba8a98662e4</th>\n",
       "      <td>0001</td>\n",
       "      <td>train</td>\n",
       "      <td>4</td>\n",
       "      <td>2</td>\n",
       "      <td>4</td>\n",
       "      <td>4</td>\n",
       "      <td>0</td>\n",
       "      <td>0</td>\n",
       "      <td>4</td>\n",
       "      <td>4</td>\n",
       "      <td>...</td>\n",
       "      <td>0.50</td>\n",
       "      <td>0.25</td>\n",
       "      <td>0.25</td>\n",
       "      <td>0.00</td>\n",
       "      <td>0.333333</td>\n",
       "      <td>0.000000</td>\n",
       "      <td>0.500000</td>\n",
       "      <td>0.500000</td>\n",
       "      <td>0.166667</td>\n",
       "      <td>0.000000</td>\n",
       "    </tr>\n",
       "    <tr>\n",
       "      <th>n003bee128c2fcfc</th>\n",
       "      <td>0001</td>\n",
       "      <td>train</td>\n",
       "      <td>2</td>\n",
       "      <td>4</td>\n",
       "      <td>1</td>\n",
       "      <td>3</td>\n",
       "      <td>0</td>\n",
       "      <td>3</td>\n",
       "      <td>2</td>\n",
       "      <td>3</td>\n",
       "      <td>...</td>\n",
       "      <td>0.75</td>\n",
       "      <td>1.00</td>\n",
       "      <td>1.00</td>\n",
       "      <td>1.00</td>\n",
       "      <td>0.666667</td>\n",
       "      <td>0.666667</td>\n",
       "      <td>0.833333</td>\n",
       "      <td>0.666667</td>\n",
       "      <td>0.833333</td>\n",
       "      <td>0.666667</td>\n",
       "    </tr>\n",
       "    <tr>\n",
       "      <th>n0048ac83aff7194</th>\n",
       "      <td>0001</td>\n",
       "      <td>train</td>\n",
       "      <td>2</td>\n",
       "      <td>1</td>\n",
       "      <td>3</td>\n",
       "      <td>0</td>\n",
       "      <td>3</td>\n",
       "      <td>0</td>\n",
       "      <td>3</td>\n",
       "      <td>3</td>\n",
       "      <td>...</td>\n",
       "      <td>0.50</td>\n",
       "      <td>0.25</td>\n",
       "      <td>0.25</td>\n",
       "      <td>0.25</td>\n",
       "      <td>0.500000</td>\n",
       "      <td>0.333333</td>\n",
       "      <td>0.333333</td>\n",
       "      <td>0.500000</td>\n",
       "      <td>0.500000</td>\n",
       "      <td>0.333333</td>\n",
       "    </tr>\n",
       "    <tr>\n",
       "      <th>n00691bec80d3e02</th>\n",
       "      <td>0001</td>\n",
       "      <td>train</td>\n",
       "      <td>4</td>\n",
       "      <td>2</td>\n",
       "      <td>2</td>\n",
       "      <td>3</td>\n",
       "      <td>0</td>\n",
       "      <td>4</td>\n",
       "      <td>1</td>\n",
       "      <td>4</td>\n",
       "      <td>...</td>\n",
       "      <td>0.50</td>\n",
       "      <td>0.50</td>\n",
       "      <td>0.50</td>\n",
       "      <td>0.50</td>\n",
       "      <td>0.666667</td>\n",
       "      <td>0.500000</td>\n",
       "      <td>0.500000</td>\n",
       "      <td>0.500000</td>\n",
       "      <td>0.666667</td>\n",
       "      <td>0.500000</td>\n",
       "    </tr>\n",
       "    <tr>\n",
       "      <th>n00b8720a2fdc4f2</th>\n",
       "      <td>0001</td>\n",
       "      <td>train</td>\n",
       "      <td>4</td>\n",
       "      <td>3</td>\n",
       "      <td>4</td>\n",
       "      <td>4</td>\n",
       "      <td>0</td>\n",
       "      <td>0</td>\n",
       "      <td>4</td>\n",
       "      <td>2</td>\n",
       "      <td>...</td>\n",
       "      <td>0.50</td>\n",
       "      <td>0.50</td>\n",
       "      <td>0.50</td>\n",
       "      <td>0.50</td>\n",
       "      <td>0.666667</td>\n",
       "      <td>0.500000</td>\n",
       "      <td>0.666667</td>\n",
       "      <td>0.500000</td>\n",
       "      <td>0.666667</td>\n",
       "      <td>0.500000</td>\n",
       "    </tr>\n",
       "  </tbody>\n",
       "</table>\n",
       "<p>5 rows × 1617 columns</p>\n",
       "</div>"
      ],
      "text/plain": [
       "                   era data_type  feature_honoured_observational_balaamite   \n",
       "id                                                                           \n",
       "n003bba8a98662e4  0001     train                                         4  \\\n",
       "n003bee128c2fcfc  0001     train                                         2   \n",
       "n0048ac83aff7194  0001     train                                         2   \n",
       "n00691bec80d3e02  0001     train                                         4   \n",
       "n00b8720a2fdc4f2  0001     train                                         4   \n",
       "\n",
       "                  feature_polaroid_vadose_quinze   \n",
       "id                                                 \n",
       "n003bba8a98662e4                               2  \\\n",
       "n003bee128c2fcfc                               4   \n",
       "n0048ac83aff7194                               1   \n",
       "n00691bec80d3e02                               2   \n",
       "n00b8720a2fdc4f2                               3   \n",
       "\n",
       "                  feature_untidy_withdrawn_bargeman   \n",
       "id                                                    \n",
       "n003bba8a98662e4                                  4  \\\n",
       "n003bee128c2fcfc                                  1   \n",
       "n0048ac83aff7194                                  3   \n",
       "n00691bec80d3e02                                  2   \n",
       "n00b8720a2fdc4f2                                  4   \n",
       "\n",
       "                  feature_genuine_kyphotic_trehala   \n",
       "id                                                   \n",
       "n003bba8a98662e4                                 4  \\\n",
       "n003bee128c2fcfc                                 3   \n",
       "n0048ac83aff7194                                 0   \n",
       "n00691bec80d3e02                                 3   \n",
       "n00b8720a2fdc4f2                                 4   \n",
       "\n",
       "                  feature_unenthralled_sportful_schoolhouse   \n",
       "id                                                            \n",
       "n003bba8a98662e4                                          0  \\\n",
       "n003bee128c2fcfc                                          0   \n",
       "n0048ac83aff7194                                          3   \n",
       "n00691bec80d3e02                                          0   \n",
       "n00b8720a2fdc4f2                                          0   \n",
       "\n",
       "                  feature_divulsive_explanatory_ideologue   \n",
       "id                                                          \n",
       "n003bba8a98662e4                                        0  \\\n",
       "n003bee128c2fcfc                                        3   \n",
       "n0048ac83aff7194                                        0   \n",
       "n00691bec80d3e02                                        4   \n",
       "n00b8720a2fdc4f2                                        0   \n",
       "\n",
       "                  feature_ichthyotic_roofed_yeshiva   \n",
       "id                                                    \n",
       "n003bba8a98662e4                                  4  \\\n",
       "n003bee128c2fcfc                                  2   \n",
       "n0048ac83aff7194                                  3   \n",
       "n00691bec80d3e02                                  1   \n",
       "n00b8720a2fdc4f2                                  4   \n",
       "\n",
       "                  feature_waggly_outlandish_carbonisation  ...   \n",
       "id                                                         ...   \n",
       "n003bba8a98662e4                                        4  ...  \\\n",
       "n003bee128c2fcfc                                        3  ...   \n",
       "n0048ac83aff7194                                        3  ...   \n",
       "n00691bec80d3e02                                        4  ...   \n",
       "n00b8720a2fdc4f2                                        2  ...   \n",
       "\n",
       "                  target_paul_v4_20  target_paul_v4_60  target_george_v4_20   \n",
       "id                                                                            \n",
       "n003bba8a98662e4               0.50               0.25                 0.25  \\\n",
       "n003bee128c2fcfc               0.75               1.00                 1.00   \n",
       "n0048ac83aff7194               0.50               0.25                 0.25   \n",
       "n00691bec80d3e02               0.50               0.50                 0.50   \n",
       "n00b8720a2fdc4f2               0.50               0.50                 0.50   \n",
       "\n",
       "                  target_george_v4_60  target_william_v4_20   \n",
       "id                                                            \n",
       "n003bba8a98662e4                 0.00              0.333333  \\\n",
       "n003bee128c2fcfc                 1.00              0.666667   \n",
       "n0048ac83aff7194                 0.25              0.500000   \n",
       "n00691bec80d3e02                 0.50              0.666667   \n",
       "n00b8720a2fdc4f2                 0.50              0.666667   \n",
       "\n",
       "                  target_william_v4_60  target_arthur_v4_20   \n",
       "id                                                            \n",
       "n003bba8a98662e4              0.000000             0.500000  \\\n",
       "n003bee128c2fcfc              0.666667             0.833333   \n",
       "n0048ac83aff7194              0.333333             0.333333   \n",
       "n00691bec80d3e02              0.500000             0.500000   \n",
       "n00b8720a2fdc4f2              0.500000             0.666667   \n",
       "\n",
       "                  target_arthur_v4_60  target_thomas_v4_20   \n",
       "id                                                           \n",
       "n003bba8a98662e4             0.500000             0.166667  \\\n",
       "n003bee128c2fcfc             0.666667             0.833333   \n",
       "n0048ac83aff7194             0.500000             0.500000   \n",
       "n00691bec80d3e02             0.500000             0.666667   \n",
       "n00b8720a2fdc4f2             0.500000             0.666667   \n",
       "\n",
       "                  target_thomas_v4_60  \n",
       "id                                     \n",
       "n003bba8a98662e4             0.000000  \n",
       "n003bee128c2fcfc             0.666667  \n",
       "n0048ac83aff7194             0.333333  \n",
       "n00691bec80d3e02             0.500000  \n",
       "n00b8720a2fdc4f2             0.500000  \n",
       "\n",
       "[5 rows x 1617 columns]"
      ]
     },
     "execution_count": 2,
     "metadata": {},
     "output_type": "execute_result"
    }
   ],
   "source": [
    "napi = NumerAPI()\n",
    "\n",
    "current_round = napi.get_current_round()\n",
    "\n",
    "# read in all of the new datas\n",
    "# tournament data and example predictions change every week so we specify the round in their names\n",
    "# training and validation data only change periodically, so no need to download them over again every single week\n",
    "napi.download_dataset(\"v4.1/train_int8.parquet\", \"../data/v4.1/train_int8.parquet\")\n",
    "df = pd.read_parquet('../data/v4.1/train_int8.parquet')\n",
    "\n",
    "df.head()"
   ]
  },
  {
   "cell_type": "code",
   "execution_count": 3,
   "metadata": {},
   "outputs": [
    {
     "data": {
      "text/plain": [
       "(2420521, 1617)"
      ]
     },
     "execution_count": 3,
     "metadata": {},
     "output_type": "execute_result"
    }
   ],
   "source": [
    "# There are 2420521 rows grouped into 574 weekly eras\n",
    "df.shape"
   ]
  },
  {
   "cell_type": "code",
   "execution_count": 4,
   "metadata": {},
   "outputs": [
    {
     "name": "stdout",
     "output_type": "stream",
     "text": [
      "1586\n",
      "['feature_honoured_observational_balaamite', 'feature_polaroid_vadose_quinze', 'feature_untidy_withdrawn_bargeman', 'feature_genuine_kyphotic_trehala', 'feature_unenthralled_sportful_schoolhouse']\n"
     ]
    }
   ],
   "source": [
    "# There's 1191 features with fun names generated by a hashing function\n",
    "features = [c for c in df if c.startswith(\"feature\")]\n",
    "df[\"erano\"] = df.era.astype(int)\n",
    "eras = df.erano\n",
    "target = \"target\"\n",
    "print(len(features))\n",
    "print(features[:5])"
   ]
  },
  {
   "cell_type": "markdown",
   "metadata": {},
   "source": [
    "# There are 20 targets!\n",
    "\n",
    "## There are 10 different types of targets constructed and 2 versions of each constructed with a 20 day window or a 60 day window\n",
    "## You are only scored on 'target' which currently corresponds to 'target_nomi_20' but could change in the future\n",
    "## The other  auxillary targets can be very useful for training good models. Indeed you may find that a model trained on some of the auxillary targets generalize out-of-sample to 'target' better than a model trained on 'target'"
   ]
  },
  {
   "cell_type": "code",
   "execution_count": null,
   "metadata": {},
   "outputs": [
    {
     "name": "stdout",
     "output_type": "stream",
     "text": [
      "id\n",
      "n003bba8a98662e4      1\n",
      "n003bee128c2fcfc      1\n",
      "n0048ac83aff7194      1\n",
      "n00691bec80d3e02      1\n",
      "n00b8720a2fdc4f2      1\n",
      "                   ... \n",
      "nffcc1dbdf2212e6    574\n",
      "nffd71b7f6a128df    574\n",
      "nffde3b371d67394    574\n",
      "nfff1a1111b35e84    574\n",
      "nfff2bd38e397265    574\n",
      "Name: erano, Length: 2420521, dtype: int64\n",
      "29\n"
     ]
    }
   ],
   "source": [
    "target = \"target\"\n",
    "targets = [c for c in df if c.startswith(\"target\")]\n",
    "print(df.erano)\n",
    "print(len(targets))"
   ]
  },
  {
   "cell_type": "code",
   "execution_count": null,
   "metadata": {},
   "outputs": [
    {
     "data": {
      "text/html": [
       "<div>\n",
       "<style scoped>\n",
       "    .dataframe tbody tr th:only-of-type {\n",
       "        vertical-align: middle;\n",
       "    }\n",
       "\n",
       "    .dataframe tbody tr th {\n",
       "        vertical-align: top;\n",
       "    }\n",
       "\n",
       "    .dataframe thead th {\n",
       "        text-align: right;\n",
       "    }\n",
       "</style>\n",
       "<table border=\"1\" class=\"dataframe\">\n",
       "  <thead>\n",
       "    <tr style=\"text-align: right;\">\n",
       "      <th></th>\n",
       "      <th>target</th>\n",
       "      <th>target_nomi_v4_20</th>\n",
       "      <th>target_nomi_v4_60</th>\n",
       "      <th>target_tyler_v4_20</th>\n",
       "      <th>target_tyler_v4_60</th>\n",
       "      <th>target_victor_v4_20</th>\n",
       "      <th>target_victor_v4_60</th>\n",
       "      <th>target_ralph_v4_20</th>\n",
       "      <th>target_ralph_v4_60</th>\n",
       "      <th>target_waldo_v4_20</th>\n",
       "      <th>...</th>\n",
       "      <th>target_paul_v4_20</th>\n",
       "      <th>target_paul_v4_60</th>\n",
       "      <th>target_george_v4_20</th>\n",
       "      <th>target_george_v4_60</th>\n",
       "      <th>target_william_v4_20</th>\n",
       "      <th>target_william_v4_60</th>\n",
       "      <th>target_arthur_v4_20</th>\n",
       "      <th>target_arthur_v4_60</th>\n",
       "      <th>target_thomas_v4_20</th>\n",
       "      <th>target_thomas_v4_60</th>\n",
       "    </tr>\n",
       "  </thead>\n",
       "  <tbody>\n",
       "    <tr>\n",
       "      <th>target</th>\n",
       "      <td>1.000000</td>\n",
       "      <td>1.000000</td>\n",
       "      <td>0.500773</td>\n",
       "      <td>0.743445</td>\n",
       "      <td>0.421980</td>\n",
       "      <td>0.944873</td>\n",
       "      <td>0.497212</td>\n",
       "      <td>0.866302</td>\n",
       "      <td>0.471679</td>\n",
       "      <td>0.822285</td>\n",
       "      <td>...</td>\n",
       "      <td>0.782010</td>\n",
       "      <td>0.429850</td>\n",
       "      <td>0.723801</td>\n",
       "      <td>0.401362</td>\n",
       "      <td>0.863873</td>\n",
       "      <td>0.479346</td>\n",
       "      <td>0.716456</td>\n",
       "      <td>0.398748</td>\n",
       "      <td>0.881409</td>\n",
       "      <td>0.486783</td>\n",
       "    </tr>\n",
       "    <tr>\n",
       "      <th>target_nomi_v4_20</th>\n",
       "      <td>1.000000</td>\n",
       "      <td>1.000000</td>\n",
       "      <td>0.500773</td>\n",
       "      <td>0.743445</td>\n",
       "      <td>0.421980</td>\n",
       "      <td>0.944873</td>\n",
       "      <td>0.497212</td>\n",
       "      <td>0.866302</td>\n",
       "      <td>0.471679</td>\n",
       "      <td>0.822285</td>\n",
       "      <td>...</td>\n",
       "      <td>0.782010</td>\n",
       "      <td>0.429850</td>\n",
       "      <td>0.723801</td>\n",
       "      <td>0.401362</td>\n",
       "      <td>0.863873</td>\n",
       "      <td>0.479346</td>\n",
       "      <td>0.716456</td>\n",
       "      <td>0.398748</td>\n",
       "      <td>0.881409</td>\n",
       "      <td>0.486783</td>\n",
       "    </tr>\n",
       "    <tr>\n",
       "      <th>target_nomi_v4_60</th>\n",
       "      <td>0.500773</td>\n",
       "      <td>0.500773</td>\n",
       "      <td>1.000000</td>\n",
       "      <td>0.420377</td>\n",
       "      <td>0.742888</td>\n",
       "      <td>0.495029</td>\n",
       "      <td>0.954337</td>\n",
       "      <td>0.470585</td>\n",
       "      <td>0.866328</td>\n",
       "      <td>0.454590</td>\n",
       "      <td>...</td>\n",
       "      <td>0.436680</td>\n",
       "      <td>0.767359</td>\n",
       "      <td>0.408407</td>\n",
       "      <td>0.707522</td>\n",
       "      <td>0.482413</td>\n",
       "      <td>0.860768</td>\n",
       "      <td>0.404631</td>\n",
       "      <td>0.708969</td>\n",
       "      <td>0.490519</td>\n",
       "      <td>0.879609</td>\n",
       "    </tr>\n",
       "    <tr>\n",
       "      <th>target_tyler_v4_20</th>\n",
       "      <td>0.743445</td>\n",
       "      <td>0.743445</td>\n",
       "      <td>0.420377</td>\n",
       "      <td>1.000000</td>\n",
       "      <td>0.393337</td>\n",
       "      <td>0.737327</td>\n",
       "      <td>0.417217</td>\n",
       "      <td>0.709692</td>\n",
       "      <td>0.399233</td>\n",
       "      <td>0.720234</td>\n",
       "      <td>...</td>\n",
       "      <td>0.687341</td>\n",
       "      <td>0.379647</td>\n",
       "      <td>0.643454</td>\n",
       "      <td>0.356026</td>\n",
       "      <td>0.719232</td>\n",
       "      <td>0.403368</td>\n",
       "      <td>0.607384</td>\n",
       "      <td>0.336013</td>\n",
       "      <td>0.722729</td>\n",
       "      <td>0.408091</td>\n",
       "    </tr>\n",
       "    <tr>\n",
       "      <th>target_tyler_v4_60</th>\n",
       "      <td>0.421980</td>\n",
       "      <td>0.421980</td>\n",
       "      <td>0.742888</td>\n",
       "      <td>0.393337</td>\n",
       "      <td>1.000000</td>\n",
       "      <td>0.416991</td>\n",
       "      <td>0.738557</td>\n",
       "      <td>0.399665</td>\n",
       "      <td>0.708798</td>\n",
       "      <td>0.404190</td>\n",
       "      <td>...</td>\n",
       "      <td>0.387036</td>\n",
       "      <td>0.677148</td>\n",
       "      <td>0.363369</td>\n",
       "      <td>0.631416</td>\n",
       "      <td>0.406777</td>\n",
       "      <td>0.717176</td>\n",
       "      <td>0.340995</td>\n",
       "      <td>0.601476</td>\n",
       "      <td>0.411729</td>\n",
       "      <td>0.720453</td>\n",
       "    </tr>\n",
       "    <tr>\n",
       "      <th>target_victor_v4_20</th>\n",
       "      <td>0.944873</td>\n",
       "      <td>0.944873</td>\n",
       "      <td>0.495029</td>\n",
       "      <td>0.737327</td>\n",
       "      <td>0.416991</td>\n",
       "      <td>1.000000</td>\n",
       "      <td>0.498801</td>\n",
       "      <td>0.864092</td>\n",
       "      <td>0.469942</td>\n",
       "      <td>0.820644</td>\n",
       "      <td>...</td>\n",
       "      <td>0.780026</td>\n",
       "      <td>0.427489</td>\n",
       "      <td>0.717996</td>\n",
       "      <td>0.397050</td>\n",
       "      <td>0.862220</td>\n",
       "      <td>0.476881</td>\n",
       "      <td>0.731516</td>\n",
       "      <td>0.406433</td>\n",
       "      <td>0.872040</td>\n",
       "      <td>0.481624</td>\n",
       "    </tr>\n",
       "    <tr>\n",
       "      <th>target_victor_v4_60</th>\n",
       "      <td>0.497212</td>\n",
       "      <td>0.497212</td>\n",
       "      <td>0.954337</td>\n",
       "      <td>0.417217</td>\n",
       "      <td>0.738557</td>\n",
       "      <td>0.498801</td>\n",
       "      <td>1.000000</td>\n",
       "      <td>0.470375</td>\n",
       "      <td>0.866269</td>\n",
       "      <td>0.454263</td>\n",
       "      <td>...</td>\n",
       "      <td>0.436151</td>\n",
       "      <td>0.766819</td>\n",
       "      <td>0.405861</td>\n",
       "      <td>0.703632</td>\n",
       "      <td>0.481953</td>\n",
       "      <td>0.860602</td>\n",
       "      <td>0.411099</td>\n",
       "      <td>0.720778</td>\n",
       "      <td>0.487418</td>\n",
       "      <td>0.873001</td>\n",
       "    </tr>\n",
       "    <tr>\n",
       "      <th>target_ralph_v4_20</th>\n",
       "      <td>0.866302</td>\n",
       "      <td>0.866302</td>\n",
       "      <td>0.470585</td>\n",
       "      <td>0.709692</td>\n",
       "      <td>0.399665</td>\n",
       "      <td>0.864092</td>\n",
       "      <td>0.470375</td>\n",
       "      <td>1.000000</td>\n",
       "      <td>0.491720</td>\n",
       "      <td>0.866905</td>\n",
       "      <td>...</td>\n",
       "      <td>0.787824</td>\n",
       "      <td>0.431726</td>\n",
       "      <td>0.694034</td>\n",
       "      <td>0.383799</td>\n",
       "      <td>0.860645</td>\n",
       "      <td>0.476482</td>\n",
       "      <td>0.716941</td>\n",
       "      <td>0.399110</td>\n",
       "      <td>0.827829</td>\n",
       "      <td>0.459359</td>\n",
       "    </tr>\n",
       "    <tr>\n",
       "      <th>target_ralph_v4_60</th>\n",
       "      <td>0.471679</td>\n",
       "      <td>0.471679</td>\n",
       "      <td>0.866328</td>\n",
       "      <td>0.399233</td>\n",
       "      <td>0.708798</td>\n",
       "      <td>0.469942</td>\n",
       "      <td>0.866269</td>\n",
       "      <td>0.491720</td>\n",
       "      <td>1.000000</td>\n",
       "      <td>0.469920</td>\n",
       "      <td>...</td>\n",
       "      <td>0.438792</td>\n",
       "      <td>0.772580</td>\n",
       "      <td>0.391219</td>\n",
       "      <td>0.677991</td>\n",
       "      <td>0.479716</td>\n",
       "      <td>0.857644</td>\n",
       "      <td>0.405035</td>\n",
       "      <td>0.709887</td>\n",
       "      <td>0.463914</td>\n",
       "      <td>0.825606</td>\n",
       "    </tr>\n",
       "    <tr>\n",
       "      <th>target_waldo_v4_20</th>\n",
       "      <td>0.822285</td>\n",
       "      <td>0.822285</td>\n",
       "      <td>0.454590</td>\n",
       "      <td>0.720234</td>\n",
       "      <td>0.404190</td>\n",
       "      <td>0.820644</td>\n",
       "      <td>0.454263</td>\n",
       "      <td>0.866905</td>\n",
       "      <td>0.469920</td>\n",
       "      <td>1.000000</td>\n",
       "      <td>...</td>\n",
       "      <td>0.818309</td>\n",
       "      <td>0.442804</td>\n",
       "      <td>0.719982</td>\n",
       "      <td>0.394316</td>\n",
       "      <td>0.822856</td>\n",
       "      <td>0.459904</td>\n",
       "      <td>0.687460</td>\n",
       "      <td>0.383646</td>\n",
       "      <td>0.791267</td>\n",
       "      <td>0.441579</td>\n",
       "    </tr>\n",
       "    <tr>\n",
       "      <th>target_waldo_v4_60</th>\n",
       "      <td>0.454295</td>\n",
       "      <td>0.454295</td>\n",
       "      <td>0.819175</td>\n",
       "      <td>0.402331</td>\n",
       "      <td>0.720389</td>\n",
       "      <td>0.452294</td>\n",
       "      <td>0.819032</td>\n",
       "      <td>0.468285</td>\n",
       "      <td>0.862828</td>\n",
       "      <td>0.485776</td>\n",
       "      <td>...</td>\n",
       "      <td>0.449088</td>\n",
       "      <td>0.802831</td>\n",
       "      <td>0.401068</td>\n",
       "      <td>0.704269</td>\n",
       "      <td>0.461756</td>\n",
       "      <td>0.817940</td>\n",
       "      <td>0.388252</td>\n",
       "      <td>0.678955</td>\n",
       "      <td>0.444664</td>\n",
       "      <td>0.785473</td>\n",
       "    </tr>\n",
       "    <tr>\n",
       "      <th>target_jerome_v4_20</th>\n",
       "      <td>0.798061</td>\n",
       "      <td>0.798061</td>\n",
       "      <td>0.445267</td>\n",
       "      <td>0.703594</td>\n",
       "      <td>0.395247</td>\n",
       "      <td>0.796114</td>\n",
       "      <td>0.444735</td>\n",
       "      <td>0.805241</td>\n",
       "      <td>0.447467</td>\n",
       "      <td>0.844744</td>\n",
       "      <td>...</td>\n",
       "      <td>0.910745</td>\n",
       "      <td>0.475421</td>\n",
       "      <td>0.757360</td>\n",
       "      <td>0.409677</td>\n",
       "      <td>0.879259</td>\n",
       "      <td>0.488685</td>\n",
       "      <td>0.683024</td>\n",
       "      <td>0.386939</td>\n",
       "      <td>0.776275</td>\n",
       "      <td>0.434395</td>\n",
       "    </tr>\n",
       "    <tr>\n",
       "      <th>target_jerome_v4_60</th>\n",
       "      <td>0.443519</td>\n",
       "      <td>0.443519</td>\n",
       "      <td>0.792348</td>\n",
       "      <td>0.392303</td>\n",
       "      <td>0.701271</td>\n",
       "      <td>0.441035</td>\n",
       "      <td>0.791844</td>\n",
       "      <td>0.445551</td>\n",
       "      <td>0.798843</td>\n",
       "      <td>0.458194</td>\n",
       "      <td>...</td>\n",
       "      <td>0.481372</td>\n",
       "      <td>0.888310</td>\n",
       "      <td>0.420891</td>\n",
       "      <td>0.736698</td>\n",
       "      <td>0.490512</td>\n",
       "      <td>0.874739</td>\n",
       "      <td>0.391050</td>\n",
       "      <td>0.675483</td>\n",
       "      <td>0.436372</td>\n",
       "      <td>0.767228</td>\n",
       "    </tr>\n",
       "    <tr>\n",
       "      <th>target_janet_v4_20</th>\n",
       "      <td>0.690056</td>\n",
       "      <td>0.690056</td>\n",
       "      <td>0.389002</td>\n",
       "      <td>0.614166</td>\n",
       "      <td>0.342129</td>\n",
       "      <td>0.702837</td>\n",
       "      <td>0.394432</td>\n",
       "      <td>0.695230</td>\n",
       "      <td>0.392283</td>\n",
       "      <td>0.707401</td>\n",
       "      <td>...</td>\n",
       "      <td>0.690488</td>\n",
       "      <td>0.389216</td>\n",
       "      <td>0.620629</td>\n",
       "      <td>0.341089</td>\n",
       "      <td>0.726462</td>\n",
       "      <td>0.411256</td>\n",
       "      <td>0.846425</td>\n",
       "      <td>0.444443</td>\n",
       "      <td>0.679242</td>\n",
       "      <td>0.380438</td>\n",
       "    </tr>\n",
       "    <tr>\n",
       "      <th>target_janet_v4_60</th>\n",
       "      <td>0.386239</td>\n",
       "      <td>0.386239</td>\n",
       "      <td>0.682460</td>\n",
       "      <td>0.339036</td>\n",
       "      <td>0.610300</td>\n",
       "      <td>0.392438</td>\n",
       "      <td>0.692647</td>\n",
       "      <td>0.388986</td>\n",
       "      <td>0.688227</td>\n",
       "      <td>0.393648</td>\n",
       "      <td>...</td>\n",
       "      <td>0.392584</td>\n",
       "      <td>0.682887</td>\n",
       "      <td>0.346254</td>\n",
       "      <td>0.602458</td>\n",
       "      <td>0.410976</td>\n",
       "      <td>0.721613</td>\n",
       "      <td>0.447774</td>\n",
       "      <td>0.841225</td>\n",
       "      <td>0.380781</td>\n",
       "      <td>0.669886</td>\n",
       "    </tr>\n",
       "    <tr>\n",
       "      <th>target_ben_v4_20</th>\n",
       "      <td>0.819984</td>\n",
       "      <td>0.819984</td>\n",
       "      <td>0.455332</td>\n",
       "      <td>0.718793</td>\n",
       "      <td>0.404616</td>\n",
       "      <td>0.811275</td>\n",
       "      <td>0.452137</td>\n",
       "      <td>0.781003</td>\n",
       "      <td>0.435003</td>\n",
       "      <td>0.815285</td>\n",
       "      <td>...</td>\n",
       "      <td>0.774470</td>\n",
       "      <td>0.421242</td>\n",
       "      <td>0.758041</td>\n",
       "      <td>0.417847</td>\n",
       "      <td>0.785595</td>\n",
       "      <td>0.440042</td>\n",
       "      <td>0.653304</td>\n",
       "      <td>0.363115</td>\n",
       "      <td>0.873032</td>\n",
       "      <td>0.477207</td>\n",
       "    </tr>\n",
       "    <tr>\n",
       "      <th>target_ben_v4_60</th>\n",
       "      <td>0.455371</td>\n",
       "      <td>0.455371</td>\n",
       "      <td>0.814605</td>\n",
       "      <td>0.403440</td>\n",
       "      <td>0.717350</td>\n",
       "      <td>0.450196</td>\n",
       "      <td>0.808209</td>\n",
       "      <td>0.433735</td>\n",
       "      <td>0.775015</td>\n",
       "      <td>0.445910</td>\n",
       "      <td>...</td>\n",
       "      <td>0.428769</td>\n",
       "      <td>0.759599</td>\n",
       "      <td>0.425654</td>\n",
       "      <td>0.746935</td>\n",
       "      <td>0.442674</td>\n",
       "      <td>0.777862</td>\n",
       "      <td>0.368801</td>\n",
       "      <td>0.641993</td>\n",
       "      <td>0.480992</td>\n",
       "      <td>0.868066</td>\n",
       "    </tr>\n",
       "    <tr>\n",
       "      <th>target_alan_v4_20</th>\n",
       "      <td>0.679708</td>\n",
       "      <td>0.679708</td>\n",
       "      <td>0.383144</td>\n",
       "      <td>0.597282</td>\n",
       "      <td>0.332948</td>\n",
       "      <td>0.691680</td>\n",
       "      <td>0.388008</td>\n",
       "      <td>0.667864</td>\n",
       "      <td>0.374793</td>\n",
       "      <td>0.666373</td>\n",
       "      <td>...</td>\n",
       "      <td>0.636716</td>\n",
       "      <td>0.352221</td>\n",
       "      <td>0.581884</td>\n",
       "      <td>0.329149</td>\n",
       "      <td>0.678452</td>\n",
       "      <td>0.378650</td>\n",
       "      <td>0.763088</td>\n",
       "      <td>0.414129</td>\n",
       "      <td>0.704193</td>\n",
       "      <td>0.385847</td>\n",
       "    </tr>\n",
       "    <tr>\n",
       "      <th>target_alan_v4_60</th>\n",
       "      <td>0.383552</td>\n",
       "      <td>0.383552</td>\n",
       "      <td>0.674669</td>\n",
       "      <td>0.332891</td>\n",
       "      <td>0.594239</td>\n",
       "      <td>0.389487</td>\n",
       "      <td>0.684635</td>\n",
       "      <td>0.374538</td>\n",
       "      <td>0.663971</td>\n",
       "      <td>0.373142</td>\n",
       "      <td>...</td>\n",
       "      <td>0.358383</td>\n",
       "      <td>0.624078</td>\n",
       "      <td>0.335640</td>\n",
       "      <td>0.569079</td>\n",
       "      <td>0.381267</td>\n",
       "      <td>0.672722</td>\n",
       "      <td>0.419067</td>\n",
       "      <td>0.755039</td>\n",
       "      <td>0.389346</td>\n",
       "      <td>0.696998</td>\n",
       "    </tr>\n",
       "    <tr>\n",
       "      <th>target_paul_v4_20</th>\n",
       "      <td>0.782010</td>\n",
       "      <td>0.782010</td>\n",
       "      <td>0.436680</td>\n",
       "      <td>0.687341</td>\n",
       "      <td>0.387036</td>\n",
       "      <td>0.780026</td>\n",
       "      <td>0.436151</td>\n",
       "      <td>0.787824</td>\n",
       "      <td>0.438792</td>\n",
       "      <td>0.818309</td>\n",
       "      <td>...</td>\n",
       "      <td>1.000000</td>\n",
       "      <td>0.499098</td>\n",
       "      <td>0.764901</td>\n",
       "      <td>0.427141</td>\n",
       "      <td>0.860241</td>\n",
       "      <td>0.480038</td>\n",
       "      <td>0.670867</td>\n",
       "      <td>0.379013</td>\n",
       "      <td>0.758332</td>\n",
       "      <td>0.426040</td>\n",
       "    </tr>\n",
       "    <tr>\n",
       "      <th>target_paul_v4_60</th>\n",
       "      <td>0.429850</td>\n",
       "      <td>0.429850</td>\n",
       "      <td>0.767359</td>\n",
       "      <td>0.379647</td>\n",
       "      <td>0.677148</td>\n",
       "      <td>0.427489</td>\n",
       "      <td>0.766819</td>\n",
       "      <td>0.431726</td>\n",
       "      <td>0.772580</td>\n",
       "      <td>0.442804</td>\n",
       "      <td>...</td>\n",
       "      <td>0.499098</td>\n",
       "      <td>1.000000</td>\n",
       "      <td>0.428179</td>\n",
       "      <td>0.758721</td>\n",
       "      <td>0.476344</td>\n",
       "      <td>0.846493</td>\n",
       "      <td>0.378700</td>\n",
       "      <td>0.656814</td>\n",
       "      <td>0.421838</td>\n",
       "      <td>0.742575</td>\n",
       "    </tr>\n",
       "    <tr>\n",
       "      <th>target_george_v4_20</th>\n",
       "      <td>0.723801</td>\n",
       "      <td>0.723801</td>\n",
       "      <td>0.408407</td>\n",
       "      <td>0.643454</td>\n",
       "      <td>0.363369</td>\n",
       "      <td>0.717996</td>\n",
       "      <td>0.405861</td>\n",
       "      <td>0.694034</td>\n",
       "      <td>0.391219</td>\n",
       "      <td>0.719982</td>\n",
       "      <td>...</td>\n",
       "      <td>0.764901</td>\n",
       "      <td>0.428179</td>\n",
       "      <td>1.000000</td>\n",
       "      <td>0.482488</td>\n",
       "      <td>0.746077</td>\n",
       "      <td>0.422183</td>\n",
       "      <td>0.599753</td>\n",
       "      <td>0.335528</td>\n",
       "      <td>0.731084</td>\n",
       "      <td>0.417295</td>\n",
       "    </tr>\n",
       "    <tr>\n",
       "      <th>target_george_v4_60</th>\n",
       "      <td>0.401362</td>\n",
       "      <td>0.401362</td>\n",
       "      <td>0.707522</td>\n",
       "      <td>0.356026</td>\n",
       "      <td>0.631416</td>\n",
       "      <td>0.397050</td>\n",
       "      <td>0.703632</td>\n",
       "      <td>0.383799</td>\n",
       "      <td>0.677991</td>\n",
       "      <td>0.394316</td>\n",
       "      <td>...</td>\n",
       "      <td>0.427141</td>\n",
       "      <td>0.758721</td>\n",
       "      <td>0.482488</td>\n",
       "      <td>1.000000</td>\n",
       "      <td>0.413548</td>\n",
       "      <td>0.725741</td>\n",
       "      <td>0.333293</td>\n",
       "      <td>0.579552</td>\n",
       "      <td>0.413233</td>\n",
       "      <td>0.718014</td>\n",
       "    </tr>\n",
       "    <tr>\n",
       "      <th>target_william_v4_20</th>\n",
       "      <td>0.863873</td>\n",
       "      <td>0.863873</td>\n",
       "      <td>0.482413</td>\n",
       "      <td>0.719232</td>\n",
       "      <td>0.406777</td>\n",
       "      <td>0.862220</td>\n",
       "      <td>0.481953</td>\n",
       "      <td>0.860645</td>\n",
       "      <td>0.479716</td>\n",
       "      <td>0.822856</td>\n",
       "      <td>...</td>\n",
       "      <td>0.860241</td>\n",
       "      <td>0.476344</td>\n",
       "      <td>0.746077</td>\n",
       "      <td>0.413548</td>\n",
       "      <td>1.000000</td>\n",
       "      <td>0.527408</td>\n",
       "      <td>0.737377</td>\n",
       "      <td>0.421820</td>\n",
       "      <td>0.848545</td>\n",
       "      <td>0.474758</td>\n",
       "    </tr>\n",
       "    <tr>\n",
       "      <th>target_william_v4_60</th>\n",
       "      <td>0.479346</td>\n",
       "      <td>0.479346</td>\n",
       "      <td>0.860768</td>\n",
       "      <td>0.403368</td>\n",
       "      <td>0.717176</td>\n",
       "      <td>0.476881</td>\n",
       "      <td>0.860602</td>\n",
       "      <td>0.476482</td>\n",
       "      <td>0.857644</td>\n",
       "      <td>0.459904</td>\n",
       "      <td>...</td>\n",
       "      <td>0.480038</td>\n",
       "      <td>0.846493</td>\n",
       "      <td>0.422183</td>\n",
       "      <td>0.725741</td>\n",
       "      <td>0.527408</td>\n",
       "      <td>1.000000</td>\n",
       "      <td>0.426008</td>\n",
       "      <td>0.732407</td>\n",
       "      <td>0.475722</td>\n",
       "      <td>0.843231</td>\n",
       "    </tr>\n",
       "    <tr>\n",
       "      <th>target_arthur_v4_20</th>\n",
       "      <td>0.716456</td>\n",
       "      <td>0.716456</td>\n",
       "      <td>0.404631</td>\n",
       "      <td>0.607384</td>\n",
       "      <td>0.340995</td>\n",
       "      <td>0.731516</td>\n",
       "      <td>0.411099</td>\n",
       "      <td>0.716941</td>\n",
       "      <td>0.405035</td>\n",
       "      <td>0.687460</td>\n",
       "      <td>...</td>\n",
       "      <td>0.670867</td>\n",
       "      <td>0.378700</td>\n",
       "      <td>0.599753</td>\n",
       "      <td>0.333293</td>\n",
       "      <td>0.737377</td>\n",
       "      <td>0.426008</td>\n",
       "      <td>1.000000</td>\n",
       "      <td>0.482284</td>\n",
       "      <td>0.712313</td>\n",
       "      <td>0.400200</td>\n",
       "    </tr>\n",
       "    <tr>\n",
       "      <th>target_arthur_v4_60</th>\n",
       "      <td>0.398748</td>\n",
       "      <td>0.398748</td>\n",
       "      <td>0.708969</td>\n",
       "      <td>0.336013</td>\n",
       "      <td>0.601476</td>\n",
       "      <td>0.406433</td>\n",
       "      <td>0.720778</td>\n",
       "      <td>0.399110</td>\n",
       "      <td>0.709887</td>\n",
       "      <td>0.383646</td>\n",
       "      <td>...</td>\n",
       "      <td>0.379013</td>\n",
       "      <td>0.656814</td>\n",
       "      <td>0.335528</td>\n",
       "      <td>0.579552</td>\n",
       "      <td>0.421820</td>\n",
       "      <td>0.732407</td>\n",
       "      <td>0.482284</td>\n",
       "      <td>1.000000</td>\n",
       "      <td>0.397131</td>\n",
       "      <td>0.702742</td>\n",
       "    </tr>\n",
       "    <tr>\n",
       "      <th>target_thomas_v4_20</th>\n",
       "      <td>0.881409</td>\n",
       "      <td>0.881409</td>\n",
       "      <td>0.490519</td>\n",
       "      <td>0.722729</td>\n",
       "      <td>0.411729</td>\n",
       "      <td>0.872040</td>\n",
       "      <td>0.487418</td>\n",
       "      <td>0.827829</td>\n",
       "      <td>0.463914</td>\n",
       "      <td>0.791267</td>\n",
       "      <td>...</td>\n",
       "      <td>0.758332</td>\n",
       "      <td>0.421838</td>\n",
       "      <td>0.731084</td>\n",
       "      <td>0.413233</td>\n",
       "      <td>0.848545</td>\n",
       "      <td>0.475722</td>\n",
       "      <td>0.712313</td>\n",
       "      <td>0.397131</td>\n",
       "      <td>1.000000</td>\n",
       "      <td>0.519848</td>\n",
       "    </tr>\n",
       "    <tr>\n",
       "      <th>target_thomas_v4_60</th>\n",
       "      <td>0.486783</td>\n",
       "      <td>0.486783</td>\n",
       "      <td>0.879609</td>\n",
       "      <td>0.408091</td>\n",
       "      <td>0.720453</td>\n",
       "      <td>0.481624</td>\n",
       "      <td>0.873001</td>\n",
       "      <td>0.459359</td>\n",
       "      <td>0.825606</td>\n",
       "      <td>0.441579</td>\n",
       "      <td>...</td>\n",
       "      <td>0.426040</td>\n",
       "      <td>0.742575</td>\n",
       "      <td>0.417295</td>\n",
       "      <td>0.718014</td>\n",
       "      <td>0.474758</td>\n",
       "      <td>0.843231</td>\n",
       "      <td>0.400200</td>\n",
       "      <td>0.702742</td>\n",
       "      <td>0.519848</td>\n",
       "      <td>1.000000</td>\n",
       "    </tr>\n",
       "  </tbody>\n",
       "</table>\n",
       "<p>29 rows × 29 columns</p>\n",
       "</div>"
      ],
      "text/plain": [
       "                        target  target_nomi_v4_20  target_nomi_v4_60   \n",
       "target                1.000000           1.000000           0.500773  \\\n",
       "target_nomi_v4_20     1.000000           1.000000           0.500773   \n",
       "target_nomi_v4_60     0.500773           0.500773           1.000000   \n",
       "target_tyler_v4_20    0.743445           0.743445           0.420377   \n",
       "target_tyler_v4_60    0.421980           0.421980           0.742888   \n",
       "target_victor_v4_20   0.944873           0.944873           0.495029   \n",
       "target_victor_v4_60   0.497212           0.497212           0.954337   \n",
       "target_ralph_v4_20    0.866302           0.866302           0.470585   \n",
       "target_ralph_v4_60    0.471679           0.471679           0.866328   \n",
       "target_waldo_v4_20    0.822285           0.822285           0.454590   \n",
       "target_waldo_v4_60    0.454295           0.454295           0.819175   \n",
       "target_jerome_v4_20   0.798061           0.798061           0.445267   \n",
       "target_jerome_v4_60   0.443519           0.443519           0.792348   \n",
       "target_janet_v4_20    0.690056           0.690056           0.389002   \n",
       "target_janet_v4_60    0.386239           0.386239           0.682460   \n",
       "target_ben_v4_20      0.819984           0.819984           0.455332   \n",
       "target_ben_v4_60      0.455371           0.455371           0.814605   \n",
       "target_alan_v4_20     0.679708           0.679708           0.383144   \n",
       "target_alan_v4_60     0.383552           0.383552           0.674669   \n",
       "target_paul_v4_20     0.782010           0.782010           0.436680   \n",
       "target_paul_v4_60     0.429850           0.429850           0.767359   \n",
       "target_george_v4_20   0.723801           0.723801           0.408407   \n",
       "target_george_v4_60   0.401362           0.401362           0.707522   \n",
       "target_william_v4_20  0.863873           0.863873           0.482413   \n",
       "target_william_v4_60  0.479346           0.479346           0.860768   \n",
       "target_arthur_v4_20   0.716456           0.716456           0.404631   \n",
       "target_arthur_v4_60   0.398748           0.398748           0.708969   \n",
       "target_thomas_v4_20   0.881409           0.881409           0.490519   \n",
       "target_thomas_v4_60   0.486783           0.486783           0.879609   \n",
       "\n",
       "                      target_tyler_v4_20  target_tyler_v4_60   \n",
       "target                          0.743445            0.421980  \\\n",
       "target_nomi_v4_20               0.743445            0.421980   \n",
       "target_nomi_v4_60               0.420377            0.742888   \n",
       "target_tyler_v4_20              1.000000            0.393337   \n",
       "target_tyler_v4_60              0.393337            1.000000   \n",
       "target_victor_v4_20             0.737327            0.416991   \n",
       "target_victor_v4_60             0.417217            0.738557   \n",
       "target_ralph_v4_20              0.709692            0.399665   \n",
       "target_ralph_v4_60              0.399233            0.708798   \n",
       "target_waldo_v4_20              0.720234            0.404190   \n",
       "target_waldo_v4_60              0.402331            0.720389   \n",
       "target_jerome_v4_20             0.703594            0.395247   \n",
       "target_jerome_v4_60             0.392303            0.701271   \n",
       "target_janet_v4_20              0.614166            0.342129   \n",
       "target_janet_v4_60              0.339036            0.610300   \n",
       "target_ben_v4_20                0.718793            0.404616   \n",
       "target_ben_v4_60                0.403440            0.717350   \n",
       "target_alan_v4_20               0.597282            0.332948   \n",
       "target_alan_v4_60               0.332891            0.594239   \n",
       "target_paul_v4_20               0.687341            0.387036   \n",
       "target_paul_v4_60               0.379647            0.677148   \n",
       "target_george_v4_20             0.643454            0.363369   \n",
       "target_george_v4_60             0.356026            0.631416   \n",
       "target_william_v4_20            0.719232            0.406777   \n",
       "target_william_v4_60            0.403368            0.717176   \n",
       "target_arthur_v4_20             0.607384            0.340995   \n",
       "target_arthur_v4_60             0.336013            0.601476   \n",
       "target_thomas_v4_20             0.722729            0.411729   \n",
       "target_thomas_v4_60             0.408091            0.720453   \n",
       "\n",
       "                      target_victor_v4_20  target_victor_v4_60   \n",
       "target                           0.944873             0.497212  \\\n",
       "target_nomi_v4_20                0.944873             0.497212   \n",
       "target_nomi_v4_60                0.495029             0.954337   \n",
       "target_tyler_v4_20               0.737327             0.417217   \n",
       "target_tyler_v4_60               0.416991             0.738557   \n",
       "target_victor_v4_20              1.000000             0.498801   \n",
       "target_victor_v4_60              0.498801             1.000000   \n",
       "target_ralph_v4_20               0.864092             0.470375   \n",
       "target_ralph_v4_60               0.469942             0.866269   \n",
       "target_waldo_v4_20               0.820644             0.454263   \n",
       "target_waldo_v4_60               0.452294             0.819032   \n",
       "target_jerome_v4_20              0.796114             0.444735   \n",
       "target_jerome_v4_60              0.441035             0.791844   \n",
       "target_janet_v4_20               0.702837             0.394432   \n",
       "target_janet_v4_60               0.392438             0.692647   \n",
       "target_ben_v4_20                 0.811275             0.452137   \n",
       "target_ben_v4_60                 0.450196             0.808209   \n",
       "target_alan_v4_20                0.691680             0.388008   \n",
       "target_alan_v4_60                0.389487             0.684635   \n",
       "target_paul_v4_20                0.780026             0.436151   \n",
       "target_paul_v4_60                0.427489             0.766819   \n",
       "target_george_v4_20              0.717996             0.405861   \n",
       "target_george_v4_60              0.397050             0.703632   \n",
       "target_william_v4_20             0.862220             0.481953   \n",
       "target_william_v4_60             0.476881             0.860602   \n",
       "target_arthur_v4_20              0.731516             0.411099   \n",
       "target_arthur_v4_60              0.406433             0.720778   \n",
       "target_thomas_v4_20              0.872040             0.487418   \n",
       "target_thomas_v4_60              0.481624             0.873001   \n",
       "\n",
       "                      target_ralph_v4_20  target_ralph_v4_60   \n",
       "target                          0.866302            0.471679  \\\n",
       "target_nomi_v4_20               0.866302            0.471679   \n",
       "target_nomi_v4_60               0.470585            0.866328   \n",
       "target_tyler_v4_20              0.709692            0.399233   \n",
       "target_tyler_v4_60              0.399665            0.708798   \n",
       "target_victor_v4_20             0.864092            0.469942   \n",
       "target_victor_v4_60             0.470375            0.866269   \n",
       "target_ralph_v4_20              1.000000            0.491720   \n",
       "target_ralph_v4_60              0.491720            1.000000   \n",
       "target_waldo_v4_20              0.866905            0.469920   \n",
       "target_waldo_v4_60              0.468285            0.862828   \n",
       "target_jerome_v4_20             0.805241            0.447467   \n",
       "target_jerome_v4_60             0.445551            0.798843   \n",
       "target_janet_v4_20              0.695230            0.392283   \n",
       "target_janet_v4_60              0.388986            0.688227   \n",
       "target_ben_v4_20                0.781003            0.435003   \n",
       "target_ben_v4_60                0.433735            0.775015   \n",
       "target_alan_v4_20               0.667864            0.374793   \n",
       "target_alan_v4_60               0.374538            0.663971   \n",
       "target_paul_v4_20               0.787824            0.438792   \n",
       "target_paul_v4_60               0.431726            0.772580   \n",
       "target_george_v4_20             0.694034            0.391219   \n",
       "target_george_v4_60             0.383799            0.677991   \n",
       "target_william_v4_20            0.860645            0.479716   \n",
       "target_william_v4_60            0.476482            0.857644   \n",
       "target_arthur_v4_20             0.716941            0.405035   \n",
       "target_arthur_v4_60             0.399110            0.709887   \n",
       "target_thomas_v4_20             0.827829            0.463914   \n",
       "target_thomas_v4_60             0.459359            0.825606   \n",
       "\n",
       "                      target_waldo_v4_20  ...  target_paul_v4_20   \n",
       "target                          0.822285  ...           0.782010  \\\n",
       "target_nomi_v4_20               0.822285  ...           0.782010   \n",
       "target_nomi_v4_60               0.454590  ...           0.436680   \n",
       "target_tyler_v4_20              0.720234  ...           0.687341   \n",
       "target_tyler_v4_60              0.404190  ...           0.387036   \n",
       "target_victor_v4_20             0.820644  ...           0.780026   \n",
       "target_victor_v4_60             0.454263  ...           0.436151   \n",
       "target_ralph_v4_20              0.866905  ...           0.787824   \n",
       "target_ralph_v4_60              0.469920  ...           0.438792   \n",
       "target_waldo_v4_20              1.000000  ...           0.818309   \n",
       "target_waldo_v4_60              0.485776  ...           0.449088   \n",
       "target_jerome_v4_20             0.844744  ...           0.910745   \n",
       "target_jerome_v4_60             0.458194  ...           0.481372   \n",
       "target_janet_v4_20              0.707401  ...           0.690488   \n",
       "target_janet_v4_60              0.393648  ...           0.392584   \n",
       "target_ben_v4_20                0.815285  ...           0.774470   \n",
       "target_ben_v4_60                0.445910  ...           0.428769   \n",
       "target_alan_v4_20               0.666373  ...           0.636716   \n",
       "target_alan_v4_60               0.373142  ...           0.358383   \n",
       "target_paul_v4_20               0.818309  ...           1.000000   \n",
       "target_paul_v4_60               0.442804  ...           0.499098   \n",
       "target_george_v4_20             0.719982  ...           0.764901   \n",
       "target_george_v4_60             0.394316  ...           0.427141   \n",
       "target_william_v4_20            0.822856  ...           0.860241   \n",
       "target_william_v4_60            0.459904  ...           0.480038   \n",
       "target_arthur_v4_20             0.687460  ...           0.670867   \n",
       "target_arthur_v4_60             0.383646  ...           0.379013   \n",
       "target_thomas_v4_20             0.791267  ...           0.758332   \n",
       "target_thomas_v4_60             0.441579  ...           0.426040   \n",
       "\n",
       "                      target_paul_v4_60  target_george_v4_20   \n",
       "target                         0.429850             0.723801  \\\n",
       "target_nomi_v4_20              0.429850             0.723801   \n",
       "target_nomi_v4_60              0.767359             0.408407   \n",
       "target_tyler_v4_20             0.379647             0.643454   \n",
       "target_tyler_v4_60             0.677148             0.363369   \n",
       "target_victor_v4_20            0.427489             0.717996   \n",
       "target_victor_v4_60            0.766819             0.405861   \n",
       "target_ralph_v4_20             0.431726             0.694034   \n",
       "target_ralph_v4_60             0.772580             0.391219   \n",
       "target_waldo_v4_20             0.442804             0.719982   \n",
       "target_waldo_v4_60             0.802831             0.401068   \n",
       "target_jerome_v4_20            0.475421             0.757360   \n",
       "target_jerome_v4_60            0.888310             0.420891   \n",
       "target_janet_v4_20             0.389216             0.620629   \n",
       "target_janet_v4_60             0.682887             0.346254   \n",
       "target_ben_v4_20               0.421242             0.758041   \n",
       "target_ben_v4_60               0.759599             0.425654   \n",
       "target_alan_v4_20              0.352221             0.581884   \n",
       "target_alan_v4_60              0.624078             0.335640   \n",
       "target_paul_v4_20              0.499098             0.764901   \n",
       "target_paul_v4_60              1.000000             0.428179   \n",
       "target_george_v4_20            0.428179             1.000000   \n",
       "target_george_v4_60            0.758721             0.482488   \n",
       "target_william_v4_20           0.476344             0.746077   \n",
       "target_william_v4_60           0.846493             0.422183   \n",
       "target_arthur_v4_20            0.378700             0.599753   \n",
       "target_arthur_v4_60            0.656814             0.335528   \n",
       "target_thomas_v4_20            0.421838             0.731084   \n",
       "target_thomas_v4_60            0.742575             0.417295   \n",
       "\n",
       "                      target_george_v4_60  target_william_v4_20   \n",
       "target                           0.401362              0.863873  \\\n",
       "target_nomi_v4_20                0.401362              0.863873   \n",
       "target_nomi_v4_60                0.707522              0.482413   \n",
       "target_tyler_v4_20               0.356026              0.719232   \n",
       "target_tyler_v4_60               0.631416              0.406777   \n",
       "target_victor_v4_20              0.397050              0.862220   \n",
       "target_victor_v4_60              0.703632              0.481953   \n",
       "target_ralph_v4_20               0.383799              0.860645   \n",
       "target_ralph_v4_60               0.677991              0.479716   \n",
       "target_waldo_v4_20               0.394316              0.822856   \n",
       "target_waldo_v4_60               0.704269              0.461756   \n",
       "target_jerome_v4_20              0.409677              0.879259   \n",
       "target_jerome_v4_60              0.736698              0.490512   \n",
       "target_janet_v4_20               0.341089              0.726462   \n",
       "target_janet_v4_60               0.602458              0.410976   \n",
       "target_ben_v4_20                 0.417847              0.785595   \n",
       "target_ben_v4_60                 0.746935              0.442674   \n",
       "target_alan_v4_20                0.329149              0.678452   \n",
       "target_alan_v4_60                0.569079              0.381267   \n",
       "target_paul_v4_20                0.427141              0.860241   \n",
       "target_paul_v4_60                0.758721              0.476344   \n",
       "target_george_v4_20              0.482488              0.746077   \n",
       "target_george_v4_60              1.000000              0.413548   \n",
       "target_william_v4_20             0.413548              1.000000   \n",
       "target_william_v4_60             0.725741              0.527408   \n",
       "target_arthur_v4_20              0.333293              0.737377   \n",
       "target_arthur_v4_60              0.579552              0.421820   \n",
       "target_thomas_v4_20              0.413233              0.848545   \n",
       "target_thomas_v4_60              0.718014              0.474758   \n",
       "\n",
       "                      target_william_v4_60  target_arthur_v4_20   \n",
       "target                            0.479346             0.716456  \\\n",
       "target_nomi_v4_20                 0.479346             0.716456   \n",
       "target_nomi_v4_60                 0.860768             0.404631   \n",
       "target_tyler_v4_20                0.403368             0.607384   \n",
       "target_tyler_v4_60                0.717176             0.340995   \n",
       "target_victor_v4_20               0.476881             0.731516   \n",
       "target_victor_v4_60               0.860602             0.411099   \n",
       "target_ralph_v4_20                0.476482             0.716941   \n",
       "target_ralph_v4_60                0.857644             0.405035   \n",
       "target_waldo_v4_20                0.459904             0.687460   \n",
       "target_waldo_v4_60                0.817940             0.388252   \n",
       "target_jerome_v4_20               0.488685             0.683024   \n",
       "target_jerome_v4_60               0.874739             0.391050   \n",
       "target_janet_v4_20                0.411256             0.846425   \n",
       "target_janet_v4_60                0.721613             0.447774   \n",
       "target_ben_v4_20                  0.440042             0.653304   \n",
       "target_ben_v4_60                  0.777862             0.368801   \n",
       "target_alan_v4_20                 0.378650             0.763088   \n",
       "target_alan_v4_60                 0.672722             0.419067   \n",
       "target_paul_v4_20                 0.480038             0.670867   \n",
       "target_paul_v4_60                 0.846493             0.378700   \n",
       "target_george_v4_20               0.422183             0.599753   \n",
       "target_george_v4_60               0.725741             0.333293   \n",
       "target_william_v4_20              0.527408             0.737377   \n",
       "target_william_v4_60              1.000000             0.426008   \n",
       "target_arthur_v4_20               0.426008             1.000000   \n",
       "target_arthur_v4_60               0.732407             0.482284   \n",
       "target_thomas_v4_20               0.475722             0.712313   \n",
       "target_thomas_v4_60               0.843231             0.400200   \n",
       "\n",
       "                      target_arthur_v4_60  target_thomas_v4_20   \n",
       "target                           0.398748             0.881409  \\\n",
       "target_nomi_v4_20                0.398748             0.881409   \n",
       "target_nomi_v4_60                0.708969             0.490519   \n",
       "target_tyler_v4_20               0.336013             0.722729   \n",
       "target_tyler_v4_60               0.601476             0.411729   \n",
       "target_victor_v4_20              0.406433             0.872040   \n",
       "target_victor_v4_60              0.720778             0.487418   \n",
       "target_ralph_v4_20               0.399110             0.827829   \n",
       "target_ralph_v4_60               0.709887             0.463914   \n",
       "target_waldo_v4_20               0.383646             0.791267   \n",
       "target_waldo_v4_60               0.678955             0.444664   \n",
       "target_jerome_v4_20              0.386939             0.776275   \n",
       "target_jerome_v4_60              0.675483             0.436372   \n",
       "target_janet_v4_20               0.444443             0.679242   \n",
       "target_janet_v4_60               0.841225             0.380781   \n",
       "target_ben_v4_20                 0.363115             0.873032   \n",
       "target_ben_v4_60                 0.641993             0.480992   \n",
       "target_alan_v4_20                0.414129             0.704193   \n",
       "target_alan_v4_60                0.755039             0.389346   \n",
       "target_paul_v4_20                0.379013             0.758332   \n",
       "target_paul_v4_60                0.656814             0.421838   \n",
       "target_george_v4_20              0.335528             0.731084   \n",
       "target_george_v4_60              0.579552             0.413233   \n",
       "target_william_v4_20             0.421820             0.848545   \n",
       "target_william_v4_60             0.732407             0.475722   \n",
       "target_arthur_v4_20              0.482284             0.712313   \n",
       "target_arthur_v4_60              1.000000             0.397131   \n",
       "target_thomas_v4_20              0.397131             1.000000   \n",
       "target_thomas_v4_60              0.702742             0.519848   \n",
       "\n",
       "                      target_thomas_v4_60  \n",
       "target                           0.486783  \n",
       "target_nomi_v4_20                0.486783  \n",
       "target_nomi_v4_60                0.879609  \n",
       "target_tyler_v4_20               0.408091  \n",
       "target_tyler_v4_60               0.720453  \n",
       "target_victor_v4_20              0.481624  \n",
       "target_victor_v4_60              0.873001  \n",
       "target_ralph_v4_20               0.459359  \n",
       "target_ralph_v4_60               0.825606  \n",
       "target_waldo_v4_20               0.441579  \n",
       "target_waldo_v4_60               0.785473  \n",
       "target_jerome_v4_20              0.434395  \n",
       "target_jerome_v4_60              0.767228  \n",
       "target_janet_v4_20               0.380438  \n",
       "target_janet_v4_60               0.669886  \n",
       "target_ben_v4_20                 0.477207  \n",
       "target_ben_v4_60                 0.868066  \n",
       "target_alan_v4_20                0.385847  \n",
       "target_alan_v4_60                0.696998  \n",
       "target_paul_v4_20                0.426040  \n",
       "target_paul_v4_60                0.742575  \n",
       "target_george_v4_20              0.417295  \n",
       "target_george_v4_60              0.718014  \n",
       "target_william_v4_20             0.474758  \n",
       "target_william_v4_60             0.843231  \n",
       "target_arthur_v4_20              0.400200  \n",
       "target_arthur_v4_60              0.702742  \n",
       "target_thomas_v4_20              0.519848  \n",
       "target_thomas_v4_60              1.000000  \n",
       "\n",
       "[29 rows x 29 columns]"
      ]
     },
     "execution_count": 8,
     "metadata": {},
     "output_type": "execute_result"
    }
   ],
   "source": [
    "# The targets have a wide range of correlations with each other from ~0.3 to ~0.9\n",
    "# This should allow the construction of many diverse models which ensemble nicely\n",
    "df[targets].corr()"
   ]
  },
  {
   "cell_type": "markdown",
   "metadata": {},
   "source": [
    "# 1191 features, no feature groups!"
   ]
  },
  {
   "cell_type": "code",
   "execution_count": null,
   "metadata": {},
   "outputs": [
    {
     "data": {
      "text/plain": [
       "<matplotlib.image.AxesImage at 0x290df1180>"
      ]
     },
     "execution_count": 9,
     "metadata": {},
     "output_type": "execute_result"
    },
    {
     "data": {
      "image/png": "[encoded data removed]",
      "text/plain": [
       "<Figure size 576x576 with 1 Axes>"
      ]
     },
     "metadata": {
      "needs_background": "light"
     },
     "output_type": "display_data"
    }
   ],
   "source": [
    "# The features are no longer explicit feature groups, but you can see some pretty obvious patterns if you\n",
    "# visualize the feature correlation matrix. Feel free to construct your own groupings!\n",
    "plt.figure(figsize = (8,8))\n",
    "plt.imshow(df[df.erano==574][features].corr())"
   ]
  },
  {
   "cell_type": "code",
   "execution_count": null,
   "metadata": {},
   "outputs": [],
   "source": [
    "# The models should be scored based on the rank-correlation (spearman) with the target\n",
    "def numerai_score(y_true, y_pred):\n",
    "    rank_pred = y_pred.groupby(eras).apply(lambda x: x.rank(pct=True, method=\"first\"))\n",
    "    return np.corrcoef(y_true, rank_pred)[0,1]\n",
    "\n",
    "# It can also be convenient while working to evaluate based on the regular (pearson) correlation\n",
    "def correlation_score(y_true, y_pred):\n",
    "    return np.corrcoef(y_true, y_pred)[0,1]"
   ]
  },
  {
   "cell_type": "code",
   "execution_count": null,
   "metadata": {},
   "outputs": [
    {
     "data": {
      "text/plain": [
       "count    2.420521e+06\n",
       "mean     3.042725e+02\n",
       "std      1.598538e+02\n",
       "min      1.000000e+00\n",
       "25%      1.720000e+02\n",
       "50%      3.040000e+02\n",
       "75%      4.430000e+02\n",
       "max      5.740000e+02\n",
       "Name: erano, dtype: float64"
      ]
     },
     "execution_count": 11,
     "metadata": {},
     "output_type": "execute_result"
    }
   ],
   "source": [
    "# There are 574 eras numbered from 1 to 574\n",
    "eras.describe()"
   ]
  },
  {
   "cell_type": "code",
   "execution_count": null,
   "metadata": {},
   "outputs": [
    {
     "data": {
      "text/plain": [
       "<AxesSubplot: xlabel='erano'>"
      ]
     },
     "execution_count": 12,
     "metadata": {},
     "output_type": "execute_result"
    },
    {
     "data": {
      "image/png": "[encoded data removed]",
      "text/plain": [
       "<Figure size 432x288 with 1 Axes>"
      ]
     },
     "metadata": {
      "needs_background": "light"
     },
     "output_type": "display_data"
    }
   ],
   "source": [
    "# The earlier eras are smaller, but generally each era is 4000-5000 rows\n",
    "df.groupby(eras).size().plot()"
   ]
  },
  {
   "cell_type": "code",
   "execution_count": null,
   "metadata": {},
   "outputs": [
    {
     "data": {
      "text/plain": [
       "target\n",
       "0.00    0.050007\n",
       "0.25    0.200001\n",
       "0.50    0.499975\n",
       "0.75    0.200014\n",
       "1.00    0.050003\n",
       "dtype: float64"
      ]
     },
     "execution_count": 13,
     "metadata": {},
     "output_type": "execute_result"
    }
   ],
   "source": [
    "# The target is discrete and takes on 5 different values with about 5% in 0 & 1, 20% in 0.75 & 0.25, and 50% in 0.50\n",
    "df.groupby(target).size()/len(df)"
   ]
  },
  {
   "cell_type": "code",
   "execution_count": null,
   "metadata": {},
   "outputs": [
    {
     "name": "stdout",
     "output_type": "stream",
     "text": [
      "target_william_v4_20\n",
      "0.000000    0.023195\n",
      "0.166667    0.059765\n",
      "0.333333    0.218543\n",
      "0.500000    0.387231\n",
      "0.666667    0.209928\n",
      "0.833333    0.064677\n",
      "1.000000    0.032295\n",
      "dtype: float64\n",
      "\n",
      "target_thomas_v4_20\n",
      "0.000000    0.017651\n",
      "0.166667    0.051188\n",
      "0.333333    0.203729\n",
      "0.500000    0.464680\n",
      "0.666667    0.183714\n",
      "0.833333    0.052028\n",
      "1.000000    0.023394\n",
      "dtype: float64\n"
     ]
    }
   ],
   "source": [
    "# Some new targets have a different distribution and the bins are less rigid in the percent of samples contained\n",
    "print(df.groupby('target_william_v4_20').size()/len(df))\n",
    "print()\n",
    "print(df.groupby('target_thomas_v4_20').size()/len(df))"
   ]
  },
  {
   "cell_type": "markdown",
   "metadata": {},
   "source": [
    "# Some of the features are very correlated\n",
    "Some even perfectly correlated within a particular era"
   ]
  },
  {
   "cell_type": "code",
   "execution_count": null,
   "metadata": {},
   "outputs": [],
   "source": [
    "feature_corrs = df[df.erano==574][features].corr()  # df.shape, [p x p], p - features"
   ]
  },
  {
   "cell_type": "code",
   "execution_count": null,
   "metadata": {},
   "outputs": [
    {
     "data": {
      "text/plain": [
       "feature_honoured_observational_balaamite  feature_honoured_observational_balaamite     1.000000\n",
       "                                          feature_polaroid_vadose_quinze               0.023532\n",
       "                                          feature_untidy_withdrawn_bargeman            0.150666\n",
       "                                          feature_genuine_kyphotic_trehala             0.257497\n",
       "                                          feature_unenthralled_sportful_schoolhouse   -0.191795\n",
       "dtype: float64"
      ]
     },
     "execution_count": 22,
     "metadata": {},
     "output_type": "execute_result"
    }
   ],
   "source": [
    "feature_corrs.stack().head() # df.shape => [p^2 x 1], index is a tuple (feature1, feature2)"
   ]
  },
  {
   "cell_type": "code",
   "execution_count": 50,
   "metadata": {},
   "outputs": [],
   "source": [
    "def plot_bar_df(df, columns):\n",
    "    return (\n",
    "        df.iloc[np.r_[0:5, -5:0]]\n",
    "        .style\n",
    "        .bar(subset=columns, align=\"mid\", color=[\"#d65f5f\", \"#5fba7d\"])\n",
    "    )"
   ]
  },
  {
   "cell_type": "code",
   "execution_count": 52,
   "metadata": {},
   "outputs": [
    {
     "data": {
      "text/html": [
       "<style type=\"text/css\">\n",
       "#T_70975_row0_col2 {\n",
       "  width: 10em;\n",
       "  background: linear-gradient(90deg, #d65f5f 49.3%, transparent 49.3%);\n",
       "}\n",
       "#T_70975_row1_col2 {\n",
       "  width: 10em;\n",
       "  background: linear-gradient(90deg, transparent 0.3%, #d65f5f 0.3%, #d65f5f 49.3%, transparent 49.3%);\n",
       "}\n",
       "#T_70975_row2_col2, #T_70975_row3_col2 {\n",
       "  width: 10em;\n",
       "  background: linear-gradient(90deg, transparent 0.4%, #d65f5f 0.4%, #d65f5f 49.3%, transparent 49.3%);\n",
       "}\n",
       "#T_70975_row4_col2 {\n",
       "  width: 10em;\n",
       "  background: linear-gradient(90deg, transparent 0.5%, #d65f5f 0.5%, #d65f5f 49.3%, transparent 49.3%);\n",
       "}\n",
       "#T_70975_row5_col2, #T_70975_row6_col2 {\n",
       "  width: 10em;\n",
       "  background: linear-gradient(90deg, transparent 49.3%, #5fba7d 49.3%, #5fba7d 99.8%, transparent 99.8%);\n",
       "}\n",
       "#T_70975_row7_col2, #T_70975_row8_col2 {\n",
       "  width: 10em;\n",
       "  background: linear-gradient(90deg, transparent 49.3%, #5fba7d 49.3%, #5fba7d 99.9%, transparent 99.9%);\n",
       "}\n",
       "#T_70975_row9_col2 {\n",
       "  width: 10em;\n",
       "  background: linear-gradient(90deg, transparent 49.3%, #5fba7d 49.3%, #5fba7d 100.0%, transparent 100.0%);\n",
       "}\n",
       "</style>\n",
       "<table id=\"T_70975\">\n",
       "  <thead>\n",
       "    <tr>\n",
       "      <th class=\"blank level0\" >&nbsp;</th>\n",
       "      <th id=\"T_70975_level0_col0\" class=\"col_heading level0 col0\" >feature_1</th>\n",
       "      <th id=\"T_70975_level0_col1\" class=\"col_heading level0 col1\" >feature_2</th>\n",
       "      <th id=\"T_70975_level0_col2\" class=\"col_heading level0 col2\" >corr</th>\n",
       "    </tr>\n",
       "  </thead>\n",
       "  <tbody>\n",
       "    <tr>\n",
       "      <th id=\"T_70975_level0_row0\" class=\"row_heading level0 row0\" >0</th>\n",
       "      <td id=\"T_70975_row0_col0\" class=\"data row0 col0\" >feature_optic_mycelial_whimper</td>\n",
       "      <td id=\"T_70975_row0_col1\" class=\"data row0 col1\" >feature_productile_auriform_fil</td>\n",
       "      <td id=\"T_70975_row0_col2\" class=\"data row0 col2\" >-0.965431</td>\n",
       "    </tr>\n",
       "    <tr>\n",
       "      <th id=\"T_70975_level0_row1\" class=\"row_heading level0 row1\" >1</th>\n",
       "      <td id=\"T_70975_row1_col0\" class=\"data row1 col0\" >feature_careworn_motivational_requisite</td>\n",
       "      <td id=\"T_70975_row1_col1\" class=\"data row1 col1\" >feature_loftier_sightly_lyric</td>\n",
       "      <td id=\"T_70975_row1_col2\" class=\"data row1 col2\" >-0.959288</td>\n",
       "    </tr>\n",
       "    <tr>\n",
       "      <th id=\"T_70975_level0_row2\" class=\"row_heading level0 row2\" >2</th>\n",
       "      <td id=\"T_70975_row2_col0\" class=\"data row2 col0\" >feature_applausive_forgettable_mishanter</td>\n",
       "      <td id=\"T_70975_row2_col1\" class=\"data row2 col1\" >feature_marled_coliform_proctorship</td>\n",
       "      <td id=\"T_70975_row2_col2\" class=\"data row2 col2\" >-0.958351</td>\n",
       "    </tr>\n",
       "    <tr>\n",
       "      <th id=\"T_70975_level0_row3\" class=\"row_heading level0 row3\" >3</th>\n",
       "      <td id=\"T_70975_row3_col0\" class=\"data row3 col0\" >feature_sodding_choosy_eruption</td>\n",
       "      <td id=\"T_70975_row3_col1\" class=\"data row3 col1\" >feature_utmost_excitable_emir</td>\n",
       "      <td id=\"T_70975_row3_col2\" class=\"data row3 col2\" >-0.957101</td>\n",
       "    </tr>\n",
       "    <tr>\n",
       "      <th id=\"T_70975_level0_row4\" class=\"row_heading level0 row4\" >4</th>\n",
       "      <td id=\"T_70975_row4_col0\" class=\"data row4 col0\" >feature_dissident_templed_shippon</td>\n",
       "      <td id=\"T_70975_row4_col1\" class=\"data row4 col1\" >feature_rose_buttoned_dandy</td>\n",
       "      <td id=\"T_70975_row4_col2\" class=\"data row4 col2\" >-0.956268</td>\n",
       "    </tr>\n",
       "    <tr>\n",
       "      <th id=\"T_70975_level0_row5\" class=\"row_heading level0 row5\" >1256900</th>\n",
       "      <td id=\"T_70975_row5_col0\" class=\"data row5 col0\" >feature_encysted_conventionalized_dematerialization</td>\n",
       "      <td id=\"T_70975_row5_col1\" class=\"data row5 col1\" >feature_wetter_unbaffled_loma</td>\n",
       "      <td id=\"T_70975_row5_col2\" class=\"data row5 col2\" >0.988130</td>\n",
       "    </tr>\n",
       "    <tr>\n",
       "      <th id=\"T_70975_level0_row6\" class=\"row_heading level0 row6\" >1256901</th>\n",
       "      <td id=\"T_70975_row6_col0\" class=\"data row6 col0\" >feature_ecstatic_foundational_crinoidea</td>\n",
       "      <td id=\"T_70975_row6_col1\" class=\"data row6 col1\" >feature_indusiate_canned_cosh</td>\n",
       "      <td id=\"T_70975_row6_col2\" class=\"data row6 col2\" >0.988130</td>\n",
       "    </tr>\n",
       "    <tr>\n",
       "      <th id=\"T_70975_level0_row7\" class=\"row_heading level0 row7\" >1256902</th>\n",
       "      <td id=\"T_70975_row7_col0\" class=\"data row7 col0\" >feature_faint_consociate_rhytidectomy</td>\n",
       "      <td id=\"T_70975_row7_col1\" class=\"data row7 col1\" >feature_mercian_luddite_aganippe</td>\n",
       "      <td id=\"T_70975_row7_col2\" class=\"data row7 col2\" >0.989067</td>\n",
       "    </tr>\n",
       "    <tr>\n",
       "      <th id=\"T_70975_level0_row8\" class=\"row_heading level0 row8\" >1256903</th>\n",
       "      <td id=\"T_70975_row8_col0\" class=\"data row8 col0\" >feature_liftable_direful_polyploid</td>\n",
       "      <td id=\"T_70975_row8_col1\" class=\"data row8 col1\" >feature_objective_micro_langton</td>\n",
       "      <td id=\"T_70975_row8_col2\" class=\"data row8 col2\" >0.990317</td>\n",
       "    </tr>\n",
       "    <tr>\n",
       "      <th id=\"T_70975_level0_row9\" class=\"row_heading level0 row9\" >1256904</th>\n",
       "      <td id=\"T_70975_row9_col0\" class=\"data row9 col0\" >feature_dustproof_unafraid_stampede</td>\n",
       "      <td id=\"T_70975_row9_col1\" class=\"data row9 col1\" >feature_neutered_postpositive_writ</td>\n",
       "      <td id=\"T_70975_row9_col2\" class=\"data row9 col2\" >0.991358</td>\n",
       "    </tr>\n",
       "  </tbody>\n",
       "</table>\n"
      ],
      "text/plain": [
       "<pandas.io.formats.style.Styler at 0x29148a590>"
      ]
     },
     "execution_count": 52,
     "metadata": {},
     "output_type": "execute_result"
    }
   ],
   "source": [
    "tdf = feature_corrs.stack()\n",
    "# Remove correlation of a feature with itself and remove duplicates (corr(A,B) = corr(B,A)).\n",
    "# `corr1.index.get_level_values(0) < corr1.index.get_level_values(1)` checks if a\n",
    "# feature name on the left is less than on the right.\n",
    "tdf = tdf[tdf.index.get_level_values(0) < tdf.index.get_level_values(1)]\n",
    "plot_bar_df(\n",
    "    df=(\n",
    "        tdf\n",
    "        .sort_values()\n",
    "        .to_frame()\n",
    "        .reset_index()\n",
    "        .rename(columns={\"level_0\": \"feature_1\", \"level_1\": \"feature_2\", 0: \"corr\"})\n",
    "    ),\n",
    "    columns=[\"corr\"],\n",
    ")"
   ]
  },
  {
   "cell_type": "markdown",
   "metadata": {},
   "source": [
    "### The correlation can change over time\n",
    "You can see this by comparing feature correlations on the first half and second half on the training set"
   ]
  },
  {
   "cell_type": "code",
   "execution_count": null,
   "metadata": {},
   "outputs": [
    {
     "name": "stdout",
     "output_type": "stream",
     "text": [
      "eras.median()=304.0\n"
     ]
    }
   ],
   "source": [
    "print(f\"{eras.median()=}\")"
   ]
  },
  {
   "cell_type": "code",
   "execution_count": null,
   "metadata": {},
   "outputs": [],
   "source": [
    "df1 = df[eras<=eras.median()]\n",
    "df2 = df[eras>eras.median()]"
   ]
  },
  {
   "cell_type": "code",
   "execution_count": null,
   "metadata": {},
   "outputs": [],
   "source": [
    "corr1 = df1[df1.erano==1][features].corr()  # df.shape, [p x p], p - features\n",
    "corr1 = corr1.unstack() # df.shape => [p^2 x 1], index is a tuple (feature1, feature2)\n",
    "corr1 = corr1[corr1.index.get_level_values(0) < corr1.index.get_level_values(1)]"
   ]
  },
  {
   "cell_type": "code",
   "execution_count": null,
   "metadata": {},
   "outputs": [],
   "source": [
    "corr2 = df2[df2.erano==574][features].corr().unstack()\n",
    "corr2 = corr2[corr2.index.get_level_values(0) < corr2.index.get_level_values(1)]"
   ]
  },
  {
   "cell_type": "code",
   "execution_count": 53,
   "metadata": {},
   "outputs": [
    {
     "data": {
      "text/html": [
       "<style type=\"text/css\">\n",
       "#T_8a775_row0_col2 {\n",
       "  width: 10em;\n",
       "  background: linear-gradient(90deg, transparent 18.1%, #5fba7d 18.1%, #5fba7d 26.3%, transparent 26.3%);\n",
       "}\n",
       "#T_8a775_row1_col2 {\n",
       "  width: 10em;\n",
       "  background: linear-gradient(90deg, transparent 18.1%, #5fba7d 18.1%, #5fba7d 21.6%, transparent 21.6%);\n",
       "}\n",
       "#T_8a775_row2_col2 {\n",
       "  width: 10em;\n",
       "  background: linear-gradient(90deg, transparent 2.0%, #d65f5f 2.0%, #d65f5f 18.1%, transparent 18.1%);\n",
       "}\n",
       "#T_8a775_row3_col2 {\n",
       "  width: 10em;\n",
       "  background: linear-gradient(90deg, #d65f5f 18.1%, transparent 18.1%);\n",
       "}\n",
       "#T_8a775_row4_col2 {\n",
       "  width: 10em;\n",
       "  background: linear-gradient(90deg, transparent 18.1%, #5fba7d 18.1%, #5fba7d 100.0%, transparent 100.0%);\n",
       "}\n",
       "#T_8a775_row5_col2, #T_8a775_row6_col2, #T_8a775_row7_col2, #T_8a775_row8_col2, #T_8a775_row9_col2 {\n",
       "  width: 10em;\n",
       "}\n",
       "</style>\n",
       "<table id=\"T_8a775\">\n",
       "  <thead>\n",
       "    <tr>\n",
       "      <th class=\"blank\" >&nbsp;</th>\n",
       "      <th class=\"blank level0\" >&nbsp;</th>\n",
       "      <th id=\"T_8a775_level0_col0\" class=\"col_heading level0 col0\" >corr1</th>\n",
       "      <th id=\"T_8a775_level0_col1\" class=\"col_heading level0 col1\" >corr2</th>\n",
       "      <th id=\"T_8a775_level0_col2\" class=\"col_heading level0 col2\" >corr_diff</th>\n",
       "    </tr>\n",
       "  </thead>\n",
       "  <tbody>\n",
       "    <tr>\n",
       "      <th id=\"T_8a775_level0_row0\" class=\"row_heading level0 row0\" rowspan=\"5\">feature_honoured_observational_balaamite</th>\n",
       "      <th id=\"T_8a775_level1_row0\" class=\"row_heading level1 row0\" >feature_polaroid_vadose_quinze</th>\n",
       "      <td id=\"T_8a775_row0_col0\" class=\"data row0 col0\" >0.002170</td>\n",
       "      <td id=\"T_8a775_row0_col1\" class=\"data row0 col1\" >0.023532</td>\n",
       "      <td id=\"T_8a775_row0_col2\" class=\"data row0 col2\" >0.021362</td>\n",
       "    </tr>\n",
       "    <tr>\n",
       "      <th id=\"T_8a775_level1_row1\" class=\"row_heading level1 row1\" >feature_untidy_withdrawn_bargeman</th>\n",
       "      <td id=\"T_8a775_row1_col0\" class=\"data row1 col0\" >0.141514</td>\n",
       "      <td id=\"T_8a775_row1_col1\" class=\"data row1 col1\" >0.150666</td>\n",
       "      <td id=\"T_8a775_row1_col2\" class=\"data row1 col2\" >0.009152</td>\n",
       "    </tr>\n",
       "    <tr>\n",
       "      <th id=\"T_8a775_level1_row2\" class=\"row_heading level1 row2\" >feature_unenthralled_sportful_schoolhouse</th>\n",
       "      <td id=\"T_8a775_row2_col0\" class=\"data row2 col0\" >-0.149952</td>\n",
       "      <td id=\"T_8a775_row2_col1\" class=\"data row2 col1\" >-0.191795</td>\n",
       "      <td id=\"T_8a775_row2_col2\" class=\"data row2 col2\" >-0.041843</td>\n",
       "    </tr>\n",
       "    <tr>\n",
       "      <th id=\"T_8a775_level1_row3\" class=\"row_heading level1 row3\" >feature_ichthyotic_roofed_yeshiva</th>\n",
       "      <td id=\"T_8a775_row3_col0\" class=\"data row3 col0\" >0.083173</td>\n",
       "      <td id=\"T_8a775_row3_col1\" class=\"data row3 col1\" >0.036131</td>\n",
       "      <td id=\"T_8a775_row3_col2\" class=\"data row3 col2\" >-0.047042</td>\n",
       "    </tr>\n",
       "    <tr>\n",
       "      <th id=\"T_8a775_level1_row4\" class=\"row_heading level1 row4\" >feature_waggly_outlandish_carbonisation</th>\n",
       "      <td id=\"T_8a775_row4_col0\" class=\"data row4 col0\" >0.108727</td>\n",
       "      <td id=\"T_8a775_row4_col1\" class=\"data row4 col1\" >0.322157</td>\n",
       "      <td id=\"T_8a775_row4_col2\" class=\"data row4 col2\" >0.213430</td>\n",
       "    </tr>\n",
       "    <tr>\n",
       "      <th id=\"T_8a775_level0_row5\" class=\"row_heading level0 row5\" rowspan=\"5\">feature_sleetier_sea_potamogeton</th>\n",
       "      <th id=\"T_8a775_level1_row5\" class=\"row_heading level1 row5\" >feature_yttric_tardigrade_quenelle</th>\n",
       "      <td id=\"T_8a775_row5_col0\" class=\"data row5 col0\" >nan</td>\n",
       "      <td id=\"T_8a775_row5_col1\" class=\"data row5 col1\" >0.204602</td>\n",
       "      <td id=\"T_8a775_row5_col2\" class=\"data row5 col2\" >nan</td>\n",
       "    </tr>\n",
       "    <tr>\n",
       "      <th id=\"T_8a775_level1_row6\" class=\"row_heading level1 row6\" >feature_tinny_entophytic_applier</th>\n",
       "      <td id=\"T_8a775_row6_col0\" class=\"data row6 col0\" >nan</td>\n",
       "      <td id=\"T_8a775_row6_col1\" class=\"data row6 col1\" >0.218555</td>\n",
       "      <td id=\"T_8a775_row6_col2\" class=\"data row6 col2\" >nan</td>\n",
       "    </tr>\n",
       "    <tr>\n",
       "      <th id=\"T_8a775_level1_row7\" class=\"row_heading level1 row7\" >feature_unthanked_smitten_berk</th>\n",
       "      <td id=\"T_8a775_row7_col0\" class=\"data row7 col0\" >nan</td>\n",
       "      <td id=\"T_8a775_row7_col1\" class=\"data row7 col1\" >0.183153</td>\n",
       "      <td id=\"T_8a775_row7_col2\" class=\"data row7 col2\" >nan</td>\n",
       "    </tr>\n",
       "    <tr>\n",
       "      <th id=\"T_8a775_level1_row8\" class=\"row_heading level1 row8\" >feature_yokelish_metapsychological_lunt</th>\n",
       "      <td id=\"T_8a775_row8_col0\" class=\"data row8 col0\" >nan</td>\n",
       "      <td id=\"T_8a775_row8_col1\" class=\"data row8 col1\" >0.497085</td>\n",
       "      <td id=\"T_8a775_row8_col2\" class=\"data row8 col2\" >nan</td>\n",
       "    </tr>\n",
       "    <tr>\n",
       "      <th id=\"T_8a775_level1_row9\" class=\"row_heading level1 row9\" >feature_squallier_prototypal_dammar</th>\n",
       "      <td id=\"T_8a775_row9_col0\" class=\"data row9 col0\" >nan</td>\n",
       "      <td id=\"T_8a775_row9_col1\" class=\"data row9 col1\" >0.524781</td>\n",
       "      <td id=\"T_8a775_row9_col2\" class=\"data row9 col2\" >nan</td>\n",
       "    </tr>\n",
       "  </tbody>\n",
       "</table>\n"
      ],
      "text/plain": [
       "<pandas.io.formats.style.Styler at 0x291489f00>"
      ]
     },
     "execution_count": 53,
     "metadata": {},
     "output_type": "execute_result"
    }
   ],
   "source": [
    "tdf = pd.DataFrame({\n",
    "    \"corr1\": corr1,\n",
    "    \"corr2\": corr2,\n",
    "})\n",
    "tdf[\"corr_diff\"] = tdf.corr2 - tdf.corr1\n",
    "(\n",
    "    tdf\n",
    "    .iloc[np.r_[0:5, -5:0]]\n",
    "    .style\n",
    "    .bar(subset=[\"corr_diff\"], align=\"mid\", color=[\"#d65f5f\", \"#5fba7d\"])\n",
    ")\n",
    "plot_bar_df(df=tdf, columns=[\"corr_diff\"])"
   ]
  },
  {
   "cell_type": "markdown",
   "metadata": {},
   "source": [
    "## Some features are predictive on their own"
   ]
  },
  {
   "cell_type": "code",
   "execution_count": 42,
   "metadata": {},
   "outputs": [],
   "source": [
    "# First row is the target, the rest are the features\n",
    "X_lastera = df[df.erano==574][[target]+features].values.astype(float).T \n",
    "feature_scores = {feature: score for feature, score in zip(features, np.corrcoef(X_lastera)[1:,0])}"
   ]
  },
  {
   "cell_type": "code",
   "execution_count": 56,
   "metadata": {},
   "outputs": [
    {
     "data": {
      "text/html": [
       "<style type=\"text/css\">\n",
       "#T_d389e_row0_col0 {\n",
       "  width: 10em;\n",
       "  background: linear-gradient(90deg, #d65f5f 49.9%, transparent 49.9%);\n",
       "}\n",
       "#T_d389e_row1_col0 {\n",
       "  width: 10em;\n",
       "  background: linear-gradient(90deg, transparent 1.9%, #d65f5f 1.9%, #d65f5f 49.9%, transparent 49.9%);\n",
       "}\n",
       "#T_d389e_row2_col0 {\n",
       "  width: 10em;\n",
       "  background: linear-gradient(90deg, transparent 2.1%, #d65f5f 2.1%, #d65f5f 49.9%, transparent 49.9%);\n",
       "}\n",
       "#T_d389e_row3_col0 {\n",
       "  width: 10em;\n",
       "  background: linear-gradient(90deg, transparent 2.7%, #d65f5f 2.7%, #d65f5f 49.9%, transparent 49.9%);\n",
       "}\n",
       "#T_d389e_row4_col0 {\n",
       "  width: 10em;\n",
       "  background: linear-gradient(90deg, transparent 3.8%, #d65f5f 3.8%, #d65f5f 49.9%, transparent 49.9%);\n",
       "}\n",
       "#T_d389e_row5_col0 {\n",
       "  width: 10em;\n",
       "  background: linear-gradient(90deg, transparent 49.9%, #5fba7d 49.9%, #5fba7d 97.1%, transparent 97.1%);\n",
       "}\n",
       "#T_d389e_row6_col0 {\n",
       "  width: 10em;\n",
       "  background: linear-gradient(90deg, transparent 49.9%, #5fba7d 49.9%, #5fba7d 97.5%, transparent 97.5%);\n",
       "}\n",
       "#T_d389e_row7_col0 {\n",
       "  width: 10em;\n",
       "  background: linear-gradient(90deg, transparent 49.9%, #5fba7d 49.9%, #5fba7d 97.9%, transparent 97.9%);\n",
       "}\n",
       "#T_d389e_row8_col0 {\n",
       "  width: 10em;\n",
       "  background: linear-gradient(90deg, transparent 49.9%, #5fba7d 49.9%, #5fba7d 99.3%, transparent 99.3%);\n",
       "}\n",
       "#T_d389e_row9_col0 {\n",
       "  width: 10em;\n",
       "  background: linear-gradient(90deg, transparent 49.9%, #5fba7d 49.9%, #5fba7d 100.0%, transparent 100.0%);\n",
       "}\n",
       "</style>\n",
       "<table id=\"T_d389e\">\n",
       "  <thead>\n",
       "    <tr>\n",
       "      <th class=\"blank level0\" >&nbsp;</th>\n",
       "      <th id=\"T_d389e_level0_col0\" class=\"col_heading level0 col0\" >corr_w_target</th>\n",
       "    </tr>\n",
       "  </thead>\n",
       "  <tbody>\n",
       "    <tr>\n",
       "      <th id=\"T_d389e_level0_row0\" class=\"row_heading level0 row0\" >feature_primogenital_paralytic_minx</th>\n",
       "      <td id=\"T_d389e_row0_col0\" class=\"data row0 col0\" >-0.055771</td>\n",
       "    </tr>\n",
       "    <tr>\n",
       "      <th id=\"T_d389e_level0_row1\" class=\"row_heading level0 row1\" >feature_photic_untunable_father</th>\n",
       "      <td id=\"T_d389e_row1_col0\" class=\"data row1 col0\" >-0.053633</td>\n",
       "    </tr>\n",
       "    <tr>\n",
       "      <th id=\"T_d389e_level0_row2\" class=\"row_heading level0 row2\" >feature_falsifiable_performative_maxixe</th>\n",
       "      <td id=\"T_d389e_row2_col0\" class=\"data row2 col0\" >-0.053468</td>\n",
       "    </tr>\n",
       "    <tr>\n",
       "      <th id=\"T_d389e_level0_row3\" class=\"row_heading level0 row3\" >feature_uninvested_unwishful_scoria</th>\n",
       "      <td id=\"T_d389e_row3_col0\" class=\"data row3 col0\" >-0.052810</td>\n",
       "    </tr>\n",
       "    <tr>\n",
       "      <th id=\"T_d389e_level0_row4\" class=\"row_heading level0 row4\" >feature_illuvial_algebraic_modem</th>\n",
       "      <td id=\"T_d389e_row4_col0\" class=\"data row4 col0\" >-0.051494</td>\n",
       "    </tr>\n",
       "    <tr>\n",
       "      <th id=\"T_d389e_level0_row5\" class=\"row_heading level0 row5\" >feature_sixteenth_foliate_ovary</th>\n",
       "      <td id=\"T_d389e_row5_col0\" class=\"data row5 col0\" >0.052646</td>\n",
       "    </tr>\n",
       "    <tr>\n",
       "      <th id=\"T_d389e_level0_row6\" class=\"row_heading level0 row6\" >feature_revelational_natty_nephralgia</th>\n",
       "      <td id=\"T_d389e_row6_col0\" class=\"data row6 col0\" >0.053139</td>\n",
       "    </tr>\n",
       "    <tr>\n",
       "      <th id=\"T_d389e_level0_row7\" class=\"row_heading level0 row7\" >feature_undreamt_crescive_alternator</th>\n",
       "      <td id=\"T_d389e_row7_col0\" class=\"data row7 col0\" >0.053633</td>\n",
       "    </tr>\n",
       "    <tr>\n",
       "      <th id=\"T_d389e_level0_row8\" class=\"row_heading level0 row8\" >feature_steadier_untrenched_bernstein</th>\n",
       "      <td id=\"T_d389e_row8_col0\" class=\"data row8 col0\" >0.055114</td>\n",
       "    </tr>\n",
       "    <tr>\n",
       "      <th id=\"T_d389e_level0_row9\" class=\"row_heading level0 row9\" >feature_uninforming_predictable_pepino</th>\n",
       "      <td id=\"T_d389e_row9_col0\" class=\"data row9 col0\" >0.055936</td>\n",
       "    </tr>\n",
       "  </tbody>\n",
       "</table>\n"
      ],
      "text/plain": [
       "<pandas.io.formats.style.Styler at 0x2a40e67d0>"
      ]
     },
     "execution_count": 56,
     "metadata": {},
     "output_type": "execute_result"
    }
   ],
   "source": [
    "plot_bar_df(pd.Series(feature_scores).sort_values().to_frame().rename(columns={0: \"corr_w_target\"}), columns=[\"corr_w_target\"])"
   ]
  },
  {
   "cell_type": "code",
   "execution_count": 58,
   "metadata": {},
   "outputs": [
    {
     "data": {
      "text/plain": [
       "<AxesSubplot: >"
      ]
     },
     "execution_count": 58,
     "metadata": {},
     "output_type": "execute_result"
    },
    {
     "data": {
      "image/png": "[encoded data removed]",
      "text/plain": [
       "<Figure size 432x288 with 1 Axes>"
      ]
     },
     "metadata": {
      "needs_background": "light"
     },
     "output_type": "display_data"
    }
   ],
   "source": [
    "# Single features do not work consistently though\n",
    "by_era_correlation = pd.Series({\n",
    "    era: np.corrcoef(tdf[target].astype(float), tdf[\"feature_untidy_withdrawn_bargeman\"].astype(float))[0,1]\n",
    "    for era, tdf in df.groupby(eras)\n",
    "})\n",
    "by_era_correlation.plot()"
   ]
  },
  {
   "cell_type": "code",
   "execution_count": 59,
   "metadata": {},
   "outputs": [
    {
     "data": {
      "text/plain": [
       "<AxesSubplot: >"
      ]
     },
     "execution_count": 59,
     "metadata": {},
     "output_type": "execute_result"
    },
    {
     "data": {
      "image/png": "[encoded data removed]",
      "text/plain": [
       "<Figure size 432x288 with 1 Axes>"
      ]
     },
     "metadata": {
      "needs_background": "light"
     },
     "output_type": "display_data"
    }
   ],
   "source": [
    "# With a rolling 10 era average you can see some trends\n",
    "by_era_correlation.rolling(10).mean().plot()"
   ]
  },
  {
   "cell_type": "markdown",
   "metadata": {},
   "source": [
    "## The feature exposures of different targets can be very different, even orthogonal"
   ]
  },
  {
   "cell_type": "code",
   "execution_count": null,
   "metadata": {},
   "outputs": [],
   "source": [
    "feature_scores_nomi20 = {feature: score for feature, score in zip(features, np.corrcoef(df[df.era=='0001'][['target_nomi_v4_20']+features].T)[1:,0])}"
   ]
  },
  {
   "cell_type": "code",
   "execution_count": null,
   "metadata": {},
   "outputs": [],
   "source": [
    "feature_scores_nomi60 = {feature: score for feature, score in zip(features, np.corrcoef(df[df.era=='0001'][['target_nomi_v4_60']+features].fillna(0.5).T)[1:,0])}"
   ]
  },
  {
   "cell_type": "code",
   "execution_count": null,
   "metadata": {},
   "outputs": [],
   "source": [
    "plt.scatter(feature_scores_nomi20.values(), feature_scores_nomi60.values())\n",
    "print(np.corrcoef(list(feature_scores_nomi20.values()), list(feature_scores_nomi60.values()))[0,1])"
   ]
  },
  {
   "cell_type": "code",
   "execution_count": null,
   "metadata": {},
   "outputs": [],
   "source": [
    "feature_scores_jerome = {feature: score for feature, score in zip(features, np.corrcoef(df[df.era=='0001'][['target_jerome_v4_60']+features].fillna(0.5).T)[1:,0])}"
   ]
  },
  {
   "cell_type": "code",
   "execution_count": null,
   "metadata": {},
   "outputs": [],
   "source": [
    "feature_scores_ben = {feature: score for feature, score in zip(features, np.corrcoef(df[df.era=='0001'][['target_ben_v4_20']+features].fillna(0.5).T)[1:,0])}"
   ]
  },
  {
   "cell_type": "code",
   "execution_count": null,
   "metadata": {},
   "outputs": [],
   "source": [
    "plt.scatter(feature_scores_jerome.values(), feature_scores_ben.values())\n",
    "print(np.corrcoef(list(feature_scores_jerome.values()), list(feature_scores_ben.values()))[0,1])"
   ]
  },
  {
   "cell_type": "markdown",
   "metadata": {},
   "source": [
    "# Gotcha: MSE looks worse than correlation out of sample\n",
    "Models will generally be overconfident, so even if they are good at ranking rows, the Mean-Squared-Error of the residuals could be larger than even the Mean-Squared-Error of the target (r-squared<0)"
   ]
  },
  {
   "cell_type": "code",
   "execution_count": null,
   "metadata": {},
   "outputs": [],
   "source": [
    "df1 = df[eras<=eras.median()]\n",
    "df2 = df[eras>eras.median()]"
   ]
  },
  {
   "cell_type": "code",
   "execution_count": 66,
   "metadata": {},
   "outputs": [
    {
     "name": "stdout",
     "output_type": "stream",
     "text": [
      "len(not_null_feats)=1206\n"
     ]
    }
   ],
   "source": [
    "# Columns with null values in df\n",
    "null_cols = df.columns[df.isnull().any()]\n",
    "not_null_cols = set(df.columns) - set(null_cols)\n",
    "not_null_feats = [col for col in df.columns if col in not_null_cols and col in features]\n",
    "print(f\"{len(not_null_feats)=}\")"
   ]
  },
  {
   "cell_type": "code",
   "execution_count": 67,
   "metadata": {},
   "outputs": [],
   "source": [
    "linear1 = linear_model.LinearRegression()\n",
    "linear1.fit(df1[not_null_feats], df1[target])\n",
    "linear2 = linear_model.LinearRegression()\n",
    "linear2.fit(df2[not_null_feats], df2[target])"
   ]
  },
  {
   "cell_type": "code",
   "execution_count": null,
   "metadata": {},
   "outputs": [],
   "source": [
    "# Note in particular that the R-squared of (train_on_1, eval_on_2) is slightly negative!\n",
    "r2 = [\n",
    "    [\n",
    "        model.score(dfX[features], dfX[target])\n",
    "        for dfX in [df1, df2]\n",
    "    ]\n",
    "    for model in [linear1, linear2]\n",
    "]\n",
    "pd.DataFrame(r2, columns=[\"eval_on_1\", \"eval_on_2\"], index=[\"train_on_1\", \"train_on_2\"])"
   ]
  },
  {
   "cell_type": "code",
   "execution_count": null,
   "metadata": {},
   "outputs": [],
   "source": [
    "# Note in particular that the correlation of (train_on_1, eval_on_2) is quite decent\n",
    "corrs = [\n",
    "    [\n",
    "        numerai_score(dfX[target], pd.Series(model.predict(dfX[features]), index=dfX.index))\n",
    "        for dfX in [df1, df2]\n",
    "    ]\n",
    "    for model in [linear1, linear2]\n",
    "]\n",
    "pd.DataFrame(corrs, columns=[\"eval_on_1\", \"eval_on_2\"], index=[\"train_on_1\", \"train_on_2\"])"
   ]
  },
  {
   "cell_type": "code",
   "execution_count": null,
   "metadata": {},
   "outputs": [],
   "source": [
    "# This can be be run with LightGBM as well"
   ]
  },
  {
   "cell_type": "code",
   "execution_count": null,
   "metadata": {},
   "outputs": [],
   "source": [
    "lgb1 = lightgbm.LGBMRegressor()\n",
    "lgb1.fit(df1[features], df1[target])\n",
    "lgb2 = lightgbm.LGBMRegressor()\n",
    "lgb2.fit(df2[features], df2[target])"
   ]
  },
  {
   "cell_type": "code",
   "execution_count": null,
   "metadata": {},
   "outputs": [],
   "source": [
    "r2 = [\n",
    "    [\n",
    "        model.score(dfX[features], dfX[target])\n",
    "        for dfX in [df1, df2]\n",
    "    ]\n",
    "    for model in [lgb1, lgb2]\n",
    "]\n",
    "pd.DataFrame(r2, columns=[\"eval_on_1\", \"eval_on_2\"], index=[\"train_on_1\", \"train_on_2\"])"
   ]
  },
  {
   "cell_type": "code",
   "execution_count": null,
   "metadata": {},
   "outputs": [],
   "source": [
    "corrs = [\n",
    "    [\n",
    "        numerai_score(dfX[target], pd.Series(model.predict(dfX[features]), index=dfX.index))\n",
    "        for dfX in [df1, df2]\n",
    "    ]\n",
    "    for model in [lgb1, lgb2]\n",
    "]\n",
    "pd.DataFrame(corrs, columns=[\"eval_on_1\", \"eval_on_2\"], index=[\"train_on_1\", \"train_on_2\"])"
   ]
  },
  {
   "cell_type": "markdown",
   "metadata": {},
   "source": [
    "# Gotcha: Eras are now overlapping!\n",
    "\n",
    "Eras are weekly (5 days), but the target is four weeks out (20 days). You can subsample the eras (every 4th era) to prevent models from overfitting due to overlapping eras. You can then ensemble the models trained on each of the 4 different ways to subsample."
   ]
  },
  {
   "cell_type": "code",
   "execution_count": null,
   "metadata": {},
   "outputs": [],
   "source": [
    "# train model on all eras in df1\n",
    "lgb_all = lightgbm.LGBMRegressor()\n",
    "lgb_all.fit(df1[features], df1[target])"
   ]
  },
  {
   "cell_type": "code",
   "execution_count": null,
   "metadata": {},
   "outputs": [],
   "source": [
    "lgb_all.feature_name_"
   ]
  },
  {
   "cell_type": "code",
   "execution_count": null,
   "metadata": {},
   "outputs": [],
   "source": [
    "# train models on subsamples eras in df1\n",
    "lgb1 = lightgbm.LGBMRegressor()\n",
    "lgb1.fit(df1[eras.isin(np.arange(1, 304, 4))][features], df1[eras.isin(np.arange(1, 304, 4))][target])\n",
    "\n",
    "lgb2 = lightgbm.LGBMRegressor()\n",
    "lgb2.fit(df1[eras.isin(np.arange(2, 304, 4))][features], df1[eras.isin(np.arange(2, 304, 4))][target])\n",
    "\n",
    "lgb3 = lightgbm.LGBMRegressor()\n",
    "lgb3.fit(df1[eras.isin(np.arange(3, 304, 4))][features], df1[eras.isin(np.arange(3, 304, 4))][target])\n",
    "\n",
    "lgb4 = lightgbm.LGBMRegressor()\n",
    "lgb4.fit(df1[eras.isin(np.arange(4, 304, 4))][features], df1[eras.isin(np.arange(4, 304, 4))][target])"
   ]
  },
  {
   "cell_type": "code",
   "execution_count": null,
   "metadata": {},
   "outputs": [],
   "source": [
    "# calculate predictions for each model\n",
    "preds = [\n",
    "        pd.Series(model.predict(df2[features]), index=df2.index)\n",
    "    for model in [lgb_all, lgb1, lgb2, lgb3, lgb4]\n",
    "]"
   ]
  },
  {
   "cell_type": "code",
   "execution_count": null,
   "metadata": {},
   "outputs": [],
   "source": [
    "# numerai score of model trained on all eras of df1\n",
    "numerai_score(df2[target], preds[0])"
   ]
  },
  {
   "cell_type": "code",
   "execution_count": null,
   "metadata": {},
   "outputs": [],
   "source": [
    "# numerai score of ensemble of models trained on all subsampled eras of df1\n",
    "numerai_score(df2[target], pd.concat(preds, axis=1)[[1,2,3,4]].mean(axis=1))"
   ]
  },
  {
   "cell_type": "markdown",
   "metadata": {},
   "source": [
    "# Gotcha: eras are homogenous, but different from each other\n",
    "##  Random cross-validation will look much better than cross-validating by era\n",
    "\n",
    "Even for a simple linear model, taking a random shuffle reports a correlation of ~5.1%, but a time series split reports a lower score of ~2.6%"
   ]
  },
  {
   "cell_type": "markdown",
   "metadata": {},
   "source": [
    "# Gotcha: Eras are now overlapping!\n",
    "##  Even era-wise cross-validation will now have leakage!\n",
    "Eras are weekly (5 days), but the target is four weeks out (20 days). You can either use blocks of eras and purge the overlapping sections or subsample the eras (every 4th era) to make them not overlapping and prevent leakage"
   ]
  },
  {
   "cell_type": "code",
   "execution_count": 5,
   "metadata": {},
   "outputs": [
    {
     "name": "stderr",
     "output_type": "stream",
     "text": [
      "/var/folders/yb/bysg0gmj6sdb_006hzx07fjc0000gn/T/ipykernel_83120/729810413.py:3: UserWarning: Boolean Series key will be reindexed to match DataFrame index.\n",
      "  df1 = df[eras<=eras.median()]\n",
      "/var/folders/yb/bysg0gmj6sdb_006hzx07fjc0000gn/T/ipykernel_83120/729810413.py:4: UserWarning: Boolean Series key will be reindexed to match DataFrame index.\n",
      "  df2 = df[eras>eras.median()]\n"
     ]
    }
   ],
   "source": [
    "# Subsample data to every 4th era to prevent overlapping eras\n",
    "df = df[eras.isin(np.arange(1, 575, 4))]\n",
    "df1 = df[eras<=eras.median()]\n",
    "df2 = df[eras>eras.median()]\n",
    "eras = eras[eras.isin(np.arange(1, 575, 4))]"
   ]
  },
  {
   "cell_type": "code",
   "execution_count": null,
   "metadata": {},
   "outputs": [],
   "source": [
    "# Because the TimeSeriesSplit class in sklearn does not use groups and won't respect era boundries, we implement\n",
    "# a version that will\n",
    "\n",
    "from sklearn.model_selection._split import _BaseKFold, indexable, _num_samples\n",
    "\n",
    "class TimeSeriesSplitGroups(_BaseKFold):\n",
    "    def __init__(self, n_splits=5):\n",
    "        super().__init__(n_splits, shuffle=False, random_state=None)\n",
    "\n",
    "    def split(self, X, y=None, groups=None):\n",
    "        X, y, groups = indexable(X, y, groups)\n",
    "        n_samples = _num_samples(X)\n",
    "        n_splits = self.n_splits\n",
    "        n_folds = n_splits + 1\n",
    "        group_list = np.unique(groups)\n",
    "        n_groups = len(group_list)\n",
    "        if n_folds > n_groups:\n",
    "            raise ValueError(\n",
    "                (\"Cannot have number of folds ={0} greater\"\n",
    "                 \" than the number of samples: {1}.\").format(n_folds,\n",
    "                                                             n_groups))\n",
    "        indices = np.arange(n_samples)\n",
    "        test_size = (n_groups // n_folds)\n",
    "        test_starts = range(test_size + n_groups % n_folds,\n",
    "                            n_groups, test_size)\n",
    "        test_starts = list(test_starts)[::-1]\n",
    "        for test_start in test_starts:\n",
    "            \n",
    "            yield (indices[groups.isin(group_list[:test_start])],\n",
    "                   indices[groups.isin(group_list[test_start:test_start + test_size])])\n"
   ]
  },
  {
   "cell_type": "code",
   "execution_count": null,
   "metadata": {},
   "outputs": [],
   "source": [
    "crossvalidators = [\n",
    "    model_selection.KFold(5),\n",
    "    model_selection.KFold(5, shuffle=True),\n",
    "    model_selection.GroupKFold(5),\n",
    "    TimeSeriesSplitGroups(5)\n",
    "]"
   ]
  },
  {
   "cell_type": "code",
   "execution_count": null,
   "metadata": {},
   "outputs": [],
   "source": [
    "def correlation_score(y_true, y_pred):\n",
    "    return np.corrcoef(y_true, y_pred)[0,1]"
   ]
  },
  {
   "cell_type": "code",
   "execution_count": null,
   "metadata": {},
   "outputs": [],
   "source": [
    "for cv in crossvalidators:\n",
    "    print(cv)\n",
    "    print(np.mean(\n",
    "            model_selection.cross_val_score(\n",
    "            linear_model.LinearRegression(),\n",
    "            df[features],\n",
    "            df[target],\n",
    "            cv=cv,\n",
    "            n_jobs=1,\n",
    "            groups=eras,\n",
    "            scoring=metrics.make_scorer(correlation_score, greater_is_better=True)\n",
    "        )))\n",
    "    print()"
   ]
  },
  {
   "cell_type": "markdown",
   "metadata": {},
   "source": [
    "# Gotcha:  {0, 1} are noticeably different from {0.25, 0.75}\n",
    "This makes training a classifier one-versus-rest behave counterintuitively.\n",
    "\n",
    "Specifically, a multinomial classifier seem to learn how to pick out extreme targets, and their predictions are the most correlated"
   ]
  },
  {
   "cell_type": "code",
   "execution_count": null,
   "metadata": {},
   "outputs": [],
   "source": [
    "# Train a standard logistic regression as a classifier\n",
    "logistic = linear_model.LogisticRegression(multi_class='multinomial', solver='saga')\n",
    "logistic.fit(df1[features], (df1[target]*4).astype(int))\n",
    "logistic.score(df1[features], (df1[target]*4).astype(int))"
   ]
  },
  {
   "cell_type": "code",
   "execution_count": null,
   "metadata": {},
   "outputs": [],
   "source": [
    "# The first and last class are highly correlated\n",
    "corrs=np.corrcoef(logistic.predict_proba(df2[features]).T)\n",
    "plt.imshow(corrs, vmin=-1, vmax=1, cmap=\"RdYlGn\")\n",
    "corrs"
   ]
  },
  {
   "cell_type": "code",
   "execution_count": null,
   "metadata": {},
   "outputs": [],
   "source": [
    "# Out-of-sample correlation is 3.5%\n",
    "preds = pd.Series(logistic.predict_proba(df2[features]).dot(logistic.classes_), index=df2.index)\n",
    "numerai_score(df2[target], preds)"
   ]
  },
  {
   "cell_type": "code",
   "execution_count": null,
   "metadata": {},
   "outputs": [],
   "source": [
    "# A standard linear model has a slightly lower correlation out-of-sample\n",
    "linear = linear_model.LinearRegression()\n",
    "linear.fit(df1[features], df1[target])\n",
    "linear.score(df2[features], df2[target])\n",
    "preds = pd.Series(linear.predict(df2[features]), index=df2.index)\n",
    "numerai_score(df2[target], preds)"
   ]
  },
  {
   "cell_type": "markdown",
   "metadata": {},
   "source": [
    "## Eras can be more or less applicable to other eras\n",
    "You can test this be splitting the eras into blocks of 15, training on each block, and evaluating on each other block."
   ]
  },
  {
   "cell_type": "code",
   "execution_count": null,
   "metadata": {},
   "outputs": [],
   "source": [
    "# convert the subsampled era labels to continuous integers\n",
    "eras_sub = (eras-1)//4"
   ]
  },
  {
   "cell_type": "code",
   "execution_count": null,
   "metadata": {},
   "outputs": [],
   "source": [
    "eras15 = (eras_sub // 15) * 15\n",
    "eras15.value_counts()"
   ]
  },
  {
   "cell_type": "code",
   "execution_count": null,
   "metadata": {},
   "outputs": [],
   "source": [
    "results15 = []\n",
    "for train_era, tdf in df.groupby(eras15):\n",
    "    print(train_era)\n",
    "    model = linear_model.LinearRegression()\n",
    "    model.fit(tdf[features], tdf[target])\n",
    "    for test_era, tdf in df.groupby(eras15):\n",
    "        results15.append([\n",
    "            train_era,\n",
    "            test_era,\n",
    "            correlation_score(tdf[target], model.predict(tdf[features]))\n",
    "        ])"
   ]
  },
  {
   "cell_type": "code",
   "execution_count": null,
   "metadata": {},
   "outputs": [],
   "source": [
    "results_df = pd.DataFrame(\n",
    "    results15,\n",
    "    columns=[\"train_era\", \"test_era\", \"score\"]\n",
    ").pivot(index=\"train_era\", columns=\"test_era\", values=\"score\")\n",
    "results_df"
   ]
  },
  {
   "cell_type": "code",
   "execution_count": null,
   "metadata": {},
   "outputs": [],
   "source": [
    "# Each row here is the training block of eras, each column is a testing block of eras.\n",
    "# Note that there is a period in the early groups that does not seem to be relevant to other eras, and the\n",
    "# overall performance seems to decrease a bit over time.\n",
    "plt.figure(figsize=(15,15))\n",
    "plt.imshow(results_df, vmin=-0.04, vmax=0.04, cmap=\"RdYlGn\")"
   ]
  },
  {
   "cell_type": "markdown",
   "metadata": {
    "pycharm": {
     "name": "#%% md\n"
    }
   },
   "source": [
    "Here is an advanced paper that talks about generalization.\n",
    "Eras can be thought about in the same way that \"distributions\" or \"environments\" are talked about here\n",
    "https://arxiv.org/pdf/1907.02893.pdf"
   ]
  },
  {
   "cell_type": "markdown",
   "metadata": {},
   "source": [
    "## Gotcha: Since the signal-to-noise ratio is so low, models can take many more iterations than expected, and have scarily high in-sample performance"
   ]
  },
  {
   "cell_type": "code",
   "execution_count": null,
   "metadata": {},
   "outputs": [],
   "source": [
    "def our_score(preds, dtrain):\n",
    "    return \"score\", -np.corrcoef(preds, dtrain.get_label())[0,1], False\n",
    "\n",
    "df1 = df[eras<=eras.median()]\n",
    "df2 = df[eras>eras.median()]"
   ]
  },
  {
   "cell_type": "code",
   "execution_count": null,
   "metadata": {},
   "outputs": [],
   "source": [
    "dtrain = lightgbm.Dataset(df1[features], df1[target])\n",
    "dtest = lightgbm.Dataset(df2[features], df2[target])\n",
    "dall = lightgbm.Dataset(df[features], df[target])"
   ]
  },
  {
   "cell_type": "code",
   "execution_count": null,
   "metadata": {
    "scrolled": false
   },
   "outputs": [],
   "source": [
    "param = {\n",
    "    'max_depth':3,\n",
    "    'eta':0.1,\n",
    "    'objective':'regression',\n",
    "    'metric':'mse',\n",
    "    'nthread': -1,\n",
    "}\n",
    "evals_result = {}\n",
    "bst = lightgbm.train(\n",
    "    params=param,\n",
    "    train_set=dtrain,\n",
    "    feval=our_score,\n",
    "    num_boost_round=500,\n",
    "    valid_sets=[dtrain, dtest],\n",
    "    valid_names=['train', 'test'],\n",
    "    evals_result=evals_result,\n",
    "    verbose_eval=20,\n",
    ")\n",
    "\n",
    "(-pd.DataFrame({k: v['score'] for k,v in evals_result.items()})).plot(ylim=[0,0.25])"
   ]
  },
  {
   "cell_type": "markdown",
   "metadata": {},
   "source": [
    "# The results are sensitive to the choice of parameters, which should be picked through cross-validation"
   ]
  },
  {
   "cell_type": "code",
   "execution_count": 8,
   "metadata": {},
   "outputs": [],
   "source": [
    "df1 = df[eras<=eras.median()]\n",
    "df2 = df[eras>eras.median()]"
   ]
  },
  {
   "cell_type": "code",
   "execution_count": null,
   "metadata": {},
   "outputs": [],
   "source": [
    "models = [\n",
    "    linear_model.LinearRegression(),\n",
    "] + [\n",
    "    linear_model.ElasticNet(alpha=alpha)\n",
    "    for alpha in [0.01, 0.005, 0.002, 0.001, 0.0005, 0.0002, 0.0001, 0.00005, 0.00002, 0.00001]\n",
    "] + [\n",
    "    lightgbm.LGBMRegressor(n_jobs=-1),\n",
    "    lightgbm.LGBMRegressor(n_jobs=-1, learning_rate=0.01, n_estimators=1000),\n",
    "    lightgbm.LGBMRegressor(n_jobs=-1, colsample_bytree=0.1, learning_rate=0.01, n_estimators=1000),\n",
    "    lightgbm.LGBMRegressor(n_jobs=-1, colsample_bytree=0.1, learning_rate=0.01, n_estimators=1000, max_depth=5),\n",
    "    lightgbm.LGBMRegressor(n_jobs=-1, colsample_bytree=0.1, learning_rate=0.001, n_estimators=10000, max_depth=5),\n",
    "]"
   ]
  },
  {
   "cell_type": "code",
   "execution_count": null,
   "metadata": {
    "scrolled": false
   },
   "outputs": [],
   "source": [
    "for model in models:\n",
    "    print(\" -- \", model)   \n",
    "    model.fit(df1[features], df1[target])\n",
    "    outsample = numerai_score(df2[target], pd.Series(model.predict(df2[features]), index=df2.index))\n",
    "    insample = numerai_score(df1[target], pd.Series(model.predict(df1[features]), index=df1.index))\n",
    "    print(\n",
    "        f\"outsample: {outsample}, insample: {insample}\"\n",
    "    )\n",
    "    print()"
   ]
  },
  {
   "cell_type": "markdown",
   "metadata": {},
   "source": [
    "## Gotcha: Models with large exposures to individual features tend to perform poorly or inconsistently out of sample ## \n"
   ]
  },
  {
   "cell_type": "code",
   "execution_count": 5,
   "metadata": {},
   "outputs": [],
   "source": [
    "import numpy as np\n",
    "import scipy.stats\n",
    "import gc"
   ]
  },
  {
   "cell_type": "code",
   "execution_count": 17,
   "metadata": {},
   "outputs": [
    {
     "data": {
      "text/plain": [
       "(10790, 1618)"
      ]
     },
     "execution_count": 17,
     "metadata": {},
     "output_type": "execute_result"
    }
   ],
   "source": [
    "# Subsample data to every 4th era to prevent overlapping eras\n",
    "df = df[eras.isin(np.arange(1, 575, 128))]\n",
    "df = df.infer_objects()\n",
    "df1 = df[eras<=eras.median()]\n",
    "df2 = df[eras>eras.median()]\n",
    "eras = eras[eras.isin(np.arange(1, 575, 128))]\n",
    "eras = eras[eras.isin(np.arange(1, 575, 128))]\n",
    "gc.collect()\n",
    "df1.shape"
   ]
  },
  {
   "cell_type": "code",
   "execution_count": 7,
   "metadata": {},
   "outputs": [],
   "source": [
    "# Train a standard xgboost on half the train eras\n",
    "lgb = lightgbm.LGBMRegressor(n_estimators=1000, max_depth=5, learning_rate=0.01, n_jobs=-1)\n",
    "lgb.fit(df1[features].astype(np.float32), df1[target].astype(np.float32))\n",
    "lgb_preds = lgb.predict(df2[features].astype(np.float32))"
   ]
  },
  {
   "cell_type": "markdown",
   "metadata": {},
   "source": [
    "### Our predictions have correlation < -0.4 and > 0.20 for some single features!\n",
    "Sure hope those features continue to act as they have in the past!"
   ]
  },
  {
   "cell_type": "code",
   "execution_count": 8,
   "metadata": {},
   "outputs": [
    {
     "data": {
      "text/plain": [
       "count    1586.000000\n",
       "mean        0.009322\n",
       "std         0.045233\n",
       "min        -0.135964\n",
       "25%        -0.020689\n",
       "50%         0.010335\n",
       "75%         0.037769\n",
       "max         0.183820\n",
       "dtype: float64"
      ]
     },
     "execution_count": 8,
     "metadata": {},
     "output_type": "execute_result"
    }
   ],
   "source": [
    "corr_list = []\n",
    "for feature in features:\n",
    "    corr_list.append(np.corrcoef(df2[feature].astype(float), lgb_preds)[0,1])\n",
    "corr_series = pd.Series(corr_list, index=features)\n",
    "corr_series.describe()"
   ]
  },
  {
   "cell_type": "code",
   "execution_count": 14,
   "metadata": {},
   "outputs": [],
   "source": [
    "from sklearn.preprocessing import MinMaxScaler\n",
    "import scipy\n",
    "\n",
    "def neutralize(df,\n",
    "               columns,\n",
    "               neutralizers=None,\n",
    "               proportion=1.0,\n",
    "               normalize=True,\n",
    "               era_col=\"era\"):\n",
    "    if neutralizers is None:\n",
    "        neutralizers = []\n",
    "    unique_eras = df[era_col].unique()\n",
    "    computed = []\n",
    "    for u in unique_eras:\n",
    "        print(u, end=\"\\r\")\n",
    "        df_era = df[df[era_col] == u]\n",
    "        scores = df_era[columns].values.astype(float)\n",
    "        if normalize:\n",
    "            scores2 = []\n",
    "            for x in scores.T:\n",
    "                x = (scipy.stats.rankdata(x, method='ordinal') - .5) / len(x)\n",
    "                x = scipy.stats.norm.ppf(x)\n",
    "                scores2.append(x)\n",
    "            scores = np.array(scores2).T\n",
    "        exposures = df_era[neutralizers].values.astype(float)\n",
    "        scores -= proportion * exposures @ np.linalg.pinv(exposures) @ scores\n",
    "        scores /= scores.std(ddof=0)\n",
    "        computed.append(scores)\n",
    "    return pd.DataFrame(np.concatenate(computed), columns=columns, index=df.index)"
   ]
  },
  {
   "cell_type": "code",
   "execution_count": 19,
   "metadata": {},
   "outputs": [
    {
     "name": "stderr",
     "output_type": "stream",
     "text": [
      "/var/folders/yb/bysg0gmj6sdb_006hzx07fjc0000gn/T/ipykernel_84049/381184919.py:1: SettingWithCopyWarning: \n",
      "A value is trying to be set on a copy of a slice from a DataFrame.\n",
      "Try using .loc[row_indexer,col_indexer] = value instead\n",
      "\n",
      "See the caveats in the documentation: https://pandas.pydata.org/pandas-docs/stable/user_guide/indexing.html#returning-a-view-versus-a-copy\n",
      "  df2[\"preds\"] = lgb_preds\n"
     ]
    },
    {
     "name": "stdout",
     "output_type": "stream",
     "text": [
      "0513\r"
     ]
    }
   ],
   "source": [
    "df2[\"preds\"] = lgb_preds\n",
    "# make tgt_feat_cols columns in df as np.float32\n",
    "df2 = df2.infer_objects()\n",
    "df2[\"preds_neutralized\"] = neutralize(df2, \n",
    "                                      columns=[\"preds\"], \n",
    "                                      neutralizers=features, \n",
    "                                      proportion=0.5, # neutralize by 50% within each era\n",
    "                                      normalize=True,\n",
    "                                      era_col='era') \n",
    "\n",
    "scaler = MinMaxScaler()\n",
    "df2[\"preds_neutralized\"] = scaler.fit_transform(df2[[\"preds_neutralized\"]]) # transform back to 0-1"
   ]
  },
  {
   "attachments": {},
   "cell_type": "markdown",
   "metadata": {},
   "source": [
    "### Now our single feature exposures are much smaller"
   ]
  },
  {
   "cell_type": "code",
   "execution_count": 21,
   "metadata": {},
   "outputs": [],
   "source": [
    "corr_list2 = []\n",
    "for feature in features:\n",
    "    corr_list2.append(np.corrcoef(df2[feature].astype(float), df2[\"preds_neutralized\"].astype(float))[0,1])\n",
    "corr_series2 = pd.Series(corr_list2, index=features)"
   ]
  },
  {
   "cell_type": "code",
   "execution_count": 22,
   "metadata": {},
   "outputs": [
    {
     "data": {
      "text/plain": [
       "count    1586.000000\n",
       "mean        0.007753\n",
       "std         0.029973\n",
       "min        -0.086486\n",
       "25%        -0.011587\n",
       "50%         0.008073\n",
       "75%         0.026516\n",
       "max         0.122735\n",
       "dtype: float64"
      ]
     },
     "execution_count": 22,
     "metadata": {},
     "output_type": "execute_result"
    }
   ],
   "source": [
    "corr_series2.describe()"
   ]
  },
  {
   "cell_type": "code",
   "execution_count": 32,
   "metadata": {},
   "outputs": [],
   "source": [
    "era_col = \"era\"\n",
    "unique_eras = df2[era_col].unique()\n",
    "neutralizers = features\n",
    "normalize = True\n",
    "columns = [\"preds\"]\n",
    "computed = []\n",
    "proportion = 0.5"
   ]
  },
  {
   "cell_type": "code",
   "execution_count": 33,
   "metadata": {},
   "outputs": [
    {
     "name": "stdout",
     "output_type": "stream",
     "text": [
      "0385\n"
     ]
    }
   ],
   "source": [
    "u = unique_eras[0]\n",
    "print(u)"
   ]
  },
  {
   "cell_type": "code",
   "execution_count": 34,
   "metadata": {},
   "outputs": [],
   "source": [
    "df_era = df2[df2[era_col] == u]\n",
    "scores = df_era[columns].values.astype(float)"
   ]
  },
  {
   "cell_type": "code",
   "execution_count": 52,
   "metadata": {},
   "outputs": [
    {
     "data": {
      "text/plain": [
       "(array([1.300e+01, 6.900e+01, 4.590e+02, 1.470e+03, 1.661e+03, 5.990e+02,\n",
       "        1.190e+02, 1.900e+01, 4.000e+00, 1.000e+00]),\n",
       " array([0.33139007, 0.37238038, 0.41337069, 0.45436101, 0.49535132,\n",
       "        0.53634164, 0.57733195, 0.61832226, 0.65931258, 0.70030289,\n",
       "        0.74129321]),\n",
       " <BarContainer object of 10 artists>)"
      ]
     },
     "execution_count": 52,
     "metadata": {},
     "output_type": "execute_result"
    },
    {
     "data": {
      "image/png": "[encoded data removed]",
      "text/plain": [
       "<Figure size 432x288 with 1 Axes>"
      ]
     },
     "metadata": {
      "needs_background": "light"
     },
     "output_type": "display_data"
    }
   ],
   "source": [
    "x = scores.T[0]\n",
    "plt.hist(x)"
   ]
  },
  {
   "cell_type": "code",
   "execution_count": null,
   "metadata": {},
   "outputs": [],
   "source": [
    "exposures = df_era[neutralizers].values.astype(float)\n",
    "scores -= proportion * exposures @ np.linalg.pinv(exposures) @ scores\n",
    "scores /= scores.std(ddof=0)\n",
    "computed.append(scores)"
   ]
  },
  {
   "cell_type": "markdown",
   "metadata": {},
   "source": [
    "### Our overall score goes down, but the scores are more consistent than before. This leads to a higher sharpe"
   ]
  },
  {
   "cell_type": "code",
   "execution_count": 24,
   "metadata": {},
   "outputs": [
    {
     "name": "stdout",
     "output_type": "stream",
     "text": [
      "score for high feature exposure: 0.00022235880087093964\n",
      "score for balanced feature expo: 0.0032372034643258947\n",
      "std for high feature exposure: 0.020299406067780988\n",
      "std for balanced feature expo: 0.004956026674713385\n",
      "sharpe for high feature exposure: 0.010953955998932662\n",
      "sharpe for balanced feature expo: 0.6531852382560285\n"
     ]
    }
   ],
   "source": [
    "unbalanced_scores_per_era = df2.groupby(\"era\").apply(lambda d: np.corrcoef(d[\"preds\"], d[target])[0,1])\n",
    "balanced_scores_per_era = df2.groupby(\"era\").apply(lambda d: np.corrcoef(d[\"preds_neutralized\"], d[target])[0,1])\n",
    "\n",
    "print(f\"score for high feature exposure: {unbalanced_scores_per_era.mean()}\")\n",
    "print(f\"score for balanced feature expo: {balanced_scores_per_era.mean()}\")\n",
    "\n",
    "print(f\"std for high feature exposure: {unbalanced_scores_per_era.std(ddof=0)}\")\n",
    "print(f\"std for balanced feature expo: {balanced_scores_per_era.std(ddof=0)}\")\n",
    "\n",
    "print(f\"sharpe for high feature exposure: {unbalanced_scores_per_era.mean()/unbalanced_scores_per_era.std(ddof=0)}\")\n",
    "print(f\"sharpe for balanced feature expo: {balanced_scores_per_era.mean()/balanced_scores_per_era.std(ddof=0)}\")"
   ]
  },
  {
   "cell_type": "code",
   "execution_count": 25,
   "metadata": {},
   "outputs": [
    {
     "data": {
      "text/plain": [
       "count    2.000000\n",
       "mean     0.003237\n",
       "std      0.007009\n",
       "min     -0.001719\n",
       "25%      0.000759\n",
       "50%      0.003237\n",
       "75%      0.005715\n",
       "max      0.008193\n",
       "dtype: float64"
      ]
     },
     "execution_count": 25,
     "metadata": {},
     "output_type": "execute_result"
    }
   ],
   "source": [
    "balanced_scores_per_era.describe()"
   ]
  },
  {
   "cell_type": "code",
   "execution_count": 26,
   "metadata": {},
   "outputs": [
    {
     "data": {
      "text/plain": [
       "count    2.000000\n",
       "mean     0.000222\n",
       "std      0.028708\n",
       "min     -0.020077\n",
       "25%     -0.009927\n",
       "50%      0.000222\n",
       "75%      0.010372\n",
       "max      0.020522\n",
       "dtype: float64"
      ]
     },
     "execution_count": 26,
     "metadata": {},
     "output_type": "execute_result"
    }
   ],
   "source": [
    "unbalanced_scores_per_era.describe()"
   ]
  },
  {
   "cell_type": "markdown",
   "metadata": {},
   "source": [
    "## We can also try to be more clever about what features we neutralize\n",
    "### The \"riskiest\" features are the features the predictions are most exposed to that also have the highest volatility "
   ]
  },
  {
   "cell_type": "code",
   "execution_count": null,
   "metadata": {},
   "outputs": [],
   "source": [
    "# compute feature correlations with target on the first half data\n",
    "all_feature_corrs = df1.groupby('era').apply(lambda d: d[features].corrwith(d[target]))\n",
    "# compute the volatility of the feature correlations\n",
    "feature_corr_volatility = all_feature_corrs.std()"
   ]
  },
  {
   "cell_type": "code",
   "execution_count": null,
   "metadata": {},
   "outputs": [],
   "source": [
    "# calculate the feature exposures of the predictions\n",
    "feature_exposure_list = []\n",
    "for feature in features:\n",
    "    feature_exposure_list.append(np.corrcoef(df2[feature], lgb_preds)[0,1])\n",
    "feature_exposure_list = pd.Series(feature_exposure_list, index=features)"
   ]
  },
  {
   "cell_type": "code",
   "execution_count": null,
   "metadata": {},
   "outputs": [],
   "source": [
    "# get list of 100 riskiest features\n",
    "riskiest_features = (feature_exposure_list.abs()*feature_corr_volatility).sort_values()[-100:].index.tolist()"
   ]
  },
  {
   "cell_type": "code",
   "execution_count": null,
   "metadata": {},
   "outputs": [],
   "source": [
    "# 50% neutralize to the riskiest features\n",
    "df2[\"preds_neutralized_riskiest_100\"] = neutralize(df2, \n",
    "                                                  columns=[\"preds\"], \n",
    "                                                  neutralizers=riskiest_features, \n",
    "                                                  proportion=0.5, # 50% neutralize only those 100 features\n",
    "                                                  normalize=True, \n",
    "                                                  era_col='era')\n",
    "\n",
    "scaler = MinMaxScaler()\n",
    "df2[\"preds_neutralized_riskiest_100\"] = scaler.fit_transform(df2[[\"preds_neutralized_riskiest_100\"]]) # transform back to 0-1"
   ]
  },
  {
   "cell_type": "markdown",
   "metadata": {},
   "source": [
    "### The score goes down less and the sharpe goes up more than 50% neutralizing all the features"
   ]
  },
  {
   "cell_type": "code",
   "execution_count": null,
   "metadata": {},
   "outputs": [],
   "source": [
    "unbalanced_scores_per_era = df2.groupby(\"era\").apply(lambda d: np.corrcoef(d[\"preds\"], d[target])[0,1])\n",
    "balanced_scores_per_era = df2.groupby(\"era\").apply(lambda d: np.corrcoef(d[\"preds_neutralized_riskiest_100\"], d[target])[0,1])\n",
    "\n",
    "print(f\"score for high feature exposure: {unbalanced_scores_per_era.mean()}\")\n",
    "print(f\"score for balanced feature expo: {balanced_scores_per_era.mean()}\")\n",
    "\n",
    "print(f\"std for high feature exposure: {unbalanced_scores_per_era.std(ddof=0)}\")\n",
    "print(f\"std for balanced feature expo: {balanced_scores_per_era.std(ddof=0)}\")\n",
    "\n",
    "print(f\"sharpe for high feature exposure: {unbalanced_scores_per_era.mean()/unbalanced_scores_per_era.std(ddof=0)}\")\n",
    "print(f\"sharpe for balanced feature expo: {balanced_scores_per_era.mean()/balanced_scores_per_era.std(ddof=0)}\")"
   ]
  },
  {
   "cell_type": "markdown",
   "metadata": {},
   "source": [
    "### Interestingly, the maximal feature exposure magnitude is actually lower (~0.28 vs ~0.31) than when 50% neutralizing all features"
   ]
  },
  {
   "cell_type": "code",
   "execution_count": null,
   "metadata": {},
   "outputs": [],
   "source": [
    "corr_list3 = []\n",
    "for feature in features:\n",
    "    corr_list3.append(np.corrcoef(df2[feature], df2[\"preds_neutralized_riskiest_100\"])[0,1])\n",
    "corr_series3 = pd.Series(corr_list3, index=features)\n",
    "corr_series3.describe()"
   ]
  },
  {
   "cell_type": "code",
   "execution_count": null,
   "metadata": {},
   "outputs": [],
   "source": [
    "corr_series3.describe()"
   ]
  },
  {
   "cell_type": "markdown",
   "metadata": {},
   "source": [
    "# Training on the alternative targets can result in models with different patterns of feature exposures\n",
    "## This is a great way to go after MMC and very useful for ensembling"
   ]
  },
  {
   "cell_type": "code",
   "execution_count": null,
   "metadata": {},
   "outputs": [],
   "source": [
    "lgb = lightgbm.LGBMRegressor(n_jobs=-1, learning_rate=0.01, n_estimators=1000, max_depth=5)\n",
    "lgb.fit(df1[features], df1['target'])"
   ]
  },
  {
   "cell_type": "code",
   "execution_count": null,
   "metadata": {},
   "outputs": [],
   "source": [
    "lgb_jerome = lightgbm.LGBMRegressor(n_jobs=-1, learning_rate=0.01, n_estimators=1000, max_depth=5)\n",
    "lgb_jerome.fit(df1[features], df1['target_jerome_v4_20'])"
   ]
  },
  {
   "cell_type": "code",
   "execution_count": null,
   "metadata": {},
   "outputs": [],
   "source": [
    "# The feature importances for each model are about 60% correlated"
   ]
  },
  {
   "cell_type": "code",
   "execution_count": null,
   "metadata": {},
   "outputs": [],
   "source": [
    "plt.figure(figsize = (16,6))\n",
    "plt.subplot(1,2,1)\n",
    "plt.plot(lgb.feature_importances_, alpha=.5)\n",
    "plt.plot(lgb_jerome.feature_importances_, alpha=.5)\n",
    "plt.subplot(1,2,2)\n",
    "plt.scatter(lgb.feature_importances_, lgb_jerome.feature_importances_)\n",
    "\n",
    "print(np.corrcoef([lgb.feature_importances_, lgb_jerome.feature_importances_])[0,1])"
   ]
  },
  {
   "cell_type": "code",
   "execution_count": null,
   "metadata": {},
   "outputs": [],
   "source": [
    "lgb_preds = lgb.predict(df2[features])\n",
    "lgb_jerome_preds = lgb_jerome.predict(df2[features])"
   ]
  },
  {
   "cell_type": "code",
   "execution_count": null,
   "metadata": {},
   "outputs": [],
   "source": [
    "# The predictions are about 68% correlated\n",
    "np.corrcoef([lgb_preds, lgb_jerome_preds])[0,1]"
   ]
  },
  {
   "cell_type": "code",
   "execution_count": null,
   "metadata": {},
   "outputs": [],
   "source": [
    "df2[\"preds\"] = lgb_preds\n",
    "df2[\"preds_jerome\"] = lgb_jerome_preds"
   ]
  },
  {
   "cell_type": "code",
   "execution_count": null,
   "metadata": {},
   "outputs": [],
   "source": [
    "# 50% neutralize to riskest features for each model as above\n",
    "for preds in [\"preds\", \"preds_jerome\"]:\n",
    "    feature_exposure_list = []\n",
    "    for feature in features:\n",
    "        feature_exposure_list.append(np.corrcoef(df2[feature], df2[preds])[0,1])\n",
    "    feature_exposure_list = pd.Series(feature_exposure_list, index=features)\n",
    "\n",
    "    riskiest_features = (feature_exposure_list.abs()*feature_corr_volatility).sort_values()[-100:].index.tolist()\n",
    "    \n",
    "    df2[f\"{preds}_neutralized_riskiest_100\"] = neutralize(df2, \n",
    "                                                  columns=[f\"{preds}\"], \n",
    "                                                  neutralizers=riskiest_features, \n",
    "                                                  proportion=0.5, # 50% neutralize only those 100 features\n",
    "                                                  normalize=True, \n",
    "                                                  era_col='era')"
   ]
  },
  {
   "cell_type": "code",
   "execution_count": null,
   "metadata": {},
   "outputs": [],
   "source": [
    "# create ensemble\n",
    "df2[\"preds_ens\"] = (df2[\"preds\"] + df2[\"preds_jerome\"])/2"
   ]
  },
  {
   "cell_type": "code",
   "execution_count": null,
   "metadata": {},
   "outputs": [],
   "source": [
    "scores = df2.groupby(\"era\").apply(lambda d: np.corrcoef(d[\"preds\"], d[target])[0,1])\n",
    "scores_jerome = df2.groupby(\"era\").apply(lambda d: np.corrcoef(d[\"preds_jerome\"], d[target])[0,1])\n",
    "\n",
    "scores_derisked = df2.groupby(\"era\").apply(lambda d: np.corrcoef(d[\"preds_neutralized_riskiest_100\"], d[target])[0,1])\n",
    "scores_jerome_derisked = df2.groupby(\"era\").apply(lambda d: np.corrcoef(d[\"preds_jerome_neutralized_riskiest_100\"], d[target])[0,1])\n",
    "\n",
    "scores_ens = df2.groupby(\"era\").apply(lambda d: np.corrcoef(d[\"preds_ens\"], d[target])[0,1])\n",
    "\n",
    "print(f\"score for target: {scores.mean()}\")\n",
    "print(f\"score for target_jerome: {scores_jerome.mean()}\")\n",
    "print()\n",
    "print(f\"sharpe for target: {scores.mean()/scores.std(ddof=0)}\")\n",
    "print(f\"sharpe for target_jerome: {scores_jerome.mean()/scores_jerome.std(ddof=0)}\")\n",
    "print()\n",
    "print(f\"score for target after neutralization: {scores_derisked.mean()}\")\n",
    "print(f\"score for target_jerome after neutralization: {scores_jerome_derisked.mean()}\")\n",
    "print()\n",
    "print(f\"sharpe for target after neutralization: {scores_derisked.mean()/scores_derisked.std(ddof=0)}\")\n",
    "print(f\"sharpe for target_jerome after neutralization: {scores_jerome_derisked.mean()/scores_jerome_derisked.std(ddof=0)}\")\n",
    "print()\n",
    "print(f\"score for target + target_jerome ensemble: {scores_ens.mean()}\")\n",
    "print(f\"sharpe for target + target_jerome ensemble: {scores_ens.mean()/scores_ens.std(ddof=0)}\")\n"
   ]
  },
  {
   "cell_type": "markdown",
   "metadata": {},
   "source": [
    "## We see here that the model trained on `target_jerome` actually predicts `target` slightly better than the model trained on `target` (albeit with a lower Sharpe) both before and after neutralization of the riskiest features"
   ]
  },
  {
   "cell_type": "code",
   "execution_count": null,
   "metadata": {},
   "outputs": [],
   "source": [
    "# calculate correlation of neutralized predictions\n",
    "df2[[f\"preds_neutralized_riskiest_100\", f\"preds_jerome_neutralized_riskiest_100\"]].corr()"
   ]
  },
  {
   "cell_type": "markdown",
   "metadata": {},
   "source": [
    "## Given that the neutralized version trained on `target_jerome` gets slightly better average score, but is only about 63% correlated with the neutralized version trained on `target`, it is an excellent candidate for MMC\n",
    "## However, ensembling the two neutralized predictions gives a model with the highest average score and a great Sharpe value"
   ]
  },
  {
   "cell_type": "code",
   "execution_count": null,
   "metadata": {},
   "outputs": [],
   "source": []
  },
  {
   "cell_type": "code",
   "execution_count": null,
   "metadata": {},
   "outputs": [],
   "source": []
  }
 ],
 "metadata": {
  "kernelspec": {
   "display_name": "Python 3 (ipykernel)",
   "language": "python",
   "name": "python3"
  },
  "language_info": {
   "codemirror_mode": {
    "name": "ipython",
    "version": 3
   },
   "file_extension": ".py",
   "mimetype": "text/x-python",
   "name": "python",
   "nbconvert_exporter": "python",
   "pygments_lexer": "ipython3",
   "version": "3.10.8"
  }
 },
 "nbformat": 4,
 "nbformat_minor": 2
}
