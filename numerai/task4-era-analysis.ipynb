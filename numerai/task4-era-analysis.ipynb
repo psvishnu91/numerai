{
 "cells": [
  {
   "cell_type": "markdown",
   "id": "a30e3815",
   "metadata": {},
   "source": [
    "## Goal\n",
    "Analyse spurious era to remove from training.\n",
    "\n",
    "## 2. Methodology\n",
    "Create two sets of data.\n",
    "\n",
    "* Full\n",
    "\n",
    "* Subsampled - Take 10% of data from each era.\n",
    "\n",
    "### 2.1 Data exploration\n",
    "* Look at data size by era\n",
    "* Look at number of NAs by era\n",
    "* Look at target value distribution by era\n",
    "\n",
    "### 2.2 Model training\n",
    "* Split the validation test into equal 2 parts. test1, test2.\n",
    "* Subsample every 4th era, bin eras in era-bin-sz of 50 [1-50, 50-100] etc.\n",
    "* Along the way I plan to save the feature importance values as this will be critical for the next exploration.\n",
    "* With each bin in the train set, train a model and then predict against a single validation bin, ie., test1.\n",
    "* I will remove then remove various proportions of era bins based on performance and select the best proportion to remove based on perf on test1.\n",
    "* I will then report final metrics on test2.\n",
    "\n",
    "## 3. Observations\n",
    "\n",
    "### Num stocks by era\n",
    "1. Feels like until era 75, the data is suspiciously small.\n",
    "2. Starting era 150 though we have had almost a stable number of stocks.\n",
    "3. Era 300-350, there is some interesting stuff happening here where the number of stocks has taken a nose dive.\n",
    "\n",
    "### Num of NA%\n",
    "Only Jerome has NAs\n",
    "\n"
   ]
  },
  {
   "cell_type": "code",
   "execution_count": 319,
   "id": "ad30a1f8",
   "metadata": {},
   "outputs": [
    {
     "data": {
      "text/html": [
       "<style>.container { width:100% !important; }</style>"
      ],
      "text/plain": [
       "<IPython.core.display.HTML object>"
      ]
     },
     "metadata": {},
     "output_type": "display_data"
    },
    {
     "name": "stdout",
     "output_type": "stream",
     "text": [
      "\r"
     ]
    }
   ],
   "source": [
    "from IPython.display import display, HTML, clear_output\n",
    "display(HTML(\"<style>.container { width:100% !important; }</style>\"))\n",
    "import numpy as np\n",
    "import datetime\n",
    "from pprint import pprint, pformat\n",
    "import utils as ut\n",
    "import json\n",
    "import os\n",
    "import os.path\n",
    "import pickle"
   ]
  },
  {
   "cell_type": "code",
   "execution_count": 248,
   "id": "a243aa5b",
   "metadata": {},
   "outputs": [
    {
     "name": "stdout",
     "output_type": "stream",
     "text": [
      "\r"
     ]
    }
   ],
   "source": [
    "TEST_MODE = True\n",
    "\n",
    "if TEST_MODE:\n",
    "    ML_TRACKING_SERVER_URI = \"http://127.0.0.1:5000\"\n",
    "    AWS_CREDENTIALS_FILE = \"~/.aws/personal_credentials\"\n",
    "    DATA_PATH = \"./data/\"\n",
    "else:\n",
    "    ML_TRACKING_SERVER_URI = \"http://18.218.213.146:5500/\"\n",
    "    AWS_CREDENTIALS_FILE = \"~/.aws/credentials\"\n",
    "    DATA_PATH = \"/numerai/data/\"\n",
    "DATASET_S3_PATH = \"s3://numerai-v1/dataset/v4.1/\"\n",
    "OUTPUT_S3_PATH = \"s3://numerai-v1/experiments/\"\n",
    "FILES_TO_DOWNLOAD = [\n",
    "    \"train\",\n",
    "    \"splits/test_p0-50\",\n",
    "    \"splits/test_p50-100\",\n",
    "    #\"splits/traintest_p0-100\",\n",
    "    \"features.json\",\n",
    "]\n",
    "DATE_COL = \"date\"\n"
   ]
  },
  {
   "cell_type": "code",
   "execution_count": 298,
   "id": "ff511cf3",
   "metadata": {},
   "outputs": [
    {
     "name": "stdout",
     "output_type": "stream",
     "text": [
      "Making log dir ./data/experiments/era_analysis__2023-04-20_16h-56m\n",
      "[2023-04-20 16:56:46]  Era bin size 50\n",
      "[2023-04-20 16:56:46]  {\n",
      "    \"cv\": 2,\n",
      "    \"embargo\": 12,\n",
      "    \"ensembling\": \"average\",\n",
      "    \"expt_name\": \"era_analysis__2023-04-20_16h-56m\",\n",
      "    \"features\": \"small\",\n",
      "    \"impute\": true,\n",
      "    \"int8\": true,\n",
      "    \"lgbm_params\": {\n",
      "        \"colsample_bytree\": 0.1,\n",
      "        \"learning_rate\": 0.01,\n",
      "        \"max_depth\": 5,\n",
      "        \"n_estimators\": 2000,\n",
      "        \"num_leaves\": 32\n",
      "    },\n",
      "    \"lgbm_setting\": \"sm_lgbm\",\n",
      "    \"sample_every_nth\": 1,\n",
      "    \"targets\": [\n",
      "        \"target_nomi_v4_20\",\n",
      "        \"target_jerome_v4_60\",\n",
      "        \"target_ralph_v4_20\",\n",
      "        \"target_tyler_v4_20\",\n",
      "        \"target_victor_v4_20\",\n",
      "        \"target_waldo_v4_20\"\n",
      "    ]\n",
      "}\n",
      "[2023-04-20 16:56:46]  ERA_BIN_COL='era_bin50', ERA_BIN_PROPORTIONS=[0.8, 0.9, 0.95, 1.0]\n",
      "\r"
     ]
    }
   ],
   "source": [
    "targets = [\n",
    "    \"target_nomi_v4_20\",\n",
    "    \"target_jerome_v4_60\",\n",
    "    \"target_ralph_v4_20\",\n",
    "    \"target_tyler_v4_20\",\n",
    "    \"target_victor_v4_20\",\n",
    "    \"target_waldo_v4_20\",\n",
    "]\n",
    "parameters_test = {\n",
    "    \"sample_every_nth\": 1,\n",
    "    \"int8\": True,\n",
    "    \"features\": \"small\",\n",
    "    \"impute\": True,\n",
    "    \"lgbm_setting\": \"sm_lgbm\",\n",
    "    \"lgbm_params\": {\n",
    "        \"n_estimators\": 2000,\n",
    "        \"learning_rate\": 0.01,\n",
    "        \"max_depth\": 5,\n",
    "        \"num_leaves\": 2 ** 5,\n",
    "        \"colsample_bytree\": 0.1\n",
    "    },\n",
    "}    \n",
    "parameters_full = {\n",
    "    \"sample_every_nth\": 4,\n",
    "    \"int8\": True,\n",
    "    \"features\": None,\n",
    "    \"impute\": True,\n",
    "    \"lgbm_setting\": \"lg_lgbm_10kest_every4_lr0.005_int8\",\n",
    "    \"lgbm_params\": {\n",
    "        \"n_estimators\": 10_000,\n",
    "        \"learning_rate\": 0.005,\n",
    "        \"max_depth\": 6,\n",
    "        \"num_leaves\": 2**6,\n",
    "        \"colsample_bytree\": 0.1,\n",
    "        \"n_jobs\": -1,\n",
    "    },\n",
    "}\n",
    "if TEST_MODE:\n",
    "    parameters = parameters_test.copy()\n",
    "else:\n",
    "    parameters = parameters_full.copy()\n",
    "st_time = datetime.datetime.now().strftime(\"%Y-%m-%d_%Hh-%Mm\")\n",
    "parameters.update(\n",
    "    {\n",
    "        \"ensembling\": \"average\",\n",
    "        \"targets\": targets,\n",
    "        \"cv\": 2,\n",
    "        \"embargo\": 12,\n",
    "        \"expt_name\": f\"era_analysis__{st_time}\"\n",
    "    }\n",
    ")\n",
    "\n",
    "log_dir = os.path.join(DATA_PATH, \"experiments\", parameters[\"expt_name\"])\n",
    "os.makedirs(log_dir, exist_ok=True)\n",
    "print(f\"Making log dir {log_dir}\")\n",
    "log = ut.Logger(root_dir=log_dir)\n",
    "log.info(f\"Era bin size {ERA_BIN_SZ}\")\n",
    "log.info(json.dumps(parameters, sort_keys=True, indent=4))\n",
    "\n",
    "####################################\n",
    "# ERA BIN STUFF\n",
    "ERA_BIN_SZ = 50\n",
    "ERA_BIN_COL = f\"era_bin{ERA_BIN_SZ}\"\n",
    "\n",
    "# This fractions of era bins will be included for testing against an unseen\n",
    "# portion of validation (test_p50-100).\n",
    "# The era bins will first be sorted by the sharpe values of the models trained\n",
    "# with them against another portion of validation data (test_p0-50).\n",
    "ERA_BIN_PROPORTIONS = [0.8, 0.9, 0.95, 1.]\n",
    "log.info(f\"{ERA_BIN_COL=}, {ERA_BIN_PROPORTIONS=}\")"
   ]
  },
  {
   "cell_type": "code",
   "execution_count": null,
   "id": "fba2512b",
   "metadata": {},
   "outputs": [
    {
     "name": "stdout",
     "output_type": "stream",
     "text": [
      "The autoreload extension is already loaded. To reload it, use:\n",
      "  %reload_ext autoreload\n"
     ]
    }
   ],
   "source": [
    "%load_ext autoreload\n",
    "%autoreload 2\n",
    "\n",
    "import warnings\n",
    "import flatdict\n",
    "import pandas as pd\n",
    "import os\n",
    "import os.path\n",
    "import mlflow\n",
    "import gc\n",
    "import functools\n",
    "import plotly\n",
    "import plotly.express as px\n",
    "import plotly.offline as pyo\n",
    "import cufflinks as cf\n",
    "import datetime\n",
    "\n",
    "import nmr_utils \n",
    "\n",
    "from lightgbm import LGBMRegressor\n",
    "from tqdm.notebook import tqdm\n",
    "\n",
    "from nmr_utils import (\n",
    "    ERA_COL,\n",
    "    DATA_TYPE_COL,\n",
    "    TARGET_COL,\n",
    ")\n",
    "\n",
    "pyo.init_notebook_mode()\n",
    "cf.go_offline()\n",
    "pd.options.mode.chained_assignment = None  # default='warn'\n",
    "pd.set_option(\"display.max_rows\", 100)\n",
    "\n",
    "DF = pd.DataFrame\n",
    "mlflow.lightgbm.autolog()"
   ]
  },
  {
   "cell_type": "code",
   "execution_count": 251,
   "id": "8f8822db",
   "metadata": {},
   "outputs": [
    {
     "name": "stdout",
     "output_type": "stream",
     "text": [
      "\r"
     ]
    }
   ],
   "source": [
    "from mlflow.utils.autologging_utils import _logger\n",
    "\n",
    "warnings.filterwarnings(\"ignore\", message=\"Inferred schema contains integer column\", module=\"mlflow.models.signature\")\n",
    "_logger.disabled = True\n",
    "\n",
    "# Filter the setuptools UserWarning until we stop relying on distutils\n",
    "warnings.filterwarnings(\n",
    "    \"ignore\",\n",
    "    message=\"Setuptools is replacing distutils.\",\n",
    "    category=UserWarning,\n",
    "    module=\"_distutils_hack\",\n",
    ")"
   ]
  },
  {
   "cell_type": "code",
   "execution_count": 252,
   "id": "c4b80304",
   "metadata": {},
   "outputs": [
    {
     "name": "stdout",
     "output_type": "stream",
     "text": [
      "\r"
     ]
    }
   ],
   "source": [
    "from importlib import reload  # Not needed in Python 2\n",
    "import logging\n",
    "reload(logging)\n",
    "import logging\n",
    "logging.basicConfig(level=logging.INFO)"
   ]
  },
  {
   "cell_type": "markdown",
   "id": "8e341cde",
   "metadata": {},
   "source": [
    "## 1. Data loading\n",
    "### 1.1 Download data"
   ]
  },
  {
   "cell_type": "code",
   "execution_count": 18,
   "id": "47f9111d",
   "metadata": {},
   "outputs": [
    {
     "name": "stdout",
     "output_type": "stream",
     "text": [
      "[2023-04-20 14:20:54]  Making folder: ./data/experiments/era_analysis__2023-04-20_14h-20m\n",
      "[2023-04-20 14:20:54]  Making folder: ./data/experiments/era_analysis__2023-04-20_14h-20m/models/\n",
      "[2023-04-20 14:20:54]  Making folder: ./data/experiments/era_analysis__2023-04-20_14h-20m/artifacts/\n",
      "[2023-04-20 14:20:54]  saving fl: ./data/experiments/era_analysis__2023-04-20_14h-20m/params.json\n",
      "\r"
     ]
    }
   ],
   "source": [
    "ALL_EXPT_ROOT_DIR = os.path.join(DATA_PATH, \"experiments/\")\n",
    "EXPT_SAVE_ROOTDIR = os.path.join(DATA_PATH, \"experiments/\", parameters[\"expt_name\"])\n",
    "MODEL_DIR = os.path.join(EXPT_SAVE_ROOTDIR, \"models/\")\n",
    "ARTIFACTS_DIR = os.path.join(EXPT_SAVE_ROOTDIR, \"artifacts/\")\n",
    "for fld in (EXPT_SAVE_ROOTDIR, MODEL_DIR, ARTIFACTS_DIR):\n",
    "    os.makedirs(fld, exist_ok=True)\n",
    "    log.info(f\"Making folder: {fld}\")\n",
    "PARAMS_FL = os.path.join(EXPT_SAVE_ROOTDIR, \"params.json\")\n",
    "ut.save_json(obj=parameters, fl=PARAMS_FL)\n",
    "log.info(f\"saving fl: {PARAMS_FL}\")"
   ]
  },
  {
   "cell_type": "code",
   "execution_count": 6,
   "id": "b690097a",
   "metadata": {
    "scrolled": false
   },
   "outputs": [
    {
     "name": "stdout",
     "output_type": "stream",
     "text": [
      "[2023-04-20 14:20:02]  Downloading: train_int8.parquet\n",
      "[2023-04-20 14:20:02]  Loading aws credenitals from ~/.aws/personal_credentials...\n",
      "[2023-04-20 14:20:02]  Would have downloaded s3://numerai-v1/dataset/v4.1/train_int8.parquet to ./data/train_int8.parquet. But ./data/train_int8.parquet exists. Will not download again ...\n",
      "[2023-04-20 14:20:02]  Downloading: splits/test_p0-50_int8.parquet\n",
      "[2023-04-20 14:20:02]  Loading aws credenitals from ~/.aws/personal_credentials...\n",
      "[2023-04-20 14:20:02]  Would have downloaded s3://numerai-v1/dataset/v4.1/splits/test_p0-50_int8.parquet to ./data/test_p0-50_int8.parquet. But ./data/test_p0-50_int8.parquet exists. Will not download again ...\n",
      "[2023-04-20 14:20:02]  Downloading: splits/test_p50-100_int8.parquet\n",
      "[2023-04-20 14:20:02]  Loading aws credenitals from ~/.aws/personal_credentials...\n",
      "[2023-04-20 14:20:02]  Would have downloaded s3://numerai-v1/dataset/v4.1/splits/test_p50-100_int8.parquet to ./data/test_p50-100_int8.parquet. But ./data/test_p50-100_int8.parquet exists. Will not download again ...\n",
      "[2023-04-20 14:20:02]  Downloading: features.json\n",
      "[2023-04-20 14:20:02]  Loading aws credenitals from ~/.aws/personal_credentials...\n",
      "[2023-04-20 14:20:02]  Would have downloaded s3://numerai-v1/dataset/v4.1/features.json to ./data/features.json. But ./data/features.json exists. Will not download again ...\n",
      "\r"
     ]
    }
   ],
   "source": [
    "ut.download_fls(\n",
    "    data_path=DATA_PATH,\n",
    "    s3_path=DATASET_S3_PATH,\n",
    "    s3_files=FILES_TO_DOWNLOAD,\n",
    "    aws_credential_fl=AWS_CREDENTIALS_FILE,\n",
    "    int8=parameters[\"int8\"],\n",
    ")"
   ]
  },
  {
   "cell_type": "markdown",
   "id": "5e140924",
   "metadata": {},
   "source": [
    "### 1.2 Load the data into memory"
   ]
  },
  {
   "cell_type": "code",
   "execution_count": 7,
   "id": "2f3b60ee",
   "metadata": {},
   "outputs": [
    {
     "name": "stdout",
     "output_type": "stream",
     "text": [
      "[2023-04-20 14:20:03]  len(read_cols)=63, len(features)=32\n",
      "\r"
     ]
    }
   ],
   "source": [
    "read_cols = ut.build_cols_to_read(\n",
    "    feature_json_fl=os.path.join(DATA_PATH, \"features.json\"),\n",
    "    feature_set_name=parameters[\"features\"],\n",
    ")\n",
    "features = [c for c in read_cols if c.startswith(\"feature\")]\n",
    "log.info(f\"{len(read_cols)=}, {len(features)=}\")"
   ]
  },
  {
   "cell_type": "code",
   "execution_count": 8,
   "id": "33270942",
   "metadata": {
    "scrolled": false
   },
   "outputs": [
    {
     "name": "stdout",
     "output_type": "stream",
     "text": [
      "\r"
     ]
    }
   ],
   "source": [
    "load_df = ut.get_df_loader(\n",
    "    data_path=DATA_PATH,\n",
    "    features=features,\n",
    "    read_cols=read_cols,\n",
    "    impute=parameters[\"impute\"],\n",
    "    int8=parameters[\"int8\"],\n",
    "    sample_every_nth=parameters[\"sample_every_nth\"],\n",
    ")"
   ]
  },
  {
   "cell_type": "code",
   "execution_count": 9,
   "id": "50435098",
   "metadata": {},
   "outputs": [
    {
     "name": "stdout",
     "output_type": "stream",
     "text": [
      "\r"
     ]
    }
   ],
   "source": [
    "def print_df_info(df, name=\"\"):\n",
    "    log.info(f\"{name} info: {df.shape=}, {df.era.nunique()=}\")"
   ]
  },
  {
   "cell_type": "code",
   "execution_count": 10,
   "id": "e522a74c",
   "metadata": {},
   "outputs": [
    {
     "name": "stdout",
     "output_type": "stream",
     "text": [
      "\r"
     ]
    }
   ],
   "source": [
    "def group_eras_into_bins(df, biz_sz=ERA_BIN_SZ, era_col=ERA_COL):\n",
    "    \"\"\"Groups eras into bins of biz_sz eras each.\"\"\"\n",
    "    eras = df[era_col].unique()\n",
    "    era_bins = np.array_split(eras, len(eras) / biz_sz)\n",
    "    era_bin_map = {era: i for i, era_bin in enumerate(era_bins, start=1) for era in era_bin}\n",
    "    return df[era_col].map(era_bin_map)"
   ]
  },
  {
   "cell_type": "code",
   "execution_count": 11,
   "id": "7dc53f99",
   "metadata": {},
   "outputs": [
    {
     "name": "stdout",
     "output_type": "stream",
     "text": [
      "[2023-04-20 14:20:07]  Train info: df.shape=(2420521, 65), df.era.nunique()=574\n",
      "[2023-04-20 14:20:09]  Test 1 info: df.shape=(1215787, 65), df.era.nunique()=241\n",
      "[2023-04-20 14:20:11]  Test 2 info: df.shape=(1251330, 65), df.era.nunique()=242\n",
      "\r"
     ]
    }
   ],
   "source": [
    "int8_suf = \"_int8\" if parameters[\"int8\"] else \"\"\n",
    "df_map = {}\n",
    "for ident, fl, name in [\n",
    "    (\"train\", f\"train{int8_suf}.parquet\", \"Train\"),\n",
    "    (\"test1\", f\"test_p0-50{int8_suf}.parquet\", \"Test 1\"),\n",
    "    (\"test2\", f\"test_p50-100{int8_suf}.parquet\", \"Test 2\"),\n",
    "]:\n",
    "    df_map[ident] = df = load_df(fl_name=fl)\n",
    "    df[ERA_BIN_COL] = group_eras_into_bins(df=df, biz_sz=ERA_BIN_SZ)\n",
    "    era_date_map = ut.get_era_to_date(df.era.unique())\n",
    "    df[DATE_COL] = df.era.map(era_date_map)\n",
    "    print_df_info(df=df, name=name)"
   ]
  },
  {
   "cell_type": "code",
   "execution_count": 12,
   "id": "cbd2a664",
   "metadata": {},
   "outputs": [
    {
     "name": "stdout",
     "output_type": "stream",
     "text": [
      "\r"
     ]
    }
   ],
   "source": [
    "train_df, test1_df, test2_df = df_map[\"train\"], df_map[\"test1\"], df_map[\"test2\"]"
   ]
  },
  {
   "cell_type": "markdown",
   "id": "5b9fc8f1",
   "metadata": {},
   "source": [
    "## 2. Data exploration"
   ]
  },
  {
   "cell_type": "code",
   "execution_count": 14,
   "id": "43a30901",
   "metadata": {},
   "outputs": [
    {
     "name": "stdout",
     "output_type": "stream",
     "text": [
      "\r"
     ]
    }
   ],
   "source": [
    "mlflow.set_tracking_uri(ML_TRACKING_SERVER_URI)"
   ]
  },
  {
   "cell_type": "code",
   "execution_count": 15,
   "id": "27a4c8f1",
   "metadata": {},
   "outputs": [
    {
     "name": "stdout",
     "output_type": "stream",
     "text": [
      "\r"
     ]
    }
   ],
   "source": [
    "train_tgt_df = train_df[[ERA_COL] + targets]\n",
    "train_era_grp = train_tgt_df.groupby(ERA_COL)"
   ]
  },
  {
   "cell_type": "markdown",
   "id": "cfd70c8f",
   "metadata": {},
   "source": [
    "### 2.1 Num stocks in each era"
   ]
  },
  {
   "cell_type": "code",
   "execution_count": 16,
   "id": "5ae85536",
   "metadata": {
    "scrolled": false
   },
   "outputs": [
    {
     "data": {
      "application/vnd.plotly.v1+json": {
       "config": {
        "plotlyServerURL": "https://plot.ly"
       },
       "data": [
        {
         "marker": {
          "color": "rgba(255, 153, 51, 0.6)",
          "line": {
           "color": "rgba(255, 153, 51, 1.0)",
           "width": 1
          }
         },
         "name": "None",
         "orientation": "v",
         "text": "",
         "type": "bar",
         "x": [
          "0001",
          "0002",
          "0003",
          "0004",
          "0005",
          "0006",
          "0007",
          "0008",
          "0009",
          "0010",
          "0011",
          "0012",
          "0013",
          "0014",
          "0015",
          "0016",
          "0017",
          "0018",
          "0019",
          "0020",
          "0021",
          "0022",
          "0023",
          "0024",
          "0025",
          "0026",
          "0027",
          "0028",
          "0029",
          "0030",
          "0031",
          "0032",
          "0033",
          "0034",
          "0035",
          "0036",
          "0037",
          "0038",
          "0039",
          "0040",
          "0041",
          "0042",
          "0043",
          "0044",
          "0045",
          "0046",
          "0047",
          "0048",
          "0049",
          "0050",
          "0051",
          "0052",
          "0053",
          "0054",
          "0055",
          "0056",
          "0057",
          "0058",
          "0059",
          "0060",
          "0061",
          "0062",
          "0063",
          "0064",
          "0065",
          "0066",
          "0067",
          "0068",
          "0069",
          "0070",
          "0071",
          "0072",
          "0073",
          "0074",
          "0075",
          "0076",
          "0077",
          "0078",
          "0079",
          "0080",
          "0081",
          "0082",
          "0083",
          "0084",
          "0085",
          "0086",
          "0087",
          "0088",
          "0089",
          "0090",
          "0091",
          "0092",
          "0093",
          "0094",
          "0095",
          "0096",
          "0097",
          "0098",
          "0099",
          "0100",
          "0101",
          "0102",
          "0103",
          "0104",
          "0105",
          "0106",
          "0107",
          "0108",
          "0109",
          "0110",
          "0111",
          "0112",
          "0113",
          "0114",
          "0115",
          "0116",
          "0117",
          "0118",
          "0119",
          "0120",
          "0121",
          "0122",
          "0123",
          "0124",
          "0125",
          "0126",
          "0127",
          "0128",
          "0129",
          "0130",
          "0131",
          "0132",
          "0133",
          "0134",
          "0135",
          "0136",
          "0137",
          "0138",
          "0139",
          "0140",
          "0141",
          "0142",
          "0143",
          "0144",
          "0145",
          "0146",
          "0147",
          "0148",
          "0149",
          "0150",
          "0151",
          "0152",
          "0153",
          "0154",
          "0155",
          "0156",
          "0157",
          "0158",
          "0159",
          "0160",
          "0161",
          "0162",
          "0163",
          "0164",
          "0165",
          "0166",
          "0167",
          "0168",
          "0169",
          "0170",
          "0171",
          "0172",
          "0173",
          "0174",
          "0175",
          "0176",
          "0177",
          "0178",
          "0179",
          "0180",
          "0181",
          "0182",
          "0183",
          "0184",
          "0185",
          "0186",
          "0187",
          "0188",
          "0189",
          "0190",
          "0191",
          "0192",
          "0193",
          "0194",
          "0195",
          "0196",
          "0197",
          "0198",
          "0199",
          "0200",
          "0201",
          "0202",
          "0203",
          "0204",
          "0205",
          "0206",
          "0207",
          "0208",
          "0209",
          "0210",
          "0211",
          "0212",
          "0213",
          "0214",
          "0215",
          "0216",
          "0217",
          "0218",
          "0219",
          "0220",
          "0221",
          "0222",
          "0223",
          "0224",
          "0225",
          "0226",
          "0227",
          "0228",
          "0229",
          "0230",
          "0231",
          "0232",
          "0233",
          "0234",
          "0235",
          "0236",
          "0237",
          "0238",
          "0239",
          "0240",
          "0241",
          "0242",
          "0243",
          "0244",
          "0245",
          "0246",
          "0247",
          "0248",
          "0249",
          "0250",
          "0251",
          "0252",
          "0253",
          "0254",
          "0255",
          "0256",
          "0257",
          "0258",
          "0259",
          "0260",
          "0261",
          "0262",
          "0263",
          "0264",
          "0265",
          "0266",
          "0267",
          "0268",
          "0269",
          "0270",
          "0271",
          "0272",
          "0273",
          "0274",
          "0275",
          "0276",
          "0277",
          "0278",
          "0279",
          "0280",
          "0281",
          "0282",
          "0283",
          "0284",
          "0285",
          "0286",
          "0287",
          "0288",
          "0289",
          "0290",
          "0291",
          "0292",
          "0293",
          "0294",
          "0295",
          "0296",
          "0297",
          "0298",
          "0299",
          "0300",
          "0301",
          "0302",
          "0303",
          "0304",
          "0305",
          "0306",
          "0307",
          "0308",
          "0309",
          "0310",
          "0311",
          "0312",
          "0313",
          "0314",
          "0315",
          "0316",
          "0317",
          "0318",
          "0319",
          "0320",
          "0321",
          "0322",
          "0323",
          "0324",
          "0325",
          "0326",
          "0327",
          "0328",
          "0329",
          "0330",
          "0331",
          "0332",
          "0333",
          "0334",
          "0335",
          "0336",
          "0337",
          "0338",
          "0339",
          "0340",
          "0341",
          "0342",
          "0343",
          "0344",
          "0345",
          "0346",
          "0347",
          "0348",
          "0349",
          "0350",
          "0351",
          "0352",
          "0353",
          "0354",
          "0355",
          "0356",
          "0357",
          "0358",
          "0359",
          "0360",
          "0361",
          "0362",
          "0363",
          "0364",
          "0365",
          "0366",
          "0367",
          "0368",
          "0369",
          "0370",
          "0371",
          "0372",
          "0373",
          "0374",
          "0375",
          "0376",
          "0377",
          "0378",
          "0379",
          "0380",
          "0381",
          "0382",
          "0383",
          "0384",
          "0385",
          "0386",
          "0387",
          "0388",
          "0389",
          "0390",
          "0391",
          "0392",
          "0393",
          "0394",
          "0395",
          "0396",
          "0397",
          "0398",
          "0399",
          "0400",
          "0401",
          "0402",
          "0403",
          "0404",
          "0405",
          "0406",
          "0407",
          "0408",
          "0409",
          "0410",
          "0411",
          "0412",
          "0413",
          "0414",
          "0415",
          "0416",
          "0417",
          "0418",
          "0419",
          "0420",
          "0421",
          "0422",
          "0423",
          "0424",
          "0425",
          "0426",
          "0427",
          "0428",
          "0429",
          "0430",
          "0431",
          "0432",
          "0433",
          "0434",
          "0435",
          "0436",
          "0437",
          "0438",
          "0439",
          "0440",
          "0441",
          "0442",
          "0443",
          "0444",
          "0445",
          "0446",
          "0447",
          "0448",
          "0449",
          "0450",
          "0451",
          "0452",
          "0453",
          "0454",
          "0455",
          "0456",
          "0457",
          "0458",
          "0459",
          "0460",
          "0461",
          "0462",
          "0463",
          "0464",
          "0465",
          "0466",
          "0467",
          "0468",
          "0469",
          "0470",
          "0471",
          "0472",
          "0473",
          "0474",
          "0475",
          "0476",
          "0477",
          "0478",
          "0479",
          "0480",
          "0481",
          "0482",
          "0483",
          "0484",
          "0485",
          "0486",
          "0487",
          "0488",
          "0489",
          "0490",
          "0491",
          "0492",
          "0493",
          "0494",
          "0495",
          "0496",
          "0497",
          "0498",
          "0499",
          "0500",
          "0501",
          "0502",
          "0503",
          "0504",
          "0505",
          "0506",
          "0507",
          "0508",
          "0509",
          "0510",
          "0511",
          "0512",
          "0513",
          "0514",
          "0515",
          "0516",
          "0517",
          "0518",
          "0519",
          "0520",
          "0521",
          "0522",
          "0523",
          "0524",
          "0525",
          "0526",
          "0527",
          "0528",
          "0529",
          "0530",
          "0531",
          "0532",
          "0533",
          "0534",
          "0535",
          "0536",
          "0537",
          "0538",
          "0539",
          "0540",
          "0541",
          "0542",
          "0543",
          "0544",
          "0545",
          "0546",
          "0547",
          "0548",
          "0549",
          "0550",
          "0551",
          "0552",
          "0553",
          "0554",
          "0555",
          "0556",
          "0557",
          "0558",
          "0559",
          "0560",
          "0561",
          "0562",
          "0563",
          "0564",
          "0565",
          "0566",
          "0567",
          "0568",
          "0569",
          "0570",
          "0571",
          "0572",
          "0573",
          "0574"
         ],
         "y": [
          2072,
          2260,
          2334,
          2399,
          2406,
          2415,
          2420,
          2382,
          2370,
          2365,
          2345,
          2419,
          2427,
          2431,
          2445,
          2442,
          2527,
          2554,
          2580,
          2606,
          2652,
          2677,
          2714,
          2721,
          2844,
          2845,
          2900,
          2915,
          2993,
          3004,
          3015,
          3016,
          3019,
          2994,
          3016,
          3027,
          3036,
          3143,
          3165,
          3190,
          3196,
          3187,
          3312,
          3333,
          3359,
          3363,
          3365,
          3387,
          3397,
          3405,
          3414,
          3410,
          3421,
          3422,
          3415,
          3458,
          3288,
          3442,
          3458,
          3473,
          3311,
          3502,
          3502,
          3512,
          3570,
          3587,
          3591,
          3592,
          3601,
          3587,
          3569,
          3548,
          3534,
          3532,
          3521,
          3502,
          3481,
          3569,
          3616,
          3612,
          3612,
          3589,
          3563,
          3548,
          3523,
          3518,
          3507,
          3510,
          3537,
          3530,
          3508,
          3502,
          3527,
          3537,
          3536,
          3549,
          3578,
          3614,
          3628,
          3655,
          3692,
          3727,
          3758,
          3774,
          3759,
          3790,
          3801,
          3826,
          3837,
          3857,
          3878,
          3882,
          3882,
          3903,
          3921,
          3928,
          3918,
          3942,
          3939,
          3931,
          3938,
          3919,
          3911,
          3894,
          3888,
          3862,
          3859,
          3871,
          3877,
          3926,
          3943,
          3950,
          3958,
          3978,
          3974,
          3980,
          3990,
          3965,
          3964,
          3961,
          3986,
          3987,
          4002,
          4005,
          4046,
          4050,
          4054,
          4046,
          4056,
          4069,
          4078,
          4093,
          4098,
          4115,
          4116,
          4164,
          4159,
          4167,
          4200,
          4224,
          4235,
          4250,
          4247,
          4271,
          4295,
          4319,
          4328,
          4336,
          4363,
          4365,
          4381,
          4386,
          4413,
          4436,
          4293,
          4295,
          4293,
          4270,
          4273,
          4259,
          4243,
          4246,
          4273,
          4292,
          4278,
          4252,
          4247,
          4236,
          4215,
          4203,
          4208,
          4210,
          4213,
          4198,
          4203,
          4206,
          4243,
          4265,
          4289,
          4298,
          4320,
          4345,
          4363,
          4386,
          4409,
          4454,
          4480,
          4493,
          4502,
          4518,
          4537,
          4559,
          4578,
          4594,
          4623,
          4629,
          4656,
          4680,
          4682,
          4689,
          4708,
          4708,
          4719,
          4722,
          4742,
          4755,
          4781,
          4777,
          4785,
          4793,
          4820,
          4822,
          4820,
          4837,
          4886,
          4911,
          4917,
          4909,
          4899,
          4881,
          4884,
          4859,
          4872,
          4878,
          4883,
          4861,
          4853,
          4869,
          4861,
          4905,
          4900,
          4896,
          4899,
          4887,
          4856,
          4827,
          4841,
          4842,
          4848,
          4850,
          4835,
          4831,
          4809,
          4778,
          4765,
          4786,
          4772,
          4780,
          4779,
          4776,
          4736,
          4727,
          4709,
          4740,
          4744,
          4749,
          4728,
          4726,
          4748,
          4740,
          4733,
          4723,
          4718,
          4694,
          4662,
          4645,
          4603,
          4600,
          4580,
          4598,
          4604,
          4607,
          4613,
          4607,
          4582,
          4571,
          4530,
          4524,
          4499,
          4474,
          4410,
          4267,
          4270,
          4163,
          4136,
          4191,
          4123,
          4003,
          4040,
          4036,
          4073,
          4085,
          4063,
          4057,
          4074,
          4036,
          3952,
          3930,
          3918,
          3900,
          3838,
          3792,
          3725,
          3702,
          3738,
          3784,
          3819,
          3843,
          3892,
          3926,
          3981,
          4054,
          4087,
          4128,
          4163,
          4214,
          4233,
          4236,
          4243,
          4259,
          4237,
          4243,
          4252,
          4258,
          4285,
          4310,
          4312,
          4346,
          4337,
          4354,
          4387,
          4401,
          4419,
          4433,
          4439,
          4426,
          4426,
          4418,
          4410,
          4412,
          4391,
          4406,
          4394,
          4384,
          4385,
          4383,
          4391,
          4401,
          4399,
          4379,
          4368,
          4353,
          4349,
          4352,
          4370,
          4391,
          4400,
          4418,
          4422,
          4374,
          4395,
          4402,
          4424,
          4406,
          4414,
          4411,
          4405,
          4411,
          4399,
          4419,
          4419,
          4470,
          4412,
          4410,
          4413,
          4438,
          4446,
          4419,
          4405,
          4383,
          4378,
          4382,
          4385,
          4425,
          4453,
          4463,
          4488,
          4495,
          4504,
          4529,
          4534,
          4530,
          4528,
          4544,
          4588,
          4607,
          4645,
          4653,
          4664,
          4680,
          4687,
          4694,
          4722,
          4731,
          4729,
          4712,
          4720,
          4719,
          4721,
          4741,
          4745,
          4764,
          4762,
          4758,
          4742,
          4742,
          4757,
          4736,
          4725,
          4730,
          4709,
          4670,
          4669,
          4710,
          4740,
          4718,
          4713,
          4703,
          4658,
          4641,
          4646,
          4635,
          4637,
          4620,
          4610,
          4586,
          4570,
          4565,
          4587,
          4603,
          4638,
          4635,
          4605,
          4568,
          4517,
          4518,
          4523,
          4497,
          4501,
          4414,
          4347,
          4348,
          4372,
          4407,
          4451,
          4488,
          4497,
          4539,
          4558,
          4551,
          4568,
          4586,
          4604,
          4710,
          4607,
          4591,
          4584,
          4581,
          4566,
          4510,
          4481,
          4457,
          4539,
          4495,
          4497,
          4490,
          4507,
          4512,
          4493,
          4464,
          4447,
          4452,
          4428,
          4433,
          4427,
          4440,
          4476,
          4455,
          4474,
          4491,
          4484,
          4458,
          4449,
          4461,
          4458,
          4391,
          4396,
          4487,
          4505,
          4507,
          4515,
          4523,
          4472,
          4490,
          4504,
          4534,
          4572,
          4580,
          4571,
          4575,
          4571,
          4588,
          4612,
          4598,
          4600,
          4614,
          4617,
          4681,
          4613,
          4641,
          4662,
          4671,
          4698,
          4690,
          4685,
          4668,
          4649,
          4673,
          4706,
          4692,
          4696,
          4692,
          4686,
          4669,
          4668,
          4653,
          4627,
          4642,
          4650,
          4655,
          4694,
          4708,
          4713,
          4717,
          4745,
          4755,
          4774,
          4796,
          4798,
          4804,
          4811,
          4793,
          4793,
          4801
         ]
        }
       ],
       "layout": {
        "template": {
         "data": {
          "bar": [
           {
            "error_x": {
             "color": "#2a3f5f"
            },
            "error_y": {
             "color": "#2a3f5f"
            },
            "marker": {
             "line": {
              "color": "#E5ECF6",
              "width": 0.5
             },
             "pattern": {
              "fillmode": "overlay",
              "size": 10,
              "solidity": 0.2
             }
            },
            "type": "bar"
           }
          ],
          "barpolar": [
           {
            "marker": {
             "line": {
              "color": "#E5ECF6",
              "width": 0.5
             },
             "pattern": {
              "fillmode": "overlay",
              "size": 10,
              "solidity": 0.2
             }
            },
            "type": "barpolar"
           }
          ],
          "carpet": [
           {
            "aaxis": {
             "endlinecolor": "#2a3f5f",
             "gridcolor": "white",
             "linecolor": "white",
             "minorgridcolor": "white",
             "startlinecolor": "#2a3f5f"
            },
            "baxis": {
             "endlinecolor": "#2a3f5f",
             "gridcolor": "white",
             "linecolor": "white",
             "minorgridcolor": "white",
             "startlinecolor": "#2a3f5f"
            },
            "type": "carpet"
           }
          ],
          "choropleth": [
           {
            "colorbar": {
             "outlinewidth": 0,
             "ticks": ""
            },
            "type": "choropleth"
           }
          ],
          "contour": [
           {
            "colorbar": {
             "outlinewidth": 0,
             "ticks": ""
            },
            "colorscale": [
             [
              0,
              "#0d0887"
             ],
             [
              0.1111111111111111,
              "#46039f"
             ],
             [
              0.2222222222222222,
              "#7201a8"
             ],
             [
              0.3333333333333333,
              "#9c179e"
             ],
             [
              0.4444444444444444,
              "#bd3786"
             ],
             [
              0.5555555555555556,
              "#d8576b"
             ],
             [
              0.6666666666666666,
              "#ed7953"
             ],
             [
              0.7777777777777778,
              "#fb9f3a"
             ],
             [
              0.8888888888888888,
              "#fdca26"
             ],
             [
              1,
              "#f0f921"
             ]
            ],
            "type": "contour"
           }
          ],
          "contourcarpet": [
           {
            "colorbar": {
             "outlinewidth": 0,
             "ticks": ""
            },
            "type": "contourcarpet"
           }
          ],
          "heatmap": [
           {
            "colorbar": {
             "outlinewidth": 0,
             "ticks": ""
            },
            "colorscale": [
             [
              0,
              "#0d0887"
             ],
             [
              0.1111111111111111,
              "#46039f"
             ],
             [
              0.2222222222222222,
              "#7201a8"
             ],
             [
              0.3333333333333333,
              "#9c179e"
             ],
             [
              0.4444444444444444,
              "#bd3786"
             ],
             [
              0.5555555555555556,
              "#d8576b"
             ],
             [
              0.6666666666666666,
              "#ed7953"
             ],
             [
              0.7777777777777778,
              "#fb9f3a"
             ],
             [
              0.8888888888888888,
              "#fdca26"
             ],
             [
              1,
              "#f0f921"
             ]
            ],
            "type": "heatmap"
           }
          ],
          "heatmapgl": [
           {
            "colorbar": {
             "outlinewidth": 0,
             "ticks": ""
            },
            "colorscale": [
             [
              0,
              "#0d0887"
             ],
             [
              0.1111111111111111,
              "#46039f"
             ],
             [
              0.2222222222222222,
              "#7201a8"
             ],
             [
              0.3333333333333333,
              "#9c179e"
             ],
             [
              0.4444444444444444,
              "#bd3786"
             ],
             [
              0.5555555555555556,
              "#d8576b"
             ],
             [
              0.6666666666666666,
              "#ed7953"
             ],
             [
              0.7777777777777778,
              "#fb9f3a"
             ],
             [
              0.8888888888888888,
              "#fdca26"
             ],
             [
              1,
              "#f0f921"
             ]
            ],
            "type": "heatmapgl"
           }
          ],
          "histogram": [
           {
            "marker": {
             "pattern": {
              "fillmode": "overlay",
              "size": 10,
              "solidity": 0.2
             }
            },
            "type": "histogram"
           }
          ],
          "histogram2d": [
           {
            "colorbar": {
             "outlinewidth": 0,
             "ticks": ""
            },
            "colorscale": [
             [
              0,
              "#0d0887"
             ],
             [
              0.1111111111111111,
              "#46039f"
             ],
             [
              0.2222222222222222,
              "#7201a8"
             ],
             [
              0.3333333333333333,
              "#9c179e"
             ],
             [
              0.4444444444444444,
              "#bd3786"
             ],
             [
              0.5555555555555556,
              "#d8576b"
             ],
             [
              0.6666666666666666,
              "#ed7953"
             ],
             [
              0.7777777777777778,
              "#fb9f3a"
             ],
             [
              0.8888888888888888,
              "#fdca26"
             ],
             [
              1,
              "#f0f921"
             ]
            ],
            "type": "histogram2d"
           }
          ],
          "histogram2dcontour": [
           {
            "colorbar": {
             "outlinewidth": 0,
             "ticks": ""
            },
            "colorscale": [
             [
              0,
              "#0d0887"
             ],
             [
              0.1111111111111111,
              "#46039f"
             ],
             [
              0.2222222222222222,
              "#7201a8"
             ],
             [
              0.3333333333333333,
              "#9c179e"
             ],
             [
              0.4444444444444444,
              "#bd3786"
             ],
             [
              0.5555555555555556,
              "#d8576b"
             ],
             [
              0.6666666666666666,
              "#ed7953"
             ],
             [
              0.7777777777777778,
              "#fb9f3a"
             ],
             [
              0.8888888888888888,
              "#fdca26"
             ],
             [
              1,
              "#f0f921"
             ]
            ],
            "type": "histogram2dcontour"
           }
          ],
          "mesh3d": [
           {
            "colorbar": {
             "outlinewidth": 0,
             "ticks": ""
            },
            "type": "mesh3d"
           }
          ],
          "parcoords": [
           {
            "line": {
             "colorbar": {
              "outlinewidth": 0,
              "ticks": ""
             }
            },
            "type": "parcoords"
           }
          ],
          "pie": [
           {
            "automargin": true,
            "type": "pie"
           }
          ],
          "scatter": [
           {
            "fillpattern": {
             "fillmode": "overlay",
             "size": 10,
             "solidity": 0.2
            },
            "type": "scatter"
           }
          ],
          "scatter3d": [
           {
            "line": {
             "colorbar": {
              "outlinewidth": 0,
              "ticks": ""
             }
            },
            "marker": {
             "colorbar": {
              "outlinewidth": 0,
              "ticks": ""
             }
            },
            "type": "scatter3d"
           }
          ],
          "scattercarpet": [
           {
            "marker": {
             "colorbar": {
              "outlinewidth": 0,
              "ticks": ""
             }
            },
            "type": "scattercarpet"
           }
          ],
          "scattergeo": [
           {
            "marker": {
             "colorbar": {
              "outlinewidth": 0,
              "ticks": ""
             }
            },
            "type": "scattergeo"
           }
          ],
          "scattergl": [
           {
            "marker": {
             "colorbar": {
              "outlinewidth": 0,
              "ticks": ""
             }
            },
            "type": "scattergl"
           }
          ],
          "scattermapbox": [
           {
            "marker": {
             "colorbar": {
              "outlinewidth": 0,
              "ticks": ""
             }
            },
            "type": "scattermapbox"
           }
          ],
          "scatterpolar": [
           {
            "marker": {
             "colorbar": {
              "outlinewidth": 0,
              "ticks": ""
             }
            },
            "type": "scatterpolar"
           }
          ],
          "scatterpolargl": [
           {
            "marker": {
             "colorbar": {
              "outlinewidth": 0,
              "ticks": ""
             }
            },
            "type": "scatterpolargl"
           }
          ],
          "scatterternary": [
           {
            "marker": {
             "colorbar": {
              "outlinewidth": 0,
              "ticks": ""
             }
            },
            "type": "scatterternary"
           }
          ],
          "surface": [
           {
            "colorbar": {
             "outlinewidth": 0,
             "ticks": ""
            },
            "colorscale": [
             [
              0,
              "#0d0887"
             ],
             [
              0.1111111111111111,
              "#46039f"
             ],
             [
              0.2222222222222222,
              "#7201a8"
             ],
             [
              0.3333333333333333,
              "#9c179e"
             ],
             [
              0.4444444444444444,
              "#bd3786"
             ],
             [
              0.5555555555555556,
              "#d8576b"
             ],
             [
              0.6666666666666666,
              "#ed7953"
             ],
             [
              0.7777777777777778,
              "#fb9f3a"
             ],
             [
              0.8888888888888888,
              "#fdca26"
             ],
             [
              1,
              "#f0f921"
             ]
            ],
            "type": "surface"
           }
          ],
          "table": [
           {
            "cells": {
             "fill": {
              "color": "#EBF0F8"
             },
             "line": {
              "color": "white"
             }
            },
            "header": {
             "fill": {
              "color": "#C8D4E3"
             },
             "line": {
              "color": "white"
             }
            },
            "type": "table"
           }
          ]
         },
         "layout": {
          "annotationdefaults": {
           "arrowcolor": "#2a3f5f",
           "arrowhead": 0,
           "arrowwidth": 1
          },
          "autotypenumbers": "strict",
          "coloraxis": {
           "colorbar": {
            "outlinewidth": 0,
            "ticks": ""
           }
          },
          "colorscale": {
           "diverging": [
            [
             0,
             "#8e0152"
            ],
            [
             0.1,
             "#c51b7d"
            ],
            [
             0.2,
             "#de77ae"
            ],
            [
             0.3,
             "#f1b6da"
            ],
            [
             0.4,
             "#fde0ef"
            ],
            [
             0.5,
             "#f7f7f7"
            ],
            [
             0.6,
             "#e6f5d0"
            ],
            [
             0.7,
             "#b8e186"
            ],
            [
             0.8,
             "#7fbc41"
            ],
            [
             0.9,
             "#4d9221"
            ],
            [
             1,
             "#276419"
            ]
           ],
           "sequential": [
            [
             0,
             "#0d0887"
            ],
            [
             0.1111111111111111,
             "#46039f"
            ],
            [
             0.2222222222222222,
             "#7201a8"
            ],
            [
             0.3333333333333333,
             "#9c179e"
            ],
            [
             0.4444444444444444,
             "#bd3786"
            ],
            [
             0.5555555555555556,
             "#d8576b"
            ],
            [
             0.6666666666666666,
             "#ed7953"
            ],
            [
             0.7777777777777778,
             "#fb9f3a"
            ],
            [
             0.8888888888888888,
             "#fdca26"
            ],
            [
             1,
             "#f0f921"
            ]
           ],
           "sequentialminus": [
            [
             0,
             "#0d0887"
            ],
            [
             0.1111111111111111,
             "#46039f"
            ],
            [
             0.2222222222222222,
             "#7201a8"
            ],
            [
             0.3333333333333333,
             "#9c179e"
            ],
            [
             0.4444444444444444,
             "#bd3786"
            ],
            [
             0.5555555555555556,
             "#d8576b"
            ],
            [
             0.6666666666666666,
             "#ed7953"
            ],
            [
             0.7777777777777778,
             "#fb9f3a"
            ],
            [
             0.8888888888888888,
             "#fdca26"
            ],
            [
             1,
             "#f0f921"
            ]
           ]
          },
          "colorway": [
           "#636efa",
           "#EF553B",
           "#00cc96",
           "#ab63fa",
           "#FFA15A",
           "#19d3f3",
           "#FF6692",
           "#B6E880",
           "#FF97FF",
           "#FECB52"
          ],
          "font": {
           "color": "#2a3f5f"
          },
          "geo": {
           "bgcolor": "white",
           "lakecolor": "white",
           "landcolor": "#E5ECF6",
           "showlakes": true,
           "showland": true,
           "subunitcolor": "white"
          },
          "hoverlabel": {
           "align": "left"
          },
          "hovermode": "closest",
          "mapbox": {
           "style": "light"
          },
          "paper_bgcolor": "white",
          "plot_bgcolor": "#E5ECF6",
          "polar": {
           "angularaxis": {
            "gridcolor": "white",
            "linecolor": "white",
            "ticks": ""
           },
           "bgcolor": "#E5ECF6",
           "radialaxis": {
            "gridcolor": "white",
            "linecolor": "white",
            "ticks": ""
           }
          },
          "scene": {
           "xaxis": {
            "backgroundcolor": "#E5ECF6",
            "gridcolor": "white",
            "gridwidth": 2,
            "linecolor": "white",
            "showbackground": true,
            "ticks": "",
            "zerolinecolor": "white"
           },
           "yaxis": {
            "backgroundcolor": "#E5ECF6",
            "gridcolor": "white",
            "gridwidth": 2,
            "linecolor": "white",
            "showbackground": true,
            "ticks": "",
            "zerolinecolor": "white"
           },
           "zaxis": {
            "backgroundcolor": "#E5ECF6",
            "gridcolor": "white",
            "gridwidth": 2,
            "linecolor": "white",
            "showbackground": true,
            "ticks": "",
            "zerolinecolor": "white"
           }
          },
          "shapedefaults": {
           "line": {
            "color": "#2a3f5f"
           }
          },
          "ternary": {
           "aaxis": {
            "gridcolor": "white",
            "linecolor": "white",
            "ticks": ""
           },
           "baxis": {
            "gridcolor": "white",
            "linecolor": "white",
            "ticks": ""
           },
           "bgcolor": "#E5ECF6",
           "caxis": {
            "gridcolor": "white",
            "linecolor": "white",
            "ticks": ""
           }
          },
          "title": {
           "x": 0.05
          },
          "xaxis": {
           "automargin": true,
           "gridcolor": "white",
           "linecolor": "white",
           "ticks": "",
           "title": {
            "standoff": 15
           },
           "zerolinecolor": "white",
           "zerolinewidth": 2
          },
          "yaxis": {
           "automargin": true,
           "gridcolor": "white",
           "linecolor": "white",
           "ticks": "",
           "title": {
            "standoff": 15
           },
           "zerolinecolor": "white",
           "zerolinewidth": 2
          }
         }
        },
        "title": {
         "text": "Number of stocks in each era"
        },
        "xaxis": {
         "title": {
          "text": "Era"
         }
        },
        "yaxis": {
         "title": {
          "text": "Number of stocks"
         }
        }
       }
      },
      "text/html": [
       "<div>                            <div id=\"5cd3bbff-8ab0-4d5f-86ae-83c67df1a680\" class=\"plotly-graph-div\" style=\"height:525px; width:100%;\"></div>            <script type=\"text/javascript\">                require([\"plotly\"], function(Plotly) {                    window.PLOTLYENV=window.PLOTLYENV || {};                                    if (document.getElementById(\"5cd3bbff-8ab0-4d5f-86ae-83c67df1a680\")) {                    Plotly.newPlot(                        \"5cd3bbff-8ab0-4d5f-86ae-83c67df1a680\",                        [{\"marker\":{\"color\":\"rgba(255, 153, 51, 0.6)\",\"line\":{\"color\":\"rgba(255, 153, 51, 1.0)\",\"width\":1}},\"name\":\"None\",\"orientation\":\"v\",\"text\":\"\",\"x\":[\"0001\",\"0002\",\"0003\",\"0004\",\"0005\",\"0006\",\"0007\",\"0008\",\"0009\",\"0010\",\"0011\",\"0012\",\"0013\",\"0014\",\"0015\",\"0016\",\"0017\",\"0018\",\"0019\",\"0020\",\"0021\",\"0022\",\"0023\",\"0024\",\"0025\",\"0026\",\"0027\",\"0028\",\"0029\",\"0030\",\"0031\",\"0032\",\"0033\",\"0034\",\"0035\",\"0036\",\"0037\",\"0038\",\"0039\",\"0040\",\"0041\",\"0042\",\"0043\",\"0044\",\"0045\",\"0046\",\"0047\",\"0048\",\"0049\",\"0050\",\"0051\",\"0052\",\"0053\",\"0054\",\"0055\",\"0056\",\"0057\",\"0058\",\"0059\",\"0060\",\"0061\",\"0062\",\"0063\",\"0064\",\"0065\",\"0066\",\"0067\",\"0068\",\"0069\",\"0070\",\"0071\",\"0072\",\"0073\",\"0074\",\"0075\",\"0076\",\"0077\",\"0078\",\"0079\",\"0080\",\"0081\",\"0082\",\"0083\",\"0084\",\"0085\",\"0086\",\"0087\",\"0088\",\"0089\",\"0090\",\"0091\",\"0092\",\"0093\",\"0094\",\"0095\",\"0096\",\"0097\",\"0098\",\"0099\",\"0100\",\"0101\",\"0102\",\"0103\",\"0104\",\"0105\",\"0106\",\"0107\",\"0108\",\"0109\",\"0110\",\"0111\",\"0112\",\"0113\",\"0114\",\"0115\",\"0116\",\"0117\",\"0118\",\"0119\",\"0120\",\"0121\",\"0122\",\"0123\",\"0124\",\"0125\",\"0126\",\"0127\",\"0128\",\"0129\",\"0130\",\"0131\",\"0132\",\"0133\",\"0134\",\"0135\",\"0136\",\"0137\",\"0138\",\"0139\",\"0140\",\"0141\",\"0142\",\"0143\",\"0144\",\"0145\",\"0146\",\"0147\",\"0148\",\"0149\",\"0150\",\"0151\",\"0152\",\"0153\",\"0154\",\"0155\",\"0156\",\"0157\",\"0158\",\"0159\",\"0160\",\"0161\",\"0162\",\"0163\",\"0164\",\"0165\",\"0166\",\"0167\",\"0168\",\"0169\",\"0170\",\"0171\",\"0172\",\"0173\",\"0174\",\"0175\",\"0176\",\"0177\",\"0178\",\"0179\",\"0180\",\"0181\",\"0182\",\"0183\",\"0184\",\"0185\",\"0186\",\"0187\",\"0188\",\"0189\",\"0190\",\"0191\",\"0192\",\"0193\",\"0194\",\"0195\",\"0196\",\"0197\",\"0198\",\"0199\",\"0200\",\"0201\",\"0202\",\"0203\",\"0204\",\"0205\",\"0206\",\"0207\",\"0208\",\"0209\",\"0210\",\"0211\",\"0212\",\"0213\",\"0214\",\"0215\",\"0216\",\"0217\",\"0218\",\"0219\",\"0220\",\"0221\",\"0222\",\"0223\",\"0224\",\"0225\",\"0226\",\"0227\",\"0228\",\"0229\",\"0230\",\"0231\",\"0232\",\"0233\",\"0234\",\"0235\",\"0236\",\"0237\",\"0238\",\"0239\",\"0240\",\"0241\",\"0242\",\"0243\",\"0244\",\"0245\",\"0246\",\"0247\",\"0248\",\"0249\",\"0250\",\"0251\",\"0252\",\"0253\",\"0254\",\"0255\",\"0256\",\"0257\",\"0258\",\"0259\",\"0260\",\"0261\",\"0262\",\"0263\",\"0264\",\"0265\",\"0266\",\"0267\",\"0268\",\"0269\",\"0270\",\"0271\",\"0272\",\"0273\",\"0274\",\"0275\",\"0276\",\"0277\",\"0278\",\"0279\",\"0280\",\"0281\",\"0282\",\"0283\",\"0284\",\"0285\",\"0286\",\"0287\",\"0288\",\"0289\",\"0290\",\"0291\",\"0292\",\"0293\",\"0294\",\"0295\",\"0296\",\"0297\",\"0298\",\"0299\",\"0300\",\"0301\",\"0302\",\"0303\",\"0304\",\"0305\",\"0306\",\"0307\",\"0308\",\"0309\",\"0310\",\"0311\",\"0312\",\"0313\",\"0314\",\"0315\",\"0316\",\"0317\",\"0318\",\"0319\",\"0320\",\"0321\",\"0322\",\"0323\",\"0324\",\"0325\",\"0326\",\"0327\",\"0328\",\"0329\",\"0330\",\"0331\",\"0332\",\"0333\",\"0334\",\"0335\",\"0336\",\"0337\",\"0338\",\"0339\",\"0340\",\"0341\",\"0342\",\"0343\",\"0344\",\"0345\",\"0346\",\"0347\",\"0348\",\"0349\",\"0350\",\"0351\",\"0352\",\"0353\",\"0354\",\"0355\",\"0356\",\"0357\",\"0358\",\"0359\",\"0360\",\"0361\",\"0362\",\"0363\",\"0364\",\"0365\",\"0366\",\"0367\",\"0368\",\"0369\",\"0370\",\"0371\",\"0372\",\"0373\",\"0374\",\"0375\",\"0376\",\"0377\",\"0378\",\"0379\",\"0380\",\"0381\",\"0382\",\"0383\",\"0384\",\"0385\",\"0386\",\"0387\",\"0388\",\"0389\",\"0390\",\"0391\",\"0392\",\"0393\",\"0394\",\"0395\",\"0396\",\"0397\",\"0398\",\"0399\",\"0400\",\"0401\",\"0402\",\"0403\",\"0404\",\"0405\",\"0406\",\"0407\",\"0408\",\"0409\",\"0410\",\"0411\",\"0412\",\"0413\",\"0414\",\"0415\",\"0416\",\"0417\",\"0418\",\"0419\",\"0420\",\"0421\",\"0422\",\"0423\",\"0424\",\"0425\",\"0426\",\"0427\",\"0428\",\"0429\",\"0430\",\"0431\",\"0432\",\"0433\",\"0434\",\"0435\",\"0436\",\"0437\",\"0438\",\"0439\",\"0440\",\"0441\",\"0442\",\"0443\",\"0444\",\"0445\",\"0446\",\"0447\",\"0448\",\"0449\",\"0450\",\"0451\",\"0452\",\"0453\",\"0454\",\"0455\",\"0456\",\"0457\",\"0458\",\"0459\",\"0460\",\"0461\",\"0462\",\"0463\",\"0464\",\"0465\",\"0466\",\"0467\",\"0468\",\"0469\",\"0470\",\"0471\",\"0472\",\"0473\",\"0474\",\"0475\",\"0476\",\"0477\",\"0478\",\"0479\",\"0480\",\"0481\",\"0482\",\"0483\",\"0484\",\"0485\",\"0486\",\"0487\",\"0488\",\"0489\",\"0490\",\"0491\",\"0492\",\"0493\",\"0494\",\"0495\",\"0496\",\"0497\",\"0498\",\"0499\",\"0500\",\"0501\",\"0502\",\"0503\",\"0504\",\"0505\",\"0506\",\"0507\",\"0508\",\"0509\",\"0510\",\"0511\",\"0512\",\"0513\",\"0514\",\"0515\",\"0516\",\"0517\",\"0518\",\"0519\",\"0520\",\"0521\",\"0522\",\"0523\",\"0524\",\"0525\",\"0526\",\"0527\",\"0528\",\"0529\",\"0530\",\"0531\",\"0532\",\"0533\",\"0534\",\"0535\",\"0536\",\"0537\",\"0538\",\"0539\",\"0540\",\"0541\",\"0542\",\"0543\",\"0544\",\"0545\",\"0546\",\"0547\",\"0548\",\"0549\",\"0550\",\"0551\",\"0552\",\"0553\",\"0554\",\"0555\",\"0556\",\"0557\",\"0558\",\"0559\",\"0560\",\"0561\",\"0562\",\"0563\",\"0564\",\"0565\",\"0566\",\"0567\",\"0568\",\"0569\",\"0570\",\"0571\",\"0572\",\"0573\",\"0574\"],\"y\":[2072,2260,2334,2399,2406,2415,2420,2382,2370,2365,2345,2419,2427,2431,2445,2442,2527,2554,2580,2606,2652,2677,2714,2721,2844,2845,2900,2915,2993,3004,3015,3016,3019,2994,3016,3027,3036,3143,3165,3190,3196,3187,3312,3333,3359,3363,3365,3387,3397,3405,3414,3410,3421,3422,3415,3458,3288,3442,3458,3473,3311,3502,3502,3512,3570,3587,3591,3592,3601,3587,3569,3548,3534,3532,3521,3502,3481,3569,3616,3612,3612,3589,3563,3548,3523,3518,3507,3510,3537,3530,3508,3502,3527,3537,3536,3549,3578,3614,3628,3655,3692,3727,3758,3774,3759,3790,3801,3826,3837,3857,3878,3882,3882,3903,3921,3928,3918,3942,3939,3931,3938,3919,3911,3894,3888,3862,3859,3871,3877,3926,3943,3950,3958,3978,3974,3980,3990,3965,3964,3961,3986,3987,4002,4005,4046,4050,4054,4046,4056,4069,4078,4093,4098,4115,4116,4164,4159,4167,4200,4224,4235,4250,4247,4271,4295,4319,4328,4336,4363,4365,4381,4386,4413,4436,4293,4295,4293,4270,4273,4259,4243,4246,4273,4292,4278,4252,4247,4236,4215,4203,4208,4210,4213,4198,4203,4206,4243,4265,4289,4298,4320,4345,4363,4386,4409,4454,4480,4493,4502,4518,4537,4559,4578,4594,4623,4629,4656,4680,4682,4689,4708,4708,4719,4722,4742,4755,4781,4777,4785,4793,4820,4822,4820,4837,4886,4911,4917,4909,4899,4881,4884,4859,4872,4878,4883,4861,4853,4869,4861,4905,4900,4896,4899,4887,4856,4827,4841,4842,4848,4850,4835,4831,4809,4778,4765,4786,4772,4780,4779,4776,4736,4727,4709,4740,4744,4749,4728,4726,4748,4740,4733,4723,4718,4694,4662,4645,4603,4600,4580,4598,4604,4607,4613,4607,4582,4571,4530,4524,4499,4474,4410,4267,4270,4163,4136,4191,4123,4003,4040,4036,4073,4085,4063,4057,4074,4036,3952,3930,3918,3900,3838,3792,3725,3702,3738,3784,3819,3843,3892,3926,3981,4054,4087,4128,4163,4214,4233,4236,4243,4259,4237,4243,4252,4258,4285,4310,4312,4346,4337,4354,4387,4401,4419,4433,4439,4426,4426,4418,4410,4412,4391,4406,4394,4384,4385,4383,4391,4401,4399,4379,4368,4353,4349,4352,4370,4391,4400,4418,4422,4374,4395,4402,4424,4406,4414,4411,4405,4411,4399,4419,4419,4470,4412,4410,4413,4438,4446,4419,4405,4383,4378,4382,4385,4425,4453,4463,4488,4495,4504,4529,4534,4530,4528,4544,4588,4607,4645,4653,4664,4680,4687,4694,4722,4731,4729,4712,4720,4719,4721,4741,4745,4764,4762,4758,4742,4742,4757,4736,4725,4730,4709,4670,4669,4710,4740,4718,4713,4703,4658,4641,4646,4635,4637,4620,4610,4586,4570,4565,4587,4603,4638,4635,4605,4568,4517,4518,4523,4497,4501,4414,4347,4348,4372,4407,4451,4488,4497,4539,4558,4551,4568,4586,4604,4710,4607,4591,4584,4581,4566,4510,4481,4457,4539,4495,4497,4490,4507,4512,4493,4464,4447,4452,4428,4433,4427,4440,4476,4455,4474,4491,4484,4458,4449,4461,4458,4391,4396,4487,4505,4507,4515,4523,4472,4490,4504,4534,4572,4580,4571,4575,4571,4588,4612,4598,4600,4614,4617,4681,4613,4641,4662,4671,4698,4690,4685,4668,4649,4673,4706,4692,4696,4692,4686,4669,4668,4653,4627,4642,4650,4655,4694,4708,4713,4717,4745,4755,4774,4796,4798,4804,4811,4793,4793,4801],\"type\":\"bar\"}],                        {\"title\":{\"text\":\"Number of stocks in each era\"},\"xaxis\":{\"title\":{\"text\":\"Era\"}},\"yaxis\":{\"title\":{\"text\":\"Number of stocks\"}},\"template\":{\"data\":{\"histogram2dcontour\":[{\"type\":\"histogram2dcontour\",\"colorbar\":{\"outlinewidth\":0,\"ticks\":\"\"},\"colorscale\":[[0.0,\"#0d0887\"],[0.1111111111111111,\"#46039f\"],[0.2222222222222222,\"#7201a8\"],[0.3333333333333333,\"#9c179e\"],[0.4444444444444444,\"#bd3786\"],[0.5555555555555556,\"#d8576b\"],[0.6666666666666666,\"#ed7953\"],[0.7777777777777778,\"#fb9f3a\"],[0.8888888888888888,\"#fdca26\"],[1.0,\"#f0f921\"]]}],\"choropleth\":[{\"type\":\"choropleth\",\"colorbar\":{\"outlinewidth\":0,\"ticks\":\"\"}}],\"histogram2d\":[{\"type\":\"histogram2d\",\"colorbar\":{\"outlinewidth\":0,\"ticks\":\"\"},\"colorscale\":[[0.0,\"#0d0887\"],[0.1111111111111111,\"#46039f\"],[0.2222222222222222,\"#7201a8\"],[0.3333333333333333,\"#9c179e\"],[0.4444444444444444,\"#bd3786\"],[0.5555555555555556,\"#d8576b\"],[0.6666666666666666,\"#ed7953\"],[0.7777777777777778,\"#fb9f3a\"],[0.8888888888888888,\"#fdca26\"],[1.0,\"#f0f921\"]]}],\"heatmap\":[{\"type\":\"heatmap\",\"colorbar\":{\"outlinewidth\":0,\"ticks\":\"\"},\"colorscale\":[[0.0,\"#0d0887\"],[0.1111111111111111,\"#46039f\"],[0.2222222222222222,\"#7201a8\"],[0.3333333333333333,\"#9c179e\"],[0.4444444444444444,\"#bd3786\"],[0.5555555555555556,\"#d8576b\"],[0.6666666666666666,\"#ed7953\"],[0.7777777777777778,\"#fb9f3a\"],[0.8888888888888888,\"#fdca26\"],[1.0,\"#f0f921\"]]}],\"heatmapgl\":[{\"type\":\"heatmapgl\",\"colorbar\":{\"outlinewidth\":0,\"ticks\":\"\"},\"colorscale\":[[0.0,\"#0d0887\"],[0.1111111111111111,\"#46039f\"],[0.2222222222222222,\"#7201a8\"],[0.3333333333333333,\"#9c179e\"],[0.4444444444444444,\"#bd3786\"],[0.5555555555555556,\"#d8576b\"],[0.6666666666666666,\"#ed7953\"],[0.7777777777777778,\"#fb9f3a\"],[0.8888888888888888,\"#fdca26\"],[1.0,\"#f0f921\"]]}],\"contourcarpet\":[{\"type\":\"contourcarpet\",\"colorbar\":{\"outlinewidth\":0,\"ticks\":\"\"}}],\"contour\":[{\"type\":\"contour\",\"colorbar\":{\"outlinewidth\":0,\"ticks\":\"\"},\"colorscale\":[[0.0,\"#0d0887\"],[0.1111111111111111,\"#46039f\"],[0.2222222222222222,\"#7201a8\"],[0.3333333333333333,\"#9c179e\"],[0.4444444444444444,\"#bd3786\"],[0.5555555555555556,\"#d8576b\"],[0.6666666666666666,\"#ed7953\"],[0.7777777777777778,\"#fb9f3a\"],[0.8888888888888888,\"#fdca26\"],[1.0,\"#f0f921\"]]}],\"surface\":[{\"type\":\"surface\",\"colorbar\":{\"outlinewidth\":0,\"ticks\":\"\"},\"colorscale\":[[0.0,\"#0d0887\"],[0.1111111111111111,\"#46039f\"],[0.2222222222222222,\"#7201a8\"],[0.3333333333333333,\"#9c179e\"],[0.4444444444444444,\"#bd3786\"],[0.5555555555555556,\"#d8576b\"],[0.6666666666666666,\"#ed7953\"],[0.7777777777777778,\"#fb9f3a\"],[0.8888888888888888,\"#fdca26\"],[1.0,\"#f0f921\"]]}],\"mesh3d\":[{\"type\":\"mesh3d\",\"colorbar\":{\"outlinewidth\":0,\"ticks\":\"\"}}],\"scatter\":[{\"fillpattern\":{\"fillmode\":\"overlay\",\"size\":10,\"solidity\":0.2},\"type\":\"scatter\"}],\"parcoords\":[{\"type\":\"parcoords\",\"line\":{\"colorbar\":{\"outlinewidth\":0,\"ticks\":\"\"}}}],\"scatterpolargl\":[{\"type\":\"scatterpolargl\",\"marker\":{\"colorbar\":{\"outlinewidth\":0,\"ticks\":\"\"}}}],\"bar\":[{\"error_x\":{\"color\":\"#2a3f5f\"},\"error_y\":{\"color\":\"#2a3f5f\"},\"marker\":{\"line\":{\"color\":\"#E5ECF6\",\"width\":0.5},\"pattern\":{\"fillmode\":\"overlay\",\"size\":10,\"solidity\":0.2}},\"type\":\"bar\"}],\"scattergeo\":[{\"type\":\"scattergeo\",\"marker\":{\"colorbar\":{\"outlinewidth\":0,\"ticks\":\"\"}}}],\"scatterpolar\":[{\"type\":\"scatterpolar\",\"marker\":{\"colorbar\":{\"outlinewidth\":0,\"ticks\":\"\"}}}],\"histogram\":[{\"marker\":{\"pattern\":{\"fillmode\":\"overlay\",\"size\":10,\"solidity\":0.2}},\"type\":\"histogram\"}],\"scattergl\":[{\"type\":\"scattergl\",\"marker\":{\"colorbar\":{\"outlinewidth\":0,\"ticks\":\"\"}}}],\"scatter3d\":[{\"type\":\"scatter3d\",\"line\":{\"colorbar\":{\"outlinewidth\":0,\"ticks\":\"\"}},\"marker\":{\"colorbar\":{\"outlinewidth\":0,\"ticks\":\"\"}}}],\"scattermapbox\":[{\"type\":\"scattermapbox\",\"marker\":{\"colorbar\":{\"outlinewidth\":0,\"ticks\":\"\"}}}],\"scatterternary\":[{\"type\":\"scatterternary\",\"marker\":{\"colorbar\":{\"outlinewidth\":0,\"ticks\":\"\"}}}],\"scattercarpet\":[{\"type\":\"scattercarpet\",\"marker\":{\"colorbar\":{\"outlinewidth\":0,\"ticks\":\"\"}}}],\"carpet\":[{\"aaxis\":{\"endlinecolor\":\"#2a3f5f\",\"gridcolor\":\"white\",\"linecolor\":\"white\",\"minorgridcolor\":\"white\",\"startlinecolor\":\"#2a3f5f\"},\"baxis\":{\"endlinecolor\":\"#2a3f5f\",\"gridcolor\":\"white\",\"linecolor\":\"white\",\"minorgridcolor\":\"white\",\"startlinecolor\":\"#2a3f5f\"},\"type\":\"carpet\"}],\"table\":[{\"cells\":{\"fill\":{\"color\":\"#EBF0F8\"},\"line\":{\"color\":\"white\"}},\"header\":{\"fill\":{\"color\":\"#C8D4E3\"},\"line\":{\"color\":\"white\"}},\"type\":\"table\"}],\"barpolar\":[{\"marker\":{\"line\":{\"color\":\"#E5ECF6\",\"width\":0.5},\"pattern\":{\"fillmode\":\"overlay\",\"size\":10,\"solidity\":0.2}},\"type\":\"barpolar\"}],\"pie\":[{\"automargin\":true,\"type\":\"pie\"}]},\"layout\":{\"autotypenumbers\":\"strict\",\"colorway\":[\"#636efa\",\"#EF553B\",\"#00cc96\",\"#ab63fa\",\"#FFA15A\",\"#19d3f3\",\"#FF6692\",\"#B6E880\",\"#FF97FF\",\"#FECB52\"],\"font\":{\"color\":\"#2a3f5f\"},\"hovermode\":\"closest\",\"hoverlabel\":{\"align\":\"left\"},\"paper_bgcolor\":\"white\",\"plot_bgcolor\":\"#E5ECF6\",\"polar\":{\"bgcolor\":\"#E5ECF6\",\"angularaxis\":{\"gridcolor\":\"white\",\"linecolor\":\"white\",\"ticks\":\"\"},\"radialaxis\":{\"gridcolor\":\"white\",\"linecolor\":\"white\",\"ticks\":\"\"}},\"ternary\":{\"bgcolor\":\"#E5ECF6\",\"aaxis\":{\"gridcolor\":\"white\",\"linecolor\":\"white\",\"ticks\":\"\"},\"baxis\":{\"gridcolor\":\"white\",\"linecolor\":\"white\",\"ticks\":\"\"},\"caxis\":{\"gridcolor\":\"white\",\"linecolor\":\"white\",\"ticks\":\"\"}},\"coloraxis\":{\"colorbar\":{\"outlinewidth\":0,\"ticks\":\"\"}},\"colorscale\":{\"sequential\":[[0.0,\"#0d0887\"],[0.1111111111111111,\"#46039f\"],[0.2222222222222222,\"#7201a8\"],[0.3333333333333333,\"#9c179e\"],[0.4444444444444444,\"#bd3786\"],[0.5555555555555556,\"#d8576b\"],[0.6666666666666666,\"#ed7953\"],[0.7777777777777778,\"#fb9f3a\"],[0.8888888888888888,\"#fdca26\"],[1.0,\"#f0f921\"]],\"sequentialminus\":[[0.0,\"#0d0887\"],[0.1111111111111111,\"#46039f\"],[0.2222222222222222,\"#7201a8\"],[0.3333333333333333,\"#9c179e\"],[0.4444444444444444,\"#bd3786\"],[0.5555555555555556,\"#d8576b\"],[0.6666666666666666,\"#ed7953\"],[0.7777777777777778,\"#fb9f3a\"],[0.8888888888888888,\"#fdca26\"],[1.0,\"#f0f921\"]],\"diverging\":[[0,\"#8e0152\"],[0.1,\"#c51b7d\"],[0.2,\"#de77ae\"],[0.3,\"#f1b6da\"],[0.4,\"#fde0ef\"],[0.5,\"#f7f7f7\"],[0.6,\"#e6f5d0\"],[0.7,\"#b8e186\"],[0.8,\"#7fbc41\"],[0.9,\"#4d9221\"],[1,\"#276419\"]]},\"xaxis\":{\"gridcolor\":\"white\",\"linecolor\":\"white\",\"ticks\":\"\",\"title\":{\"standoff\":15},\"zerolinecolor\":\"white\",\"automargin\":true,\"zerolinewidth\":2},\"yaxis\":{\"gridcolor\":\"white\",\"linecolor\":\"white\",\"ticks\":\"\",\"title\":{\"standoff\":15},\"zerolinecolor\":\"white\",\"automargin\":true,\"zerolinewidth\":2},\"scene\":{\"xaxis\":{\"backgroundcolor\":\"#E5ECF6\",\"gridcolor\":\"white\",\"linecolor\":\"white\",\"showbackground\":true,\"ticks\":\"\",\"zerolinecolor\":\"white\",\"gridwidth\":2},\"yaxis\":{\"backgroundcolor\":\"#E5ECF6\",\"gridcolor\":\"white\",\"linecolor\":\"white\",\"showbackground\":true,\"ticks\":\"\",\"zerolinecolor\":\"white\",\"gridwidth\":2},\"zaxis\":{\"backgroundcolor\":\"#E5ECF6\",\"gridcolor\":\"white\",\"linecolor\":\"white\",\"showbackground\":true,\"ticks\":\"\",\"zerolinecolor\":\"white\",\"gridwidth\":2}},\"shapedefaults\":{\"line\":{\"color\":\"#2a3f5f\"}},\"annotationdefaults\":{\"arrowcolor\":\"#2a3f5f\",\"arrowhead\":0,\"arrowwidth\":1},\"geo\":{\"bgcolor\":\"white\",\"landcolor\":\"#E5ECF6\",\"subunitcolor\":\"white\",\"showland\":true,\"showlakes\":true,\"lakecolor\":\"white\"},\"title\":{\"x\":0.05},\"mapbox\":{\"style\":\"light\"}}}},                        {\"responsive\": true}                    ).then(function(){\n",
       "                            \n",
       "var gd = document.getElementById('5cd3bbff-8ab0-4d5f-86ae-83c67df1a680');\n",
       "var x = new MutationObserver(function (mutations, observer) {{\n",
       "        var display = window.getComputedStyle(gd).display;\n",
       "        if (!display || display === 'none') {{\n",
       "            console.log([gd, 'removed!']);\n",
       "            Plotly.purge(gd);\n",
       "            observer.disconnect();\n",
       "        }}\n",
       "}});\n",
       "\n",
       "// Listen for the removal of the full notebook cells\n",
       "var notebookContainer = gd.closest('#notebook-container');\n",
       "if (notebookContainer) {{\n",
       "    x.observe(notebookContainer, {childList: true});\n",
       "}}\n",
       "\n",
       "// Listen for the clearing of the current output cell\n",
       "var outputEl = gd.closest('.output');\n",
       "if (outputEl) {{\n",
       "    x.observe(outputEl, {childList: true});\n",
       "}}\n",
       "\n",
       "                        })                };                });            </script>        </div>"
      ]
     },
     "metadata": {},
     "output_type": "display_data"
    },
    {
     "name": "stdout",
     "output_type": "stream",
     "text": [
      "\r"
     ]
    }
   ],
   "source": [
    "fig_era_cnt = train_era_grp.size().iplot(\n",
    "    kind=\"bar\",\n",
    "    layout={\n",
    "        \"xaxis\": {\"title\": \"Era\"},\n",
    "        \"yaxis\": {\"title\": \"Number of stocks\"},\n",
    "        \"title\": \"Number of stocks in each era\",\n",
    "    },\n",
    "    asFigure=True,\n",
    ")\n",
    "fig_era_cnt"
   ]
  },
  {
   "cell_type": "code",
   "execution_count": 17,
   "id": "aa5055f3",
   "metadata": {
    "scrolled": false
   },
   "outputs": [
    {
     "data": {
      "application/vnd.plotly.v1+json": {
       "config": {
        "plotlyServerURL": "https://plot.ly"
       },
       "data": [
        {
         "marker": {
          "color": "rgba(255, 153, 51, 0.6)",
          "line": {
           "color": "rgba(255, 153, 51, 1.0)",
           "width": 1
          }
         },
         "name": "None",
         "orientation": "v",
         "text": "",
         "type": "bar",
         "x": [
          "2012-02-02",
          "2012-02-09",
          "2012-02-16",
          "2012-02-23",
          "2012-03-01",
          "2012-03-08",
          "2012-03-15",
          "2012-03-22",
          "2012-03-29",
          "2012-04-05",
          "2012-04-12",
          "2012-04-19",
          "2012-04-26",
          "2012-05-03",
          "2012-05-10",
          "2012-05-17",
          "2012-05-24",
          "2012-05-31",
          "2012-06-07",
          "2012-06-14",
          "2012-06-21",
          "2012-06-28",
          "2012-07-05",
          "2012-07-12",
          "2012-07-19",
          "2012-07-26",
          "2012-08-02",
          "2012-08-09",
          "2012-08-16",
          "2012-08-23",
          "2012-08-30",
          "2012-09-06",
          "2012-09-13",
          "2012-09-20",
          "2012-09-27",
          "2012-10-04",
          "2012-10-11",
          "2012-10-18",
          "2012-10-25",
          "2012-11-01",
          "2012-11-08",
          "2012-11-15",
          "2012-11-22",
          "2012-11-29",
          "2012-12-06",
          "2012-12-13",
          "2012-12-20",
          "2012-12-27",
          "2013-01-03",
          "2013-01-10",
          "2013-01-17",
          "2013-01-24",
          "2013-01-31",
          "2013-02-07",
          "2013-02-14",
          "2013-02-21",
          "2013-02-28",
          "2013-03-07",
          "2013-03-14",
          "2013-03-21",
          "2013-03-28",
          "2013-04-04",
          "2013-04-11",
          "2013-04-18",
          "2013-04-25",
          "2013-05-02",
          "2013-05-09",
          "2013-05-16",
          "2013-05-23",
          "2013-05-30",
          "2013-06-06",
          "2013-06-13",
          "2013-06-20",
          "2013-06-27",
          "2013-07-04",
          "2013-07-11",
          "2013-07-18",
          "2013-07-25",
          "2013-08-01",
          "2013-08-08",
          "2013-08-15",
          "2013-08-22",
          "2013-08-29",
          "2013-09-05",
          "2013-09-12",
          "2013-09-19",
          "2013-09-26",
          "2013-10-03",
          "2013-10-10",
          "2013-10-17",
          "2013-10-24",
          "2013-10-31",
          "2013-11-07",
          "2013-11-14",
          "2013-11-21",
          "2013-11-28",
          "2013-12-05",
          "2013-12-12",
          "2013-12-19",
          "2013-12-26",
          "2014-01-02",
          "2014-01-09",
          "2014-01-16",
          "2014-01-23",
          "2014-01-30",
          "2014-02-06",
          "2014-02-13",
          "2014-02-20",
          "2014-02-27",
          "2014-03-06",
          "2014-03-13",
          "2014-03-20",
          "2014-03-27",
          "2014-04-03",
          "2014-04-10",
          "2014-04-17",
          "2014-04-24",
          "2014-05-01",
          "2014-05-08",
          "2014-05-15",
          "2014-05-22",
          "2014-05-29",
          "2014-06-05",
          "2014-06-12",
          "2014-06-19",
          "2014-06-26",
          "2014-07-03",
          "2014-07-10",
          "2014-07-17",
          "2014-07-24",
          "2014-07-31",
          "2014-08-07",
          "2014-08-14",
          "2014-08-21",
          "2014-08-28",
          "2014-09-04",
          "2014-09-11",
          "2014-09-18",
          "2014-09-25",
          "2014-10-02",
          "2014-10-09",
          "2014-10-16",
          "2014-10-23",
          "2014-10-30",
          "2014-11-06",
          "2014-11-13",
          "2014-11-20",
          "2014-11-27",
          "2014-12-04",
          "2014-12-11",
          "2014-12-18",
          "2014-12-25",
          "2015-01-01",
          "2015-01-08",
          "2015-01-15",
          "2015-01-22",
          "2015-01-29",
          "2015-02-05",
          "2015-02-12",
          "2015-02-19",
          "2015-02-26",
          "2015-03-05",
          "2015-03-12",
          "2015-03-19",
          "2015-03-26",
          "2015-04-02",
          "2015-04-09",
          "2015-04-16",
          "2015-04-23",
          "2015-04-30",
          "2015-05-07",
          "2015-05-14",
          "2015-05-21",
          "2015-05-28",
          "2015-06-04",
          "2015-06-11",
          "2015-06-18",
          "2015-06-25",
          "2015-07-02",
          "2015-07-09",
          "2015-07-16",
          "2015-07-23",
          "2015-07-30",
          "2015-08-06",
          "2015-08-13",
          "2015-08-20",
          "2015-08-27",
          "2015-09-03",
          "2015-09-10",
          "2015-09-17",
          "2015-09-24",
          "2015-10-01",
          "2015-10-08",
          "2015-10-15",
          "2015-10-22",
          "2015-10-29",
          "2015-11-05",
          "2015-11-12",
          "2015-11-19",
          "2015-11-26",
          "2015-12-03",
          "2015-12-10",
          "2015-12-17",
          "2015-12-24",
          "2015-12-31",
          "2016-01-07",
          "2016-01-14",
          "2016-01-21",
          "2016-01-28",
          "2016-02-04",
          "2016-02-11",
          "2016-02-18",
          "2016-02-25",
          "2016-03-03",
          "2016-03-10",
          "2016-03-17",
          "2016-03-24",
          "2016-03-31",
          "2016-04-07",
          "2016-04-14",
          "2016-04-21",
          "2016-04-28",
          "2016-05-05",
          "2016-05-12",
          "2016-05-19",
          "2016-05-26",
          "2016-06-02",
          "2016-06-09",
          "2016-06-16",
          "2016-06-23",
          "2016-06-30",
          "2016-07-07",
          "2016-07-14",
          "2016-07-21",
          "2016-07-28",
          "2016-08-04",
          "2016-08-11",
          "2016-08-18",
          "2016-08-25",
          "2016-09-01",
          "2016-09-08",
          "2016-09-15",
          "2016-09-22",
          "2016-09-29",
          "2016-10-06",
          "2016-10-13",
          "2016-10-20",
          "2016-10-27",
          "2016-11-03",
          "2016-11-10",
          "2016-11-17",
          "2016-11-24",
          "2016-12-01",
          "2016-12-08",
          "2016-12-15",
          "2016-12-22",
          "2016-12-29",
          "2017-01-05",
          "2017-01-12",
          "2017-01-19",
          "2017-01-26",
          "2017-02-02",
          "2017-02-09",
          "2017-02-16",
          "2017-02-23",
          "2017-03-02",
          "2017-03-09",
          "2017-03-16",
          "2017-03-23",
          "2017-03-30",
          "2017-04-06",
          "2017-04-13",
          "2017-04-20",
          "2017-04-27",
          "2017-05-04",
          "2017-05-11",
          "2017-05-18",
          "2017-05-25",
          "2017-06-01",
          "2017-06-08",
          "2017-06-15",
          "2017-06-22",
          "2017-06-29",
          "2017-07-06",
          "2017-07-13",
          "2017-07-20",
          "2017-07-27",
          "2017-08-03",
          "2017-08-10",
          "2017-08-17",
          "2017-08-24",
          "2017-08-31",
          "2017-09-07",
          "2017-09-14",
          "2017-09-21",
          "2017-09-28",
          "2017-10-05",
          "2017-10-12",
          "2017-10-19",
          "2017-10-26",
          "2017-11-02",
          "2017-11-09",
          "2017-11-16",
          "2017-11-23",
          "2017-11-30",
          "2017-12-07",
          "2017-12-14",
          "2017-12-21",
          "2017-12-28",
          "2018-01-04",
          "2018-01-11",
          "2018-01-18",
          "2018-01-25",
          "2018-02-01",
          "2018-02-08",
          "2018-02-15",
          "2018-02-22",
          "2018-03-01",
          "2018-03-08",
          "2018-03-15",
          "2018-03-22",
          "2018-03-29",
          "2018-04-05",
          "2018-04-12",
          "2018-04-19",
          "2018-04-26",
          "2018-05-03",
          "2018-05-10",
          "2018-05-17",
          "2018-05-24",
          "2018-05-31",
          "2018-06-07",
          "2018-06-14",
          "2018-06-21",
          "2018-06-28",
          "2018-07-05",
          "2018-07-12",
          "2018-07-19",
          "2018-07-26",
          "2018-08-02",
          "2018-08-09",
          "2018-08-16",
          "2018-08-23",
          "2018-08-30",
          "2018-09-06",
          "2018-09-13",
          "2018-09-20",
          "2018-09-27",
          "2018-10-04",
          "2018-10-11",
          "2018-10-18",
          "2018-10-25",
          "2018-11-01",
          "2018-11-08",
          "2018-11-15",
          "2018-11-22",
          "2018-11-29",
          "2018-12-06",
          "2018-12-13",
          "2018-12-20",
          "2018-12-27",
          "2019-01-03",
          "2019-01-10",
          "2019-01-17",
          "2019-01-24",
          "2019-01-31",
          "2019-02-07",
          "2019-02-14",
          "2019-02-21",
          "2019-02-28",
          "2019-03-07",
          "2019-03-14",
          "2019-03-21",
          "2019-03-28",
          "2019-04-04",
          "2019-04-11",
          "2019-04-18",
          "2019-04-25",
          "2019-05-02",
          "2019-05-09",
          "2019-05-16",
          "2019-05-23",
          "2019-05-30",
          "2019-06-06",
          "2019-06-13",
          "2019-06-20",
          "2019-06-27",
          "2019-07-04",
          "2019-07-11",
          "2019-07-18",
          "2019-07-25",
          "2019-08-01",
          "2019-08-08",
          "2019-08-15",
          "2019-08-22",
          "2019-08-29",
          "2019-09-05",
          "2019-09-12",
          "2019-09-19",
          "2019-09-26",
          "2019-10-03",
          "2019-10-10",
          "2019-10-17",
          "2019-10-24",
          "2019-10-31",
          "2019-11-07",
          "2019-11-14",
          "2019-11-21",
          "2019-11-28",
          "2019-12-05",
          "2019-12-12",
          "2019-12-19",
          "2019-12-26",
          "2020-01-02",
          "2020-01-09",
          "2020-01-16",
          "2020-01-23",
          "2020-01-30",
          "2020-02-06",
          "2020-02-13",
          "2020-02-20",
          "2020-02-27",
          "2020-03-05",
          "2020-03-12",
          "2020-03-19",
          "2020-03-26",
          "2020-04-02",
          "2020-04-09",
          "2020-04-16",
          "2020-04-23",
          "2020-04-30",
          "2020-05-07",
          "2020-05-14",
          "2020-05-21",
          "2020-05-28",
          "2020-06-04",
          "2020-06-11",
          "2020-06-18",
          "2020-06-25",
          "2020-07-02",
          "2020-07-09",
          "2020-07-16",
          "2020-07-23",
          "2020-07-30",
          "2020-08-06",
          "2020-08-13",
          "2020-08-20",
          "2020-08-27",
          "2020-09-03",
          "2020-09-10",
          "2020-09-17",
          "2020-09-24",
          "2020-10-01",
          "2020-10-08",
          "2020-10-15",
          "2020-10-22",
          "2020-10-29",
          "2020-11-05",
          "2020-11-12",
          "2020-11-19",
          "2020-11-26",
          "2020-12-03",
          "2020-12-10",
          "2020-12-17",
          "2020-12-24",
          "2020-12-31",
          "2021-01-07",
          "2021-01-14",
          "2021-01-21",
          "2021-01-28",
          "2021-02-04",
          "2021-02-11",
          "2021-02-18",
          "2021-02-25",
          "2021-03-04",
          "2021-03-11",
          "2021-03-18",
          "2021-03-25",
          "2021-04-01",
          "2021-04-08",
          "2021-04-15",
          "2021-04-22",
          "2021-04-29",
          "2021-05-06",
          "2021-05-13",
          "2021-05-20",
          "2021-05-27",
          "2021-06-03",
          "2021-06-10",
          "2021-06-17",
          "2021-06-24",
          "2021-07-01",
          "2021-07-08",
          "2021-07-15",
          "2021-07-22",
          "2021-07-29",
          "2021-08-05",
          "2021-08-12",
          "2021-08-19",
          "2021-08-26",
          "2021-09-02",
          "2021-09-09",
          "2021-09-16",
          "2021-09-23",
          "2021-09-30",
          "2021-10-07",
          "2021-10-14",
          "2021-10-21",
          "2021-10-28",
          "2021-11-04",
          "2021-11-11",
          "2021-11-18",
          "2021-11-25",
          "2021-12-02",
          "2021-12-09",
          "2021-12-16",
          "2021-12-23",
          "2021-12-30",
          "2022-01-06",
          "2022-01-13",
          "2022-01-20",
          "2022-01-27",
          "2022-02-03",
          "2022-02-10",
          "2022-02-17",
          "2022-02-24",
          "2022-03-03",
          "2022-03-10",
          "2022-03-17",
          "2022-03-24",
          "2022-03-31",
          "2022-04-07",
          "2022-04-14",
          "2022-04-21",
          "2022-04-28",
          "2022-05-05",
          "2022-05-12",
          "2022-05-19",
          "2022-05-26",
          "2022-06-02",
          "2022-06-09",
          "2022-06-16",
          "2022-06-23",
          "2022-06-30",
          "2022-07-07",
          "2022-07-14",
          "2022-07-21",
          "2022-07-28",
          "2022-08-04",
          "2022-08-11",
          "2022-08-18",
          "2022-08-25",
          "2022-09-01",
          "2022-09-08",
          "2022-09-15",
          "2022-09-22",
          "2022-09-29",
          "2022-10-06",
          "2022-10-13",
          "2022-10-20",
          "2022-10-27",
          "2022-11-03",
          "2022-11-10",
          "2022-11-17",
          "2022-11-24",
          "2022-12-01",
          "2022-12-08",
          "2022-12-15",
          "2022-12-22",
          "2022-12-29",
          "2023-01-05",
          "2023-01-12",
          "2023-01-19",
          "2023-01-26"
         ],
         "y": [
          2072,
          2260,
          2334,
          2399,
          2406,
          2415,
          2420,
          2382,
          2370,
          2365,
          2345,
          2419,
          2427,
          2431,
          2445,
          2442,
          2527,
          2554,
          2580,
          2606,
          2652,
          2677,
          2714,
          2721,
          2844,
          2845,
          2900,
          2915,
          2993,
          3004,
          3015,
          3016,
          3019,
          2994,
          3016,
          3027,
          3036,
          3143,
          3165,
          3190,
          3196,
          3187,
          3312,
          3333,
          3359,
          3363,
          3365,
          3387,
          3397,
          3405,
          3414,
          3410,
          3421,
          3422,
          3415,
          3458,
          3288,
          3442,
          3458,
          3473,
          3311,
          3502,
          3502,
          3512,
          3570,
          3587,
          3591,
          3592,
          3601,
          3587,
          3569,
          3548,
          3534,
          3532,
          3521,
          3502,
          3481,
          3569,
          3616,
          3612,
          3612,
          3589,
          3563,
          3548,
          3523,
          3518,
          3507,
          3510,
          3537,
          3530,
          3508,
          3502,
          3527,
          3537,
          3536,
          3549,
          3578,
          3614,
          3628,
          3655,
          3692,
          3727,
          3758,
          3774,
          3759,
          3790,
          3801,
          3826,
          3837,
          3857,
          3878,
          3882,
          3882,
          3903,
          3921,
          3928,
          3918,
          3942,
          3939,
          3931,
          3938,
          3919,
          3911,
          3894,
          3888,
          3862,
          3859,
          3871,
          3877,
          3926,
          3943,
          3950,
          3958,
          3978,
          3974,
          3980,
          3990,
          3965,
          3964,
          3961,
          3986,
          3987,
          4002,
          4005,
          4046,
          4050,
          4054,
          4046,
          4056,
          4069,
          4078,
          4093,
          4098,
          4115,
          4116,
          4164,
          4159,
          4167,
          4200,
          4224,
          4235,
          4250,
          4247,
          4271,
          4295,
          4319,
          4328,
          4336,
          4363,
          4365,
          4381,
          4386,
          4413,
          4436,
          4293,
          4295,
          4293,
          4270,
          4273,
          4259,
          4243,
          4246,
          4273,
          4292,
          4278,
          4252,
          4247,
          4236,
          4215,
          4203,
          4208,
          4210,
          4213,
          4198,
          4203,
          4206,
          4243,
          4265,
          4289,
          4298,
          4320,
          4345,
          4363,
          4386,
          4409,
          4454,
          4480,
          4493,
          4502,
          4518,
          4537,
          4559,
          4578,
          4594,
          4623,
          4629,
          4656,
          4680,
          4682,
          4689,
          4708,
          4708,
          4719,
          4722,
          4742,
          4755,
          4781,
          4777,
          4785,
          4793,
          4820,
          4822,
          4820,
          4837,
          4886,
          4911,
          4917,
          4909,
          4899,
          4881,
          4884,
          4859,
          4872,
          4878,
          4883,
          4861,
          4853,
          4869,
          4861,
          4905,
          4900,
          4896,
          4899,
          4887,
          4856,
          4827,
          4841,
          4842,
          4848,
          4850,
          4835,
          4831,
          4809,
          4778,
          4765,
          4786,
          4772,
          4780,
          4779,
          4776,
          4736,
          4727,
          4709,
          4740,
          4744,
          4749,
          4728,
          4726,
          4748,
          4740,
          4733,
          4723,
          4718,
          4694,
          4662,
          4645,
          4603,
          4600,
          4580,
          4598,
          4604,
          4607,
          4613,
          4607,
          4582,
          4571,
          4530,
          4524,
          4499,
          4474,
          4410,
          4267,
          4270,
          4163,
          4136,
          4191,
          4123,
          4003,
          4040,
          4036,
          4073,
          4085,
          4063,
          4057,
          4074,
          4036,
          3952,
          3930,
          3918,
          3900,
          3838,
          3792,
          3725,
          3702,
          3738,
          3784,
          3819,
          3843,
          3892,
          3926,
          3981,
          4054,
          4087,
          4128,
          4163,
          4214,
          4233,
          4236,
          4243,
          4259,
          4237,
          4243,
          4252,
          4258,
          4285,
          4310,
          4312,
          4346,
          4337,
          4354,
          4387,
          4401,
          4419,
          4433,
          4439,
          4426,
          4426,
          4418,
          4410,
          4412,
          4391,
          4406,
          4394,
          4384,
          4385,
          4383,
          4391,
          4401,
          4399,
          4379,
          4368,
          4353,
          4349,
          4352,
          4370,
          4391,
          4400,
          4418,
          4422,
          4374,
          4395,
          4402,
          4424,
          4406,
          4414,
          4411,
          4405,
          4411,
          4399,
          4419,
          4419,
          4470,
          4412,
          4410,
          4413,
          4438,
          4446,
          4419,
          4405,
          4383,
          4378,
          4382,
          4385,
          4425,
          4453,
          4463,
          4488,
          4495,
          4504,
          4529,
          4534,
          4530,
          4528,
          4544,
          4588,
          4607,
          4645,
          4653,
          4664,
          4680,
          4687,
          4694,
          4722,
          4731,
          4729,
          4712,
          4720,
          4719,
          4721,
          4741,
          4745,
          4764,
          4762,
          4758,
          4742,
          4742,
          4757,
          4736,
          4725,
          4730,
          4709,
          4670,
          4669,
          4710,
          4740,
          4718,
          4713,
          4703,
          4658,
          4641,
          4646,
          4635,
          4637,
          4620,
          4610,
          4586,
          4570,
          4565,
          4587,
          4603,
          4638,
          4635,
          4605,
          4568,
          4517,
          4518,
          4523,
          4497,
          4501,
          4414,
          4347,
          4348,
          4372,
          4407,
          4451,
          4488,
          4497,
          4539,
          4558,
          4551,
          4568,
          4586,
          4604,
          4710,
          4607,
          4591,
          4584,
          4581,
          4566,
          4510,
          4481,
          4457,
          4539,
          4495,
          4497,
          4490,
          4507,
          4512,
          4493,
          4464,
          4447,
          4452,
          4428,
          4433,
          4427,
          4440,
          4476,
          4455,
          4474,
          4491,
          4484,
          4458,
          4449,
          4461,
          4458,
          4391,
          4396,
          4487,
          4505,
          4507,
          4515,
          4523,
          4472,
          4490,
          4504,
          4534,
          4572,
          4580,
          4571,
          4575,
          4571,
          4588,
          4612,
          4598,
          4600,
          4614,
          4617,
          4681,
          4613,
          4641,
          4662,
          4671,
          4698,
          4690,
          4685,
          4668,
          4649,
          4673,
          4706,
          4692,
          4696,
          4692,
          4686,
          4669,
          4668,
          4653,
          4627,
          4642,
          4650,
          4655,
          4694,
          4708,
          4713,
          4717,
          4745,
          4755,
          4774,
          4796,
          4798,
          4804,
          4811,
          4793,
          4793,
          4801
         ]
        }
       ],
       "layout": {
        "template": {
         "data": {
          "bar": [
           {
            "error_x": {
             "color": "#2a3f5f"
            },
            "error_y": {
             "color": "#2a3f5f"
            },
            "marker": {
             "line": {
              "color": "#E5ECF6",
              "width": 0.5
             },
             "pattern": {
              "fillmode": "overlay",
              "size": 10,
              "solidity": 0.2
             }
            },
            "type": "bar"
           }
          ],
          "barpolar": [
           {
            "marker": {
             "line": {
              "color": "#E5ECF6",
              "width": 0.5
             },
             "pattern": {
              "fillmode": "overlay",
              "size": 10,
              "solidity": 0.2
             }
            },
            "type": "barpolar"
           }
          ],
          "carpet": [
           {
            "aaxis": {
             "endlinecolor": "#2a3f5f",
             "gridcolor": "white",
             "linecolor": "white",
             "minorgridcolor": "white",
             "startlinecolor": "#2a3f5f"
            },
            "baxis": {
             "endlinecolor": "#2a3f5f",
             "gridcolor": "white",
             "linecolor": "white",
             "minorgridcolor": "white",
             "startlinecolor": "#2a3f5f"
            },
            "type": "carpet"
           }
          ],
          "choropleth": [
           {
            "colorbar": {
             "outlinewidth": 0,
             "ticks": ""
            },
            "type": "choropleth"
           }
          ],
          "contour": [
           {
            "colorbar": {
             "outlinewidth": 0,
             "ticks": ""
            },
            "colorscale": [
             [
              0,
              "#0d0887"
             ],
             [
              0.1111111111111111,
              "#46039f"
             ],
             [
              0.2222222222222222,
              "#7201a8"
             ],
             [
              0.3333333333333333,
              "#9c179e"
             ],
             [
              0.4444444444444444,
              "#bd3786"
             ],
             [
              0.5555555555555556,
              "#d8576b"
             ],
             [
              0.6666666666666666,
              "#ed7953"
             ],
             [
              0.7777777777777778,
              "#fb9f3a"
             ],
             [
              0.8888888888888888,
              "#fdca26"
             ],
             [
              1,
              "#f0f921"
             ]
            ],
            "type": "contour"
           }
          ],
          "contourcarpet": [
           {
            "colorbar": {
             "outlinewidth": 0,
             "ticks": ""
            },
            "type": "contourcarpet"
           }
          ],
          "heatmap": [
           {
            "colorbar": {
             "outlinewidth": 0,
             "ticks": ""
            },
            "colorscale": [
             [
              0,
              "#0d0887"
             ],
             [
              0.1111111111111111,
              "#46039f"
             ],
             [
              0.2222222222222222,
              "#7201a8"
             ],
             [
              0.3333333333333333,
              "#9c179e"
             ],
             [
              0.4444444444444444,
              "#bd3786"
             ],
             [
              0.5555555555555556,
              "#d8576b"
             ],
             [
              0.6666666666666666,
              "#ed7953"
             ],
             [
              0.7777777777777778,
              "#fb9f3a"
             ],
             [
              0.8888888888888888,
              "#fdca26"
             ],
             [
              1,
              "#f0f921"
             ]
            ],
            "type": "heatmap"
           }
          ],
          "heatmapgl": [
           {
            "colorbar": {
             "outlinewidth": 0,
             "ticks": ""
            },
            "colorscale": [
             [
              0,
              "#0d0887"
             ],
             [
              0.1111111111111111,
              "#46039f"
             ],
             [
              0.2222222222222222,
              "#7201a8"
             ],
             [
              0.3333333333333333,
              "#9c179e"
             ],
             [
              0.4444444444444444,
              "#bd3786"
             ],
             [
              0.5555555555555556,
              "#d8576b"
             ],
             [
              0.6666666666666666,
              "#ed7953"
             ],
             [
              0.7777777777777778,
              "#fb9f3a"
             ],
             [
              0.8888888888888888,
              "#fdca26"
             ],
             [
              1,
              "#f0f921"
             ]
            ],
            "type": "heatmapgl"
           }
          ],
          "histogram": [
           {
            "marker": {
             "pattern": {
              "fillmode": "overlay",
              "size": 10,
              "solidity": 0.2
             }
            },
            "type": "histogram"
           }
          ],
          "histogram2d": [
           {
            "colorbar": {
             "outlinewidth": 0,
             "ticks": ""
            },
            "colorscale": [
             [
              0,
              "#0d0887"
             ],
             [
              0.1111111111111111,
              "#46039f"
             ],
             [
              0.2222222222222222,
              "#7201a8"
             ],
             [
              0.3333333333333333,
              "#9c179e"
             ],
             [
              0.4444444444444444,
              "#bd3786"
             ],
             [
              0.5555555555555556,
              "#d8576b"
             ],
             [
              0.6666666666666666,
              "#ed7953"
             ],
             [
              0.7777777777777778,
              "#fb9f3a"
             ],
             [
              0.8888888888888888,
              "#fdca26"
             ],
             [
              1,
              "#f0f921"
             ]
            ],
            "type": "histogram2d"
           }
          ],
          "histogram2dcontour": [
           {
            "colorbar": {
             "outlinewidth": 0,
             "ticks": ""
            },
            "colorscale": [
             [
              0,
              "#0d0887"
             ],
             [
              0.1111111111111111,
              "#46039f"
             ],
             [
              0.2222222222222222,
              "#7201a8"
             ],
             [
              0.3333333333333333,
              "#9c179e"
             ],
             [
              0.4444444444444444,
              "#bd3786"
             ],
             [
              0.5555555555555556,
              "#d8576b"
             ],
             [
              0.6666666666666666,
              "#ed7953"
             ],
             [
              0.7777777777777778,
              "#fb9f3a"
             ],
             [
              0.8888888888888888,
              "#fdca26"
             ],
             [
              1,
              "#f0f921"
             ]
            ],
            "type": "histogram2dcontour"
           }
          ],
          "mesh3d": [
           {
            "colorbar": {
             "outlinewidth": 0,
             "ticks": ""
            },
            "type": "mesh3d"
           }
          ],
          "parcoords": [
           {
            "line": {
             "colorbar": {
              "outlinewidth": 0,
              "ticks": ""
             }
            },
            "type": "parcoords"
           }
          ],
          "pie": [
           {
            "automargin": true,
            "type": "pie"
           }
          ],
          "scatter": [
           {
            "fillpattern": {
             "fillmode": "overlay",
             "size": 10,
             "solidity": 0.2
            },
            "type": "scatter"
           }
          ],
          "scatter3d": [
           {
            "line": {
             "colorbar": {
              "outlinewidth": 0,
              "ticks": ""
             }
            },
            "marker": {
             "colorbar": {
              "outlinewidth": 0,
              "ticks": ""
             }
            },
            "type": "scatter3d"
           }
          ],
          "scattercarpet": [
           {
            "marker": {
             "colorbar": {
              "outlinewidth": 0,
              "ticks": ""
             }
            },
            "type": "scattercarpet"
           }
          ],
          "scattergeo": [
           {
            "marker": {
             "colorbar": {
              "outlinewidth": 0,
              "ticks": ""
             }
            },
            "type": "scattergeo"
           }
          ],
          "scattergl": [
           {
            "marker": {
             "colorbar": {
              "outlinewidth": 0,
              "ticks": ""
             }
            },
            "type": "scattergl"
           }
          ],
          "scattermapbox": [
           {
            "marker": {
             "colorbar": {
              "outlinewidth": 0,
              "ticks": ""
             }
            },
            "type": "scattermapbox"
           }
          ],
          "scatterpolar": [
           {
            "marker": {
             "colorbar": {
              "outlinewidth": 0,
              "ticks": ""
             }
            },
            "type": "scatterpolar"
           }
          ],
          "scatterpolargl": [
           {
            "marker": {
             "colorbar": {
              "outlinewidth": 0,
              "ticks": ""
             }
            },
            "type": "scatterpolargl"
           }
          ],
          "scatterternary": [
           {
            "marker": {
             "colorbar": {
              "outlinewidth": 0,
              "ticks": ""
             }
            },
            "type": "scatterternary"
           }
          ],
          "surface": [
           {
            "colorbar": {
             "outlinewidth": 0,
             "ticks": ""
            },
            "colorscale": [
             [
              0,
              "#0d0887"
             ],
             [
              0.1111111111111111,
              "#46039f"
             ],
             [
              0.2222222222222222,
              "#7201a8"
             ],
             [
              0.3333333333333333,
              "#9c179e"
             ],
             [
              0.4444444444444444,
              "#bd3786"
             ],
             [
              0.5555555555555556,
              "#d8576b"
             ],
             [
              0.6666666666666666,
              "#ed7953"
             ],
             [
              0.7777777777777778,
              "#fb9f3a"
             ],
             [
              0.8888888888888888,
              "#fdca26"
             ],
             [
              1,
              "#f0f921"
             ]
            ],
            "type": "surface"
           }
          ],
          "table": [
           {
            "cells": {
             "fill": {
              "color": "#EBF0F8"
             },
             "line": {
              "color": "white"
             }
            },
            "header": {
             "fill": {
              "color": "#C8D4E3"
             },
             "line": {
              "color": "white"
             }
            },
            "type": "table"
           }
          ]
         },
         "layout": {
          "annotationdefaults": {
           "arrowcolor": "#2a3f5f",
           "arrowhead": 0,
           "arrowwidth": 1
          },
          "autotypenumbers": "strict",
          "coloraxis": {
           "colorbar": {
            "outlinewidth": 0,
            "ticks": ""
           }
          },
          "colorscale": {
           "diverging": [
            [
             0,
             "#8e0152"
            ],
            [
             0.1,
             "#c51b7d"
            ],
            [
             0.2,
             "#de77ae"
            ],
            [
             0.3,
             "#f1b6da"
            ],
            [
             0.4,
             "#fde0ef"
            ],
            [
             0.5,
             "#f7f7f7"
            ],
            [
             0.6,
             "#e6f5d0"
            ],
            [
             0.7,
             "#b8e186"
            ],
            [
             0.8,
             "#7fbc41"
            ],
            [
             0.9,
             "#4d9221"
            ],
            [
             1,
             "#276419"
            ]
           ],
           "sequential": [
            [
             0,
             "#0d0887"
            ],
            [
             0.1111111111111111,
             "#46039f"
            ],
            [
             0.2222222222222222,
             "#7201a8"
            ],
            [
             0.3333333333333333,
             "#9c179e"
            ],
            [
             0.4444444444444444,
             "#bd3786"
            ],
            [
             0.5555555555555556,
             "#d8576b"
            ],
            [
             0.6666666666666666,
             "#ed7953"
            ],
            [
             0.7777777777777778,
             "#fb9f3a"
            ],
            [
             0.8888888888888888,
             "#fdca26"
            ],
            [
             1,
             "#f0f921"
            ]
           ],
           "sequentialminus": [
            [
             0,
             "#0d0887"
            ],
            [
             0.1111111111111111,
             "#46039f"
            ],
            [
             0.2222222222222222,
             "#7201a8"
            ],
            [
             0.3333333333333333,
             "#9c179e"
            ],
            [
             0.4444444444444444,
             "#bd3786"
            ],
            [
             0.5555555555555556,
             "#d8576b"
            ],
            [
             0.6666666666666666,
             "#ed7953"
            ],
            [
             0.7777777777777778,
             "#fb9f3a"
            ],
            [
             0.8888888888888888,
             "#fdca26"
            ],
            [
             1,
             "#f0f921"
            ]
           ]
          },
          "colorway": [
           "#636efa",
           "#EF553B",
           "#00cc96",
           "#ab63fa",
           "#FFA15A",
           "#19d3f3",
           "#FF6692",
           "#B6E880",
           "#FF97FF",
           "#FECB52"
          ],
          "font": {
           "color": "#2a3f5f"
          },
          "geo": {
           "bgcolor": "white",
           "lakecolor": "white",
           "landcolor": "#E5ECF6",
           "showlakes": true,
           "showland": true,
           "subunitcolor": "white"
          },
          "hoverlabel": {
           "align": "left"
          },
          "hovermode": "closest",
          "mapbox": {
           "style": "light"
          },
          "paper_bgcolor": "white",
          "plot_bgcolor": "#E5ECF6",
          "polar": {
           "angularaxis": {
            "gridcolor": "white",
            "linecolor": "white",
            "ticks": ""
           },
           "bgcolor": "#E5ECF6",
           "radialaxis": {
            "gridcolor": "white",
            "linecolor": "white",
            "ticks": ""
           }
          },
          "scene": {
           "xaxis": {
            "backgroundcolor": "#E5ECF6",
            "gridcolor": "white",
            "gridwidth": 2,
            "linecolor": "white",
            "showbackground": true,
            "ticks": "",
            "zerolinecolor": "white"
           },
           "yaxis": {
            "backgroundcolor": "#E5ECF6",
            "gridcolor": "white",
            "gridwidth": 2,
            "linecolor": "white",
            "showbackground": true,
            "ticks": "",
            "zerolinecolor": "white"
           },
           "zaxis": {
            "backgroundcolor": "#E5ECF6",
            "gridcolor": "white",
            "gridwidth": 2,
            "linecolor": "white",
            "showbackground": true,
            "ticks": "",
            "zerolinecolor": "white"
           }
          },
          "shapedefaults": {
           "line": {
            "color": "#2a3f5f"
           }
          },
          "ternary": {
           "aaxis": {
            "gridcolor": "white",
            "linecolor": "white",
            "ticks": ""
           },
           "baxis": {
            "gridcolor": "white",
            "linecolor": "white",
            "ticks": ""
           },
           "bgcolor": "#E5ECF6",
           "caxis": {
            "gridcolor": "white",
            "linecolor": "white",
            "ticks": ""
           }
          },
          "title": {
           "x": 0.05
          },
          "xaxis": {
           "automargin": true,
           "gridcolor": "white",
           "linecolor": "white",
           "ticks": "",
           "title": {
            "standoff": 15
           },
           "zerolinecolor": "white",
           "zerolinewidth": 2
          },
          "yaxis": {
           "automargin": true,
           "gridcolor": "white",
           "linecolor": "white",
           "ticks": "",
           "title": {
            "standoff": 15
           },
           "zerolinecolor": "white",
           "zerolinewidth": 2
          }
         }
        },
        "title": {
         "text": "Number of stocks in each era (approx date)"
        },
        "xaxis": {
         "title": {
          "text": "Approx era date"
         }
        },
        "yaxis": {
         "title": {
          "text": "Number of stocks"
         }
        }
       }
      },
      "text/html": [
       "<div>                            <div id=\"8800b940-ac2f-49e1-8323-2b538879d7db\" class=\"plotly-graph-div\" style=\"height:525px; width:100%;\"></div>            <script type=\"text/javascript\">                require([\"plotly\"], function(Plotly) {                    window.PLOTLYENV=window.PLOTLYENV || {};                                    if (document.getElementById(\"8800b940-ac2f-49e1-8323-2b538879d7db\")) {                    Plotly.newPlot(                        \"8800b940-ac2f-49e1-8323-2b538879d7db\",                        [{\"marker\":{\"color\":\"rgba(255, 153, 51, 0.6)\",\"line\":{\"color\":\"rgba(255, 153, 51, 1.0)\",\"width\":1}},\"name\":\"None\",\"orientation\":\"v\",\"text\":\"\",\"x\":[\"2012-02-02\",\"2012-02-09\",\"2012-02-16\",\"2012-02-23\",\"2012-03-01\",\"2012-03-08\",\"2012-03-15\",\"2012-03-22\",\"2012-03-29\",\"2012-04-05\",\"2012-04-12\",\"2012-04-19\",\"2012-04-26\",\"2012-05-03\",\"2012-05-10\",\"2012-05-17\",\"2012-05-24\",\"2012-05-31\",\"2012-06-07\",\"2012-06-14\",\"2012-06-21\",\"2012-06-28\",\"2012-07-05\",\"2012-07-12\",\"2012-07-19\",\"2012-07-26\",\"2012-08-02\",\"2012-08-09\",\"2012-08-16\",\"2012-08-23\",\"2012-08-30\",\"2012-09-06\",\"2012-09-13\",\"2012-09-20\",\"2012-09-27\",\"2012-10-04\",\"2012-10-11\",\"2012-10-18\",\"2012-10-25\",\"2012-11-01\",\"2012-11-08\",\"2012-11-15\",\"2012-11-22\",\"2012-11-29\",\"2012-12-06\",\"2012-12-13\",\"2012-12-20\",\"2012-12-27\",\"2013-01-03\",\"2013-01-10\",\"2013-01-17\",\"2013-01-24\",\"2013-01-31\",\"2013-02-07\",\"2013-02-14\",\"2013-02-21\",\"2013-02-28\",\"2013-03-07\",\"2013-03-14\",\"2013-03-21\",\"2013-03-28\",\"2013-04-04\",\"2013-04-11\",\"2013-04-18\",\"2013-04-25\",\"2013-05-02\",\"2013-05-09\",\"2013-05-16\",\"2013-05-23\",\"2013-05-30\",\"2013-06-06\",\"2013-06-13\",\"2013-06-20\",\"2013-06-27\",\"2013-07-04\",\"2013-07-11\",\"2013-07-18\",\"2013-07-25\",\"2013-08-01\",\"2013-08-08\",\"2013-08-15\",\"2013-08-22\",\"2013-08-29\",\"2013-09-05\",\"2013-09-12\",\"2013-09-19\",\"2013-09-26\",\"2013-10-03\",\"2013-10-10\",\"2013-10-17\",\"2013-10-24\",\"2013-10-31\",\"2013-11-07\",\"2013-11-14\",\"2013-11-21\",\"2013-11-28\",\"2013-12-05\",\"2013-12-12\",\"2013-12-19\",\"2013-12-26\",\"2014-01-02\",\"2014-01-09\",\"2014-01-16\",\"2014-01-23\",\"2014-01-30\",\"2014-02-06\",\"2014-02-13\",\"2014-02-20\",\"2014-02-27\",\"2014-03-06\",\"2014-03-13\",\"2014-03-20\",\"2014-03-27\",\"2014-04-03\",\"2014-04-10\",\"2014-04-17\",\"2014-04-24\",\"2014-05-01\",\"2014-05-08\",\"2014-05-15\",\"2014-05-22\",\"2014-05-29\",\"2014-06-05\",\"2014-06-12\",\"2014-06-19\",\"2014-06-26\",\"2014-07-03\",\"2014-07-10\",\"2014-07-17\",\"2014-07-24\",\"2014-07-31\",\"2014-08-07\",\"2014-08-14\",\"2014-08-21\",\"2014-08-28\",\"2014-09-04\",\"2014-09-11\",\"2014-09-18\",\"2014-09-25\",\"2014-10-02\",\"2014-10-09\",\"2014-10-16\",\"2014-10-23\",\"2014-10-30\",\"2014-11-06\",\"2014-11-13\",\"2014-11-20\",\"2014-11-27\",\"2014-12-04\",\"2014-12-11\",\"2014-12-18\",\"2014-12-25\",\"2015-01-01\",\"2015-01-08\",\"2015-01-15\",\"2015-01-22\",\"2015-01-29\",\"2015-02-05\",\"2015-02-12\",\"2015-02-19\",\"2015-02-26\",\"2015-03-05\",\"2015-03-12\",\"2015-03-19\",\"2015-03-26\",\"2015-04-02\",\"2015-04-09\",\"2015-04-16\",\"2015-04-23\",\"2015-04-30\",\"2015-05-07\",\"2015-05-14\",\"2015-05-21\",\"2015-05-28\",\"2015-06-04\",\"2015-06-11\",\"2015-06-18\",\"2015-06-25\",\"2015-07-02\",\"2015-07-09\",\"2015-07-16\",\"2015-07-23\",\"2015-07-30\",\"2015-08-06\",\"2015-08-13\",\"2015-08-20\",\"2015-08-27\",\"2015-09-03\",\"2015-09-10\",\"2015-09-17\",\"2015-09-24\",\"2015-10-01\",\"2015-10-08\",\"2015-10-15\",\"2015-10-22\",\"2015-10-29\",\"2015-11-05\",\"2015-11-12\",\"2015-11-19\",\"2015-11-26\",\"2015-12-03\",\"2015-12-10\",\"2015-12-17\",\"2015-12-24\",\"2015-12-31\",\"2016-01-07\",\"2016-01-14\",\"2016-01-21\",\"2016-01-28\",\"2016-02-04\",\"2016-02-11\",\"2016-02-18\",\"2016-02-25\",\"2016-03-03\",\"2016-03-10\",\"2016-03-17\",\"2016-03-24\",\"2016-03-31\",\"2016-04-07\",\"2016-04-14\",\"2016-04-21\",\"2016-04-28\",\"2016-05-05\",\"2016-05-12\",\"2016-05-19\",\"2016-05-26\",\"2016-06-02\",\"2016-06-09\",\"2016-06-16\",\"2016-06-23\",\"2016-06-30\",\"2016-07-07\",\"2016-07-14\",\"2016-07-21\",\"2016-07-28\",\"2016-08-04\",\"2016-08-11\",\"2016-08-18\",\"2016-08-25\",\"2016-09-01\",\"2016-09-08\",\"2016-09-15\",\"2016-09-22\",\"2016-09-29\",\"2016-10-06\",\"2016-10-13\",\"2016-10-20\",\"2016-10-27\",\"2016-11-03\",\"2016-11-10\",\"2016-11-17\",\"2016-11-24\",\"2016-12-01\",\"2016-12-08\",\"2016-12-15\",\"2016-12-22\",\"2016-12-29\",\"2017-01-05\",\"2017-01-12\",\"2017-01-19\",\"2017-01-26\",\"2017-02-02\",\"2017-02-09\",\"2017-02-16\",\"2017-02-23\",\"2017-03-02\",\"2017-03-09\",\"2017-03-16\",\"2017-03-23\",\"2017-03-30\",\"2017-04-06\",\"2017-04-13\",\"2017-04-20\",\"2017-04-27\",\"2017-05-04\",\"2017-05-11\",\"2017-05-18\",\"2017-05-25\",\"2017-06-01\",\"2017-06-08\",\"2017-06-15\",\"2017-06-22\",\"2017-06-29\",\"2017-07-06\",\"2017-07-13\",\"2017-07-20\",\"2017-07-27\",\"2017-08-03\",\"2017-08-10\",\"2017-08-17\",\"2017-08-24\",\"2017-08-31\",\"2017-09-07\",\"2017-09-14\",\"2017-09-21\",\"2017-09-28\",\"2017-10-05\",\"2017-10-12\",\"2017-10-19\",\"2017-10-26\",\"2017-11-02\",\"2017-11-09\",\"2017-11-16\",\"2017-11-23\",\"2017-11-30\",\"2017-12-07\",\"2017-12-14\",\"2017-12-21\",\"2017-12-28\",\"2018-01-04\",\"2018-01-11\",\"2018-01-18\",\"2018-01-25\",\"2018-02-01\",\"2018-02-08\",\"2018-02-15\",\"2018-02-22\",\"2018-03-01\",\"2018-03-08\",\"2018-03-15\",\"2018-03-22\",\"2018-03-29\",\"2018-04-05\",\"2018-04-12\",\"2018-04-19\",\"2018-04-26\",\"2018-05-03\",\"2018-05-10\",\"2018-05-17\",\"2018-05-24\",\"2018-05-31\",\"2018-06-07\",\"2018-06-14\",\"2018-06-21\",\"2018-06-28\",\"2018-07-05\",\"2018-07-12\",\"2018-07-19\",\"2018-07-26\",\"2018-08-02\",\"2018-08-09\",\"2018-08-16\",\"2018-08-23\",\"2018-08-30\",\"2018-09-06\",\"2018-09-13\",\"2018-09-20\",\"2018-09-27\",\"2018-10-04\",\"2018-10-11\",\"2018-10-18\",\"2018-10-25\",\"2018-11-01\",\"2018-11-08\",\"2018-11-15\",\"2018-11-22\",\"2018-11-29\",\"2018-12-06\",\"2018-12-13\",\"2018-12-20\",\"2018-12-27\",\"2019-01-03\",\"2019-01-10\",\"2019-01-17\",\"2019-01-24\",\"2019-01-31\",\"2019-02-07\",\"2019-02-14\",\"2019-02-21\",\"2019-02-28\",\"2019-03-07\",\"2019-03-14\",\"2019-03-21\",\"2019-03-28\",\"2019-04-04\",\"2019-04-11\",\"2019-04-18\",\"2019-04-25\",\"2019-05-02\",\"2019-05-09\",\"2019-05-16\",\"2019-05-23\",\"2019-05-30\",\"2019-06-06\",\"2019-06-13\",\"2019-06-20\",\"2019-06-27\",\"2019-07-04\",\"2019-07-11\",\"2019-07-18\",\"2019-07-25\",\"2019-08-01\",\"2019-08-08\",\"2019-08-15\",\"2019-08-22\",\"2019-08-29\",\"2019-09-05\",\"2019-09-12\",\"2019-09-19\",\"2019-09-26\",\"2019-10-03\",\"2019-10-10\",\"2019-10-17\",\"2019-10-24\",\"2019-10-31\",\"2019-11-07\",\"2019-11-14\",\"2019-11-21\",\"2019-11-28\",\"2019-12-05\",\"2019-12-12\",\"2019-12-19\",\"2019-12-26\",\"2020-01-02\",\"2020-01-09\",\"2020-01-16\",\"2020-01-23\",\"2020-01-30\",\"2020-02-06\",\"2020-02-13\",\"2020-02-20\",\"2020-02-27\",\"2020-03-05\",\"2020-03-12\",\"2020-03-19\",\"2020-03-26\",\"2020-04-02\",\"2020-04-09\",\"2020-04-16\",\"2020-04-23\",\"2020-04-30\",\"2020-05-07\",\"2020-05-14\",\"2020-05-21\",\"2020-05-28\",\"2020-06-04\",\"2020-06-11\",\"2020-06-18\",\"2020-06-25\",\"2020-07-02\",\"2020-07-09\",\"2020-07-16\",\"2020-07-23\",\"2020-07-30\",\"2020-08-06\",\"2020-08-13\",\"2020-08-20\",\"2020-08-27\",\"2020-09-03\",\"2020-09-10\",\"2020-09-17\",\"2020-09-24\",\"2020-10-01\",\"2020-10-08\",\"2020-10-15\",\"2020-10-22\",\"2020-10-29\",\"2020-11-05\",\"2020-11-12\",\"2020-11-19\",\"2020-11-26\",\"2020-12-03\",\"2020-12-10\",\"2020-12-17\",\"2020-12-24\",\"2020-12-31\",\"2021-01-07\",\"2021-01-14\",\"2021-01-21\",\"2021-01-28\",\"2021-02-04\",\"2021-02-11\",\"2021-02-18\",\"2021-02-25\",\"2021-03-04\",\"2021-03-11\",\"2021-03-18\",\"2021-03-25\",\"2021-04-01\",\"2021-04-08\",\"2021-04-15\",\"2021-04-22\",\"2021-04-29\",\"2021-05-06\",\"2021-05-13\",\"2021-05-20\",\"2021-05-27\",\"2021-06-03\",\"2021-06-10\",\"2021-06-17\",\"2021-06-24\",\"2021-07-01\",\"2021-07-08\",\"2021-07-15\",\"2021-07-22\",\"2021-07-29\",\"2021-08-05\",\"2021-08-12\",\"2021-08-19\",\"2021-08-26\",\"2021-09-02\",\"2021-09-09\",\"2021-09-16\",\"2021-09-23\",\"2021-09-30\",\"2021-10-07\",\"2021-10-14\",\"2021-10-21\",\"2021-10-28\",\"2021-11-04\",\"2021-11-11\",\"2021-11-18\",\"2021-11-25\",\"2021-12-02\",\"2021-12-09\",\"2021-12-16\",\"2021-12-23\",\"2021-12-30\",\"2022-01-06\",\"2022-01-13\",\"2022-01-20\",\"2022-01-27\",\"2022-02-03\",\"2022-02-10\",\"2022-02-17\",\"2022-02-24\",\"2022-03-03\",\"2022-03-10\",\"2022-03-17\",\"2022-03-24\",\"2022-03-31\",\"2022-04-07\",\"2022-04-14\",\"2022-04-21\",\"2022-04-28\",\"2022-05-05\",\"2022-05-12\",\"2022-05-19\",\"2022-05-26\",\"2022-06-02\",\"2022-06-09\",\"2022-06-16\",\"2022-06-23\",\"2022-06-30\",\"2022-07-07\",\"2022-07-14\",\"2022-07-21\",\"2022-07-28\",\"2022-08-04\",\"2022-08-11\",\"2022-08-18\",\"2022-08-25\",\"2022-09-01\",\"2022-09-08\",\"2022-09-15\",\"2022-09-22\",\"2022-09-29\",\"2022-10-06\",\"2022-10-13\",\"2022-10-20\",\"2022-10-27\",\"2022-11-03\",\"2022-11-10\",\"2022-11-17\",\"2022-11-24\",\"2022-12-01\",\"2022-12-08\",\"2022-12-15\",\"2022-12-22\",\"2022-12-29\",\"2023-01-05\",\"2023-01-12\",\"2023-01-19\",\"2023-01-26\"],\"y\":[2072,2260,2334,2399,2406,2415,2420,2382,2370,2365,2345,2419,2427,2431,2445,2442,2527,2554,2580,2606,2652,2677,2714,2721,2844,2845,2900,2915,2993,3004,3015,3016,3019,2994,3016,3027,3036,3143,3165,3190,3196,3187,3312,3333,3359,3363,3365,3387,3397,3405,3414,3410,3421,3422,3415,3458,3288,3442,3458,3473,3311,3502,3502,3512,3570,3587,3591,3592,3601,3587,3569,3548,3534,3532,3521,3502,3481,3569,3616,3612,3612,3589,3563,3548,3523,3518,3507,3510,3537,3530,3508,3502,3527,3537,3536,3549,3578,3614,3628,3655,3692,3727,3758,3774,3759,3790,3801,3826,3837,3857,3878,3882,3882,3903,3921,3928,3918,3942,3939,3931,3938,3919,3911,3894,3888,3862,3859,3871,3877,3926,3943,3950,3958,3978,3974,3980,3990,3965,3964,3961,3986,3987,4002,4005,4046,4050,4054,4046,4056,4069,4078,4093,4098,4115,4116,4164,4159,4167,4200,4224,4235,4250,4247,4271,4295,4319,4328,4336,4363,4365,4381,4386,4413,4436,4293,4295,4293,4270,4273,4259,4243,4246,4273,4292,4278,4252,4247,4236,4215,4203,4208,4210,4213,4198,4203,4206,4243,4265,4289,4298,4320,4345,4363,4386,4409,4454,4480,4493,4502,4518,4537,4559,4578,4594,4623,4629,4656,4680,4682,4689,4708,4708,4719,4722,4742,4755,4781,4777,4785,4793,4820,4822,4820,4837,4886,4911,4917,4909,4899,4881,4884,4859,4872,4878,4883,4861,4853,4869,4861,4905,4900,4896,4899,4887,4856,4827,4841,4842,4848,4850,4835,4831,4809,4778,4765,4786,4772,4780,4779,4776,4736,4727,4709,4740,4744,4749,4728,4726,4748,4740,4733,4723,4718,4694,4662,4645,4603,4600,4580,4598,4604,4607,4613,4607,4582,4571,4530,4524,4499,4474,4410,4267,4270,4163,4136,4191,4123,4003,4040,4036,4073,4085,4063,4057,4074,4036,3952,3930,3918,3900,3838,3792,3725,3702,3738,3784,3819,3843,3892,3926,3981,4054,4087,4128,4163,4214,4233,4236,4243,4259,4237,4243,4252,4258,4285,4310,4312,4346,4337,4354,4387,4401,4419,4433,4439,4426,4426,4418,4410,4412,4391,4406,4394,4384,4385,4383,4391,4401,4399,4379,4368,4353,4349,4352,4370,4391,4400,4418,4422,4374,4395,4402,4424,4406,4414,4411,4405,4411,4399,4419,4419,4470,4412,4410,4413,4438,4446,4419,4405,4383,4378,4382,4385,4425,4453,4463,4488,4495,4504,4529,4534,4530,4528,4544,4588,4607,4645,4653,4664,4680,4687,4694,4722,4731,4729,4712,4720,4719,4721,4741,4745,4764,4762,4758,4742,4742,4757,4736,4725,4730,4709,4670,4669,4710,4740,4718,4713,4703,4658,4641,4646,4635,4637,4620,4610,4586,4570,4565,4587,4603,4638,4635,4605,4568,4517,4518,4523,4497,4501,4414,4347,4348,4372,4407,4451,4488,4497,4539,4558,4551,4568,4586,4604,4710,4607,4591,4584,4581,4566,4510,4481,4457,4539,4495,4497,4490,4507,4512,4493,4464,4447,4452,4428,4433,4427,4440,4476,4455,4474,4491,4484,4458,4449,4461,4458,4391,4396,4487,4505,4507,4515,4523,4472,4490,4504,4534,4572,4580,4571,4575,4571,4588,4612,4598,4600,4614,4617,4681,4613,4641,4662,4671,4698,4690,4685,4668,4649,4673,4706,4692,4696,4692,4686,4669,4668,4653,4627,4642,4650,4655,4694,4708,4713,4717,4745,4755,4774,4796,4798,4804,4811,4793,4793,4801],\"type\":\"bar\"}],                        {\"title\":{\"text\":\"Number of stocks in each era (approx date)\"},\"xaxis\":{\"title\":{\"text\":\"Approx era date\"}},\"yaxis\":{\"title\":{\"text\":\"Number of stocks\"}},\"template\":{\"data\":{\"histogram2dcontour\":[{\"type\":\"histogram2dcontour\",\"colorbar\":{\"outlinewidth\":0,\"ticks\":\"\"},\"colorscale\":[[0.0,\"#0d0887\"],[0.1111111111111111,\"#46039f\"],[0.2222222222222222,\"#7201a8\"],[0.3333333333333333,\"#9c179e\"],[0.4444444444444444,\"#bd3786\"],[0.5555555555555556,\"#d8576b\"],[0.6666666666666666,\"#ed7953\"],[0.7777777777777778,\"#fb9f3a\"],[0.8888888888888888,\"#fdca26\"],[1.0,\"#f0f921\"]]}],\"choropleth\":[{\"type\":\"choropleth\",\"colorbar\":{\"outlinewidth\":0,\"ticks\":\"\"}}],\"histogram2d\":[{\"type\":\"histogram2d\",\"colorbar\":{\"outlinewidth\":0,\"ticks\":\"\"},\"colorscale\":[[0.0,\"#0d0887\"],[0.1111111111111111,\"#46039f\"],[0.2222222222222222,\"#7201a8\"],[0.3333333333333333,\"#9c179e\"],[0.4444444444444444,\"#bd3786\"],[0.5555555555555556,\"#d8576b\"],[0.6666666666666666,\"#ed7953\"],[0.7777777777777778,\"#fb9f3a\"],[0.8888888888888888,\"#fdca26\"],[1.0,\"#f0f921\"]]}],\"heatmap\":[{\"type\":\"heatmap\",\"colorbar\":{\"outlinewidth\":0,\"ticks\":\"\"},\"colorscale\":[[0.0,\"#0d0887\"],[0.1111111111111111,\"#46039f\"],[0.2222222222222222,\"#7201a8\"],[0.3333333333333333,\"#9c179e\"],[0.4444444444444444,\"#bd3786\"],[0.5555555555555556,\"#d8576b\"],[0.6666666666666666,\"#ed7953\"],[0.7777777777777778,\"#fb9f3a\"],[0.8888888888888888,\"#fdca26\"],[1.0,\"#f0f921\"]]}],\"heatmapgl\":[{\"type\":\"heatmapgl\",\"colorbar\":{\"outlinewidth\":0,\"ticks\":\"\"},\"colorscale\":[[0.0,\"#0d0887\"],[0.1111111111111111,\"#46039f\"],[0.2222222222222222,\"#7201a8\"],[0.3333333333333333,\"#9c179e\"],[0.4444444444444444,\"#bd3786\"],[0.5555555555555556,\"#d8576b\"],[0.6666666666666666,\"#ed7953\"],[0.7777777777777778,\"#fb9f3a\"],[0.8888888888888888,\"#fdca26\"],[1.0,\"#f0f921\"]]}],\"contourcarpet\":[{\"type\":\"contourcarpet\",\"colorbar\":{\"outlinewidth\":0,\"ticks\":\"\"}}],\"contour\":[{\"type\":\"contour\",\"colorbar\":{\"outlinewidth\":0,\"ticks\":\"\"},\"colorscale\":[[0.0,\"#0d0887\"],[0.1111111111111111,\"#46039f\"],[0.2222222222222222,\"#7201a8\"],[0.3333333333333333,\"#9c179e\"],[0.4444444444444444,\"#bd3786\"],[0.5555555555555556,\"#d8576b\"],[0.6666666666666666,\"#ed7953\"],[0.7777777777777778,\"#fb9f3a\"],[0.8888888888888888,\"#fdca26\"],[1.0,\"#f0f921\"]]}],\"surface\":[{\"type\":\"surface\",\"colorbar\":{\"outlinewidth\":0,\"ticks\":\"\"},\"colorscale\":[[0.0,\"#0d0887\"],[0.1111111111111111,\"#46039f\"],[0.2222222222222222,\"#7201a8\"],[0.3333333333333333,\"#9c179e\"],[0.4444444444444444,\"#bd3786\"],[0.5555555555555556,\"#d8576b\"],[0.6666666666666666,\"#ed7953\"],[0.7777777777777778,\"#fb9f3a\"],[0.8888888888888888,\"#fdca26\"],[1.0,\"#f0f921\"]]}],\"mesh3d\":[{\"type\":\"mesh3d\",\"colorbar\":{\"outlinewidth\":0,\"ticks\":\"\"}}],\"scatter\":[{\"fillpattern\":{\"fillmode\":\"overlay\",\"size\":10,\"solidity\":0.2},\"type\":\"scatter\"}],\"parcoords\":[{\"type\":\"parcoords\",\"line\":{\"colorbar\":{\"outlinewidth\":0,\"ticks\":\"\"}}}],\"scatterpolargl\":[{\"type\":\"scatterpolargl\",\"marker\":{\"colorbar\":{\"outlinewidth\":0,\"ticks\":\"\"}}}],\"bar\":[{\"error_x\":{\"color\":\"#2a3f5f\"},\"error_y\":{\"color\":\"#2a3f5f\"},\"marker\":{\"line\":{\"color\":\"#E5ECF6\",\"width\":0.5},\"pattern\":{\"fillmode\":\"overlay\",\"size\":10,\"solidity\":0.2}},\"type\":\"bar\"}],\"scattergeo\":[{\"type\":\"scattergeo\",\"marker\":{\"colorbar\":{\"outlinewidth\":0,\"ticks\":\"\"}}}],\"scatterpolar\":[{\"type\":\"scatterpolar\",\"marker\":{\"colorbar\":{\"outlinewidth\":0,\"ticks\":\"\"}}}],\"histogram\":[{\"marker\":{\"pattern\":{\"fillmode\":\"overlay\",\"size\":10,\"solidity\":0.2}},\"type\":\"histogram\"}],\"scattergl\":[{\"type\":\"scattergl\",\"marker\":{\"colorbar\":{\"outlinewidth\":0,\"ticks\":\"\"}}}],\"scatter3d\":[{\"type\":\"scatter3d\",\"line\":{\"colorbar\":{\"outlinewidth\":0,\"ticks\":\"\"}},\"marker\":{\"colorbar\":{\"outlinewidth\":0,\"ticks\":\"\"}}}],\"scattermapbox\":[{\"type\":\"scattermapbox\",\"marker\":{\"colorbar\":{\"outlinewidth\":0,\"ticks\":\"\"}}}],\"scatterternary\":[{\"type\":\"scatterternary\",\"marker\":{\"colorbar\":{\"outlinewidth\":0,\"ticks\":\"\"}}}],\"scattercarpet\":[{\"type\":\"scattercarpet\",\"marker\":{\"colorbar\":{\"outlinewidth\":0,\"ticks\":\"\"}}}],\"carpet\":[{\"aaxis\":{\"endlinecolor\":\"#2a3f5f\",\"gridcolor\":\"white\",\"linecolor\":\"white\",\"minorgridcolor\":\"white\",\"startlinecolor\":\"#2a3f5f\"},\"baxis\":{\"endlinecolor\":\"#2a3f5f\",\"gridcolor\":\"white\",\"linecolor\":\"white\",\"minorgridcolor\":\"white\",\"startlinecolor\":\"#2a3f5f\"},\"type\":\"carpet\"}],\"table\":[{\"cells\":{\"fill\":{\"color\":\"#EBF0F8\"},\"line\":{\"color\":\"white\"}},\"header\":{\"fill\":{\"color\":\"#C8D4E3\"},\"line\":{\"color\":\"white\"}},\"type\":\"table\"}],\"barpolar\":[{\"marker\":{\"line\":{\"color\":\"#E5ECF6\",\"width\":0.5},\"pattern\":{\"fillmode\":\"overlay\",\"size\":10,\"solidity\":0.2}},\"type\":\"barpolar\"}],\"pie\":[{\"automargin\":true,\"type\":\"pie\"}]},\"layout\":{\"autotypenumbers\":\"strict\",\"colorway\":[\"#636efa\",\"#EF553B\",\"#00cc96\",\"#ab63fa\",\"#FFA15A\",\"#19d3f3\",\"#FF6692\",\"#B6E880\",\"#FF97FF\",\"#FECB52\"],\"font\":{\"color\":\"#2a3f5f\"},\"hovermode\":\"closest\",\"hoverlabel\":{\"align\":\"left\"},\"paper_bgcolor\":\"white\",\"plot_bgcolor\":\"#E5ECF6\",\"polar\":{\"bgcolor\":\"#E5ECF6\",\"angularaxis\":{\"gridcolor\":\"white\",\"linecolor\":\"white\",\"ticks\":\"\"},\"radialaxis\":{\"gridcolor\":\"white\",\"linecolor\":\"white\",\"ticks\":\"\"}},\"ternary\":{\"bgcolor\":\"#E5ECF6\",\"aaxis\":{\"gridcolor\":\"white\",\"linecolor\":\"white\",\"ticks\":\"\"},\"baxis\":{\"gridcolor\":\"white\",\"linecolor\":\"white\",\"ticks\":\"\"},\"caxis\":{\"gridcolor\":\"white\",\"linecolor\":\"white\",\"ticks\":\"\"}},\"coloraxis\":{\"colorbar\":{\"outlinewidth\":0,\"ticks\":\"\"}},\"colorscale\":{\"sequential\":[[0.0,\"#0d0887\"],[0.1111111111111111,\"#46039f\"],[0.2222222222222222,\"#7201a8\"],[0.3333333333333333,\"#9c179e\"],[0.4444444444444444,\"#bd3786\"],[0.5555555555555556,\"#d8576b\"],[0.6666666666666666,\"#ed7953\"],[0.7777777777777778,\"#fb9f3a\"],[0.8888888888888888,\"#fdca26\"],[1.0,\"#f0f921\"]],\"sequentialminus\":[[0.0,\"#0d0887\"],[0.1111111111111111,\"#46039f\"],[0.2222222222222222,\"#7201a8\"],[0.3333333333333333,\"#9c179e\"],[0.4444444444444444,\"#bd3786\"],[0.5555555555555556,\"#d8576b\"],[0.6666666666666666,\"#ed7953\"],[0.7777777777777778,\"#fb9f3a\"],[0.8888888888888888,\"#fdca26\"],[1.0,\"#f0f921\"]],\"diverging\":[[0,\"#8e0152\"],[0.1,\"#c51b7d\"],[0.2,\"#de77ae\"],[0.3,\"#f1b6da\"],[0.4,\"#fde0ef\"],[0.5,\"#f7f7f7\"],[0.6,\"#e6f5d0\"],[0.7,\"#b8e186\"],[0.8,\"#7fbc41\"],[0.9,\"#4d9221\"],[1,\"#276419\"]]},\"xaxis\":{\"gridcolor\":\"white\",\"linecolor\":\"white\",\"ticks\":\"\",\"title\":{\"standoff\":15},\"zerolinecolor\":\"white\",\"automargin\":true,\"zerolinewidth\":2},\"yaxis\":{\"gridcolor\":\"white\",\"linecolor\":\"white\",\"ticks\":\"\",\"title\":{\"standoff\":15},\"zerolinecolor\":\"white\",\"automargin\":true,\"zerolinewidth\":2},\"scene\":{\"xaxis\":{\"backgroundcolor\":\"#E5ECF6\",\"gridcolor\":\"white\",\"linecolor\":\"white\",\"showbackground\":true,\"ticks\":\"\",\"zerolinecolor\":\"white\",\"gridwidth\":2},\"yaxis\":{\"backgroundcolor\":\"#E5ECF6\",\"gridcolor\":\"white\",\"linecolor\":\"white\",\"showbackground\":true,\"ticks\":\"\",\"zerolinecolor\":\"white\",\"gridwidth\":2},\"zaxis\":{\"backgroundcolor\":\"#E5ECF6\",\"gridcolor\":\"white\",\"linecolor\":\"white\",\"showbackground\":true,\"ticks\":\"\",\"zerolinecolor\":\"white\",\"gridwidth\":2}},\"shapedefaults\":{\"line\":{\"color\":\"#2a3f5f\"}},\"annotationdefaults\":{\"arrowcolor\":\"#2a3f5f\",\"arrowhead\":0,\"arrowwidth\":1},\"geo\":{\"bgcolor\":\"white\",\"landcolor\":\"#E5ECF6\",\"subunitcolor\":\"white\",\"showland\":true,\"showlakes\":true,\"lakecolor\":\"white\"},\"title\":{\"x\":0.05},\"mapbox\":{\"style\":\"light\"}}}},                        {\"responsive\": true}                    ).then(function(){\n",
       "                            \n",
       "var gd = document.getElementById('8800b940-ac2f-49e1-8323-2b538879d7db');\n",
       "var x = new MutationObserver(function (mutations, observer) {{\n",
       "        var display = window.getComputedStyle(gd).display;\n",
       "        if (!display || display === 'none') {{\n",
       "            console.log([gd, 'removed!']);\n",
       "            Plotly.purge(gd);\n",
       "            observer.disconnect();\n",
       "        }}\n",
       "}});\n",
       "\n",
       "// Listen for the removal of the full notebook cells\n",
       "var notebookContainer = gd.closest('#notebook-container');\n",
       "if (notebookContainer) {{\n",
       "    x.observe(notebookContainer, {childList: true});\n",
       "}}\n",
       "\n",
       "// Listen for the clearing of the current output cell\n",
       "var outputEl = gd.closest('.output');\n",
       "if (outputEl) {{\n",
       "    x.observe(outputEl, {childList: true});\n",
       "}}\n",
       "\n",
       "                        })                };                });            </script>        </div>"
      ]
     },
     "metadata": {},
     "output_type": "display_data"
    },
    {
     "name": "stdout",
     "output_type": "stream",
     "text": [
      "\r"
     ]
    }
   ],
   "source": [
    "fig_date_cnt = train_df.groupby(DATE_COL).size().iplot(\n",
    "    kind=\"bar\",\n",
    "    layout={\n",
    "        \"xaxis\": {\"title\": \"Approx era date\"},\n",
    "        \"yaxis\": {\"title\": \"Number of stocks\"},\n",
    "        \"title\": \"Number of stocks in each era (approx date)\",\n",
    "    },\n",
    "    asFigure=True,\n",
    ")\n",
    "fig_date_cnt"
   ]
  },
  {
   "cell_type": "code",
   "execution_count": 19,
   "id": "c917ad25",
   "metadata": {},
   "outputs": [
    {
     "name": "stdout",
     "output_type": "stream",
     "text": [
      "\r"
     ]
    }
   ],
   "source": [
    "fig_era_cnt.write_html(os.path.join(ARTIFACTS_DIR, \"era_stock_cnt.html\"))\n",
    "fig_date_cnt.write_html(os.path.join(ARTIFACTS_DIR, \"era_date_cnt.html\"))"
   ]
  },
  {
   "cell_type": "markdown",
   "id": "d2156461",
   "metadata": {},
   "source": [
    "### 2.2 Num of NAs in each era"
   ]
  },
  {
   "cell_type": "code",
   "execution_count": 327,
   "id": "8eecee4b",
   "metadata": {},
   "outputs": [
    {
     "data": {
      "text/plain": [
       "['target',\n",
       " 'target_nomi_v4_20',\n",
       " 'target_nomi_v4_60',\n",
       " 'target_tyler_v4_20',\n",
       " 'target_tyler_v4_60',\n",
       " 'target_victor_v4_20',\n",
       " 'target_victor_v4_60',\n",
       " 'target_ralph_v4_20',\n",
       " 'target_ralph_v4_60',\n",
       " 'target_waldo_v4_20',\n",
       " 'target_waldo_v4_60',\n",
       " 'target_jerome_v4_20',\n",
       " 'target_jerome_v4_60',\n",
       " 'target_janet_v4_20',\n",
       " 'target_janet_v4_60',\n",
       " 'target_ben_v4_20',\n",
       " 'target_ben_v4_60',\n",
       " 'target_alan_v4_20',\n",
       " 'target_alan_v4_60',\n",
       " 'target_paul_v4_20',\n",
       " 'target_paul_v4_60',\n",
       " 'target_george_v4_20',\n",
       " 'target_george_v4_60',\n",
       " 'target_william_v4_20',\n",
       " 'target_william_v4_60',\n",
       " 'target_arthur_v4_20',\n",
       " 'target_arthur_v4_60',\n",
       " 'target_thomas_v4_20',\n",
       " 'target_thomas_v4_60']"
      ]
     },
     "execution_count": 327,
     "metadata": {},
     "output_type": "execute_result"
    },
    {
     "name": "stdout",
     "output_type": "stream",
     "text": [
      "\r"
     ]
    }
   ],
   "source": [
    "all_targets = [c for c in train_df.columns if c.startswith('target')]\n",
    "all_targets"
   ]
  },
  {
   "cell_type": "code",
   "execution_count": null,
   "id": "d1b188a8",
   "metadata": {},
   "outputs": [],
   "source": [
    "fig_na_era = (\n",
    "    train_df.groupby(\"era\")\n",
    "    .apply(lambda x: x[all_targets].isna().sum() / len(x) * 100.)\n",
    ").iplot(\n",
    "    kind=\"line\",\n",
    "    layout={\n",
    "        \"xaxis\": {\"title\": \"Era\"},\n",
    "        \"yaxis\": {\"title\": \"Target NaN Percent\"},\n",
    "        \"title\": \"Percent of NaN targets in each era\",\n",
    "    },\n",
    "    asFigure=True,\n",
    ")\n",
    "fig_na_era"
   ]
  },
  {
   "cell_type": "code",
   "execution_count": 331,
   "id": "7efad6f6",
   "metadata": {},
   "outputs": [
    {
     "name": "stdout",
     "output_type": "stream",
     "text": [
      "[2023-04-20 17:22:15]  Saving file ./data/experiments/era_analysis__2023-04-20_14h-20m/artifacts/era_nan_pct.html\n",
      "\r"
     ]
    }
   ],
   "source": [
    "eranan_fl = os.path.join(ARTIFACTS_DIR, \"era_nan_pct.html\")\n",
    "fig_na_era.write_html(eranan_fl)\n",
    "log.info(f\"Saving file {eranan_fl}\")"
   ]
  },
  {
   "cell_type": "code",
   "execution_count": 29,
   "id": "8ee02621",
   "metadata": {},
   "outputs": [
    {
     "name": "stdout",
     "output_type": "stream",
     "text": [
      "\r"
     ]
    }
   ],
   "source": [
    "analysis_expt_name = parameters[\"expt_name\"] + \"_data_exploration1\"\n",
    "try:\n",
    "    expt_id = mlflow.create_experiment(name=analysis_expt_name)\n",
    "except Exception:\n",
    "    expt_id = mlflow.get_experiment_by_name(name=analysis_expt_name)\n",
    "with mlflow.start_run(run_name=\"era-exploration\", experiment_id=expt_id) as run:\n",
    "    mlflow.log_params(params=parameters)\n",
    "    mlflow.log_artifacts(local_dir=ARTIFACTS_DIR)"
   ]
  },
  {
   "cell_type": "markdown",
   "id": "11a20f2e",
   "metadata": {},
   "source": [
    "### 2.3 Target distribution by era"
   ]
  },
  {
   "cell_type": "code",
   "execution_count": 30,
   "id": "460b89d5",
   "metadata": {},
   "outputs": [
    {
     "name": "stdout",
     "output_type": "stream",
     "text": [
      "\r"
     ]
    }
   ],
   "source": [
    "def erawise_target_value_percent(df, target) -> pd.DataFrame:\n",
    "    \"\"\"Returns a dataframe with the target value percents for each era.\"\"\"\n",
    "    value_counts = (\n",
    "        df.groupby(\"era\")[target]\n",
    "        .value_counts(normalize=True)\n",
    "        .rename(\"percent\")\n",
    "        .reset_index()\n",
    "    )\n",
    "    # Pivot the resulting dataframe so that the index is \"era\", the columns\n",
    "    # are \"target\", and the values are \"percent\".\n",
    "    return 100.0 * value_counts.pivot(index=\"era\", columns=target, values=\"percent\")"
   ]
  },
  {
   "cell_type": "code",
   "execution_count": 31,
   "id": "ce970d9a",
   "metadata": {},
   "outputs": [
    {
     "data": {
      "text/html": [
       "<div>\n",
       "<style scoped>\n",
       "    .dataframe tbody tr th:only-of-type {\n",
       "        vertical-align: middle;\n",
       "    }\n",
       "\n",
       "    .dataframe tbody tr th {\n",
       "        vertical-align: top;\n",
       "    }\n",
       "\n",
       "    .dataframe thead th {\n",
       "        text-align: right;\n",
       "    }\n",
       "</style>\n",
       "<table border=\"1\" class=\"dataframe\">\n",
       "  <thead>\n",
       "    <tr style=\"text-align: right;\">\n",
       "      <th>target_jerome_v4_60</th>\n",
       "      <th>0.00</th>\n",
       "      <th>0.25</th>\n",
       "      <th>0.50</th>\n",
       "      <th>0.75</th>\n",
       "      <th>1.00</th>\n",
       "    </tr>\n",
       "    <tr>\n",
       "      <th>era</th>\n",
       "      <th></th>\n",
       "      <th></th>\n",
       "      <th></th>\n",
       "      <th></th>\n",
       "      <th></th>\n",
       "    </tr>\n",
       "  </thead>\n",
       "  <tbody>\n",
       "    <tr>\n",
       "      <th>0001</th>\n",
       "      <td>4.847310</td>\n",
       "      <td>20.116335</td>\n",
       "      <td>49.927290</td>\n",
       "      <td>20.067862</td>\n",
       "      <td>5.041202</td>\n",
       "    </tr>\n",
       "    <tr>\n",
       "      <th>0002</th>\n",
       "      <td>4.982206</td>\n",
       "      <td>20.017794</td>\n",
       "      <td>50.000000</td>\n",
       "      <td>19.973310</td>\n",
       "      <td>5.026690</td>\n",
       "    </tr>\n",
       "    <tr>\n",
       "      <th>0003</th>\n",
       "      <td>4.991394</td>\n",
       "      <td>20.180723</td>\n",
       "      <td>49.612737</td>\n",
       "      <td>20.309811</td>\n",
       "      <td>4.905336</td>\n",
       "    </tr>\n",
       "    <tr>\n",
       "      <th>0004</th>\n",
       "      <td>4.981164</td>\n",
       "      <td>20.050230</td>\n",
       "      <td>50.020929</td>\n",
       "      <td>19.924655</td>\n",
       "      <td>5.023022</td>\n",
       "    </tr>\n",
       "    <tr>\n",
       "      <th>0005</th>\n",
       "      <td>5.010438</td>\n",
       "      <td>20.000000</td>\n",
       "      <td>50.020877</td>\n",
       "      <td>20.041754</td>\n",
       "      <td>4.926931</td>\n",
       "    </tr>\n",
       "    <tr>\n",
       "      <th>...</th>\n",
       "      <td>...</td>\n",
       "      <td>...</td>\n",
       "      <td>...</td>\n",
       "      <td>...</td>\n",
       "      <td>...</td>\n",
       "    </tr>\n",
       "    <tr>\n",
       "      <th>0570</th>\n",
       "      <td>4.966471</td>\n",
       "      <td>19.991618</td>\n",
       "      <td>50.041911</td>\n",
       "      <td>19.991618</td>\n",
       "      <td>5.008382</td>\n",
       "    </tr>\n",
       "    <tr>\n",
       "      <th>0571</th>\n",
       "      <td>5.017771</td>\n",
       "      <td>19.966548</td>\n",
       "      <td>50.010454</td>\n",
       "      <td>19.987456</td>\n",
       "      <td>5.017771</td>\n",
       "    </tr>\n",
       "    <tr>\n",
       "      <th>0572</th>\n",
       "      <td>5.078699</td>\n",
       "      <td>19.937041</td>\n",
       "      <td>49.947534</td>\n",
       "      <td>20.020986</td>\n",
       "      <td>5.015740</td>\n",
       "    </tr>\n",
       "    <tr>\n",
       "      <th>0573</th>\n",
       "      <td>5.057712</td>\n",
       "      <td>19.979014</td>\n",
       "      <td>49.968520</td>\n",
       "      <td>19.979014</td>\n",
       "      <td>5.015740</td>\n",
       "    </tr>\n",
       "    <tr>\n",
       "      <th>0574</th>\n",
       "      <td>4.900524</td>\n",
       "      <td>20.062827</td>\n",
       "      <td>49.989529</td>\n",
       "      <td>20.083770</td>\n",
       "      <td>4.963351</td>\n",
       "    </tr>\n",
       "  </tbody>\n",
       "</table>\n",
       "<p>574 rows × 5 columns</p>\n",
       "</div>"
      ],
      "text/plain": [
       "target_jerome_v4_60      0.00       0.25       0.50       0.75      1.00\n",
       "era                                                                     \n",
       "0001                 4.847310  20.116335  49.927290  20.067862  5.041202\n",
       "0002                 4.982206  20.017794  50.000000  19.973310  5.026690\n",
       "0003                 4.991394  20.180723  49.612737  20.309811  4.905336\n",
       "0004                 4.981164  20.050230  50.020929  19.924655  5.023022\n",
       "0005                 5.010438  20.000000  50.020877  20.041754  4.926931\n",
       "...                       ...        ...        ...        ...       ...\n",
       "0570                 4.966471  19.991618  50.041911  19.991618  5.008382\n",
       "0571                 5.017771  19.966548  50.010454  19.987456  5.017771\n",
       "0572                 5.078699  19.937041  49.947534  20.020986  5.015740\n",
       "0573                 5.057712  19.979014  49.968520  19.979014  5.015740\n",
       "0574                 4.900524  20.062827  49.989529  20.083770  4.963351\n",
       "\n",
       "[574 rows x 5 columns]"
      ]
     },
     "execution_count": 31,
     "metadata": {},
     "output_type": "execute_result"
    },
    {
     "name": "stdout",
     "output_type": "stream",
     "text": [
      "\r"
     ]
    }
   ],
   "source": [
    "erawise_target_value_percent(train_df, target=targets[1])"
   ]
  },
  {
   "cell_type": "markdown",
   "id": "751be71f",
   "metadata": {},
   "source": [
    "#### Observation, seems like for all eras, the distribution of the target values is always the same (regardless of the target)."
   ]
  },
  {
   "cell_type": "markdown",
   "id": "6ce7e384",
   "metadata": {},
   "source": [
    "## 2. Model training"
   ]
  },
  {
   "cell_type": "code",
   "execution_count": 34,
   "id": "0fcebf35",
   "metadata": {},
   "outputs": [
    {
     "name": "stdout",
     "output_type": "stream",
     "text": [
      "[2023-04-20 14:26:28]  Data used for training info: df.shape=(24198, 65), df.era.nunique()=574\n",
      "\r"
     ]
    }
   ],
   "source": [
    "if TEST_MODE:\n",
    "    frac = 0.01\n",
    "    train_mdl_df = ut.sample_within_eras(train_df, frac=frac)\n",
    "    print_df_info(train_mdl_df, name=\"Train small\")\n",
    "else:\n",
    "    train_mdl_df = train_df\n",
    "print_df_info(train_mdl_df, name=\"Data used for training\")"
   ]
  },
  {
   "cell_type": "code",
   "execution_count": 35,
   "id": "91291b74",
   "metadata": {
    "scrolled": false
   },
   "outputs": [
    {
     "name": "stdout",
     "output_type": "stream",
     "text": [
      "[2023-04-20 14:26:31]  Ensuring that the data looks right!\n"
     ]
    },
    {
     "data": {
      "text/html": [
       "<div>\n",
       "<style scoped>\n",
       "    .dataframe tbody tr th:only-of-type {\n",
       "        vertical-align: middle;\n",
       "    }\n",
       "\n",
       "    .dataframe tbody tr th {\n",
       "        vertical-align: top;\n",
       "    }\n",
       "\n",
       "    .dataframe thead th {\n",
       "        text-align: right;\n",
       "    }\n",
       "</style>\n",
       "<table border=\"1\" class=\"dataframe\">\n",
       "  <thead>\n",
       "    <tr style=\"text-align: right;\">\n",
       "      <th></th>\n",
       "      <th></th>\n",
       "      <th>era</th>\n",
       "      <th>era_bin50</th>\n",
       "    </tr>\n",
       "    <tr>\n",
       "      <th>era</th>\n",
       "      <th>id</th>\n",
       "      <th></th>\n",
       "      <th></th>\n",
       "    </tr>\n",
       "  </thead>\n",
       "  <tbody>\n",
       "    <tr>\n",
       "      <th>0310</th>\n",
       "      <th>nc6c56e224c571b8</th>\n",
       "      <td>0310</td>\n",
       "      <td>6</td>\n",
       "    </tr>\n",
       "    <tr>\n",
       "      <th>0102</th>\n",
       "      <th>nd43e5f1a32d7691</th>\n",
       "      <td>0102</td>\n",
       "      <td>2</td>\n",
       "    </tr>\n",
       "    <tr>\n",
       "      <th>0099</th>\n",
       "      <th>nb6c546fa17e184c</th>\n",
       "      <td>0099</td>\n",
       "      <td>2</td>\n",
       "    </tr>\n",
       "    <tr>\n",
       "      <th>0423</th>\n",
       "      <th>n393bd5c1df36ff5</th>\n",
       "      <td>0423</td>\n",
       "      <td>9</td>\n",
       "    </tr>\n",
       "    <tr>\n",
       "      <th>0175</th>\n",
       "      <th>nd805ba0ed8ec466</th>\n",
       "      <td>0175</td>\n",
       "      <td>4</td>\n",
       "    </tr>\n",
       "  </tbody>\n",
       "</table>\n",
       "</div>"
      ],
      "text/plain": [
       "                        era  era_bin50\n",
       "era  id                               \n",
       "0310 nc6c56e224c571b8  0310          6\n",
       "0102 nd43e5f1a32d7691  0102          2\n",
       "0099 nb6c546fa17e184c  0099          2\n",
       "0423 n393bd5c1df36ff5  0423          9\n",
       "0175 nd805ba0ed8ec466  0175          4"
      ]
     },
     "execution_count": 35,
     "metadata": {},
     "output_type": "execute_result"
    },
    {
     "name": "stdout",
     "output_type": "stream",
     "text": [
      "\r"
     ]
    }
   ],
   "source": [
    "log.info(\"Ensuring that the data looks right!\")\n",
    "train_mdl_df[['era', 'era_bin50']].sample(5)"
   ]
  },
  {
   "cell_type": "code",
   "execution_count": 39,
   "id": "0daf225c",
   "metadata": {},
   "outputs": [
    {
     "name": "stdout",
     "output_type": "stream",
     "text": [
      "\r"
     ]
    }
   ],
   "source": [
    "mlflow.lightgbm.autolog()\n",
    "bin_mdl_expt_id = mlflow.create_experiment(name=parameters[\"expt_name\"] + \"_erabin_models\")"
   ]
  },
  {
   "cell_type": "markdown",
   "id": "0da0d029",
   "metadata": {},
   "source": [
    "### 2.1 Build one model per era bin"
   ]
  },
  {
   "cell_type": "code",
   "execution_count": 36,
   "id": "6efe2929",
   "metadata": {},
   "outputs": [
    {
     "name": "stdout",
     "output_type": "stream",
     "text": [
      "\r"
     ]
    }
   ],
   "source": [
    "def build_model_for_each_erabin(\n",
    "    train_df,\n",
    "    test_df: pd.DataFrame,\n",
    "    era_bin_col,\n",
    "    features: list[str],\n",
    "    train_ident: str,\n",
    "    target: str,\n",
    "    model_rootdir: str,\n",
    "    params: dict,\n",
    "    expt_id: str,\n",
    "):\n",
    "    \"\"\"Builds a model for each era bin.\"\"\"\n",
    "    # Build a model for each era bin.\n",
    "    era_bins = train_df[era_bin_col].unique()\n",
    "    bin_model_data_map = {}\n",
    "    for era_bin in tqdm(era_bins, desc=\"Training model for era bin\"):\n",
    "        # Get the train and test data for this era bin.\n",
    "        era_bin_train_df = train_df[train_df[era_bin_col] == era_bin]\n",
    "        log.info(\n",
    "            f\"Building model for era bin: {era_bin}\\n\"\n",
    "            f\"Size of train set {len(era_bin_train_df):,}\"\n",
    "        )\n",
    "        bin_model_data_map[era_bin] = ut.build_model_for_target(\n",
    "            train_df=era_bin_train_df,\n",
    "            test_df=test_df,\n",
    "            features=features,\n",
    "            train_ident=train_ident,\n",
    "            target=target,\n",
    "            model_rootdir=model_rootdir,\n",
    "            params=params,\n",
    "            expt_id=expt_id,\n",
    "            suffix=f\"_erabin{era_bin}_binsz{ERA_BIN_SZ}\",\n",
    "        )\n",
    "    return bin_model_data_map"
   ]
  },
  {
   "cell_type": "code",
   "execution_count": 41,
   "id": "68cd3e7c",
   "metadata": {
    "scrolled": true
   },
   "outputs": [
    {
     "name": "stdout",
     "output_type": "stream",
     "text": [
      "[2023-04-20 14:28:11]  Building model for era bin: 1\n",
      "[2023-04-20 14:28:11]  Checking for existing model 'train_int8_target_nomi_v4_20_erabin1_binsz50_52e08c'\n",
      "[2023-04-20 14:28:11]  Creating new model...\n"
     ]
    },
    {
     "name": "stderr",
     "output_type": "stream",
     "text": [
      "2023/04/20 14:28:15 WARNING mlflow.utils.autologging_utils: MLflow autologging encountered a warning: \"/Users/vispers/venvs/venv3/lib/python3.10/site-packages/mlflow/models/signature.py:130: UserWarning: Hint: Inferred schema contains integer column(s). Integer columns in Python cannot represent missing values. If your input data contains missing values at inference time, it will be encoded as floats and will cause a schema enforcement error. The best way to avoid this problem is to infer the model schema based on a realistic data sample (training dataset) that includes missing values. Alternatively, you can declare integer columns as doubles (float64) whenever these columns may have missing values. See `Handling Integers With Missing Values <https://www.mlflow.org/docs/latest/models.html#handling-integers-with-missing-values>`_ for more details.\"\n"
     ]
    },
    {
     "name": "stdout",
     "output_type": "stream",
     "text": [
      "[2023-04-20 14:28:17]  saving new model: train_int8_target_nomi_v4_20_erabin1_binsz50_52e08c\n"
     ]
    },
    {
     "name": "stderr",
     "output_type": "stream",
     "text": [
      "Successfully registered model 'train_int8_target_nomi_v4_20_erabin1_binsz50_52e08c'.\n",
      "2023/04/20 14:28:30 INFO mlflow.tracking._model_registry.client: Waiting up to 300 seconds for model version to finish creation.                     Model name: train_int8_target_nomi_v4_20_erabin1_binsz50_52e08c, version 1\n",
      "Created version '1' of model 'train_int8_target_nomi_v4_20_erabin1_binsz50_52e08c'.\n"
     ]
    },
    {
     "name": "stdout",
     "output_type": "stream",
     "text": [
      "[2023-04-20 14:28:30]  Logged model=train_int8_target_nomi_v4_20_erabin1_binsz50_52e08c, version=1\n",
      "[2023-04-20 14:28:30]  Building model for era bin: 2\n",
      "[2023-04-20 14:28:30]  Checking for existing model 'train_int8_target_nomi_v4_20_erabin2_binsz50_52e08c'\n",
      "[2023-04-20 14:28:30]  Creating new model...\n"
     ]
    },
    {
     "name": "stderr",
     "output_type": "stream",
     "text": [
      "2023/04/20 14:28:34 WARNING mlflow.utils.autologging_utils: MLflow autologging encountered a warning: \"/Users/vispers/venvs/venv3/lib/python3.10/site-packages/mlflow/models/signature.py:130: UserWarning: Hint: Inferred schema contains integer column(s). Integer columns in Python cannot represent missing values. If your input data contains missing values at inference time, it will be encoded as floats and will cause a schema enforcement error. The best way to avoid this problem is to infer the model schema based on a realistic data sample (training dataset) that includes missing values. Alternatively, you can declare integer columns as doubles (float64) whenever these columns may have missing values. See `Handling Integers With Missing Values <https://www.mlflow.org/docs/latest/models.html#handling-integers-with-missing-values>`_ for more details.\"\n"
     ]
    },
    {
     "name": "stdout",
     "output_type": "stream",
     "text": [
      "[2023-04-20 14:28:35]  saving new model: train_int8_target_nomi_v4_20_erabin2_binsz50_52e08c\n"
     ]
    },
    {
     "name": "stderr",
     "output_type": "stream",
     "text": [
      "Successfully registered model 'train_int8_target_nomi_v4_20_erabin2_binsz50_52e08c'.\n",
      "2023/04/20 14:28:48 INFO mlflow.tracking._model_registry.client: Waiting up to 300 seconds for model version to finish creation.                     Model name: train_int8_target_nomi_v4_20_erabin2_binsz50_52e08c, version 1\n",
      "Created version '1' of model 'train_int8_target_nomi_v4_20_erabin2_binsz50_52e08c'.\n"
     ]
    },
    {
     "name": "stdout",
     "output_type": "stream",
     "text": [
      "[2023-04-20 14:28:48]  Logged model=train_int8_target_nomi_v4_20_erabin2_binsz50_52e08c, version=1\n",
      "[2023-04-20 14:28:48]  Building model for era bin: 3\n",
      "[2023-04-20 14:28:48]  Checking for existing model 'train_int8_target_nomi_v4_20_erabin3_binsz50_52e08c'\n",
      "[2023-04-20 14:28:48]  Creating new model...\n"
     ]
    },
    {
     "name": "stderr",
     "output_type": "stream",
     "text": [
      "2023/04/20 14:28:52 WARNING mlflow.utils.autologging_utils: MLflow autologging encountered a warning: \"/Users/vispers/venvs/venv3/lib/python3.10/site-packages/mlflow/models/signature.py:130: UserWarning: Hint: Inferred schema contains integer column(s). Integer columns in Python cannot represent missing values. If your input data contains missing values at inference time, it will be encoded as floats and will cause a schema enforcement error. The best way to avoid this problem is to infer the model schema based on a realistic data sample (training dataset) that includes missing values. Alternatively, you can declare integer columns as doubles (float64) whenever these columns may have missing values. See `Handling Integers With Missing Values <https://www.mlflow.org/docs/latest/models.html#handling-integers-with-missing-values>`_ for more details.\"\n"
     ]
    },
    {
     "name": "stdout",
     "output_type": "stream",
     "text": [
      "[2023-04-20 14:28:53]  saving new model: train_int8_target_nomi_v4_20_erabin3_binsz50_52e08c\n"
     ]
    },
    {
     "name": "stderr",
     "output_type": "stream",
     "text": [
      "Successfully registered model 'train_int8_target_nomi_v4_20_erabin3_binsz50_52e08c'.\n",
      "2023/04/20 14:29:07 INFO mlflow.tracking._model_registry.client: Waiting up to 300 seconds for model version to finish creation.                     Model name: train_int8_target_nomi_v4_20_erabin3_binsz50_52e08c, version 1\n",
      "Created version '1' of model 'train_int8_target_nomi_v4_20_erabin3_binsz50_52e08c'.\n"
     ]
    },
    {
     "name": "stdout",
     "output_type": "stream",
     "text": [
      "[2023-04-20 14:29:07]  Logged model=train_int8_target_nomi_v4_20_erabin3_binsz50_52e08c, version=1\n",
      "[2023-04-20 14:29:07]  Building model for era bin: 4\n",
      "[2023-04-20 14:29:07]  Checking for existing model 'train_int8_target_nomi_v4_20_erabin4_binsz50_52e08c'\n",
      "[2023-04-20 14:29:07]  Creating new model...\n"
     ]
    },
    {
     "name": "stderr",
     "output_type": "stream",
     "text": [
      "2023/04/20 14:29:11 WARNING mlflow.utils.autologging_utils: MLflow autologging encountered a warning: \"/Users/vispers/venvs/venv3/lib/python3.10/site-packages/mlflow/models/signature.py:130: UserWarning: Hint: Inferred schema contains integer column(s). Integer columns in Python cannot represent missing values. If your input data contains missing values at inference time, it will be encoded as floats and will cause a schema enforcement error. The best way to avoid this problem is to infer the model schema based on a realistic data sample (training dataset) that includes missing values. Alternatively, you can declare integer columns as doubles (float64) whenever these columns may have missing values. See `Handling Integers With Missing Values <https://www.mlflow.org/docs/latest/models.html#handling-integers-with-missing-values>`_ for more details.\"\n"
     ]
    },
    {
     "name": "stdout",
     "output_type": "stream",
     "text": [
      "[2023-04-20 14:29:12]  saving new model: train_int8_target_nomi_v4_20_erabin4_binsz50_52e08c\n"
     ]
    },
    {
     "name": "stderr",
     "output_type": "stream",
     "text": [
      "Successfully registered model 'train_int8_target_nomi_v4_20_erabin4_binsz50_52e08c'.\n",
      "2023/04/20 14:29:25 INFO mlflow.tracking._model_registry.client: Waiting up to 300 seconds for model version to finish creation.                     Model name: train_int8_target_nomi_v4_20_erabin4_binsz50_52e08c, version 1\n",
      "Created version '1' of model 'train_int8_target_nomi_v4_20_erabin4_binsz50_52e08c'.\n"
     ]
    },
    {
     "name": "stdout",
     "output_type": "stream",
     "text": [
      "[2023-04-20 14:29:25]  Logged model=train_int8_target_nomi_v4_20_erabin4_binsz50_52e08c, version=1\n",
      "[2023-04-20 14:29:25]  Building model for era bin: 5\n",
      "[2023-04-20 14:29:25]  Checking for existing model 'train_int8_target_nomi_v4_20_erabin5_binsz50_52e08c'\n",
      "[2023-04-20 14:29:25]  Creating new model...\n"
     ]
    },
    {
     "name": "stderr",
     "output_type": "stream",
     "text": [
      "2023/04/20 14:29:29 WARNING mlflow.utils.autologging_utils: MLflow autologging encountered a warning: \"/Users/vispers/venvs/venv3/lib/python3.10/site-packages/mlflow/models/signature.py:130: UserWarning: Hint: Inferred schema contains integer column(s). Integer columns in Python cannot represent missing values. If your input data contains missing values at inference time, it will be encoded as floats and will cause a schema enforcement error. The best way to avoid this problem is to infer the model schema based on a realistic data sample (training dataset) that includes missing values. Alternatively, you can declare integer columns as doubles (float64) whenever these columns may have missing values. See `Handling Integers With Missing Values <https://www.mlflow.org/docs/latest/models.html#handling-integers-with-missing-values>`_ for more details.\"\n"
     ]
    },
    {
     "name": "stdout",
     "output_type": "stream",
     "text": [
      "[2023-04-20 14:29:30]  saving new model: train_int8_target_nomi_v4_20_erabin5_binsz50_52e08c\n"
     ]
    },
    {
     "name": "stderr",
     "output_type": "stream",
     "text": [
      "Successfully registered model 'train_int8_target_nomi_v4_20_erabin5_binsz50_52e08c'.\n",
      "2023/04/20 14:29:44 INFO mlflow.tracking._model_registry.client: Waiting up to 300 seconds for model version to finish creation.                     Model name: train_int8_target_nomi_v4_20_erabin5_binsz50_52e08c, version 1\n",
      "Created version '1' of model 'train_int8_target_nomi_v4_20_erabin5_binsz50_52e08c'.\n"
     ]
    },
    {
     "name": "stdout",
     "output_type": "stream",
     "text": [
      "[2023-04-20 14:29:44]  Logged model=train_int8_target_nomi_v4_20_erabin5_binsz50_52e08c, version=1\n",
      "[2023-04-20 14:29:44]  Building model for era bin: 6\n",
      "[2023-04-20 14:29:44]  Checking for existing model 'train_int8_target_nomi_v4_20_erabin6_binsz50_52e08c'\n",
      "[2023-04-20 14:29:44]  Creating new model...\n"
     ]
    },
    {
     "name": "stderr",
     "output_type": "stream",
     "text": [
      "2023/04/20 14:29:47 WARNING mlflow.utils.autologging_utils: MLflow autologging encountered a warning: \"/Users/vispers/venvs/venv3/lib/python3.10/site-packages/mlflow/models/signature.py:130: UserWarning: Hint: Inferred schema contains integer column(s). Integer columns in Python cannot represent missing values. If your input data contains missing values at inference time, it will be encoded as floats and will cause a schema enforcement error. The best way to avoid this problem is to infer the model schema based on a realistic data sample (training dataset) that includes missing values. Alternatively, you can declare integer columns as doubles (float64) whenever these columns may have missing values. See `Handling Integers With Missing Values <https://www.mlflow.org/docs/latest/models.html#handling-integers-with-missing-values>`_ for more details.\"\n"
     ]
    },
    {
     "name": "stdout",
     "output_type": "stream",
     "text": [
      "[2023-04-20 14:29:48]  saving new model: train_int8_target_nomi_v4_20_erabin6_binsz50_52e08c\n"
     ]
    },
    {
     "name": "stderr",
     "output_type": "stream",
     "text": [
      "Successfully registered model 'train_int8_target_nomi_v4_20_erabin6_binsz50_52e08c'.\n",
      "2023/04/20 14:30:02 INFO mlflow.tracking._model_registry.client: Waiting up to 300 seconds for model version to finish creation.                     Model name: train_int8_target_nomi_v4_20_erabin6_binsz50_52e08c, version 1\n",
      "Created version '1' of model 'train_int8_target_nomi_v4_20_erabin6_binsz50_52e08c'.\n"
     ]
    },
    {
     "name": "stdout",
     "output_type": "stream",
     "text": [
      "[2023-04-20 14:30:02]  Logged model=train_int8_target_nomi_v4_20_erabin6_binsz50_52e08c, version=1\n",
      "[2023-04-20 14:30:02]  Building model for era bin: 7\n",
      "[2023-04-20 14:30:02]  Checking for existing model 'train_int8_target_nomi_v4_20_erabin7_binsz50_52e08c'\n",
      "[2023-04-20 14:30:02]  Creating new model...\n"
     ]
    },
    {
     "name": "stderr",
     "output_type": "stream",
     "text": [
      "2023/04/20 14:30:05 WARNING mlflow.utils.autologging_utils: MLflow autologging encountered a warning: \"/Users/vispers/venvs/venv3/lib/python3.10/site-packages/mlflow/models/signature.py:130: UserWarning: Hint: Inferred schema contains integer column(s). Integer columns in Python cannot represent missing values. If your input data contains missing values at inference time, it will be encoded as floats and will cause a schema enforcement error. The best way to avoid this problem is to infer the model schema based on a realistic data sample (training dataset) that includes missing values. Alternatively, you can declare integer columns as doubles (float64) whenever these columns may have missing values. See `Handling Integers With Missing Values <https://www.mlflow.org/docs/latest/models.html#handling-integers-with-missing-values>`_ for more details.\"\n"
     ]
    },
    {
     "name": "stdout",
     "output_type": "stream",
     "text": [
      "[2023-04-20 14:30:07]  saving new model: train_int8_target_nomi_v4_20_erabin7_binsz50_52e08c\n"
     ]
    },
    {
     "name": "stderr",
     "output_type": "stream",
     "text": [
      "Successfully registered model 'train_int8_target_nomi_v4_20_erabin7_binsz50_52e08c'.\n",
      "2023/04/20 14:30:19 INFO mlflow.tracking._model_registry.client: Waiting up to 300 seconds for model version to finish creation.                     Model name: train_int8_target_nomi_v4_20_erabin7_binsz50_52e08c, version 1\n",
      "Created version '1' of model 'train_int8_target_nomi_v4_20_erabin7_binsz50_52e08c'.\n"
     ]
    },
    {
     "name": "stdout",
     "output_type": "stream",
     "text": [
      "[2023-04-20 14:30:19]  Logged model=train_int8_target_nomi_v4_20_erabin7_binsz50_52e08c, version=1\n",
      "[2023-04-20 14:30:19]  Building model for era bin: 8\n",
      "[2023-04-20 14:30:19]  Checking for existing model 'train_int8_target_nomi_v4_20_erabin8_binsz50_52e08c'\n",
      "[2023-04-20 14:30:19]  Creating new model...\n"
     ]
    },
    {
     "name": "stderr",
     "output_type": "stream",
     "text": [
      "2023/04/20 14:30:23 WARNING mlflow.utils.autologging_utils: MLflow autologging encountered a warning: \"/Users/vispers/venvs/venv3/lib/python3.10/site-packages/mlflow/models/signature.py:130: UserWarning: Hint: Inferred schema contains integer column(s). Integer columns in Python cannot represent missing values. If your input data contains missing values at inference time, it will be encoded as floats and will cause a schema enforcement error. The best way to avoid this problem is to infer the model schema based on a realistic data sample (training dataset) that includes missing values. Alternatively, you can declare integer columns as doubles (float64) whenever these columns may have missing values. See `Handling Integers With Missing Values <https://www.mlflow.org/docs/latest/models.html#handling-integers-with-missing-values>`_ for more details.\"\n"
     ]
    },
    {
     "name": "stdout",
     "output_type": "stream",
     "text": [
      "[2023-04-20 14:30:24]  saving new model: train_int8_target_nomi_v4_20_erabin8_binsz50_52e08c\n"
     ]
    },
    {
     "name": "stderr",
     "output_type": "stream",
     "text": [
      "Successfully registered model 'train_int8_target_nomi_v4_20_erabin8_binsz50_52e08c'.\n",
      "2023/04/20 14:30:37 INFO mlflow.tracking._model_registry.client: Waiting up to 300 seconds for model version to finish creation.                     Model name: train_int8_target_nomi_v4_20_erabin8_binsz50_52e08c, version 1\n",
      "Created version '1' of model 'train_int8_target_nomi_v4_20_erabin8_binsz50_52e08c'.\n"
     ]
    },
    {
     "name": "stdout",
     "output_type": "stream",
     "text": [
      "[2023-04-20 14:30:37]  Logged model=train_int8_target_nomi_v4_20_erabin8_binsz50_52e08c, version=1\n",
      "[2023-04-20 14:30:37]  Building model for era bin: 9\n",
      "[2023-04-20 14:30:37]  Checking for existing model 'train_int8_target_nomi_v4_20_erabin9_binsz50_52e08c'\n",
      "[2023-04-20 14:30:37]  Creating new model...\n"
     ]
    },
    {
     "name": "stderr",
     "output_type": "stream",
     "text": [
      "2023/04/20 14:30:41 WARNING mlflow.utils.autologging_utils: MLflow autologging encountered a warning: \"/Users/vispers/venvs/venv3/lib/python3.10/site-packages/mlflow/models/signature.py:130: UserWarning: Hint: Inferred schema contains integer column(s). Integer columns in Python cannot represent missing values. If your input data contains missing values at inference time, it will be encoded as floats and will cause a schema enforcement error. The best way to avoid this problem is to infer the model schema based on a realistic data sample (training dataset) that includes missing values. Alternatively, you can declare integer columns as doubles (float64) whenever these columns may have missing values. See `Handling Integers With Missing Values <https://www.mlflow.org/docs/latest/models.html#handling-integers-with-missing-values>`_ for more details.\"\n"
     ]
    },
    {
     "name": "stdout",
     "output_type": "stream",
     "text": [
      "[2023-04-20 14:30:42]  saving new model: train_int8_target_nomi_v4_20_erabin9_binsz50_52e08c\n"
     ]
    },
    {
     "name": "stderr",
     "output_type": "stream",
     "text": [
      "Successfully registered model 'train_int8_target_nomi_v4_20_erabin9_binsz50_52e08c'.\n",
      "2023/04/20 14:30:55 INFO mlflow.tracking._model_registry.client: Waiting up to 300 seconds for model version to finish creation.                     Model name: train_int8_target_nomi_v4_20_erabin9_binsz50_52e08c, version 1\n",
      "Created version '1' of model 'train_int8_target_nomi_v4_20_erabin9_binsz50_52e08c'.\n"
     ]
    },
    {
     "name": "stdout",
     "output_type": "stream",
     "text": [
      "[2023-04-20 14:30:55]  Logged model=train_int8_target_nomi_v4_20_erabin9_binsz50_52e08c, version=1\n",
      "[2023-04-20 14:30:55]  Building model for era bin: 10\n",
      "[2023-04-20 14:30:55]  Checking for existing model 'train_int8_target_nomi_v4_20_erabin10_binsz50_52e08c'\n",
      "[2023-04-20 14:30:55]  Creating new model...\n"
     ]
    },
    {
     "name": "stderr",
     "output_type": "stream",
     "text": [
      "2023/04/20 14:30:59 WARNING mlflow.utils.autologging_utils: MLflow autologging encountered a warning: \"/Users/vispers/venvs/venv3/lib/python3.10/site-packages/mlflow/models/signature.py:130: UserWarning: Hint: Inferred schema contains integer column(s). Integer columns in Python cannot represent missing values. If your input data contains missing values at inference time, it will be encoded as floats and will cause a schema enforcement error. The best way to avoid this problem is to infer the model schema based on a realistic data sample (training dataset) that includes missing values. Alternatively, you can declare integer columns as doubles (float64) whenever these columns may have missing values. See `Handling Integers With Missing Values <https://www.mlflow.org/docs/latest/models.html#handling-integers-with-missing-values>`_ for more details.\"\n"
     ]
    },
    {
     "name": "stdout",
     "output_type": "stream",
     "text": [
      "[2023-04-20 14:31:00]  saving new model: train_int8_target_nomi_v4_20_erabin10_binsz50_52e08c\n"
     ]
    },
    {
     "name": "stderr",
     "output_type": "stream",
     "text": [
      "Successfully registered model 'train_int8_target_nomi_v4_20_erabin10_binsz50_52e08c'.\n",
      "2023/04/20 14:31:14 INFO mlflow.tracking._model_registry.client: Waiting up to 300 seconds for model version to finish creation.                     Model name: train_int8_target_nomi_v4_20_erabin10_binsz50_52e08c, version 1\n",
      "Created version '1' of model 'train_int8_target_nomi_v4_20_erabin10_binsz50_52e08c'.\n"
     ]
    },
    {
     "name": "stdout",
     "output_type": "stream",
     "text": [
      "[2023-04-20 14:31:14]  Logged model=train_int8_target_nomi_v4_20_erabin10_binsz50_52e08c, version=1\n",
      "[2023-04-20 14:31:14]  Building model for era bin: 11\n",
      "[2023-04-20 14:31:14]  Checking for existing model 'train_int8_target_nomi_v4_20_erabin11_binsz50_52e08c'\n",
      "[2023-04-20 14:31:14]  Creating new model...\n"
     ]
    },
    {
     "name": "stderr",
     "output_type": "stream",
     "text": [
      "2023/04/20 14:31:18 WARNING mlflow.utils.autologging_utils: MLflow autologging encountered a warning: \"/Users/vispers/venvs/venv3/lib/python3.10/site-packages/mlflow/models/signature.py:130: UserWarning: Hint: Inferred schema contains integer column(s). Integer columns in Python cannot represent missing values. If your input data contains missing values at inference time, it will be encoded as floats and will cause a schema enforcement error. The best way to avoid this problem is to infer the model schema based on a realistic data sample (training dataset) that includes missing values. Alternatively, you can declare integer columns as doubles (float64) whenever these columns may have missing values. See `Handling Integers With Missing Values <https://www.mlflow.org/docs/latest/models.html#handling-integers-with-missing-values>`_ for more details.\"\n"
     ]
    },
    {
     "name": "stdout",
     "output_type": "stream",
     "text": [
      "[2023-04-20 14:31:20]  saving new model: train_int8_target_nomi_v4_20_erabin11_binsz50_52e08c\n"
     ]
    },
    {
     "name": "stderr",
     "output_type": "stream",
     "text": [
      "Successfully registered model 'train_int8_target_nomi_v4_20_erabin11_binsz50_52e08c'.\n",
      "2023/04/20 14:31:34 INFO mlflow.tracking._model_registry.client: Waiting up to 300 seconds for model version to finish creation.                     Model name: train_int8_target_nomi_v4_20_erabin11_binsz50_52e08c, version 1\n",
      "Created version '1' of model 'train_int8_target_nomi_v4_20_erabin11_binsz50_52e08c'.\n"
     ]
    },
    {
     "name": "stdout",
     "output_type": "stream",
     "text": [
      "[2023-04-20 14:31:34]  Logged model=train_int8_target_nomi_v4_20_erabin11_binsz50_52e08c, version=1\n",
      "[2023-04-20 14:31:34]  Target col target_nomi_v4_20\n",
      "\r"
     ]
    }
   ],
   "source": [
    "bin_model_data_map = build_model_for_each_erabin(\n",
    "    train_df=train_mdl_df,\n",
    "    test_df=test1_df,\n",
    "    era_bin_col=ERA_BIN_COL,\n",
    "    features=features,\n",
    "    train_ident=\"train_int8\",\n",
    "    target=TARGET_COL,\n",
    "    model_rootdir=MODEL_DIR,\n",
    "    params=parameters,\n",
    "    expt_id=bin_mdl_expt_id,\n",
    ")\n",
    "log.info(f\"Target col {TARGET_COL}\")"
   ]
  },
  {
   "cell_type": "code",
   "execution_count": 165,
   "id": "6c50b22f",
   "metadata": {},
   "outputs": [
    {
     "name": "stdout",
     "output_type": "stream",
     "text": [
      "[2023-04-20 15:34:24]  Created model files in ./data/experiments/era_analysis__2023-04-20_14h-20m/models//train_int8 \n",
      "num files = 11\n",
      "['train_int8_target_nomi_v4_20_erabin3_binsz50_52e08c.pkl', 'train_int8_target_nomi_v4_20_erabin6_binsz50_52e08c.pkl', 'train_int8_target_nomi_v4_20_erabin10_binsz50_52e08c.pkl', 'train_int8_target_nomi_v4_20_erabin5_binsz50_52e08c.pkl', 'train_int8_target_nomi_v4_20_erabin8_binsz50_52e08c.pkl', 'train_int8_target_nomi_v4_20_erabin11_binsz50_52e08c.pkl', 'train_int8_target_nomi_v4_20_erabin4_binsz50_52e08c.pkl', 'train_int8_target_nomi_v4_20_erabin9_binsz50_52e08c.pkl', 'train_int8_target_nomi_v4_20_erabin7_binsz50_52e08c.pkl', 'train_int8_target_nomi_v4_20_erabin1_binsz50_52e08c.pkl', 'train_int8_target_nomi_v4_20_erabin2_binsz50_52e08c.pkl']\n",
      "\r"
     ]
    }
   ],
   "source": [
    "model_path = MODEL_DIR+\"/train_int8\"\n",
    "mld_fls = os.listdir(model_path)\n",
    "log.info(f\"Created model files in {model_path} \\nnum files = {len(mld_fls)}\\n{mld_fls}\")"
   ]
  },
  {
   "cell_type": "markdown",
   "id": "8da66c9f",
   "metadata": {},
   "source": [
    "### 2.2 Look at the metrics for the trained erabin models"
   ]
  },
  {
   "cell_type": "code",
   "execution_count": 241,
   "id": "6ad78c86",
   "metadata": {},
   "outputs": [
    {
     "name": "stdout",
     "output_type": "stream",
     "text": [
      "\r"
     ]
    }
   ],
   "source": [
    "def to_metrics_df(model_data_map):\n",
    "    res_df = pd.DataFrame(model_data_map).transpose()\n",
    "    return pd.concat(res_df.loc[:, \"validation_stats\"].tolist(), axis=0)"
   ]
  },
  {
   "cell_type": "code",
   "execution_count": 242,
   "id": "3a20a749",
   "metadata": {
    "scrolled": false
   },
   "outputs": [
    {
     "data": {
      "text/html": [
       "<style type=\"text/css\">\n",
       "#T_6b248_row0_col0 {\n",
       "  width: 10em;\n",
       "  background: linear-gradient(90deg, transparent 46.3%, #d65f5f 46.3%, #d65f5f 50.0%, transparent 50.0%);\n",
       "}\n",
       "#T_6b248_row0_col1 {\n",
       "  width: 10em;\n",
       "  background: linear-gradient(90deg, transparent 50.0%, #5fba7d 50.0%, #5fba7d 96.9%, transparent 96.9%);\n",
       "}\n",
       "#T_6b248_row0_col2 {\n",
       "  width: 10em;\n",
       "  background: linear-gradient(90deg, transparent 46.9%, #d65f5f 46.9%, #d65f5f 50.0%, transparent 50.0%);\n",
       "}\n",
       "#T_6b248_row0_col3 {\n",
       "  width: 10em;\n",
       "  background: linear-gradient(90deg, #d65f5f 50.0%, transparent 50.0%);\n",
       "}\n",
       "#T_6b248_row0_col4 {\n",
       "  width: 10em;\n",
       "  background: linear-gradient(90deg, transparent 46.4%, #d65f5f 46.4%, #d65f5f 50.0%, transparent 50.0%);\n",
       "}\n",
       "#T_6b248_row1_col0 {\n",
       "  width: 10em;\n",
       "  background: linear-gradient(90deg, transparent 50.0%, #5fba7d 50.0%, #5fba7d 67.5%, transparent 67.5%);\n",
       "}\n",
       "#T_6b248_row1_col1, #T_6b248_row7_col1 {\n",
       "  width: 10em;\n",
       "  background: linear-gradient(90deg, transparent 50.0%, #5fba7d 50.0%, #5fba7d 91.9%, transparent 91.9%);\n",
       "}\n",
       "#T_6b248_row1_col2, #T_6b248_row5_col2 {\n",
       "  width: 10em;\n",
       "  background: linear-gradient(90deg, transparent 50.0%, #5fba7d 50.0%, #5fba7d 66.6%, transparent 66.6%);\n",
       "}\n",
       "#T_6b248_row1_col3 {\n",
       "  width: 10em;\n",
       "  background: linear-gradient(90deg, transparent 23.0%, #d65f5f 23.0%, #d65f5f 50.0%, transparent 50.0%);\n",
       "}\n",
       "#T_6b248_row1_col4 {\n",
       "  width: 10em;\n",
       "  background: linear-gradient(90deg, transparent 50.0%, #5fba7d 50.0%, #5fba7d 64.4%, transparent 64.4%);\n",
       "}\n",
       "#T_6b248_row2_col0 {\n",
       "  width: 10em;\n",
       "  background: linear-gradient(90deg, transparent 50.0%, #5fba7d 50.0%, #5fba7d 62.8%, transparent 62.8%);\n",
       "}\n",
       "#T_6b248_row2_col1 {\n",
       "  width: 10em;\n",
       "  background: linear-gradient(90deg, transparent 50.0%, #5fba7d 50.0%, #5fba7d 86.5%, transparent 86.5%);\n",
       "}\n",
       "#T_6b248_row2_col2 {\n",
       "  width: 10em;\n",
       "  background: linear-gradient(90deg, transparent 50.0%, #5fba7d 50.0%, #5fba7d 63.9%, transparent 63.9%);\n",
       "}\n",
       "#T_6b248_row2_col3 {\n",
       "  width: 10em;\n",
       "  background: linear-gradient(90deg, transparent 27.5%, #d65f5f 27.5%, #d65f5f 50.0%, transparent 50.0%);\n",
       "}\n",
       "#T_6b248_row2_col4 {\n",
       "  width: 10em;\n",
       "  background: linear-gradient(90deg, transparent 50.0%, #5fba7d 50.0%, #5fba7d 60.3%, transparent 60.3%);\n",
       "}\n",
       "#T_6b248_row3_col0 {\n",
       "  width: 10em;\n",
       "  background: linear-gradient(90deg, transparent 50.0%, #5fba7d 50.0%, #5fba7d 61.4%, transparent 61.4%);\n",
       "}\n",
       "#T_6b248_row3_col1 {\n",
       "  width: 10em;\n",
       "  background: linear-gradient(90deg, transparent 50.0%, #5fba7d 50.0%, #5fba7d 88.4%, transparent 88.4%);\n",
       "}\n",
       "#T_6b248_row3_col2 {\n",
       "  width: 10em;\n",
       "  background: linear-gradient(90deg, transparent 50.0%, #5fba7d 50.0%, #5fba7d 61.8%, transparent 61.8%);\n",
       "}\n",
       "#T_6b248_row3_col3 {\n",
       "  width: 10em;\n",
       "  background: linear-gradient(90deg, transparent 31.6%, #d65f5f 31.6%, #d65f5f 50.0%, transparent 50.0%);\n",
       "}\n",
       "#T_6b248_row3_col4 {\n",
       "  width: 10em;\n",
       "  background: linear-gradient(90deg, transparent 50.0%, #5fba7d 50.0%, #5fba7d 59.0%, transparent 59.0%);\n",
       "}\n",
       "#T_6b248_row4_col0, #T_6b248_row4_col2, #T_6b248_row4_col4, #T_6b248_row10_col1 {\n",
       "  width: 10em;\n",
       "  background: linear-gradient(90deg, transparent 50.0%, #5fba7d 50.0%, #5fba7d 100.0%, transparent 100.0%);\n",
       "}\n",
       "#T_6b248_row4_col1 {\n",
       "  width: 10em;\n",
       "  background: linear-gradient(90deg, transparent 50.0%, #5fba7d 50.0%, #5fba7d 89.8%, transparent 89.8%);\n",
       "}\n",
       "#T_6b248_row4_col3 {\n",
       "  width: 10em;\n",
       "  background: linear-gradient(90deg, transparent 34.6%, #d65f5f 34.6%, #d65f5f 50.0%, transparent 50.0%);\n",
       "}\n",
       "#T_6b248_row5_col0 {\n",
       "  width: 10em;\n",
       "  background: linear-gradient(90deg, transparent 50.0%, #5fba7d 50.0%, #5fba7d 67.8%, transparent 67.8%);\n",
       "}\n",
       "#T_6b248_row5_col1 {\n",
       "  width: 10em;\n",
       "  background: linear-gradient(90deg, transparent 50.0%, #5fba7d 50.0%, #5fba7d 93.0%, transparent 93.0%);\n",
       "}\n",
       "#T_6b248_row5_col3, #T_6b248_row9_col3 {\n",
       "  width: 10em;\n",
       "  background: linear-gradient(90deg, transparent 24.4%, #d65f5f 24.4%, #d65f5f 50.0%, transparent 50.0%);\n",
       "}\n",
       "#T_6b248_row5_col4 {\n",
       "  width: 10em;\n",
       "  background: linear-gradient(90deg, transparent 50.0%, #5fba7d 50.0%, #5fba7d 64.7%, transparent 64.7%);\n",
       "}\n",
       "#T_6b248_row6_col0 {\n",
       "  width: 10em;\n",
       "  background: linear-gradient(90deg, transparent 50.0%, #5fba7d 50.0%, #5fba7d 93.4%, transparent 93.4%);\n",
       "}\n",
       "#T_6b248_row6_col1 {\n",
       "  width: 10em;\n",
       "  background: linear-gradient(90deg, transparent 50.0%, #5fba7d 50.0%, #5fba7d 97.2%, transparent 97.2%);\n",
       "}\n",
       "#T_6b248_row6_col2 {\n",
       "  width: 10em;\n",
       "  background: linear-gradient(90deg, transparent 50.0%, #5fba7d 50.0%, #5fba7d 86.7%, transparent 86.7%);\n",
       "}\n",
       "#T_6b248_row6_col3 {\n",
       "  width: 10em;\n",
       "  background: linear-gradient(90deg, transparent 25.1%, #d65f5f 25.1%, #d65f5f 50.0%, transparent 50.0%);\n",
       "}\n",
       "#T_6b248_row6_col4 {\n",
       "  width: 10em;\n",
       "  background: linear-gradient(90deg, transparent 50.0%, #5fba7d 50.0%, #5fba7d 91.5%, transparent 91.5%);\n",
       "}\n",
       "#T_6b248_row7_col0 {\n",
       "  width: 10em;\n",
       "  background: linear-gradient(90deg, transparent 50.0%, #5fba7d 50.0%, #5fba7d 78.3%, transparent 78.3%);\n",
       "}\n",
       "#T_6b248_row7_col2 {\n",
       "  width: 10em;\n",
       "  background: linear-gradient(90deg, transparent 50.0%, #5fba7d 50.0%, #5fba7d 77.0%, transparent 77.0%);\n",
       "}\n",
       "#T_6b248_row7_col3 {\n",
       "  width: 10em;\n",
       "  background: linear-gradient(90deg, transparent 35.6%, #d65f5f 35.6%, #d65f5f 50.0%, transparent 50.0%);\n",
       "}\n",
       "#T_6b248_row7_col4 {\n",
       "  width: 10em;\n",
       "  background: linear-gradient(90deg, transparent 50.0%, #5fba7d 50.0%, #5fba7d 75.1%, transparent 75.1%);\n",
       "}\n",
       "#T_6b248_row8_col0 {\n",
       "  width: 10em;\n",
       "  background: linear-gradient(90deg, transparent 50.0%, #5fba7d 50.0%, #5fba7d 70.7%, transparent 70.7%);\n",
       "}\n",
       "#T_6b248_row8_col1 {\n",
       "  width: 10em;\n",
       "  background: linear-gradient(90deg, transparent 50.0%, #5fba7d 50.0%, #5fba7d 95.5%, transparent 95.5%);\n",
       "}\n",
       "#T_6b248_row8_col2, #T_6b248_row10_col4 {\n",
       "  width: 10em;\n",
       "  background: linear-gradient(90deg, transparent 50.0%, #5fba7d 50.0%, #5fba7d 68.1%, transparent 68.1%);\n",
       "}\n",
       "#T_6b248_row8_col3 {\n",
       "  width: 10em;\n",
       "  background: linear-gradient(90deg, transparent 27.4%, #d65f5f 27.4%, #d65f5f 50.0%, transparent 50.0%);\n",
       "}\n",
       "#T_6b248_row8_col4, #T_6b248_row10_col2 {\n",
       "  width: 10em;\n",
       "  background: linear-gradient(90deg, transparent 50.0%, #5fba7d 50.0%, #5fba7d 67.3%, transparent 67.3%);\n",
       "}\n",
       "#T_6b248_row9_col0 {\n",
       "  width: 10em;\n",
       "  background: linear-gradient(90deg, transparent 50.0%, #5fba7d 50.0%, #5fba7d 63.4%, transparent 63.4%);\n",
       "}\n",
       "#T_6b248_row9_col1 {\n",
       "  width: 10em;\n",
       "  background: linear-gradient(90deg, transparent 50.0%, #5fba7d 50.0%, #5fba7d 89.1%, transparent 89.1%);\n",
       "}\n",
       "#T_6b248_row9_col2 {\n",
       "  width: 10em;\n",
       "  background: linear-gradient(90deg, transparent 50.0%, #5fba7d 50.0%, #5fba7d 63.7%, transparent 63.7%);\n",
       "}\n",
       "#T_6b248_row9_col4 {\n",
       "  width: 10em;\n",
       "  background: linear-gradient(90deg, transparent 50.0%, #5fba7d 50.0%, #5fba7d 60.8%, transparent 60.8%);\n",
       "}\n",
       "#T_6b248_row10_col0 {\n",
       "  width: 10em;\n",
       "  background: linear-gradient(90deg, transparent 50.0%, #5fba7d 50.0%, #5fba7d 71.7%, transparent 71.7%);\n",
       "}\n",
       "#T_6b248_row10_col3 {\n",
       "  width: 10em;\n",
       "  background: linear-gradient(90deg, transparent 18.7%, #d65f5f 18.7%, #d65f5f 50.0%, transparent 50.0%);\n",
       "}\n",
       "</style>\n",
       "<table id=\"T_6b248\">\n",
       "  <thead>\n",
       "    <tr>\n",
       "      <th class=\"blank level0\" >&nbsp;</th>\n",
       "      <th id=\"T_6b248_level0_col0\" class=\"col_heading level0 col0\" >mean</th>\n",
       "      <th id=\"T_6b248_level0_col1\" class=\"col_heading level0 col1\" >std</th>\n",
       "      <th id=\"T_6b248_level0_col2\" class=\"col_heading level0 col2\" >sharpe</th>\n",
       "      <th id=\"T_6b248_level0_col3\" class=\"col_heading level0 col3\" >max_drawdown</th>\n",
       "      <th id=\"T_6b248_level0_col4\" class=\"col_heading level0 col4\" >apy</th>\n",
       "    </tr>\n",
       "  </thead>\n",
       "  <tbody>\n",
       "    <tr>\n",
       "      <th id=\"T_6b248_level0_row0\" class=\"row_heading level0 row0\" >erabin1_binsz50_nomi</th>\n",
       "      <td id=\"T_6b248_row0_col0\" class=\"data row0 col0\" >-0.07%</td>\n",
       "      <td id=\"T_6b248_row0_col1\" class=\"data row0 col1\" >1.92%</td>\n",
       "      <td id=\"T_6b248_row0_col2\" class=\"data row0 col2\" >-3.80%</td>\n",
       "      <td id=\"T_6b248_row0_col3\" class=\"data row0 col3\" >-45.41%</td>\n",
       "      <td id=\"T_6b248_row0_col4\" class=\"data row0 col4\" >-438.49%</td>\n",
       "    </tr>\n",
       "    <tr>\n",
       "      <th id=\"T_6b248_level0_row1\" class=\"row_heading level0 row1\" >erabin2_binsz50_nomi</th>\n",
       "      <td id=\"T_6b248_row1_col0\" class=\"data row1 col0\" >0.35%</td>\n",
       "      <td id=\"T_6b248_row1_col1\" class=\"data row1 col1\" >1.72%</td>\n",
       "      <td id=\"T_6b248_row1_col2\" class=\"data row1 col2\" >20.39%</td>\n",
       "      <td id=\"T_6b248_row1_col3\" class=\"data row1 col3\" >-24.48%</td>\n",
       "      <td id=\"T_6b248_row1_col4\" class=\"data row1 col4\" >1781.78%</td>\n",
       "    </tr>\n",
       "    <tr>\n",
       "      <th id=\"T_6b248_level0_row2\" class=\"row_heading level0 row2\" >erabin3_binsz50_nomi</th>\n",
       "      <td id=\"T_6b248_row2_col0\" class=\"data row2 col0\" >0.25%</td>\n",
       "      <td id=\"T_6b248_row2_col1\" class=\"data row2 col1\" >1.49%</td>\n",
       "      <td id=\"T_6b248_row2_col2\" class=\"data row2 col2\" >17.09%</td>\n",
       "      <td id=\"T_6b248_row2_col3\" class=\"data row2 col3\" >-20.46%</td>\n",
       "      <td id=\"T_6b248_row2_col4\" class=\"data row2 col4\" >1267.32%</td>\n",
       "    </tr>\n",
       "    <tr>\n",
       "      <th id=\"T_6b248_level0_row3\" class=\"row_heading level0 row3\" >erabin4_binsz50_nomi</th>\n",
       "      <td id=\"T_6b248_row3_col0\" class=\"data row3 col0\" >0.23%</td>\n",
       "      <td id=\"T_6b248_row3_col1\" class=\"data row3 col1\" >1.57%</td>\n",
       "      <td id=\"T_6b248_row3_col2\" class=\"data row3 col2\" >14.49%</td>\n",
       "      <td id=\"T_6b248_row3_col3\" class=\"data row3 col3\" >-16.70%</td>\n",
       "      <td id=\"T_6b248_row3_col4\" class=\"data row3 col4\" >1112.70%</td>\n",
       "    </tr>\n",
       "    <tr>\n",
       "      <th id=\"T_6b248_level0_row4\" class=\"row_heading level0 row4\" >erabin5_binsz50_nomi</th>\n",
       "      <td id=\"T_6b248_row4_col0\" class=\"data row4 col0\" >1.00%</td>\n",
       "      <td id=\"T_6b248_row4_col1\" class=\"data row4 col1\" >1.63%</td>\n",
       "      <td id=\"T_6b248_row4_col2\" class=\"data row4 col2\" >61.29%</td>\n",
       "      <td id=\"T_6b248_row4_col3\" class=\"data row4 col3\" >-13.96%</td>\n",
       "      <td id=\"T_6b248_row4_col4\" class=\"data row4 col4\" >6174.78%</td>\n",
       "    </tr>\n",
       "    <tr>\n",
       "      <th id=\"T_6b248_level0_row5\" class=\"row_heading level0 row5\" >erabin6_binsz50_nomi</th>\n",
       "      <td id=\"T_6b248_row5_col0\" class=\"data row5 col0\" >0.36%</td>\n",
       "      <td id=\"T_6b248_row5_col1\" class=\"data row5 col1\" >1.76%</td>\n",
       "      <td id=\"T_6b248_row5_col2\" class=\"data row5 col2\" >20.29%</td>\n",
       "      <td id=\"T_6b248_row5_col3\" class=\"data row5 col3\" >-23.24%</td>\n",
       "      <td id=\"T_6b248_row5_col4\" class=\"data row5 col4\" >1816.96%</td>\n",
       "    </tr>\n",
       "    <tr>\n",
       "      <th id=\"T_6b248_level0_row6\" class=\"row_heading level0 row6\" >erabin7_binsz50_nomi</th>\n",
       "      <td id=\"T_6b248_row6_col0\" class=\"data row6 col0\" >0.87%</td>\n",
       "      <td id=\"T_6b248_row6_col1\" class=\"data row6 col1\" >1.93%</td>\n",
       "      <td id=\"T_6b248_row6_col2\" class=\"data row6 col2\" >44.94%</td>\n",
       "      <td id=\"T_6b248_row6_col3\" class=\"data row6 col3\" >-22.61%</td>\n",
       "      <td id=\"T_6b248_row6_col4\" class=\"data row6 col4\" >5130.24%</td>\n",
       "    </tr>\n",
       "    <tr>\n",
       "      <th id=\"T_6b248_level0_row7\" class=\"row_heading level0 row7\" >erabin8_binsz50_nomi</th>\n",
       "      <td id=\"T_6b248_row7_col0\" class=\"data row7 col0\" >0.57%</td>\n",
       "      <td id=\"T_6b248_row7_col1\" class=\"data row7 col1\" >1.71%</td>\n",
       "      <td id=\"T_6b248_row7_col2\" class=\"data row7 col2\" >33.05%</td>\n",
       "      <td id=\"T_6b248_row7_col3\" class=\"data row7 col3\" >-13.12%</td>\n",
       "      <td id=\"T_6b248_row7_col4\" class=\"data row7 col4\" >3095.84%</td>\n",
       "    </tr>\n",
       "    <tr>\n",
       "      <th id=\"T_6b248_level0_row8\" class=\"row_heading level0 row8\" >erabin9_binsz50_nomi</th>\n",
       "      <td id=\"T_6b248_row8_col0\" class=\"data row8 col0\" >0.41%</td>\n",
       "      <td id=\"T_6b248_row8_col1\" class=\"data row8 col1\" >1.86%</td>\n",
       "      <td id=\"T_6b248_row8_col2\" class=\"data row8 col2\" >22.20%</td>\n",
       "      <td id=\"T_6b248_row8_col3\" class=\"data row8 col3\" >-20.53%</td>\n",
       "      <td id=\"T_6b248_row8_col4\" class=\"data row8 col4\" >2139.88%</td>\n",
       "    </tr>\n",
       "    <tr>\n",
       "      <th id=\"T_6b248_level0_row9\" class=\"row_heading level0 row9\" >erabin10_binsz50_nomi</th>\n",
       "      <td id=\"T_6b248_row9_col0\" class=\"data row9 col0\" >0.27%</td>\n",
       "      <td id=\"T_6b248_row9_col1\" class=\"data row9 col1\" >1.60%</td>\n",
       "      <td id=\"T_6b248_row9_col2\" class=\"data row9 col2\" >16.81%</td>\n",
       "      <td id=\"T_6b248_row9_col3\" class=\"data row9 col3\" >-23.22%</td>\n",
       "      <td id=\"T_6b248_row9_col4\" class=\"data row9 col4\" >1334.94%</td>\n",
       "    </tr>\n",
       "    <tr>\n",
       "      <th id=\"T_6b248_level0_row10\" class=\"row_heading level0 row10\" >erabin11_binsz50_nomi</th>\n",
       "      <td id=\"T_6b248_row10_col0\" class=\"data row10 col0\" >0.43%</td>\n",
       "      <td id=\"T_6b248_row10_col1\" class=\"data row10 col1\" >2.05%</td>\n",
       "      <td id=\"T_6b248_row10_col2\" class=\"data row10 col2\" >21.16%</td>\n",
       "      <td id=\"T_6b248_row10_col3\" class=\"data row10 col3\" >-28.38%</td>\n",
       "      <td id=\"T_6b248_row10_col4\" class=\"data row10 col4\" >2232.83%</td>\n",
       "    </tr>\n",
       "  </tbody>\n",
       "</table>\n"
      ],
      "text/plain": [
       "<pandas.io.formats.style.Styler at 0x17ff7ac50>"
      ]
     },
     "execution_count": 242,
     "metadata": {},
     "output_type": "execute_result"
    },
    {
     "name": "stdout",
     "output_type": "stream",
     "text": [
      "\r"
     ]
    }
   ],
   "source": [
    "eb_metrics_df = to_metrics_df(bin_model_data_map)\n",
    "eb_metrics_df.index = eb_metrics_df.index.to_series().apply(lambda r: r[34:]+\"_nomi\")\n",
    "eb_metrics_styled = ut.fmt_metrics_df(eb_metrics_df)\n",
    "eb_metrics_styled"
   ]
  },
  {
   "cell_type": "code",
   "execution_count": 117,
   "id": "05b6de95",
   "metadata": {},
   "outputs": [
    {
     "name": "stdout",
     "output_type": "stream",
     "text": [
      "[2023-04-20 15:13:04]  Making ./data/experiments/era_analysis__2023-04-20_14h-20m/artifacts/comparison\n",
      "\r"
     ]
    }
   ],
   "source": [
    "comparison_dir = os.path.join(ARTIFACTS_DIR, \"comparison\")\n",
    "os.makedirs(comparison_dir, exist_ok=True)\n",
    "log.info(f\"Making {comparison_dir}\")"
   ]
  },
  {
   "cell_type": "code",
   "execution_count": 118,
   "id": "323e2949",
   "metadata": {},
   "outputs": [
    {
     "name": "stdout",
     "output_type": "stream",
     "text": [
      "[2023-04-20 15:13:06]  Saving ./data/experiments/era_analysis__2023-04-20_14h-20m/artifacts/comparison/erabin_metrics_tbl.html\n",
      "\r"
     ]
    }
   ],
   "source": [
    "eb_metrics_tbl_fl = os.path.join(comparison_dir, \"erabin_metrics_tbl.html\")\n",
    "eb_metrics_styled.to_html(eb_metrics_tbl_fl)\n",
    "log.info(f\"Saving {eb_metrics_tbl_fl}\")"
   ]
  },
  {
   "cell_type": "code",
   "execution_count": null,
   "id": "5e799792",
   "metadata": {},
   "outputs": [],
   "source": [
    "def iplot_ebmetrics(erabin_metrics_df, annotate_bin=True):\n",
    "    # Create a line chart with two y-axes on either side\n",
    "    subset = erabin_metrics_df[[\"sharpe\", \"mean\"]]\n",
    "    fig_metric = subset.iplot(kind='line', title='Metrics', secondary_y=['mean'], asFigure=True)\n",
    "    for _bin, (ix, sharpe, mean) in enumerate(zip(subset.index, subset.sharpe, subset[\"mean\"]), start=1):\n",
    "        bin_pfx = f\"bin={_bin}, \" if annotate_bin else \"\"\n",
    "        fig_metric.add_annotation(\n",
    "            x=ix,\n",
    "            y=sharpe,\n",
    "            text=f\"{bin_pfx}sharpe={round(sharpe,3)}\",\n",
    "            showarrow=True,\n",
    "            arrowhead=0\n",
    "        )\n",
    "    # Display the chart\n",
    "    pyo.iplot(fig_metric)\n",
    "    return fig_metric\n",
    "    \n",
    "fig_eb_mdl_metric = iplot_ebmetrics(eb_metrics_df)"
   ]
  },
  {
   "cell_type": "code",
   "execution_count": 259,
   "id": "ec43a560",
   "metadata": {},
   "outputs": [
    {
     "name": "stdout",
     "output_type": "stream",
     "text": [
      "[2023-04-20 16:29:18]  Saving ./data/experiments/era_analysis__2023-04-20_14h-20m/artifacts/comparison/erabin_metrics_plot.html\n",
      "\r"
     ]
    }
   ],
   "source": [
    "eb_metrics_iplot_fl = os.path.join(comparison_dir, \"erabin_metrics_plot.html\")\n",
    "fig_eb_mdl_metric.write_html(eb_metrics_iplot_fl)\n",
    "log.info(f\"Saving {eb_metrics_iplot_fl}\")"
   ]
  },
  {
   "cell_type": "markdown",
   "id": "8f3e4751",
   "metadata": {},
   "source": [
    "### 2.3 Filter out various proportions of era bins with bad sharpe and see if that improves performance"
   ]
  },
  {
   "cell_type": "code",
   "execution_count": 299,
   "id": "34a10830",
   "metadata": {},
   "outputs": [
    {
     "name": "stdout",
     "output_type": "stream",
     "text": [
      "\r"
     ]
    }
   ],
   "source": [
    "def get_erabin_from_name(name):\n",
    "    # convert names like `erabin1_binsz50_nomi` -> 1 `erabin12_binsz50_nomi` -> 12\n",
    "    return int(name.split(\"erabin\")[1].split(\"_\")[0])\n",
    "\n",
    "eb_metrics_df[\"era_bin\"] = eb_metrics_df.index.to_series().apply(get_erabin_from_name)"
   ]
  },
  {
   "cell_type": "code",
   "execution_count": 300,
   "id": "144f3dba",
   "metadata": {},
   "outputs": [
    {
     "data": {
      "text/plain": [
       "[5, 7, 8, 9, 11, 2, 6, 3, 10, 4, 1]"
      ]
     },
     "execution_count": 300,
     "metadata": {},
     "output_type": "execute_result"
    },
    {
     "name": "stdout",
     "output_type": "stream",
     "text": [
      "\r"
     ]
    }
   ],
   "source": [
    "# sort the era bins in descending order of sharpe so that we use various proportions\n",
    "# of them in training\n",
    "sorted_erabins = eb_metrics_df.sort_values(by=\"sharpe\", ascending=False).era_bin.to_list()\n",
    "sorted_erabins"
   ]
  },
  {
   "cell_type": "code",
   "execution_count": 301,
   "id": "d209ced3",
   "metadata": {},
   "outputs": [
    {
     "name": "stdout",
     "output_type": "stream",
     "text": [
      "[2023-04-20 16:57:03]  These era bin sets will be used for training and compared against test2 \n",
      "{0.8: [5, 7, 8, 9, 11, 2, 6, 3, 10],\n",
      " 0.9: [5, 7, 8, 9, 11, 2, 6, 3, 10, 4],\n",
      " 0.95: [5, 7, 8, 9, 11, 2, 6, 3, 10, 4],\n",
      " 1.0: [5, 7, 8, 9, 11, 2, 6, 3, 10, 4, 1]}\n",
      "\r"
     ]
    }
   ],
   "source": [
    "erabin_set_map = {\n",
    "    ebp: sorted_erabins[:round(len(sorted_erabins)*ebp)]\n",
    "    for ebp in ERA_BIN_PROPORTIONS    \n",
    "}\n",
    "log.info(f\"These era bin sets will be used for training and compared against test2 \\n{pformat(erabin_set_map)}\")"
   ]
  },
  {
   "cell_type": "code",
   "execution_count": 302,
   "id": "55660838",
   "metadata": {},
   "outputs": [
    {
     "name": "stdout",
     "output_type": "stream",
     "text": [
      "\r"
     ]
    }
   ],
   "source": [
    "def build_model_for_erabinset(\n",
    "    train_df,\n",
    "    test_df: pd.DataFrame,\n",
    "    era_bin_col: str,\n",
    "    erabin_set_map: dict[float, list[int]],\n",
    "    features: list[str],\n",
    "    train_ident: str,\n",
    "    target: str,\n",
    "    model_rootdir: str,\n",
    "    params: dict,\n",
    "    expt_id: str,\n",
    "):\n",
    "    \"\"\"Builds a model for each era bin set.\n",
    "    \n",
    "    :param erabin_sets: list of erabin to use.\n",
    "    \"\"\"\n",
    "    binset_model_data_map = {}\n",
    "    for binset_prop, erabin_set  in tqdm(erabin_set_map.items(), desc=\"Training model for each erabin_set\"):\n",
    "        # Get the train and test data for this era bin.\n",
    "        eb_set_srted = erabin_set\n",
    "        erabin_set = set(erabin_set)\n",
    "        era_binset_train_df = train_df[train_df[era_bin_col].isin(erabin_set)]\n",
    "        log.info(\n",
    "            f\"Building model for erabin set of prop {binset_prop} with eras {eb_set_srted}\\n\"\n",
    "            f\"Size of train set {len(era_binset_train_df):,}\"\n",
    "        )\n",
    "        binset_model_data_map[binset_prop] = ut.build_model_for_target(\n",
    "            train_df=era_binset_train_df,\n",
    "            test_df=test_df,\n",
    "            features=features,\n",
    "            train_ident=train_ident,\n",
    "            target=target,\n",
    "            model_rootdir=model_rootdir,\n",
    "            params=params,\n",
    "            expt_id=expt_id,\n",
    "            suffix=f\"_erabinsetprop{binset_prop}_binsz{ERA_BIN_SZ}\",\n",
    "        )\n",
    "    return binset_model_data_map"
   ]
  },
  {
   "cell_type": "code",
   "execution_count": 303,
   "id": "40745149",
   "metadata": {},
   "outputs": [
    {
     "name": "stdout",
     "output_type": "stream",
     "text": [
      "\r"
     ]
    }
   ],
   "source": [
    "ebset_mdl_expt_id = mlflow.create_experiment(parameters[\"expt_name\"]+\"_erabinset_models\")"
   ]
  },
  {
   "cell_type": "code",
   "execution_count": 304,
   "id": "d945d541",
   "metadata": {
    "scrolled": false
   },
   "outputs": [
    {
     "data": {
      "application/vnd.jupyter.widget-view+json": {
       "model_id": "fc2429b100574f6e83ed5fd277ca8ba0",
       "version_major": 2,
       "version_minor": 0
      },
      "text/plain": [
       "Training model for each erabin_set:   0%|          | 0/4 [00:00<?, ?it/s]"
      ]
     },
     "metadata": {},
     "output_type": "display_data"
    },
    {
     "name": "stdout",
     "output_type": "stream",
     "text": [
      "[2023-04-20 16:57:09]  Building model for erabin set of prop 0.8 with eras [5, 7, 8, 9, 11, 2, 6, 3, 10]\n",
      "Size of train set 20,457\n",
      "[2023-04-20 16:57:09]  Checking for existing model 'train_int8_target_nomi_v4_20_erabinsetprop0.8_binsz50_57306f'\n",
      "[2023-04-20 16:57:09]  Creating new model...\n",
      "[2023-04-20 16:57:16]  saving new model: train_int8_target_nomi_v4_20_erabinsetprop0.8_binsz50_57306f\n",
      "[2023-04-20 16:57:16]  Training time: 0.12 minutes\n"
     ]
    },
    {
     "name": "stderr",
     "output_type": "stream",
     "text": [
      "Successfully registered model 'train_int8_target_nomi_v4_20_erabinsetprop0.8_binsz50_57306f'.\n",
      "2023/04/20 16:57:30 INFO mlflow.tracking._model_registry.client: Waiting up to 300 seconds for model version to finish creation.                     Model name: train_int8_target_nomi_v4_20_erabinsetprop0.8_binsz50_57306f, version 1\n",
      "Created version '1' of model 'train_int8_target_nomi_v4_20_erabinsetprop0.8_binsz50_57306f'.\n"
     ]
    },
    {
     "name": "stdout",
     "output_type": "stream",
     "text": [
      "[2023-04-20 16:57:30]  Logged model=train_int8_target_nomi_v4_20_erabinsetprop0.8_binsz50_57306f, version=1\n",
      "[2023-04-20 16:57:30]  Building model for erabin set of prop 0.9 with eras [5, 7, 8, 9, 11, 2, 6, 3, 10, 4]\n",
      "Size of train set 22,694\n",
      "[2023-04-20 16:57:30]  Checking for existing model 'train_int8_target_nomi_v4_20_erabinsetprop0.9_binsz50_57306f'\n",
      "[2023-04-20 16:57:30]  Creating new model...\n",
      "[2023-04-20 16:57:37]  saving new model: train_int8_target_nomi_v4_20_erabinsetprop0.9_binsz50_57306f\n",
      "[2023-04-20 16:57:37]  Training time: 0.11 minutes\n"
     ]
    },
    {
     "name": "stderr",
     "output_type": "stream",
     "text": [
      "Successfully registered model 'train_int8_target_nomi_v4_20_erabinsetprop0.9_binsz50_57306f'.\n",
      "2023/04/20 16:57:50 INFO mlflow.tracking._model_registry.client: Waiting up to 300 seconds for model version to finish creation.                     Model name: train_int8_target_nomi_v4_20_erabinsetprop0.9_binsz50_57306f, version 1\n",
      "Created version '1' of model 'train_int8_target_nomi_v4_20_erabinsetprop0.9_binsz50_57306f'.\n"
     ]
    },
    {
     "name": "stdout",
     "output_type": "stream",
     "text": [
      "[2023-04-20 16:57:50]  Logged model=train_int8_target_nomi_v4_20_erabinsetprop0.9_binsz50_57306f, version=1\n",
      "[2023-04-20 16:57:50]  Building model for erabin set of prop 0.95 with eras [5, 7, 8, 9, 11, 2, 6, 3, 10, 4]\n",
      "Size of train set 22,694\n",
      "[2023-04-20 16:57:50]  Checking for existing model 'train_int8_target_nomi_v4_20_erabinsetprop0.95_binsz50_57306f'\n",
      "[2023-04-20 16:57:50]  Creating new model...\n",
      "[2023-04-20 16:57:56]  saving new model: train_int8_target_nomi_v4_20_erabinsetprop0.95_binsz50_57306f\n",
      "[2023-04-20 16:57:56]  Training time: 0.10 minutes\n"
     ]
    },
    {
     "name": "stderr",
     "output_type": "stream",
     "text": [
      "Successfully registered model 'train_int8_target_nomi_v4_20_erabinsetprop0.95_binsz50_57306f'.\n",
      "2023/04/20 16:58:09 INFO mlflow.tracking._model_registry.client: Waiting up to 300 seconds for model version to finish creation.                     Model name: train_int8_target_nomi_v4_20_erabinsetprop0.95_binsz50_57306f, version 1\n",
      "Created version '1' of model 'train_int8_target_nomi_v4_20_erabinsetprop0.95_binsz50_57306f'.\n"
     ]
    },
    {
     "name": "stdout",
     "output_type": "stream",
     "text": [
      "[2023-04-20 16:58:09]  Logged model=train_int8_target_nomi_v4_20_erabinsetprop0.95_binsz50_57306f, version=1\n",
      "[2023-04-20 16:58:09]  Building model for erabin set of prop 1.0 with eras [5, 7, 8, 9, 11, 2, 6, 3, 10, 4, 1]\n",
      "Size of train set 24,198\n",
      "[2023-04-20 16:58:09]  Checking for existing model 'train_int8_target_nomi_v4_20_erabinsetprop1.0_binsz50_57306f'\n",
      "[2023-04-20 16:58:09]  Creating new model...\n",
      "[2023-04-20 16:58:15]  saving new model: train_int8_target_nomi_v4_20_erabinsetprop1.0_binsz50_57306f\n",
      "[2023-04-20 16:58:15]  Training time: 0.10 minutes\n"
     ]
    },
    {
     "name": "stderr",
     "output_type": "stream",
     "text": [
      "Successfully registered model 'train_int8_target_nomi_v4_20_erabinsetprop1.0_binsz50_57306f'.\n",
      "2023/04/20 16:58:28 INFO mlflow.tracking._model_registry.client: Waiting up to 300 seconds for model version to finish creation.                     Model name: train_int8_target_nomi_v4_20_erabinsetprop1.0_binsz50_57306f, version 1\n",
      "Created version '1' of model 'train_int8_target_nomi_v4_20_erabinsetprop1.0_binsz50_57306f'.\n"
     ]
    },
    {
     "name": "stdout",
     "output_type": "stream",
     "text": [
      "[2023-04-20 16:58:28]  Logged model=train_int8_target_nomi_v4_20_erabinsetprop1.0_binsz50_57306f, version=1\n",
      "\r"
     ]
    }
   ],
   "source": [
    "binset_model_data_map = build_model_for_erabinset(\n",
    "    train_df=train_mdl_df,\n",
    "    test_df=test1_df,\n",
    "    era_bin_col=ERA_BIN_COL,\n",
    "    erabin_set_map=erabin_set_map,\n",
    "    features=features,\n",
    "    train_ident=\"train_int8\",\n",
    "    target=TARGET_COL,\n",
    "    model_rootdir=MODEL_DIR,\n",
    "    params=parameters,\n",
    "    expt_id=ebset_mdl_expt_id,\n",
    ")"
   ]
  },
  {
   "cell_type": "code",
   "execution_count": 305,
   "id": "742dad1d",
   "metadata": {},
   "outputs": [
    {
     "data": {
      "text/html": [
       "<style type=\"text/css\">\n",
       "#T_56294_row0_col0, #T_56294_row1_col2, #T_56294_row2_col2 {\n",
       "  width: 10em;\n",
       "  background: linear-gradient(90deg, transparent 50.0%, #5fba7d 50.0%, #5fba7d 99.6%, transparent 99.6%);\n",
       "}\n",
       "#T_56294_row0_col1 {\n",
       "  width: 10em;\n",
       "  background: linear-gradient(90deg, transparent 50.0%, #5fba7d 50.0%, #5fba7d 97.6%, transparent 97.6%);\n",
       "}\n",
       "#T_56294_row0_col2, #T_56294_row1_col0, #T_56294_row1_col4, #T_56294_row2_col0, #T_56294_row2_col4, #T_56294_row3_col1 {\n",
       "  width: 10em;\n",
       "  background: linear-gradient(90deg, transparent 50.0%, #5fba7d 50.0%, #5fba7d 100.0%, transparent 100.0%);\n",
       "}\n",
       "#T_56294_row0_col3 {\n",
       "  width: 10em;\n",
       "  background: linear-gradient(90deg, transparent 1.3%, #d65f5f 1.3%, #d65f5f 50.0%, transparent 50.0%);\n",
       "}\n",
       "#T_56294_row0_col4 {\n",
       "  width: 10em;\n",
       "  background: linear-gradient(90deg, transparent 50.0%, #5fba7d 50.0%, #5fba7d 99.5%, transparent 99.5%);\n",
       "}\n",
       "#T_56294_row1_col1, #T_56294_row2_col1 {\n",
       "  width: 10em;\n",
       "  background: linear-gradient(90deg, transparent 50.0%, #5fba7d 50.0%, #5fba7d 98.3%, transparent 98.3%);\n",
       "}\n",
       "#T_56294_row1_col3, #T_56294_row2_col3 {\n",
       "  width: 10em;\n",
       "  background: linear-gradient(90deg, transparent 3.4%, #d65f5f 3.4%, #d65f5f 50.0%, transparent 50.0%);\n",
       "}\n",
       "#T_56294_row3_col0 {\n",
       "  width: 10em;\n",
       "  background: linear-gradient(90deg, transparent 50.0%, #5fba7d 50.0%, #5fba7d 96.6%, transparent 96.6%);\n",
       "}\n",
       "#T_56294_row3_col2 {\n",
       "  width: 10em;\n",
       "  background: linear-gradient(90deg, transparent 50.0%, #5fba7d 50.0%, #5fba7d 94.7%, transparent 94.7%);\n",
       "}\n",
       "#T_56294_row3_col3 {\n",
       "  width: 10em;\n",
       "  background: linear-gradient(90deg, #d65f5f 50.0%, transparent 50.0%);\n",
       "}\n",
       "#T_56294_row3_col4 {\n",
       "  width: 10em;\n",
       "  background: linear-gradient(90deg, transparent 50.0%, #5fba7d 50.0%, #5fba7d 95.4%, transparent 95.4%);\n",
       "}\n",
       "</style>\n",
       "<table id=\"T_56294\">\n",
       "  <thead>\n",
       "    <tr>\n",
       "      <th class=\"blank level0\" >&nbsp;</th>\n",
       "      <th id=\"T_56294_level0_col0\" class=\"col_heading level0 col0\" >mean</th>\n",
       "      <th id=\"T_56294_level0_col1\" class=\"col_heading level0 col1\" >std</th>\n",
       "      <th id=\"T_56294_level0_col2\" class=\"col_heading level0 col2\" >sharpe</th>\n",
       "      <th id=\"T_56294_level0_col3\" class=\"col_heading level0 col3\" >max_drawdown</th>\n",
       "      <th id=\"T_56294_level0_col4\" class=\"col_heading level0 col4\" >apy</th>\n",
       "    </tr>\n",
       "  </thead>\n",
       "  <tbody>\n",
       "    <tr>\n",
       "      <th id=\"T_56294_level0_row0\" class=\"row_heading level0 row0\" >erabinsetprop0.8_binsz50</th>\n",
       "      <td id=\"T_56294_row0_col0\" class=\"data row0 col0\" >1.32%</td>\n",
       "      <td id=\"T_56294_row0_col1\" class=\"data row0 col1\" >2.01%</td>\n",
       "      <td id=\"T_56294_row0_col2\" class=\"data row0 col2\" >65.59%</td>\n",
       "      <td id=\"T_56294_row0_col3\" class=\"data row0 col3\" >-15.38%</td>\n",
       "      <td id=\"T_56294_row0_col4\" class=\"data row0 col4\" >8797.73%</td>\n",
       "    </tr>\n",
       "    <tr>\n",
       "      <th id=\"T_56294_level0_row1\" class=\"row_heading level0 row1\" >erabinsetprop0.9_binsz50</th>\n",
       "      <td id=\"T_56294_row1_col0\" class=\"data row1 col0\" >1.33%</td>\n",
       "      <td id=\"T_56294_row1_col1\" class=\"data row1 col1\" >2.04%</td>\n",
       "      <td id=\"T_56294_row1_col2\" class=\"data row1 col2\" >65.08%</td>\n",
       "      <td id=\"T_56294_row1_col3\" class=\"data row1 col3\" >-14.73%</td>\n",
       "      <td id=\"T_56294_row1_col4\" class=\"data row1 col4\" >8880.18%</td>\n",
       "    </tr>\n",
       "    <tr>\n",
       "      <th id=\"T_56294_level0_row2\" class=\"row_heading level0 row2\" >erabinsetprop0.95_binsz50</th>\n",
       "      <td id=\"T_56294_row2_col0\" class=\"data row2 col0\" >1.33%</td>\n",
       "      <td id=\"T_56294_row2_col1\" class=\"data row2 col1\" >2.04%</td>\n",
       "      <td id=\"T_56294_row2_col2\" class=\"data row2 col2\" >65.08%</td>\n",
       "      <td id=\"T_56294_row2_col3\" class=\"data row2 col3\" >-14.73%</td>\n",
       "      <td id=\"T_56294_row2_col4\" class=\"data row2 col4\" >8880.18%</td>\n",
       "    </tr>\n",
       "    <tr>\n",
       "      <th id=\"T_56294_level0_row3\" class=\"row_heading level0 row3\" >erabinsetprop1.0_binsz50</th>\n",
       "      <td id=\"T_56294_row3_col0\" class=\"data row3 col0\" >1.24%</td>\n",
       "      <td id=\"T_56294_row3_col1\" class=\"data row3 col1\" >2.11%</td>\n",
       "      <td id=\"T_56294_row3_col2\" class=\"data row3 col2\" >58.65%</td>\n",
       "      <td id=\"T_56294_row3_col3\" class=\"data row3 col3\" >-15.81%</td>\n",
       "      <td id=\"T_56294_row3_col4\" class=\"data row3 col4\" >8069.60%</td>\n",
       "    </tr>\n",
       "  </tbody>\n",
       "</table>\n"
      ],
      "text/plain": [
       "<pandas.io.formats.style.Styler at 0x292b18910>"
      ]
     },
     "metadata": {},
     "output_type": "display_data"
    },
    {
     "name": "stdout",
     "output_type": "stream",
     "text": [
      "[2023-04-20 16:58:28]  Saving ./data/experiments/era_analysis__2023-04-20_14h-20m/artifacts/comparison/erabinset_metrics_tbl.html\n",
      "\r"
     ]
    }
   ],
   "source": [
    "ebset_metrics_df = to_metrics_df(binset_model_data_map)\n",
    "ebset_metrics_df.index = ebset_metrics_df.index.to_series().apply(lambda r: r[34:])\n",
    "ebset_metrics_styled = ut.fmt_metrics_df(ebset_metrics_df)\n",
    "display(ebset_metrics_styled)\n",
    "ebset_metrics_tbl_fl = os.path.join(comparison_dir, \"erabinset_metrics_tbl.html\")\n",
    "ebset_metrics_styled.to_html(ebset_metrics_tbl_fl)\n",
    "log.info(f\"Saving {ebset_metrics_tbl_fl}\")"
   ]
  },
  {
   "cell_type": "code",
   "execution_count": 306,
   "id": "7ebd4a58",
   "metadata": {},
   "outputs": [
    {
     "data": {
      "application/vnd.plotly.v1+json": {
       "config": {
        "linkText": "Export to plot.ly",
        "plotlyServerURL": "https://plot.ly",
        "showLink": false
       },
       "data": [
        {
         "line": {
          "color": "rgba(255, 153, 51, 1.0)",
          "dash": "solid",
          "shape": "linear",
          "width": 1.3
         },
         "mode": "lines",
         "name": "sharpe",
         "text": "",
         "type": "scatter",
         "x": [
          "erabinsetprop0.8_binsz50",
          "erabinsetprop0.9_binsz50",
          "erabinsetprop0.95_binsz50",
          "erabinsetprop1.0_binsz50"
         ],
         "y": [
          0.6559374555633048,
          0.6508406343927692,
          0.6508406343927692,
          0.5865493401836843
         ]
        },
        {
         "line": {
          "color": "rgba(55, 128, 191, 1.0)",
          "dash": "solid",
          "shape": "linear",
          "width": 1.3
         },
         "mode": "lines",
         "name": "mean",
         "text": "",
         "type": "scatter",
         "x": [
          "erabinsetprop0.8_binsz50",
          "erabinsetprop0.9_binsz50",
          "erabinsetprop0.95_binsz50",
          "erabinsetprop1.0_binsz50"
         ],
         "xaxis": "x",
         "y": [
          0.013162606287248763,
          0.013259258508931233,
          0.013259258508931233,
          0.012367091301567015
         ],
         "yaxis": "y2"
        }
       ],
       "layout": {
        "annotations": [
         {
          "arrowhead": 0,
          "showarrow": true,
          "text": "sharpe=0.656",
          "x": "erabinsetprop0.8_binsz50",
          "y": 0.6559374555633048
         },
         {
          "arrowhead": 0,
          "showarrow": true,
          "text": "sharpe=0.651",
          "x": "erabinsetprop0.9_binsz50",
          "y": 0.6508406343927692
         },
         {
          "arrowhead": 0,
          "showarrow": true,
          "text": "sharpe=0.651",
          "x": "erabinsetprop0.95_binsz50",
          "y": 0.6508406343927692
         },
         {
          "arrowhead": 0,
          "showarrow": true,
          "text": "sharpe=0.587",
          "x": "erabinsetprop1.0_binsz50",
          "y": 0.5865493401836843
         }
        ],
        "legend": {
         "bgcolor": "#F5F6F9",
         "font": {
          "color": "#4D5663"
         }
        },
        "paper_bgcolor": "#F5F6F9",
        "plot_bgcolor": "#F5F6F9",
        "template": {
         "data": {
          "bar": [
           {
            "error_x": {
             "color": "#2a3f5f"
            },
            "error_y": {
             "color": "#2a3f5f"
            },
            "marker": {
             "line": {
              "color": "#E5ECF6",
              "width": 0.5
             },
             "pattern": {
              "fillmode": "overlay",
              "size": 10,
              "solidity": 0.2
             }
            },
            "type": "bar"
           }
          ],
          "barpolar": [
           {
            "marker": {
             "line": {
              "color": "#E5ECF6",
              "width": 0.5
             },
             "pattern": {
              "fillmode": "overlay",
              "size": 10,
              "solidity": 0.2
             }
            },
            "type": "barpolar"
           }
          ],
          "carpet": [
           {
            "aaxis": {
             "endlinecolor": "#2a3f5f",
             "gridcolor": "white",
             "linecolor": "white",
             "minorgridcolor": "white",
             "startlinecolor": "#2a3f5f"
            },
            "baxis": {
             "endlinecolor": "#2a3f5f",
             "gridcolor": "white",
             "linecolor": "white",
             "minorgridcolor": "white",
             "startlinecolor": "#2a3f5f"
            },
            "type": "carpet"
           }
          ],
          "choropleth": [
           {
            "colorbar": {
             "outlinewidth": 0,
             "ticks": ""
            },
            "type": "choropleth"
           }
          ],
          "contour": [
           {
            "colorbar": {
             "outlinewidth": 0,
             "ticks": ""
            },
            "colorscale": [
             [
              0,
              "#0d0887"
             ],
             [
              0.1111111111111111,
              "#46039f"
             ],
             [
              0.2222222222222222,
              "#7201a8"
             ],
             [
              0.3333333333333333,
              "#9c179e"
             ],
             [
              0.4444444444444444,
              "#bd3786"
             ],
             [
              0.5555555555555556,
              "#d8576b"
             ],
             [
              0.6666666666666666,
              "#ed7953"
             ],
             [
              0.7777777777777778,
              "#fb9f3a"
             ],
             [
              0.8888888888888888,
              "#fdca26"
             ],
             [
              1,
              "#f0f921"
             ]
            ],
            "type": "contour"
           }
          ],
          "contourcarpet": [
           {
            "colorbar": {
             "outlinewidth": 0,
             "ticks": ""
            },
            "type": "contourcarpet"
           }
          ],
          "heatmap": [
           {
            "colorbar": {
             "outlinewidth": 0,
             "ticks": ""
            },
            "colorscale": [
             [
              0,
              "#0d0887"
             ],
             [
              0.1111111111111111,
              "#46039f"
             ],
             [
              0.2222222222222222,
              "#7201a8"
             ],
             [
              0.3333333333333333,
              "#9c179e"
             ],
             [
              0.4444444444444444,
              "#bd3786"
             ],
             [
              0.5555555555555556,
              "#d8576b"
             ],
             [
              0.6666666666666666,
              "#ed7953"
             ],
             [
              0.7777777777777778,
              "#fb9f3a"
             ],
             [
              0.8888888888888888,
              "#fdca26"
             ],
             [
              1,
              "#f0f921"
             ]
            ],
            "type": "heatmap"
           }
          ],
          "heatmapgl": [
           {
            "colorbar": {
             "outlinewidth": 0,
             "ticks": ""
            },
            "colorscale": [
             [
              0,
              "#0d0887"
             ],
             [
              0.1111111111111111,
              "#46039f"
             ],
             [
              0.2222222222222222,
              "#7201a8"
             ],
             [
              0.3333333333333333,
              "#9c179e"
             ],
             [
              0.4444444444444444,
              "#bd3786"
             ],
             [
              0.5555555555555556,
              "#d8576b"
             ],
             [
              0.6666666666666666,
              "#ed7953"
             ],
             [
              0.7777777777777778,
              "#fb9f3a"
             ],
             [
              0.8888888888888888,
              "#fdca26"
             ],
             [
              1,
              "#f0f921"
             ]
            ],
            "type": "heatmapgl"
           }
          ],
          "histogram": [
           {
            "marker": {
             "pattern": {
              "fillmode": "overlay",
              "size": 10,
              "solidity": 0.2
             }
            },
            "type": "histogram"
           }
          ],
          "histogram2d": [
           {
            "colorbar": {
             "outlinewidth": 0,
             "ticks": ""
            },
            "colorscale": [
             [
              0,
              "#0d0887"
             ],
             [
              0.1111111111111111,
              "#46039f"
             ],
             [
              0.2222222222222222,
              "#7201a8"
             ],
             [
              0.3333333333333333,
              "#9c179e"
             ],
             [
              0.4444444444444444,
              "#bd3786"
             ],
             [
              0.5555555555555556,
              "#d8576b"
             ],
             [
              0.6666666666666666,
              "#ed7953"
             ],
             [
              0.7777777777777778,
              "#fb9f3a"
             ],
             [
              0.8888888888888888,
              "#fdca26"
             ],
             [
              1,
              "#f0f921"
             ]
            ],
            "type": "histogram2d"
           }
          ],
          "histogram2dcontour": [
           {
            "colorbar": {
             "outlinewidth": 0,
             "ticks": ""
            },
            "colorscale": [
             [
              0,
              "#0d0887"
             ],
             [
              0.1111111111111111,
              "#46039f"
             ],
             [
              0.2222222222222222,
              "#7201a8"
             ],
             [
              0.3333333333333333,
              "#9c179e"
             ],
             [
              0.4444444444444444,
              "#bd3786"
             ],
             [
              0.5555555555555556,
              "#d8576b"
             ],
             [
              0.6666666666666666,
              "#ed7953"
             ],
             [
              0.7777777777777778,
              "#fb9f3a"
             ],
             [
              0.8888888888888888,
              "#fdca26"
             ],
             [
              1,
              "#f0f921"
             ]
            ],
            "type": "histogram2dcontour"
           }
          ],
          "mesh3d": [
           {
            "colorbar": {
             "outlinewidth": 0,
             "ticks": ""
            },
            "type": "mesh3d"
           }
          ],
          "parcoords": [
           {
            "line": {
             "colorbar": {
              "outlinewidth": 0,
              "ticks": ""
             }
            },
            "type": "parcoords"
           }
          ],
          "pie": [
           {
            "automargin": true,
            "type": "pie"
           }
          ],
          "scatter": [
           {
            "fillpattern": {
             "fillmode": "overlay",
             "size": 10,
             "solidity": 0.2
            },
            "type": "scatter"
           }
          ],
          "scatter3d": [
           {
            "line": {
             "colorbar": {
              "outlinewidth": 0,
              "ticks": ""
             }
            },
            "marker": {
             "colorbar": {
              "outlinewidth": 0,
              "ticks": ""
             }
            },
            "type": "scatter3d"
           }
          ],
          "scattercarpet": [
           {
            "marker": {
             "colorbar": {
              "outlinewidth": 0,
              "ticks": ""
             }
            },
            "type": "scattercarpet"
           }
          ],
          "scattergeo": [
           {
            "marker": {
             "colorbar": {
              "outlinewidth": 0,
              "ticks": ""
             }
            },
            "type": "scattergeo"
           }
          ],
          "scattergl": [
           {
            "marker": {
             "colorbar": {
              "outlinewidth": 0,
              "ticks": ""
             }
            },
            "type": "scattergl"
           }
          ],
          "scattermapbox": [
           {
            "marker": {
             "colorbar": {
              "outlinewidth": 0,
              "ticks": ""
             }
            },
            "type": "scattermapbox"
           }
          ],
          "scatterpolar": [
           {
            "marker": {
             "colorbar": {
              "outlinewidth": 0,
              "ticks": ""
             }
            },
            "type": "scatterpolar"
           }
          ],
          "scatterpolargl": [
           {
            "marker": {
             "colorbar": {
              "outlinewidth": 0,
              "ticks": ""
             }
            },
            "type": "scatterpolargl"
           }
          ],
          "scatterternary": [
           {
            "marker": {
             "colorbar": {
              "outlinewidth": 0,
              "ticks": ""
             }
            },
            "type": "scatterternary"
           }
          ],
          "surface": [
           {
            "colorbar": {
             "outlinewidth": 0,
             "ticks": ""
            },
            "colorscale": [
             [
              0,
              "#0d0887"
             ],
             [
              0.1111111111111111,
              "#46039f"
             ],
             [
              0.2222222222222222,
              "#7201a8"
             ],
             [
              0.3333333333333333,
              "#9c179e"
             ],
             [
              0.4444444444444444,
              "#bd3786"
             ],
             [
              0.5555555555555556,
              "#d8576b"
             ],
             [
              0.6666666666666666,
              "#ed7953"
             ],
             [
              0.7777777777777778,
              "#fb9f3a"
             ],
             [
              0.8888888888888888,
              "#fdca26"
             ],
             [
              1,
              "#f0f921"
             ]
            ],
            "type": "surface"
           }
          ],
          "table": [
           {
            "cells": {
             "fill": {
              "color": "#EBF0F8"
             },
             "line": {
              "color": "white"
             }
            },
            "header": {
             "fill": {
              "color": "#C8D4E3"
             },
             "line": {
              "color": "white"
             }
            },
            "type": "table"
           }
          ]
         },
         "layout": {
          "annotationdefaults": {
           "arrowcolor": "#2a3f5f",
           "arrowhead": 0,
           "arrowwidth": 1
          },
          "autotypenumbers": "strict",
          "coloraxis": {
           "colorbar": {
            "outlinewidth": 0,
            "ticks": ""
           }
          },
          "colorscale": {
           "diverging": [
            [
             0,
             "#8e0152"
            ],
            [
             0.1,
             "#c51b7d"
            ],
            [
             0.2,
             "#de77ae"
            ],
            [
             0.3,
             "#f1b6da"
            ],
            [
             0.4,
             "#fde0ef"
            ],
            [
             0.5,
             "#f7f7f7"
            ],
            [
             0.6,
             "#e6f5d0"
            ],
            [
             0.7,
             "#b8e186"
            ],
            [
             0.8,
             "#7fbc41"
            ],
            [
             0.9,
             "#4d9221"
            ],
            [
             1,
             "#276419"
            ]
           ],
           "sequential": [
            [
             0,
             "#0d0887"
            ],
            [
             0.1111111111111111,
             "#46039f"
            ],
            [
             0.2222222222222222,
             "#7201a8"
            ],
            [
             0.3333333333333333,
             "#9c179e"
            ],
            [
             0.4444444444444444,
             "#bd3786"
            ],
            [
             0.5555555555555556,
             "#d8576b"
            ],
            [
             0.6666666666666666,
             "#ed7953"
            ],
            [
             0.7777777777777778,
             "#fb9f3a"
            ],
            [
             0.8888888888888888,
             "#fdca26"
            ],
            [
             1,
             "#f0f921"
            ]
           ],
           "sequentialminus": [
            [
             0,
             "#0d0887"
            ],
            [
             0.1111111111111111,
             "#46039f"
            ],
            [
             0.2222222222222222,
             "#7201a8"
            ],
            [
             0.3333333333333333,
             "#9c179e"
            ],
            [
             0.4444444444444444,
             "#bd3786"
            ],
            [
             0.5555555555555556,
             "#d8576b"
            ],
            [
             0.6666666666666666,
             "#ed7953"
            ],
            [
             0.7777777777777778,
             "#fb9f3a"
            ],
            [
             0.8888888888888888,
             "#fdca26"
            ],
            [
             1,
             "#f0f921"
            ]
           ]
          },
          "colorway": [
           "#636efa",
           "#EF553B",
           "#00cc96",
           "#ab63fa",
           "#FFA15A",
           "#19d3f3",
           "#FF6692",
           "#B6E880",
           "#FF97FF",
           "#FECB52"
          ],
          "font": {
           "color": "#2a3f5f"
          },
          "geo": {
           "bgcolor": "white",
           "lakecolor": "white",
           "landcolor": "#E5ECF6",
           "showlakes": true,
           "showland": true,
           "subunitcolor": "white"
          },
          "hoverlabel": {
           "align": "left"
          },
          "hovermode": "closest",
          "mapbox": {
           "style": "light"
          },
          "paper_bgcolor": "white",
          "plot_bgcolor": "#E5ECF6",
          "polar": {
           "angularaxis": {
            "gridcolor": "white",
            "linecolor": "white",
            "ticks": ""
           },
           "bgcolor": "#E5ECF6",
           "radialaxis": {
            "gridcolor": "white",
            "linecolor": "white",
            "ticks": ""
           }
          },
          "scene": {
           "xaxis": {
            "backgroundcolor": "#E5ECF6",
            "gridcolor": "white",
            "gridwidth": 2,
            "linecolor": "white",
            "showbackground": true,
            "ticks": "",
            "zerolinecolor": "white"
           },
           "yaxis": {
            "backgroundcolor": "#E5ECF6",
            "gridcolor": "white",
            "gridwidth": 2,
            "linecolor": "white",
            "showbackground": true,
            "ticks": "",
            "zerolinecolor": "white"
           },
           "zaxis": {
            "backgroundcolor": "#E5ECF6",
            "gridcolor": "white",
            "gridwidth": 2,
            "linecolor": "white",
            "showbackground": true,
            "ticks": "",
            "zerolinecolor": "white"
           }
          },
          "shapedefaults": {
           "line": {
            "color": "#2a3f5f"
           }
          },
          "ternary": {
           "aaxis": {
            "gridcolor": "white",
            "linecolor": "white",
            "ticks": ""
           },
           "baxis": {
            "gridcolor": "white",
            "linecolor": "white",
            "ticks": ""
           },
           "bgcolor": "#E5ECF6",
           "caxis": {
            "gridcolor": "white",
            "linecolor": "white",
            "ticks": ""
           }
          },
          "title": {
           "x": 0.05
          },
          "xaxis": {
           "automargin": true,
           "gridcolor": "white",
           "linecolor": "white",
           "ticks": "",
           "title": {
            "standoff": 15
           },
           "zerolinecolor": "white",
           "zerolinewidth": 2
          },
          "yaxis": {
           "automargin": true,
           "gridcolor": "white",
           "linecolor": "white",
           "ticks": "",
           "title": {
            "standoff": 15
           },
           "zerolinecolor": "white",
           "zerolinewidth": 2
          }
         }
        },
        "title": {
         "font": {
          "color": "#4D5663"
         },
         "text": "Metrics"
        },
        "xaxis": {
         "gridcolor": "#E1E5ED",
         "showgrid": true,
         "tickfont": {
          "color": "#4D5663"
         },
         "title": {
          "font": {
           "color": "#4D5663"
          },
          "text": ""
         },
         "zerolinecolor": "#E1E5ED"
        },
        "yaxis": {
         "gridcolor": "#E1E5ED",
         "showgrid": true,
         "tickfont": {
          "color": "#4D5663"
         },
         "title": {
          "font": {
           "color": "#4D5663"
          },
          "text": ""
         },
         "zerolinecolor": "#E1E5ED"
        },
        "yaxis2": {
         "anchor": "x",
         "gridcolor": "#E1E5ED",
         "overlaying": "y",
         "showgrid": true,
         "side": "right",
         "tickfont": {
          "color": "#4D5663"
         },
         "title": {
          "text": ""
         },
         "zerolinecolor": "#E1E5ED"
        }
       }
      },
      "text/html": [
       "<div>                            <div id=\"2a4398c0-f5e4-49c4-9053-e1c850e00970\" class=\"plotly-graph-div\" style=\"height:525px; width:100%;\"></div>            <script type=\"text/javascript\">                require([\"plotly\"], function(Plotly) {                    window.PLOTLYENV=window.PLOTLYENV || {};                                    if (document.getElementById(\"2a4398c0-f5e4-49c4-9053-e1c850e00970\")) {                    Plotly.newPlot(                        \"2a4398c0-f5e4-49c4-9053-e1c850e00970\",                        [{\"line\":{\"color\":\"rgba(255, 153, 51, 1.0)\",\"dash\":\"solid\",\"shape\":\"linear\",\"width\":1.3},\"mode\":\"lines\",\"name\":\"sharpe\",\"text\":\"\",\"x\":[\"erabinsetprop0.8_binsz50\",\"erabinsetprop0.9_binsz50\",\"erabinsetprop0.95_binsz50\",\"erabinsetprop1.0_binsz50\"],\"y\":[0.6559374555633048,0.6508406343927692,0.6508406343927692,0.5865493401836843],\"type\":\"scatter\"},{\"line\":{\"color\":\"rgba(55, 128, 191, 1.0)\",\"dash\":\"solid\",\"shape\":\"linear\",\"width\":1.3},\"mode\":\"lines\",\"name\":\"mean\",\"text\":\"\",\"x\":[\"erabinsetprop0.8_binsz50\",\"erabinsetprop0.9_binsz50\",\"erabinsetprop0.95_binsz50\",\"erabinsetprop1.0_binsz50\"],\"xaxis\":\"x\",\"y\":[0.013162606287248763,0.013259258508931233,0.013259258508931233,0.012367091301567015],\"yaxis\":\"y2\",\"type\":\"scatter\"}],                        {\"annotations\":[{\"arrowhead\":0,\"showarrow\":true,\"text\":\"sharpe=0.656\",\"x\":\"erabinsetprop0.8_binsz50\",\"y\":0.6559374555633048},{\"arrowhead\":0,\"showarrow\":true,\"text\":\"sharpe=0.651\",\"x\":\"erabinsetprop0.9_binsz50\",\"y\":0.6508406343927692},{\"arrowhead\":0,\"showarrow\":true,\"text\":\"sharpe=0.651\",\"x\":\"erabinsetprop0.95_binsz50\",\"y\":0.6508406343927692},{\"arrowhead\":0,\"showarrow\":true,\"text\":\"sharpe=0.587\",\"x\":\"erabinsetprop1.0_binsz50\",\"y\":0.5865493401836843}],\"legend\":{\"bgcolor\":\"#F5F6F9\",\"font\":{\"color\":\"#4D5663\"}},\"paper_bgcolor\":\"#F5F6F9\",\"plot_bgcolor\":\"#F5F6F9\",\"template\":{\"data\":{\"barpolar\":[{\"marker\":{\"line\":{\"color\":\"#E5ECF6\",\"width\":0.5},\"pattern\":{\"fillmode\":\"overlay\",\"size\":10,\"solidity\":0.2}},\"type\":\"barpolar\"}],\"bar\":[{\"error_x\":{\"color\":\"#2a3f5f\"},\"error_y\":{\"color\":\"#2a3f5f\"},\"marker\":{\"line\":{\"color\":\"#E5ECF6\",\"width\":0.5},\"pattern\":{\"fillmode\":\"overlay\",\"size\":10,\"solidity\":0.2}},\"type\":\"bar\"}],\"carpet\":[{\"aaxis\":{\"endlinecolor\":\"#2a3f5f\",\"gridcolor\":\"white\",\"linecolor\":\"white\",\"minorgridcolor\":\"white\",\"startlinecolor\":\"#2a3f5f\"},\"baxis\":{\"endlinecolor\":\"#2a3f5f\",\"gridcolor\":\"white\",\"linecolor\":\"white\",\"minorgridcolor\":\"white\",\"startlinecolor\":\"#2a3f5f\"},\"type\":\"carpet\"}],\"choropleth\":[{\"colorbar\":{\"outlinewidth\":0,\"ticks\":\"\"},\"type\":\"choropleth\"}],\"contourcarpet\":[{\"colorbar\":{\"outlinewidth\":0,\"ticks\":\"\"},\"type\":\"contourcarpet\"}],\"contour\":[{\"colorbar\":{\"outlinewidth\":0,\"ticks\":\"\"},\"colorscale\":[[0.0,\"#0d0887\"],[0.1111111111111111,\"#46039f\"],[0.2222222222222222,\"#7201a8\"],[0.3333333333333333,\"#9c179e\"],[0.4444444444444444,\"#bd3786\"],[0.5555555555555556,\"#d8576b\"],[0.6666666666666666,\"#ed7953\"],[0.7777777777777778,\"#fb9f3a\"],[0.8888888888888888,\"#fdca26\"],[1.0,\"#f0f921\"]],\"type\":\"contour\"}],\"heatmapgl\":[{\"colorbar\":{\"outlinewidth\":0,\"ticks\":\"\"},\"colorscale\":[[0.0,\"#0d0887\"],[0.1111111111111111,\"#46039f\"],[0.2222222222222222,\"#7201a8\"],[0.3333333333333333,\"#9c179e\"],[0.4444444444444444,\"#bd3786\"],[0.5555555555555556,\"#d8576b\"],[0.6666666666666666,\"#ed7953\"],[0.7777777777777778,\"#fb9f3a\"],[0.8888888888888888,\"#fdca26\"],[1.0,\"#f0f921\"]],\"type\":\"heatmapgl\"}],\"heatmap\":[{\"colorbar\":{\"outlinewidth\":0,\"ticks\":\"\"},\"colorscale\":[[0.0,\"#0d0887\"],[0.1111111111111111,\"#46039f\"],[0.2222222222222222,\"#7201a8\"],[0.3333333333333333,\"#9c179e\"],[0.4444444444444444,\"#bd3786\"],[0.5555555555555556,\"#d8576b\"],[0.6666666666666666,\"#ed7953\"],[0.7777777777777778,\"#fb9f3a\"],[0.8888888888888888,\"#fdca26\"],[1.0,\"#f0f921\"]],\"type\":\"heatmap\"}],\"histogram2dcontour\":[{\"colorbar\":{\"outlinewidth\":0,\"ticks\":\"\"},\"colorscale\":[[0.0,\"#0d0887\"],[0.1111111111111111,\"#46039f\"],[0.2222222222222222,\"#7201a8\"],[0.3333333333333333,\"#9c179e\"],[0.4444444444444444,\"#bd3786\"],[0.5555555555555556,\"#d8576b\"],[0.6666666666666666,\"#ed7953\"],[0.7777777777777778,\"#fb9f3a\"],[0.8888888888888888,\"#fdca26\"],[1.0,\"#f0f921\"]],\"type\":\"histogram2dcontour\"}],\"histogram2d\":[{\"colorbar\":{\"outlinewidth\":0,\"ticks\":\"\"},\"colorscale\":[[0.0,\"#0d0887\"],[0.1111111111111111,\"#46039f\"],[0.2222222222222222,\"#7201a8\"],[0.3333333333333333,\"#9c179e\"],[0.4444444444444444,\"#bd3786\"],[0.5555555555555556,\"#d8576b\"],[0.6666666666666666,\"#ed7953\"],[0.7777777777777778,\"#fb9f3a\"],[0.8888888888888888,\"#fdca26\"],[1.0,\"#f0f921\"]],\"type\":\"histogram2d\"}],\"histogram\":[{\"marker\":{\"pattern\":{\"fillmode\":\"overlay\",\"size\":10,\"solidity\":0.2}},\"type\":\"histogram\"}],\"mesh3d\":[{\"colorbar\":{\"outlinewidth\":0,\"ticks\":\"\"},\"type\":\"mesh3d\"}],\"parcoords\":[{\"line\":{\"colorbar\":{\"outlinewidth\":0,\"ticks\":\"\"}},\"type\":\"parcoords\"}],\"pie\":[{\"automargin\":true,\"type\":\"pie\"}],\"scatter3d\":[{\"line\":{\"colorbar\":{\"outlinewidth\":0,\"ticks\":\"\"}},\"marker\":{\"colorbar\":{\"outlinewidth\":0,\"ticks\":\"\"}},\"type\":\"scatter3d\"}],\"scattercarpet\":[{\"marker\":{\"colorbar\":{\"outlinewidth\":0,\"ticks\":\"\"}},\"type\":\"scattercarpet\"}],\"scattergeo\":[{\"marker\":{\"colorbar\":{\"outlinewidth\":0,\"ticks\":\"\"}},\"type\":\"scattergeo\"}],\"scattergl\":[{\"marker\":{\"colorbar\":{\"outlinewidth\":0,\"ticks\":\"\"}},\"type\":\"scattergl\"}],\"scattermapbox\":[{\"marker\":{\"colorbar\":{\"outlinewidth\":0,\"ticks\":\"\"}},\"type\":\"scattermapbox\"}],\"scatterpolargl\":[{\"marker\":{\"colorbar\":{\"outlinewidth\":0,\"ticks\":\"\"}},\"type\":\"scatterpolargl\"}],\"scatterpolar\":[{\"marker\":{\"colorbar\":{\"outlinewidth\":0,\"ticks\":\"\"}},\"type\":\"scatterpolar\"}],\"scatter\":[{\"fillpattern\":{\"fillmode\":\"overlay\",\"size\":10,\"solidity\":0.2},\"type\":\"scatter\"}],\"scatterternary\":[{\"marker\":{\"colorbar\":{\"outlinewidth\":0,\"ticks\":\"\"}},\"type\":\"scatterternary\"}],\"surface\":[{\"colorbar\":{\"outlinewidth\":0,\"ticks\":\"\"},\"colorscale\":[[0.0,\"#0d0887\"],[0.1111111111111111,\"#46039f\"],[0.2222222222222222,\"#7201a8\"],[0.3333333333333333,\"#9c179e\"],[0.4444444444444444,\"#bd3786\"],[0.5555555555555556,\"#d8576b\"],[0.6666666666666666,\"#ed7953\"],[0.7777777777777778,\"#fb9f3a\"],[0.8888888888888888,\"#fdca26\"],[1.0,\"#f0f921\"]],\"type\":\"surface\"}],\"table\":[{\"cells\":{\"fill\":{\"color\":\"#EBF0F8\"},\"line\":{\"color\":\"white\"}},\"header\":{\"fill\":{\"color\":\"#C8D4E3\"},\"line\":{\"color\":\"white\"}},\"type\":\"table\"}]},\"layout\":{\"annotationdefaults\":{\"arrowcolor\":\"#2a3f5f\",\"arrowhead\":0,\"arrowwidth\":1},\"autotypenumbers\":\"strict\",\"coloraxis\":{\"colorbar\":{\"outlinewidth\":0,\"ticks\":\"\"}},\"colorscale\":{\"diverging\":[[0,\"#8e0152\"],[0.1,\"#c51b7d\"],[0.2,\"#de77ae\"],[0.3,\"#f1b6da\"],[0.4,\"#fde0ef\"],[0.5,\"#f7f7f7\"],[0.6,\"#e6f5d0\"],[0.7,\"#b8e186\"],[0.8,\"#7fbc41\"],[0.9,\"#4d9221\"],[1,\"#276419\"]],\"sequential\":[[0.0,\"#0d0887\"],[0.1111111111111111,\"#46039f\"],[0.2222222222222222,\"#7201a8\"],[0.3333333333333333,\"#9c179e\"],[0.4444444444444444,\"#bd3786\"],[0.5555555555555556,\"#d8576b\"],[0.6666666666666666,\"#ed7953\"],[0.7777777777777778,\"#fb9f3a\"],[0.8888888888888888,\"#fdca26\"],[1.0,\"#f0f921\"]],\"sequentialminus\":[[0.0,\"#0d0887\"],[0.1111111111111111,\"#46039f\"],[0.2222222222222222,\"#7201a8\"],[0.3333333333333333,\"#9c179e\"],[0.4444444444444444,\"#bd3786\"],[0.5555555555555556,\"#d8576b\"],[0.6666666666666666,\"#ed7953\"],[0.7777777777777778,\"#fb9f3a\"],[0.8888888888888888,\"#fdca26\"],[1.0,\"#f0f921\"]]},\"colorway\":[\"#636efa\",\"#EF553B\",\"#00cc96\",\"#ab63fa\",\"#FFA15A\",\"#19d3f3\",\"#FF6692\",\"#B6E880\",\"#FF97FF\",\"#FECB52\"],\"font\":{\"color\":\"#2a3f5f\"},\"geo\":{\"bgcolor\":\"white\",\"lakecolor\":\"white\",\"landcolor\":\"#E5ECF6\",\"showlakes\":true,\"showland\":true,\"subunitcolor\":\"white\"},\"hoverlabel\":{\"align\":\"left\"},\"hovermode\":\"closest\",\"mapbox\":{\"style\":\"light\"},\"paper_bgcolor\":\"white\",\"plot_bgcolor\":\"#E5ECF6\",\"polar\":{\"angularaxis\":{\"gridcolor\":\"white\",\"linecolor\":\"white\",\"ticks\":\"\"},\"bgcolor\":\"#E5ECF6\",\"radialaxis\":{\"gridcolor\":\"white\",\"linecolor\":\"white\",\"ticks\":\"\"}},\"scene\":{\"xaxis\":{\"backgroundcolor\":\"#E5ECF6\",\"gridcolor\":\"white\",\"gridwidth\":2,\"linecolor\":\"white\",\"showbackground\":true,\"ticks\":\"\",\"zerolinecolor\":\"white\"},\"yaxis\":{\"backgroundcolor\":\"#E5ECF6\",\"gridcolor\":\"white\",\"gridwidth\":2,\"linecolor\":\"white\",\"showbackground\":true,\"ticks\":\"\",\"zerolinecolor\":\"white\"},\"zaxis\":{\"backgroundcolor\":\"#E5ECF6\",\"gridcolor\":\"white\",\"gridwidth\":2,\"linecolor\":\"white\",\"showbackground\":true,\"ticks\":\"\",\"zerolinecolor\":\"white\"}},\"shapedefaults\":{\"line\":{\"color\":\"#2a3f5f\"}},\"ternary\":{\"aaxis\":{\"gridcolor\":\"white\",\"linecolor\":\"white\",\"ticks\":\"\"},\"baxis\":{\"gridcolor\":\"white\",\"linecolor\":\"white\",\"ticks\":\"\"},\"bgcolor\":\"#E5ECF6\",\"caxis\":{\"gridcolor\":\"white\",\"linecolor\":\"white\",\"ticks\":\"\"}},\"title\":{\"x\":0.05},\"xaxis\":{\"automargin\":true,\"gridcolor\":\"white\",\"linecolor\":\"white\",\"ticks\":\"\",\"title\":{\"standoff\":15},\"zerolinecolor\":\"white\",\"zerolinewidth\":2},\"yaxis\":{\"automargin\":true,\"gridcolor\":\"white\",\"linecolor\":\"white\",\"ticks\":\"\",\"title\":{\"standoff\":15},\"zerolinecolor\":\"white\",\"zerolinewidth\":2}}},\"title\":{\"font\":{\"color\":\"#4D5663\"},\"text\":\"Metrics\"},\"xaxis\":{\"gridcolor\":\"#E1E5ED\",\"showgrid\":true,\"tickfont\":{\"color\":\"#4D5663\"},\"title\":{\"font\":{\"color\":\"#4D5663\"},\"text\":\"\"},\"zerolinecolor\":\"#E1E5ED\"},\"yaxis\":{\"gridcolor\":\"#E1E5ED\",\"showgrid\":true,\"tickfont\":{\"color\":\"#4D5663\"},\"title\":{\"font\":{\"color\":\"#4D5663\"},\"text\":\"\"},\"zerolinecolor\":\"#E1E5ED\"},\"yaxis2\":{\"anchor\":\"x\",\"gridcolor\":\"#E1E5ED\",\"overlaying\":\"y\",\"showgrid\":true,\"side\":\"right\",\"tickfont\":{\"color\":\"#4D5663\"},\"title\":{\"text\":\"\"},\"zerolinecolor\":\"#E1E5ED\"}},                        {\"responsive\": true}                    ).then(function(){\n",
       "                            \n",
       "var gd = document.getElementById('2a4398c0-f5e4-49c4-9053-e1c850e00970');\n",
       "var x = new MutationObserver(function (mutations, observer) {{\n",
       "        var display = window.getComputedStyle(gd).display;\n",
       "        if (!display || display === 'none') {{\n",
       "            console.log([gd, 'removed!']);\n",
       "            Plotly.purge(gd);\n",
       "            observer.disconnect();\n",
       "        }}\n",
       "}});\n",
       "\n",
       "// Listen for the removal of the full notebook cells\n",
       "var notebookContainer = gd.closest('#notebook-container');\n",
       "if (notebookContainer) {{\n",
       "    x.observe(notebookContainer, {childList: true});\n",
       "}}\n",
       "\n",
       "// Listen for the clearing of the current output cell\n",
       "var outputEl = gd.closest('.output');\n",
       "if (outputEl) {{\n",
       "    x.observe(outputEl, {childList: true});\n",
       "}}\n",
       "\n",
       "                        })                };                });            </script>        </div>"
      ]
     },
     "metadata": {},
     "output_type": "display_data"
    },
    {
     "name": "stdout",
     "output_type": "stream",
     "text": [
      "[2023-04-20 16:58:28]  Saving ./data/experiments/era_analysis__2023-04-20_14h-20m/artifacts/comparison/erabinset_metrics_plot.html\n",
      "\r"
     ]
    }
   ],
   "source": [
    "fig_ebset_metric = iplot_ebmetrics(ebset_metrics_df, annotate_bin=False)\n",
    "ebset_metrics_iplot_fl = os.path.join(comparison_dir, \"erabinset_metrics_plot.html\")\n",
    "fig_ebset_metric.write_html(ebset_metrics_iplot_fl)\n",
    "log.info(f\"Saving {ebset_metrics_iplot_fl}\")"
   ]
  },
  {
   "cell_type": "markdown",
   "id": "b6d9111d",
   "metadata": {},
   "source": [
    "### 2.4 Ensure we are not overfitting test1 by replotting metrics on test2 for the same erabinset_models"
   ]
  },
  {
   "cell_type": "code",
   "execution_count": 309,
   "id": "4a786003",
   "metadata": {},
   "outputs": [
    {
     "name": "stdout",
     "output_type": "stream",
     "text": [
      "[2023-04-20 16:58:45]  binset_prop_mdl_map:\n",
      "{0.8: LGBMRegressor(colsample_bytree=0.1, learning_rate=0.01, max_depth=5,\n",
      "              n_estimators=2000, num_leaves=32),\n",
      " 0.9: LGBMRegressor(colsample_bytree=0.1, learning_rate=0.01, max_depth=5,\n",
      "              n_estimators=2000, num_leaves=32),\n",
      " 0.95: LGBMRegressor(colsample_bytree=0.1, learning_rate=0.01, max_depth=5,\n",
      "              n_estimators=2000, num_leaves=32),\n",
      " 1.0: LGBMRegressor(colsample_bytree=0.1, learning_rate=0.01, max_depth=5,\n",
      "              n_estimators=2000, num_leaves=32)}\n",
      "\r"
     ]
    }
   ],
   "source": [
    "binset_prop_mdl_map = pd.DataFrame(binset_model_data_map).transpose().loc[:, \"model\"].to_dict()\n",
    "log.info(f\"binset_prop_mdl_map:\\n{pformat(binset_prop_mdl_map)}\")"
   ]
  },
  {
   "cell_type": "code",
   "execution_count": 310,
   "id": "72235d94",
   "metadata": {},
   "outputs": [
    {
     "data": {
      "application/vnd.jupyter.widget-view+json": {
       "model_id": "063ce7e46a3044d0b0ccbf0f3e6f86f7",
       "version_major": 2,
       "version_minor": 0
      },
      "text/plain": [
       "Predicting for each binset model:   0%|          | 0/4 [00:00<?, ?it/s]"
      ]
     },
     "metadata": {},
     "output_type": "display_data"
    },
    {
     "name": "stdout",
     "output_type": "stream",
     "text": [
      "\r"
     ]
    }
   ],
   "source": [
    "predn_cols = []\n",
    "for prop, binset_mdl in tqdm(binset_prop_mdl_map.items(), desc=\"Predicting for each binset model\"):\n",
    "    # Predict with model\n",
    "    #   add cross validation split to the prediction column name\n",
    "    predn_col = f\"{ut.get_pred_col(TARGET_COL)}_binset{prop}\"\n",
    "    predn_cols.append(predn_col)\n",
    "    test2_df[predn_col] = ut.predict(\n",
    "        pred_df=test2_df[features], model=binset_mdl, parameters=parameters\n",
    "    )"
   ]
  },
  {
   "cell_type": "code",
   "execution_count": 313,
   "id": "d8aa4f71",
   "metadata": {},
   "outputs": [
    {
     "data": {
      "text/html": [
       "<style type=\"text/css\">\n",
       "#T_847c6_row0_col0 {\n",
       "  width: 10em;\n",
       "  background: linear-gradient(90deg, transparent 50.0%, #5fba7d 50.0%, #5fba7d 97.0%, transparent 97.0%);\n",
       "}\n",
       "#T_847c6_row0_col1 {\n",
       "  width: 10em;\n",
       "  background: linear-gradient(90deg, transparent 50.0%, #5fba7d 50.0%, #5fba7d 96.8%, transparent 96.8%);\n",
       "}\n",
       "#T_847c6_row0_col2 {\n",
       "  width: 10em;\n",
       "  background: linear-gradient(90deg, transparent 50.0%, #5fba7d 50.0%, #5fba7d 98.8%, transparent 98.8%);\n",
       "}\n",
       "#T_847c6_row0_col3 {\n",
       "  width: 10em;\n",
       "  background: linear-gradient(90deg, transparent 2.5%, #d65f5f 2.5%, #d65f5f 50.0%, transparent 50.0%);\n",
       "}\n",
       "#T_847c6_row0_col4 {\n",
       "  width: 10em;\n",
       "  background: linear-gradient(90deg, transparent 50.0%, #5fba7d 50.0%, #5fba7d 96.2%, transparent 96.2%);\n",
       "}\n",
       "#T_847c6_row1_col0, #T_847c6_row1_col4, #T_847c6_row2_col0, #T_847c6_row2_col4 {\n",
       "  width: 10em;\n",
       "  background: linear-gradient(90deg, transparent 50.0%, #5fba7d 50.0%, #5fba7d 99.5%, transparent 99.5%);\n",
       "}\n",
       "#T_847c6_row1_col1, #T_847c6_row2_col1 {\n",
       "  width: 10em;\n",
       "  background: linear-gradient(90deg, transparent 50.0%, #5fba7d 50.0%, #5fba7d 98.1%, transparent 98.1%);\n",
       "}\n",
       "#T_847c6_row1_col2, #T_847c6_row2_col2, #T_847c6_row3_col0, #T_847c6_row3_col1, #T_847c6_row3_col4 {\n",
       "  width: 10em;\n",
       "  background: linear-gradient(90deg, transparent 50.0%, #5fba7d 50.0%, #5fba7d 100.0%, transparent 100.0%);\n",
       "}\n",
       "#T_847c6_row1_col3, #T_847c6_row2_col3 {\n",
       "  width: 10em;\n",
       "  background: linear-gradient(90deg, transparent 2.6%, #d65f5f 2.6%, #d65f5f 50.0%, transparent 50.0%);\n",
       "}\n",
       "#T_847c6_row3_col2 {\n",
       "  width: 10em;\n",
       "  background: linear-gradient(90deg, transparent 50.0%, #5fba7d 50.0%, #5fba7d 98.6%, transparent 98.6%);\n",
       "}\n",
       "#T_847c6_row3_col3 {\n",
       "  width: 10em;\n",
       "  background: linear-gradient(90deg, #d65f5f 50.0%, transparent 50.0%);\n",
       "}\n",
       "</style>\n",
       "<table id=\"T_847c6\">\n",
       "  <thead>\n",
       "    <tr>\n",
       "      <th class=\"blank level0\" >&nbsp;</th>\n",
       "      <th id=\"T_847c6_level0_col0\" class=\"col_heading level0 col0\" >mean</th>\n",
       "      <th id=\"T_847c6_level0_col1\" class=\"col_heading level0 col1\" >std</th>\n",
       "      <th id=\"T_847c6_level0_col2\" class=\"col_heading level0 col2\" >sharpe</th>\n",
       "      <th id=\"T_847c6_level0_col3\" class=\"col_heading level0 col3\" >max_drawdown</th>\n",
       "      <th id=\"T_847c6_level0_col4\" class=\"col_heading level0 col4\" >apy</th>\n",
       "    </tr>\n",
       "  </thead>\n",
       "  <tbody>\n",
       "    <tr>\n",
       "      <th id=\"T_847c6_level0_row0\" class=\"row_heading level0 row0\" >pred_trained_on_target_nomi_v4_20_binset0.8</th>\n",
       "      <td id=\"T_847c6_row0_col0\" class=\"data row0 col0\" >1.22%</td>\n",
       "      <td id=\"T_847c6_row0_col1\" class=\"data row0 col1\" >2.43%</td>\n",
       "      <td id=\"T_847c6_row0_col2\" class=\"data row0 col2\" >50.40%</td>\n",
       "      <td id=\"T_847c6_row0_col3\" class=\"data row0 col3\" >-28.32%</td>\n",
       "      <td id=\"T_847c6_row0_col4\" class=\"data row0 col4\" >7775.39%</td>\n",
       "    </tr>\n",
       "    <tr>\n",
       "      <th id=\"T_847c6_level0_row1\" class=\"row_heading level0 row1\" >pred_trained_on_target_nomi_v4_20_binset0.9</th>\n",
       "      <td id=\"T_847c6_row1_col0\" class=\"data row1 col0\" >1.29%</td>\n",
       "      <td id=\"T_847c6_row1_col1\" class=\"data row1 col1\" >2.50%</td>\n",
       "      <td id=\"T_847c6_row1_col2\" class=\"data row1 col2\" >51.67%</td>\n",
       "      <td id=\"T_847c6_row1_col3\" class=\"data row1 col3\" >-28.26%</td>\n",
       "      <td id=\"T_847c6_row1_col4\" class=\"data row1 col4\" >8324.84%</td>\n",
       "    </tr>\n",
       "    <tr>\n",
       "      <th id=\"T_847c6_level0_row2\" class=\"row_heading level0 row2\" >pred_trained_on_target_nomi_v4_20_binset0.95</th>\n",
       "      <td id=\"T_847c6_row2_col0\" class=\"data row2 col0\" >1.29%</td>\n",
       "      <td id=\"T_847c6_row2_col1\" class=\"data row2 col1\" >2.50%</td>\n",
       "      <td id=\"T_847c6_row2_col2\" class=\"data row2 col2\" >51.67%</td>\n",
       "      <td id=\"T_847c6_row2_col3\" class=\"data row2 col3\" >-28.26%</td>\n",
       "      <td id=\"T_847c6_row2_col4\" class=\"data row2 col4\" >8324.84%</td>\n",
       "    </tr>\n",
       "    <tr>\n",
       "      <th id=\"T_847c6_level0_row3\" class=\"row_heading level0 row3\" >pred_trained_on_target_nomi_v4_20_binset1.0</th>\n",
       "      <td id=\"T_847c6_row3_col0\" class=\"data row3 col0\" >1.30%</td>\n",
       "      <td id=\"T_847c6_row3_col1\" class=\"data row3 col1\" >2.60%</td>\n",
       "      <td id=\"T_847c6_row3_col2\" class=\"data row3 col2\" >50.19%</td>\n",
       "      <td id=\"T_847c6_row3_col3\" class=\"data row3 col3\" >-29.83%</td>\n",
       "      <td id=\"T_847c6_row3_col4\" class=\"data row3 col4\" >8410.88%</td>\n",
       "    </tr>\n",
       "  </tbody>\n",
       "</table>\n"
      ],
      "text/plain": [
       "<pandas.io.formats.style.Styler at 0x292bb5ab0>"
      ]
     },
     "metadata": {},
     "output_type": "display_data"
    },
    {
     "name": "stdout",
     "output_type": "stream",
     "text": [
      "[2023-04-20 17:03:57]  Saving ./data/experiments/era_analysis__2023-04-20_14h-20m/artifacts/comparison/erabinset_outofsample_metrics_tbl.html\n",
      "\r"
     ]
    }
   ],
   "source": [
    "validation_stats = nmr_utils.validation_metrics(\n",
    "    validation_data=test2_df,\n",
    "    pred_cols=predn_cols,\n",
    "    example_col=None,\n",
    "    fast_mode=True,\n",
    "    target_col=nmr_utils.TARGET_COL,\n",
    "    include_mmc=False,\n",
    ")\n",
    "oos_styled = ut.fmt_metrics_df(validation_stats)\n",
    "display(oos_styled)\n",
    "tbl_fl = os.path.join(comparison_dir, \"erabinset_outofsample_metrics_tbl.html\")\n",
    "oos_styled.to_html(tbl_fl)\n",
    "log.info(f\"Saving {tbl_fl}\")"
   ]
  },
  {
   "cell_type": "code",
   "execution_count": 315,
   "id": "936ef14e",
   "metadata": {},
   "outputs": [
    {
     "data": {
      "application/vnd.plotly.v1+json": {
       "config": {
        "linkText": "Export to plot.ly",
        "plotlyServerURL": "https://plot.ly",
        "showLink": false
       },
       "data": [
        {
         "line": {
          "color": "rgba(255, 153, 51, 1.0)",
          "dash": "solid",
          "shape": "linear",
          "width": 1.3
         },
         "mode": "lines",
         "name": "sharpe",
         "text": "",
         "type": "scatter",
         "x": [
          "erabinsetprop0.8_binsz50",
          "erabinsetprop0.9_binsz50",
          "erabinsetprop0.95_binsz50",
          "erabinsetprop1.0_binsz50"
         ],
         "y": [
          0.6559374555633048,
          0.6508406343927692,
          0.6508406343927692,
          0.5865493401836843
         ]
        },
        {
         "line": {
          "color": "rgba(55, 128, 191, 1.0)",
          "dash": "solid",
          "shape": "linear",
          "width": 1.3
         },
         "mode": "lines",
         "name": "mean",
         "text": "",
         "type": "scatter",
         "x": [
          "erabinsetprop0.8_binsz50",
          "erabinsetprop0.9_binsz50",
          "erabinsetprop0.95_binsz50",
          "erabinsetprop1.0_binsz50"
         ],
         "xaxis": "x",
         "y": [
          0.013162606287248763,
          0.013259258508931233,
          0.013259258508931233,
          0.012367091301567015
         ],
         "yaxis": "y2"
        }
       ],
       "layout": {
        "annotations": [
         {
          "arrowhead": 0,
          "showarrow": true,
          "text": "sharpe=0.656",
          "x": "erabinsetprop0.8_binsz50",
          "y": 0.6559374555633048
         },
         {
          "arrowhead": 0,
          "showarrow": true,
          "text": "sharpe=0.651",
          "x": "erabinsetprop0.9_binsz50",
          "y": 0.6508406343927692
         },
         {
          "arrowhead": 0,
          "showarrow": true,
          "text": "sharpe=0.651",
          "x": "erabinsetprop0.95_binsz50",
          "y": 0.6508406343927692
         },
         {
          "arrowhead": 0,
          "showarrow": true,
          "text": "sharpe=0.587",
          "x": "erabinsetprop1.0_binsz50",
          "y": 0.5865493401836843
         }
        ],
        "legend": {
         "bgcolor": "#F5F6F9",
         "font": {
          "color": "#4D5663"
         }
        },
        "paper_bgcolor": "#F5F6F9",
        "plot_bgcolor": "#F5F6F9",
        "template": {
         "data": {
          "bar": [
           {
            "error_x": {
             "color": "#2a3f5f"
            },
            "error_y": {
             "color": "#2a3f5f"
            },
            "marker": {
             "line": {
              "color": "#E5ECF6",
              "width": 0.5
             },
             "pattern": {
              "fillmode": "overlay",
              "size": 10,
              "solidity": 0.2
             }
            },
            "type": "bar"
           }
          ],
          "barpolar": [
           {
            "marker": {
             "line": {
              "color": "#E5ECF6",
              "width": 0.5
             },
             "pattern": {
              "fillmode": "overlay",
              "size": 10,
              "solidity": 0.2
             }
            },
            "type": "barpolar"
           }
          ],
          "carpet": [
           {
            "aaxis": {
             "endlinecolor": "#2a3f5f",
             "gridcolor": "white",
             "linecolor": "white",
             "minorgridcolor": "white",
             "startlinecolor": "#2a3f5f"
            },
            "baxis": {
             "endlinecolor": "#2a3f5f",
             "gridcolor": "white",
             "linecolor": "white",
             "minorgridcolor": "white",
             "startlinecolor": "#2a3f5f"
            },
            "type": "carpet"
           }
          ],
          "choropleth": [
           {
            "colorbar": {
             "outlinewidth": 0,
             "ticks": ""
            },
            "type": "choropleth"
           }
          ],
          "contour": [
           {
            "colorbar": {
             "outlinewidth": 0,
             "ticks": ""
            },
            "colorscale": [
             [
              0,
              "#0d0887"
             ],
             [
              0.1111111111111111,
              "#46039f"
             ],
             [
              0.2222222222222222,
              "#7201a8"
             ],
             [
              0.3333333333333333,
              "#9c179e"
             ],
             [
              0.4444444444444444,
              "#bd3786"
             ],
             [
              0.5555555555555556,
              "#d8576b"
             ],
             [
              0.6666666666666666,
              "#ed7953"
             ],
             [
              0.7777777777777778,
              "#fb9f3a"
             ],
             [
              0.8888888888888888,
              "#fdca26"
             ],
             [
              1,
              "#f0f921"
             ]
            ],
            "type": "contour"
           }
          ],
          "contourcarpet": [
           {
            "colorbar": {
             "outlinewidth": 0,
             "ticks": ""
            },
            "type": "contourcarpet"
           }
          ],
          "heatmap": [
           {
            "colorbar": {
             "outlinewidth": 0,
             "ticks": ""
            },
            "colorscale": [
             [
              0,
              "#0d0887"
             ],
             [
              0.1111111111111111,
              "#46039f"
             ],
             [
              0.2222222222222222,
              "#7201a8"
             ],
             [
              0.3333333333333333,
              "#9c179e"
             ],
             [
              0.4444444444444444,
              "#bd3786"
             ],
             [
              0.5555555555555556,
              "#d8576b"
             ],
             [
              0.6666666666666666,
              "#ed7953"
             ],
             [
              0.7777777777777778,
              "#fb9f3a"
             ],
             [
              0.8888888888888888,
              "#fdca26"
             ],
             [
              1,
              "#f0f921"
             ]
            ],
            "type": "heatmap"
           }
          ],
          "heatmapgl": [
           {
            "colorbar": {
             "outlinewidth": 0,
             "ticks": ""
            },
            "colorscale": [
             [
              0,
              "#0d0887"
             ],
             [
              0.1111111111111111,
              "#46039f"
             ],
             [
              0.2222222222222222,
              "#7201a8"
             ],
             [
              0.3333333333333333,
              "#9c179e"
             ],
             [
              0.4444444444444444,
              "#bd3786"
             ],
             [
              0.5555555555555556,
              "#d8576b"
             ],
             [
              0.6666666666666666,
              "#ed7953"
             ],
             [
              0.7777777777777778,
              "#fb9f3a"
             ],
             [
              0.8888888888888888,
              "#fdca26"
             ],
             [
              1,
              "#f0f921"
             ]
            ],
            "type": "heatmapgl"
           }
          ],
          "histogram": [
           {
            "marker": {
             "pattern": {
              "fillmode": "overlay",
              "size": 10,
              "solidity": 0.2
             }
            },
            "type": "histogram"
           }
          ],
          "histogram2d": [
           {
            "colorbar": {
             "outlinewidth": 0,
             "ticks": ""
            },
            "colorscale": [
             [
              0,
              "#0d0887"
             ],
             [
              0.1111111111111111,
              "#46039f"
             ],
             [
              0.2222222222222222,
              "#7201a8"
             ],
             [
              0.3333333333333333,
              "#9c179e"
             ],
             [
              0.4444444444444444,
              "#bd3786"
             ],
             [
              0.5555555555555556,
              "#d8576b"
             ],
             [
              0.6666666666666666,
              "#ed7953"
             ],
             [
              0.7777777777777778,
              "#fb9f3a"
             ],
             [
              0.8888888888888888,
              "#fdca26"
             ],
             [
              1,
              "#f0f921"
             ]
            ],
            "type": "histogram2d"
           }
          ],
          "histogram2dcontour": [
           {
            "colorbar": {
             "outlinewidth": 0,
             "ticks": ""
            },
            "colorscale": [
             [
              0,
              "#0d0887"
             ],
             [
              0.1111111111111111,
              "#46039f"
             ],
             [
              0.2222222222222222,
              "#7201a8"
             ],
             [
              0.3333333333333333,
              "#9c179e"
             ],
             [
              0.4444444444444444,
              "#bd3786"
             ],
             [
              0.5555555555555556,
              "#d8576b"
             ],
             [
              0.6666666666666666,
              "#ed7953"
             ],
             [
              0.7777777777777778,
              "#fb9f3a"
             ],
             [
              0.8888888888888888,
              "#fdca26"
             ],
             [
              1,
              "#f0f921"
             ]
            ],
            "type": "histogram2dcontour"
           }
          ],
          "mesh3d": [
           {
            "colorbar": {
             "outlinewidth": 0,
             "ticks": ""
            },
            "type": "mesh3d"
           }
          ],
          "parcoords": [
           {
            "line": {
             "colorbar": {
              "outlinewidth": 0,
              "ticks": ""
             }
            },
            "type": "parcoords"
           }
          ],
          "pie": [
           {
            "automargin": true,
            "type": "pie"
           }
          ],
          "scatter": [
           {
            "fillpattern": {
             "fillmode": "overlay",
             "size": 10,
             "solidity": 0.2
            },
            "type": "scatter"
           }
          ],
          "scatter3d": [
           {
            "line": {
             "colorbar": {
              "outlinewidth": 0,
              "ticks": ""
             }
            },
            "marker": {
             "colorbar": {
              "outlinewidth": 0,
              "ticks": ""
             }
            },
            "type": "scatter3d"
           }
          ],
          "scattercarpet": [
           {
            "marker": {
             "colorbar": {
              "outlinewidth": 0,
              "ticks": ""
             }
            },
            "type": "scattercarpet"
           }
          ],
          "scattergeo": [
           {
            "marker": {
             "colorbar": {
              "outlinewidth": 0,
              "ticks": ""
             }
            },
            "type": "scattergeo"
           }
          ],
          "scattergl": [
           {
            "marker": {
             "colorbar": {
              "outlinewidth": 0,
              "ticks": ""
             }
            },
            "type": "scattergl"
           }
          ],
          "scattermapbox": [
           {
            "marker": {
             "colorbar": {
              "outlinewidth": 0,
              "ticks": ""
             }
            },
            "type": "scattermapbox"
           }
          ],
          "scatterpolar": [
           {
            "marker": {
             "colorbar": {
              "outlinewidth": 0,
              "ticks": ""
             }
            },
            "type": "scatterpolar"
           }
          ],
          "scatterpolargl": [
           {
            "marker": {
             "colorbar": {
              "outlinewidth": 0,
              "ticks": ""
             }
            },
            "type": "scatterpolargl"
           }
          ],
          "scatterternary": [
           {
            "marker": {
             "colorbar": {
              "outlinewidth": 0,
              "ticks": ""
             }
            },
            "type": "scatterternary"
           }
          ],
          "surface": [
           {
            "colorbar": {
             "outlinewidth": 0,
             "ticks": ""
            },
            "colorscale": [
             [
              0,
              "#0d0887"
             ],
             [
              0.1111111111111111,
              "#46039f"
             ],
             [
              0.2222222222222222,
              "#7201a8"
             ],
             [
              0.3333333333333333,
              "#9c179e"
             ],
             [
              0.4444444444444444,
              "#bd3786"
             ],
             [
              0.5555555555555556,
              "#d8576b"
             ],
             [
              0.6666666666666666,
              "#ed7953"
             ],
             [
              0.7777777777777778,
              "#fb9f3a"
             ],
             [
              0.8888888888888888,
              "#fdca26"
             ],
             [
              1,
              "#f0f921"
             ]
            ],
            "type": "surface"
           }
          ],
          "table": [
           {
            "cells": {
             "fill": {
              "color": "#EBF0F8"
             },
             "line": {
              "color": "white"
             }
            },
            "header": {
             "fill": {
              "color": "#C8D4E3"
             },
             "line": {
              "color": "white"
             }
            },
            "type": "table"
           }
          ]
         },
         "layout": {
          "annotationdefaults": {
           "arrowcolor": "#2a3f5f",
           "arrowhead": 0,
           "arrowwidth": 1
          },
          "autotypenumbers": "strict",
          "coloraxis": {
           "colorbar": {
            "outlinewidth": 0,
            "ticks": ""
           }
          },
          "colorscale": {
           "diverging": [
            [
             0,
             "#8e0152"
            ],
            [
             0.1,
             "#c51b7d"
            ],
            [
             0.2,
             "#de77ae"
            ],
            [
             0.3,
             "#f1b6da"
            ],
            [
             0.4,
             "#fde0ef"
            ],
            [
             0.5,
             "#f7f7f7"
            ],
            [
             0.6,
             "#e6f5d0"
            ],
            [
             0.7,
             "#b8e186"
            ],
            [
             0.8,
             "#7fbc41"
            ],
            [
             0.9,
             "#4d9221"
            ],
            [
             1,
             "#276419"
            ]
           ],
           "sequential": [
            [
             0,
             "#0d0887"
            ],
            [
             0.1111111111111111,
             "#46039f"
            ],
            [
             0.2222222222222222,
             "#7201a8"
            ],
            [
             0.3333333333333333,
             "#9c179e"
            ],
            [
             0.4444444444444444,
             "#bd3786"
            ],
            [
             0.5555555555555556,
             "#d8576b"
            ],
            [
             0.6666666666666666,
             "#ed7953"
            ],
            [
             0.7777777777777778,
             "#fb9f3a"
            ],
            [
             0.8888888888888888,
             "#fdca26"
            ],
            [
             1,
             "#f0f921"
            ]
           ],
           "sequentialminus": [
            [
             0,
             "#0d0887"
            ],
            [
             0.1111111111111111,
             "#46039f"
            ],
            [
             0.2222222222222222,
             "#7201a8"
            ],
            [
             0.3333333333333333,
             "#9c179e"
            ],
            [
             0.4444444444444444,
             "#bd3786"
            ],
            [
             0.5555555555555556,
             "#d8576b"
            ],
            [
             0.6666666666666666,
             "#ed7953"
            ],
            [
             0.7777777777777778,
             "#fb9f3a"
            ],
            [
             0.8888888888888888,
             "#fdca26"
            ],
            [
             1,
             "#f0f921"
            ]
           ]
          },
          "colorway": [
           "#636efa",
           "#EF553B",
           "#00cc96",
           "#ab63fa",
           "#FFA15A",
           "#19d3f3",
           "#FF6692",
           "#B6E880",
           "#FF97FF",
           "#FECB52"
          ],
          "font": {
           "color": "#2a3f5f"
          },
          "geo": {
           "bgcolor": "white",
           "lakecolor": "white",
           "landcolor": "#E5ECF6",
           "showlakes": true,
           "showland": true,
           "subunitcolor": "white"
          },
          "hoverlabel": {
           "align": "left"
          },
          "hovermode": "closest",
          "mapbox": {
           "style": "light"
          },
          "paper_bgcolor": "white",
          "plot_bgcolor": "#E5ECF6",
          "polar": {
           "angularaxis": {
            "gridcolor": "white",
            "linecolor": "white",
            "ticks": ""
           },
           "bgcolor": "#E5ECF6",
           "radialaxis": {
            "gridcolor": "white",
            "linecolor": "white",
            "ticks": ""
           }
          },
          "scene": {
           "xaxis": {
            "backgroundcolor": "#E5ECF6",
            "gridcolor": "white",
            "gridwidth": 2,
            "linecolor": "white",
            "showbackground": true,
            "ticks": "",
            "zerolinecolor": "white"
           },
           "yaxis": {
            "backgroundcolor": "#E5ECF6",
            "gridcolor": "white",
            "gridwidth": 2,
            "linecolor": "white",
            "showbackground": true,
            "ticks": "",
            "zerolinecolor": "white"
           },
           "zaxis": {
            "backgroundcolor": "#E5ECF6",
            "gridcolor": "white",
            "gridwidth": 2,
            "linecolor": "white",
            "showbackground": true,
            "ticks": "",
            "zerolinecolor": "white"
           }
          },
          "shapedefaults": {
           "line": {
            "color": "#2a3f5f"
           }
          },
          "ternary": {
           "aaxis": {
            "gridcolor": "white",
            "linecolor": "white",
            "ticks": ""
           },
           "baxis": {
            "gridcolor": "white",
            "linecolor": "white",
            "ticks": ""
           },
           "bgcolor": "#E5ECF6",
           "caxis": {
            "gridcolor": "white",
            "linecolor": "white",
            "ticks": ""
           }
          },
          "title": {
           "x": 0.05
          },
          "xaxis": {
           "automargin": true,
           "gridcolor": "white",
           "linecolor": "white",
           "ticks": "",
           "title": {
            "standoff": 15
           },
           "zerolinecolor": "white",
           "zerolinewidth": 2
          },
          "yaxis": {
           "automargin": true,
           "gridcolor": "white",
           "linecolor": "white",
           "ticks": "",
           "title": {
            "standoff": 15
           },
           "zerolinecolor": "white",
           "zerolinewidth": 2
          }
         }
        },
        "title": {
         "font": {
          "color": "#4D5663"
         },
         "text": "Metrics"
        },
        "xaxis": {
         "gridcolor": "#E1E5ED",
         "showgrid": true,
         "tickfont": {
          "color": "#4D5663"
         },
         "title": {
          "font": {
           "color": "#4D5663"
          },
          "text": ""
         },
         "zerolinecolor": "#E1E5ED"
        },
        "yaxis": {
         "gridcolor": "#E1E5ED",
         "showgrid": true,
         "tickfont": {
          "color": "#4D5663"
         },
         "title": {
          "font": {
           "color": "#4D5663"
          },
          "text": ""
         },
         "zerolinecolor": "#E1E5ED"
        },
        "yaxis2": {
         "anchor": "x",
         "gridcolor": "#E1E5ED",
         "overlaying": "y",
         "showgrid": true,
         "side": "right",
         "tickfont": {
          "color": "#4D5663"
         },
         "title": {
          "text": ""
         },
         "zerolinecolor": "#E1E5ED"
        }
       }
      },
      "text/html": [
       "<div>                            <div id=\"5232ccf5-292d-44e4-a039-84c0fd4e3d50\" class=\"plotly-graph-div\" style=\"height:525px; width:100%;\"></div>            <script type=\"text/javascript\">                require([\"plotly\"], function(Plotly) {                    window.PLOTLYENV=window.PLOTLYENV || {};                                    if (document.getElementById(\"5232ccf5-292d-44e4-a039-84c0fd4e3d50\")) {                    Plotly.newPlot(                        \"5232ccf5-292d-44e4-a039-84c0fd4e3d50\",                        [{\"line\":{\"color\":\"rgba(255, 153, 51, 1.0)\",\"dash\":\"solid\",\"shape\":\"linear\",\"width\":1.3},\"mode\":\"lines\",\"name\":\"sharpe\",\"text\":\"\",\"x\":[\"erabinsetprop0.8_binsz50\",\"erabinsetprop0.9_binsz50\",\"erabinsetprop0.95_binsz50\",\"erabinsetprop1.0_binsz50\"],\"y\":[0.6559374555633048,0.6508406343927692,0.6508406343927692,0.5865493401836843],\"type\":\"scatter\"},{\"line\":{\"color\":\"rgba(55, 128, 191, 1.0)\",\"dash\":\"solid\",\"shape\":\"linear\",\"width\":1.3},\"mode\":\"lines\",\"name\":\"mean\",\"text\":\"\",\"x\":[\"erabinsetprop0.8_binsz50\",\"erabinsetprop0.9_binsz50\",\"erabinsetprop0.95_binsz50\",\"erabinsetprop1.0_binsz50\"],\"xaxis\":\"x\",\"y\":[0.013162606287248763,0.013259258508931233,0.013259258508931233,0.012367091301567015],\"yaxis\":\"y2\",\"type\":\"scatter\"}],                        {\"annotations\":[{\"arrowhead\":0,\"showarrow\":true,\"text\":\"sharpe=0.656\",\"x\":\"erabinsetprop0.8_binsz50\",\"y\":0.6559374555633048},{\"arrowhead\":0,\"showarrow\":true,\"text\":\"sharpe=0.651\",\"x\":\"erabinsetprop0.9_binsz50\",\"y\":0.6508406343927692},{\"arrowhead\":0,\"showarrow\":true,\"text\":\"sharpe=0.651\",\"x\":\"erabinsetprop0.95_binsz50\",\"y\":0.6508406343927692},{\"arrowhead\":0,\"showarrow\":true,\"text\":\"sharpe=0.587\",\"x\":\"erabinsetprop1.0_binsz50\",\"y\":0.5865493401836843}],\"legend\":{\"bgcolor\":\"#F5F6F9\",\"font\":{\"color\":\"#4D5663\"}},\"paper_bgcolor\":\"#F5F6F9\",\"plot_bgcolor\":\"#F5F6F9\",\"template\":{\"data\":{\"barpolar\":[{\"marker\":{\"line\":{\"color\":\"#E5ECF6\",\"width\":0.5},\"pattern\":{\"fillmode\":\"overlay\",\"size\":10,\"solidity\":0.2}},\"type\":\"barpolar\"}],\"bar\":[{\"error_x\":{\"color\":\"#2a3f5f\"},\"error_y\":{\"color\":\"#2a3f5f\"},\"marker\":{\"line\":{\"color\":\"#E5ECF6\",\"width\":0.5},\"pattern\":{\"fillmode\":\"overlay\",\"size\":10,\"solidity\":0.2}},\"type\":\"bar\"}],\"carpet\":[{\"aaxis\":{\"endlinecolor\":\"#2a3f5f\",\"gridcolor\":\"white\",\"linecolor\":\"white\",\"minorgridcolor\":\"white\",\"startlinecolor\":\"#2a3f5f\"},\"baxis\":{\"endlinecolor\":\"#2a3f5f\",\"gridcolor\":\"white\",\"linecolor\":\"white\",\"minorgridcolor\":\"white\",\"startlinecolor\":\"#2a3f5f\"},\"type\":\"carpet\"}],\"choropleth\":[{\"colorbar\":{\"outlinewidth\":0,\"ticks\":\"\"},\"type\":\"choropleth\"}],\"contourcarpet\":[{\"colorbar\":{\"outlinewidth\":0,\"ticks\":\"\"},\"type\":\"contourcarpet\"}],\"contour\":[{\"colorbar\":{\"outlinewidth\":0,\"ticks\":\"\"},\"colorscale\":[[0.0,\"#0d0887\"],[0.1111111111111111,\"#46039f\"],[0.2222222222222222,\"#7201a8\"],[0.3333333333333333,\"#9c179e\"],[0.4444444444444444,\"#bd3786\"],[0.5555555555555556,\"#d8576b\"],[0.6666666666666666,\"#ed7953\"],[0.7777777777777778,\"#fb9f3a\"],[0.8888888888888888,\"#fdca26\"],[1.0,\"#f0f921\"]],\"type\":\"contour\"}],\"heatmapgl\":[{\"colorbar\":{\"outlinewidth\":0,\"ticks\":\"\"},\"colorscale\":[[0.0,\"#0d0887\"],[0.1111111111111111,\"#46039f\"],[0.2222222222222222,\"#7201a8\"],[0.3333333333333333,\"#9c179e\"],[0.4444444444444444,\"#bd3786\"],[0.5555555555555556,\"#d8576b\"],[0.6666666666666666,\"#ed7953\"],[0.7777777777777778,\"#fb9f3a\"],[0.8888888888888888,\"#fdca26\"],[1.0,\"#f0f921\"]],\"type\":\"heatmapgl\"}],\"heatmap\":[{\"colorbar\":{\"outlinewidth\":0,\"ticks\":\"\"},\"colorscale\":[[0.0,\"#0d0887\"],[0.1111111111111111,\"#46039f\"],[0.2222222222222222,\"#7201a8\"],[0.3333333333333333,\"#9c179e\"],[0.4444444444444444,\"#bd3786\"],[0.5555555555555556,\"#d8576b\"],[0.6666666666666666,\"#ed7953\"],[0.7777777777777778,\"#fb9f3a\"],[0.8888888888888888,\"#fdca26\"],[1.0,\"#f0f921\"]],\"type\":\"heatmap\"}],\"histogram2dcontour\":[{\"colorbar\":{\"outlinewidth\":0,\"ticks\":\"\"},\"colorscale\":[[0.0,\"#0d0887\"],[0.1111111111111111,\"#46039f\"],[0.2222222222222222,\"#7201a8\"],[0.3333333333333333,\"#9c179e\"],[0.4444444444444444,\"#bd3786\"],[0.5555555555555556,\"#d8576b\"],[0.6666666666666666,\"#ed7953\"],[0.7777777777777778,\"#fb9f3a\"],[0.8888888888888888,\"#fdca26\"],[1.0,\"#f0f921\"]],\"type\":\"histogram2dcontour\"}],\"histogram2d\":[{\"colorbar\":{\"outlinewidth\":0,\"ticks\":\"\"},\"colorscale\":[[0.0,\"#0d0887\"],[0.1111111111111111,\"#46039f\"],[0.2222222222222222,\"#7201a8\"],[0.3333333333333333,\"#9c179e\"],[0.4444444444444444,\"#bd3786\"],[0.5555555555555556,\"#d8576b\"],[0.6666666666666666,\"#ed7953\"],[0.7777777777777778,\"#fb9f3a\"],[0.8888888888888888,\"#fdca26\"],[1.0,\"#f0f921\"]],\"type\":\"histogram2d\"}],\"histogram\":[{\"marker\":{\"pattern\":{\"fillmode\":\"overlay\",\"size\":10,\"solidity\":0.2}},\"type\":\"histogram\"}],\"mesh3d\":[{\"colorbar\":{\"outlinewidth\":0,\"ticks\":\"\"},\"type\":\"mesh3d\"}],\"parcoords\":[{\"line\":{\"colorbar\":{\"outlinewidth\":0,\"ticks\":\"\"}},\"type\":\"parcoords\"}],\"pie\":[{\"automargin\":true,\"type\":\"pie\"}],\"scatter3d\":[{\"line\":{\"colorbar\":{\"outlinewidth\":0,\"ticks\":\"\"}},\"marker\":{\"colorbar\":{\"outlinewidth\":0,\"ticks\":\"\"}},\"type\":\"scatter3d\"}],\"scattercarpet\":[{\"marker\":{\"colorbar\":{\"outlinewidth\":0,\"ticks\":\"\"}},\"type\":\"scattercarpet\"}],\"scattergeo\":[{\"marker\":{\"colorbar\":{\"outlinewidth\":0,\"ticks\":\"\"}},\"type\":\"scattergeo\"}],\"scattergl\":[{\"marker\":{\"colorbar\":{\"outlinewidth\":0,\"ticks\":\"\"}},\"type\":\"scattergl\"}],\"scattermapbox\":[{\"marker\":{\"colorbar\":{\"outlinewidth\":0,\"ticks\":\"\"}},\"type\":\"scattermapbox\"}],\"scatterpolargl\":[{\"marker\":{\"colorbar\":{\"outlinewidth\":0,\"ticks\":\"\"}},\"type\":\"scatterpolargl\"}],\"scatterpolar\":[{\"marker\":{\"colorbar\":{\"outlinewidth\":0,\"ticks\":\"\"}},\"type\":\"scatterpolar\"}],\"scatter\":[{\"fillpattern\":{\"fillmode\":\"overlay\",\"size\":10,\"solidity\":0.2},\"type\":\"scatter\"}],\"scatterternary\":[{\"marker\":{\"colorbar\":{\"outlinewidth\":0,\"ticks\":\"\"}},\"type\":\"scatterternary\"}],\"surface\":[{\"colorbar\":{\"outlinewidth\":0,\"ticks\":\"\"},\"colorscale\":[[0.0,\"#0d0887\"],[0.1111111111111111,\"#46039f\"],[0.2222222222222222,\"#7201a8\"],[0.3333333333333333,\"#9c179e\"],[0.4444444444444444,\"#bd3786\"],[0.5555555555555556,\"#d8576b\"],[0.6666666666666666,\"#ed7953\"],[0.7777777777777778,\"#fb9f3a\"],[0.8888888888888888,\"#fdca26\"],[1.0,\"#f0f921\"]],\"type\":\"surface\"}],\"table\":[{\"cells\":{\"fill\":{\"color\":\"#EBF0F8\"},\"line\":{\"color\":\"white\"}},\"header\":{\"fill\":{\"color\":\"#C8D4E3\"},\"line\":{\"color\":\"white\"}},\"type\":\"table\"}]},\"layout\":{\"annotationdefaults\":{\"arrowcolor\":\"#2a3f5f\",\"arrowhead\":0,\"arrowwidth\":1},\"autotypenumbers\":\"strict\",\"coloraxis\":{\"colorbar\":{\"outlinewidth\":0,\"ticks\":\"\"}},\"colorscale\":{\"diverging\":[[0,\"#8e0152\"],[0.1,\"#c51b7d\"],[0.2,\"#de77ae\"],[0.3,\"#f1b6da\"],[0.4,\"#fde0ef\"],[0.5,\"#f7f7f7\"],[0.6,\"#e6f5d0\"],[0.7,\"#b8e186\"],[0.8,\"#7fbc41\"],[0.9,\"#4d9221\"],[1,\"#276419\"]],\"sequential\":[[0.0,\"#0d0887\"],[0.1111111111111111,\"#46039f\"],[0.2222222222222222,\"#7201a8\"],[0.3333333333333333,\"#9c179e\"],[0.4444444444444444,\"#bd3786\"],[0.5555555555555556,\"#d8576b\"],[0.6666666666666666,\"#ed7953\"],[0.7777777777777778,\"#fb9f3a\"],[0.8888888888888888,\"#fdca26\"],[1.0,\"#f0f921\"]],\"sequentialminus\":[[0.0,\"#0d0887\"],[0.1111111111111111,\"#46039f\"],[0.2222222222222222,\"#7201a8\"],[0.3333333333333333,\"#9c179e\"],[0.4444444444444444,\"#bd3786\"],[0.5555555555555556,\"#d8576b\"],[0.6666666666666666,\"#ed7953\"],[0.7777777777777778,\"#fb9f3a\"],[0.8888888888888888,\"#fdca26\"],[1.0,\"#f0f921\"]]},\"colorway\":[\"#636efa\",\"#EF553B\",\"#00cc96\",\"#ab63fa\",\"#FFA15A\",\"#19d3f3\",\"#FF6692\",\"#B6E880\",\"#FF97FF\",\"#FECB52\"],\"font\":{\"color\":\"#2a3f5f\"},\"geo\":{\"bgcolor\":\"white\",\"lakecolor\":\"white\",\"landcolor\":\"#E5ECF6\",\"showlakes\":true,\"showland\":true,\"subunitcolor\":\"white\"},\"hoverlabel\":{\"align\":\"left\"},\"hovermode\":\"closest\",\"mapbox\":{\"style\":\"light\"},\"paper_bgcolor\":\"white\",\"plot_bgcolor\":\"#E5ECF6\",\"polar\":{\"angularaxis\":{\"gridcolor\":\"white\",\"linecolor\":\"white\",\"ticks\":\"\"},\"bgcolor\":\"#E5ECF6\",\"radialaxis\":{\"gridcolor\":\"white\",\"linecolor\":\"white\",\"ticks\":\"\"}},\"scene\":{\"xaxis\":{\"backgroundcolor\":\"#E5ECF6\",\"gridcolor\":\"white\",\"gridwidth\":2,\"linecolor\":\"white\",\"showbackground\":true,\"ticks\":\"\",\"zerolinecolor\":\"white\"},\"yaxis\":{\"backgroundcolor\":\"#E5ECF6\",\"gridcolor\":\"white\",\"gridwidth\":2,\"linecolor\":\"white\",\"showbackground\":true,\"ticks\":\"\",\"zerolinecolor\":\"white\"},\"zaxis\":{\"backgroundcolor\":\"#E5ECF6\",\"gridcolor\":\"white\",\"gridwidth\":2,\"linecolor\":\"white\",\"showbackground\":true,\"ticks\":\"\",\"zerolinecolor\":\"white\"}},\"shapedefaults\":{\"line\":{\"color\":\"#2a3f5f\"}},\"ternary\":{\"aaxis\":{\"gridcolor\":\"white\",\"linecolor\":\"white\",\"ticks\":\"\"},\"baxis\":{\"gridcolor\":\"white\",\"linecolor\":\"white\",\"ticks\":\"\"},\"bgcolor\":\"#E5ECF6\",\"caxis\":{\"gridcolor\":\"white\",\"linecolor\":\"white\",\"ticks\":\"\"}},\"title\":{\"x\":0.05},\"xaxis\":{\"automargin\":true,\"gridcolor\":\"white\",\"linecolor\":\"white\",\"ticks\":\"\",\"title\":{\"standoff\":15},\"zerolinecolor\":\"white\",\"zerolinewidth\":2},\"yaxis\":{\"automargin\":true,\"gridcolor\":\"white\",\"linecolor\":\"white\",\"ticks\":\"\",\"title\":{\"standoff\":15},\"zerolinecolor\":\"white\",\"zerolinewidth\":2}}},\"title\":{\"font\":{\"color\":\"#4D5663\"},\"text\":\"Metrics\"},\"xaxis\":{\"gridcolor\":\"#E1E5ED\",\"showgrid\":true,\"tickfont\":{\"color\":\"#4D5663\"},\"title\":{\"font\":{\"color\":\"#4D5663\"},\"text\":\"\"},\"zerolinecolor\":\"#E1E5ED\"},\"yaxis\":{\"gridcolor\":\"#E1E5ED\",\"showgrid\":true,\"tickfont\":{\"color\":\"#4D5663\"},\"title\":{\"font\":{\"color\":\"#4D5663\"},\"text\":\"\"},\"zerolinecolor\":\"#E1E5ED\"},\"yaxis2\":{\"anchor\":\"x\",\"gridcolor\":\"#E1E5ED\",\"overlaying\":\"y\",\"showgrid\":true,\"side\":\"right\",\"tickfont\":{\"color\":\"#4D5663\"},\"title\":{\"text\":\"\"},\"zerolinecolor\":\"#E1E5ED\"}},                        {\"responsive\": true}                    ).then(function(){\n",
       "                            \n",
       "var gd = document.getElementById('5232ccf5-292d-44e4-a039-84c0fd4e3d50');\n",
       "var x = new MutationObserver(function (mutations, observer) {{\n",
       "        var display = window.getComputedStyle(gd).display;\n",
       "        if (!display || display === 'none') {{\n",
       "            console.log([gd, 'removed!']);\n",
       "            Plotly.purge(gd);\n",
       "            observer.disconnect();\n",
       "        }}\n",
       "}});\n",
       "\n",
       "// Listen for the removal of the full notebook cells\n",
       "var notebookContainer = gd.closest('#notebook-container');\n",
       "if (notebookContainer) {{\n",
       "    x.observe(notebookContainer, {childList: true});\n",
       "}}\n",
       "\n",
       "// Listen for the clearing of the current output cell\n",
       "var outputEl = gd.closest('.output');\n",
       "if (outputEl) {{\n",
       "    x.observe(outputEl, {childList: true});\n",
       "}}\n",
       "\n",
       "                        })                };                });            </script>        </div>"
      ]
     },
     "metadata": {},
     "output_type": "display_data"
    },
    {
     "name": "stdout",
     "output_type": "stream",
     "text": [
      "[2023-04-20 17:04:47]  Saving ./data/experiments/era_analysis__2023-04-20_14h-20m/artifacts/comparison/erabinset_outofsample_metrics_plot.html\n",
      "\r"
     ]
    }
   ],
   "source": [
    "fig_oos = iplot_ebmetrics(ebset_metrics_df, annotate_bin=False)\n",
    "oos_iplot_fl = os.path.join(comparison_dir, \"erabinset_outofsample_metrics_plot.html\")\n",
    "fig_oos.write_html(oos_iplot_fl)\n",
    "log.info(f\"Saving {oos_iplot_fl}\")"
   ]
  },
  {
   "cell_type": "code",
   "execution_count": 316,
   "id": "063cd9f6",
   "metadata": {},
   "outputs": [
    {
     "name": "stdout",
     "output_type": "stream",
     "text": [
      "\r"
     ]
    }
   ],
   "source": [
    "!open ./data/experiments/era_analysis__2023-04-20_14h-20m/artifacts/comparison/erabinset_outofsample_metrics_plot.html"
   ]
  },
  {
   "cell_type": "code",
   "execution_count": 317,
   "id": "3d8ef7fb",
   "metadata": {},
   "outputs": [
    {
     "name": "stdout",
     "output_type": "stream",
     "text": [
      "\r"
     ]
    }
   ],
   "source": [
    "comparison_expt_id = mlflow.create_experiment(parameters[\"expt_name\"] + \"_comparisons\")"
   ]
  },
  {
   "cell_type": "markdown",
   "id": "c4394b16",
   "metadata": {},
   "source": [
    "### 2.5 Save the comparison plots and trained models to mlflow/s3"
   ]
  },
  {
   "cell_type": "markdown",
   "id": "45ee077d",
   "metadata": {},
   "source": [
    "#### Save model_data_maps to comparison folder\n",
    "These contain the trained models, the erabin or binset they belong to along with validation data."
   ]
  },
  {
   "cell_type": "code",
   "execution_count": 322,
   "id": "96767dc3",
   "metadata": {},
   "outputs": [
    {
     "name": "stdout",
     "output_type": "stream",
     "text": [
      "[2023-04-20 17:16:36]  Pickling bin_model_data_map to ./data/experiments/era_analysis__2023-04-20_14h-20m/artifacts/comparison/bin_model_data_map.pkl\n",
      "[2023-04-20 17:16:37]  Pickling binset_model_data_map to ./data/experiments/era_analysis__2023-04-20_14h-20m/artifacts/comparison/binset_model_data_map.pkl\n",
      "\r"
     ]
    }
   ],
   "source": [
    "bin_dt_mp_fl = os.path.join(comparison_dir, \"bin_model_data_map.pkl\")\n",
    "log.info(f\"Pickling bin_model_data_map to {bin_dt_mp_fl}\")\n",
    "ut.pickle_obj(obj=bin_model_data_map, fl=bin_dt_mp_fl)\n",
    "\n",
    "binset_dt_mp_fl = os.path.join(comparison_dir, \"binset_model_data_map.pkl\")\n",
    "log.info(f\"Pickling binset_model_data_map to {binset_dt_mp_fl}\")\n",
    "ut.pickle_obj(obj=binset_model_data_map, fl=binset_dt_mp_fl)"
   ]
  },
  {
   "cell_type": "code",
   "execution_count": 323,
   "id": "b0535d4d",
   "metadata": {},
   "outputs": [
    {
     "name": "stdout",
     "output_type": "stream",
     "text": [
      "\r"
     ]
    }
   ],
   "source": [
    "with mlflow.start_run(run_name=\"compare_bin_and_binset\", experiment_id=comparison_expt_id):\n",
    "    mlflow.log_params(flatdict.FlatDict(parameters, delimiter=\".\"))\n",
    "    mlflow.log_artifacts(local_dir=comparison_dir)"
   ]
  },
  {
   "cell_type": "markdown",
   "id": "63d23ade",
   "metadata": {},
   "source": [
    "## Upload relevant files to s3"
   ]
  },
  {
   "cell_type": "code",
   "execution_count": 324,
   "id": "3caeda9a",
   "metadata": {},
   "outputs": [
    {
     "name": "stdout",
     "output_type": "stream",
     "text": [
      "\r"
     ]
    }
   ],
   "source": [
    "import utils as ut"
   ]
  },
  {
   "cell_type": "code",
   "execution_count": 326,
   "id": "6c8269d9",
   "metadata": {
    "scrolled": false
   },
   "outputs": [
    {
     "name": "stdout",
     "output_type": "stream",
     "text": [
      "[2023-04-20 17:18:04]  Loading aws credenitals from ~/.aws/personal_credentials...\n",
      "[2023-04-20 17:18:04]  [DRYRUN] Would upload ./data/experiments/era_analysis__2023-04-20_14h-20m/params.json to s3://numerai-v1/experiments/params.json\n",
      "[2023-04-20 17:18:04]  [DRYRUN] Would upload ./data/experiments/era_analysis__2023-04-20_14h-20m/log.txt to s3://numerai-v1/experiments/log.txt\n",
      "[2023-04-20 17:18:04]  [DRYRUN] Would upload ./data/experiments/era_analysis__2023-04-20_14h-20m/artifacts/era_stock_cnt.html to s3://numerai-v1/experiments/artifacts/era_stock_cnt.html\n",
      "[2023-04-20 17:18:04]  [DRYRUN] Would upload ./data/experiments/era_analysis__2023-04-20_14h-20m/artifacts/era_nan_pct.html to s3://numerai-v1/experiments/artifacts/era_nan_pct.html\n",
      "[2023-04-20 17:18:04]  [DRYRUN] Would upload ./data/experiments/era_analysis__2023-04-20_14h-20m/artifacts/era_date_cnt.html to s3://numerai-v1/experiments/artifacts/era_date_cnt.html\n",
      "[2023-04-20 17:18:04]  [DRYRUN] Would upload ./data/experiments/era_analysis__2023-04-20_14h-20m/artifacts/comparison/bin_model_data_map.pkl to s3://numerai-v1/experiments/artifacts/comparison/bin_model_data_map.pkl\n",
      "[2023-04-20 17:18:04]  [DRYRUN] Would upload ./data/experiments/era_analysis__2023-04-20_14h-20m/artifacts/comparison/erabinset_metrics_tbl.html to s3://numerai-v1/experiments/artifacts/comparison/erabinset_metrics_tbl.html\n",
      "[2023-04-20 17:18:04]  [DRYRUN] Would upload ./data/experiments/era_analysis__2023-04-20_14h-20m/artifacts/comparison/erabinset_metrics_plot.html to s3://numerai-v1/experiments/artifacts/comparison/erabinset_metrics_plot.html\n",
      "[2023-04-20 17:18:04]  [DRYRUN] Would upload ./data/experiments/era_analysis__2023-04-20_14h-20m/artifacts/comparison/erabinset_outofsample_metrics_plot.html to s3://numerai-v1/experiments/artifacts/comparison/erabinset_outofsample_metrics_plot.html\n",
      "[2023-04-20 17:18:04]  [DRYRUN] Would upload ./data/experiments/era_analysis__2023-04-20_14h-20m/artifacts/comparison/erabin_metrics_plot.html to s3://numerai-v1/experiments/artifacts/comparison/erabin_metrics_plot.html\n",
      "[2023-04-20 17:18:04]  [DRYRUN] Would upload ./data/experiments/era_analysis__2023-04-20_14h-20m/artifacts/comparison/erabinset_outofsample_metrics_tbl.html to s3://numerai-v1/experiments/artifacts/comparison/erabinset_outofsample_metrics_tbl.html\n",
      "[2023-04-20 17:18:04]  [DRYRUN] Would upload ./data/experiments/era_analysis__2023-04-20_14h-20m/artifacts/comparison/erabin_metrics_tbl.html to s3://numerai-v1/experiments/artifacts/comparison/erabin_metrics_tbl.html\n",
      "[2023-04-20 17:18:04]  [DRYRUN] Would upload ./data/experiments/era_analysis__2023-04-20_14h-20m/artifacts/comparison/binset_model_data_map.pkl to s3://numerai-v1/experiments/artifacts/comparison/binset_model_data_map.pkl\n",
      "[2023-04-20 17:18:04]  [DRYRUN] Would upload ./data/experiments/era_analysis__2023-04-20_14h-20m/models/train_int8/train_int8_target_nomi_v4_20_erabin3_binsz50_52e08c.pkl to s3://numerai-v1/experiments/models/train_int8/train_int8_target_nomi_v4_20_erabin3_binsz50_52e08c.pkl\n",
      "[2023-04-20 17:18:04]  [DRYRUN] Would upload ./data/experiments/era_analysis__2023-04-20_14h-20m/models/train_int8/train_int8_target_nomi_v4_20_erabin6_binsz50_52e08c.pkl to s3://numerai-v1/experiments/models/train_int8/train_int8_target_nomi_v4_20_erabin6_binsz50_52e08c.pkl\n",
      "[2023-04-20 17:18:04]  [DRYRUN] Would upload ./data/experiments/era_analysis__2023-04-20_14h-20m/models/train_int8/train_int8_target_nomi_v4_20_erabinsetprop1.0_binsz50_57306f.pkl to s3://numerai-v1/experiments/models/train_int8/train_int8_target_nomi_v4_20_erabinsetprop1.0_binsz50_57306f.pkl\n",
      "[2023-04-20 17:18:04]  [DRYRUN] Would upload ./data/experiments/era_analysis__2023-04-20_14h-20m/models/train_int8/train_int8_target_nomi_v4_20_erabinsetprop0.7_binsz50_53af08.pkl to s3://numerai-v1/experiments/models/train_int8/train_int8_target_nomi_v4_20_erabinsetprop0.7_binsz50_53af08.pkl\n",
      "[2023-04-20 17:18:04]  [DRYRUN] Would upload ./data/experiments/era_analysis__2023-04-20_14h-20m/models/train_int8/train_int8_target_nomi_v4_20_erabinsetprop0.8_binsz50_57306f.pkl to s3://numerai-v1/experiments/models/train_int8/train_int8_target_nomi_v4_20_erabinsetprop0.8_binsz50_57306f.pkl\n",
      "[2023-04-20 17:18:04]  [DRYRUN] Would upload ./data/experiments/era_analysis__2023-04-20_14h-20m/models/train_int8/train_int8_target_nomi_v4_20_erabinsetprop0.95_binsz50_57306f.pkl to s3://numerai-v1/experiments/models/train_int8/train_int8_target_nomi_v4_20_erabinsetprop0.95_binsz50_57306f.pkl\n",
      "[2023-04-20 17:18:04]  [DRYRUN] Would upload ./data/experiments/era_analysis__2023-04-20_14h-20m/models/train_int8/train_int8_target_nomi_v4_20_erabinsetprop0.9_binsz50_53af08.pkl to s3://numerai-v1/experiments/models/train_int8/train_int8_target_nomi_v4_20_erabinsetprop0.9_binsz50_53af08.pkl\n",
      "[2023-04-20 17:18:04]  [DRYRUN] Would upload ./data/experiments/era_analysis__2023-04-20_14h-20m/models/train_int8/train_int8_target_nomi_v4_20_erabin10_binsz50_52e08c.pkl to s3://numerai-v1/experiments/models/train_int8/train_int8_target_nomi_v4_20_erabin10_binsz50_52e08c.pkl\n",
      "[2023-04-20 17:18:04]  [DRYRUN] Would upload ./data/experiments/era_analysis__2023-04-20_14h-20m/models/train_int8/train_int8_target_nomi_v4_20_erabin5_binsz50_52e08c.pkl to s3://numerai-v1/experiments/models/train_int8/train_int8_target_nomi_v4_20_erabin5_binsz50_52e08c.pkl\n",
      "[2023-04-20 17:18:04]  [DRYRUN] Would upload ./data/experiments/era_analysis__2023-04-20_14h-20m/models/train_int8/train_int8_target_nomi_v4_20_erabin8_binsz50_52e08c.pkl to s3://numerai-v1/experiments/models/train_int8/train_int8_target_nomi_v4_20_erabin8_binsz50_52e08c.pkl\n",
      "[2023-04-20 17:18:04]  [DRYRUN] Would upload ./data/experiments/era_analysis__2023-04-20_14h-20m/models/train_int8/train_int8_target_nomi_v4_20_erabin11_binsz50_52e08c.pkl to s3://numerai-v1/experiments/models/train_int8/train_int8_target_nomi_v4_20_erabin11_binsz50_52e08c.pkl\n",
      "[2023-04-20 17:18:04]  [DRYRUN] Would upload ./data/experiments/era_analysis__2023-04-20_14h-20m/models/train_int8/train_int8_target_nomi_v4_20_erabinsetprop0.5_binsz50_53af08.pkl to s3://numerai-v1/experiments/models/train_int8/train_int8_target_nomi_v4_20_erabinsetprop0.5_binsz50_53af08.pkl\n",
      "[2023-04-20 17:18:04]  [DRYRUN] Would upload ./data/experiments/era_analysis__2023-04-20_14h-20m/models/train_int8/train_int8_target_nomi_v4_20_erabin4_binsz50_52e08c.pkl to s3://numerai-v1/experiments/models/train_int8/train_int8_target_nomi_v4_20_erabin4_binsz50_52e08c.pkl\n",
      "[2023-04-20 17:18:04]  [DRYRUN] Would upload ./data/experiments/era_analysis__2023-04-20_14h-20m/models/train_int8/train_int8_target_nomi_v4_20_erabin9_binsz50_52e08c.pkl to s3://numerai-v1/experiments/models/train_int8/train_int8_target_nomi_v4_20_erabin9_binsz50_52e08c.pkl\n",
      "[2023-04-20 17:18:04]  [DRYRUN] Would upload ./data/experiments/era_analysis__2023-04-20_14h-20m/models/train_int8/train_int8_target_nomi_v4_20_erabinsetprop1.0_binsz50_53af08.pkl to s3://numerai-v1/experiments/models/train_int8/train_int8_target_nomi_v4_20_erabinsetprop1.0_binsz50_53af08.pkl\n",
      "[2023-04-20 17:18:04]  [DRYRUN] Would upload ./data/experiments/era_analysis__2023-04-20_14h-20m/models/train_int8/train_int8_target_nomi_v4_20_erabin7_binsz50_52e08c.pkl to s3://numerai-v1/experiments/models/train_int8/train_int8_target_nomi_v4_20_erabin7_binsz50_52e08c.pkl\n",
      "[2023-04-20 17:18:04]  [DRYRUN] Would upload ./data/experiments/era_analysis__2023-04-20_14h-20m/models/train_int8/train_int8_target_nomi_v4_20_erabinsetprop0.9_binsz50_57306f.pkl to s3://numerai-v1/experiments/models/train_int8/train_int8_target_nomi_v4_20_erabinsetprop0.9_binsz50_57306f.pkl\n",
      "[2023-04-20 17:18:04]  [DRYRUN] Would upload ./data/experiments/era_analysis__2023-04-20_14h-20m/models/train_int8/train_int8_target_nomi_v4_20_erabin1_binsz50_52e08c.pkl to s3://numerai-v1/experiments/models/train_int8/train_int8_target_nomi_v4_20_erabin1_binsz50_52e08c.pkl\n",
      "[2023-04-20 17:18:04]  [DRYRUN] Would upload ./data/experiments/era_analysis__2023-04-20_14h-20m/models/train_int8/train_int8_target_nomi_v4_20_erabin2_binsz50_52e08c.pkl to s3://numerai-v1/experiments/models/train_int8/train_int8_target_nomi_v4_20_erabin2_binsz50_52e08c.pkl\n",
      "\r"
     ]
    }
   ],
   "source": [
    "ut.upload_to_s3_recursively(\n",
    "    dir_path=EXPT_SAVE_ROOTDIR,\n",
    "    s3_path=OUTPUT_S3_PATH,\n",
    "    aws_credential_fl=AWS_CREDENTIALS_FILE,\n",
    "    aws_profile='default',\n",
    "    dry_run=TEST_MODE,\n",
    ")"
   ]
  },
  {
   "cell_type": "code",
   "execution_count": null,
   "id": "78ba4089",
   "metadata": {},
   "outputs": [],
   "source": []
  }
 ],
 "metadata": {
  "kernelspec": {
   "display_name": "Python 3 (ipykernel)",
   "language": "python",
   "name": "python3"
  },
  "language_info": {
   "codemirror_mode": {
    "name": "ipython",
    "version": 3
   },
   "file_extension": ".py",
   "mimetype": "text/x-python",
   "name": "python",
   "nbconvert_exporter": "python",
   "pygments_lexer": "ipython3",
   "version": "3.10.11"
  }
 },
 "nbformat": 4,
 "nbformat_minor": 5
}
