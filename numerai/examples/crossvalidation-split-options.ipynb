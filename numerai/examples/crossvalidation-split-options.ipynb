{
 "cells": [
  {
   "cell_type": "markdown",
   "id": "d6b72a9c",
   "metadata": {},
   "source": [
    "# Goal\n",
    "Compare\n",
    "- `get_time_series_cross_val_splits` from [utils.py](https://github.com/numerai/example-scripts/blob/6b72e4aebbd906d4f727360f4cd0052ef08a97fc/utils.py#L80)\n",
    "- `PurgedTimeSeriesSplitGroups` from the Forum"
   ]
  },
  {
   "cell_type": "code",
   "execution_count": 1,
   "id": "2a1b6d08",
   "metadata": {},
   "outputs": [
    {
     "data": {
      "text/html": [
       "<style>.container { width:100% !important; }</style>"
      ],
      "text/plain": [
       "<IPython.core.display.HTML object>"
      ]
     },
     "metadata": {},
     "output_type": "display_data"
    }
   ],
   "source": [
    "from IPython.display import display, HTML, clear_output\n",
    "display(HTML(\"<style>.container { width:100% !important; }</style>\"))"
   ]
  },
  {
   "cell_type": "code",
   "execution_count": 2,
   "id": "8798063b",
   "metadata": {},
   "outputs": [],
   "source": [
    "import json\n",
    "import numpy as np\n",
    "import pandas as pd\n",
    "import matplotlib.pyplot as plt\n",
    "import seaborn as sns\n",
    "\n",
    "import numerapi"
   ]
  },
  {
   "cell_type": "code",
   "execution_count": 3,
   "id": "8513a9aa",
   "metadata": {},
   "outputs": [],
   "source": [
    "%load_ext autoreload\n",
    "%autoreload 2\n",
    "\n",
    "import sys\n",
    "sys.path.append(\"..\")\n",
    "# visp's personal model training util functions available at\n",
    "# https://github.com/vispz/numerai/blob/main/numerai/utils.py\n",
    "import utils"
   ]
  },
  {
   "cell_type": "code",
   "execution_count": 4,
   "id": "811a894d",
   "metadata": {},
   "outputs": [],
   "source": [
    "sns.set_theme(palette=\"muted\", font_scale=1.2)"
   ]
  },
  {
   "cell_type": "markdown",
   "id": "9cbc8416",
   "metadata": {},
   "source": [
    "## 1. Download and load numerapi dataset\n",
    "\n",
    "Use real data to make this realistic\n",
    "\n",
    "### 1.1 Download"
   ]
  },
  {
   "cell_type": "code",
   "execution_count": 5,
   "id": "a0c77a1a",
   "metadata": {},
   "outputs": [],
   "source": [
    "napi = numerapi.NumerAPI()"
   ]
  },
  {
   "cell_type": "code",
   "execution_count": 6,
   "id": "3f184520",
   "metadata": {},
   "outputs": [
    {
     "name": "stderr",
     "output_type": "stream",
     "text": [
      "2023-05-05 01:43:08,030 INFO numerapi.utils: target file already exists\n",
      "2023-05-05 01:43:08,033 INFO numerapi.utils: download complete\n",
      "2023-05-05 01:43:08,921 INFO numerapi.utils: target file already exists\n",
      "2023-05-05 01:43:08,922 INFO numerapi.utils: download complete\n"
     ]
    },
    {
     "data": {
      "text/plain": [
       "'../data/features.json'"
      ]
     },
     "execution_count": 6,
     "metadata": {},
     "output_type": "execute_result"
    }
   ],
   "source": [
    "napi.download_dataset(\n",
    "    filename=\"v4.1/train_int8.parquet\",\n",
    "    dest_path=\"../data/train_int8.parquet\",\n",
    ")\n",
    "napi.download_dataset(\n",
    "    filename=\"v4.1/features.json\",\n",
    "    dest_path=\"../data/features.json\",\n",
    ")"
   ]
  },
  {
   "cell_type": "markdown",
   "id": "345f99b6",
   "metadata": {},
   "source": [
    "### 1.2 Load small feature set"
   ]
  },
  {
   "cell_type": "code",
   "execution_count": 7,
   "id": "0048580e",
   "metadata": {},
   "outputs": [],
   "source": [
    "def print_df_info(df, label):\n",
    "    print(f\"{label} info: {df.shape=}, {df.era.nunique()=}, era_range={df.era.min(), df.era.max()}\")"
   ]
  },
  {
   "cell_type": "code",
   "execution_count": 8,
   "id": "b5ccf2f0",
   "metadata": {},
   "outputs": [
    {
     "name": "stdout",
     "output_type": "stream",
     "text": [
      "len(features)=32\n",
      "features[:2]=['feature_bijou_penetrant_syringa', 'feature_burning_phrygian_axinomancy']\n"
     ]
    }
   ],
   "source": [
    "# Load up a small feature set\n",
    "with open(\"../data/features.json\") as infile:\n",
    "    features = json.load(infile)[\"feature_sets\"][\"small\"]\n",
    "\n",
    "print(f\"{len(features)=}\\n{features[:2]=}\")"
   ]
  },
  {
   "cell_type": "code",
   "execution_count": 9,
   "id": "e4916c1c",
   "metadata": {},
   "outputs": [
    {
     "name": "stdout",
     "output_type": "stream",
     "text": [
      "df info: df.shape=(2420521, 34), df.era.nunique()=574, era_range=(1, 574)\n"
     ]
    }
   ],
   "source": [
    "df = pd.read_parquet(\"../data/train_int8.parquet\", columns=[\"era\", \"target_cyrus_v4_20\"]+features)\n",
    "df.era = df.era.astype(int)\n",
    "print_df_info(df, \"df\")"
   ]
  },
  {
   "cell_type": "markdown",
   "id": "9905fae0",
   "metadata": {},
   "source": [
    "## 2. Compare various splits\n",
    "### 2.1 `get_time_series_cross_val_splits` from [utils.py](https://github.com/numerai/example-scripts/blob/6b72e4aebbd906d4f727360f4cd0052ef08a97fc/utils.py#L80)\n",
    "\n",
    "- It guarantees that stocks in a specific era either appear in the train or test but not both.\n",
    "- This can have training data from the future and test data from the past. \n",
    "\n",
    "NOTE: this yields `eras` and not index of the original dataframe passed in."
   ]
  },
  {
   "cell_type": "code",
   "execution_count": 10,
   "id": "60ebdcac",
   "metadata": {},
   "outputs": [],
   "source": [
    "# This cell is copied verbatim from `example-scripts/utils.py`\n",
    "\n",
    "ERA_COL = \"era\"\n",
    "\n",
    "def get_time_series_cross_val_splits(data, cv=3, embargo=12):\n",
    "    \"\"\"Get the time series cross validation splits.\n",
    "    \n",
    "    :yields: tuple of (train, test) splits. train is a list of eras,\n",
    "        test is a np.ndarray of eras.\n",
    "    \"\"\"\n",
    "    all_train_eras = data[ERA_COL].unique()\n",
    "    len_split = len(all_train_eras) // cv\n",
    "    test_splits = [\n",
    "        all_train_eras[i * len_split : (i + 1) * len_split] for i in range(cv)\n",
    "    ]\n",
    "    # fix the last test split to have all the last eras, in case the number of eras wasn't divisible by cv\n",
    "    remainder = len(all_train_eras) % cv\n",
    "    if remainder != 0:\n",
    "        test_splits[-1] = np.append(test_splits[-1], all_train_eras[-remainder:])\n",
    "\n",
    "    train_splits = []\n",
    "    for test_split in test_splits:\n",
    "        test_split_max = int(np.max(test_split))\n",
    "        test_split_min = int(np.min(test_split))\n",
    "        # get all of the eras that aren't in the test split\n",
    "        train_split_not_embargoed = [\n",
    "            e\n",
    "            for e in all_train_eras\n",
    "            if not (test_split_min <= int(e) <= test_split_max)\n",
    "        ]\n",
    "        # embargo the train split so we have no leakage.\n",
    "        # one era is length 5, so we need to embargo by target_length/5 eras.\n",
    "        # To be consistent for all targets, let's embargo everything by 60/5 == 12 eras.\n",
    "        train_split = [\n",
    "            e\n",
    "            for e in train_split_not_embargoed\n",
    "            if abs(int(e) - test_split_max) > embargo\n",
    "            and abs(int(e) - test_split_min) > embargo\n",
    "        ]\n",
    "        train_splits.append(train_split)\n",
    "\n",
    "    # convenient way to iterate over train and test splits\n",
    "    train_test_zip = zip(train_splits, test_splits)\n",
    "    return train_test_zip"
   ]
  },
  {
   "cell_type": "code",
   "execution_count": 11,
   "id": "539bb369",
   "metadata": {},
   "outputs": [],
   "source": [
    "cv_splits_get_ts = []\n",
    "for train_eras, test_eras in get_time_series_cross_val_splits(data=df, cv=3, embargo=12):\n",
    "#     assert_continuous(train_eras)\n",
    "#     assert_continuous(test_eras)\n",
    "    cv_splits_get_ts.append(\n",
    "        {\n",
    "            \"train\": train_eras,\n",
    "            \"test\": test_eras,\n",
    "        },\n",
    "    )"
   ]
  },
  {
   "cell_type": "code",
   "execution_count": 12,
   "id": "74a77617",
   "metadata": {},
   "outputs": [
    {
     "data": {
      "image/png": "[encoded data removed]",
      "text/plain": [
       "<Figure size 1300x400 with 1 Axes>"
      ]
     },
     "metadata": {},
     "output_type": "display_data"
    }
   ],
   "source": [
    "_, ax = plt.subplots(1,1, figsize=(13, 4))\n",
    "utils.plot_cv_split(\n",
    "    cv_splits=cv_splits_get_ts,\n",
    "    always_show_bin_ends=True,\n",
    "    bin_end_offset=50,\n",
    "    title=(\n",
    "        \"Cross-Validation Splits\\n\"\n",
    "        \"using `get_time_series_cross_val_splits()` in utils.py\"\n",
    "    ),\n",
    "    ax=ax,\n",
    ");"
   ]
  },
  {
   "cell_type": "markdown",
   "id": "b05ca4c8",
   "metadata": {},
   "source": [
    "### 2.2 PurgedTimeSeriesSplitGroups from [forums](https://forum.numer.ai/t/era-wise-time-series-cross-validation/791/24?u=visp) "
   ]
  },
  {
   "cell_type": "markdown",
   "id": "1de63a26",
   "metadata": {},
   "source": [
    "1. This does \"walk-forward\" time series split with embargo.\n",
    "2. We never use future data to predict the past. Similar to the previous case all tests are the same size.\n",
    "\n",
    "NOTE: this yields index of the original dataframe/dataset passed in and not the eras in train and test.\n",
    "\n",
    "#### I, @visp, personally use a similar function/implementation for all my analyses. See [github](https://github.com/vispz/numerai/blob/d6eaacbfc58227cf4258a5135fc2283d65b9d256/numerai/utils.py#L945) for function with docstrings."
   ]
  },
  {
   "cell_type": "code",
   "execution_count": 13,
   "id": "b7ad52fd",
   "metadata": {},
   "outputs": [],
   "source": [
    "from sklearn.model_selection._split import _BaseKFold, indexable, _num_samples\n",
    "\n",
    "\n",
    "def purged_ts_split(n_splits, purge_groups, X, y=None, groups=None):\n",
    "    X, y, groups = indexable(X, y, groups)\n",
    "    n_samples = _num_samples(X)\n",
    "    n_folds = n_splits + 1\n",
    "    group_list = np.unique(groups)\n",
    "    n_groups = len(group_list)\n",
    "    if n_folds + purge_groups > n_groups:\n",
    "        raise ValueError((f\"Cannot have number of folds plus purged groups \"\n",
    "                          f\"={n_folds+purge_groups} greater than the \"\n",
    "                          f\"number of groups: {n_groups}.\"))\n",
    "    indices = np.arange(n_samples)\n",
    "    test_size = ((n_groups-purge_groups) // n_folds)\n",
    "    test_starts = [n_groups-test_size*c for c in range(n_folds-1, 0, -1)]\n",
    "    for test_start in test_starts:\n",
    "        yield (indices[groups.isin(group_list[:test_start-purge_groups])],\n",
    "               indices[groups.isin(group_list[test_start:test_start + test_size])])"
   ]
  },
  {
   "cell_type": "code",
   "execution_count": null,
   "id": "8051e528",
   "metadata": {},
   "outputs": [],
   "source": [
    "cv_splits_purged_ts = []\n",
    "for train_ix, test_ix in purged_ts_split(n_splits=3, purge_groups=12, X=df, y=None, groups=df.era):\n",
    "    df_train, df_test = df.iloc[train_ix], df.iloc[test_ix]\n",
    "    cv_splits_purged_ts.append(\n",
    "        {\n",
    "            \"train\": df_train.era.unique(),\n",
    "            \"test\": df_test.era.unique(),\n",
    "        }\n",
    "    )\n",
    "\n",
    "_, ax = plt.subplots(1,1, figsize=(13, 4))\n",
    "utils.plot_cv_split(\n",
    "    cv_splits=cv_splits_purged_ts,\n",
    "    always_show_bin_ends=True,\n",
    "    bin_end_offset=50,\n",
    "    ax=ax,\n",
    "    title=(\n",
    "        \"Cross-Validation Splits\\n\"\n",
    "        \"using `class PurgedTimeSeriesSplitGroups`\"\n",
    "    )\n",
    ");"
   ]
  },
  {
   "cell_type": "code",
   "execution_count": null,
   "id": "585094c3",
   "metadata": {},
   "outputs": [],
   "source": []
  }
 ],
 "metadata": {
  "kernelspec": {
   "display_name": "Python 3 (ipykernel)",
   "language": "python",
   "name": "python3"
  },
  "language_info": {
   "codemirror_mode": {
    "name": "ipython",
    "version": 3
   },
   "file_extension": ".py",
   "mimetype": "text/x-python",
   "name": "python",
   "nbconvert_exporter": "python",
   "pygments_lexer": "ipython3",
   "version": "3.10.11"
  }
 },
 "nbformat": 4,
 "nbformat_minor": 5
}
