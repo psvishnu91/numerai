{
 "cells": [
  {
   "cell_type": "markdown",
   "id": "76603fab",
   "metadata": {},
   "source": [
    "`task6-create-deploy-models` creates pickle files that work well with numerai-compute. This notebook is built to create pickle files that work with pickle model uploads."
   ]
  },
  {
   "cell_type": "code",
   "execution_count": 1,
   "id": "a392599d",
   "metadata": {},
   "outputs": [],
   "source": [
    "%load_ext autoreload\n",
    "%autoreload 2\n",
    "\n",
    "import pickle\n",
    "import cloudpickle\n",
    "import pandas as pd\n",
    "\n",
    "# Need to bring all dependencies into local variables so\n",
    "# we can cloudpickle it correctly\n",
    "from deploy_model import *\n",
    "import predict as predict_script\n",
    "import numerapi\n",
    "\n",
    "\n",
    "def unpickle(fl):\n",
    "    with open(fl, \"rb\") as infile:\n",
    "        return pickle.load(infile)"
   ]
  },
  {
   "cell_type": "code",
   "execution_count": 2,
   "id": "fb6a1611",
   "metadata": {},
   "outputs": [],
   "source": [
    "#!aws s3 cp --recursive s3://numerai-v1/experiments/train_on_all_data_2023-05-01_16h-10m/models/ ./"
   ]
  },
  {
   "cell_type": "markdown",
   "id": "173b78f2",
   "metadata": {},
   "source": [
    "## 1. Download and build ensemble model"
   ]
  },
  {
   "cell_type": "code",
   "execution_count": 3,
   "id": "295114b9",
   "metadata": {},
   "outputs": [
    {
     "data": {
      "text/html": [
       "<style>#sk-container-id-1 {color: black;background-color: white;}#sk-container-id-1 pre{padding: 0;}#sk-container-id-1 div.sk-toggleable {background-color: white;}#sk-container-id-1 label.sk-toggleable__label {cursor: pointer;display: block;width: 100%;margin-bottom: 0;padding: 0.3em;box-sizing: border-box;text-align: center;}#sk-container-id-1 label.sk-toggleable__label-arrow:before {content: \"▸\";float: left;margin-right: 0.25em;color: #696969;}#sk-container-id-1 label.sk-toggleable__label-arrow:hover:before {color: black;}#sk-container-id-1 div.sk-estimator:hover label.sk-toggleable__label-arrow:before {color: black;}#sk-container-id-1 div.sk-toggleable__content {max-height: 0;max-width: 0;overflow: hidden;text-align: left;background-color: #f0f8ff;}#sk-container-id-1 div.sk-toggleable__content pre {margin: 0.2em;color: black;border-radius: 0.25em;background-color: #f0f8ff;}#sk-container-id-1 input.sk-toggleable__control:checked~div.sk-toggleable__content {max-height: 200px;max-width: 100%;overflow: auto;}#sk-container-id-1 input.sk-toggleable__control:checked~label.sk-toggleable__label-arrow:before {content: \"▾\";}#sk-container-id-1 div.sk-estimator input.sk-toggleable__control:checked~label.sk-toggleable__label {background-color: #d4ebff;}#sk-container-id-1 div.sk-label input.sk-toggleable__control:checked~label.sk-toggleable__label {background-color: #d4ebff;}#sk-container-id-1 input.sk-hidden--visually {border: 0;clip: rect(1px 1px 1px 1px);clip: rect(1px, 1px, 1px, 1px);height: 1px;margin: -1px;overflow: hidden;padding: 0;position: absolute;width: 1px;}#sk-container-id-1 div.sk-estimator {font-family: monospace;background-color: #f0f8ff;border: 1px dotted black;border-radius: 0.25em;box-sizing: border-box;margin-bottom: 0.5em;}#sk-container-id-1 div.sk-estimator:hover {background-color: #d4ebff;}#sk-container-id-1 div.sk-parallel-item::after {content: \"\";width: 100%;border-bottom: 1px solid gray;flex-grow: 1;}#sk-container-id-1 div.sk-label:hover label.sk-toggleable__label {background-color: #d4ebff;}#sk-container-id-1 div.sk-serial::before {content: \"\";position: absolute;border-left: 1px solid gray;box-sizing: border-box;top: 0;bottom: 0;left: 50%;z-index: 0;}#sk-container-id-1 div.sk-serial {display: flex;flex-direction: column;align-items: center;background-color: white;padding-right: 0.2em;padding-left: 0.2em;position: relative;}#sk-container-id-1 div.sk-item {position: relative;z-index: 1;}#sk-container-id-1 div.sk-parallel {display: flex;align-items: stretch;justify-content: center;background-color: white;position: relative;}#sk-container-id-1 div.sk-item::before, #sk-container-id-1 div.sk-parallel-item::before {content: \"\";position: absolute;border-left: 1px solid gray;box-sizing: border-box;top: 0;bottom: 0;left: 50%;z-index: -1;}#sk-container-id-1 div.sk-parallel-item {display: flex;flex-direction: column;z-index: 1;position: relative;background-color: white;}#sk-container-id-1 div.sk-parallel-item:first-child::after {align-self: flex-end;width: 50%;}#sk-container-id-1 div.sk-parallel-item:last-child::after {align-self: flex-start;width: 50%;}#sk-container-id-1 div.sk-parallel-item:only-child::after {width: 0;}#sk-container-id-1 div.sk-dashed-wrapped {border: 1px dashed gray;margin: 0 0.4em 0.5em 0.4em;box-sizing: border-box;padding-bottom: 0.4em;background-color: white;}#sk-container-id-1 div.sk-label label {font-family: monospace;font-weight: bold;display: inline-block;line-height: 1.2em;}#sk-container-id-1 div.sk-label-container {text-align: center;}#sk-container-id-1 div.sk-container {/* jupyter's `normalize.less` sets `[hidden] { display: none; }` but bootstrap.min.css set `[hidden] { display: none !important; }` so we also need the `!important` here to be able to override the default hidden behavior on the sphinx rendered scikit-learn.org. See: https://github.com/scikit-learn/scikit-learn/issues/21755 */display: inline-block !important;position: relative;}#sk-container-id-1 div.sk-text-repr-fallback {display: none;}</style><div id=\"sk-container-id-1\" class=\"sk-top-container\"><div class=\"sk-text-repr-fallback\"><pre>LGBMRegressor(colsample_bytree=0.2, learning_rate=0.002, max_depth=6,\n",
       "              n_estimators=20000, num_leaves=64)</pre><b>In a Jupyter environment, please rerun this cell to show the HTML representation or trust the notebook. <br />On GitHub, the HTML representation is unable to render, please try loading this page with nbviewer.org.</b></div><div class=\"sk-container\" hidden><div class=\"sk-item\"><div class=\"sk-estimator sk-toggleable\"><input class=\"sk-toggleable__control sk-hidden--visually\" id=\"sk-estimator-id-1\" type=\"checkbox\" checked><label for=\"sk-estimator-id-1\" class=\"sk-toggleable__label sk-toggleable__label-arrow\">LGBMRegressor</label><div class=\"sk-toggleable__content\"><pre>LGBMRegressor(colsample_bytree=0.2, learning_rate=0.002, max_depth=6,\n",
       "              n_estimators=20000, num_leaves=64)</pre></div></div></div></div></div>"
      ],
      "text/plain": [
       "LGBMRegressor(colsample_bytree=0.2, learning_rate=0.002, max_depth=6,\n",
       "              n_estimators=20000, num_leaves=64)"
      ]
     },
     "execution_count": 3,
     "metadata": {},
     "output_type": "execute_result"
    }
   ],
   "source": [
    "argn_mdls = {\n",
    "    tgt: unpickle(fl=f\"./model_{tgt}_v4_20.pkl.pkl\")\n",
    "    for tgt in [\"cyrus\", \"tyler\", \"ben\", \"waldo\", \"victor\", \"nomi\"]\n",
    "}\n",
    "argn_mdls[\"tyler\"]"
   ]
  },
  {
   "cell_type": "code",
   "execution_count": 4,
   "id": "003f644c",
   "metadata": {},
   "outputs": [],
   "source": [
    "argentina_no_ntr = EnsembleNeutralModel(\n",
    "    models=argn_mdls,\n",
    "    neutralisation_cols=None,\n",
    "    neutralisation_prop=None,\n",
    "    ensembling_fn=argentina_ensemble,\n",
    ")"
   ]
  },
  {
   "cell_type": "markdown",
   "id": "3b0b9e5d",
   "metadata": {},
   "source": [
    "## 2. Sanity check it works with both int8 and float32 features"
   ]
  },
  {
   "cell_type": "markdown",
   "id": "b7c8a95e",
   "metadata": {},
   "source": [
    "### 2.1 Script using int8 data"
   ]
  },
  {
   "cell_type": "code",
   "execution_count": 5,
   "id": "9e201b22",
   "metadata": {},
   "outputs": [
    {
     "name": "stdout",
     "output_type": "stream",
     "text": [
      "[2023-06-09 03:21:16,204] INFO - reading prediction data\n",
      "[2023-06-09 03:21:17,620] INFO - target file already exists\n",
      "[2023-06-09 03:21:17,623] INFO - download complete\n",
      "[2023-06-09 03:21:17,627] INFO - Downloaded live data to v4.1/live_502.parquet...\n",
      "[2023-06-09 03:21:18,101] INFO - generating predictions\n"
     ]
    },
    {
     "name": "stderr",
     "output_type": "stream",
     "text": [
      "Predicting for each model: 100%|█| 6/6 [00:21<00:00,  3.6"
     ]
    },
    {
     "name": "stdout",
     "output_type": "stream",
     "text": [
      "[2023-06-09 03:21:40,411] INFO - Ensembling predictions with argentina_ensemble(): ['pred_cyrus', 'pred_tyler', 'pred_ben', 'pred_waldo', 'pred_victor', 'pred_nomi']\n",
      "[2023-06-09 03:21:40,416] INFO - Taking the rank percent\n"
     ]
    },
    {
     "name": "stderr",
     "output_type": "stream",
     "text": [
      "\n"
     ]
    },
    {
     "data": {
      "text/html": [
       "<div>\n",
       "<style scoped>\n",
       "    .dataframe tbody tr th:only-of-type {\n",
       "        vertical-align: middle;\n",
       "    }\n",
       "\n",
       "    .dataframe tbody tr th {\n",
       "        vertical-align: top;\n",
       "    }\n",
       "\n",
       "    .dataframe thead th {\n",
       "        text-align: right;\n",
       "    }\n",
       "</style>\n",
       "<table border=\"1\" class=\"dataframe\">\n",
       "  <thead>\n",
       "    <tr style=\"text-align: right;\">\n",
       "      <th></th>\n",
       "      <th>prediction</th>\n",
       "    </tr>\n",
       "    <tr>\n",
       "      <th>id</th>\n",
       "      <th></th>\n",
       "    </tr>\n",
       "  </thead>\n",
       "  <tbody>\n",
       "    <tr>\n",
       "      <th>n000124edbee5931</th>\n",
       "      <td>0.840941</td>\n",
       "    </tr>\n",
       "    <tr>\n",
       "      <th>n0006fd05e5c5171</th>\n",
       "      <td>0.854737</td>\n",
       "    </tr>\n",
       "    <tr>\n",
       "      <th>n0008241720e02e0</th>\n",
       "      <td>0.102658</td>\n",
       "    </tr>\n",
       "    <tr>\n",
       "      <th>n002cecd72ff9453</th>\n",
       "      <td>0.095354</td>\n",
       "    </tr>\n",
       "    <tr>\n",
       "      <th>n0033b5ad4d2f9a0</th>\n",
       "      <td>0.730980</td>\n",
       "    </tr>\n",
       "    <tr>\n",
       "      <th>...</th>\n",
       "      <td>...</td>\n",
       "    </tr>\n",
       "    <tr>\n",
       "      <th>nffcf4bdcf971590</th>\n",
       "      <td>0.936093</td>\n",
       "    </tr>\n",
       "    <tr>\n",
       "      <th>nffd07e017f3def4</th>\n",
       "      <td>0.480219</td>\n",
       "    </tr>\n",
       "    <tr>\n",
       "      <th>nfff296ce15d1d13</th>\n",
       "      <td>0.683912</td>\n",
       "    </tr>\n",
       "    <tr>\n",
       "      <th>nfff505ecc1ec6ad</th>\n",
       "      <td>0.726922</td>\n",
       "    </tr>\n",
       "    <tr>\n",
       "      <th>nfffec6c8e6614ec</th>\n",
       "      <td>0.210590</td>\n",
       "    </tr>\n",
       "  </tbody>\n",
       "</table>\n",
       "<p>4929 rows × 1 columns</p>\n",
       "</div>"
      ],
      "text/plain": [
       "                  prediction\n",
       "id                          \n",
       "n000124edbee5931    0.840941\n",
       "n0006fd05e5c5171    0.854737\n",
       "n0008241720e02e0    0.102658\n",
       "n002cecd72ff9453    0.095354\n",
       "n0033b5ad4d2f9a0    0.730980\n",
       "...                      ...\n",
       "nffcf4bdcf971590    0.936093\n",
       "nffd07e017f3def4    0.480219\n",
       "nfff296ce15d1d13    0.683912\n",
       "nfff505ecc1ec6ad    0.726922\n",
       "nfffec6c8e6614ec    0.210590\n",
       "\n",
       "[4929 rows x 1 columns]"
      ]
     },
     "execution_count": 5,
     "metadata": {},
     "output_type": "execute_result"
    }
   ],
   "source": [
    "# Loads int8 data\n",
    "pred_arg_nontr_df = predict_script.predict(napi=numerapi.NumerAPI(), wrapped_model=argentina_no_ntr)\n",
    "pred_arg_nontr_df"
   ]
  },
  {
   "cell_type": "markdown",
   "id": "87d62d63",
   "metadata": {},
   "source": [
    "### 2.2 Load float data and verify model predicts identical results"
   ]
  },
  {
   "cell_type": "code",
   "execution_count": 6,
   "id": "76738401",
   "metadata": {},
   "outputs": [
    {
     "name": "stdout",
     "output_type": "stream",
     "text": [
      "[2023-06-09 03:21:41,244] INFO - target file already exists\n",
      "[2023-06-09 03:21:41,246] INFO - download complete\n"
     ]
    },
    {
     "name": "stderr",
     "output_type": "stream",
     "text": [
      "Predicting for each model: 100%|█| 6/6 [00:23<00:00,  3.9"
     ]
    },
    {
     "name": "stdout",
     "output_type": "stream",
     "text": [
      "[2023-06-09 03:22:05,263] INFO - Ensembling predictions with argentina_ensemble(): ['pred_cyrus', 'pred_tyler', 'pred_ben', 'pred_waldo', 'pred_victor', 'pred_nomi']\n",
      "[2023-06-09 03:22:05,267] INFO - Taking the rank percent\n"
     ]
    },
    {
     "name": "stderr",
     "output_type": "stream",
     "text": [
      "\n"
     ]
    },
    {
     "data": {
      "text/html": [
       "<div>\n",
       "<style scoped>\n",
       "    .dataframe tbody tr th:only-of-type {\n",
       "        vertical-align: middle;\n",
       "    }\n",
       "\n",
       "    .dataframe tbody tr th {\n",
       "        vertical-align: top;\n",
       "    }\n",
       "\n",
       "    .dataframe thead th {\n",
       "        text-align: right;\n",
       "    }\n",
       "</style>\n",
       "<table border=\"1\" class=\"dataframe\">\n",
       "  <thead>\n",
       "    <tr style=\"text-align: right;\">\n",
       "      <th></th>\n",
       "      <th>prediction</th>\n",
       "    </tr>\n",
       "    <tr>\n",
       "      <th>id</th>\n",
       "      <th></th>\n",
       "    </tr>\n",
       "  </thead>\n",
       "  <tbody>\n",
       "    <tr>\n",
       "      <th>n000124edbee5931</th>\n",
       "      <td>0.840941</td>\n",
       "    </tr>\n",
       "    <tr>\n",
       "      <th>n0006fd05e5c5171</th>\n",
       "      <td>0.854737</td>\n",
       "    </tr>\n",
       "    <tr>\n",
       "      <th>n0008241720e02e0</th>\n",
       "      <td>0.102658</td>\n",
       "    </tr>\n",
       "    <tr>\n",
       "      <th>n002cecd72ff9453</th>\n",
       "      <td>0.095354</td>\n",
       "    </tr>\n",
       "    <tr>\n",
       "      <th>n0033b5ad4d2f9a0</th>\n",
       "      <td>0.730980</td>\n",
       "    </tr>\n",
       "    <tr>\n",
       "      <th>...</th>\n",
       "      <td>...</td>\n",
       "    </tr>\n",
       "    <tr>\n",
       "      <th>nffcf4bdcf971590</th>\n",
       "      <td>0.936093</td>\n",
       "    </tr>\n",
       "    <tr>\n",
       "      <th>nffd07e017f3def4</th>\n",
       "      <td>0.480219</td>\n",
       "    </tr>\n",
       "    <tr>\n",
       "      <th>nfff296ce15d1d13</th>\n",
       "      <td>0.683912</td>\n",
       "    </tr>\n",
       "    <tr>\n",
       "      <th>nfff505ecc1ec6ad</th>\n",
       "      <td>0.726922</td>\n",
       "    </tr>\n",
       "    <tr>\n",
       "      <th>nfffec6c8e6614ec</th>\n",
       "      <td>0.210590</td>\n",
       "    </tr>\n",
       "  </tbody>\n",
       "</table>\n",
       "<p>4929 rows × 1 columns</p>\n",
       "</div>"
      ],
      "text/plain": [
       "                  prediction\n",
       "id                          \n",
       "n000124edbee5931    0.840941\n",
       "n0006fd05e5c5171    0.854737\n",
       "n0008241720e02e0    0.102658\n",
       "n002cecd72ff9453    0.095354\n",
       "n0033b5ad4d2f9a0    0.730980\n",
       "...                      ...\n",
       "nffcf4bdcf971590    0.936093\n",
       "nffd07e017f3def4    0.480219\n",
       "nfff296ce15d1d13    0.683912\n",
       "nfff505ecc1ec6ad    0.726922\n",
       "nfffec6c8e6614ec    0.210590\n",
       "\n",
       "[4929 rows x 1 columns]"
      ]
     },
     "execution_count": 6,
     "metadata": {},
     "output_type": "execute_result"
    }
   ],
   "source": [
    "napi = numerapi.NumerAPI()\n",
    "napi.download_dataset(\"v4.1/live.parquet\", \"live.parquet\")\n",
    "argentina_no_ntr.predict(pd.read_parquet(\"live.parquet\"))"
   ]
  },
  {
   "cell_type": "markdown",
   "id": "d699fb6a",
   "metadata": {},
   "source": [
    "## 3. Cloudpickle predict file for pickle uploads"
   ]
  },
  {
   "cell_type": "code",
   "execution_count": 7,
   "id": "c4189c0c",
   "metadata": {},
   "outputs": [],
   "source": [
    "pkl_fl = \"./models/pkl_upload_argentina_no_ntr.pkl\"\n",
    "with open(pkl_fl, \"wb\") as outfile:\n",
    "    cloudpickle.dump(obj=argentina_no_ntr.predict, file=outfile)"
   ]
  },
  {
   "cell_type": "markdown",
   "id": "795ef1d7",
   "metadata": {},
   "source": [
    "### Unpickle and verify predictions w float32 for pickle uploads"
   ]
  },
  {
   "cell_type": "code",
   "execution_count": 8,
   "id": "90c3dd3e",
   "metadata": {},
   "outputs": [
    {
     "name": "stderr",
     "output_type": "stream",
     "text": [
      "/var/folders/yb/bysg0gmj6sdb_006hzx07fjc0000gn/T/ipykernel_46707/3976362807.py:3: DeprecationWarning: `magic(...)` is deprecated since IPython 0.13 (warning added in 8.1), use run_line_magic(magic_name, parameter_s).\n",
      "  get_ipython().magic('reset -sf')\n"
     ]
    }
   ],
   "source": [
    "# Delete all local variables and start afresh\n",
    "from IPython import get_ipython\n",
    "get_ipython().magic('reset -sf')"
   ]
  },
  {
   "cell_type": "code",
   "execution_count": 9,
   "id": "ba0baf99",
   "metadata": {},
   "outputs": [],
   "source": [
    "import pickle\n",
    "import pandas as pd\n",
    "\n",
    "def unpickle(fl):\n",
    "    with open(fl, \"rb\") as infile:\n",
    "        return pickle.load(infile)"
   ]
  },
  {
   "cell_type": "code",
   "execution_count": 10,
   "id": "91cbd405",
   "metadata": {},
   "outputs": [],
   "source": [
    "pkl_fl = \"./models/pkl_upload_argentina_no_ntr.pkl\"\n",
    "arg_predict_from_pkl = unpickle(pkl_fl)"
   ]
  },
  {
   "cell_type": "code",
   "execution_count": 11,
   "id": "5ad20289",
   "metadata": {},
   "outputs": [
    {
     "name": "stderr",
     "output_type": "stream",
     "text": [
      "Predicting for each model: 100%|█| 6/6 [00:23<00:00,  3.9"
     ]
    },
    {
     "name": "stdout",
     "output_type": "stream",
     "text": [
      "[2023-06-09 03:22:37,626] INFO - Ensembling predictions with argentina_ensemble(): ['pred_cyrus', 'pred_tyler', 'pred_ben', 'pred_waldo', 'pred_victor', 'pred_nomi']\n",
      "[2023-06-09 03:22:37,630] INFO - Taking the rank percent\n"
     ]
    },
    {
     "name": "stderr",
     "output_type": "stream",
     "text": [
      "\n"
     ]
    },
    {
     "data": {
      "text/html": [
       "<div>\n",
       "<style scoped>\n",
       "    .dataframe tbody tr th:only-of-type {\n",
       "        vertical-align: middle;\n",
       "    }\n",
       "\n",
       "    .dataframe tbody tr th {\n",
       "        vertical-align: top;\n",
       "    }\n",
       "\n",
       "    .dataframe thead th {\n",
       "        text-align: right;\n",
       "    }\n",
       "</style>\n",
       "<table border=\"1\" class=\"dataframe\">\n",
       "  <thead>\n",
       "    <tr style=\"text-align: right;\">\n",
       "      <th></th>\n",
       "      <th>prediction</th>\n",
       "    </tr>\n",
       "    <tr>\n",
       "      <th>id</th>\n",
       "      <th></th>\n",
       "    </tr>\n",
       "  </thead>\n",
       "  <tbody>\n",
       "    <tr>\n",
       "      <th>n000124edbee5931</th>\n",
       "      <td>0.840941</td>\n",
       "    </tr>\n",
       "    <tr>\n",
       "      <th>n0006fd05e5c5171</th>\n",
       "      <td>0.854737</td>\n",
       "    </tr>\n",
       "    <tr>\n",
       "      <th>n0008241720e02e0</th>\n",
       "      <td>0.102658</td>\n",
       "    </tr>\n",
       "    <tr>\n",
       "      <th>n002cecd72ff9453</th>\n",
       "      <td>0.095354</td>\n",
       "    </tr>\n",
       "    <tr>\n",
       "      <th>n0033b5ad4d2f9a0</th>\n",
       "      <td>0.730980</td>\n",
       "    </tr>\n",
       "    <tr>\n",
       "      <th>...</th>\n",
       "      <td>...</td>\n",
       "    </tr>\n",
       "    <tr>\n",
       "      <th>nffcf4bdcf971590</th>\n",
       "      <td>0.936093</td>\n",
       "    </tr>\n",
       "    <tr>\n",
       "      <th>nffd07e017f3def4</th>\n",
       "      <td>0.480219</td>\n",
       "    </tr>\n",
       "    <tr>\n",
       "      <th>nfff296ce15d1d13</th>\n",
       "      <td>0.683912</td>\n",
       "    </tr>\n",
       "    <tr>\n",
       "      <th>nfff505ecc1ec6ad</th>\n",
       "      <td>0.726922</td>\n",
       "    </tr>\n",
       "    <tr>\n",
       "      <th>nfffec6c8e6614ec</th>\n",
       "      <td>0.210590</td>\n",
       "    </tr>\n",
       "  </tbody>\n",
       "</table>\n",
       "<p>4929 rows × 1 columns</p>\n",
       "</div>"
      ],
      "text/plain": [
       "                  prediction\n",
       "id                          \n",
       "n000124edbee5931    0.840941\n",
       "n0006fd05e5c5171    0.854737\n",
       "n0008241720e02e0    0.102658\n",
       "n002cecd72ff9453    0.095354\n",
       "n0033b5ad4d2f9a0    0.730980\n",
       "...                      ...\n",
       "nffcf4bdcf971590    0.936093\n",
       "nffd07e017f3def4    0.480219\n",
       "nfff296ce15d1d13    0.683912\n",
       "nfff505ecc1ec6ad    0.726922\n",
       "nfffec6c8e6614ec    0.210590\n",
       "\n",
       "[4929 rows x 1 columns]"
      ]
     },
     "execution_count": 11,
     "metadata": {},
     "output_type": "execute_result"
    }
   ],
   "source": [
    "arg_predict_from_pkl(pd.read_parquet(\"live.parquet\"))"
   ]
  },
  {
   "cell_type": "code",
   "execution_count": null,
   "id": "97de8705",
   "metadata": {},
   "outputs": [],
   "source": []
  }
 ],
 "metadata": {
  "kernelspec": {
   "display_name": "Python 3 (ipykernel)",
   "language": "python",
   "name": "python3"
  },
  "language_info": {
   "codemirror_mode": {
    "name": "ipython",
    "version": 3
   },
   "file_extension": ".py",
   "mimetype": "text/x-python",
   "name": "python",
   "nbconvert_exporter": "python",
   "pygments_lexer": "ipython3",
   "version": "3.10.11"
  }
 },
 "nbformat": 4,
 "nbformat_minor": 5
}
