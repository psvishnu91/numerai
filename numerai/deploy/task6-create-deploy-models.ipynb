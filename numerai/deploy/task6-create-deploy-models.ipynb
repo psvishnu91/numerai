{
 "cells": [
  {
   "cell_type": "code",
   "execution_count": 3,
   "id": "521b3b73",
   "metadata": {},
   "outputs": [
    {
     "data": {
      "text/html": [
       "<style>.container { width:100% !important; }</style>"
      ],
      "text/plain": [
       "<IPython.core.display.HTML object>"
      ]
     },
     "metadata": {},
     "output_type": "display_data"
    }
   ],
   "source": [
    "from IPython.display import display, HTML, clear_output\n",
    "display(HTML(\"<style>.container { width:100% !important; }</style>\"))"
   ]
  },
  {
   "cell_type": "code",
   "execution_count": 13,
   "id": "6f9b13b4",
   "metadata": {},
   "outputs": [
    {
     "name": "stdout",
     "output_type": "stream",
     "text": [
      "The autoreload extension is already loaded. To reload it, use:\n",
      "  %reload_ext autoreload\n"
     ]
    }
   ],
   "source": [
    "%load_ext autoreload\n",
    "%autoreload 2\n",
    "\n",
    "import pandas as pd\n",
    "import numpy as np\n",
    "import mlflow\n",
    "import predict as predict_script\n",
    "import deploy_model as dm\n",
    "\n",
    "import sys, os\n",
    "sys.path.append(os.path.abspath('..'))"
   ]
  },
  {
   "cell_type": "code",
   "execution_count": 14,
   "id": "26a2e0bd",
   "metadata": {},
   "outputs": [],
   "source": [
    "import utils as ut"
   ]
  },
  {
   "cell_type": "code",
   "execution_count": 15,
   "id": "c984774d",
   "metadata": {},
   "outputs": [],
   "source": [
    "import numerapi\n",
    "napi = numerapi.NumerAPI(verbosity=\"info\")"
   ]
  },
  {
   "cell_type": "code",
   "execution_count": 16,
   "id": "4aed4d86",
   "metadata": {},
   "outputs": [],
   "source": [
    "import logging\n",
    "logging.basicConfig(level=logging.INFO)"
   ]
  },
  {
   "cell_type": "code",
   "execution_count": 17,
   "id": "3b673e88",
   "metadata": {},
   "outputs": [],
   "source": [
    "import os\n",
    "\n",
    "\n",
    "TEST = True\n",
    "TMP_DOWNLOADS_DIR = \"./downloads/\"\n",
    "MODELS_DIR = \"./models/\"\n",
    "AWS_CREDS_FL = \"~/.aws/personal_credentials\"\n",
    "AWS_CREDS_LL_FL = \"~/.aws/credentials\"\n",
    "RUN_COLS = [\"run_id\", \"experiment_id\", \"artifact_uri\", \"metrics.sharpe\", \"params.target\", \"params.lgbm_params.num_leaves\"]\n",
    "EXPERIMENT_NAME = \"all_data_v2\"\n",
    "\n",
    "os.makedirs(TMP_DOWNLOADS_DIR, exist_ok=True)\n",
    "os.makedirs(MODELS_DIR, exist_ok=True)"
   ]
  },
  {
   "cell_type": "markdown",
   "id": "cc46edab",
   "metadata": {},
   "source": [
    "## 1. Sunshine model trained on all data"
   ]
  },
  {
   "cell_type": "code",
   "execution_count": 7,
   "id": "c83949b1",
   "metadata": {},
   "outputs": [],
   "source": [
    "SUNSHINE_MODEL_NAME = \"albania\""
   ]
  },
  {
   "cell_type": "markdown",
   "id": "5945fdf3",
   "metadata": {},
   "source": [
    "### 1.1 Download the model"
   ]
  },
  {
   "cell_type": "code",
   "execution_count": null,
   "id": "7b0a15ce",
   "metadata": {},
   "outputs": [],
   "source": [
    "mlflow.set_tracking_uri(\"http://18.218.213.146:5500\")"
   ]
  },
  {
   "cell_type": "code",
   "execution_count": null,
   "id": "8e4e8044",
   "metadata": {
    "scrolled": true
   },
   "outputs": [],
   "source": [
    "experiment_id = mlflow.get_experiment_by_name(EXPERIMENT_NAME).experiment_id\n",
    "experiment_id"
   ]
  },
  {
   "cell_type": "code",
   "execution_count": null,
   "id": "54c496fa",
   "metadata": {},
   "outputs": [],
   "source": [
    "run_df = mlflow.search_runs(experiment_id)\n",
    "run_df.columns"
   ]
  },
  {
   "cell_type": "code",
   "execution_count": null,
   "id": "22514227",
   "metadata": {},
   "outputs": [],
   "source": [
    "run_df[RUN_COLS]"
   ]
  },
  {
   "cell_type": "code",
   "execution_count": null,
   "id": "52974728",
   "metadata": {
    "scrolled": false
   },
   "outputs": [],
   "source": [
    "ut.download_from_s3_recursively(\n",
    "    s3_path=f\"s3://numerai-v1/mlflow/{experiment_id}/\",\n",
    "    local_path=TMP_DOWNLOADS_DIR,\n",
    "    aws_credential_fl=AWS_CREDS_FL,\n",
    "    dry_run=True,\n",
    "    flname=\"model.pkl\",\n",
    ")"
   ]
  },
  {
   "cell_type": "code",
   "execution_count": null,
   "id": "d36c3428",
   "metadata": {},
   "outputs": [],
   "source": [
    "if not TEST:\n",
    "    ut.download_from_s3_recursively(\n",
    "        s3_path=f\"s3://numerai-v1/mlflow/{experiment_id}/\",\n",
    "        local_path=TMP_DOWNLOADS_DIR,\n",
    "        aws_credential_fl=AWS_CREDS_FL,\n",
    "        flname=\"model.pkl\",\n",
    "    )"
   ]
  },
  {
   "cell_type": "code",
   "execution_count": null,
   "id": "5e8dc3c1",
   "metadata": {},
   "outputs": [],
   "source": [
    "def extract_target_name(model_path, suffix):\n",
    "    # ./downloads/d2414f840f844f68a08b1650087cbf8b/artifacts/all_data_traintest_target_tyler_v4_20_all_data_ff2c9e/model.pkl -> tyler_v4_20\n",
    "    return model_path[model_path.find(\"target\")+7:].split(\"/\")[0][:-len(suffix)-7]\n",
    "\n",
    "extract_target_name(\"./downloads/d2414f840f844f68a08b1650087cbf8b/artifacts/all_data_traintest_target_tyler_v4_20_all_data_ff2c9e/model.pkl\", suffix=\"_all_data\")"
   ]
  },
  {
   "cell_type": "code",
   "execution_count": null,
   "id": "872fc774",
   "metadata": {},
   "outputs": [],
   "source": [
    "# load the models up into a dict {\"model_{target_name}\": model} where target name\n",
    "# is the name is extracted from the model's path.\n",
    "# ./downloads/d2414f840f844f68a08b1650087cbf8b/artifacts/all_data_traintest_target_tyler_v4_20_all_data_ff2c9e/model.pkl -> tyler_v4_20\n",
    "# Iterate over all files in this folder recursively\n",
    "models = {}\n",
    "for root, dirs, files in os.walk(TMP_DOWNLOADS_DIR):\n",
    "    for file in files:\n",
    "        if file != \"model.pkl\":\n",
    "            continue\n",
    "        model_path = os.path.join(root, file)\n",
    "        print(model_path)\n",
    "        target_name = extract_target_name(model_path, suffix=\"_all_data\")\n",
    "        models[f\"model_{target_name}\"] = ut.unpickle_obj(model_path)"
   ]
  },
  {
   "cell_type": "markdown",
   "id": "0c365576",
   "metadata": {},
   "source": [
    "### 1.2 Create the ensemble model and test it"
   ]
  },
  {
   "cell_type": "code",
   "execution_count": null,
   "id": "7fac9baf",
   "metadata": {},
   "outputs": [],
   "source": [
    "ensemble_model = dm.MultiTargetNeutralModel(models=models)"
   ]
  },
  {
   "cell_type": "code",
   "execution_count": null,
   "id": "4c940d9c",
   "metadata": {},
   "outputs": [],
   "source": [
    "predict_script.predict(napi=napi, wrapped_model=ensemble_model)"
   ]
  },
  {
   "cell_type": "code",
   "execution_count": null,
   "id": "134af5b8",
   "metadata": {},
   "outputs": [],
   "source": [
    "ss_fl = os.path.join(MODELS_DIR, SUNSHINE_MODEL_NAME+\".pkl\")\n",
    "ut.pickle_obj(fl=ss_fl, obj=ensemble_model)\n",
    "print(ss_fl)"
   ]
  },
  {
   "cell_type": "code",
   "execution_count": null,
   "id": "aba49d57",
   "metadata": {},
   "outputs": [],
   "source": [
    "ut.upload_to_s3_recursively(\n",
    "    s3_path=\"s3://numerai-v1/deployed_models/\",\n",
    "    dir_path=\"./models/\",\n",
    "    aws_credential_fl=AWS_CREDS_FL,\n",
    "    dry_run=False,\n",
    ")"
   ]
  },
  {
   "cell_type": "markdown",
   "id": "4f3a8d55",
   "metadata": {},
   "source": [
    "## 2. ArgentinaCV: model trained to optimise cyrus\n",
    "\n",
    "Uses models trained on several temporal splits of the data. Average each target model's prediction. And combine the predictions of the models.\n",
    "1. `cyrus_20` - wt 0.7\n",
    "1. `ben_20` - 0.06\n",
    "1. `waldo_20` - 0.06\n",
    "1. `tyler_20` - 0.06\n",
    "1. `victor_20` - 0.06\n",
    "1. `nomi_20` - 0.06"
   ]
  },
  {
   "cell_type": "code",
   "execution_count": 8,
   "id": "f78299d9",
   "metadata": {},
   "outputs": [],
   "source": [
    "from os.path import join"
   ]
  },
  {
   "cell_type": "markdown",
   "id": "6f102ff2",
   "metadata": {},
   "source": [
    "#### WARNING: THE PATH BELOW IS FOR A LAMBDALABS MC"
   ]
  },
  {
   "cell_type": "code",
   "execution_count": 9,
   "id": "74f7a807",
   "metadata": {},
   "outputs": [],
   "source": [
    "PATH = \"/home/ubuntu/\""
   ]
  },
  {
   "cell_type": "code",
   "execution_count": 10,
   "id": "3c93c3a3",
   "metadata": {},
   "outputs": [
    {
     "name": "stdout",
     "output_type": "stream",
     "text": [
      "[2023-05-02 04:05:47]  Loading aws credenitals from ~/.aws/credentials...\n",
      "[2023-05-02 04:05:47]  Would have downloaded s3://numerai-v1/experiments/cv_tgts_vs_cyrus_2023-04-25_20h-20m/uploads/cv_models_metrics.pkl to /home/ubuntu/cv_models_metrics_0.pkl. But /home/ubuntu/cv_models_metrics_0.pkl exists. Will not download again ...\n",
      "[2023-05-02 04:05:55]  Loading aws credenitals from ~/.aws/credentials...\n",
      "[2023-05-02 04:05:55]  Would have downloaded s3://numerai-v1/experiments/cv_tgts_vs_cyrus_2023-04-25_22h-04m/uploads/cv_models_metrics.pkl to /home/ubuntu/cv_models_metrics_1.pkl. But /home/ubuntu/cv_models_metrics_1.pkl exists. Will not download again ...\n",
      "[2023-05-02 04:06:03]  Loading aws credenitals from ~/.aws/credentials...\n",
      "[2023-05-02 04:06:03]  Would have downloaded s3://numerai-v1/experiments/cv_tgts_vs_cyrus_2023-04-25_23h-15m/uploads/cv_models_metrics.pkl to /home/ubuntu/cv_models_metrics_2.pkl. But /home/ubuntu/cv_models_metrics_2.pkl exists. Will not download again ...\n"
     ]
    }
   ],
   "source": [
    "cv_models_map = {}\n",
    "for i, expt_nm in enumerate([\n",
    "    \"cv_tgts_vs_cyrus_2023-04-25_20h-20m\",\n",
    "    \"cv_tgts_vs_cyrus_2023-04-25_22h-04m\",\n",
    "    \"cv_tgts_vs_cyrus_2023-04-25_23h-15m\",\n",
    "]):\n",
    "    local_fl = join(PATH, f\"cv_models_metrics_{i}.pkl\")\n",
    "    ut.download_s3_file(\n",
    "        s3_path=f\"s3://numerai-v1/experiments/{expt_nm}/uploads/cv_models_metrics.pkl\",\n",
    "        local_path=local_fl,\n",
    "        aws_credential_fl='~/.aws/credentials',\n",
    "        aws_profile= 'default',\n",
    "        dry_run=False,\n",
    "    )\n",
    "    cv_models_map.update(\n",
    "        **ut.unpickle_obj(local_fl)\n",
    "    )"
   ]
  },
  {
   "cell_type": "code",
   "execution_count": 11,
   "id": "dfd5ee0f",
   "metadata": {},
   "outputs": [
    {
     "name": "stdout",
     "output_type": "stream",
     "text": [
      "['target_nomi_v4_20', 'target_nomi_v4_60', 'target_tyler_v4_20', 'target_tyler_v4_60', 'target_victor_v4_20', 'target_victor_v4_60', 'target_ralph_v4_20', 'target_ralph_v4_60', 'target_waldo_v4_20', 'target_waldo_v4_60', 'target_jerome_v4_20', 'target_jerome_v4_60', 'target_janet_v4_20', 'target_janet_v4_60', 'target_ben_v4_20', 'target_ben_v4_60', 'target_alan_v4_20', 'target_alan_v4_60', 'target_paul_v4_20', 'target_paul_v4_60', 'target_george_v4_20', 'target_george_v4_60', 'target_william_v4_20', 'target_william_v4_60', 'target_arthur_v4_20', 'target_arthur_v4_60', 'target_thomas_v4_20', 'target_thomas_v4_60', 'target_cyrus_v4_20', 'target_cyrus_v4_60', 'target_caroline_v4_20', 'target_caroline_v4_60', 'target_sam_v4_20', 'target_sam_v4_60', 'target_xerxes_v4_20', 'target_xerxes_v4_60']\n"
     ]
    }
   ],
   "source": [
    "print(list(cv_models_map))"
   ]
  },
  {
   "cell_type": "code",
   "execution_count": 12,
   "id": "ca6c75e1",
   "metadata": {},
   "outputs": [],
   "source": [
    "argentina_targets = [\n",
    "    \"target_cyrus_v4_20\",\n",
    "    \"target_nomi_v4_20\",\n",
    "    \"target_waldo_v4_20\",\n",
    "    \"target_ben_v4_20\",\n",
    "    \"target_victor_v4_20\",\n",
    "    \"target_tyler_v4_20\",\n",
    "]\n",
    "argentina_cv_models = {\n",
    "    f\"{tgt}_cv{cv}\": mdl\n",
    "    for tgt in argentina_targets\n",
    "    for cv, mdl in enumerate(cv_models_map[tgt][\"models\"])\n",
    "}"
   ]
  },
  {
   "cell_type": "code",
   "execution_count": 13,
   "id": "5c4558ec",
   "metadata": {
    "scrolled": false
   },
   "outputs": [
    {
     "data": {
      "text/plain": [
       "dict_keys(['target_cyrus_v4_20_cv0', 'target_cyrus_v4_20_cv1', 'target_cyrus_v4_20_cv2', 'target_nomi_v4_20_cv0', 'target_nomi_v4_20_cv1', 'target_nomi_v4_20_cv2', 'target_waldo_v4_20_cv0', 'target_waldo_v4_20_cv1', 'target_waldo_v4_20_cv2', 'target_ben_v4_20_cv0', 'target_ben_v4_20_cv1', 'target_ben_v4_20_cv2', 'target_victor_v4_20_cv0', 'target_victor_v4_20_cv1', 'target_victor_v4_20_cv2', 'target_tyler_v4_20_cv0', 'target_tyler_v4_20_cv1', 'target_tyler_v4_20_cv2'])"
      ]
     },
     "execution_count": 13,
     "metadata": {},
     "output_type": "execute_result"
    }
   ],
   "source": [
    "argentina_cv_models.keys()"
   ]
  },
  {
   "cell_type": "code",
   "execution_count": 15,
   "id": "08ef834d",
   "metadata": {},
   "outputs": [],
   "source": [
    "from predict import argentina_ensemble"
   ]
  },
  {
   "cell_type": "code",
   "execution_count": 16,
   "id": "4d393b8d",
   "metadata": {},
   "outputs": [
    {
     "name": "stdout",
     "output_type": "stream",
     "text": [
      "[2023-05-02 04:07:10,377] INFO - reading prediction data\n",
      "[2023-05-02 04:07:10,781] INFO - target file already exists\n",
      "[2023-05-02 04:07:10,782] INFO - download complete\n",
      "[2023-05-02 04:07:10,783] INFO - Downloaded live data to v4.1/live_474.parquet...\n",
      "[2023-05-02 04:07:10,945] INFO - generating predictions\n"
     ]
    },
    {
     "name": "stderr",
     "output_type": "stream",
     "text": [
      "Predicting for each model: 100%|██████████| 18/18 [00:09<00:00,  2.00it/s]"
     ]
    },
    {
     "name": "stdout",
     "output_type": "stream",
     "text": [
      "[2023-05-02 04:07:19,986] INFO - Ensembling predictions with argentina_ensemble(): ['pred_target_cyrus_v4_20_cv0', 'pred_target_cyrus_v4_20_cv1', 'pred_target_cyrus_v4_20_cv2', 'pred_target_nomi_v4_20_cv0', 'pred_target_nomi_v4_20_cv1', 'pred_target_nomi_v4_20_cv2', 'pred_target_waldo_v4_20_cv0', 'pred_target_waldo_v4_20_cv1', 'pred_target_waldo_v4_20_cv2', 'pred_target_ben_v4_20_cv0', 'pred_target_ben_v4_20_cv1', 'pred_target_ben_v4_20_cv2', 'pred_target_victor_v4_20_cv0', 'pred_target_victor_v4_20_cv1', 'pred_target_victor_v4_20_cv2', 'pred_target_tyler_v4_20_cv0', 'pred_target_tyler_v4_20_cv1', 'pred_target_tyler_v4_20_cv2']\n",
      "[2023-05-02 04:07:19,993] INFO - Taking the rank percent\n"
     ]
    },
    {
     "name": "stderr",
     "output_type": "stream",
     "text": [
      "\n"
     ]
    },
    {
     "data": {
      "text/html": [
       "<div>\n",
       "<style scoped>\n",
       "    .dataframe tbody tr th:only-of-type {\n",
       "        vertical-align: middle;\n",
       "    }\n",
       "\n",
       "    .dataframe tbody tr th {\n",
       "        vertical-align: top;\n",
       "    }\n",
       "\n",
       "    .dataframe thead th {\n",
       "        text-align: right;\n",
       "    }\n",
       "</style>\n",
       "<table border=\"1\" class=\"dataframe\">\n",
       "  <thead>\n",
       "    <tr style=\"text-align: right;\">\n",
       "      <th></th>\n",
       "      <th>prediction</th>\n",
       "    </tr>\n",
       "    <tr>\n",
       "      <th>id</th>\n",
       "      <th></th>\n",
       "    </tr>\n",
       "  </thead>\n",
       "  <tbody>\n",
       "    <tr>\n",
       "      <th>n001d4bff193beba</th>\n",
       "      <td>0.318530</td>\n",
       "    </tr>\n",
       "    <tr>\n",
       "      <th>n001dcc72fca06e0</th>\n",
       "      <td>0.611425</td>\n",
       "    </tr>\n",
       "    <tr>\n",
       "      <th>n00244b892d7c135</th>\n",
       "      <td>0.408155</td>\n",
       "    </tr>\n",
       "    <tr>\n",
       "      <th>n003333964d4a093</th>\n",
       "      <td>0.154824</td>\n",
       "    </tr>\n",
       "    <tr>\n",
       "      <th>n00353bdc5018f63</th>\n",
       "      <td>0.829633</td>\n",
       "    </tr>\n",
       "    <tr>\n",
       "      <th>...</th>\n",
       "      <td>...</td>\n",
       "    </tr>\n",
       "    <tr>\n",
       "      <th>nffc9d6ca15bd9e8</th>\n",
       "      <td>0.120711</td>\n",
       "    </tr>\n",
       "    <tr>\n",
       "      <th>nffcdc07844390ea</th>\n",
       "      <td>0.032499</td>\n",
       "    </tr>\n",
       "    <tr>\n",
       "      <th>nffd7c7d4bbe2065</th>\n",
       "      <td>0.156036</td>\n",
       "    </tr>\n",
       "    <tr>\n",
       "      <th>nffe5e4e5af3c3dd</th>\n",
       "      <td>0.014534</td>\n",
       "    </tr>\n",
       "    <tr>\n",
       "      <th>nffeba7dfd6c8dd2</th>\n",
       "      <td>0.381712</td>\n",
       "    </tr>\n",
       "  </tbody>\n",
       "</table>\n",
       "<p>4954 rows × 1 columns</p>\n",
       "</div>"
      ],
      "text/plain": [
       "                  prediction\n",
       "id                          \n",
       "n001d4bff193beba    0.318530\n",
       "n001dcc72fca06e0    0.611425\n",
       "n00244b892d7c135    0.408155\n",
       "n003333964d4a093    0.154824\n",
       "n00353bdc5018f63    0.829633\n",
       "...                      ...\n",
       "nffc9d6ca15bd9e8    0.120711\n",
       "nffcdc07844390ea    0.032499\n",
       "nffd7c7d4bbe2065    0.156036\n",
       "nffe5e4e5af3c3dd    0.014534\n",
       "nffeba7dfd6c8dd2    0.381712\n",
       "\n",
       "[4954 rows x 1 columns]"
      ]
     },
     "metadata": {},
     "output_type": "display_data"
    },
    {
     "data": {
      "text/html": [
       "<div>\n",
       "<style scoped>\n",
       "    .dataframe tbody tr th:only-of-type {\n",
       "        vertical-align: middle;\n",
       "    }\n",
       "\n",
       "    .dataframe tbody tr th {\n",
       "        vertical-align: top;\n",
       "    }\n",
       "\n",
       "    .dataframe thead th {\n",
       "        text-align: right;\n",
       "    }\n",
       "</style>\n",
       "<table border=\"1\" class=\"dataframe\">\n",
       "  <thead>\n",
       "    <tr style=\"text-align: right;\">\n",
       "      <th></th>\n",
       "      <th>prediction</th>\n",
       "    </tr>\n",
       "  </thead>\n",
       "  <tbody>\n",
       "    <tr>\n",
       "      <th>count</th>\n",
       "      <td>4954.000000</td>\n",
       "    </tr>\n",
       "    <tr>\n",
       "      <th>mean</th>\n",
       "      <td>0.500101</td>\n",
       "    </tr>\n",
       "    <tr>\n",
       "      <th>std</th>\n",
       "      <td>0.288704</td>\n",
       "    </tr>\n",
       "    <tr>\n",
       "      <th>min</th>\n",
       "      <td>0.000202</td>\n",
       "    </tr>\n",
       "    <tr>\n",
       "      <th>25%</th>\n",
       "      <td>0.250151</td>\n",
       "    </tr>\n",
       "    <tr>\n",
       "      <th>50%</th>\n",
       "      <td>0.500101</td>\n",
       "    </tr>\n",
       "    <tr>\n",
       "      <th>75%</th>\n",
       "      <td>0.750050</td>\n",
       "    </tr>\n",
       "    <tr>\n",
       "      <th>max</th>\n",
       "      <td>1.000000</td>\n",
       "    </tr>\n",
       "  </tbody>\n",
       "</table>\n",
       "</div>"
      ],
      "text/plain": [
       "        prediction\n",
       "count  4954.000000\n",
       "mean      0.500101\n",
       "std       0.288704\n",
       "min       0.000202\n",
       "25%       0.250151\n",
       "50%       0.500101\n",
       "75%       0.750050\n",
       "max       1.000000"
      ]
     },
     "metadata": {},
     "output_type": "display_data"
    }
   ],
   "source": [
    "argentinacv_no_neutralisation = dm.MultiTargetNeutralModel(\n",
    "    models=argentina_cv_models,\n",
    "    neutralisation_cols=None,\n",
    "    neutralisation_prop=None,\n",
    "    ensembling_fn=argentina_ensemble,\n",
    ")\n",
    "pred_argcv_nontr_df = predict_script.predict(napi=napi, wrapped_model=argentinacv_no_neutralisation)\n",
    "display(pred_argcv_nontr_df)\n",
    "display(pred_argcv_nontr_df.describe())"
   ]
  },
  {
   "cell_type": "code",
   "execution_count": 17,
   "id": "506e6860",
   "metadata": {},
   "outputs": [
    {
     "name": "stdout",
     "output_type": "stream",
     "text": [
      "[2023-05-02 04:07:20,019] INFO - reading prediction data\n",
      "[2023-05-02 04:07:20,375] INFO - target file already exists\n",
      "[2023-05-02 04:07:20,376] INFO - download complete\n",
      "[2023-05-02 04:07:20,379] INFO - Downloaded live data to v4.1/live_474.parquet...\n",
      "[2023-05-02 04:07:20,492] INFO - generating predictions\n"
     ]
    },
    {
     "name": "stderr",
     "output_type": "stream",
     "text": [
      "Predicting for each model: 100%|██████████| 18/18 [00:08<00:00,  2.01it/s]"
     ]
    },
    {
     "name": "stdout",
     "output_type": "stream",
     "text": [
      "[2023-05-02 04:07:29,450] INFO - Ensembling predictions with argentina_ensemble(): ['pred_target_cyrus_v4_20_cv0', 'pred_target_cyrus_v4_20_cv1', 'pred_target_cyrus_v4_20_cv2', 'pred_target_nomi_v4_20_cv0', 'pred_target_nomi_v4_20_cv1', 'pred_target_nomi_v4_20_cv2', 'pred_target_waldo_v4_20_cv0', 'pred_target_waldo_v4_20_cv1', 'pred_target_waldo_v4_20_cv2', 'pred_target_ben_v4_20_cv0', 'pred_target_ben_v4_20_cv1', 'pred_target_ben_v4_20_cv2', 'pred_target_victor_v4_20_cv0', 'pred_target_victor_v4_20_cv1', 'pred_target_victor_v4_20_cv2', 'pred_target_tyler_v4_20_cv0', 'pred_target_tyler_v4_20_cv1', 'pred_target_tyler_v4_20_cv2']\n",
      "[2023-05-02 04:07:29,454] INFO - Neutralising the predictions\n"
     ]
    },
    {
     "name": "stderr",
     "output_type": "stream",
     "text": [
      "\n",
      "100%|██████████| 1/1 [00:08<00:00,  8.61s/it]"
     ]
    },
    {
     "name": "stdout",
     "output_type": "stream",
     "text": [
      "[2023-05-02 04:07:38,071] INFO - Taking the rank percent\n"
     ]
    },
    {
     "name": "stderr",
     "output_type": "stream",
     "text": [
      "\n"
     ]
    },
    {
     "data": {
      "text/html": [
       "<div>\n",
       "<style scoped>\n",
       "    .dataframe tbody tr th:only-of-type {\n",
       "        vertical-align: middle;\n",
       "    }\n",
       "\n",
       "    .dataframe tbody tr th {\n",
       "        vertical-align: top;\n",
       "    }\n",
       "\n",
       "    .dataframe thead th {\n",
       "        text-align: right;\n",
       "    }\n",
       "</style>\n",
       "<table border=\"1\" class=\"dataframe\">\n",
       "  <thead>\n",
       "    <tr style=\"text-align: right;\">\n",
       "      <th></th>\n",
       "      <th>prediction</th>\n",
       "    </tr>\n",
       "    <tr>\n",
       "      <th>id</th>\n",
       "      <th></th>\n",
       "    </tr>\n",
       "  </thead>\n",
       "  <tbody>\n",
       "    <tr>\n",
       "      <th>n001d4bff193beba</th>\n",
       "      <td>0.293904</td>\n",
       "    </tr>\n",
       "    <tr>\n",
       "      <th>n001dcc72fca06e0</th>\n",
       "      <td>0.405531</td>\n",
       "    </tr>\n",
       "    <tr>\n",
       "      <th>n00244b892d7c135</th>\n",
       "      <td>0.426524</td>\n",
       "    </tr>\n",
       "    <tr>\n",
       "      <th>n003333964d4a093</th>\n",
       "      <td>0.067824</td>\n",
       "    </tr>\n",
       "    <tr>\n",
       "      <th>n00353bdc5018f63</th>\n",
       "      <td>0.861324</td>\n",
       "    </tr>\n",
       "    <tr>\n",
       "      <th>...</th>\n",
       "      <td>...</td>\n",
       "    </tr>\n",
       "    <tr>\n",
       "      <th>nffc9d6ca15bd9e8</th>\n",
       "      <td>0.138474</td>\n",
       "    </tr>\n",
       "    <tr>\n",
       "      <th>nffcdc07844390ea</th>\n",
       "      <td>0.036940</td>\n",
       "    </tr>\n",
       "    <tr>\n",
       "      <th>nffd7c7d4bbe2065</th>\n",
       "      <td>0.085386</td>\n",
       "    </tr>\n",
       "    <tr>\n",
       "      <th>nffe5e4e5af3c3dd</th>\n",
       "      <td>0.012919</td>\n",
       "    </tr>\n",
       "    <tr>\n",
       "      <th>nffeba7dfd6c8dd2</th>\n",
       "      <td>0.424102</td>\n",
       "    </tr>\n",
       "  </tbody>\n",
       "</table>\n",
       "<p>4954 rows × 1 columns</p>\n",
       "</div>"
      ],
      "text/plain": [
       "                  prediction\n",
       "id                          \n",
       "n001d4bff193beba    0.293904\n",
       "n001dcc72fca06e0    0.405531\n",
       "n00244b892d7c135    0.426524\n",
       "n003333964d4a093    0.067824\n",
       "n00353bdc5018f63    0.861324\n",
       "...                      ...\n",
       "nffc9d6ca15bd9e8    0.138474\n",
       "nffcdc07844390ea    0.036940\n",
       "nffd7c7d4bbe2065    0.085386\n",
       "nffe5e4e5af3c3dd    0.012919\n",
       "nffeba7dfd6c8dd2    0.424102\n",
       "\n",
       "[4954 rows x 1 columns]"
      ]
     },
     "metadata": {},
     "output_type": "display_data"
    },
    {
     "data": {
      "text/html": [
       "<div>\n",
       "<style scoped>\n",
       "    .dataframe tbody tr th:only-of-type {\n",
       "        vertical-align: middle;\n",
       "    }\n",
       "\n",
       "    .dataframe tbody tr th {\n",
       "        vertical-align: top;\n",
       "    }\n",
       "\n",
       "    .dataframe thead th {\n",
       "        text-align: right;\n",
       "    }\n",
       "</style>\n",
       "<table border=\"1\" class=\"dataframe\">\n",
       "  <thead>\n",
       "    <tr style=\"text-align: right;\">\n",
       "      <th></th>\n",
       "      <th>prediction</th>\n",
       "    </tr>\n",
       "  </thead>\n",
       "  <tbody>\n",
       "    <tr>\n",
       "      <th>count</th>\n",
       "      <td>4954.000000</td>\n",
       "    </tr>\n",
       "    <tr>\n",
       "      <th>mean</th>\n",
       "      <td>0.500101</td>\n",
       "    </tr>\n",
       "    <tr>\n",
       "      <th>std</th>\n",
       "      <td>0.288704</td>\n",
       "    </tr>\n",
       "    <tr>\n",
       "      <th>min</th>\n",
       "      <td>0.000202</td>\n",
       "    </tr>\n",
       "    <tr>\n",
       "      <th>25%</th>\n",
       "      <td>0.250151</td>\n",
       "    </tr>\n",
       "    <tr>\n",
       "      <th>50%</th>\n",
       "      <td>0.500101</td>\n",
       "    </tr>\n",
       "    <tr>\n",
       "      <th>75%</th>\n",
       "      <td>0.750050</td>\n",
       "    </tr>\n",
       "    <tr>\n",
       "      <th>max</th>\n",
       "      <td>1.000000</td>\n",
       "    </tr>\n",
       "  </tbody>\n",
       "</table>\n",
       "</div>"
      ],
      "text/plain": [
       "        prediction\n",
       "count  4954.000000\n",
       "mean      0.500101\n",
       "std       0.288704\n",
       "min       0.000202\n",
       "25%       0.250151\n",
       "50%       0.500101\n",
       "75%       0.750050\n",
       "max       1.000000"
      ]
     },
     "metadata": {},
     "output_type": "display_data"
    }
   ],
   "source": [
    "argentinacv_ntr_50p = dm.MultiTargetNeutralModel(\n",
    "    models=argentina_cv_models,\n",
    "    neutralisation_cols=\"all\",\n",
    "    neutralisation_prop=0.5,\n",
    "    ensembling_fn=argentina_ensemble,\n",
    ")\n",
    "pred_argcv_ntr50_df = predict_script.predict(napi=napi, wrapped_model=argentinacv_ntr_50p)\n",
    "display(pred_argcv_ntr50_df)\n",
    "display(pred_argcv_ntr50_df.describe())"
   ]
  },
  {
   "cell_type": "markdown",
   "id": "c3c3af24",
   "metadata": {},
   "source": [
    "#### Does neutralisation do anything?"
   ]
  },
  {
   "cell_type": "code",
   "execution_count": 18,
   "id": "1837607c",
   "metadata": {},
   "outputs": [
    {
     "data": {
      "text/plain": [
       "prediction    0.000807\n",
       "dtype: float64"
      ]
     },
     "execution_count": 18,
     "metadata": {},
     "output_type": "execute_result"
    }
   ],
   "source": [
    "(pred_argcv_ntr50_df==pred_argcv_nontr_df).mean()"
   ]
  },
  {
   "cell_type": "markdown",
   "id": "05913eb0",
   "metadata": {},
   "source": [
    "### Pickle and save the neutralised and non neutralised models"
   ]
  },
  {
   "cell_type": "code",
   "execution_count": 19,
   "id": "af0a14f1",
   "metadata": {},
   "outputs": [
    {
     "name": "stdout",
     "output_type": "stream",
     "text": [
      "./models/argentinacv_no_ntr.pkl\n",
      "./models/argentinacv_no_ntr.pkl\n"
     ]
    }
   ],
   "source": [
    "argentinacv_nontr_fl = os.path.join(MODELS_DIR, \"argentinacv_no_ntr.pkl\")\n",
    "ut.pickle_obj(fl=argentinacv_nontr_fl, obj=argentinacv_no_neutralisation)\n",
    "print(argentinacv_nontr_fl)\n",
    "\n",
    "argentinacv_ntr50p_fl = os.path.join(MODELS_DIR, \"argentinacv_ntr50p.pkl\")\n",
    "ut.pickle_obj(fl=argentinacv_ntr50p_fl, obj=argentinacv_ntr_50p)\n",
    "print(argentinacv_nontr_fl)"
   ]
  },
  {
   "cell_type": "code",
   "execution_count": 20,
   "id": "d13d4e9f",
   "metadata": {},
   "outputs": [
    {
     "name": "stdout",
     "output_type": "stream",
     "text": [
      "[2023-05-02 04:08:02]  Loading aws credenitals from ~/.aws/credentials...\n",
      "[2023-05-02 04:08:02]  Uploading ./models/argentinacv_no_ntr.pkl to s3://numerai-v1/deployed_models/argentinacv_no_ntr.pkl\n",
      "[2023-05-02 04:08:19]  Uploading ./models/argentinacv_ntr50p.pkl to s3://numerai-v1/deployed_models/argentinacv_ntr50p.pkl\n",
      "[2023-05-02 04:08:37]  Uploading ./models/argentina_no_ntr.pkl to s3://numerai-v1/deployed_models/argentina_no_ntr.pkl\n"
     ]
    }
   ],
   "source": [
    "ut.upload_to_s3_recursively(\n",
    "    s3_path=\"s3://numerai-v1/deployed_models/\",\n",
    "    dir_path=\"./models/\",\n",
    "    aws_credential_fl=AWS_CREDS_LL_FL,\n",
    "    dry_run=False,\n",
    ")"
   ]
  },
  {
   "cell_type": "markdown",
   "id": "42eecbe4",
   "metadata": {},
   "source": [
    "## 3. Argentina: model trained to optimise cyrus\n",
    "\n",
    "Uses models trained on the entire daaset. Combine predictions with\n",
    "1. `cyrus_20` - wt 0.7\n",
    "1. `ben_20` - 0.06\n",
    "1. `waldo_20` - 0.06\n",
    "1. `tyler_20` - 0.06\n",
    "1. `victor_20` - 0.06\n",
    "1. `nomi_20` - 0.06"
   ]
  },
  {
   "cell_type": "code",
   "execution_count": 8,
   "id": "4835d180",
   "metadata": {},
   "outputs": [
    {
     "name": "stdout",
     "output_type": "stream",
     "text": [
      "download: s3://numerai-v1/experiments/train_on_all_data_2023-05-01_16h-10m/models/model_cyrus_v4_20.pkl.pkl to ./model_cyrus_v4_20.pkl.pkl\n",
      "download: s3://numerai-v1/experiments/train_on_all_data_2023-05-01_16h-10m/models/model_nomi_v4_20.pkl.pkl to ./model_nomi_v4_20.pkl.pkl\n",
      "download: s3://numerai-v1/experiments/train_on_all_data_2023-05-01_16h-10m/models/model_victor_v4_20.pkl.pkl to ./model_victor_v4_20.pkl.pkl\n",
      "download: s3://numerai-v1/experiments/train_on_all_data_2023-05-01_16h-10m/models/model_ben_v4_20.pkl.pkl to ./model_ben_v4_20.pkl.pkl\n",
      "download: s3://numerai-v1/experiments/train_on_all_data_2023-05-01_16h-10m/models/model_tyler_v4_20.pkl.pkl to ./model_tyler_v4_20.pkl.pkl\n",
      "download: s3://numerai-v1/experiments/train_on_all_data_2023-05-01_16h-10m/models/model_waldo_v4_20.pkl.pkl to ./model_waldo_v4_20.pkl.pkl\n"
     ]
    }
   ],
   "source": [
    "!aws s3 cp --recursive s3://numerai-v1/experiments/train_on_all_data_2023-05-01_16h-10m/models/ ./"
   ]
  },
  {
   "cell_type": "code",
   "execution_count": 21,
   "id": "b1f2fc53",
   "metadata": {},
   "outputs": [],
   "source": [
    "argn_mdls = {\n",
    "    tgt: ut.unpickle_obj(fl=f\"./model_{tgt}_v4_20.pkl.pkl\")\n",
    "    for tgt in [\"cyrus\", \"tyler\", \"ben\", \"waldo\", \"victor\", \"nomi\"]\n",
    "}"
   ]
  },
  {
   "cell_type": "code",
   "execution_count": 25,
   "id": "cd1ea84e",
   "metadata": {},
   "outputs": [
    {
     "name": "stdout",
     "output_type": "stream",
     "text": [
      "[2023-05-02 04:09:22,666] INFO - reading prediction data\n",
      "[2023-05-02 04:09:23,026] INFO - target file already exists\n",
      "[2023-05-02 04:09:23,027] INFO - download complete\n",
      "[2023-05-02 04:09:23,030] INFO - Downloaded live data to v4.1/live_474.parquet...\n",
      "[2023-05-02 04:09:23,174] INFO - generating predictions\n"
     ]
    },
    {
     "name": "stderr",
     "output_type": "stream",
     "text": [
      "Predicting for each model: 100%|██████████| 6/6 [00:07<00:00,  1.25s/it]"
     ]
    },
    {
     "name": "stdout",
     "output_type": "stream",
     "text": [
      "[2023-05-02 04:09:30,670] INFO - Ensembling predictions with argentina_ensemble(): ['pred_cyrus', 'pred_tyler', 'pred_ben', 'pred_waldo', 'pred_victor', 'pred_nomi']\n",
      "[2023-05-02 04:09:30,674] INFO - Taking the rank percent\n"
     ]
    },
    {
     "name": "stderr",
     "output_type": "stream",
     "text": [
      "\n"
     ]
    },
    {
     "data": {
      "text/html": [
       "<div>\n",
       "<style scoped>\n",
       "    .dataframe tbody tr th:only-of-type {\n",
       "        vertical-align: middle;\n",
       "    }\n",
       "\n",
       "    .dataframe tbody tr th {\n",
       "        vertical-align: top;\n",
       "    }\n",
       "\n",
       "    .dataframe thead th {\n",
       "        text-align: right;\n",
       "    }\n",
       "</style>\n",
       "<table border=\"1\" class=\"dataframe\">\n",
       "  <thead>\n",
       "    <tr style=\"text-align: right;\">\n",
       "      <th></th>\n",
       "      <th>prediction</th>\n",
       "    </tr>\n",
       "    <tr>\n",
       "      <th>id</th>\n",
       "      <th></th>\n",
       "    </tr>\n",
       "  </thead>\n",
       "  <tbody>\n",
       "    <tr>\n",
       "      <th>n001d4bff193beba</th>\n",
       "      <td>0.068228</td>\n",
       "    </tr>\n",
       "    <tr>\n",
       "      <th>n001dcc72fca06e0</th>\n",
       "      <td>0.265644</td>\n",
       "    </tr>\n",
       "    <tr>\n",
       "      <th>n00244b892d7c135</th>\n",
       "      <td>0.383932</td>\n",
       "    </tr>\n",
       "    <tr>\n",
       "      <th>n003333964d4a093</th>\n",
       "      <td>0.620509</td>\n",
       "    </tr>\n",
       "    <tr>\n",
       "      <th>n00353bdc5018f63</th>\n",
       "      <td>0.922285</td>\n",
       "    </tr>\n",
       "    <tr>\n",
       "      <th>...</th>\n",
       "      <td>...</td>\n",
       "    </tr>\n",
       "    <tr>\n",
       "      <th>nffc9d6ca15bd9e8</th>\n",
       "      <td>0.158660</td>\n",
       "    </tr>\n",
       "    <tr>\n",
       "      <th>nffcdc07844390ea</th>\n",
       "      <td>0.107590</td>\n",
       "    </tr>\n",
       "    <tr>\n",
       "      <th>nffd7c7d4bbe2065</th>\n",
       "      <td>0.054905</td>\n",
       "    </tr>\n",
       "    <tr>\n",
       "      <th>nffe5e4e5af3c3dd</th>\n",
       "      <td>0.435204</td>\n",
       "    </tr>\n",
       "    <tr>\n",
       "      <th>nffeba7dfd6c8dd2</th>\n",
       "      <td>0.714978</td>\n",
       "    </tr>\n",
       "  </tbody>\n",
       "</table>\n",
       "<p>4954 rows × 1 columns</p>\n",
       "</div>"
      ],
      "text/plain": [
       "                  prediction\n",
       "id                          \n",
       "n001d4bff193beba    0.068228\n",
       "n001dcc72fca06e0    0.265644\n",
       "n00244b892d7c135    0.383932\n",
       "n003333964d4a093    0.620509\n",
       "n00353bdc5018f63    0.922285\n",
       "...                      ...\n",
       "nffc9d6ca15bd9e8    0.158660\n",
       "nffcdc07844390ea    0.107590\n",
       "nffd7c7d4bbe2065    0.054905\n",
       "nffe5e4e5af3c3dd    0.435204\n",
       "nffeba7dfd6c8dd2    0.714978\n",
       "\n",
       "[4954 rows x 1 columns]"
      ]
     },
     "metadata": {},
     "output_type": "display_data"
    },
    {
     "data": {
      "text/html": [
       "<div>\n",
       "<style scoped>\n",
       "    .dataframe tbody tr th:only-of-type {\n",
       "        vertical-align: middle;\n",
       "    }\n",
       "\n",
       "    .dataframe tbody tr th {\n",
       "        vertical-align: top;\n",
       "    }\n",
       "\n",
       "    .dataframe thead th {\n",
       "        text-align: right;\n",
       "    }\n",
       "</style>\n",
       "<table border=\"1\" class=\"dataframe\">\n",
       "  <thead>\n",
       "    <tr style=\"text-align: right;\">\n",
       "      <th></th>\n",
       "      <th>prediction</th>\n",
       "    </tr>\n",
       "  </thead>\n",
       "  <tbody>\n",
       "    <tr>\n",
       "      <th>count</th>\n",
       "      <td>4954.000000</td>\n",
       "    </tr>\n",
       "    <tr>\n",
       "      <th>mean</th>\n",
       "      <td>0.500101</td>\n",
       "    </tr>\n",
       "    <tr>\n",
       "      <th>std</th>\n",
       "      <td>0.288704</td>\n",
       "    </tr>\n",
       "    <tr>\n",
       "      <th>min</th>\n",
       "      <td>0.000202</td>\n",
       "    </tr>\n",
       "    <tr>\n",
       "      <th>25%</th>\n",
       "      <td>0.250151</td>\n",
       "    </tr>\n",
       "    <tr>\n",
       "      <th>50%</th>\n",
       "      <td>0.500101</td>\n",
       "    </tr>\n",
       "    <tr>\n",
       "      <th>75%</th>\n",
       "      <td>0.750050</td>\n",
       "    </tr>\n",
       "    <tr>\n",
       "      <th>max</th>\n",
       "      <td>1.000000</td>\n",
       "    </tr>\n",
       "  </tbody>\n",
       "</table>\n",
       "</div>"
      ],
      "text/plain": [
       "        prediction\n",
       "count  4954.000000\n",
       "mean      0.500101\n",
       "std       0.288704\n",
       "min       0.000202\n",
       "25%       0.250151\n",
       "50%       0.500101\n",
       "75%       0.750050\n",
       "max       1.000000"
      ]
     },
     "metadata": {},
     "output_type": "display_data"
    }
   ],
   "source": [
    "argentina_no_ntr = dm.MultiTargetNeutralModel(\n",
    "    models=argn_mdls,\n",
    "    neutralisation_cols=None,\n",
    "    neutralisation_prop=None,\n",
    "    ensembling_fn=argentina_ensemble,\n",
    ")\n",
    "pred_arg_nontr_df = predict_script.predict(napi=napi, wrapped_model=argentina_no_ntr)\n",
    "display(pred_arg_nontr_df)\n",
    "display(pred_arg_nontr_df.describe())"
   ]
  },
  {
   "cell_type": "code",
   "execution_count": 27,
   "id": "b710c4ff",
   "metadata": {},
   "outputs": [
    {
     "name": "stdout",
     "output_type": "stream",
     "text": [
      "[2023-05-02 04:09:41,357] INFO - reading prediction data\n",
      "[2023-05-02 04:09:41,771] INFO - target file already exists\n",
      "[2023-05-02 04:09:41,778] INFO - download complete\n",
      "[2023-05-02 04:09:41,780] INFO - Downloaded live data to v4.1/live_474.parquet...\n",
      "[2023-05-02 04:09:41,922] INFO - generating predictions\n"
     ]
    },
    {
     "name": "stderr",
     "output_type": "stream",
     "text": [
      "Predicting for each model: 100%|██████████| 6/6 [00:07<00:00,  1.26s/it]"
     ]
    },
    {
     "name": "stdout",
     "output_type": "stream",
     "text": [
      "[2023-05-02 04:09:49,488] INFO - Ensembling predictions with argentina_ensemble(): ['pred_cyrus', 'pred_tyler', 'pred_ben', 'pred_waldo', 'pred_victor', 'pred_nomi']\n",
      "[2023-05-02 04:09:49,492] INFO - Neutralising the predictions\n"
     ]
    },
    {
     "name": "stderr",
     "output_type": "stream",
     "text": [
      "\n",
      "100%|██████████| 1/1 [00:09<00:00,  9.64s/it]"
     ]
    },
    {
     "name": "stdout",
     "output_type": "stream",
     "text": [
      "[2023-05-02 04:09:59,135] INFO - Taking the rank percent\n"
     ]
    },
    {
     "name": "stderr",
     "output_type": "stream",
     "text": [
      "\n"
     ]
    },
    {
     "data": {
      "text/html": [
       "<div>\n",
       "<style scoped>\n",
       "    .dataframe tbody tr th:only-of-type {\n",
       "        vertical-align: middle;\n",
       "    }\n",
       "\n",
       "    .dataframe tbody tr th {\n",
       "        vertical-align: top;\n",
       "    }\n",
       "\n",
       "    .dataframe thead th {\n",
       "        text-align: right;\n",
       "    }\n",
       "</style>\n",
       "<table border=\"1\" class=\"dataframe\">\n",
       "  <thead>\n",
       "    <tr style=\"text-align: right;\">\n",
       "      <th></th>\n",
       "      <th>prediction</th>\n",
       "    </tr>\n",
       "    <tr>\n",
       "      <th>id</th>\n",
       "      <th></th>\n",
       "    </tr>\n",
       "  </thead>\n",
       "  <tbody>\n",
       "    <tr>\n",
       "      <th>n001d4bff193beba</th>\n",
       "      <td>0.106782</td>\n",
       "    </tr>\n",
       "    <tr>\n",
       "      <th>n001dcc72fca06e0</th>\n",
       "      <td>0.239806</td>\n",
       "    </tr>\n",
       "    <tr>\n",
       "      <th>n00244b892d7c135</th>\n",
       "      <td>0.462858</td>\n",
       "    </tr>\n",
       "    <tr>\n",
       "      <th>n003333964d4a093</th>\n",
       "      <td>0.473960</td>\n",
       "    </tr>\n",
       "    <tr>\n",
       "      <th>n00353bdc5018f63</th>\n",
       "      <td>0.811869</td>\n",
       "    </tr>\n",
       "    <tr>\n",
       "      <th>...</th>\n",
       "      <td>...</td>\n",
       "    </tr>\n",
       "    <tr>\n",
       "      <th>nffc9d6ca15bd9e8</th>\n",
       "      <td>0.177432</td>\n",
       "    </tr>\n",
       "    <tr>\n",
       "      <th>nffcdc07844390ea</th>\n",
       "      <td>0.108599</td>\n",
       "    </tr>\n",
       "    <tr>\n",
       "      <th>nffd7c7d4bbe2065</th>\n",
       "      <td>0.045418</td>\n",
       "    </tr>\n",
       "    <tr>\n",
       "      <th>nffe5e4e5af3c3dd</th>\n",
       "      <td>0.348203</td>\n",
       "    </tr>\n",
       "    <tr>\n",
       "      <th>nffeba7dfd6c8dd2</th>\n",
       "      <td>0.823173</td>\n",
       "    </tr>\n",
       "  </tbody>\n",
       "</table>\n",
       "<p>4954 rows × 1 columns</p>\n",
       "</div>"
      ],
      "text/plain": [
       "                  prediction\n",
       "id                          \n",
       "n001d4bff193beba    0.106782\n",
       "n001dcc72fca06e0    0.239806\n",
       "n00244b892d7c135    0.462858\n",
       "n003333964d4a093    0.473960\n",
       "n00353bdc5018f63    0.811869\n",
       "...                      ...\n",
       "nffc9d6ca15bd9e8    0.177432\n",
       "nffcdc07844390ea    0.108599\n",
       "nffd7c7d4bbe2065    0.045418\n",
       "nffe5e4e5af3c3dd    0.348203\n",
       "nffeba7dfd6c8dd2    0.823173\n",
       "\n",
       "[4954 rows x 1 columns]"
      ]
     },
     "metadata": {},
     "output_type": "display_data"
    },
    {
     "data": {
      "text/html": [
       "<div>\n",
       "<style scoped>\n",
       "    .dataframe tbody tr th:only-of-type {\n",
       "        vertical-align: middle;\n",
       "    }\n",
       "\n",
       "    .dataframe tbody tr th {\n",
       "        vertical-align: top;\n",
       "    }\n",
       "\n",
       "    .dataframe thead th {\n",
       "        text-align: right;\n",
       "    }\n",
       "</style>\n",
       "<table border=\"1\" class=\"dataframe\">\n",
       "  <thead>\n",
       "    <tr style=\"text-align: right;\">\n",
       "      <th></th>\n",
       "      <th>prediction</th>\n",
       "    </tr>\n",
       "  </thead>\n",
       "  <tbody>\n",
       "    <tr>\n",
       "      <th>count</th>\n",
       "      <td>4954.000000</td>\n",
       "    </tr>\n",
       "    <tr>\n",
       "      <th>mean</th>\n",
       "      <td>0.500101</td>\n",
       "    </tr>\n",
       "    <tr>\n",
       "      <th>std</th>\n",
       "      <td>0.288704</td>\n",
       "    </tr>\n",
       "    <tr>\n",
       "      <th>min</th>\n",
       "      <td>0.000202</td>\n",
       "    </tr>\n",
       "    <tr>\n",
       "      <th>25%</th>\n",
       "      <td>0.250151</td>\n",
       "    </tr>\n",
       "    <tr>\n",
       "      <th>50%</th>\n",
       "      <td>0.500101</td>\n",
       "    </tr>\n",
       "    <tr>\n",
       "      <th>75%</th>\n",
       "      <td>0.750050</td>\n",
       "    </tr>\n",
       "    <tr>\n",
       "      <th>max</th>\n",
       "      <td>1.000000</td>\n",
       "    </tr>\n",
       "  </tbody>\n",
       "</table>\n",
       "</div>"
      ],
      "text/plain": [
       "        prediction\n",
       "count  4954.000000\n",
       "mean      0.500101\n",
       "std       0.288704\n",
       "min       0.000202\n",
       "25%       0.250151\n",
       "50%       0.500101\n",
       "75%       0.750050\n",
       "max       1.000000"
      ]
     },
     "metadata": {},
     "output_type": "display_data"
    }
   ],
   "source": [
    "argentina_ntr_50p = dm.MultiTargetNeutralModel(\n",
    "    models=argn_mdls,\n",
    "    neutralisation_cols=\"all\",\n",
    "    neutralisation_prop=0.5,\n",
    "    ensembling_fn=argentina_ensemble,\n",
    ")\n",
    "pred_arg_ntr50_df = predict_script.predict(napi=napi, wrapped_model=argentina_ntr_50p)\n",
    "display(pred_arg_ntr50_df)\n",
    "display(pred_arg_ntr50_df.describe())"
   ]
  },
  {
   "cell_type": "code",
   "execution_count": 28,
   "id": "b0c55ec8",
   "metadata": {},
   "outputs": [
    {
     "data": {
      "text/plain": [
       "prediction    0.00222\n",
       "dtype: float64"
      ]
     },
     "execution_count": 28,
     "metadata": {},
     "output_type": "execute_result"
    }
   ],
   "source": [
    "(pred_arg_ntr50_df==pred_arg_nontr_df).mean()"
   ]
  },
  {
   "cell_type": "code",
   "execution_count": 30,
   "id": "5c60e15c",
   "metadata": {},
   "outputs": [
    {
     "name": "stdout",
     "output_type": "stream",
     "text": [
      "./models/argentina_no_ntr.pkl\n",
      "./models/argentina_no_ntr.pkl\n"
     ]
    }
   ],
   "source": [
    "argentina_nontr_fl = os.path.join(MODELS_DIR, \"argentina_no_ntr.pkl\")\n",
    "ut.pickle_obj(fl=argentina_nontr_fl, obj=argentina_no_ntr)\n",
    "print(argentina_nontr_fl)\n",
    "\n",
    "argentina_ntr50p_fl = os.path.join(MODELS_DIR, \"argentina_ntr50p.pkl\")\n",
    "ut.pickle_obj(fl=argentina_ntr50p_fl, obj=argentina_ntr_50p)\n",
    "print(argentina_nontr_fl)"
   ]
  },
  {
   "cell_type": "code",
   "execution_count": 32,
   "id": "8d669c15",
   "metadata": {},
   "outputs": [
    {
     "name": "stdout",
     "output_type": "stream",
     "text": [
      "upload: models/argentina_no_ntr.pkl to s3://numerai-v1/deployed_models/argentina_no_ntr.pkl\n",
      "upload: models/argentina_ntr50p.pkl to s3://numerai-v1/deployed_models/argentina_ntr50p.pkl\n"
     ]
    }
   ],
   "source": [
    "!aws s3 sync ./models/  s3://numerai-v1/deployed_models/"
   ]
  },
  {
   "cell_type": "markdown",
   "id": "3751170d",
   "metadata": {},
   "source": [
    "### Predicting"
   ]
  },
  {
   "cell_type": "code",
   "execution_count": 33,
   "id": "bb8e3903",
   "metadata": {},
   "outputs": [],
   "source": [
    "import pandas as pd\n",
    "import pickle\n",
    "import numerapi\n",
    "import numpy as np"
   ]
  },
  {
   "cell_type": "code",
   "execution_count": 34,
   "id": "1201b2a1",
   "metadata": {},
   "outputs": [],
   "source": [
    "napi = numerapi.NumerAPI()"
   ]
  },
  {
   "cell_type": "code",
   "execution_count": 35,
   "id": "93e613c9",
   "metadata": {},
   "outputs": [],
   "source": [
    "model = pickle.load(open(\"./models/argentina_no_ntr.pkl\", \"rb\"))"
   ]
  },
  {
   "cell_type": "code",
   "execution_count": 36,
   "id": "f8ea9bbe",
   "metadata": {},
   "outputs": [
    {
     "name": "stdout",
     "output_type": "stream",
     "text": [
      "download: s3://numerai-data-gen/v3-staging/tournament/v4.1/encrypted/live_int8/20230525.parquet to ./20230525.parquet\n"
     ]
    }
   ],
   "source": [
    "!aws s3 cp --profile hfprod s3://numerai-data-gen/v3-staging/tournament/v4.1/encrypted/live_int8/20230525.parquet ./"
   ]
  },
  {
   "cell_type": "code",
   "execution_count": 37,
   "id": "957dd75d",
   "metadata": {},
   "outputs": [],
   "source": [
    "live_data = pd.read_parquet(\"./20230525.parquet\")"
   ]
  },
  {
   "cell_type": "code",
   "execution_count": 38,
   "id": "b6cda2d9",
   "metadata": {},
   "outputs": [],
   "source": [
    "feats = [c for c in live_data.columns if c.startswith(\"feature\")]\n",
    "live_data[feats] = live_data[feats].astype(np.int8)"
   ]
  },
  {
   "cell_type": "code",
   "execution_count": 39,
   "id": "8fc4d673",
   "metadata": {},
   "outputs": [
    {
     "name": "stderr",
     "output_type": "stream",
     "text": [
      "Predicting for each model: 100%|███████| 6/6 [00:21<00:00,  3.64s/it]\n",
      "2023-05-28 15:49:06,898 INFO deploy_model: Ensembling predictions with argentina_ensemble(): ['pred_cyrus', 'pred_tyler', 'pred_ben', 'pred_waldo', 'pred_victor', 'pred_nomi']\n",
      "2023-05-28 15:49:06,904 INFO deploy_model: Taking the rank percent\n"
     ]
    }
   ],
   "source": [
    "df = model.predict(live_data)"
   ]
  },
  {
   "cell_type": "code",
   "execution_count": 40,
   "id": "636ad4ae",
   "metadata": {},
   "outputs": [
    {
     "data": {
      "text/html": [
       "<div>\n",
       "<style scoped>\n",
       "    .dataframe tbody tr th:only-of-type {\n",
       "        vertical-align: middle;\n",
       "    }\n",
       "\n",
       "    .dataframe tbody tr th {\n",
       "        vertical-align: top;\n",
       "    }\n",
       "\n",
       "    .dataframe thead th {\n",
       "        text-align: right;\n",
       "    }\n",
       "</style>\n",
       "<table border=\"1\" class=\"dataframe\">\n",
       "  <thead>\n",
       "    <tr style=\"text-align: right;\">\n",
       "      <th></th>\n",
       "      <th>prediction</th>\n",
       "    </tr>\n",
       "    <tr>\n",
       "      <th>id</th>\n",
       "      <th></th>\n",
       "    </tr>\n",
       "  </thead>\n",
       "  <tbody>\n",
       "    <tr>\n",
       "      <th>n000c055120eb41e</th>\n",
       "      <td>0.680842</td>\n",
       "    </tr>\n",
       "    <tr>\n",
       "      <th>n00270efaea14e80</th>\n",
       "      <td>0.164439</td>\n",
       "    </tr>\n",
       "    <tr>\n",
       "      <th>n0028328b39c018b</th>\n",
       "      <td>0.318145</td>\n",
       "    </tr>\n",
       "    <tr>\n",
       "      <th>n002d212adf91a75</th>\n",
       "      <td>0.964358</td>\n",
       "    </tr>\n",
       "    <tr>\n",
       "      <th>n003790fb6e38334</th>\n",
       "      <td>0.531794</td>\n",
       "    </tr>\n",
       "    <tr>\n",
       "      <th>...</th>\n",
       "      <td>...</td>\n",
       "    </tr>\n",
       "    <tr>\n",
       "      <th>nff96f4d02aab0ba</th>\n",
       "      <td>0.296476</td>\n",
       "    </tr>\n",
       "    <tr>\n",
       "      <th>nffa9ae4ab3e7db0</th>\n",
       "      <td>0.594573</td>\n",
       "    </tr>\n",
       "    <tr>\n",
       "      <th>nffc43f16748182f</th>\n",
       "      <td>0.875253</td>\n",
       "    </tr>\n",
       "    <tr>\n",
       "      <th>nfff1bb4e5ba9473</th>\n",
       "      <td>0.122114</td>\n",
       "    </tr>\n",
       "    <tr>\n",
       "      <th>nfff4b7214e4f4ba</th>\n",
       "      <td>0.848522</td>\n",
       "    </tr>\n",
       "  </tbody>\n",
       "</table>\n",
       "<p>4938 rows × 1 columns</p>\n",
       "</div>"
      ],
      "text/plain": [
       "                  prediction\n",
       "id                          \n",
       "n000c055120eb41e    0.680842\n",
       "n00270efaea14e80    0.164439\n",
       "n0028328b39c018b    0.318145\n",
       "n002d212adf91a75    0.964358\n",
       "n003790fb6e38334    0.531794\n",
       "...                      ...\n",
       "nff96f4d02aab0ba    0.296476\n",
       "nffa9ae4ab3e7db0    0.594573\n",
       "nffc43f16748182f    0.875253\n",
       "nfff1bb4e5ba9473    0.122114\n",
       "nfff4b7214e4f4ba    0.848522\n",
       "\n",
       "[4938 rows x 1 columns]"
      ]
     },
     "execution_count": 40,
     "metadata": {},
     "output_type": "execute_result"
    }
   ],
   "source": [
    "df"
   ]
  },
  {
   "cell_type": "code",
   "execution_count": 41,
   "id": "bed48975",
   "metadata": {},
   "outputs": [
    {
     "name": "stdout",
     "output_type": "stream",
     "text": [
      "                  prediction\n",
      "id                          \n",
      "n000c055120eb41e    0.680842\n",
      "n00270efaea14e80    0.164439\n",
      "n0028328b39c018b    0.318145\n",
      "n002d212adf91a75    0.964358\n",
      "n003790fb6e38334    0.531794\n",
      "...                      ...\n",
      "nff96f4d02aab0ba    0.296476\n",
      "nffa9ae4ab3e7db0    0.594573\n",
      "nffc43f16748182f    0.875253\n",
      "nfff1bb4e5ba9473    0.122114\n",
      "nfff4b7214e4f4ba    0.848522\n",
      "\n",
      "[4938 rows x 1 columns]\n"
     ]
    }
   ],
   "source": [
    "print(df)"
   ]
  },
  {
   "cell_type": "markdown",
   "id": "1b0ccb38",
   "metadata": {},
   "source": [
    "## Optional Sanity checks"
   ]
  },
  {
   "cell_type": "code",
   "execution_count": 84,
   "id": "98f2fb9c",
   "metadata": {},
   "outputs": [
    {
     "data": {
      "text/plain": [
       "502"
      ]
     },
     "execution_count": 84,
     "metadata": {},
     "output_type": "execute_result"
    }
   ],
   "source": [
    "import numerapi\n",
    "from predict import argentina_ensemble\n",
    "napi = numerapi.NumerAPI()\n",
    "\n",
    "rnd = napi.get_current_round()\n",
    "rnd"
   ]
  },
  {
   "cell_type": "code",
   "execution_count": 70,
   "id": "0fbb3c73",
   "metadata": {},
   "outputs": [
    {
     "name": "stdout",
     "output_type": "stream",
     "text": [
      "[2023-06-08 13:32:33,894] INFO - target file already exists\n",
      "[2023-06-08 13:32:33,897] INFO - download complete\n"
     ]
    },
    {
     "data": {
      "text/plain": [
       "'v4.1/live_502.parquet'"
      ]
     },
     "execution_count": 70,
     "metadata": {},
     "output_type": "execute_result"
    }
   ],
   "source": [
    "live_fl = f\"v4.1/live_{rnd}.parquet\"\n",
    "napi.download_dataset(\"v4.1/live_int8.parquet\", live_fl)"
   ]
  },
  {
   "cell_type": "code",
   "execution_count": 45,
   "id": "31ee4f79",
   "metadata": {},
   "outputs": [],
   "source": [
    "def fmt_features(df, features, int8: bool, impute: bool):\n",
    "    if impute:\n",
    "        df.loc[:, features] = df.loc[:, features].fillna(\n",
    "            df[features].median(skipna=True)\n",
    "        )\n",
    "    df[\"era\"] = df[\"era\"].astype(int)\n",
    "    df.loc[:, features] = df.loc[:, features].astype(np.int8 if int8 else np.float32)\n",
    "    return df"
   ]
  },
  {
   "cell_type": "code",
   "execution_count": 28,
   "id": "a00401a2",
   "metadata": {},
   "outputs": [],
   "source": [
    "argn_mdls = {\n",
    "    tgt: ut.unpickle_obj(fl=f\"./model_{tgt}_v4_20.pkl.pkl\")\n",
    "    for tgt in [\"cyrus\", \"tyler\", \"ben\", \"waldo\", \"victor\", \"nomi\"]\n",
    "}"
   ]
  },
  {
   "cell_type": "code",
   "execution_count": 77,
   "id": "80c9bf5b",
   "metadata": {},
   "outputs": [],
   "source": [
    "features = argn_mdls[\"cyrus\"].feature_name_\n",
    "full_df = pd.read_parquet(\n",
    "    live_fl,\n",
    "    columns=features + [\"era\"],\n",
    ")\n",
    "full_df[\"era\"] = rnd\n",
    "df = fmt_features(\n",
    "    df=full_df,\n",
    "    features=features,\n",
    "    int8=True,\n",
    "    impute=True,\n",
    ")\n",
    "df_feat = df[features].astype(np.int8)"
   ]
  },
  {
   "cell_type": "code",
   "execution_count": 79,
   "id": "9a5ba251",
   "metadata": {},
   "outputs": [
    {
     "data": {
      "text/html": [
       "<div>\n",
       "<style scoped>\n",
       "    .dataframe tbody tr th:only-of-type {\n",
       "        vertical-align: middle;\n",
       "    }\n",
       "\n",
       "    .dataframe tbody tr th {\n",
       "        vertical-align: top;\n",
       "    }\n",
       "\n",
       "    .dataframe thead th {\n",
       "        text-align: right;\n",
       "    }\n",
       "</style>\n",
       "<table border=\"1\" class=\"dataframe\">\n",
       "  <thead>\n",
       "    <tr style=\"text-align: right;\">\n",
       "      <th></th>\n",
       "      <th>feature_honoured_observational_balaamite</th>\n",
       "      <th>feature_polaroid_vadose_quinze</th>\n",
       "      <th>feature_untidy_withdrawn_bargeman</th>\n",
       "      <th>feature_genuine_kyphotic_trehala</th>\n",
       "      <th>feature_unenthralled_sportful_schoolhouse</th>\n",
       "      <th>feature_divulsive_explanatory_ideologue</th>\n",
       "      <th>feature_ichthyotic_roofed_yeshiva</th>\n",
       "      <th>feature_waggly_outlandish_carbonisation</th>\n",
       "      <th>feature_floriated_amish_sprite</th>\n",
       "      <th>feature_iconoclastic_parietal_agonist</th>\n",
       "      <th>...</th>\n",
       "      <th>feature_aged_phylacterical_pusey</th>\n",
       "      <th>feature_revisional_ablutionary_depression</th>\n",
       "      <th>feature_yokelish_metapsychological_lunt</th>\n",
       "      <th>feature_circumlunar_chaliced_seam</th>\n",
       "      <th>feature_squallier_prototypal_dammar</th>\n",
       "      <th>feature_cognate_elating_ravine</th>\n",
       "      <th>feature_ethiopian_carminative_retentivity</th>\n",
       "      <th>feature_alabamian_outlying_monitoring</th>\n",
       "      <th>feature_byzantine_festinate_mannose</th>\n",
       "      <th>feature_sleetier_sea_potamogeton</th>\n",
       "    </tr>\n",
       "    <tr>\n",
       "      <th>id</th>\n",
       "      <th></th>\n",
       "      <th></th>\n",
       "      <th></th>\n",
       "      <th></th>\n",
       "      <th></th>\n",
       "      <th></th>\n",
       "      <th></th>\n",
       "      <th></th>\n",
       "      <th></th>\n",
       "      <th></th>\n",
       "      <th></th>\n",
       "      <th></th>\n",
       "      <th></th>\n",
       "      <th></th>\n",
       "      <th></th>\n",
       "      <th></th>\n",
       "      <th></th>\n",
       "      <th></th>\n",
       "      <th></th>\n",
       "      <th></th>\n",
       "      <th></th>\n",
       "    </tr>\n",
       "  </thead>\n",
       "  <tbody>\n",
       "    <tr>\n",
       "      <th>n000124edbee5931</th>\n",
       "      <td>3</td>\n",
       "      <td>2</td>\n",
       "      <td>0</td>\n",
       "      <td>4</td>\n",
       "      <td>0</td>\n",
       "      <td>3</td>\n",
       "      <td>1</td>\n",
       "      <td>0</td>\n",
       "      <td>2</td>\n",
       "      <td>2</td>\n",
       "      <td>...</td>\n",
       "      <td>0</td>\n",
       "      <td>0</td>\n",
       "      <td>0</td>\n",
       "      <td>0</td>\n",
       "      <td>0</td>\n",
       "      <td>0</td>\n",
       "      <td>3</td>\n",
       "      <td>3</td>\n",
       "      <td>0</td>\n",
       "      <td>0</td>\n",
       "    </tr>\n",
       "    <tr>\n",
       "      <th>n0006fd05e5c5171</th>\n",
       "      <td>4</td>\n",
       "      <td>4</td>\n",
       "      <td>4</td>\n",
       "      <td>4</td>\n",
       "      <td>0</td>\n",
       "      <td>4</td>\n",
       "      <td>4</td>\n",
       "      <td>1</td>\n",
       "      <td>2</td>\n",
       "      <td>0</td>\n",
       "      <td>...</td>\n",
       "      <td>4</td>\n",
       "      <td>4</td>\n",
       "      <td>4</td>\n",
       "      <td>4</td>\n",
       "      <td>4</td>\n",
       "      <td>4</td>\n",
       "      <td>4</td>\n",
       "      <td>4</td>\n",
       "      <td>4</td>\n",
       "      <td>4</td>\n",
       "    </tr>\n",
       "  </tbody>\n",
       "</table>\n",
       "<p>2 rows × 1586 columns</p>\n",
       "</div>"
      ],
      "text/plain": [
       "                  feature_honoured_observational_balaamite   \n",
       "id                                                           \n",
       "n000124edbee5931                                         3  \\\n",
       "n0006fd05e5c5171                                         4   \n",
       "\n",
       "                  feature_polaroid_vadose_quinze   \n",
       "id                                                 \n",
       "n000124edbee5931                               2  \\\n",
       "n0006fd05e5c5171                               4   \n",
       "\n",
       "                  feature_untidy_withdrawn_bargeman   \n",
       "id                                                    \n",
       "n000124edbee5931                                  0  \\\n",
       "n0006fd05e5c5171                                  4   \n",
       "\n",
       "                  feature_genuine_kyphotic_trehala   \n",
       "id                                                   \n",
       "n000124edbee5931                                 4  \\\n",
       "n0006fd05e5c5171                                 4   \n",
       "\n",
       "                  feature_unenthralled_sportful_schoolhouse   \n",
       "id                                                            \n",
       "n000124edbee5931                                          0  \\\n",
       "n0006fd05e5c5171                                          0   \n",
       "\n",
       "                  feature_divulsive_explanatory_ideologue   \n",
       "id                                                          \n",
       "n000124edbee5931                                        3  \\\n",
       "n0006fd05e5c5171                                        4   \n",
       "\n",
       "                  feature_ichthyotic_roofed_yeshiva   \n",
       "id                                                    \n",
       "n000124edbee5931                                  1  \\\n",
       "n0006fd05e5c5171                                  4   \n",
       "\n",
       "                  feature_waggly_outlandish_carbonisation   \n",
       "id                                                          \n",
       "n000124edbee5931                                        0  \\\n",
       "n0006fd05e5c5171                                        1   \n",
       "\n",
       "                  feature_floriated_amish_sprite   \n",
       "id                                                 \n",
       "n000124edbee5931                               2  \\\n",
       "n0006fd05e5c5171                               2   \n",
       "\n",
       "                  feature_iconoclastic_parietal_agonist  ...   \n",
       "id                                                       ...   \n",
       "n000124edbee5931                                      2  ...  \\\n",
       "n0006fd05e5c5171                                      0  ...   \n",
       "\n",
       "                  feature_aged_phylacterical_pusey   \n",
       "id                                                   \n",
       "n000124edbee5931                                 0  \\\n",
       "n0006fd05e5c5171                                 4   \n",
       "\n",
       "                  feature_revisional_ablutionary_depression   \n",
       "id                                                            \n",
       "n000124edbee5931                                          0  \\\n",
       "n0006fd05e5c5171                                          4   \n",
       "\n",
       "                  feature_yokelish_metapsychological_lunt   \n",
       "id                                                          \n",
       "n000124edbee5931                                        0  \\\n",
       "n0006fd05e5c5171                                        4   \n",
       "\n",
       "                  feature_circumlunar_chaliced_seam   \n",
       "id                                                    \n",
       "n000124edbee5931                                  0  \\\n",
       "n0006fd05e5c5171                                  4   \n",
       "\n",
       "                  feature_squallier_prototypal_dammar   \n",
       "id                                                      \n",
       "n000124edbee5931                                    0  \\\n",
       "n0006fd05e5c5171                                    4   \n",
       "\n",
       "                  feature_cognate_elating_ravine   \n",
       "id                                                 \n",
       "n000124edbee5931                               0  \\\n",
       "n0006fd05e5c5171                               4   \n",
       "\n",
       "                  feature_ethiopian_carminative_retentivity   \n",
       "id                                                            \n",
       "n000124edbee5931                                          3  \\\n",
       "n0006fd05e5c5171                                          4   \n",
       "\n",
       "                  feature_alabamian_outlying_monitoring   \n",
       "id                                                        \n",
       "n000124edbee5931                                      3  \\\n",
       "n0006fd05e5c5171                                      4   \n",
       "\n",
       "                  feature_byzantine_festinate_mannose   \n",
       "id                                                      \n",
       "n000124edbee5931                                    0  \\\n",
       "n0006fd05e5c5171                                    4   \n",
       "\n",
       "                  feature_sleetier_sea_potamogeton  \n",
       "id                                                  \n",
       "n000124edbee5931                                 0  \n",
       "n0006fd05e5c5171                                 4  \n",
       "\n",
       "[2 rows x 1586 columns]"
      ]
     },
     "execution_count": 79,
     "metadata": {},
     "output_type": "execute_result"
    }
   ],
   "source": [
    "df_feat.head(2)"
   ]
  },
  {
   "cell_type": "code",
   "execution_count": 80,
   "id": "255428d9",
   "metadata": {},
   "outputs": [
    {
     "name": "stdout",
     "output_type": "stream",
     "text": [
      "Unwrapped cyrus\n"
     ]
    },
    {
     "data": {
      "text/html": [
       "<div>\n",
       "<style scoped>\n",
       "    .dataframe tbody tr th:only-of-type {\n",
       "        vertical-align: middle;\n",
       "    }\n",
       "\n",
       "    .dataframe tbody tr th {\n",
       "        vertical-align: top;\n",
       "    }\n",
       "\n",
       "    .dataframe thead th {\n",
       "        text-align: right;\n",
       "    }\n",
       "</style>\n",
       "<table border=\"1\" class=\"dataframe\">\n",
       "  <thead>\n",
       "    <tr style=\"text-align: right;\">\n",
       "      <th></th>\n",
       "      <th>0</th>\n",
       "    </tr>\n",
       "  </thead>\n",
       "  <tbody>\n",
       "    <tr>\n",
       "      <th>0</th>\n",
       "      <td>0.840941</td>\n",
       "    </tr>\n",
       "    <tr>\n",
       "      <th>1</th>\n",
       "      <td>0.854737</td>\n",
       "    </tr>\n",
       "    <tr>\n",
       "      <th>2</th>\n",
       "      <td>0.102658</td>\n",
       "    </tr>\n",
       "    <tr>\n",
       "      <th>3</th>\n",
       "      <td>0.095354</td>\n",
       "    </tr>\n",
       "    <tr>\n",
       "      <th>4</th>\n",
       "      <td>0.730980</td>\n",
       "    </tr>\n",
       "    <tr>\n",
       "      <th>...</th>\n",
       "      <td>...</td>\n",
       "    </tr>\n",
       "    <tr>\n",
       "      <th>4924</th>\n",
       "      <td>0.936093</td>\n",
       "    </tr>\n",
       "    <tr>\n",
       "      <th>4925</th>\n",
       "      <td>0.480219</td>\n",
       "    </tr>\n",
       "    <tr>\n",
       "      <th>4926</th>\n",
       "      <td>0.683912</td>\n",
       "    </tr>\n",
       "    <tr>\n",
       "      <th>4927</th>\n",
       "      <td>0.726922</td>\n",
       "    </tr>\n",
       "    <tr>\n",
       "      <th>4928</th>\n",
       "      <td>0.210590</td>\n",
       "    </tr>\n",
       "  </tbody>\n",
       "</table>\n",
       "<p>4929 rows × 1 columns</p>\n",
       "</div>"
      ],
      "text/plain": [
       "             0\n",
       "0     0.840941\n",
       "1     0.854737\n",
       "2     0.102658\n",
       "3     0.095354\n",
       "4     0.730980\n",
       "...        ...\n",
       "4924  0.936093\n",
       "4925  0.480219\n",
       "4926  0.683912\n",
       "4927  0.726922\n",
       "4928  0.210590\n",
       "\n",
       "[4929 rows x 1 columns]"
      ]
     },
     "execution_count": 80,
     "metadata": {},
     "output_type": "execute_result"
    }
   ],
   "source": [
    "print(\"Unwrapped cyrus\")\n",
    "pd.Series(argn_mdls[\"cyrus\"].predict(df_feat)).rank(pct=True).to_frame()"
   ]
  },
  {
   "cell_type": "code",
   "execution_count": 52,
   "id": "7940043d",
   "metadata": {},
   "outputs": [],
   "source": [
    "wrapped_cyrus = dm.MultiTargetNeutralModel(\n",
    "    models={\"cyrus\": argn_mdls[\"cyrus\"]},\n",
    "    neutralisation_cols=None,\n",
    "    neutralisation_prop=None,\n",
    ")"
   ]
  },
  {
   "cell_type": "code",
   "execution_count": 81,
   "id": "9d49bd74",
   "metadata": {},
   "outputs": [
    {
     "name": "stderr",
     "output_type": "stream",
     "text": [
      "Predicting for each model: 100%|████████████████████████████████████████████████████| 1/1 [00:04<00:00,  4.94s/it]"
     ]
    },
    {
     "name": "stdout",
     "output_type": "stream",
     "text": [
      "[2023-06-08 13:35:29,510] INFO - Ensembling predictions with mean(): ['pred_cyrus']\n",
      "[2023-06-08 13:35:29,515] INFO - Taking the rank percent\n"
     ]
    },
    {
     "name": "stderr",
     "output_type": "stream",
     "text": [
      "\n"
     ]
    },
    {
     "data": {
      "text/html": [
       "<div>\n",
       "<style scoped>\n",
       "    .dataframe tbody tr th:only-of-type {\n",
       "        vertical-align: middle;\n",
       "    }\n",
       "\n",
       "    .dataframe tbody tr th {\n",
       "        vertical-align: top;\n",
       "    }\n",
       "\n",
       "    .dataframe thead th {\n",
       "        text-align: right;\n",
       "    }\n",
       "</style>\n",
       "<table border=\"1\" class=\"dataframe\">\n",
       "  <thead>\n",
       "    <tr style=\"text-align: right;\">\n",
       "      <th></th>\n",
       "      <th>prediction</th>\n",
       "    </tr>\n",
       "    <tr>\n",
       "      <th>id</th>\n",
       "      <th></th>\n",
       "    </tr>\n",
       "  </thead>\n",
       "  <tbody>\n",
       "    <tr>\n",
       "      <th>n000124edbee5931</th>\n",
       "      <td>0.840941</td>\n",
       "    </tr>\n",
       "    <tr>\n",
       "      <th>n0006fd05e5c5171</th>\n",
       "      <td>0.854737</td>\n",
       "    </tr>\n",
       "    <tr>\n",
       "      <th>n0008241720e02e0</th>\n",
       "      <td>0.102658</td>\n",
       "    </tr>\n",
       "    <tr>\n",
       "      <th>n002cecd72ff9453</th>\n",
       "      <td>0.095354</td>\n",
       "    </tr>\n",
       "    <tr>\n",
       "      <th>n0033b5ad4d2f9a0</th>\n",
       "      <td>0.730980</td>\n",
       "    </tr>\n",
       "    <tr>\n",
       "      <th>...</th>\n",
       "      <td>...</td>\n",
       "    </tr>\n",
       "    <tr>\n",
       "      <th>nffcf4bdcf971590</th>\n",
       "      <td>0.936093</td>\n",
       "    </tr>\n",
       "    <tr>\n",
       "      <th>nffd07e017f3def4</th>\n",
       "      <td>0.480219</td>\n",
       "    </tr>\n",
       "    <tr>\n",
       "      <th>nfff296ce15d1d13</th>\n",
       "      <td>0.683912</td>\n",
       "    </tr>\n",
       "    <tr>\n",
       "      <th>nfff505ecc1ec6ad</th>\n",
       "      <td>0.726922</td>\n",
       "    </tr>\n",
       "    <tr>\n",
       "      <th>nfffec6c8e6614ec</th>\n",
       "      <td>0.210590</td>\n",
       "    </tr>\n",
       "  </tbody>\n",
       "</table>\n",
       "<p>4929 rows × 1 columns</p>\n",
       "</div>"
      ],
      "text/plain": [
       "                  prediction\n",
       "id                          \n",
       "n000124edbee5931    0.840941\n",
       "n0006fd05e5c5171    0.854737\n",
       "n0008241720e02e0    0.102658\n",
       "n002cecd72ff9453    0.095354\n",
       "n0033b5ad4d2f9a0    0.730980\n",
       "...                      ...\n",
       "nffcf4bdcf971590    0.936093\n",
       "nffd07e017f3def4    0.480219\n",
       "nfff296ce15d1d13    0.683912\n",
       "nfff505ecc1ec6ad    0.726922\n",
       "nfffec6c8e6614ec    0.210590\n",
       "\n",
       "[4929 rows x 1 columns]"
      ]
     },
     "execution_count": 81,
     "metadata": {},
     "output_type": "execute_result"
    }
   ],
   "source": [
    "lcl_cyrus_pred = wrapped_cyrus.predict(df_feat)\n",
    "lcl_cyrus_pred"
   ]
  },
  {
   "cell_type": "code",
   "execution_count": 85,
   "id": "efe5c693",
   "metadata": {},
   "outputs": [
    {
     "name": "stderr",
     "output_type": "stream",
     "text": [
      "Predicting for each model: 100%|████████████████████████████████████████████████████| 6/6 [00:30<00:00,  5.01s/it]"
     ]
    },
    {
     "name": "stdout",
     "output_type": "stream",
     "text": [
      "[2023-06-08 13:41:47,636] INFO - Ensembling predictions with argentina_ensemble(): ['pred_cyrus', 'pred_tyler', 'pred_ben', 'pred_waldo', 'pred_victor', 'pred_nomi']\n",
      "[2023-06-08 13:41:47,649] INFO - Taking the rank percent\n"
     ]
    },
    {
     "name": "stderr",
     "output_type": "stream",
     "text": [
      "\n"
     ]
    },
    {
     "data": {
      "text/html": [
       "<div>\n",
       "<style scoped>\n",
       "    .dataframe tbody tr th:only-of-type {\n",
       "        vertical-align: middle;\n",
       "    }\n",
       "\n",
       "    .dataframe tbody tr th {\n",
       "        vertical-align: top;\n",
       "    }\n",
       "\n",
       "    .dataframe thead th {\n",
       "        text-align: right;\n",
       "    }\n",
       "</style>\n",
       "<table border=\"1\" class=\"dataframe\">\n",
       "  <thead>\n",
       "    <tr style=\"text-align: right;\">\n",
       "      <th></th>\n",
       "      <th>prediction</th>\n",
       "    </tr>\n",
       "    <tr>\n",
       "      <th>id</th>\n",
       "      <th></th>\n",
       "    </tr>\n",
       "  </thead>\n",
       "  <tbody>\n",
       "    <tr>\n",
       "      <th>n000124edbee5931</th>\n",
       "      <td>0.840941</td>\n",
       "    </tr>\n",
       "    <tr>\n",
       "      <th>n0006fd05e5c5171</th>\n",
       "      <td>0.854737</td>\n",
       "    </tr>\n",
       "    <tr>\n",
       "      <th>n0008241720e02e0</th>\n",
       "      <td>0.102658</td>\n",
       "    </tr>\n",
       "    <tr>\n",
       "      <th>n002cecd72ff9453</th>\n",
       "      <td>0.095354</td>\n",
       "    </tr>\n",
       "    <tr>\n",
       "      <th>n0033b5ad4d2f9a0</th>\n",
       "      <td>0.730980</td>\n",
       "    </tr>\n",
       "    <tr>\n",
       "      <th>...</th>\n",
       "      <td>...</td>\n",
       "    </tr>\n",
       "    <tr>\n",
       "      <th>nffcf4bdcf971590</th>\n",
       "      <td>0.936093</td>\n",
       "    </tr>\n",
       "    <tr>\n",
       "      <th>nffd07e017f3def4</th>\n",
       "      <td>0.480219</td>\n",
       "    </tr>\n",
       "    <tr>\n",
       "      <th>nfff296ce15d1d13</th>\n",
       "      <td>0.683912</td>\n",
       "    </tr>\n",
       "    <tr>\n",
       "      <th>nfff505ecc1ec6ad</th>\n",
       "      <td>0.726922</td>\n",
       "    </tr>\n",
       "    <tr>\n",
       "      <th>nfffec6c8e6614ec</th>\n",
       "      <td>0.210590</td>\n",
       "    </tr>\n",
       "  </tbody>\n",
       "</table>\n",
       "<p>4929 rows × 1 columns</p>\n",
       "</div>"
      ],
      "text/plain": [
       "                  prediction\n",
       "id                          \n",
       "n000124edbee5931    0.840941\n",
       "n0006fd05e5c5171    0.854737\n",
       "n0008241720e02e0    0.102658\n",
       "n002cecd72ff9453    0.095354\n",
       "n0033b5ad4d2f9a0    0.730980\n",
       "...                      ...\n",
       "nffcf4bdcf971590    0.936093\n",
       "nffd07e017f3def4    0.480219\n",
       "nfff296ce15d1d13    0.683912\n",
       "nfff505ecc1ec6ad    0.726922\n",
       "nfffec6c8e6614ec    0.210590\n",
       "\n",
       "[4929 rows x 1 columns]"
      ]
     },
     "execution_count": 85,
     "metadata": {},
     "output_type": "execute_result"
    }
   ],
   "source": [
    "wrapped_argn = dm.MultiTargetNeutralModel(\n",
    "    models=argn_mdls,\n",
    "    neutralisation_cols=None,\n",
    "    neutralisation_prop=None,\n",
    "    ensembling_fn=argentina_ensemble,\n",
    ")\n",
    "lcl_argn_pred = wrapped_argn.predict(df_feat)\n",
    "lcl_argn_pred"
   ]
  },
  {
   "cell_type": "code",
   "execution_count": 86,
   "id": "3ebdf2e4",
   "metadata": {},
   "outputs": [
    {
     "data": {
      "text/plain": [
       "True"
      ]
     },
     "execution_count": 86,
     "metadata": {},
     "output_type": "execute_result"
    }
   ],
   "source": [
    "lcl_cyrus_pred.equals(lcl_argn_pred)"
   ]
  },
  {
   "cell_type": "code",
   "execution_count": 87,
   "id": "3d3807e1",
   "metadata": {},
   "outputs": [
    {
     "name": "stdout",
     "output_type": "stream",
     "text": [
      "[2023-06-08 13:44:13,425] INFO - reading prediction data\n",
      "[2023-06-08 13:44:14,545] INFO - target file already exists\n",
      "[2023-06-08 13:44:14,546] INFO - download complete\n",
      "[2023-06-08 13:44:14,549] INFO - Downloaded live data to v4.1/live_502.parquet...\n",
      "[2023-06-08 13:44:14,803] INFO - generating predictions\n"
     ]
    },
    {
     "name": "stderr",
     "output_type": "stream",
     "text": [
      "Predicting for each model: 100%|████████████████████████████████████████████████████| 6/6 [00:27<00:00,  4.53s/it]"
     ]
    },
    {
     "name": "stdout",
     "output_type": "stream",
     "text": [
      "[2023-06-08 13:44:42,008] INFO - Ensembling predictions with argentina_ensemble(): ['pred_cyrus', 'pred_tyler', 'pred_ben', 'pred_waldo', 'pred_victor', 'pred_nomi']\n",
      "[2023-06-08 13:44:42,020] INFO - Taking the rank percent\n"
     ]
    },
    {
     "name": "stderr",
     "output_type": "stream",
     "text": [
      "\n"
     ]
    },
    {
     "data": {
      "text/html": [
       "<div>\n",
       "<style scoped>\n",
       "    .dataframe tbody tr th:only-of-type {\n",
       "        vertical-align: middle;\n",
       "    }\n",
       "\n",
       "    .dataframe tbody tr th {\n",
       "        vertical-align: top;\n",
       "    }\n",
       "\n",
       "    .dataframe thead th {\n",
       "        text-align: right;\n",
       "    }\n",
       "</style>\n",
       "<table border=\"1\" class=\"dataframe\">\n",
       "  <thead>\n",
       "    <tr style=\"text-align: right;\">\n",
       "      <th></th>\n",
       "      <th>prediction</th>\n",
       "    </tr>\n",
       "    <tr>\n",
       "      <th>id</th>\n",
       "      <th></th>\n",
       "    </tr>\n",
       "  </thead>\n",
       "  <tbody>\n",
       "    <tr>\n",
       "      <th>n000124edbee5931</th>\n",
       "      <td>0.326638</td>\n",
       "    </tr>\n",
       "    <tr>\n",
       "      <th>n0006fd05e5c5171</th>\n",
       "      <td>0.900183</td>\n",
       "    </tr>\n",
       "    <tr>\n",
       "      <th>n0008241720e02e0</th>\n",
       "      <td>0.485291</td>\n",
       "    </tr>\n",
       "    <tr>\n",
       "      <th>n002cecd72ff9453</th>\n",
       "      <td>0.500304</td>\n",
       "    </tr>\n",
       "    <tr>\n",
       "      <th>n0033b5ad4d2f9a0</th>\n",
       "      <td>0.695882</td>\n",
       "    </tr>\n",
       "    <tr>\n",
       "      <th>...</th>\n",
       "      <td>...</td>\n",
       "    </tr>\n",
       "    <tr>\n",
       "      <th>nffcf4bdcf971590</th>\n",
       "      <td>0.727937</td>\n",
       "    </tr>\n",
       "    <tr>\n",
       "      <th>nffd07e017f3def4</th>\n",
       "      <td>0.434368</td>\n",
       "    </tr>\n",
       "    <tr>\n",
       "      <th>nfff296ce15d1d13</th>\n",
       "      <td>0.061676</td>\n",
       "    </tr>\n",
       "    <tr>\n",
       "      <th>nfff505ecc1ec6ad</th>\n",
       "      <td>0.132887</td>\n",
       "    </tr>\n",
       "    <tr>\n",
       "      <th>nfffec6c8e6614ec</th>\n",
       "      <td>0.368432</td>\n",
       "    </tr>\n",
       "  </tbody>\n",
       "</table>\n",
       "<p>4929 rows × 1 columns</p>\n",
       "</div>"
      ],
      "text/plain": [
       "                  prediction\n",
       "id                          \n",
       "n000124edbee5931    0.326638\n",
       "n0006fd05e5c5171    0.900183\n",
       "n0008241720e02e0    0.485291\n",
       "n002cecd72ff9453    0.500304\n",
       "n0033b5ad4d2f9a0    0.695882\n",
       "...                      ...\n",
       "nffcf4bdcf971590    0.727937\n",
       "nffd07e017f3def4    0.434368\n",
       "nfff296ce15d1d13    0.061676\n",
       "nfff505ecc1ec6ad    0.132887\n",
       "nfffec6c8e6614ec    0.368432\n",
       "\n",
       "[4929 rows x 1 columns]"
      ]
     },
     "execution_count": 87,
     "metadata": {},
     "output_type": "execute_result"
    }
   ],
   "source": [
    "predict_script.predict(napi=napi, wrapped_model=wrapped_argn)"
   ]
  }
 ],
 "metadata": {
  "kernelspec": {
   "display_name": "Python 3 (ipykernel)",
   "language": "python",
   "name": "python3"
  },
  "language_info": {
   "codemirror_mode": {
    "name": "ipython",
    "version": 3
   },
   "file_extension": ".py",
   "mimetype": "text/x-python",
   "name": "python",
   "nbconvert_exporter": "python",
   "pygments_lexer": "ipython3",
   "version": "3.10.11"
  }
 },
 "nbformat": 4,
 "nbformat_minor": 5
}
