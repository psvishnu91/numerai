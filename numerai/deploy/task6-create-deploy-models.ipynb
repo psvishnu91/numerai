{
 "cells": [
  {
   "cell_type": "code",
   "execution_count": 1,
   "id": "711e2a22",
   "metadata": {},
   "outputs": [
    {
     "data": {
      "text/html": [
       "<style>.container { width:100% !important; }</style>"
      ],
      "text/plain": [
       "<IPython.core.display.HTML object>"
      ]
     },
     "metadata": {},
     "output_type": "display_data"
    }
   ],
   "source": [
    "from IPython.display import display, HTML, clear_output\n",
    "display(HTML(\"<style>.container { width:100% !important; }</style>\"))"
   ]
  },
  {
   "cell_type": "code",
   "execution_count": 2,
   "id": "df94abeb",
   "metadata": {},
   "outputs": [],
   "source": [
    "%load_ext autoreload\n",
    "%autoreload 2\n",
    "\n",
    "import pandas as pd\n",
    "import numpy as np\n",
    "import mlflow\n",
    "import predict as predict_script\n",
    "import deploy_model as dm\n",
    "\n",
    "import sys, os\n",
    "sys.path.append(os.path.abspath('..'))"
   ]
  },
  {
   "cell_type": "code",
   "execution_count": 3,
   "id": "205cd3c0",
   "metadata": {},
   "outputs": [
    {
     "name": "stdout",
     "output_type": "stream",
     "text": [
      "\r"
     ]
    }
   ],
   "source": [
    "import utils as ut"
   ]
  },
  {
   "cell_type": "code",
   "execution_count": 6,
   "id": "57dcb87c",
   "metadata": {},
   "outputs": [
    {
     "name": "stdout",
     "output_type": "stream",
     "text": [
      "\r"
     ]
    }
   ],
   "source": [
    "import numerapi\n",
    "napi = numerapi.NumerAPI(verbosity=\"info\")"
   ]
  },
  {
   "cell_type": "code",
   "execution_count": 7,
   "id": "d55cae55",
   "metadata": {},
   "outputs": [
    {
     "name": "stdout",
     "output_type": "stream",
     "text": [
      "\r"
     ]
    }
   ],
   "source": [
    "import logging\n",
    "logging.basicConfig(level=logging.INFO)"
   ]
  },
  {
   "cell_type": "code",
   "execution_count": 8,
   "id": "1d8a169f",
   "metadata": {},
   "outputs": [
    {
     "name": "stdout",
     "output_type": "stream",
     "text": [
      "\r"
     ]
    }
   ],
   "source": [
    "import os\n",
    "\n",
    "\n",
    "TEST = True\n",
    "TMP_DOWNLOADS_DIR = \"./downloads/\"\n",
    "MODELS_DIR = \"./models/\"\n",
    "AWS_CREDS_FL = \"~/.aws/personal_credentials\"\n",
    "RUN_COLS = [\"run_id\", \"experiment_id\", \"artifact_uri\", \"metrics.sharpe\", \"params.target\", \"params.lgbm_params.num_leaves\"]\n",
    "EXPERIMENT_NAME = \"all_data_v2\"\n",
    "\n",
    "os.makedirs(TMP_DOWNLOADS_DIR, exist_ok=True)\n",
    "os.makedirs(MODELS_DIR, exist_ok=True)"
   ]
  },
  {
   "cell_type": "markdown",
   "id": "90c7be79",
   "metadata": {},
   "source": [
    "## 1. Sunshine model trained on all data"
   ]
  },
  {
   "cell_type": "code",
   "execution_count": 28,
   "id": "6cab1df8",
   "metadata": {},
   "outputs": [
    {
     "name": "stdout",
     "output_type": "stream",
     "text": [
      "\r"
     ]
    }
   ],
   "source": [
    "SUNSHINE_MODEL_NAME = \"albania\""
   ]
  },
  {
   "cell_type": "markdown",
   "id": "47c405d6",
   "metadata": {},
   "source": [
    "### 1.1 Download the model"
   ]
  },
  {
   "cell_type": "code",
   "execution_count": 10,
   "id": "a7a104e1",
   "metadata": {},
   "outputs": [
    {
     "name": "stdout",
     "output_type": "stream",
     "text": [
      "\r"
     ]
    }
   ],
   "source": [
    "mlflow.set_tracking_uri(\"http://18.218.213.146:5500\")"
   ]
  },
  {
   "cell_type": "code",
   "execution_count": 11,
   "id": "5cc9a7af",
   "metadata": {
    "scrolled": true
   },
   "outputs": [
    {
     "data": {
      "text/plain": [
       "'17'"
      ]
     },
     "execution_count": 11,
     "metadata": {},
     "output_type": "execute_result"
    },
    {
     "name": "stdout",
     "output_type": "stream",
     "text": [
      "\r"
     ]
    }
   ],
   "source": [
    "experiment_id = mlflow.get_experiment_by_name(EXPERIMENT_NAME).experiment_id\n",
    "experiment_id"
   ]
  },
  {
   "cell_type": "code",
   "execution_count": 12,
   "id": "308c9e6f",
   "metadata": {},
   "outputs": [
    {
     "data": {
      "text/plain": [
       "Index(['run_id', 'experiment_id', 'status', 'artifact_uri', 'start_time',\n",
       "       'end_time', 'metrics.mean', 'metrics.max_drawdown', 'metrics.apy',\n",
       "       'metrics.std', 'metrics.sharpe', 'params.lgbm_params.learning_rate',\n",
       "       'params.train_ident', 'params.target', 'params.cv',\n",
       "       'params.lgbm_params.max_depth', 'params.embargo', 'params.impute',\n",
       "       'params.lgbm_params.colsample_bytree', 'params.lgbm_params.n_jobs',\n",
       "       'params.int8', 'params.lgbm_setting', 'params.lgbm_params.num_leaves',\n",
       "       'params.ensembling', 'params.expt_name', 'params.targets',\n",
       "       'params.sample_every_nth', 'params.lgbm_params.n_estimators',\n",
       "       'params.features', 'tags.mlflow.user', 'tags.mlflow.source.name',\n",
       "       'tags.mlflow.runName', 'tags.mlflow.source.type',\n",
       "       'tags.mlflow.log-model.history'],\n",
       "      dtype='object')"
      ]
     },
     "execution_count": 12,
     "metadata": {},
     "output_type": "execute_result"
    },
    {
     "name": "stdout",
     "output_type": "stream",
     "text": [
      "\r"
     ]
    }
   ],
   "source": [
    "run_df = mlflow.search_runs(experiment_id)\n",
    "run_df.columns"
   ]
  },
  {
   "cell_type": "code",
   "execution_count": 13,
   "id": "75226159",
   "metadata": {},
   "outputs": [
    {
     "data": {
      "text/html": [
       "<div>\n",
       "<style scoped>\n",
       "    .dataframe tbody tr th:only-of-type {\n",
       "        vertical-align: middle;\n",
       "    }\n",
       "\n",
       "    .dataframe tbody tr th {\n",
       "        vertical-align: top;\n",
       "    }\n",
       "\n",
       "    .dataframe thead th {\n",
       "        text-align: right;\n",
       "    }\n",
       "</style>\n",
       "<table border=\"1\" class=\"dataframe\">\n",
       "  <thead>\n",
       "    <tr style=\"text-align: right;\">\n",
       "      <th></th>\n",
       "      <th>run_id</th>\n",
       "      <th>experiment_id</th>\n",
       "      <th>artifact_uri</th>\n",
       "      <th>metrics.sharpe</th>\n",
       "      <th>params.target</th>\n",
       "      <th>params.lgbm_params.num_leaves</th>\n",
       "    </tr>\n",
       "  </thead>\n",
       "  <tbody>\n",
       "    <tr>\n",
       "      <th>0</th>\n",
       "      <td>375735810ae646c0a48c15c70fa06168</td>\n",
       "      <td>17</td>\n",
       "      <td>s3://numerai-v1/mlflow/17/375735810ae646c0a48c...</td>\n",
       "      <td>9.678721</td>\n",
       "      <td>target_waldo_v4_20</td>\n",
       "      <td>64</td>\n",
       "    </tr>\n",
       "    <tr>\n",
       "      <th>1</th>\n",
       "      <td>0c005067614a41808edf9791be0785a4</td>\n",
       "      <td>17</td>\n",
       "      <td>s3://numerai-v1/mlflow/17/0c005067614a41808edf...</td>\n",
       "      <td>12.174212</td>\n",
       "      <td>target_victor_v4_20</td>\n",
       "      <td>64</td>\n",
       "    </tr>\n",
       "    <tr>\n",
       "      <th>2</th>\n",
       "      <td>d2414f840f844f68a08b1650087cbf8b</td>\n",
       "      <td>17</td>\n",
       "      <td>s3://numerai-v1/mlflow/17/d2414f840f844f68a08b...</td>\n",
       "      <td>9.093966</td>\n",
       "      <td>target_tyler_v4_20</td>\n",
       "      <td>64</td>\n",
       "    </tr>\n",
       "    <tr>\n",
       "      <th>3</th>\n",
       "      <td>3a4a80ecf965404bb958bf70f9e89423</td>\n",
       "      <td>17</td>\n",
       "      <td>s3://numerai-v1/mlflow/17/3a4a80ecf965404bb958...</td>\n",
       "      <td>9.531144</td>\n",
       "      <td>target_ralph_v4_20</td>\n",
       "      <td>64</td>\n",
       "    </tr>\n",
       "    <tr>\n",
       "      <th>4</th>\n",
       "      <td>c8febcc8be214109a32ecd02175614ca</td>\n",
       "      <td>17</td>\n",
       "      <td>s3://numerai-v1/mlflow/17/c8febcc8be214109a32e...</td>\n",
       "      <td>4.873786</td>\n",
       "      <td>target_jerome_v4_60</td>\n",
       "      <td>64</td>\n",
       "    </tr>\n",
       "    <tr>\n",
       "      <th>5</th>\n",
       "      <td>2ac89fcadef4422b83f39457409c1d88</td>\n",
       "      <td>17</td>\n",
       "      <td>s3://numerai-v1/mlflow/17/2ac89fcadef4422b83f3...</td>\n",
       "      <td>9.886836</td>\n",
       "      <td>target_nomi_v4_20</td>\n",
       "      <td>64</td>\n",
       "    </tr>\n",
       "  </tbody>\n",
       "</table>\n",
       "</div>"
      ],
      "text/plain": [
       "                             run_id experiment_id   \n",
       "0  375735810ae646c0a48c15c70fa06168            17  \\\n",
       "1  0c005067614a41808edf9791be0785a4            17   \n",
       "2  d2414f840f844f68a08b1650087cbf8b            17   \n",
       "3  3a4a80ecf965404bb958bf70f9e89423            17   \n",
       "4  c8febcc8be214109a32ecd02175614ca            17   \n",
       "5  2ac89fcadef4422b83f39457409c1d88            17   \n",
       "\n",
       "                                        artifact_uri  metrics.sharpe   \n",
       "0  s3://numerai-v1/mlflow/17/375735810ae646c0a48c...        9.678721  \\\n",
       "1  s3://numerai-v1/mlflow/17/0c005067614a41808edf...       12.174212   \n",
       "2  s3://numerai-v1/mlflow/17/d2414f840f844f68a08b...        9.093966   \n",
       "3  s3://numerai-v1/mlflow/17/3a4a80ecf965404bb958...        9.531144   \n",
       "4  s3://numerai-v1/mlflow/17/c8febcc8be214109a32e...        4.873786   \n",
       "5  s3://numerai-v1/mlflow/17/2ac89fcadef4422b83f3...        9.886836   \n",
       "\n",
       "         params.target params.lgbm_params.num_leaves  \n",
       "0   target_waldo_v4_20                            64  \n",
       "1  target_victor_v4_20                            64  \n",
       "2   target_tyler_v4_20                            64  \n",
       "3   target_ralph_v4_20                            64  \n",
       "4  target_jerome_v4_60                            64  \n",
       "5    target_nomi_v4_20                            64  "
      ]
     },
     "execution_count": 13,
     "metadata": {},
     "output_type": "execute_result"
    },
    {
     "name": "stdout",
     "output_type": "stream",
     "text": [
      "\r"
     ]
    }
   ],
   "source": [
    "run_df[RUN_COLS]"
   ]
  },
  {
   "cell_type": "code",
   "execution_count": 14,
   "id": "2af932aa",
   "metadata": {
    "scrolled": false
   },
   "outputs": [
    {
     "name": "stdout",
     "output_type": "stream",
     "text": [
      "[2023-04-21 16:13:48]  Loading aws credenitals from ~/.aws/personal_credentials...\n",
      "[2023-04-21 16:13:48]  [DRYRUN] Would download s3://numerai-v1/mlflow/17/0c005067614a41808edf9791be0785a4/artifacts/all_data_traintest_target_victor_v4_20_all_data_ff2c9e/model.pkl to ./downloads/0c005067614a41808edf9791be0785a4/artifacts/all_data_traintest_target_victor_v4_20_all_data_ff2c9e/model.pkl\n",
      "[2023-04-21 16:13:48]  [DRYRUN] Would download s3://numerai-v1/mlflow/17/2ac89fcadef4422b83f39457409c1d88/artifacts/all_data_traintest_target_nomi_v4_20_all_data_ff2c9e/model.pkl to ./downloads/2ac89fcadef4422b83f39457409c1d88/artifacts/all_data_traintest_target_nomi_v4_20_all_data_ff2c9e/model.pkl\n",
      "[2023-04-21 16:13:48]  [DRYRUN] Would download s3://numerai-v1/mlflow/17/375735810ae646c0a48c15c70fa06168/artifacts/all_data_traintest_target_waldo_v4_20_all_data_ff2c9e/model.pkl to ./downloads/375735810ae646c0a48c15c70fa06168/artifacts/all_data_traintest_target_waldo_v4_20_all_data_ff2c9e/model.pkl\n",
      "[2023-04-21 16:13:48]  [DRYRUN] Would download s3://numerai-v1/mlflow/17/3a4a80ecf965404bb958bf70f9e89423/artifacts/all_data_traintest_target_ralph_v4_20_all_data_ff2c9e/model.pkl to ./downloads/3a4a80ecf965404bb958bf70f9e89423/artifacts/all_data_traintest_target_ralph_v4_20_all_data_ff2c9e/model.pkl\n",
      "[2023-04-21 16:13:48]  [DRYRUN] Would download s3://numerai-v1/mlflow/17/c8febcc8be214109a32ecd02175614ca/artifacts/all_data_traintest_target_jerome_v4_60_all_data_ff2c9e/model.pkl to ./downloads/c8febcc8be214109a32ecd02175614ca/artifacts/all_data_traintest_target_jerome_v4_60_all_data_ff2c9e/model.pkl\n",
      "[2023-04-21 16:13:48]  [DRYRUN] Would download s3://numerai-v1/mlflow/17/d2414f840f844f68a08b1650087cbf8b/artifacts/all_data_traintest_target_tyler_v4_20_all_data_ff2c9e/model.pkl to ./downloads/d2414f840f844f68a08b1650087cbf8b/artifacts/all_data_traintest_target_tyler_v4_20_all_data_ff2c9e/model.pkl\n",
      "\r"
     ]
    }
   ],
   "source": [
    "ut.download_from_s3_recursively(\n",
    "    s3_path=f\"s3://numerai-v1/mlflow/{experiment_id}/\",\n",
    "    local_path=TMP_DOWNLOADS_DIR,\n",
    "    aws_credential_fl=AWS_CREDS_FL,\n",
    "    dry_run=True,\n",
    "    flname=\"model.pkl\",\n",
    ")"
   ]
  },
  {
   "cell_type": "code",
   "execution_count": 15,
   "id": "6ae3a17a",
   "metadata": {},
   "outputs": [
    {
     "name": "stdout",
     "output_type": "stream",
     "text": [
      "[2023-04-21 16:13:54]  Loading aws credenitals from ~/.aws/personal_credentials...\n",
      "[2023-04-21 16:13:54]  Downloading s3://numerai-v1/mlflow/17/0c005067614a41808edf9791be0785a4/artifacts/all_data_traintest_target_victor_v4_20_all_data_ff2c9e/model.pkl to ./downloads/0c005067614a41808edf9791be0785a4/artifacts/all_data_traintest_target_victor_v4_20_all_data_ff2c9e/model.pkl\n",
      "[2023-04-21 16:14:13]  Downloading s3://numerai-v1/mlflow/17/2ac89fcadef4422b83f39457409c1d88/artifacts/all_data_traintest_target_nomi_v4_20_all_data_ff2c9e/model.pkl to ./downloads/2ac89fcadef4422b83f39457409c1d88/artifacts/all_data_traintest_target_nomi_v4_20_all_data_ff2c9e/model.pkl\n",
      "[2023-04-21 16:14:31]  Downloading s3://numerai-v1/mlflow/17/375735810ae646c0a48c15c70fa06168/artifacts/all_data_traintest_target_waldo_v4_20_all_data_ff2c9e/model.pkl to ./downloads/375735810ae646c0a48c15c70fa06168/artifacts/all_data_traintest_target_waldo_v4_20_all_data_ff2c9e/model.pkl\n",
      "[2023-04-21 16:14:49]  Downloading s3://numerai-v1/mlflow/17/3a4a80ecf965404bb958bf70f9e89423/artifacts/all_data_traintest_target_ralph_v4_20_all_data_ff2c9e/model.pkl to ./downloads/3a4a80ecf965404bb958bf70f9e89423/artifacts/all_data_traintest_target_ralph_v4_20_all_data_ff2c9e/model.pkl\n",
      "[2023-04-21 16:15:07]  Downloading s3://numerai-v1/mlflow/17/c8febcc8be214109a32ecd02175614ca/artifacts/all_data_traintest_target_jerome_v4_60_all_data_ff2c9e/model.pkl to ./downloads/c8febcc8be214109a32ecd02175614ca/artifacts/all_data_traintest_target_jerome_v4_60_all_data_ff2c9e/model.pkl\n",
      "[2023-04-21 16:15:25]  Downloading s3://numerai-v1/mlflow/17/d2414f840f844f68a08b1650087cbf8b/artifacts/all_data_traintest_target_tyler_v4_20_all_data_ff2c9e/model.pkl to ./downloads/d2414f840f844f68a08b1650087cbf8b/artifacts/all_data_traintest_target_tyler_v4_20_all_data_ff2c9e/model.pkl\n",
      "\r"
     ]
    }
   ],
   "source": [
    "if not TEST:\n",
    "    ut.download_from_s3_recursively(\n",
    "        s3_path=f\"s3://numerai-v1/mlflow/{experiment_id}/\",\n",
    "        local_path=TMP_DOWNLOADS_DIR,\n",
    "        aws_credential_fl=AWS_CREDS_FL,\n",
    "        flname=\"model.pkl\",\n",
    "    )"
   ]
  },
  {
   "cell_type": "code",
   "execution_count": 16,
   "id": "2d0cdcae",
   "metadata": {},
   "outputs": [
    {
     "data": {
      "text/plain": [
       "'tyler_v4_20'"
      ]
     },
     "execution_count": 16,
     "metadata": {},
     "output_type": "execute_result"
    },
    {
     "name": "stdout",
     "output_type": "stream",
     "text": [
      "\r"
     ]
    }
   ],
   "source": [
    "def extract_target_name(model_path, suffix):\n",
    "    # ./downloads/d2414f840f844f68a08b1650087cbf8b/artifacts/all_data_traintest_target_tyler_v4_20_all_data_ff2c9e/model.pkl -> tyler_v4_20\n",
    "    return model_path[model_path.find(\"target\")+7:].split(\"/\")[0][:-len(suffix)-7]\n",
    "\n",
    "extract_target_name(\"./downloads/d2414f840f844f68a08b1650087cbf8b/artifacts/all_data_traintest_target_tyler_v4_20_all_data_ff2c9e/model.pkl\", suffix=\"_all_data\")"
   ]
  },
  {
   "cell_type": "code",
   "execution_count": 17,
   "id": "53fea4a9",
   "metadata": {},
   "outputs": [
    {
     "name": "stdout",
     "output_type": "stream",
     "text": [
      "./downloads/375735810ae646c0a48c15c70fa06168/artifacts/all_data_traintest_target_waldo_v4_20_all_data_ff2c9e/model.pkl\n",
      "./downloads/3a4a80ecf965404bb958bf70f9e89423/artifacts/all_data_traintest_target_ralph_v4_20_all_data_ff2c9e/model.pkl\n",
      "./downloads/0c005067614a41808edf9791be0785a4/artifacts/all_data_traintest_target_victor_v4_20_all_data_ff2c9e/model.pkl\n",
      "./downloads/d2414f840f844f68a08b1650087cbf8b/artifacts/all_data_traintest_target_tyler_v4_20_all_data_ff2c9e/model.pkl\n",
      "./downloads/c8febcc8be214109a32ecd02175614ca/artifacts/all_data_traintest_target_jerome_v4_60_all_data_ff2c9e/model.pkl\n",
      "./downloads/2ac89fcadef4422b83f39457409c1d88/artifacts/all_data_traintest_target_nomi_v4_20_all_data_ff2c9e/model.pkl\n",
      "\r"
     ]
    }
   ],
   "source": [
    "# load the models up into a dict {\"model_{target_name}\": model} where target name\n",
    "# is the name is extracted from the model's path.\n",
    "# ./downloads/d2414f840f844f68a08b1650087cbf8b/artifacts/all_data_traintest_target_tyler_v4_20_all_data_ff2c9e/model.pkl -> tyler_v4_20\n",
    "# Iterate over all files in this folder recursively\n",
    "models = {}\n",
    "for root, dirs, files in os.walk(TMP_DOWNLOADS_DIR):\n",
    "    for file in files:\n",
    "        if file != \"model.pkl\":\n",
    "            continue\n",
    "        model_path = os.path.join(root, file)\n",
    "        print(model_path)\n",
    "        target_name = extract_target_name(model_path, suffix=\"_all_data\")\n",
    "        models[f\"model_{target_name}\"] = ut.unpickle_obj(model_path)"
   ]
  },
  {
   "cell_type": "markdown",
   "id": "27d83fdd",
   "metadata": {},
   "source": [
    "### 1.2 Create the ensemble model and test it"
   ]
  },
  {
   "cell_type": "code",
   "execution_count": 18,
   "id": "27541f6f",
   "metadata": {},
   "outputs": [
    {
     "name": "stdout",
     "output_type": "stream",
     "text": [
      "\r"
     ]
    }
   ],
   "source": [
    "ensemble_model = dm.MultiTargetNeutralModel(models=models)"
   ]
  },
  {
   "cell_type": "code",
   "execution_count": 19,
   "id": "e96f26fd",
   "metadata": {},
   "outputs": [
    {
     "name": "stderr",
     "output_type": "stream",
     "text": [
      "v4.1/live.parquet: 4.49MB [00:01, 3.23MB/s]                                                                                                                                                                         \n",
      "Predicting for each model: 100%|██████████████████████████████████████████████████████████████████████████████████████████████████████████████████████████████████████████████████████| 6/6 [00:06<00:00,  1.13s/it]\n",
      "100%|█████████████████████████████████████████████████████████████████████████████████████████████████████████████████████████████████████████████████████████████████████████████████| 1/1 [00:03<00:00,  3.23s/it]\n"
     ]
    },
    {
     "data": {
      "text/html": [
       "<div>\n",
       "<style scoped>\n",
       "    .dataframe tbody tr th:only-of-type {\n",
       "        vertical-align: middle;\n",
       "    }\n",
       "\n",
       "    .dataframe tbody tr th {\n",
       "        vertical-align: top;\n",
       "    }\n",
       "\n",
       "    .dataframe thead th {\n",
       "        text-align: right;\n",
       "    }\n",
       "</style>\n",
       "<table border=\"1\" class=\"dataframe\">\n",
       "  <thead>\n",
       "    <tr style=\"text-align: right;\">\n",
       "      <th></th>\n",
       "      <th>prediction</th>\n",
       "    </tr>\n",
       "    <tr>\n",
       "      <th>id</th>\n",
       "      <th></th>\n",
       "    </tr>\n",
       "  </thead>\n",
       "  <tbody>\n",
       "    <tr>\n",
       "      <th>n00069c7a1b739b3</th>\n",
       "      <td>0.762442</td>\n",
       "    </tr>\n",
       "    <tr>\n",
       "      <th>n0007dc4d31340ae</th>\n",
       "      <td>0.736853</td>\n",
       "    </tr>\n",
       "    <tr>\n",
       "      <th>n000fb086d5b9090</th>\n",
       "      <td>0.158573</td>\n",
       "    </tr>\n",
       "    <tr>\n",
       "      <th>n00243ffdd54dbac</th>\n",
       "      <td>0.244409</td>\n",
       "    </tr>\n",
       "    <tr>\n",
       "      <th>n00257130c83832f</th>\n",
       "      <td>0.954866</td>\n",
       "    </tr>\n",
       "    <tr>\n",
       "      <th>...</th>\n",
       "      <td>...</td>\n",
       "    </tr>\n",
       "    <tr>\n",
       "      <th>nffde3a39aafb293</th>\n",
       "      <td>0.919202</td>\n",
       "    </tr>\n",
       "    <tr>\n",
       "      <th>nffe4290388bd16c</th>\n",
       "      <td>0.452750</td>\n",
       "    </tr>\n",
       "    <tr>\n",
       "      <th>nfff050628794d66</th>\n",
       "      <td>0.479146</td>\n",
       "    </tr>\n",
       "    <tr>\n",
       "      <th>nfffb904829aa57d</th>\n",
       "      <td>0.358856</td>\n",
       "    </tr>\n",
       "    <tr>\n",
       "      <th>nffff44c4f7ce188</th>\n",
       "      <td>0.940963</td>\n",
       "    </tr>\n",
       "  </tbody>\n",
       "</table>\n",
       "<p>4963 rows × 1 columns</p>\n",
       "</div>"
      ],
      "text/plain": [
       "                  prediction\n",
       "id                          \n",
       "n00069c7a1b739b3    0.762442\n",
       "n0007dc4d31340ae    0.736853\n",
       "n000fb086d5b9090    0.158573\n",
       "n00243ffdd54dbac    0.244409\n",
       "n00257130c83832f    0.954866\n",
       "...                      ...\n",
       "nffde3a39aafb293    0.919202\n",
       "nffe4290388bd16c    0.452750\n",
       "nfff050628794d66    0.479146\n",
       "nfffb904829aa57d    0.358856\n",
       "nffff44c4f7ce188    0.940963\n",
       "\n",
       "[4963 rows x 1 columns]"
      ]
     },
     "execution_count": 19,
     "metadata": {},
     "output_type": "execute_result"
    },
    {
     "name": "stdout",
     "output_type": "stream",
     "text": [
      "\r"
     ]
    }
   ],
   "source": [
    "predict_script.predict(napi=napi, wrapped_model=ensemble_model)"
   ]
  },
  {
   "cell_type": "code",
   "execution_count": 29,
   "id": "574a7172",
   "metadata": {},
   "outputs": [
    {
     "name": "stdout",
     "output_type": "stream",
     "text": [
      "./models/albania.pkl\n",
      "\r"
     ]
    }
   ],
   "source": [
    "ss_fl = os.path.join(MODELS_DIR, SUNSHINE_MODEL_NAME+\".pkl\")\n",
    "ut.pickle_obj(fl=ss_fl, obj=ensemble_model)\n",
    "print(ss_fl)"
   ]
  },
  {
   "cell_type": "code",
   "execution_count": 31,
   "id": "998be5ff",
   "metadata": {},
   "outputs": [
    {
     "name": "stdout",
     "output_type": "stream",
     "text": [
      "[2023-04-21 16:38:03]  Loading aws credenitals from ~/.aws/personal_credentials...\n",
      "[2023-04-21 16:38:03]  Uploading ./models/albania.pkl to s3://numerai-v1/deployed_models/albania.pkl\n",
      "[2023-04-21 16:41:37]  Uploading ./models/sunshine_6tgts_mean_n50.pkl to s3://numerai-v1/deployed_models/sunshine_6tgts_mean_n50.pkl\n",
      "\r"
     ]
    }
   ],
   "source": [
    "ut.upload_to_s3_recursively(\n",
    "    s3_path=\"s3://numerai-v1/deployed_models/\",\n",
    "    dir_path=\"./models/\",\n",
    "    aws_credential_fl=AWS_CREDS_FL,\n",
    "    dry_run=False,\n",
    ")"
   ]
  },
  {
   "cell_type": "code",
   "execution_count": null,
   "id": "6ab883ea",
   "metadata": {},
   "outputs": [],
   "source": []
  }
 ],
 "metadata": {
  "kernelspec": {
   "display_name": "Python 3 (ipykernel)",
   "language": "python",
   "name": "python3"
  },
  "language_info": {
   "codemirror_mode": {
    "name": "ipython",
    "version": 3
   },
   "file_extension": ".py",
   "mimetype": "text/x-python",
   "name": "python",
   "nbconvert_exporter": "python",
   "pygments_lexer": "ipython3",
   "version": "3.10.11"
  }
 },
 "nbformat": 4,
 "nbformat_minor": 5
}
