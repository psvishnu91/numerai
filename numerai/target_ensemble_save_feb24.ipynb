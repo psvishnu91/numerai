{
 "cells": [
  {
   "cell_type": "code",
   "execution_count": 10,
   "id": "cdbf2d70",
   "metadata": {},
   "outputs": [],
   "source": [
    "import cloudpickle\n",
    "import numpy as np\n",
    "import pandas as pd\n",
    "import json\n",
    "from numerapi import NumerAPI"
   ]
  },
  {
   "cell_type": "code",
   "execution_count": 6,
   "id": "4cfad606",
   "metadata": {},
   "outputs": [
    {
     "data": {
      "text/plain": [
       "'2.2.1'"
      ]
     },
     "execution_count": 6,
     "metadata": {},
     "output_type": "execute_result"
    }
   ],
   "source": [
    "cloudpickle.__version__"
   ]
  },
  {
   "cell_type": "code",
   "execution_count": 11,
   "id": "d858b0c5",
   "metadata": {},
   "outputs": [
    {
     "name": "stderr",
     "output_type": "stream",
     "text": [
      "2024-02-11 14:27:31,657 INFO numerapi.utils: target file already exists\n",
      "2024-02-11 14:27:31,657 INFO numerapi.utils: download complete\n"
     ]
    }
   ],
   "source": [
    "napi = NumerAPI()\n",
    "DATA_VERSION = \"v4.3\"\n",
    "napi.download_dataset(f\"{DATA_VERSION}/features.json\");\n",
    "# Load data\n",
    "feature_metadata = json.load(open(f\"{DATA_VERSION}/features.json\"))\n",
    "feature_cols = feature_metadata[\"feature_sets\"][\"all\"]"
   ]
  },
  {
   "cell_type": "code",
   "execution_count": 5,
   "id": "8d9fcda2",
   "metadata": {},
   "outputs": [],
   "source": [
    "favourite_targets = [\n",
    "  \"target_cyrus_v4_20\",\n",
    "  \"target_victor_v4_20\",\n",
    "  \"target_waldo_v4_20\",\n",
    "  \"target_teager_v4_20\",\n",
    "]\n",
    "models = {\n",
    "    fl: cloudpickle.load(open(f\"{fl}.pkl\", 'rb'))\n",
    "    for fl in favourite_targets\n",
    "}"
   ]
  },
  {
   "cell_type": "code",
   "execution_count": 7,
   "id": "8f9bf65a",
   "metadata": {},
   "outputs": [],
   "source": [
    "# we now give you access to the live_benchmark_models if you want to use them in your ensemble\n",
    "def predict_ensemble(\n",
    "    live_features: pd.DataFrame,\n",
    ") -> pd.DataFrame:\n",
    "    target2wt = {\n",
    "        'target_cyrus_v4_20': 0.5,\n",
    "        'target_victor_v4_20': 0.1,\n",
    "        'target_waldo_v4_20': 0.1,\n",
    "        'target_teager_v4_20': 0.3,\n",
    "    }\n",
    "    wts = np.array([target2wt[t] for t in favourite_targets])\n",
    "    print('Weights:', wts)\n",
    "    # generate predictions from each model\n",
    "    predictions = pd.DataFrame(index=live_features.index)\n",
    "    for target in favourite_targets:\n",
    "        predictions[target] = models[target].predict(live_features[feature_cols])\n",
    "    # ensemble predictions\n",
    "    ensemble =  (predictions.rank(pct=True).dot(wts))\n",
    "    # format submission\n",
    "    submission = ensemble.rank(pct=True)\n",
    "    return submission.to_frame(\"prediction\")"
   ]
  },
  {
   "cell_type": "code",
   "execution_count": 12,
   "id": "0ba38093",
   "metadata": {},
   "outputs": [
    {
     "name": "stderr",
     "output_type": "stream",
     "text": [
      "2024-02-11 14:27:34,775 INFO numerapi.utils: target file already exists\n",
      "2024-02-11 14:27:34,776 INFO numerapi.utils: download complete\n"
     ]
    },
    {
     "name": "stdout",
     "output_type": "stream",
     "text": [
      "Weights: [0.5 0.1 0.1 0.3]\n"
     ]
    },
    {
     "data": {
      "text/html": [
       "<div>\n",
       "<style scoped>\n",
       "    .dataframe tbody tr th:only-of-type {\n",
       "        vertical-align: middle;\n",
       "    }\n",
       "\n",
       "    .dataframe tbody tr th {\n",
       "        vertical-align: top;\n",
       "    }\n",
       "\n",
       "    .dataframe thead th {\n",
       "        text-align: right;\n",
       "    }\n",
       "</style>\n",
       "<table border=\"1\" class=\"dataframe\">\n",
       "  <thead>\n",
       "    <tr style=\"text-align: right;\">\n",
       "      <th></th>\n",
       "      <th>prediction</th>\n",
       "    </tr>\n",
       "    <tr>\n",
       "      <th>id</th>\n",
       "      <th></th>\n",
       "    </tr>\n",
       "  </thead>\n",
       "  <tbody>\n",
       "    <tr>\n",
       "      <th>n000cda5e3638175</th>\n",
       "      <td>0.234346</td>\n",
       "    </tr>\n",
       "    <tr>\n",
       "      <th>n001760719081fe2</th>\n",
       "      <td>0.717520</td>\n",
       "    </tr>\n",
       "    <tr>\n",
       "      <th>n001fed8911ba7b9</th>\n",
       "      <td>0.036100</td>\n",
       "    </tr>\n",
       "    <tr>\n",
       "      <th>n0028a6e86243c0b</th>\n",
       "      <td>0.330818</td>\n",
       "    </tr>\n",
       "    <tr>\n",
       "      <th>n0029da0af4a3d33</th>\n",
       "      <td>0.346930</td>\n",
       "    </tr>\n",
       "    <tr>\n",
       "      <th>...</th>\n",
       "      <td>...</td>\n",
       "    </tr>\n",
       "    <tr>\n",
       "      <th>nffa67470d3b585e</th>\n",
       "      <td>0.016113</td>\n",
       "    </tr>\n",
       "    <tr>\n",
       "      <th>nffe6af3074d8a0f</th>\n",
       "      <td>0.907608</td>\n",
       "    </tr>\n",
       "    <tr>\n",
       "      <th>nffee5f593c4a81c</th>\n",
       "      <td>0.139506</td>\n",
       "    </tr>\n",
       "    <tr>\n",
       "      <th>nfff0f0d2c9cb03f</th>\n",
       "      <td>0.377116</td>\n",
       "    </tr>\n",
       "    <tr>\n",
       "      <th>nfff312f37d04c2a</th>\n",
       "      <td>0.056394</td>\n",
       "    </tr>\n",
       "  </tbody>\n",
       "</table>\n",
       "<p>4903 rows × 1 columns</p>\n",
       "</div>"
      ],
      "text/plain": [
       "                  prediction\n",
       "id                          \n",
       "n000cda5e3638175    0.234346\n",
       "n001760719081fe2    0.717520\n",
       "n001fed8911ba7b9    0.036100\n",
       "n0028a6e86243c0b    0.330818\n",
       "n0029da0af4a3d33    0.346930\n",
       "...                      ...\n",
       "nffa67470d3b585e    0.016113\n",
       "nffe6af3074d8a0f    0.907608\n",
       "nffee5f593c4a81c    0.139506\n",
       "nfff0f0d2c9cb03f    0.377116\n",
       "nfff312f37d04c2a    0.056394\n",
       "\n",
       "[4903 rows x 1 columns]"
      ]
     },
     "execution_count": 12,
     "metadata": {},
     "output_type": "execute_result"
    }
   ],
   "source": [
    "# Quick test\n",
    "napi.download_dataset(f\"{DATA_VERSION}/live_int8.parquet\")\n",
    "live_features = pd.read_parquet(f\"{DATA_VERSION}/live_int8.parquet\", columns=feature_cols)\n",
    "predict_ensemble(live_features)"
   ]
  },
  {
   "cell_type": "code",
   "execution_count": 13,
   "id": "15dc33f2",
   "metadata": {},
   "outputs": [],
   "source": [
    "def save(mdl, fl_nm):\n",
    "    p = cloudpickle.dumps(mdl)\n",
    "    fl = f\"{fl_nm}.pkl\"\n",
    "    print(f\"Saving {fl}...\")\n",
    "    with open(fl, \"wb\") as f:\n",
    "        f.write(p)"
   ]
  },
  {
   "cell_type": "code",
   "execution_count": 14,
   "id": "15fd6239",
   "metadata": {},
   "outputs": [
    {
     "name": "stdout",
     "output_type": "stream",
     "text": [
      "Saving brazil_nb2_v43_c5t3v1w1_10k004lr_240211.pkl...\n"
     ]
    }
   ],
   "source": [
    "save(mdl=predict_ensemble, fl_nm='brazil_nb2_v43_c5t3v1w1_10k004lr_240211')"
   ]
  },
  {
   "cell_type": "code",
   "execution_count": null,
   "id": "335f8d50",
   "metadata": {},
   "outputs": [],
   "source": []
  }
 ],
 "metadata": {
  "kernelspec": {
   "display_name": "Python 3 (ipykernel)",
   "language": "python",
   "name": "python3"
  },
  "language_info": {
   "codemirror_mode": {
    "name": "ipython",
    "version": 3
   },
   "file_extension": ".py",
   "mimetype": "text/x-python",
   "name": "python",
   "nbconvert_exporter": "python",
   "pygments_lexer": "ipython3",
   "version": "3.10.12"
  }
 },
 "nbformat": 4,
 "nbformat_minor": 5
}
