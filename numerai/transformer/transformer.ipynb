{
 "cells": [
  {
   "cell_type": "markdown",
   "id": "4fcf8cd6-775a-4681-b29c-3ebae0ce3e58",
   "metadata": {},
   "source": [
    "# Transformers for numerai\n",
    "\n",
    "## Credit\n",
    "Through researching this approach, I've realised that Suraj Parmar has already implemented this ([medium post](https://parmarsuraj99.medium.com/era-of-transformers-792e5960e287)). Parts of the code here in structuring the input and the overall transformer structure is inspired by his code. There are variations as the transformer implementation is taken from my reimplmentation of nano-gpt [here](https://github.com/vispz/andrej_lectures/blob/main/gpt/gpt.py). \n",
    "\n",
    "Regardless, credits to Suraj for the idea and the awesome writeup!\n",
    "\n",
    "## What does this notebook do differently?\n",
    "We build from simple to more complex models. Why?\n",
    "1. I wanted to know if neural nets can produce results similar to Gradient Boosted Trees on the numerai dataset. This is a different question from whether transformers are a good idea for this problem.\n",
    "2. Does the transformer architecture improve over a simple Multi Layer Perceptron or a Fully-Connected NN?\n",
    "3. Pedagogical reasons. It would be a useful exercise to build from simple to a complex network.\n",
    "\n",
    "## Steps\n",
    "\n",
    "1. Load the data offered by numerai. _The numerai dataset is split into eras corresponding to a specific week. Each era has features and targets for ~5k equities/stocks. Targets correspond to stock returns after residualising some macro effects._\n",
    "2. Pad the dataset such that each era has a fixed number of equities.\n",
    "3. Push the padded X, targets, mask into a pytorch dataloader.\n",
    "4. Build baselines\n",
    "    * example script, lgbm model. This is a very strong baseline; likely will not beat this performance but we can ensemble with it.\n",
    "    * A simple linear model MSE(sigmoid(w@x))\n",
    "5. More complex models: 2-layer and 3-layer Fully-Connected Nets\n",
    "6. More complex models: Transformers\n",
    "    * Attention only model\n",
    "    * Transformer model with Blocks of (MultiHeaded Attention + MLP)\n",
    "  \n",
    "The hope is as we get to more increasingly complex model, we get better performance. It's also possible the more complex models lead to overfitting or are simply hard to train.\n",
    "\n",
    "## Future\n",
    "Convert this to a script to enable multi-gpu training."
   ]
  },
  {
   "cell_type": "code",
   "execution_count": 453,
   "id": "4d09088d",
   "metadata": {},
   "outputs": [],
   "source": [
    "from IPython.display import display\n",
    "from typing import *\n",
    "\n",
    "import copy\n",
    "import gc\n",
    "import itertools\n",
    "import lightgbm as lgb\n",
    "import pandas as pd\n",
    "import torch\n",
    "import torch.nn as nn\n",
    "import torch.optim as optim\n",
    "import torch.nn.functional as F\n",
    "import numerapi\n",
    "import json\n",
    "import numpy as np\n",
    "import scipy.stats as stats\n",
    "import time\n",
    "import os\n",
    "import torch.utils.data as data_utils\n",
    "import matplotlib.pyplot as plt\n",
    "\n",
    "from collections import defaultdict\n",
    "from tqdm.notebook import tqdm\n",
    "from dataclasses import dataclass\n",
    "\n",
    "plt.style.use(\"seaborn-v0_8-whitegrid\")\n",
    "plt.rcParams.update(\n",
    "    {\n",
    "        'legend.fontsize': 'x-large',\n",
    "        'axes.labelsize': 'x-large',\n",
    "        'axes.titlesize':'x-large',\n",
    "        'xtick.labelsize':'x-large',\n",
    "        'ytick.labelsize':'x-large',\n",
    "    }\n",
    ")\n",
    "\n",
    "torch.set_default_dtype(torch.float32)"
   ]
  },
  {
   "cell_type": "markdown",
   "id": "89889abe-d2c1-4a4b-a39d-a1b03181ade1",
   "metadata": {},
   "source": [
    "## 1. DATA LOADING"
   ]
  },
  {
   "cell_type": "code",
   "execution_count": 2,
   "id": "f7749e47-e8b6-41c7-9369-0b6d1d96397c",
   "metadata": {},
   "outputs": [],
   "source": [
    "train_fl = \"../../data/v4.1/train_int8.parquet\"\n",
    "val_fl = \"../../data/v4.1/validation_int8.parquet\"\n",
    "ft_fl = \"../../data/v4.1/features.json\"\n",
    "\n",
    "napi = numerapi.NumerAPI()\n",
    "napi.download_dataset(filename=\"v4.1/train_int8.parquet\", dest_path=train_fl)\n",
    "napi.download_dataset(filename=\"v4.1/validation_int8.parquet\", dest_path=val_fl)\n",
    "napi.download_dataset(filename=\"v4.1/features.json\", dest_path=ft_fl)"
   ]
  },
  {
   "cell_type": "code",
   "execution_count": 3,
   "id": "cde38f65-9cc8-48f5-b760-5b4ba1d0c20c",
   "metadata": {},
   "outputs": [],
   "source": [
    "# DATA CONSTANTS\n",
    "\n",
    "TARGETS = [\"target_cyrus_v4_20\", \"target_waldo_v4_20\", \"target_ralph_v4_20\"]\n",
    "# Final metrics are always computed against this metric\n",
    "TARGET_COL = \"target_cyrus_v4_20\"\n",
    "# This allows for creating a weighted combination of multiple targets\n",
    "TARGET_WTS = torch.tensor([1., 0., 0.])\n",
    "\n",
    "TRAIN_FRAC = 0.7  # Fraction train vs val set\n",
    "EMBARGO = 10 # Number of weeks of embargo to prevent label leakage\n",
    "\n",
    "# Load small or all features\n",
    "fts_meta = json.loads(open(ft_fl).read())\n",
    "SML_FEATURES = fts_meta[\"feature_sets\"][\"small\"]\n",
    "MDM_FEATURES = fts_meta[\"feature_sets\"][\"medium\"]\n",
    "ALL_FEATURES = None\n",
    "# Choose whichever size depending on testing or full training\n",
    "FEATURES = SML_FEATURES\n",
    "\n",
    "## Load dataset and pad\n",
    "# E - num_eras\n",
    "# S - num_stocks padded to fixed size\n",
    "# F - num_features\n",
    "PADDING_VALUE = -1\n",
    "MAX_NSTOCKS = 6000\n",
    "DEVICE = 'cuda' if torch.cuda.is_available()  else 'cpu'\n",
    "\n",
    "# Models save dir\n",
    "os.makedirs(\"nn_models\", exist_ok=True)"
   ]
  },
  {
   "cell_type": "code",
   "execution_count": 4,
   "id": "5f469e89-490e-4614-bac0-f3cb245fea4d",
   "metadata": {},
   "outputs": [
    {
     "name": "stdout",
     "output_type": "stream",
     "text": [
      "Train\tShape: (2420521, 36)\t Eras: (1, 574)\n",
      "Test\tShape: (2546387, 36)\t Eras: (575, 1073)\n"
     ]
    }
   ],
   "source": [
    "def load_data(fl):\n",
    "    if FEATURES is not None:\n",
    "        df = pd.read_parquet(fl, columns=[\"era\"] + FEATURES + TARGETS)\n",
    "    else:\n",
    "        df = pd.read_parquet(fl)\n",
    "    df[\"era\"] = df[\"era\"].astype(int)\n",
    "    df = df[[\"era\"] + [c for c in df.columns if c.startswith('feature_')] + TARGETS]\n",
    "    df = df.fillna(df.median())  # There can be NAs in fts and tgts\n",
    "    assert not(df.isna().any().any())\n",
    "    print(f\"Shape: {df.shape}\\t Eras: {df.era.min(), df.era.max()}\")\n",
    "    return df\n",
    "\n",
    "print(\"Train\\t\", end=\"\")\n",
    "train_all_df = load_data(train_fl)\n",
    "print(\"Test\\t\", end=\"\")\n",
    "test_df = load_data(val_fl)"
   ]
  },
  {
   "cell_type": "code",
   "execution_count": 5,
   "id": "e9e36976-da14-41f7-8236-3fea7579f5ca",
   "metadata": {},
   "outputs": [],
   "source": [
    "N_FEATURES = test_df.filter(like=\"feature\").shape[1]\n",
    "FEATURES = test_df.filter(like=\"feature\").columns.to_list()"
   ]
  },
  {
   "cell_type": "code",
   "execution_count": 6,
   "id": "2981e0e8-5fb9-416b-b49b-42fff63390d3",
   "metadata": {},
   "outputs": [
    {
     "name": "stdout",
     "output_type": "stream",
     "text": [
      "Train\tshape: (1625257, 36)\t Eras: (1, 401)\n",
      "Val\tshape: (750606, 36)\t Eras: (412, 574)\n"
     ]
    }
   ],
   "source": [
    "# Create a train and validation set. The test set will always be kept\n",
    "# aside to get final validation metrics from numer.ai\n",
    "n_train_all_eras = train_all_df.era.nunique()\n",
    "last_train_era   = int(n_train_all_eras * TRAIN_FRAC)\n",
    "\n",
    "train_df = train_all_df[train_all_df[\"era\"] <= last_train_era]\n",
    "val_df   = train_all_df[train_all_df[\"era\"] >  last_train_era + EMBARGO]\n",
    "\n",
    "# 400 eras/weeks ~8 years of training and 175 weeks of val ~3.5 years\n",
    "print(f\"Train\\tshape: {train_df.shape}\\t Eras: {train_df.era.min(), train_df.era.max()}\")\n",
    "print(f\"Val\\tshape: {val_df.shape}\\t Eras: {val_df.era.min(), val_df.era.max()}\")\n",
    "\n",
    "del train_all_df\n",
    "gc.collect()"
   ]
  },
  {
   "cell_type": "code",
   "execution_count": 8,
   "id": "5edd0007-782d-46db-be6d-1f133b3c85ae",
   "metadata": {},
   "outputs": [
    {
     "data": {
      "application/vnd.jupyter.widget-view+json": {
       "model_id": "3f0bc4ea1f7542199e1e8d833e275007",
       "version_major": 2,
       "version_minor": 0
      },
      "text/plain": [
       "  0%|          | 0/401 [00:00<?, ?it/s]"
      ]
     },
     "metadata": {},
     "output_type": "display_data"
    },
    {
     "data": {
      "application/vnd.jupyter.widget-view+json": {
       "model_id": "c843f8b59c0a47c29015618994e7f177",
       "version_major": 2,
       "version_minor": 0
      },
      "text/plain": [
       "  0%|          | 0/163 [00:00<?, ?it/s]"
      ]
     },
     "metadata": {},
     "output_type": "display_data"
    },
    {
     "data": {
      "application/vnd.jupyter.widget-view+json": {
       "model_id": "c876c42a98bd4391a2cd44a61f9f2eec",
       "version_major": 2,
       "version_minor": 0
      },
      "text/plain": [
       "  0%|          | 0/499 [00:00<?, ?it/s]"
      ]
     },
     "metadata": {},
     "output_type": "display_data"
    },
    {
     "name": "stdout",
     "output_type": "stream",
     "text": [
      "X\ttorch.Size([401, 6000, 32])\n",
      "labels\ttorch.Size([401, 6000, 3])\n",
      "mask\ttorch.Size([401, 6000])\n"
     ]
    }
   ],
   "source": [
    "# This cell is very much inspired by Suraj's implementation\n",
    "\n",
    "def pad_data(df):\n",
    "    \"\"\"Pad input data to create a transformer friendly input.\"\"\"\n",
    "    Xs, labels, masks = [], [], []\n",
    "    for era, data in tqdm(df.groupby(\"era\")):\n",
    "        padded_data = convert_to_torch(data=data)\n",
    "        Xs.append(padded_data[\"inputs\"])\n",
    "        labels.append(padded_data[\"labels\"])\n",
    "        masks.append(padded_data[\"masks\"])\n",
    "    return {\n",
    "        \"X\": torch.cat(Xs, dim=0),  # E x S x F\n",
    "        \"labels\": torch.cat(labels, dim=0),  # E x S x num_targets\n",
    "        \"mask\": torch.squeeze(torch.cat(masks, dim=0)),  # E x S\n",
    "    }\n",
    "\n",
    "def convert_to_torch(data):\n",
    "    inputs = torch.from_numpy(data[FEATURES].values.astype(np.int8))\n",
    "    labels = torch.from_numpy(data[TARGETS].values.astype(np.float32))\n",
    "    padded_inputs, masks_inputs = pad_sequence(\n",
    "            inputs, padding_value=PADDING_VALUE, max_len=MAX_NSTOCKS\n",
    "    )\n",
    "    padded_labels, masks_labels = pad_sequence(\n",
    "            labels, padding_value=PADDING_VALUE, max_len=MAX_NSTOCKS\n",
    "    )\n",
    "    return {\"inputs\": padded_inputs, \"labels\": padded_labels, \"masks\": masks_inputs}\n",
    "\n",
    "def pad_sequence(inputs, padding_value, max_len):\n",
    "    assert inputs.shape[0] < max_len\n",
    "    padded_inputs = []\n",
    "    masks = []\n",
    "    pad_len = max_len - inputs.shape[0]\n",
    "    padded_input = F.pad(inputs, (0, 0, 0, pad_len), value=padding_value)\n",
    "    mask = torch.ones((inputs.shape[0], 1), dtype=torch.float)\n",
    "    masks.append(\n",
    "        torch.cat((mask, torch.zeros((pad_len, 1), dtype=torch.float)), dim=0)\n",
    "    )\n",
    "    padded_inputs.append(padded_input)\n",
    "    return torch.stack(padded_inputs), torch.stack(masks)\n",
    "\n",
    "\n",
    "train_padded = pad_data(train_df)\n",
    "val_padded = pad_data(val_df)\n",
    "test_padded = pad_data(test_df)\n",
    "\n",
    "for k, v in train_padded.items():\n",
    "    print(f\"{k}\\t{v.shape}\")"
   ]
  },
  {
   "cell_type": "code",
   "execution_count": 9,
   "id": "35bd5951-a560-4472-a696-bca9008b5883",
   "metadata": {},
   "outputs": [],
   "source": [
    "# -------------------------------------------------------------------\n",
    "# Pytorch Dataset and DataLoader classes\n",
    "# \n",
    "# If we decide to move to multi-GPU training these would be useful.\n",
    "# -------------------------------------------------------------------\n",
    "@dataclass\n",
    "class NmrDataset(data_utils.Dataset):\n",
    "\n",
    "    X: torch.Tensor\n",
    "    mask: torch.Tensor\n",
    "    # Won't have during live data\n",
    "    targets: Optional[torch.Tensor] = None\n",
    "    # This is to create a weighted sum of multiple targets into a single target\n",
    "    target_wts: torch.Tensor = TARGET_WTS\n",
    "    device: str = DEVICE\n",
    "    \n",
    "    def __post_init__(self):\n",
    "        super().__init__()\n",
    "\n",
    "    def __len__(self):\n",
    "        return len(self.X)\n",
    "\n",
    "    def __getitem__(self, index):\n",
    "        \"\"\"Returns (\n",
    "            X, # S x F  (torch.float32)  \\in {-1.0, 0, 0.25, 0.5, 0.75, 1.0}\n",
    "            targets,  # S x 1 (torch.float32) \\in {0, 0.25, 0.5, 0.75, 1.0} \n",
    "            mask, # S x 1 (bool)\n",
    "        )\n",
    "        \"\"\"\n",
    "        i, dvc = index, self.device\n",
    "        # X convert int8 to float values btw 0-1, leave the padded values unchanged\n",
    "        X = self.X[i].to(dtype=torch.float32)\n",
    "        mask = self.mask[i] > 0\n",
    "        X[mask] = X[mask] / 4.0\n",
    "        if self.targets is not None:\n",
    "            # Won't have during live data\n",
    "            target = (self.targets[i] @ self.target_wts).to(dvc)\n",
    "        else:\n",
    "            target = None\n",
    "        return X.to(dvc), target, mask.to(dvc)"
   ]
  },
  {
   "cell_type": "code",
   "execution_count": 463,
   "id": "994fc263-0472-49fc-bb4e-b0219cbd6b38",
   "metadata": {},
   "outputs": [
    {
     "name": "stdout",
     "output_type": "stream",
     "text": [
      "Input(torch.float32): torch.Size([8, 6000, 32])  | Target(torch.float32): torch.Size([8, 6000]) | Mask(torch.bool): torch.Size([8, 6000]) \n"
     ]
    }
   ],
   "source": [
    "BATCH_SIZE = 8\n",
    "train_ds = NmrDataset(X=train_padded['X'], targets=train_padded['labels'], mask=train_padded['mask'])\n",
    "train_dl = data_utils.DataLoader(\n",
    "    dataset=train_ds,\n",
    "    batch_size=BATCH_SIZE,\n",
    "    sampler=None,\n",
    "    shuffle=True,\n",
    "    pin_memory=False,\n",
    ")\n",
    "val_ds = NmrDataset(X=val_padded['X'], targets=val_padded['labels'], mask=val_padded['mask'])\n",
    "val_dl = data_utils.DataLoader(\n",
    "    dataset=val_ds,   # Shuffle has to be set to false for test\n",
    "    batch_size=BATCH_SIZE,\n",
    "    sampler=None,\n",
    "    shuffle=False,\n",
    "    pin_memory=False,\n",
    ")\n",
    "test_ds = NmrDataset(X=test_padded['X'], targets=test_padded['labels'], mask=test_padded['mask'])\n",
    "test_dl = data_utils.DataLoader(\n",
    "    dataset=test_ds,\n",
    "    batch_size=BATCH_SIZE,\n",
    "    sampler=None,\n",
    "    shuffle=False,  # Shuffle has to be set to false for test\n",
    "    pin_memory=False,\n",
    ")\n",
    "\n",
    "batch = next(iter(train_dl))\n",
    "inputs, target, mask = batch\n",
    "print(f\"Input({inputs.dtype}): {inputs.shape}  | Target({target.dtype}): {target.shape} | Mask({mask.dtype}): {mask.shape} \")"
   ]
  },
  {
   "cell_type": "markdown",
   "id": "6bb1bf34-05bd-4487-af8d-194186557ac4",
   "metadata": {},
   "source": [
    "## 2. Model Training Code"
   ]
  },
  {
   "cell_type": "code",
   "execution_count": 477,
   "id": "2ed77f9a-646b-4d17-adfe-4e6c0ecdff87",
   "metadata": {},
   "outputs": [],
   "source": [
    "#####################################################################################################\n",
    "# MODEL TRAINING\n",
    "#####################################################################################################\n",
    "# ------------------------------------------------------------------------------------------------\n",
    "# Metrics\n",
    "# ------------------------------------------------------------------------------------------------\n",
    "\n",
    "def corr_masked(pred, target, mask):\n",
    "    \"\"\"Computes Pearson corr by era and then averages era_corr, also returns sharpe.\n",
    "\n",
    "    The operations are differentiable and hence we can optimise for corr or sharpe.\n",
    "\n",
    "    preds:  (B, S) dtype=float32\n",
    "    target: (B, S) dtype=float32\n",
    "    mask:   (B, S) dtype=bool\n",
    "    \"\"\"\n",
    "    mask = mask.type(torch.float) # B, S\n",
    "    mask_sum = mask.sum(dim=1, keepdims=True) # B, 1\n",
    "    masked_mat = {} # k -> (B, S) or (B, S)\n",
    "    centered = {}  # k -> (B, S) or (B, S)\n",
    "    unnorm_var = {} # k -> (B, 1)\n",
    "    for k, mat in [(\"pred\", pred), (\"target\", target)]:\n",
    "        # Mean center the preds and targets\n",
    "        masked_mat[k] = mat.clone()\n",
    "        masked_mat[k][mask==0] = 0\n",
    "        era_means = masked_mat[k].sum(dim=1, keepdims=True) / mask_sum  # B, 1\n",
    "        centered[k] = (masked_mat[k] - era_means) * mask  # B, S\n",
    "        # Unnormed variance\n",
    "        unnorm_var[k] = (centered[k] ** 2).sum(dim=1, keepdims=True) # B, 1\n",
    "\n",
    "    unnorm_covar = torch.sum(centered[\"pred\"] * centered[\"target\"], dim=1, keepdims=True)  # B, 1\n",
    "    unnorm_std_prod = torch.sqrt(unnorm_var[\"pred\"] * unnorm_var[\"target\"])  # B, 1\n",
    "    erawise_corr = unnorm_covar / unnorm_std_prod\n",
    "    avg_corr = erawise_corr.mean()\n",
    "    return {\n",
    "        \"erawise_corr\": erawise_corr, # B, 1\n",
    "        \"corr\": avg_corr, # scalar\n",
    "        \"sharpe\": avg_corr / erawise_corr.std(), # scalar\n",
    "    }\n",
    "\n",
    "\n",
    "def numerai_corr_stats(eras: pd.Series, pred: pd.Series, target: pd.Series) -> float:\n",
    "    \"\"\"Computes numerai corr and sharpe. These operations are not differentiable.\n",
    "    \"\"\"\n",
    "    df = pd.concat([eras, pred, target], axis=1)\n",
    "    df.columns = [\"era\", \"pred\", \"target\"]\n",
    "    with np.errstate(divide='ignore',invalid='ignore'): \n",
    "        per_era_corr = df.groupby(\"era\").apply(lambda x: numerai_corr(x[\"pred\"], x[\"target\"]))\n",
    "    avg_corr = per_era_corr.mean()\n",
    "    return {\n",
    "        \"corr\": avg_corr, \n",
    "        \"sharpe\": avg_corr / per_era_corr.std(),\n",
    "    }\n",
    "\n",
    "def numerai_corr(preds, target):\n",
    "    \"\"\"Numerai corr metric, lifted straight Hello Numerai tutorial notebook.\"\"\"\n",
    "    # rank (keeping ties) then gaussianize predictions to standardize prediction distributions\n",
    "    ranked_preds = (preds.rank(method=\"average\").values - 0.5) / preds.count()\n",
    "    gauss_ranked_preds = stats.norm.ppf(ranked_preds)\n",
    "    # center targets around 0\n",
    "    centered_target = target - target.mean()\n",
    "    # raise both preds and target to the power of 1.5 to accentuate the tails\n",
    "    preds_p15 = np.sign(gauss_ranked_preds) * np.abs(gauss_ranked_preds) ** 1.5\n",
    "    target_p15 = np.sign(centered_target) * np.abs(centered_target) ** 1.5\n",
    "    # finally return the Pearson correlation\n",
    "    return np.corrcoef(preds_p15, target_p15)[0, 1]\n",
    "\n",
    "# ------------------------------------------------------------------------------------------------\n",
    "# Training loop\n",
    "# ------------------------------------------------------------------------------------------------\n",
    "@dataclass(frozen=True, order=True)\n",
    "class BestModel:\n",
    "    \"\"\"Keeps track of the best model on val set during training.\n",
    "\n",
    "    As training progresses train metrics will improve but val set can go\n",
    "    down due to overfitting. This allows for early stopping or at least\n",
    "    keeping track of the best model during training.\n",
    "    \"\"\"\n",
    "    metric: float = -float('inf')\n",
    "    model: Optional[nn.Module] = None\n",
    "    epoch: Optional[int] = None\n",
    "\n",
    "\n",
    "class MetricsSequence:\n",
    "    \"\"\"Datastructure that holds {'metric_name': [metric_value]}.\n",
    "\n",
    "    These are updated during training. Each element in the list of\n",
    "    metric values could be the average of a single training batch or\n",
    "    an entire epoch.\n",
    "    \"\"\"\n",
    "\n",
    "    def __init__(self):\n",
    "        self.m2seq: Dict[str, List[float]] = defaultdict(list)\n",
    "\n",
    "    def append(self, metric_dict: Dict[str, float]) -> None:\n",
    "        # Mutates\n",
    "        for k, v in metric_dict.items():\n",
    "            self.m2seq[k].append(v)\n",
    "\n",
    "    def mean(self) -> Dict[str, float]:\n",
    "        return {\n",
    "            # nanmean because sharpe can be nan when only one batch era element exists\n",
    "            metric: np.nanmean(value_list)\n",
    "            for metric, value_list in self.m2seq.items()\n",
    "        }\n",
    "\n",
    "    @property\n",
    "    def num_epochs(self) -> int:\n",
    "        if not self.m2seq:\n",
    "            return 0\n",
    "        else:\n",
    "            m = next(iter(self.m2seq))\n",
    "            return len(self.m2seq[m])\n",
    "\n",
    "    def __repr__(self):\n",
    "        return ' '.join(f\"{m}: {round(v,4)}\" for m, v in sorted(self.mean().items()))\n",
    "\n",
    "    @staticmethod\n",
    "    def plot(mseq: 'MetricsSequence', title='', rolling_avg=True) -> None:\n",
    "        m2seq = mseq.m2seq\n",
    "        num_metrics = len(m2seq)\n",
    "        _, axes = plt.subplots(1, num_metrics, figsize=(20,4))\n",
    "        for m, ax in zip(m2seq, axes.flat):\n",
    "            if rolling_avg:\n",
    "                _plot_roll_avg_w_ebars(m2seq[m], ax=ax)\n",
    "            else:\n",
    "                ax.plot(m2seq[m], marker='o', linestyle='dashed', linewidth=2)\n",
    "            ax.set_title(m)\n",
    "            ax.set_xlabel(\"Epoch/batch\")\n",
    "        plt.suptitle(title, fontsize=18)\n",
    "        plt.tight_layout()\n",
    "        plt.show()\n",
    "\n",
    "    @staticmethod\n",
    "    def tabular(mseq: 'MetricsSequence') -> None:\n",
    "        return pd.DataFrame(mseq.m2seq)\n",
    "\n",
    "\n",
    "def _plot_roll_avg_w_ebars(data, ax, window_size=10, color='b', alpha=0.3):\n",
    "    \"\"\"Plots rolling average of data, taken from ChatGPT.\"\"\"\n",
    "    rolling_avg = np.convolve(data, np.ones(window_size) / window_size, mode='valid')\n",
    "    std_dev = np.std([data[i:i + window_size] for i in range(len(data) - window_size + 1)], axis=1)\n",
    "    ax.plot(range(window_size - 1, len(data)), rolling_avg, f'{color}-', label='Rolling Average')\n",
    "    ax.fill_between(\n",
    "        range(window_size - 1, len(data)),\n",
    "        rolling_avg - std_dev,\n",
    "        rolling_avg + std_dev,\n",
    "        color=color,\n",
    "        alpha=alpha,\n",
    "        label='Error Bars',\n",
    "    )\n",
    "\n",
    "\n",
    "def calculate_metrics(outputs, target, mask):\n",
    "    \"\"\"Calculates metrics and losses during training. Used to take grad in backprop.\"\"\"\n",
    "    corr_metrics = corr_masked(pred=outputs, target=target, mask=mask)\n",
    "    return {\n",
    "        \"mse\": F.mse_loss(\n",
    "            # preds: dim (S_0+S_1...+S_B, F), that is 2d matrix where the first dimension is\n",
    "            # a concatenation of all the (era, stock) which were not padded\n",
    "            outputs[mask],\n",
    "            # preds: dim (S_0+S_1...+S_B, L), where L is the number of True target\n",
    "            target[mask],\n",
    "        ),\n",
    "        \"corr\":   corr_metrics[\"corr\"],\n",
    "        \"sharpe\": corr_metrics[\"sharpe\"],\n",
    "    }\n",
    "    \n",
    "\n",
    "def train_on_batch(model, optimizer, batch, criterion: str, criterion_dirn: str):\n",
    "    was_in_eval = not model.training\n",
    "    model.train()\n",
    "    inputs, target, mask = batch\n",
    "    optimizer.zero_grad()\n",
    "    outputs = model(inputs, mask)\n",
    "    metrics = calculate_metrics(outputs=outputs, target=target, mask=mask)\n",
    "    loss_dirn_mult = {\"lower\": 1, \"higher\": -1}[criterion_dirn]\n",
    "    (loss_dirn_mult * metrics[criterion]).backward()\n",
    "    optimizer.step()\n",
    "    if was_in_eval:\n",
    "        # leave the model in the same state it came in\n",
    "        model.eval()\n",
    "    return _pluck_item( metrics)\n",
    "\n",
    "\n",
    "def _pluck_item(d: Dict[str, torch.Tensor]) -> Dict[str, float]:\n",
    "    return {k: v.item() for k, v in d.items()}\n",
    "\n",
    "\n",
    "@torch.no_grad()\n",
    "def evaluate_on_batch(model, batch):\n",
    "    was_in_train = model.training\n",
    "    model.eval()\n",
    "    inputs, target, mask = batch\n",
    "    outputs = model(inputs, mask)\n",
    "    metrics = calculate_metrics(outputs=outputs, target=target, mask=mask)\n",
    "    if was_in_train:\n",
    "        # leave the model in the same state it came in\n",
    "        model.train()\n",
    "    return _pluck_item(metrics)\n",
    "\n",
    "\n",
    "def train_model(\n",
    "    model,\n",
    "    optimizer,\n",
    "    train_dl,\n",
    "    val_dl,\n",
    "    num_epochs,\n",
    "    # These two keep track of train and eval metrics. These are passed in so\n",
    "    # that this function can be called repeatedly\n",
    "    criterion: str, model_path: str,\n",
    "    criterion_dirn: str,  # \"lower\" or \"higher\"\n",
    "    # {\"best_val_model\": , \"train_metrics\": , \"val_metrics\": }\n",
    "    train_state: Dict[str, Any], \n",
    "    save_every_epoch: int = 50,\n",
    "):\n",
    "    \"\"\"The main training loop. Entrypoint for model training.\n",
    "    \n",
    "    :param train_state: This is passed in and returned by the training function.\n",
    "        We might want to train for a few epochs inspect the model and then continue\n",
    "        training. In those scenarios, this dict, keeps track of training state.\n",
    "    \"\"\"\n",
    "    best_model = train_state[\"best_val_model\"]\n",
    "    for epoch in (pbar:= tqdm(range(num_epochs),  desc=\"Epoch\")):\n",
    "        # Training\n",
    "        # --------\n",
    "        model.train()\n",
    "        ep_trn_metrics = MetricsSequence()\n",
    "        for _, batch in tqdm(zip(range(10),train_dl), desc=\"Train batch\", leave=False):\n",
    "            ep_trn_metrics.append(\n",
    "                train_on_batch(\n",
    "                    model,\n",
    "                    optimizer,\n",
    "                    batch,\n",
    "                    criterion=criterion,\n",
    "                    criterion_dirn=criterion_dirn,\n",
    "                )\n",
    "            )\n",
    "        train_state[\"train_metrics\"].append(ep_trn_metrics.mean())\n",
    "        # Evaluation\n",
    "        # ----------\n",
    "        model.eval()\n",
    "        ep_val_metrics = MetricsSequence()\n",
    "        for batch in tqdm(val_dl, desc=\"Eval batch\", leave=False):\n",
    "            ep_val_metrics.append(evaluate_on_batch(model, batch))\n",
    "        avg_val_metrics = ep_val_metrics.mean()\n",
    "        train_state[\"val_metrics\"].append(avg_val_metrics)\n",
    "        # Bookkeeping and cleanup\n",
    "        # -----------------------\n",
    "        if avg_val_metrics[\"corr\"] > best_model.metric:\n",
    "            best_model = BestModel(\n",
    "                metric=avg_val_metrics[\"corr\"],\n",
    "                model=copy.deepcopy(model),\n",
    "                epoch=train_state[\"train_metrics\"].num_epochs,\n",
    "            )\n",
    "        pbar.set_description(\n",
    "            f\"Epoch \\n [Train] {ep_trn_metrics} \\n\"\n",
    "            f\"[Val] {ep_val_metrics}\"\n",
    "        )\n",
    "        torch.cuda.empty_cache()\n",
    "        gc.collect()\n",
    "        if model_path and epoch % save_every_epoch == 0:\n",
    "            torch.save(model.state_dict(), model_path)\n",
    "    return {\n",
    "        \"best_val_model\": best_model,\n",
    "        \"train_metrics\": train_state[\"train_metrics\"],\n",
    "        \"val_metrics\": train_state[\"val_metrics\"],\n",
    "    }\n",
    "\n",
    "\n",
    "# ------------------------------------------------------------------------------------------------\n",
    "# Predict test-set for validation diagnostics at https://numer.ai/scores\n",
    "# ------------------------------------------------------------------------------------------------\n",
    "def build_val_submission(model, test_df, test_dl) -> pd.DataFrame:\n",
    "    preds = predict_dl(model=model, dl=test_dl).detach().numpy()\n",
    "    df = pd.Series(\n",
    "        predict_dl(model=model, dl=test_dl).detach().numpy(),\n",
    "        index=test_df.index,\n",
    "    ).reset_index()\n",
    "    df.columns = [\"id\", \"prediction\"]\n",
    "    # Print stats\n",
    "    print(f\"{test_df.shape=}, {preds.shape=}\")\n",
    "    corr = numerai_corr_stats(\n",
    "        eras=test_df.era,\n",
    "        pred=df.set_index('id'),\n",
    "        target=test_df.target_cyrus_v4_20,\n",
    "    )\n",
    "    print(f\"Corr: {corr}\")\n",
    "    return df\n",
    "\n",
    "\n",
    "@torch.no_grad()\n",
    "def predict_dl(model, dl):\n",
    "    # (E*S) x 1 where (E*S) includes all era x stock pair in input data \n",
    "    return torch.concat(\n",
    "        [\n",
    "            predict_batch(model=model, batch=batch)\n",
    "            for batch in tqdm(dl, leave=False, desc=\"Batches\")\n",
    "        ],\n",
    "        dim=0,\n",
    "    )\n",
    "\n",
    "@torch.no_grad()\n",
    "def predict_batch(model, batch):\n",
    "    was_in_train = model.training\n",
    "    model.eval()\n",
    "    inputs, target, mask = batch\n",
    "    preds = model(inputs, mask)\n",
    "    if was_in_train:\n",
    "        # leave the model in the same state it came in\n",
    "        model.train()\n",
    "    return preds[mask]  # (B*S'); S' only includes unpadded stocks\n",
    "\n",
    "\n",
    "def summarise_model_perf(model, train_state, test_df, test_dl, model_name=\"\"):\n",
    "    display(train_state)\n",
    "    MetricsSequence.plot(train_state[\"train_metrics\"], title=f\"[Train] {model_name} model\")\n",
    "    MetricsSequence.plot(train_state[\"val_metrics\"], title=f\"[Val] {model_name} model\")\n",
    "    display(MetricsSequence.tabular(train_state[\"val_metrics\"]).tail(4))\n",
    "    print(\"\\nFinal model on test set\\n-----------------------\")\n",
    "    # prints metrics on test set by the final model from training\n",
    "    build_val_submission(model=model, test_df=test_df, test_dl=test_dl)\n",
    "    print(\"\\nBest val model on test set\\n--------------------------\")\n",
    "    # prints metrics on test set by model that had best perf on val set during training\n",
    "    build_val_submission(model=train_state[\"best_val_model\"].model, test_df=test_df, test_dl=test_dl)\n",
    "    gc.collect()"
   ]
  },
  {
   "cell_type": "markdown",
   "id": "395a50ad-e602-498a-b28b-2679974e360d",
   "metadata": {},
   "source": [
    "## 3. Baseline Models"
   ]
  },
  {
   "cell_type": "code",
   "execution_count": 12,
   "id": "12ab6e12-b0cb-412a-9406-ebbc978cd80e",
   "metadata": {},
   "outputs": [],
   "source": [
    "#####################################################################################################\n",
    "# BASELINE MODELS\n",
    "#####################################################################################################"
   ]
  },
  {
   "cell_type": "code",
   "execution_count": 21,
   "id": "fced4eb7-b330-4b96-8955-2bd20c1e7212",
   "metadata": {},
   "outputs": [
    {
     "data": {
      "text/html": [
       "<style>#sk-container-id-1 {color: black;background-color: white;}#sk-container-id-1 pre{padding: 0;}#sk-container-id-1 div.sk-toggleable {background-color: white;}#sk-container-id-1 label.sk-toggleable__label {cursor: pointer;display: block;width: 100%;margin-bottom: 0;padding: 0.3em;box-sizing: border-box;text-align: center;}#sk-container-id-1 label.sk-toggleable__label-arrow:before {content: \"▸\";float: left;margin-right: 0.25em;color: #696969;}#sk-container-id-1 label.sk-toggleable__label-arrow:hover:before {color: black;}#sk-container-id-1 div.sk-estimator:hover label.sk-toggleable__label-arrow:before {color: black;}#sk-container-id-1 div.sk-toggleable__content {max-height: 0;max-width: 0;overflow: hidden;text-align: left;background-color: #f0f8ff;}#sk-container-id-1 div.sk-toggleable__content pre {margin: 0.2em;color: black;border-radius: 0.25em;background-color: #f0f8ff;}#sk-container-id-1 input.sk-toggleable__control:checked~div.sk-toggleable__content {max-height: 200px;max-width: 100%;overflow: auto;}#sk-container-id-1 input.sk-toggleable__control:checked~label.sk-toggleable__label-arrow:before {content: \"▾\";}#sk-container-id-1 div.sk-estimator input.sk-toggleable__control:checked~label.sk-toggleable__label {background-color: #d4ebff;}#sk-container-id-1 div.sk-label input.sk-toggleable__control:checked~label.sk-toggleable__label {background-color: #d4ebff;}#sk-container-id-1 input.sk-hidden--visually {border: 0;clip: rect(1px 1px 1px 1px);clip: rect(1px, 1px, 1px, 1px);height: 1px;margin: -1px;overflow: hidden;padding: 0;position: absolute;width: 1px;}#sk-container-id-1 div.sk-estimator {font-family: monospace;background-color: #f0f8ff;border: 1px dotted black;border-radius: 0.25em;box-sizing: border-box;margin-bottom: 0.5em;}#sk-container-id-1 div.sk-estimator:hover {background-color: #d4ebff;}#sk-container-id-1 div.sk-parallel-item::after {content: \"\";width: 100%;border-bottom: 1px solid gray;flex-grow: 1;}#sk-container-id-1 div.sk-label:hover label.sk-toggleable__label {background-color: #d4ebff;}#sk-container-id-1 div.sk-serial::before {content: \"\";position: absolute;border-left: 1px solid gray;box-sizing: border-box;top: 0;bottom: 0;left: 50%;z-index: 0;}#sk-container-id-1 div.sk-serial {display: flex;flex-direction: column;align-items: center;background-color: white;padding-right: 0.2em;padding-left: 0.2em;position: relative;}#sk-container-id-1 div.sk-item {position: relative;z-index: 1;}#sk-container-id-1 div.sk-parallel {display: flex;align-items: stretch;justify-content: center;background-color: white;position: relative;}#sk-container-id-1 div.sk-item::before, #sk-container-id-1 div.sk-parallel-item::before {content: \"\";position: absolute;border-left: 1px solid gray;box-sizing: border-box;top: 0;bottom: 0;left: 50%;z-index: -1;}#sk-container-id-1 div.sk-parallel-item {display: flex;flex-direction: column;z-index: 1;position: relative;background-color: white;}#sk-container-id-1 div.sk-parallel-item:first-child::after {align-self: flex-end;width: 50%;}#sk-container-id-1 div.sk-parallel-item:last-child::after {align-self: flex-start;width: 50%;}#sk-container-id-1 div.sk-parallel-item:only-child::after {width: 0;}#sk-container-id-1 div.sk-dashed-wrapped {border: 1px dashed gray;margin: 0 0.4em 0.5em 0.4em;box-sizing: border-box;padding-bottom: 0.4em;background-color: white;}#sk-container-id-1 div.sk-label label {font-family: monospace;font-weight: bold;display: inline-block;line-height: 1.2em;}#sk-container-id-1 div.sk-label-container {text-align: center;}#sk-container-id-1 div.sk-container {/* jupyter's `normalize.less` sets `[hidden] { display: none; }` but bootstrap.min.css set `[hidden] { display: none !important; }` so we also need the `!important` here to be able to override the default hidden behavior on the sphinx rendered scikit-learn.org. See: https://github.com/scikit-learn/scikit-learn/issues/21755 */display: inline-block !important;position: relative;}#sk-container-id-1 div.sk-text-repr-fallback {display: none;}</style><div id=\"sk-container-id-1\" class=\"sk-top-container\"><div class=\"sk-text-repr-fallback\"><pre>LGBMRegressor(colsample_bytree=0.1, learning_rate=0.01, max_depth=5,\n",
       "              n_estimators=2000, num_leaves=32)</pre><b>In a Jupyter environment, please rerun this cell to show the HTML representation or trust the notebook. <br />On GitHub, the HTML representation is unable to render, please try loading this page with nbviewer.org.</b></div><div class=\"sk-container\" hidden><div class=\"sk-item\"><div class=\"sk-estimator sk-toggleable\"><input class=\"sk-toggleable__control sk-hidden--visually\" id=\"sk-estimator-id-1\" type=\"checkbox\" checked><label for=\"sk-estimator-id-1\" class=\"sk-toggleable__label sk-toggleable__label-arrow\">LGBMRegressor</label><div class=\"sk-toggleable__content\"><pre>LGBMRegressor(colsample_bytree=0.1, learning_rate=0.01, max_depth=5,\n",
       "              n_estimators=2000, num_leaves=32)</pre></div></div></div></div></div>"
      ],
      "text/plain": [
       "LGBMRegressor(colsample_bytree=0.1, learning_rate=0.01, max_depth=5,\n",
       "              n_estimators=2000, num_leaves=32)"
      ]
     },
     "execution_count": 21,
     "metadata": {},
     "output_type": "execute_result"
    }
   ],
   "source": [
    "# ------------------------------------------------------------------------------------------------\n",
    "# BASELINE: LGBM (Very strong baseline)\n",
    "# ------------------------------------------------------------------------------------------------\n",
    "sml_params = {\"n_estimators\": 2000,\n",
    "          \"learning_rate\": 0.01,\n",
    "          \"max_depth\": 5,\n",
    "          \"num_leaves\": 2 ** 5,\n",
    "          \"colsample_bytree\": 0.1}\n",
    "lg_params =  {\n",
    "    \"n_estimators\": 20000,\n",
    "    \"learning_rate\": 0.001,\n",
    "    \"max_depth\": 6,\n",
    "    \"num_leaves\": 2**6,\n",
    "    \"colsample_bytree\": 0.1,\n",
    "}\n",
    "params = sml_params\n",
    "lgreg = lgb.LGBMRegressor(**params)\n",
    "lgreg.fit(train_df.filter(like='feature_', axis='columns').astype(np.int8),\n",
    "          train_df[TARGET_COL].astype(np.float32))"
   ]
  },
  {
   "cell_type": "code",
   "execution_count": 22,
   "id": "f1c96207-7084-44cc-83ed-2b47b212f4fd",
   "metadata": {},
   "outputs": [
    {
     "data": {
      "text/plain": [
       "id\n",
       "n000101811a8a843    0.494525\n",
       "n001e1318d5072ac    0.497219\n",
       "n002a9c5ab785cbb    0.497831\n",
       "n002ccf6d0e8c5ad    0.527595\n",
       "n0051ab821295c29    0.486080\n",
       "                      ...   \n",
       "nff9694d7c110513    0.498292\n",
       "nffa11825d8ce071    0.505869\n",
       "nffa4d6e827c1ebb    0.488306\n",
       "nffbcd77e22f2aa4    0.520065\n",
       "nffde5e63a0ea6ca    0.484671\n",
       "Length: 2546387, dtype: float64"
      ]
     },
     "execution_count": 22,
     "metadata": {},
     "output_type": "execute_result"
    }
   ],
   "source": [
    "lgb_pred = pd.Series(\n",
    "    lgreg.predict(test_df.filter(like='feature_', axis='columns').astype(np.int8)),\n",
    "    index=test_df.index,\n",
    ")\n",
    "lgb_pred"
   ]
  },
  {
   "cell_type": "code",
   "execution_count": 25,
   "id": "3262e4ae-e8b1-4aa4-90a1-f3f84db04aa3",
   "metadata": {},
   "outputs": [
    {
     "data": {
      "text/plain": [
       "{'corr': 0.0218189949898127, 'sharpe': 0.9778096312360317}"
      ]
     },
     "execution_count": 25,
     "metadata": {},
     "output_type": "execute_result"
    }
   ],
   "source": [
    "numerai_corr_stats(\n",
    "    eras=test_df.era,\n",
    "    pred=lgb_pred,\n",
    "    target=test_df[TARGET_COL],\n",
    ")"
   ]
  },
  {
   "cell_type": "code",
   "execution_count": 16,
   "id": "b976595d-86e2-4249-8a6d-24185697702b",
   "metadata": {},
   "outputs": [
    {
     "data": {
      "text/plain": [
       "2290"
      ]
     },
     "execution_count": 16,
     "metadata": {},
     "output_type": "execute_result"
    }
   ],
   "source": [
    "del train_df, val_df\n",
    "gc.collect()"
   ]
  },
  {
   "cell_type": "code",
   "execution_count": 13,
   "id": "739f26e4-3c58-4852-ba40-b5c307c444d6",
   "metadata": {},
   "outputs": [
    {
     "name": "stdout",
     "output_type": "stream",
     "text": [
      "out.shape=torch.Size([40, 6000])\n"
     ]
    },
    {
     "data": {
      "image/png": "[encoded data removed]",
      "text/plain": [
       "<Figure size 432x288 with 1 Axes>"
      ]
     },
     "metadata": {
      "needs_background": "light"
     },
     "output_type": "display_data"
    }
   ],
   "source": [
    "# ------------------------------------------------------------------------------------------------\n",
    "# BASELINE: LINEAR MODEL\n",
    "# ------------------------------------------------------------------------------------------------\n",
    "\n",
    "@dataclass(eq=False)\n",
    "class LinearModel(nn.Module):\n",
    "    n_feats: int = N_FEATURES\n",
    "\n",
    "    def __post_init__(self):\n",
    "        super().__init__()\n",
    "        self.fc = nn.Sequential(nn.Linear(self.n_feats, 1), nn.Sigmoid())\n",
    "\n",
    "    def forward(self, X, mask):\n",
    "        B, S, F = X.shape\n",
    "        out = self.fc(X)  # B, S, 1\n",
    "        assert tuple(out.shape) == (B, S, 1)\n",
    "        return out[:,:,0]\n",
    "\n",
    "\n",
    "# Build a linear model and show the prediction distribution\n",
    "# ---------------------------------------------------------\n",
    "lm = LinearModel().to(DEVICE)\n",
    "input_, lbls, mask = next(iter(train_dl))\n",
    "out = lm(input_, mask)\n",
    "print(f\"{out.shape=}\")\n",
    "preds = torch.squeeze(out[0]).detach().numpy()\n",
    "# When era has fewer than 6k stocks, we pad those with -1 and predict\n",
    "# a constant value for all those padded stocks. That's the spike below.\n",
    "pd.Series(preds).hist();"
   ]
  },
  {
   "cell_type": "code",
   "execution_count": 15,
   "id": "04cf0064-95f5-45dc-b1a9-c228f9d52e6e",
   "metadata": {},
   "outputs": [],
   "source": [
    "# Train the linear model and see performance\n",
    "# {metric -> [val_batch_1, val_batch_2...]}\n",
    "\n",
    "# Predefine these if we want to run `train_model` multiple times\n",
    "lm = LinearModel().to(DEVICE)\n",
    "lm_train_state = {\n",
    "    \"best_val_model\": BestModel(),\n",
    "    \"train_metrics\": MetricsSequence(),\n",
    "    \"val_metrics\": MetricsSequence(),\n",
    "}"
   ]
  },
  {
   "cell_type": "code",
   "execution_count": 17,
   "id": "d80b99a0-e2f5-4be0-b41b-d854a4c9126e",
   "metadata": {},
   "outputs": [
    {
     "data": {
      "application/vnd.jupyter.widget-view+json": {
       "model_id": "e49406a80b2645beb0de7d9d77059a15",
       "version_major": 2,
       "version_minor": 0
      },
      "text/plain": [
       "Epoch:   0%|          | 0/100 [00:00<?, ?it/s]"
      ]
     },
     "metadata": {},
     "output_type": "display_data"
    },
    {
     "data": {
      "application/vnd.jupyter.widget-view+json": {
       "model_id": "",
       "version_major": 2,
       "version_minor": 0
      },
      "text/plain": [
       "Train batch:   0%|          | 0/11 [00:00<?, ?it/s]"
      ]
     },
     "metadata": {},
     "output_type": "display_data"
    },
    {
     "data": {
      "application/vnd.jupyter.widget-view+json": {
       "model_id": "",
       "version_major": 2,
       "version_minor": 0
      },
      "text/plain": [
       "Eval batch:   0%|          | 0/5 [00:00<?, ?it/s]"
      ]
     },
     "metadata": {},
     "output_type": "display_data"
    },
    {
     "data": {
      "application/vnd.jupyter.widget-view+json": {
       "model_id": "",
       "version_major": 2,
       "version_minor": 0
      },
      "text/plain": [
       "Train batch:   0%|          | 0/11 [00:00<?, ?it/s]"
      ]
     },
     "metadata": {},
     "output_type": "display_data"
    },
    {
     "data": {
      "application/vnd.jupyter.widget-view+json": {
       "model_id": "",
       "version_major": 2,
       "version_minor": 0
      },
      "text/plain": [
       "Eval batch:   0%|          | 0/5 [00:00<?, ?it/s]"
      ]
     },
     "metadata": {},
     "output_type": "display_data"
    },
    {
     "data": {
      "application/vnd.jupyter.widget-view+json": {
       "model_id": "",
       "version_major": 2,
       "version_minor": 0
      },
      "text/plain": [
       "Train batch:   0%|          | 0/11 [00:00<?, ?it/s]"
      ]
     },
     "metadata": {},
     "output_type": "display_data"
    },
    {
     "data": {
      "application/vnd.jupyter.widget-view+json": {
       "model_id": "",
       "version_major": 2,
       "version_minor": 0
      },
      "text/plain": [
       "Eval batch:   0%|          | 0/5 [00:00<?, ?it/s]"
      ]
     },
     "metadata": {},
     "output_type": "display_data"
    },
    {
     "data": {
      "application/vnd.jupyter.widget-view+json": {
       "model_id": "",
       "version_major": 2,
       "version_minor": 0
      },
      "text/plain": [
       "Train batch:   0%|          | 0/11 [00:00<?, ?it/s]"
      ]
     },
     "metadata": {},
     "output_type": "display_data"
    },
    {
     "data": {
      "application/vnd.jupyter.widget-view+json": {
       "model_id": "",
       "version_major": 2,
       "version_minor": 0
      },
      "text/plain": [
       "Eval batch:   0%|          | 0/5 [00:00<?, ?it/s]"
      ]
     },
     "metadata": {},
     "output_type": "display_data"
    },
    {
     "data": {
      "application/vnd.jupyter.widget-view+json": {
       "model_id": "",
       "version_major": 2,
       "version_minor": 0
      },
      "text/plain": [
       "Train batch:   0%|          | 0/11 [00:00<?, ?it/s]"
      ]
     },
     "metadata": {},
     "output_type": "display_data"
    },
    {
     "data": {
      "application/vnd.jupyter.widget-view+json": {
       "model_id": "",
       "version_major": 2,
       "version_minor": 0
      },
      "text/plain": [
       "Eval batch:   0%|          | 0/5 [00:00<?, ?it/s]"
      ]
     },
     "metadata": {},
     "output_type": "display_data"
    },
    {
     "data": {
      "application/vnd.jupyter.widget-view+json": {
       "model_id": "",
       "version_major": 2,
       "version_minor": 0
      },
      "text/plain": [
       "Train batch:   0%|          | 0/11 [00:00<?, ?it/s]"
      ]
     },
     "metadata": {},
     "output_type": "display_data"
    },
    {
     "data": {
      "application/vnd.jupyter.widget-view+json": {
       "model_id": "",
       "version_major": 2,
       "version_minor": 0
      },
      "text/plain": [
       "Eval batch:   0%|          | 0/5 [00:00<?, ?it/s]"
      ]
     },
     "metadata": {},
     "output_type": "display_data"
    },
    {
     "data": {
      "application/vnd.jupyter.widget-view+json": {
       "model_id": "",
       "version_major": 2,
       "version_minor": 0
      },
      "text/plain": [
       "Train batch:   0%|          | 0/11 [00:00<?, ?it/s]"
      ]
     },
     "metadata": {},
     "output_type": "display_data"
    },
    {
     "data": {
      "application/vnd.jupyter.widget-view+json": {
       "model_id": "",
       "version_major": 2,
       "version_minor": 0
      },
      "text/plain": [
       "Eval batch:   0%|          | 0/5 [00:00<?, ?it/s]"
      ]
     },
     "metadata": {},
     "output_type": "display_data"
    },
    {
     "data": {
      "application/vnd.jupyter.widget-view+json": {
       "model_id": "",
       "version_major": 2,
       "version_minor": 0
      },
      "text/plain": [
       "Train batch:   0%|          | 0/11 [00:00<?, ?it/s]"
      ]
     },
     "metadata": {},
     "output_type": "display_data"
    },
    {
     "data": {
      "application/vnd.jupyter.widget-view+json": {
       "model_id": "",
       "version_major": 2,
       "version_minor": 0
      },
      "text/plain": [
       "Eval batch:   0%|          | 0/5 [00:00<?, ?it/s]"
      ]
     },
     "metadata": {},
     "output_type": "display_data"
    },
    {
     "data": {
      "application/vnd.jupyter.widget-view+json": {
       "model_id": "",
       "version_major": 2,
       "version_minor": 0
      },
      "text/plain": [
       "Train batch:   0%|          | 0/11 [00:00<?, ?it/s]"
      ]
     },
     "metadata": {},
     "output_type": "display_data"
    },
    {
     "data": {
      "application/vnd.jupyter.widget-view+json": {
       "model_id": "",
       "version_major": 2,
       "version_minor": 0
      },
      "text/plain": [
       "Eval batch:   0%|          | 0/5 [00:00<?, ?it/s]"
      ]
     },
     "metadata": {},
     "output_type": "display_data"
    },
    {
     "data": {
      "application/vnd.jupyter.widget-view+json": {
       "model_id": "",
       "version_major": 2,
       "version_minor": 0
      },
      "text/plain": [
       "Train batch:   0%|          | 0/11 [00:00<?, ?it/s]"
      ]
     },
     "metadata": {},
     "output_type": "display_data"
    },
    {
     "data": {
      "application/vnd.jupyter.widget-view+json": {
       "model_id": "",
       "version_major": 2,
       "version_minor": 0
      },
      "text/plain": [
       "Eval batch:   0%|          | 0/5 [00:00<?, ?it/s]"
      ]
     },
     "metadata": {},
     "output_type": "display_data"
    },
    {
     "data": {
      "application/vnd.jupyter.widget-view+json": {
       "model_id": "",
       "version_major": 2,
       "version_minor": 0
      },
      "text/plain": [
       "Train batch:   0%|          | 0/11 [00:00<?, ?it/s]"
      ]
     },
     "metadata": {},
     "output_type": "display_data"
    },
    {
     "data": {
      "application/vnd.jupyter.widget-view+json": {
       "model_id": "",
       "version_major": 2,
       "version_minor": 0
      },
      "text/plain": [
       "Eval batch:   0%|          | 0/5 [00:00<?, ?it/s]"
      ]
     },
     "metadata": {},
     "output_type": "display_data"
    },
    {
     "data": {
      "application/vnd.jupyter.widget-view+json": {
       "model_id": "",
       "version_major": 2,
       "version_minor": 0
      },
      "text/plain": [
       "Train batch:   0%|          | 0/11 [00:00<?, ?it/s]"
      ]
     },
     "metadata": {},
     "output_type": "display_data"
    },
    {
     "data": {
      "application/vnd.jupyter.widget-view+json": {
       "model_id": "",
       "version_major": 2,
       "version_minor": 0
      },
      "text/plain": [
       "Eval batch:   0%|          | 0/5 [00:00<?, ?it/s]"
      ]
     },
     "metadata": {},
     "output_type": "display_data"
    },
    {
     "data": {
      "application/vnd.jupyter.widget-view+json": {
       "model_id": "",
       "version_major": 2,
       "version_minor": 0
      },
      "text/plain": [
       "Train batch:   0%|          | 0/11 [00:00<?, ?it/s]"
      ]
     },
     "metadata": {},
     "output_type": "display_data"
    },
    {
     "data": {
      "application/vnd.jupyter.widget-view+json": {
       "model_id": "",
       "version_major": 2,
       "version_minor": 0
      },
      "text/plain": [
       "Eval batch:   0%|          | 0/5 [00:00<?, ?it/s]"
      ]
     },
     "metadata": {},
     "output_type": "display_data"
    },
    {
     "data": {
      "application/vnd.jupyter.widget-view+json": {
       "model_id": "",
       "version_major": 2,
       "version_minor": 0
      },
      "text/plain": [
       "Train batch:   0%|          | 0/11 [00:00<?, ?it/s]"
      ]
     },
     "metadata": {},
     "output_type": "display_data"
    },
    {
     "data": {
      "application/vnd.jupyter.widget-view+json": {
       "model_id": "",
       "version_major": 2,
       "version_minor": 0
      },
      "text/plain": [
       "Eval batch:   0%|          | 0/5 [00:00<?, ?it/s]"
      ]
     },
     "metadata": {},
     "output_type": "display_data"
    },
    {
     "data": {
      "application/vnd.jupyter.widget-view+json": {
       "model_id": "",
       "version_major": 2,
       "version_minor": 0
      },
      "text/plain": [
       "Train batch:   0%|          | 0/11 [00:00<?, ?it/s]"
      ]
     },
     "metadata": {},
     "output_type": "display_data"
    },
    {
     "data": {
      "application/vnd.jupyter.widget-view+json": {
       "model_id": "",
       "version_major": 2,
       "version_minor": 0
      },
      "text/plain": [
       "Eval batch:   0%|          | 0/5 [00:00<?, ?it/s]"
      ]
     },
     "metadata": {},
     "output_type": "display_data"
    },
    {
     "data": {
      "application/vnd.jupyter.widget-view+json": {
       "model_id": "",
       "version_major": 2,
       "version_minor": 0
      },
      "text/plain": [
       "Train batch:   0%|          | 0/11 [00:00<?, ?it/s]"
      ]
     },
     "metadata": {},
     "output_type": "display_data"
    },
    {
     "data": {
      "application/vnd.jupyter.widget-view+json": {
       "model_id": "",
       "version_major": 2,
       "version_minor": 0
      },
      "text/plain": [
       "Eval batch:   0%|          | 0/5 [00:00<?, ?it/s]"
      ]
     },
     "metadata": {},
     "output_type": "display_data"
    },
    {
     "data": {
      "application/vnd.jupyter.widget-view+json": {
       "model_id": "",
       "version_major": 2,
       "version_minor": 0
      },
      "text/plain": [
       "Train batch:   0%|          | 0/11 [00:00<?, ?it/s]"
      ]
     },
     "metadata": {},
     "output_type": "display_data"
    },
    {
     "data": {
      "application/vnd.jupyter.widget-view+json": {
       "model_id": "",
       "version_major": 2,
       "version_minor": 0
      },
      "text/plain": [
       "Eval batch:   0%|          | 0/5 [00:00<?, ?it/s]"
      ]
     },
     "metadata": {},
     "output_type": "display_data"
    },
    {
     "data": {
      "application/vnd.jupyter.widget-view+json": {
       "model_id": "",
       "version_major": 2,
       "version_minor": 0
      },
      "text/plain": [
       "Train batch:   0%|          | 0/11 [00:00<?, ?it/s]"
      ]
     },
     "metadata": {},
     "output_type": "display_data"
    },
    {
     "data": {
      "application/vnd.jupyter.widget-view+json": {
       "model_id": "",
       "version_major": 2,
       "version_minor": 0
      },
      "text/plain": [
       "Eval batch:   0%|          | 0/5 [00:00<?, ?it/s]"
      ]
     },
     "metadata": {},
     "output_type": "display_data"
    },
    {
     "data": {
      "application/vnd.jupyter.widget-view+json": {
       "model_id": "",
       "version_major": 2,
       "version_minor": 0
      },
      "text/plain": [
       "Train batch:   0%|          | 0/11 [00:00<?, ?it/s]"
      ]
     },
     "metadata": {},
     "output_type": "display_data"
    },
    {
     "data": {
      "application/vnd.jupyter.widget-view+json": {
       "model_id": "",
       "version_major": 2,
       "version_minor": 0
      },
      "text/plain": [
       "Eval batch:   0%|          | 0/5 [00:00<?, ?it/s]"
      ]
     },
     "metadata": {},
     "output_type": "display_data"
    },
    {
     "data": {
      "application/vnd.jupyter.widget-view+json": {
       "model_id": "",
       "version_major": 2,
       "version_minor": 0
      },
      "text/plain": [
       "Train batch:   0%|          | 0/11 [00:00<?, ?it/s]"
      ]
     },
     "metadata": {},
     "output_type": "display_data"
    },
    {
     "data": {
      "application/vnd.jupyter.widget-view+json": {
       "model_id": "",
       "version_major": 2,
       "version_minor": 0
      },
      "text/plain": [
       "Eval batch:   0%|          | 0/5 [00:00<?, ?it/s]"
      ]
     },
     "metadata": {},
     "output_type": "display_data"
    },
    {
     "data": {
      "application/vnd.jupyter.widget-view+json": {
       "model_id": "",
       "version_major": 2,
       "version_minor": 0
      },
      "text/plain": [
       "Train batch:   0%|          | 0/11 [00:00<?, ?it/s]"
      ]
     },
     "metadata": {},
     "output_type": "display_data"
    },
    {
     "data": {
      "application/vnd.jupyter.widget-view+json": {
       "model_id": "",
       "version_major": 2,
       "version_minor": 0
      },
      "text/plain": [
       "Eval batch:   0%|          | 0/5 [00:00<?, ?it/s]"
      ]
     },
     "metadata": {},
     "output_type": "display_data"
    },
    {
     "data": {
      "application/vnd.jupyter.widget-view+json": {
       "model_id": "",
       "version_major": 2,
       "version_minor": 0
      },
      "text/plain": [
       "Train batch:   0%|          | 0/11 [00:00<?, ?it/s]"
      ]
     },
     "metadata": {},
     "output_type": "display_data"
    },
    {
     "data": {
      "application/vnd.jupyter.widget-view+json": {
       "model_id": "",
       "version_major": 2,
       "version_minor": 0
      },
      "text/plain": [
       "Eval batch:   0%|          | 0/5 [00:00<?, ?it/s]"
      ]
     },
     "metadata": {},
     "output_type": "display_data"
    },
    {
     "data": {
      "application/vnd.jupyter.widget-view+json": {
       "model_id": "",
       "version_major": 2,
       "version_minor": 0
      },
      "text/plain": [
       "Train batch:   0%|          | 0/11 [00:00<?, ?it/s]"
      ]
     },
     "metadata": {},
     "output_type": "display_data"
    },
    {
     "data": {
      "application/vnd.jupyter.widget-view+json": {
       "model_id": "",
       "version_major": 2,
       "version_minor": 0
      },
      "text/plain": [
       "Eval batch:   0%|          | 0/5 [00:00<?, ?it/s]"
      ]
     },
     "metadata": {},
     "output_type": "display_data"
    },
    {
     "data": {
      "application/vnd.jupyter.widget-view+json": {
       "model_id": "",
       "version_major": 2,
       "version_minor": 0
      },
      "text/plain": [
       "Train batch:   0%|          | 0/11 [00:00<?, ?it/s]"
      ]
     },
     "metadata": {},
     "output_type": "display_data"
    },
    {
     "data": {
      "application/vnd.jupyter.widget-view+json": {
       "model_id": "",
       "version_major": 2,
       "version_minor": 0
      },
      "text/plain": [
       "Eval batch:   0%|          | 0/5 [00:00<?, ?it/s]"
      ]
     },
     "metadata": {},
     "output_type": "display_data"
    },
    {
     "data": {
      "application/vnd.jupyter.widget-view+json": {
       "model_id": "",
       "version_major": 2,
       "version_minor": 0
      },
      "text/plain": [
       "Train batch:   0%|          | 0/11 [00:00<?, ?it/s]"
      ]
     },
     "metadata": {},
     "output_type": "display_data"
    },
    {
     "data": {
      "application/vnd.jupyter.widget-view+json": {
       "model_id": "2b2810bc287149bbb667f6b6dafd5f08",
       "version_major": 2,
       "version_minor": 0
      },
      "text/plain": [
       "Eval batch:   0%|          | 0/5 [00:00<?, ?it/s]"
      ]
     },
     "metadata": {},
     "output_type": "display_data"
    },
    {
     "data": {
      "application/vnd.jupyter.widget-view+json": {
       "model_id": "b5b35578ad234fcbb168b6fea14cb494",
       "version_major": 2,
       "version_minor": 0
      },
      "text/plain": [
       "Train batch:   0%|          | 0/11 [00:00<?, ?it/s]"
      ]
     },
     "metadata": {},
     "output_type": "display_data"
    },
    {
     "data": {
      "application/vnd.jupyter.widget-view+json": {
       "model_id": "0c3bb1d4d7fe4b7bbe6cc4845e5872d7",
       "version_major": 2,
       "version_minor": 0
      },
      "text/plain": [
       "Eval batch:   0%|          | 0/5 [00:00<?, ?it/s]"
      ]
     },
     "metadata": {},
     "output_type": "display_data"
    },
    {
     "data": {
      "application/vnd.jupyter.widget-view+json": {
       "model_id": "d248ccad295641d786de54c6f6becb2f",
       "version_major": 2,
       "version_minor": 0
      },
      "text/plain": [
       "Train batch:   0%|          | 0/11 [00:00<?, ?it/s]"
      ]
     },
     "metadata": {},
     "output_type": "display_data"
    },
    {
     "data": {
      "application/vnd.jupyter.widget-view+json": {
       "model_id": "46a55c7dc7204e5cb368c1a5ebb5f9d1",
       "version_major": 2,
       "version_minor": 0
      },
      "text/plain": [
       "Eval batch:   0%|          | 0/5 [00:00<?, ?it/s]"
      ]
     },
     "metadata": {},
     "output_type": "display_data"
    },
    {
     "data": {
      "application/vnd.jupyter.widget-view+json": {
       "model_id": "4efcb067baeb46ebafe4a0179ab8dc69",
       "version_major": 2,
       "version_minor": 0
      },
      "text/plain": [
       "Train batch:   0%|          | 0/11 [00:00<?, ?it/s]"
      ]
     },
     "metadata": {},
     "output_type": "display_data"
    },
    {
     "data": {
      "application/vnd.jupyter.widget-view+json": {
       "model_id": "9f23f556720246268f642915839d5b20",
       "version_major": 2,
       "version_minor": 0
      },
      "text/plain": [
       "Eval batch:   0%|          | 0/5 [00:00<?, ?it/s]"
      ]
     },
     "metadata": {},
     "output_type": "display_data"
    },
    {
     "data": {
      "application/vnd.jupyter.widget-view+json": {
       "model_id": "c57245a0624c413799c098f1536f75f9",
       "version_major": 2,
       "version_minor": 0
      },
      "text/plain": [
       "Train batch:   0%|          | 0/11 [00:00<?, ?it/s]"
      ]
     },
     "metadata": {},
     "output_type": "display_data"
    },
    {
     "data": {
      "application/vnd.jupyter.widget-view+json": {
       "model_id": "c4136f448dc74e26af01203791ebfd25",
       "version_major": 2,
       "version_minor": 0
      },
      "text/plain": [
       "Eval batch:   0%|          | 0/5 [00:00<?, ?it/s]"
      ]
     },
     "metadata": {},
     "output_type": "display_data"
    },
    {
     "data": {
      "application/vnd.jupyter.widget-view+json": {
       "model_id": "9a1c8fd98d3d49bc891f980c795d61cf",
       "version_major": 2,
       "version_minor": 0
      },
      "text/plain": [
       "Train batch:   0%|          | 0/11 [00:00<?, ?it/s]"
      ]
     },
     "metadata": {},
     "output_type": "display_data"
    },
    {
     "data": {
      "application/vnd.jupyter.widget-view+json": {
       "model_id": "441bf7aaac9c4222bd5b5f17e3631a1a",
       "version_major": 2,
       "version_minor": 0
      },
      "text/plain": [
       "Eval batch:   0%|          | 0/5 [00:00<?, ?it/s]"
      ]
     },
     "metadata": {},
     "output_type": "display_data"
    },
    {
     "data": {
      "application/vnd.jupyter.widget-view+json": {
       "model_id": "66c3b86791c9456eabe91af5e90b5273",
       "version_major": 2,
       "version_minor": 0
      },
      "text/plain": [
       "Train batch:   0%|          | 0/11 [00:00<?, ?it/s]"
      ]
     },
     "metadata": {},
     "output_type": "display_data"
    },
    {
     "data": {
      "application/vnd.jupyter.widget-view+json": {
       "model_id": "6b8357259a7a463c8e3c4b6b0de0c2cf",
       "version_major": 2,
       "version_minor": 0
      },
      "text/plain": [
       "Eval batch:   0%|          | 0/5 [00:00<?, ?it/s]"
      ]
     },
     "metadata": {},
     "output_type": "display_data"
    },
    {
     "data": {
      "application/vnd.jupyter.widget-view+json": {
       "model_id": "15bfa1c2b1644d9c8a9a8bc1d9b592ff",
       "version_major": 2,
       "version_minor": 0
      },
      "text/plain": [
       "Train batch:   0%|          | 0/11 [00:00<?, ?it/s]"
      ]
     },
     "metadata": {},
     "output_type": "display_data"
    },
    {
     "data": {
      "application/vnd.jupyter.widget-view+json": {
       "model_id": "7d47ee00e3c6493e91bacdd0cb95a68c",
       "version_major": 2,
       "version_minor": 0
      },
      "text/plain": [
       "Eval batch:   0%|          | 0/5 [00:00<?, ?it/s]"
      ]
     },
     "metadata": {},
     "output_type": "display_data"
    },
    {
     "data": {
      "application/vnd.jupyter.widget-view+json": {
       "model_id": "8d4232592ca74747b9940bce3885a869",
       "version_major": 2,
       "version_minor": 0
      },
      "text/plain": [
       "Train batch:   0%|          | 0/11 [00:00<?, ?it/s]"
      ]
     },
     "metadata": {},
     "output_type": "display_data"
    },
    {
     "data": {
      "application/vnd.jupyter.widget-view+json": {
       "model_id": "6abb7e53379a4afea03ebad95f9447c6",
       "version_major": 2,
       "version_minor": 0
      },
      "text/plain": [
       "Eval batch:   0%|          | 0/5 [00:00<?, ?it/s]"
      ]
     },
     "metadata": {},
     "output_type": "display_data"
    },
    {
     "data": {
      "application/vnd.jupyter.widget-view+json": {
       "model_id": "6f365bb8c11c42d995e915642edc9199",
       "version_major": 2,
       "version_minor": 0
      },
      "text/plain": [
       "Train batch:   0%|          | 0/11 [00:00<?, ?it/s]"
      ]
     },
     "metadata": {},
     "output_type": "display_data"
    },
    {
     "data": {
      "application/vnd.jupyter.widget-view+json": {
       "model_id": "3b112738771a4859abcad7c2d2673583",
       "version_major": 2,
       "version_minor": 0
      },
      "text/plain": [
       "Eval batch:   0%|          | 0/5 [00:00<?, ?it/s]"
      ]
     },
     "metadata": {},
     "output_type": "display_data"
    },
    {
     "data": {
      "application/vnd.jupyter.widget-view+json": {
       "model_id": "292a4953272346bc95f052115254796d",
       "version_major": 2,
       "version_minor": 0
      },
      "text/plain": [
       "Train batch:   0%|          | 0/11 [00:00<?, ?it/s]"
      ]
     },
     "metadata": {},
     "output_type": "display_data"
    },
    {
     "data": {
      "application/vnd.jupyter.widget-view+json": {
       "model_id": "a2ae9eb3199f42f49155b29ae7e7d582",
       "version_major": 2,
       "version_minor": 0
      },
      "text/plain": [
       "Eval batch:   0%|          | 0/5 [00:00<?, ?it/s]"
      ]
     },
     "metadata": {},
     "output_type": "display_data"
    },
    {
     "data": {
      "application/vnd.jupyter.widget-view+json": {
       "model_id": "a571e50d62fc4e45a23a7c14c0520c90",
       "version_major": 2,
       "version_minor": 0
      },
      "text/plain": [
       "Train batch:   0%|          | 0/11 [00:00<?, ?it/s]"
      ]
     },
     "metadata": {},
     "output_type": "display_data"
    },
    {
     "data": {
      "application/vnd.jupyter.widget-view+json": {
       "model_id": "07f11c98ab674fa099c95fd77128a1c6",
       "version_major": 2,
       "version_minor": 0
      },
      "text/plain": [
       "Eval batch:   0%|          | 0/5 [00:00<?, ?it/s]"
      ]
     },
     "metadata": {},
     "output_type": "display_data"
    },
    {
     "data": {
      "application/vnd.jupyter.widget-view+json": {
       "model_id": "ec598fb487594c6199748c3462dcf9a8",
       "version_major": 2,
       "version_minor": 0
      },
      "text/plain": [
       "Train batch:   0%|          | 0/11 [00:00<?, ?it/s]"
      ]
     },
     "metadata": {},
     "output_type": "display_data"
    },
    {
     "data": {
      "application/vnd.jupyter.widget-view+json": {
       "model_id": "7bc374aa44244cb5a36a2e40d935637e",
       "version_major": 2,
       "version_minor": 0
      },
      "text/plain": [
       "Eval batch:   0%|          | 0/5 [00:00<?, ?it/s]"
      ]
     },
     "metadata": {},
     "output_type": "display_data"
    },
    {
     "data": {
      "application/vnd.jupyter.widget-view+json": {
       "model_id": "ba90dee467f64785a32faf6000dab40c",
       "version_major": 2,
       "version_minor": 0
      },
      "text/plain": [
       "Train batch:   0%|          | 0/11 [00:00<?, ?it/s]"
      ]
     },
     "metadata": {},
     "output_type": "display_data"
    },
    {
     "data": {
      "application/vnd.jupyter.widget-view+json": {
       "model_id": "ce6ceb4826444aadb7f01a6be69fb1d2",
       "version_major": 2,
       "version_minor": 0
      },
      "text/plain": [
       "Eval batch:   0%|          | 0/5 [00:00<?, ?it/s]"
      ]
     },
     "metadata": {},
     "output_type": "display_data"
    },
    {
     "data": {
      "application/vnd.jupyter.widget-view+json": {
       "model_id": "e7c80ea29b2142d79f2da79f7b0c7dfb",
       "version_major": 2,
       "version_minor": 0
      },
      "text/plain": [
       "Train batch:   0%|          | 0/11 [00:00<?, ?it/s]"
      ]
     },
     "metadata": {},
     "output_type": "display_data"
    },
    {
     "data": {
      "application/vnd.jupyter.widget-view+json": {
       "model_id": "03908e4baa0f49d89918d9c74e386b64",
       "version_major": 2,
       "version_minor": 0
      },
      "text/plain": [
       "Eval batch:   0%|          | 0/5 [00:00<?, ?it/s]"
      ]
     },
     "metadata": {},
     "output_type": "display_data"
    },
    {
     "data": {
      "application/vnd.jupyter.widget-view+json": {
       "model_id": "0376b9573e594c4ba062db37e1765248",
       "version_major": 2,
       "version_minor": 0
      },
      "text/plain": [
       "Train batch:   0%|          | 0/11 [00:00<?, ?it/s]"
      ]
     },
     "metadata": {},
     "output_type": "display_data"
    },
    {
     "data": {
      "application/vnd.jupyter.widget-view+json": {
       "model_id": "93d3a4972e0b4b20abacac059e29f8c9",
       "version_major": 2,
       "version_minor": 0
      },
      "text/plain": [
       "Eval batch:   0%|          | 0/5 [00:00<?, ?it/s]"
      ]
     },
     "metadata": {},
     "output_type": "display_data"
    },
    {
     "data": {
      "application/vnd.jupyter.widget-view+json": {
       "model_id": "e6187f33c6c94e1e8b00c287c07d7d03",
       "version_major": 2,
       "version_minor": 0
      },
      "text/plain": [
       "Train batch:   0%|          | 0/11 [00:00<?, ?it/s]"
      ]
     },
     "metadata": {},
     "output_type": "display_data"
    },
    {
     "data": {
      "application/vnd.jupyter.widget-view+json": {
       "model_id": "96e00e21a16d421caddfe67f0b7630b8",
       "version_major": 2,
       "version_minor": 0
      },
      "text/plain": [
       "Eval batch:   0%|          | 0/5 [00:00<?, ?it/s]"
      ]
     },
     "metadata": {},
     "output_type": "display_data"
    },
    {
     "data": {
      "application/vnd.jupyter.widget-view+json": {
       "model_id": "888ad8477dcb41e6ba2f6f0cb533fd7e",
       "version_major": 2,
       "version_minor": 0
      },
      "text/plain": [
       "Train batch:   0%|          | 0/11 [00:00<?, ?it/s]"
      ]
     },
     "metadata": {},
     "output_type": "display_data"
    },
    {
     "data": {
      "application/vnd.jupyter.widget-view+json": {
       "model_id": "f0de4a1a2d8a4eecbb73d25b15e4481d",
       "version_major": 2,
       "version_minor": 0
      },
      "text/plain": [
       "Eval batch:   0%|          | 0/5 [00:00<?, ?it/s]"
      ]
     },
     "metadata": {},
     "output_type": "display_data"
    },
    {
     "data": {
      "application/vnd.jupyter.widget-view+json": {
       "model_id": "c13d96b3132e40d4937706b8b157e8b4",
       "version_major": 2,
       "version_minor": 0
      },
      "text/plain": [
       "Train batch:   0%|          | 0/11 [00:00<?, ?it/s]"
      ]
     },
     "metadata": {},
     "output_type": "display_data"
    },
    {
     "data": {
      "application/vnd.jupyter.widget-view+json": {
       "model_id": "327e493e9e314b63b07721db83c57085",
       "version_major": 2,
       "version_minor": 0
      },
      "text/plain": [
       "Eval batch:   0%|          | 0/5 [00:00<?, ?it/s]"
      ]
     },
     "metadata": {},
     "output_type": "display_data"
    },
    {
     "data": {
      "application/vnd.jupyter.widget-view+json": {
       "model_id": "100393cfeed947808c8b22f17c01d12f",
       "version_major": 2,
       "version_minor": 0
      },
      "text/plain": [
       "Train batch:   0%|          | 0/11 [00:00<?, ?it/s]"
      ]
     },
     "metadata": {},
     "output_type": "display_data"
    },
    {
     "data": {
      "application/vnd.jupyter.widget-view+json": {
       "model_id": "747464967b8d4fcfa264a6aa7e430eae",
       "version_major": 2,
       "version_minor": 0
      },
      "text/plain": [
       "Eval batch:   0%|          | 0/5 [00:00<?, ?it/s]"
      ]
     },
     "metadata": {},
     "output_type": "display_data"
    },
    {
     "data": {
      "application/vnd.jupyter.widget-view+json": {
       "model_id": "b75679a7c2f0407686af20ec255902cc",
       "version_major": 2,
       "version_minor": 0
      },
      "text/plain": [
       "Train batch:   0%|          | 0/11 [00:00<?, ?it/s]"
      ]
     },
     "metadata": {},
     "output_type": "display_data"
    },
    {
     "data": {
      "application/vnd.jupyter.widget-view+json": {
       "model_id": "a11b5d2d75c8447fbcde29c1714e1c05",
       "version_major": 2,
       "version_minor": 0
      },
      "text/plain": [
       "Eval batch:   0%|          | 0/5 [00:00<?, ?it/s]"
      ]
     },
     "metadata": {},
     "output_type": "display_data"
    },
    {
     "data": {
      "application/vnd.jupyter.widget-view+json": {
       "model_id": "ddd58136c8634fddb65a901913af2dab",
       "version_major": 2,
       "version_minor": 0
      },
      "text/plain": [
       "Train batch:   0%|          | 0/11 [00:00<?, ?it/s]"
      ]
     },
     "metadata": {},
     "output_type": "display_data"
    },
    {
     "data": {
      "application/vnd.jupyter.widget-view+json": {
       "model_id": "a104bb14eed042b4a0d08eb2c8663ac5",
       "version_major": 2,
       "version_minor": 0
      },
      "text/plain": [
       "Eval batch:   0%|          | 0/5 [00:00<?, ?it/s]"
      ]
     },
     "metadata": {},
     "output_type": "display_data"
    },
    {
     "data": {
      "application/vnd.jupyter.widget-view+json": {
       "model_id": "c7094ea04aa147e1a682928e42ad38a2",
       "version_major": 2,
       "version_minor": 0
      },
      "text/plain": [
       "Train batch:   0%|          | 0/11 [00:00<?, ?it/s]"
      ]
     },
     "metadata": {},
     "output_type": "display_data"
    },
    {
     "data": {
      "application/vnd.jupyter.widget-view+json": {
       "model_id": "035ca54bbb124358b6c9400832c10ea5",
       "version_major": 2,
       "version_minor": 0
      },
      "text/plain": [
       "Eval batch:   0%|          | 0/5 [00:00<?, ?it/s]"
      ]
     },
     "metadata": {},
     "output_type": "display_data"
    },
    {
     "data": {
      "application/vnd.jupyter.widget-view+json": {
       "model_id": "272624f3cd2545b8b063b10a29382e14",
       "version_major": 2,
       "version_minor": 0
      },
      "text/plain": [
       "Train batch:   0%|          | 0/11 [00:00<?, ?it/s]"
      ]
     },
     "metadata": {},
     "output_type": "display_data"
    },
    {
     "data": {
      "application/vnd.jupyter.widget-view+json": {
       "model_id": "dc0a7c56da184e2585b5f9e578300d4f",
       "version_major": 2,
       "version_minor": 0
      },
      "text/plain": [
       "Eval batch:   0%|          | 0/5 [00:00<?, ?it/s]"
      ]
     },
     "metadata": {},
     "output_type": "display_data"
    },
    {
     "data": {
      "application/vnd.jupyter.widget-view+json": {
       "model_id": "bb9649b133614236ac1a62498e6ecd1d",
       "version_major": 2,
       "version_minor": 0
      },
      "text/plain": [
       "Train batch:   0%|          | 0/11 [00:00<?, ?it/s]"
      ]
     },
     "metadata": {},
     "output_type": "display_data"
    },
    {
     "data": {
      "application/vnd.jupyter.widget-view+json": {
       "model_id": "5640087f8c744c1083292f18b6f56f56",
       "version_major": 2,
       "version_minor": 0
      },
      "text/plain": [
       "Eval batch:   0%|          | 0/5 [00:00<?, ?it/s]"
      ]
     },
     "metadata": {},
     "output_type": "display_data"
    },
    {
     "data": {
      "application/vnd.jupyter.widget-view+json": {
       "model_id": "9dafd9bfc4c7420dbcfb6c06cfe9cf6a",
       "version_major": 2,
       "version_minor": 0
      },
      "text/plain": [
       "Train batch:   0%|          | 0/11 [00:00<?, ?it/s]"
      ]
     },
     "metadata": {},
     "output_type": "display_data"
    },
    {
     "data": {
      "application/vnd.jupyter.widget-view+json": {
       "model_id": "5c16f8f9b1a2482fb210bdc3581398f9",
       "version_major": 2,
       "version_minor": 0
      },
      "text/plain": [
       "Eval batch:   0%|          | 0/5 [00:00<?, ?it/s]"
      ]
     },
     "metadata": {},
     "output_type": "display_data"
    },
    {
     "data": {
      "application/vnd.jupyter.widget-view+json": {
       "model_id": "78234e9391804c92be05787298ae4c45",
       "version_major": 2,
       "version_minor": 0
      },
      "text/plain": [
       "Train batch:   0%|          | 0/11 [00:00<?, ?it/s]"
      ]
     },
     "metadata": {},
     "output_type": "display_data"
    },
    {
     "data": {
      "application/vnd.jupyter.widget-view+json": {
       "model_id": "ec0592a8453a410bbb3c3a3aa1441136",
       "version_major": 2,
       "version_minor": 0
      },
      "text/plain": [
       "Eval batch:   0%|          | 0/5 [00:00<?, ?it/s]"
      ]
     },
     "metadata": {},
     "output_type": "display_data"
    },
    {
     "data": {
      "application/vnd.jupyter.widget-view+json": {
       "model_id": "fe48241daa784439bf0fa661519b5177",
       "version_major": 2,
       "version_minor": 0
      },
      "text/plain": [
       "Train batch:   0%|          | 0/11 [00:00<?, ?it/s]"
      ]
     },
     "metadata": {},
     "output_type": "display_data"
    },
    {
     "data": {
      "application/vnd.jupyter.widget-view+json": {
       "model_id": "86d9d83bb9b24bcaa09f0e32f9a734d5",
       "version_major": 2,
       "version_minor": 0
      },
      "text/plain": [
       "Eval batch:   0%|          | 0/5 [00:00<?, ?it/s]"
      ]
     },
     "metadata": {},
     "output_type": "display_data"
    },
    {
     "data": {
      "application/vnd.jupyter.widget-view+json": {
       "model_id": "1d89a6f8acf143d8b00423c2b385db99",
       "version_major": 2,
       "version_minor": 0
      },
      "text/plain": [
       "Train batch:   0%|          | 0/11 [00:00<?, ?it/s]"
      ]
     },
     "metadata": {},
     "output_type": "display_data"
    },
    {
     "data": {
      "application/vnd.jupyter.widget-view+json": {
       "model_id": "bb4b8bb5a5574dd29a719125fd1e3009",
       "version_major": 2,
       "version_minor": 0
      },
      "text/plain": [
       "Eval batch:   0%|          | 0/5 [00:00<?, ?it/s]"
      ]
     },
     "metadata": {},
     "output_type": "display_data"
    },
    {
     "data": {
      "application/vnd.jupyter.widget-view+json": {
       "model_id": "3f32187388ff4116a473a702b212f565",
       "version_major": 2,
       "version_minor": 0
      },
      "text/plain": [
       "Train batch:   0%|          | 0/11 [00:00<?, ?it/s]"
      ]
     },
     "metadata": {},
     "output_type": "display_data"
    },
    {
     "data": {
      "application/vnd.jupyter.widget-view+json": {
       "model_id": "69d0cb5fa4b94f2e84af35792b443f01",
       "version_major": 2,
       "version_minor": 0
      },
      "text/plain": [
       "Eval batch:   0%|          | 0/5 [00:00<?, ?it/s]"
      ]
     },
     "metadata": {},
     "output_type": "display_data"
    },
    {
     "data": {
      "application/vnd.jupyter.widget-view+json": {
       "model_id": "a46d071b29cd42e5899496747263c0f1",
       "version_major": 2,
       "version_minor": 0
      },
      "text/plain": [
       "Train batch:   0%|          | 0/11 [00:00<?, ?it/s]"
      ]
     },
     "metadata": {},
     "output_type": "display_data"
    },
    {
     "data": {
      "application/vnd.jupyter.widget-view+json": {
       "model_id": "647945a707014b59b2ea29b1022188ec",
       "version_major": 2,
       "version_minor": 0
      },
      "text/plain": [
       "Eval batch:   0%|          | 0/5 [00:00<?, ?it/s]"
      ]
     },
     "metadata": {},
     "output_type": "display_data"
    },
    {
     "data": {
      "application/vnd.jupyter.widget-view+json": {
       "model_id": "92bd00bbc2324cbbb5cdf0a5fff59b43",
       "version_major": 2,
       "version_minor": 0
      },
      "text/plain": [
       "Train batch:   0%|          | 0/11 [00:00<?, ?it/s]"
      ]
     },
     "metadata": {},
     "output_type": "display_data"
    },
    {
     "data": {
      "application/vnd.jupyter.widget-view+json": {
       "model_id": "1ffa97adeffb4dd9a89dc9741df7a6fd",
       "version_major": 2,
       "version_minor": 0
      },
      "text/plain": [
       "Eval batch:   0%|          | 0/5 [00:00<?, ?it/s]"
      ]
     },
     "metadata": {},
     "output_type": "display_data"
    },
    {
     "data": {
      "application/vnd.jupyter.widget-view+json": {
       "model_id": "a66aa6680c8b4779b5e621938c6c7e27",
       "version_major": 2,
       "version_minor": 0
      },
      "text/plain": [
       "Train batch:   0%|          | 0/11 [00:00<?, ?it/s]"
      ]
     },
     "metadata": {},
     "output_type": "display_data"
    },
    {
     "data": {
      "application/vnd.jupyter.widget-view+json": {
       "model_id": "5dbc9508f0f04251b3315a5567d297a7",
       "version_major": 2,
       "version_minor": 0
      },
      "text/plain": [
       "Eval batch:   0%|          | 0/5 [00:00<?, ?it/s]"
      ]
     },
     "metadata": {},
     "output_type": "display_data"
    },
    {
     "data": {
      "application/vnd.jupyter.widget-view+json": {
       "model_id": "fe87a41d936f453394171b6a033ce851",
       "version_major": 2,
       "version_minor": 0
      },
      "text/plain": [
       "Train batch:   0%|          | 0/11 [00:00<?, ?it/s]"
      ]
     },
     "metadata": {},
     "output_type": "display_data"
    },
    {
     "data": {
      "application/vnd.jupyter.widget-view+json": {
       "model_id": "ea191bc775284eb6aecd3cac58c7adda",
       "version_major": 2,
       "version_minor": 0
      },
      "text/plain": [
       "Eval batch:   0%|          | 0/5 [00:00<?, ?it/s]"
      ]
     },
     "metadata": {},
     "output_type": "display_data"
    },
    {
     "data": {
      "application/vnd.jupyter.widget-view+json": {
       "model_id": "3bef6806f4a849a58d1d624532a6e78b",
       "version_major": 2,
       "version_minor": 0
      },
      "text/plain": [
       "Train batch:   0%|          | 0/11 [00:00<?, ?it/s]"
      ]
     },
     "metadata": {},
     "output_type": "display_data"
    },
    {
     "data": {
      "application/vnd.jupyter.widget-view+json": {
       "model_id": "bb6a1f421b794d7d801de5fbecb4cddb",
       "version_major": 2,
       "version_minor": 0
      },
      "text/plain": [
       "Eval batch:   0%|          | 0/5 [00:00<?, ?it/s]"
      ]
     },
     "metadata": {},
     "output_type": "display_data"
    },
    {
     "data": {
      "application/vnd.jupyter.widget-view+json": {
       "model_id": "7ff8f748986e4bb3b0cf78df4bd832f1",
       "version_major": 2,
       "version_minor": 0
      },
      "text/plain": [
       "Train batch:   0%|          | 0/11 [00:00<?, ?it/s]"
      ]
     },
     "metadata": {},
     "output_type": "display_data"
    },
    {
     "data": {
      "application/vnd.jupyter.widget-view+json": {
       "model_id": "5982fdf1fe6f4996a185d511ce92e75f",
       "version_major": 2,
       "version_minor": 0
      },
      "text/plain": [
       "Eval batch:   0%|          | 0/5 [00:00<?, ?it/s]"
      ]
     },
     "metadata": {},
     "output_type": "display_data"
    },
    {
     "data": {
      "application/vnd.jupyter.widget-view+json": {
       "model_id": "e98b989161914e0fad518f27c6a36b3f",
       "version_major": 2,
       "version_minor": 0
      },
      "text/plain": [
       "Train batch:   0%|          | 0/11 [00:00<?, ?it/s]"
      ]
     },
     "metadata": {},
     "output_type": "display_data"
    },
    {
     "data": {
      "application/vnd.jupyter.widget-view+json": {
       "model_id": "eda2b920c1914ab3bed77fdb8ec1ca99",
       "version_major": 2,
       "version_minor": 0
      },
      "text/plain": [
       "Eval batch:   0%|          | 0/5 [00:00<?, ?it/s]"
      ]
     },
     "metadata": {},
     "output_type": "display_data"
    },
    {
     "data": {
      "application/vnd.jupyter.widget-view+json": {
       "model_id": "8e9fe4b51c87478b9d557b0f095e381f",
       "version_major": 2,
       "version_minor": 0
      },
      "text/plain": [
       "Train batch:   0%|          | 0/11 [00:00<?, ?it/s]"
      ]
     },
     "metadata": {},
     "output_type": "display_data"
    },
    {
     "data": {
      "application/vnd.jupyter.widget-view+json": {
       "model_id": "90a995f898bc424e8a320a946f763cfa",
       "version_major": 2,
       "version_minor": 0
      },
      "text/plain": [
       "Eval batch:   0%|          | 0/5 [00:00<?, ?it/s]"
      ]
     },
     "metadata": {},
     "output_type": "display_data"
    },
    {
     "data": {
      "application/vnd.jupyter.widget-view+json": {
       "model_id": "2a23aa388bfa4997bd315117234dbcb5",
       "version_major": 2,
       "version_minor": 0
      },
      "text/plain": [
       "Train batch:   0%|          | 0/11 [00:00<?, ?it/s]"
      ]
     },
     "metadata": {},
     "output_type": "display_data"
    },
    {
     "data": {
      "application/vnd.jupyter.widget-view+json": {
       "model_id": "3f2e18d1eab349b9b2a2098c20036dc4",
       "version_major": 2,
       "version_minor": 0
      },
      "text/plain": [
       "Eval batch:   0%|          | 0/5 [00:00<?, ?it/s]"
      ]
     },
     "metadata": {},
     "output_type": "display_data"
    },
    {
     "data": {
      "application/vnd.jupyter.widget-view+json": {
       "model_id": "bd8c39a60f734d1a9e8ad7738f940e10",
       "version_major": 2,
       "version_minor": 0
      },
      "text/plain": [
       "Train batch:   0%|          | 0/11 [00:00<?, ?it/s]"
      ]
     },
     "metadata": {},
     "output_type": "display_data"
    },
    {
     "data": {
      "application/vnd.jupyter.widget-view+json": {
       "model_id": "5a603784063042118132462459310dae",
       "version_major": 2,
       "version_minor": 0
      },
      "text/plain": [
       "Eval batch:   0%|          | 0/5 [00:00<?, ?it/s]"
      ]
     },
     "metadata": {},
     "output_type": "display_data"
    },
    {
     "data": {
      "application/vnd.jupyter.widget-view+json": {
       "model_id": "271da9a0b9cc44acb32405c86ab14362",
       "version_major": 2,
       "version_minor": 0
      },
      "text/plain": [
       "Train batch:   0%|          | 0/11 [00:00<?, ?it/s]"
      ]
     },
     "metadata": {},
     "output_type": "display_data"
    },
    {
     "data": {
      "application/vnd.jupyter.widget-view+json": {
       "model_id": "9161d1cb13b54c908c3c02e98144b0f5",
       "version_major": 2,
       "version_minor": 0
      },
      "text/plain": [
       "Eval batch:   0%|          | 0/5 [00:00<?, ?it/s]"
      ]
     },
     "metadata": {},
     "output_type": "display_data"
    },
    {
     "data": {
      "application/vnd.jupyter.widget-view+json": {
       "model_id": "c7c359a9cf934c29b757baf58bd3d32c",
       "version_major": 2,
       "version_minor": 0
      },
      "text/plain": [
       "Train batch:   0%|          | 0/11 [00:00<?, ?it/s]"
      ]
     },
     "metadata": {},
     "output_type": "display_data"
    },
    {
     "data": {
      "application/vnd.jupyter.widget-view+json": {
       "model_id": "97c2077a3c564e85aaea5c449a6ea714",
       "version_major": 2,
       "version_minor": 0
      },
      "text/plain": [
       "Eval batch:   0%|          | 0/5 [00:00<?, ?it/s]"
      ]
     },
     "metadata": {},
     "output_type": "display_data"
    },
    {
     "data": {
      "application/vnd.jupyter.widget-view+json": {
       "model_id": "914fb26cd0e84a0da5903f21aec8dbde",
       "version_major": 2,
       "version_minor": 0
      },
      "text/plain": [
       "Train batch:   0%|          | 0/11 [00:00<?, ?it/s]"
      ]
     },
     "metadata": {},
     "output_type": "display_data"
    },
    {
     "data": {
      "application/vnd.jupyter.widget-view+json": {
       "model_id": "9c13ae80aa9a45f3bfcd092a461f32cb",
       "version_major": 2,
       "version_minor": 0
      },
      "text/plain": [
       "Eval batch:   0%|          | 0/5 [00:00<?, ?it/s]"
      ]
     },
     "metadata": {},
     "output_type": "display_data"
    },
    {
     "data": {
      "application/vnd.jupyter.widget-view+json": {
       "model_id": "744e259d146143308de964dbcb13f242",
       "version_major": 2,
       "version_minor": 0
      },
      "text/plain": [
       "Train batch:   0%|          | 0/11 [00:00<?, ?it/s]"
      ]
     },
     "metadata": {},
     "output_type": "display_data"
    },
    {
     "data": {
      "application/vnd.jupyter.widget-view+json": {
       "model_id": "a58c448455e549aba9b0e25c6d6393ce",
       "version_major": 2,
       "version_minor": 0
      },
      "text/plain": [
       "Eval batch:   0%|          | 0/5 [00:00<?, ?it/s]"
      ]
     },
     "metadata": {},
     "output_type": "display_data"
    },
    {
     "data": {
      "application/vnd.jupyter.widget-view+json": {
       "model_id": "3098a526d8cd43c6a8d3420083fcf9d2",
       "version_major": 2,
       "version_minor": 0
      },
      "text/plain": [
       "Train batch:   0%|          | 0/11 [00:00<?, ?it/s]"
      ]
     },
     "metadata": {},
     "output_type": "display_data"
    },
    {
     "data": {
      "application/vnd.jupyter.widget-view+json": {
       "model_id": "50f368d2b2c947b7ae28955e08828d16",
       "version_major": 2,
       "version_minor": 0
      },
      "text/plain": [
       "Eval batch:   0%|          | 0/5 [00:00<?, ?it/s]"
      ]
     },
     "metadata": {},
     "output_type": "display_data"
    },
    {
     "data": {
      "application/vnd.jupyter.widget-view+json": {
       "model_id": "0ff4a506041949e6a36240baef83598c",
       "version_major": 2,
       "version_minor": 0
      },
      "text/plain": [
       "Train batch:   0%|          | 0/11 [00:00<?, ?it/s]"
      ]
     },
     "metadata": {},
     "output_type": "display_data"
    },
    {
     "data": {
      "application/vnd.jupyter.widget-view+json": {
       "model_id": "58c568947cd14950ba6cadf9e074e396",
       "version_major": 2,
       "version_minor": 0
      },
      "text/plain": [
       "Eval batch:   0%|          | 0/5 [00:00<?, ?it/s]"
      ]
     },
     "metadata": {},
     "output_type": "display_data"
    },
    {
     "data": {
      "application/vnd.jupyter.widget-view+json": {
       "model_id": "54b200b3acad4305939933034f7d5606",
       "version_major": 2,
       "version_minor": 0
      },
      "text/plain": [
       "Train batch:   0%|          | 0/11 [00:00<?, ?it/s]"
      ]
     },
     "metadata": {},
     "output_type": "display_data"
    },
    {
     "data": {
      "application/vnd.jupyter.widget-view+json": {
       "model_id": "103bc55121cf416e9fd38283d3cc798d",
       "version_major": 2,
       "version_minor": 0
      },
      "text/plain": [
       "Eval batch:   0%|          | 0/5 [00:00<?, ?it/s]"
      ]
     },
     "metadata": {},
     "output_type": "display_data"
    },
    {
     "data": {
      "application/vnd.jupyter.widget-view+json": {
       "model_id": "2eb5222e544445afab8d08a98aa7f47a",
       "version_major": 2,
       "version_minor": 0
      },
      "text/plain": [
       "Train batch:   0%|          | 0/11 [00:00<?, ?it/s]"
      ]
     },
     "metadata": {},
     "output_type": "display_data"
    },
    {
     "data": {
      "application/vnd.jupyter.widget-view+json": {
       "model_id": "948c26bd254e4f20b17f77d4cbe1b346",
       "version_major": 2,
       "version_minor": 0
      },
      "text/plain": [
       "Eval batch:   0%|          | 0/5 [00:00<?, ?it/s]"
      ]
     },
     "metadata": {},
     "output_type": "display_data"
    },
    {
     "data": {
      "application/vnd.jupyter.widget-view+json": {
       "model_id": "de5c40e9e06848fe8945656c481167b7",
       "version_major": 2,
       "version_minor": 0
      },
      "text/plain": [
       "Train batch:   0%|          | 0/11 [00:00<?, ?it/s]"
      ]
     },
     "metadata": {},
     "output_type": "display_data"
    },
    {
     "data": {
      "application/vnd.jupyter.widget-view+json": {
       "model_id": "b194e3ddd5f84c9bac7f051f014ffbdc",
       "version_major": 2,
       "version_minor": 0
      },
      "text/plain": [
       "Eval batch:   0%|          | 0/5 [00:00<?, ?it/s]"
      ]
     },
     "metadata": {},
     "output_type": "display_data"
    },
    {
     "data": {
      "application/vnd.jupyter.widget-view+json": {
       "model_id": "c84303c0923f472fa784d2957faea19e",
       "version_major": 2,
       "version_minor": 0
      },
      "text/plain": [
       "Train batch:   0%|          | 0/11 [00:00<?, ?it/s]"
      ]
     },
     "metadata": {},
     "output_type": "display_data"
    },
    {
     "data": {
      "application/vnd.jupyter.widget-view+json": {
       "model_id": "5d08ba6f768c40b8ae28419f5133946f",
       "version_major": 2,
       "version_minor": 0
      },
      "text/plain": [
       "Eval batch:   0%|          | 0/5 [00:00<?, ?it/s]"
      ]
     },
     "metadata": {},
     "output_type": "display_data"
    },
    {
     "data": {
      "application/vnd.jupyter.widget-view+json": {
       "model_id": "5c59f54807004808852f3bdb5949497e",
       "version_major": 2,
       "version_minor": 0
      },
      "text/plain": [
       "Train batch:   0%|          | 0/11 [00:00<?, ?it/s]"
      ]
     },
     "metadata": {},
     "output_type": "display_data"
    },
    {
     "data": {
      "application/vnd.jupyter.widget-view+json": {
       "model_id": "9c3c5416e01a42f1bef76e621d397a60",
       "version_major": 2,
       "version_minor": 0
      },
      "text/plain": [
       "Eval batch:   0%|          | 0/5 [00:00<?, ?it/s]"
      ]
     },
     "metadata": {},
     "output_type": "display_data"
    },
    {
     "data": {
      "application/vnd.jupyter.widget-view+json": {
       "model_id": "c0c249e3670249678ab30b132b2dec3a",
       "version_major": 2,
       "version_minor": 0
      },
      "text/plain": [
       "Train batch:   0%|          | 0/11 [00:00<?, ?it/s]"
      ]
     },
     "metadata": {},
     "output_type": "display_data"
    },
    {
     "data": {
      "application/vnd.jupyter.widget-view+json": {
       "model_id": "3d1b401205494e70bb050a3fae5e8c30",
       "version_major": 2,
       "version_minor": 0
      },
      "text/plain": [
       "Eval batch:   0%|          | 0/5 [00:00<?, ?it/s]"
      ]
     },
     "metadata": {},
     "output_type": "display_data"
    },
    {
     "data": {
      "application/vnd.jupyter.widget-view+json": {
       "model_id": "c18abc61d6154b87adb50482ccf2ec19",
       "version_major": 2,
       "version_minor": 0
      },
      "text/plain": [
       "Train batch:   0%|          | 0/11 [00:00<?, ?it/s]"
      ]
     },
     "metadata": {},
     "output_type": "display_data"
    },
    {
     "data": {
      "application/vnd.jupyter.widget-view+json": {
       "model_id": "88a5561570b5421ebe59f421e8410eb8",
       "version_major": 2,
       "version_minor": 0
      },
      "text/plain": [
       "Eval batch:   0%|          | 0/5 [00:00<?, ?it/s]"
      ]
     },
     "metadata": {},
     "output_type": "display_data"
    },
    {
     "data": {
      "application/vnd.jupyter.widget-view+json": {
       "model_id": "917b30b949584fd4958e94a95a6c2fd7",
       "version_major": 2,
       "version_minor": 0
      },
      "text/plain": [
       "Train batch:   0%|          | 0/11 [00:00<?, ?it/s]"
      ]
     },
     "metadata": {},
     "output_type": "display_data"
    },
    {
     "data": {
      "application/vnd.jupyter.widget-view+json": {
       "model_id": "c04e98361eb14cfb96282c2bd5d6c2a9",
       "version_major": 2,
       "version_minor": 0
      },
      "text/plain": [
       "Eval batch:   0%|          | 0/5 [00:00<?, ?it/s]"
      ]
     },
     "metadata": {},
     "output_type": "display_data"
    },
    {
     "data": {
      "application/vnd.jupyter.widget-view+json": {
       "model_id": "5b693b79bf5c420286d1560ed48813f2",
       "version_major": 2,
       "version_minor": 0
      },
      "text/plain": [
       "Train batch:   0%|          | 0/11 [00:00<?, ?it/s]"
      ]
     },
     "metadata": {},
     "output_type": "display_data"
    },
    {
     "data": {
      "application/vnd.jupyter.widget-view+json": {
       "model_id": "e92b83b949c64cc58deefe1722935295",
       "version_major": 2,
       "version_minor": 0
      },
      "text/plain": [
       "Eval batch:   0%|          | 0/5 [00:00<?, ?it/s]"
      ]
     },
     "metadata": {},
     "output_type": "display_data"
    },
    {
     "data": {
      "application/vnd.jupyter.widget-view+json": {
       "model_id": "46910965b9e54523a41133c8c56722cc",
       "version_major": 2,
       "version_minor": 0
      },
      "text/plain": [
       "Train batch:   0%|          | 0/11 [00:00<?, ?it/s]"
      ]
     },
     "metadata": {},
     "output_type": "display_data"
    },
    {
     "data": {
      "application/vnd.jupyter.widget-view+json": {
       "model_id": "1d36545a35884580bd1b6ae730124e28",
       "version_major": 2,
       "version_minor": 0
      },
      "text/plain": [
       "Eval batch:   0%|          | 0/5 [00:00<?, ?it/s]"
      ]
     },
     "metadata": {},
     "output_type": "display_data"
    },
    {
     "data": {
      "application/vnd.jupyter.widget-view+json": {
       "model_id": "0a530c0ec3c54f35bd7311f943a1f058",
       "version_major": 2,
       "version_minor": 0
      },
      "text/plain": [
       "Train batch:   0%|          | 0/11 [00:00<?, ?it/s]"
      ]
     },
     "metadata": {},
     "output_type": "display_data"
    },
    {
     "data": {
      "application/vnd.jupyter.widget-view+json": {
       "model_id": "d8535b59214246cbbdf6b761d2d696a0",
       "version_major": 2,
       "version_minor": 0
      },
      "text/plain": [
       "Eval batch:   0%|          | 0/5 [00:00<?, ?it/s]"
      ]
     },
     "metadata": {},
     "output_type": "display_data"
    },
    {
     "data": {
      "application/vnd.jupyter.widget-view+json": {
       "model_id": "22ad34adfe2440b284e2d4cdbbc4b12f",
       "version_major": 2,
       "version_minor": 0
      },
      "text/plain": [
       "Train batch:   0%|          | 0/11 [00:00<?, ?it/s]"
      ]
     },
     "metadata": {},
     "output_type": "display_data"
    },
    {
     "data": {
      "application/vnd.jupyter.widget-view+json": {
       "model_id": "7d6fc6ea0acf427282dacf105a3a670c",
       "version_major": 2,
       "version_minor": 0
      },
      "text/plain": [
       "Eval batch:   0%|          | 0/5 [00:00<?, ?it/s]"
      ]
     },
     "metadata": {},
     "output_type": "display_data"
    },
    {
     "data": {
      "application/vnd.jupyter.widget-view+json": {
       "model_id": "592b4ec1ee334f5cbb194df9911adf2b",
       "version_major": 2,
       "version_minor": 0
      },
      "text/plain": [
       "Train batch:   0%|          | 0/11 [00:00<?, ?it/s]"
      ]
     },
     "metadata": {},
     "output_type": "display_data"
    },
    {
     "data": {
      "application/vnd.jupyter.widget-view+json": {
       "model_id": "e517d45a45a040c48db62e65b55b722e",
       "version_major": 2,
       "version_minor": 0
      },
      "text/plain": [
       "Eval batch:   0%|          | 0/5 [00:00<?, ?it/s]"
      ]
     },
     "metadata": {},
     "output_type": "display_data"
    },
    {
     "data": {
      "application/vnd.jupyter.widget-view+json": {
       "model_id": "614d72d9015a457380b2412626fc2099",
       "version_major": 2,
       "version_minor": 0
      },
      "text/plain": [
       "Train batch:   0%|          | 0/11 [00:00<?, ?it/s]"
      ]
     },
     "metadata": {},
     "output_type": "display_data"
    },
    {
     "data": {
      "application/vnd.jupyter.widget-view+json": {
       "model_id": "01e543dcea514ddfa28250adc13e1edb",
       "version_major": 2,
       "version_minor": 0
      },
      "text/plain": [
       "Eval batch:   0%|          | 0/5 [00:00<?, ?it/s]"
      ]
     },
     "metadata": {},
     "output_type": "display_data"
    },
    {
     "data": {
      "application/vnd.jupyter.widget-view+json": {
       "model_id": "bf538696cfa54e86b00c72c089b2a48a",
       "version_major": 2,
       "version_minor": 0
      },
      "text/plain": [
       "Train batch:   0%|          | 0/11 [00:00<?, ?it/s]"
      ]
     },
     "metadata": {},
     "output_type": "display_data"
    },
    {
     "data": {
      "application/vnd.jupyter.widget-view+json": {
       "model_id": "cab82894e65d4df2ad83fb77a47cf554",
       "version_major": 2,
       "version_minor": 0
      },
      "text/plain": [
       "Eval batch:   0%|          | 0/5 [00:00<?, ?it/s]"
      ]
     },
     "metadata": {},
     "output_type": "display_data"
    },
    {
     "data": {
      "application/vnd.jupyter.widget-view+json": {
       "model_id": "2bf9697697834c6a863910d41ee07088",
       "version_major": 2,
       "version_minor": 0
      },
      "text/plain": [
       "Train batch:   0%|          | 0/11 [00:00<?, ?it/s]"
      ]
     },
     "metadata": {},
     "output_type": "display_data"
    },
    {
     "data": {
      "application/vnd.jupyter.widget-view+json": {
       "model_id": "226e9a1794c14725b8d62a17c535aad4",
       "version_major": 2,
       "version_minor": 0
      },
      "text/plain": [
       "Eval batch:   0%|          | 0/5 [00:00<?, ?it/s]"
      ]
     },
     "metadata": {},
     "output_type": "display_data"
    },
    {
     "data": {
      "application/vnd.jupyter.widget-view+json": {
       "model_id": "73e88ac059d54de794dabe40c264c45c",
       "version_major": 2,
       "version_minor": 0
      },
      "text/plain": [
       "Train batch:   0%|          | 0/11 [00:00<?, ?it/s]"
      ]
     },
     "metadata": {},
     "output_type": "display_data"
    },
    {
     "data": {
      "application/vnd.jupyter.widget-view+json": {
       "model_id": "aa4a89980ad947d4b09ec46ca61d55e6",
       "version_major": 2,
       "version_minor": 0
      },
      "text/plain": [
       "Eval batch:   0%|          | 0/5 [00:00<?, ?it/s]"
      ]
     },
     "metadata": {},
     "output_type": "display_data"
    },
    {
     "data": {
      "application/vnd.jupyter.widget-view+json": {
       "model_id": "dc6c3ca22d6b4efe88c45cf2c5430100",
       "version_major": 2,
       "version_minor": 0
      },
      "text/plain": [
       "Train batch:   0%|          | 0/11 [00:00<?, ?it/s]"
      ]
     },
     "metadata": {},
     "output_type": "display_data"
    },
    {
     "data": {
      "application/vnd.jupyter.widget-view+json": {
       "model_id": "8d0d43c9911545cea48510f0f433b0fd",
       "version_major": 2,
       "version_minor": 0
      },
      "text/plain": [
       "Eval batch:   0%|          | 0/5 [00:00<?, ?it/s]"
      ]
     },
     "metadata": {},
     "output_type": "display_data"
    },
    {
     "data": {
      "application/vnd.jupyter.widget-view+json": {
       "model_id": "e55f581d5bec4ba887befd654f8760a5",
       "version_major": 2,
       "version_minor": 0
      },
      "text/plain": [
       "Train batch:   0%|          | 0/11 [00:00<?, ?it/s]"
      ]
     },
     "metadata": {},
     "output_type": "display_data"
    },
    {
     "data": {
      "application/vnd.jupyter.widget-view+json": {
       "model_id": "143035b8ced6464ab91d585fc269cc8b",
       "version_major": 2,
       "version_minor": 0
      },
      "text/plain": [
       "Eval batch:   0%|          | 0/5 [00:00<?, ?it/s]"
      ]
     },
     "metadata": {},
     "output_type": "display_data"
    },
    {
     "data": {
      "application/vnd.jupyter.widget-view+json": {
       "model_id": "f5ce1d4be7fe42ea9f00294b0c69be1e",
       "version_major": 2,
       "version_minor": 0
      },
      "text/plain": [
       "Train batch:   0%|          | 0/11 [00:00<?, ?it/s]"
      ]
     },
     "metadata": {},
     "output_type": "display_data"
    },
    {
     "data": {
      "application/vnd.jupyter.widget-view+json": {
       "model_id": "c6cf2fb6fda54916995745d6078e32e1",
       "version_major": 2,
       "version_minor": 0
      },
      "text/plain": [
       "Eval batch:   0%|          | 0/5 [00:00<?, ?it/s]"
      ]
     },
     "metadata": {},
     "output_type": "display_data"
    },
    {
     "data": {
      "application/vnd.jupyter.widget-view+json": {
       "model_id": "53a273a9c4f547e682a48a6b37ed4797",
       "version_major": 2,
       "version_minor": 0
      },
      "text/plain": [
       "Train batch:   0%|          | 0/11 [00:00<?, ?it/s]"
      ]
     },
     "metadata": {},
     "output_type": "display_data"
    },
    {
     "data": {
      "application/vnd.jupyter.widget-view+json": {
       "model_id": "b4c5e9ca346645e7b143f26bfbd646cb",
       "version_major": 2,
       "version_minor": 0
      },
      "text/plain": [
       "Eval batch:   0%|          | 0/5 [00:00<?, ?it/s]"
      ]
     },
     "metadata": {},
     "output_type": "display_data"
    },
    {
     "data": {
      "application/vnd.jupyter.widget-view+json": {
       "model_id": "a097cf37e16a4b3e822c52ac48c349f7",
       "version_major": 2,
       "version_minor": 0
      },
      "text/plain": [
       "Train batch:   0%|          | 0/11 [00:00<?, ?it/s]"
      ]
     },
     "metadata": {},
     "output_type": "display_data"
    },
    {
     "data": {
      "application/vnd.jupyter.widget-view+json": {
       "model_id": "1368ea23f48a4a919276ebcea79c0f91",
       "version_major": 2,
       "version_minor": 0
      },
      "text/plain": [
       "Eval batch:   0%|          | 0/5 [00:00<?, ?it/s]"
      ]
     },
     "metadata": {},
     "output_type": "display_data"
    },
    {
     "data": {
      "application/vnd.jupyter.widget-view+json": {
       "model_id": "7c550eb1d4d64301aead1c4e57479f00",
       "version_major": 2,
       "version_minor": 0
      },
      "text/plain": [
       "Train batch:   0%|          | 0/11 [00:00<?, ?it/s]"
      ]
     },
     "metadata": {},
     "output_type": "display_data"
    },
    {
     "data": {
      "application/vnd.jupyter.widget-view+json": {
       "model_id": "eb5e6f5b10bf43eb9a42da1a49f41e5c",
       "version_major": 2,
       "version_minor": 0
      },
      "text/plain": [
       "Eval batch:   0%|          | 0/5 [00:00<?, ?it/s]"
      ]
     },
     "metadata": {},
     "output_type": "display_data"
    },
    {
     "data": {
      "application/vnd.jupyter.widget-view+json": {
       "model_id": "220b9d9024c548249a767579bece14e7",
       "version_major": 2,
       "version_minor": 0
      },
      "text/plain": [
       "Train batch:   0%|          | 0/11 [00:00<?, ?it/s]"
      ]
     },
     "metadata": {},
     "output_type": "display_data"
    },
    {
     "data": {
      "application/vnd.jupyter.widget-view+json": {
       "model_id": "5332ea94b40241399d8b155a8efb046e",
       "version_major": 2,
       "version_minor": 0
      },
      "text/plain": [
       "Eval batch:   0%|          | 0/5 [00:00<?, ?it/s]"
      ]
     },
     "metadata": {},
     "output_type": "display_data"
    },
    {
     "data": {
      "application/vnd.jupyter.widget-view+json": {
       "model_id": "ec7cebaf2774414d8030dc47c454bdff",
       "version_major": 2,
       "version_minor": 0
      },
      "text/plain": [
       "Train batch:   0%|          | 0/11 [00:00<?, ?it/s]"
      ]
     },
     "metadata": {},
     "output_type": "display_data"
    },
    {
     "data": {
      "application/vnd.jupyter.widget-view+json": {
       "model_id": "b4b4f18c440d44a3afd5a842a826e9c7",
       "version_major": 2,
       "version_minor": 0
      },
      "text/plain": [
       "Eval batch:   0%|          | 0/5 [00:00<?, ?it/s]"
      ]
     },
     "metadata": {},
     "output_type": "display_data"
    },
    {
     "data": {
      "application/vnd.jupyter.widget-view+json": {
       "model_id": "a31c7ee91f284d22bda31612dc2e5957",
       "version_major": 2,
       "version_minor": 0
      },
      "text/plain": [
       "Train batch:   0%|          | 0/11 [00:00<?, ?it/s]"
      ]
     },
     "metadata": {},
     "output_type": "display_data"
    },
    {
     "data": {
      "application/vnd.jupyter.widget-view+json": {
       "model_id": "d65c74d8fa8641d88345c9d05077b15f",
       "version_major": 2,
       "version_minor": 0
      },
      "text/plain": [
       "Eval batch:   0%|          | 0/5 [00:00<?, ?it/s]"
      ]
     },
     "metadata": {},
     "output_type": "display_data"
    },
    {
     "data": {
      "application/vnd.jupyter.widget-view+json": {
       "model_id": "8ef5680fed66410d8d9a9f51e5f4294e",
       "version_major": 2,
       "version_minor": 0
      },
      "text/plain": [
       "Train batch:   0%|          | 0/11 [00:00<?, ?it/s]"
      ]
     },
     "metadata": {},
     "output_type": "display_data"
    },
    {
     "data": {
      "application/vnd.jupyter.widget-view+json": {
       "model_id": "93f4df54ef824cad8f5c54a8940f6f15",
       "version_major": 2,
       "version_minor": 0
      },
      "text/plain": [
       "Eval batch:   0%|          | 0/5 [00:00<?, ?it/s]"
      ]
     },
     "metadata": {},
     "output_type": "display_data"
    },
    {
     "data": {
      "application/vnd.jupyter.widget-view+json": {
       "model_id": "fe5293643fcb45d9a00f5b684d096cfa",
       "version_major": 2,
       "version_minor": 0
      },
      "text/plain": [
       "Train batch:   0%|          | 0/11 [00:00<?, ?it/s]"
      ]
     },
     "metadata": {},
     "output_type": "display_data"
    },
    {
     "data": {
      "application/vnd.jupyter.widget-view+json": {
       "model_id": "09ade35c6c364500bfb947f6ea8205e9",
       "version_major": 2,
       "version_minor": 0
      },
      "text/plain": [
       "Eval batch:   0%|          | 0/5 [00:00<?, ?it/s]"
      ]
     },
     "metadata": {},
     "output_type": "display_data"
    },
    {
     "data": {
      "application/vnd.jupyter.widget-view+json": {
       "model_id": "faadcf0aaa1c456b86d64a591e66083a",
       "version_major": 2,
       "version_minor": 0
      },
      "text/plain": [
       "Train batch:   0%|          | 0/11 [00:00<?, ?it/s]"
      ]
     },
     "metadata": {},
     "output_type": "display_data"
    },
    {
     "data": {
      "application/vnd.jupyter.widget-view+json": {
       "model_id": "d7613fa2736b445c8c566cf30d142084",
       "version_major": 2,
       "version_minor": 0
      },
      "text/plain": [
       "Eval batch:   0%|          | 0/5 [00:00<?, ?it/s]"
      ]
     },
     "metadata": {},
     "output_type": "display_data"
    },
    {
     "data": {
      "application/vnd.jupyter.widget-view+json": {
       "model_id": "c5fc879f6da14f3a8b585de221c0ed1a",
       "version_major": 2,
       "version_minor": 0
      },
      "text/plain": [
       "Train batch:   0%|          | 0/11 [00:00<?, ?it/s]"
      ]
     },
     "metadata": {},
     "output_type": "display_data"
    },
    {
     "data": {
      "application/vnd.jupyter.widget-view+json": {
       "model_id": "cf7e064c2e024027bad9ac4a953025e1",
       "version_major": 2,
       "version_minor": 0
      },
      "text/plain": [
       "Eval batch:   0%|          | 0/5 [00:00<?, ?it/s]"
      ]
     },
     "metadata": {},
     "output_type": "display_data"
    }
   ],
   "source": [
    "lm_train_state = train_model(\n",
    "    model=lm,\n",
    "    optimizer=optim.AdamW(lm.parameters(), lr=3e-4),\n",
    "    train_dl=train_dl,\n",
    "    val_dl=val_dl,\n",
    "    num_epochs=100,\n",
    "    criterion='corr',\n",
    "    criterion_dirn='higher',\n",
    "    model_path='./nn_models/linear.pkl',\n",
    "    train_state=lm_train_state,\n",
    ")"
   ]
  },
  {
   "cell_type": "code",
   "execution_count": 24,
   "id": "27185c59-1bf0-4b15-8ef1-ff396e05372e",
   "metadata": {},
   "outputs": [
    {
     "data": {
      "text/plain": [
       "{'best_val_model': BestModel(metric=0.02899417206645012, model=LinearModel(n_feats=641), epoch=101),\n",
       " 'train_metrics': corr: 0.0503 mse: 0.0515 sharpe: 2.2601,\n",
       " 'val_metrics': corr: 0.0272 mse: 0.0518 sharpe: 2.4495}"
      ]
     },
     "metadata": {},
     "output_type": "display_data"
    },
    {
     "data": {
      "image/png": "[encoded data removed]",
      "text/plain": [
       "<Figure size 1440x288 with 3 Axes>"
      ]
     },
     "metadata": {
      "needs_background": "light"
     },
     "output_type": "display_data"
    },
    {
     "data": {
      "image/png": "[encoded data removed]",
      "text/plain": [
       "<Figure size 1440x288 with 3 Axes>"
      ]
     },
     "metadata": {
      "needs_background": "light"
     },
     "output_type": "display_data"
    },
    {
     "data": {
      "text/html": [
       "<div>\n",
       "<style scoped>\n",
       "    .dataframe tbody tr th:only-of-type {\n",
       "        vertical-align: middle;\n",
       "    }\n",
       "\n",
       "    .dataframe tbody tr th {\n",
       "        vertical-align: top;\n",
       "    }\n",
       "\n",
       "    .dataframe thead th {\n",
       "        text-align: right;\n",
       "    }\n",
       "</style>\n",
       "<table border=\"1\" class=\"dataframe\">\n",
       "  <thead>\n",
       "    <tr style=\"text-align: right;\">\n",
       "      <th></th>\n",
       "      <th>mse</th>\n",
       "      <th>corr</th>\n",
       "      <th>sharpe</th>\n",
       "    </tr>\n",
       "  </thead>\n",
       "  <tbody>\n",
       "    <tr>\n",
       "      <th>96</th>\n",
       "      <td>0.051117</td>\n",
       "      <td>0.028823</td>\n",
       "      <td>2.529862</td>\n",
       "    </tr>\n",
       "    <tr>\n",
       "      <th>97</th>\n",
       "      <td>0.051219</td>\n",
       "      <td>0.028785</td>\n",
       "      <td>2.596724</td>\n",
       "    </tr>\n",
       "    <tr>\n",
       "      <th>98</th>\n",
       "      <td>0.051401</td>\n",
       "      <td>0.028725</td>\n",
       "      <td>2.623118</td>\n",
       "    </tr>\n",
       "    <tr>\n",
       "      <th>99</th>\n",
       "      <td>0.051131</td>\n",
       "      <td>0.028994</td>\n",
       "      <td>2.592526</td>\n",
       "    </tr>\n",
       "  </tbody>\n",
       "</table>\n",
       "</div>"
      ],
      "text/plain": [
       "         mse      corr    sharpe\n",
       "96  0.051117  0.028823  2.529862\n",
       "97  0.051219  0.028785  2.596724\n",
       "98  0.051401  0.028725  2.623118\n",
       "99  0.051131  0.028994  2.592526"
      ]
     },
     "metadata": {},
     "output_type": "display_data"
    },
    {
     "name": "stdout",
     "output_type": "stream",
     "text": [
      "\n",
      "Final model on test set\n",
      "-----------------------\n"
     ]
    },
    {
     "data": {
      "application/vnd.jupyter.widget-view+json": {
       "model_id": "",
       "version_major": 2,
       "version_minor": 0
      },
      "text/plain": [
       "Batches:   0%|          | 0/13 [00:00<?, ?it/s]"
      ]
     },
     "metadata": {},
     "output_type": "display_data"
    },
    {
     "data": {
      "application/vnd.jupyter.widget-view+json": {
       "model_id": "",
       "version_major": 2,
       "version_minor": 0
      },
      "text/plain": [
       "Batches:   0%|          | 0/13 [00:00<?, ?it/s]"
      ]
     },
     "metadata": {},
     "output_type": "display_data"
    },
    {
     "name": "stdout",
     "output_type": "stream",
     "text": [
      "test_df.shape=(2546387, 645), preds.shape=(2546387,)\n",
      "Corr: {'corr': 0.011231826532390677, 'sharpe': 0.5646525686481434}\n",
      "\n",
      "Best val model on test set\n",
      "--------------------------\n"
     ]
    },
    {
     "data": {
      "application/vnd.jupyter.widget-view+json": {
       "model_id": "",
       "version_major": 2,
       "version_minor": 0
      },
      "text/plain": [
       "Batches:   0%|          | 0/13 [00:00<?, ?it/s]"
      ]
     },
     "metadata": {},
     "output_type": "display_data"
    },
    {
     "data": {
      "application/vnd.jupyter.widget-view+json": {
       "model_id": "",
       "version_major": 2,
       "version_minor": 0
      },
      "text/plain": [
       "Batches:   0%|          | 0/13 [00:00<?, ?it/s]"
      ]
     },
     "metadata": {},
     "output_type": "display_data"
    },
    {
     "name": "stdout",
     "output_type": "stream",
     "text": [
      "test_df.shape=(2546387, 645), preds.shape=(2546387,)\n",
      "Corr: {'corr': 0.011231826532390677, 'sharpe': 0.5646525686481434}\n"
     ]
    }
   ],
   "source": [
    "summarise_model_perf(\n",
    "    model=lm,\n",
    "    train_state=lm_train_state,\n",
    "    test_df=test_df,\n",
    "    test_dl=test_dl,\n",
    "    model_name=\"Linear Model\",\n",
    ")"
   ]
  },
  {
   "cell_type": "code",
   "execution_count": 25,
   "id": "1e19fe5c-431e-4fd0-9162-acc35b468422",
   "metadata": {},
   "outputs": [
    {
     "data": {
      "application/vnd.jupyter.widget-view+json": {
       "model_id": "",
       "version_major": 2,
       "version_minor": 0
      },
      "text/plain": [
       "Batches:   0%|          | 0/13 [00:00<?, ?it/s]"
      ]
     },
     "metadata": {},
     "output_type": "display_data"
    },
    {
     "data": {
      "application/vnd.jupyter.widget-view+json": {
       "model_id": "",
       "version_major": 2,
       "version_minor": 0
      },
      "text/plain": [
       "Batches:   0%|          | 0/13 [00:00<?, ?it/s]"
      ]
     },
     "metadata": {},
     "output_type": "display_data"
    },
    {
     "name": "stdout",
     "output_type": "stream",
     "text": [
      "test_df.shape=(2546387, 645), preds.shape=(2546387,)\n",
      "Corr: {'corr': 0.011231826532390677, 'sharpe': 0.5646525686481434}\n"
     ]
    }
   ],
   "source": [
    "# These are the validation metrics. As we can see a simple linear model is a lot weaker\n",
    "# than an lgbm model.\n",
    "lm_pred_df = build_val_submission(model=lm, test_df=test_df, test_dl=test_dl)\n",
    "# We can upload this csv file to numer.ai/scores Diagnostics modal for more metrics\n",
    "# lm_pred_df.to_csv(\"./nn_models/linear_preds.csv\", index=False)"
   ]
  },
  {
   "cell_type": "markdown",
   "id": "6afd2b93-769c-468a-bdfb-d77acb9ed44a",
   "metadata": {},
   "source": [
    "## 4. More complex Models\n",
    "### 4.1 FC 2 and 3 layer models"
   ]
  },
  {
   "cell_type": "code",
   "execution_count": 54,
   "id": "52e73e8d-951b-475a-823f-380eb4400663",
   "metadata": {},
   "outputs": [],
   "source": [
    "#####################################################################################################\n",
    "# COMPLEX MODELS\n",
    "#####################################################################################################\n",
    "\n",
    "# ------------------------------------------------------------------------------------------------\n",
    "# FC - 2 LAYERS\n",
    "# -------------\n",
    "#\n",
    "# Takeaway: Significantly better than a linear model but worse than xgb\n",
    "# ------------------------------------------------------------------------------------------------\n",
    "class ResidualConn(nn.Module):\n",
    "\n",
    "    mod: nn.Module\n",
    "\n",
    "    def __init__(self, module):\n",
    "        super().__init__()\n",
    "        self.module = module\n",
    "\n",
    "    def forward(self, x):\n",
    "        return self.module(x) + x\n",
    "\n",
    "\n",
    "@dataclass(eq=False)\n",
    "class FC(nn.Module):\n",
    "    n_feats: int = N_FEATURES\n",
    "    n_hidden: int = 32\n",
    "    n_hidden_layers: int = 1\n",
    "\n",
    "    def __post_init__(self):\n",
    "        super().__init__()\n",
    "        self.fc = nn.Sequential(\n",
    "            nn.Linear(self.n_feats, self.n_hidden),\n",
    "            nn.GELU(),\n",
    "            nn.Dropout(p=0.1),\n",
    "            *[\n",
    "                ResidualConn(\n",
    "                    module=nn.Sequential(\n",
    "                        nn.Linear(self.n_hidden, self.n_hidden),\n",
    "                        nn.GELU(),\n",
    "                        nn.Dropout(p=0.1),\n",
    "                    ),\n",
    "                )\n",
    "                for _ in range(self.n_hidden_layers)\n",
    "            ],\n",
    "            nn.Linear(self.n_hidden, 1),\n",
    "            nn.Sigmoid(),\n",
    "        )\n",
    "\n",
    "    def forward(self, X, mask):\n",
    "        B, S, F = X.shape\n",
    "        out = self.fc(X)  # B, S, 1\n",
    "        assert tuple(out.shape) == (B, S, 1)\n",
    "        return out[:,:,0]\n",
    "\n",
    "    def __repr__(self):\n",
    "        return str(self.fc)"
   ]
  },
  {
   "cell_type": "code",
   "execution_count": 55,
   "id": "98ae343a-f484-48a9-852d-8855b43b5fcc",
   "metadata": {},
   "outputs": [
    {
     "name": "stdout",
     "output_type": "stream",
     "text": [
      "Sequential(\n",
      "  (0): Linear(in_features=641, out_features=32, bias=True)\n",
      "  (1): GELU(approximate='none')\n",
      "  (2): Dropout(p=0.1, inplace=False)\n",
      "  (3): ResidualConn(\n",
      "    (module): Sequential(\n",
      "      (0): Linear(in_features=32, out_features=32, bias=True)\n",
      "      (1): GELU(approximate='none')\n",
      "      (2): Dropout(p=0.1, inplace=False)\n",
      "    )\n",
      "  )\n",
      "  (4): Linear(in_features=32, out_features=1, bias=True)\n",
      "  (5): Sigmoid()\n",
      ")\n"
     ]
    }
   ],
   "source": [
    "# --------------------------\n",
    "# Fully connected 2 layer NN\n",
    "# --------------------------\n",
    "fc1hl = FC(n_hidden_layers=1).to(DEVICE)\n",
    "print(fc1hl)\n",
    "fc1hl_train_state = {\n",
    "    \"best_val_model\": BestModel(),\n",
    "    \"train_metrics\": MetricsSequence(),\n",
    "    \"val_metrics\": MetricsSequence(),\n",
    "}"
   ]
  },
  {
   "cell_type": "code",
   "execution_count": 56,
   "id": "7a420c20-a5de-4e45-b627-4f2a60ad8c81",
   "metadata": {},
   "outputs": [
    {
     "data": {
      "application/vnd.jupyter.widget-view+json": {
       "model_id": "499be7104ec54f9897cde0ee58f68f02",
       "version_major": 2,
       "version_minor": 0
      },
      "text/plain": [
       "Epoch:   0%|          | 0/50 [00:00<?, ?it/s]"
      ]
     },
     "metadata": {},
     "output_type": "display_data"
    },
    {
     "data": {
      "application/vnd.jupyter.widget-view+json": {
       "model_id": "",
       "version_major": 2,
       "version_minor": 0
      },
      "text/plain": [
       "Train batch:   0%|          | 0/11 [00:00<?, ?it/s]"
      ]
     },
     "metadata": {},
     "output_type": "display_data"
    },
    {
     "data": {
      "application/vnd.jupyter.widget-view+json": {
       "model_id": "",
       "version_major": 2,
       "version_minor": 0
      },
      "text/plain": [
       "Eval batch:   0%|          | 0/5 [00:00<?, ?it/s]"
      ]
     },
     "metadata": {},
     "output_type": "display_data"
    },
    {
     "data": {
      "application/vnd.jupyter.widget-view+json": {
       "model_id": "",
       "version_major": 2,
       "version_minor": 0
      },
      "text/plain": [
       "Train batch:   0%|          | 0/11 [00:00<?, ?it/s]"
      ]
     },
     "metadata": {},
     "output_type": "display_data"
    },
    {
     "data": {
      "application/vnd.jupyter.widget-view+json": {
       "model_id": "",
       "version_major": 2,
       "version_minor": 0
      },
      "text/plain": [
       "Eval batch:   0%|          | 0/5 [00:00<?, ?it/s]"
      ]
     },
     "metadata": {},
     "output_type": "display_data"
    },
    {
     "data": {
      "application/vnd.jupyter.widget-view+json": {
       "model_id": "",
       "version_major": 2,
       "version_minor": 0
      },
      "text/plain": [
       "Train batch:   0%|          | 0/11 [00:00<?, ?it/s]"
      ]
     },
     "metadata": {},
     "output_type": "display_data"
    },
    {
     "data": {
      "application/vnd.jupyter.widget-view+json": {
       "model_id": "",
       "version_major": 2,
       "version_minor": 0
      },
      "text/plain": [
       "Eval batch:   0%|          | 0/5 [00:00<?, ?it/s]"
      ]
     },
     "metadata": {},
     "output_type": "display_data"
    },
    {
     "data": {
      "application/vnd.jupyter.widget-view+json": {
       "model_id": "",
       "version_major": 2,
       "version_minor": 0
      },
      "text/plain": [
       "Train batch:   0%|          | 0/11 [00:00<?, ?it/s]"
      ]
     },
     "metadata": {},
     "output_type": "display_data"
    },
    {
     "data": {
      "application/vnd.jupyter.widget-view+json": {
       "model_id": "",
       "version_major": 2,
       "version_minor": 0
      },
      "text/plain": [
       "Eval batch:   0%|          | 0/5 [00:00<?, ?it/s]"
      ]
     },
     "metadata": {},
     "output_type": "display_data"
    },
    {
     "data": {
      "application/vnd.jupyter.widget-view+json": {
       "model_id": "",
       "version_major": 2,
       "version_minor": 0
      },
      "text/plain": [
       "Train batch:   0%|          | 0/11 [00:00<?, ?it/s]"
      ]
     },
     "metadata": {},
     "output_type": "display_data"
    },
    {
     "data": {
      "application/vnd.jupyter.widget-view+json": {
       "model_id": "",
       "version_major": 2,
       "version_minor": 0
      },
      "text/plain": [
       "Eval batch:   0%|          | 0/5 [00:00<?, ?it/s]"
      ]
     },
     "metadata": {},
     "output_type": "display_data"
    },
    {
     "data": {
      "application/vnd.jupyter.widget-view+json": {
       "model_id": "",
       "version_major": 2,
       "version_minor": 0
      },
      "text/plain": [
       "Train batch:   0%|          | 0/11 [00:00<?, ?it/s]"
      ]
     },
     "metadata": {},
     "output_type": "display_data"
    },
    {
     "data": {
      "application/vnd.jupyter.widget-view+json": {
       "model_id": "",
       "version_major": 2,
       "version_minor": 0
      },
      "text/plain": [
       "Eval batch:   0%|          | 0/5 [00:00<?, ?it/s]"
      ]
     },
     "metadata": {},
     "output_type": "display_data"
    },
    {
     "data": {
      "application/vnd.jupyter.widget-view+json": {
       "model_id": "",
       "version_major": 2,
       "version_minor": 0
      },
      "text/plain": [
       "Train batch:   0%|          | 0/11 [00:00<?, ?it/s]"
      ]
     },
     "metadata": {},
     "output_type": "display_data"
    },
    {
     "data": {
      "application/vnd.jupyter.widget-view+json": {
       "model_id": "",
       "version_major": 2,
       "version_minor": 0
      },
      "text/plain": [
       "Eval batch:   0%|          | 0/5 [00:00<?, ?it/s]"
      ]
     },
     "metadata": {},
     "output_type": "display_data"
    },
    {
     "data": {
      "application/vnd.jupyter.widget-view+json": {
       "model_id": "",
       "version_major": 2,
       "version_minor": 0
      },
      "text/plain": [
       "Train batch:   0%|          | 0/11 [00:00<?, ?it/s]"
      ]
     },
     "metadata": {},
     "output_type": "display_data"
    },
    {
     "data": {
      "application/vnd.jupyter.widget-view+json": {
       "model_id": "",
       "version_major": 2,
       "version_minor": 0
      },
      "text/plain": [
       "Eval batch:   0%|          | 0/5 [00:00<?, ?it/s]"
      ]
     },
     "metadata": {},
     "output_type": "display_data"
    },
    {
     "data": {
      "application/vnd.jupyter.widget-view+json": {
       "model_id": "",
       "version_major": 2,
       "version_minor": 0
      },
      "text/plain": [
       "Train batch:   0%|          | 0/11 [00:00<?, ?it/s]"
      ]
     },
     "metadata": {},
     "output_type": "display_data"
    },
    {
     "data": {
      "application/vnd.jupyter.widget-view+json": {
       "model_id": "",
       "version_major": 2,
       "version_minor": 0
      },
      "text/plain": [
       "Eval batch:   0%|          | 0/5 [00:00<?, ?it/s]"
      ]
     },
     "metadata": {},
     "output_type": "display_data"
    },
    {
     "data": {
      "application/vnd.jupyter.widget-view+json": {
       "model_id": "",
       "version_major": 2,
       "version_minor": 0
      },
      "text/plain": [
       "Train batch:   0%|          | 0/11 [00:00<?, ?it/s]"
      ]
     },
     "metadata": {},
     "output_type": "display_data"
    },
    {
     "data": {
      "application/vnd.jupyter.widget-view+json": {
       "model_id": "",
       "version_major": 2,
       "version_minor": 0
      },
      "text/plain": [
       "Eval batch:   0%|          | 0/5 [00:00<?, ?it/s]"
      ]
     },
     "metadata": {},
     "output_type": "display_data"
    },
    {
     "data": {
      "application/vnd.jupyter.widget-view+json": {
       "model_id": "",
       "version_major": 2,
       "version_minor": 0
      },
      "text/plain": [
       "Train batch:   0%|          | 0/11 [00:00<?, ?it/s]"
      ]
     },
     "metadata": {},
     "output_type": "display_data"
    },
    {
     "data": {
      "application/vnd.jupyter.widget-view+json": {
       "model_id": "",
       "version_major": 2,
       "version_minor": 0
      },
      "text/plain": [
       "Eval batch:   0%|          | 0/5 [00:00<?, ?it/s]"
      ]
     },
     "metadata": {},
     "output_type": "display_data"
    },
    {
     "data": {
      "application/vnd.jupyter.widget-view+json": {
       "model_id": "",
       "version_major": 2,
       "version_minor": 0
      },
      "text/plain": [
       "Train batch:   0%|          | 0/11 [00:00<?, ?it/s]"
      ]
     },
     "metadata": {},
     "output_type": "display_data"
    },
    {
     "data": {
      "application/vnd.jupyter.widget-view+json": {
       "model_id": "",
       "version_major": 2,
       "version_minor": 0
      },
      "text/plain": [
       "Eval batch:   0%|          | 0/5 [00:00<?, ?it/s]"
      ]
     },
     "metadata": {},
     "output_type": "display_data"
    },
    {
     "data": {
      "application/vnd.jupyter.widget-view+json": {
       "model_id": "",
       "version_major": 2,
       "version_minor": 0
      },
      "text/plain": [
       "Train batch:   0%|          | 0/11 [00:00<?, ?it/s]"
      ]
     },
     "metadata": {},
     "output_type": "display_data"
    },
    {
     "data": {
      "application/vnd.jupyter.widget-view+json": {
       "model_id": "",
       "version_major": 2,
       "version_minor": 0
      },
      "text/plain": [
       "Eval batch:   0%|          | 0/5 [00:00<?, ?it/s]"
      ]
     },
     "metadata": {},
     "output_type": "display_data"
    },
    {
     "data": {
      "application/vnd.jupyter.widget-view+json": {
       "model_id": "",
       "version_major": 2,
       "version_minor": 0
      },
      "text/plain": [
       "Train batch:   0%|          | 0/11 [00:00<?, ?it/s]"
      ]
     },
     "metadata": {},
     "output_type": "display_data"
    },
    {
     "data": {
      "application/vnd.jupyter.widget-view+json": {
       "model_id": "",
       "version_major": 2,
       "version_minor": 0
      },
      "text/plain": [
       "Eval batch:   0%|          | 0/5 [00:00<?, ?it/s]"
      ]
     },
     "metadata": {},
     "output_type": "display_data"
    },
    {
     "data": {
      "application/vnd.jupyter.widget-view+json": {
       "model_id": "",
       "version_major": 2,
       "version_minor": 0
      },
      "text/plain": [
       "Train batch:   0%|          | 0/11 [00:00<?, ?it/s]"
      ]
     },
     "metadata": {},
     "output_type": "display_data"
    },
    {
     "data": {
      "application/vnd.jupyter.widget-view+json": {
       "model_id": "",
       "version_major": 2,
       "version_minor": 0
      },
      "text/plain": [
       "Eval batch:   0%|          | 0/5 [00:00<?, ?it/s]"
      ]
     },
     "metadata": {},
     "output_type": "display_data"
    },
    {
     "data": {
      "application/vnd.jupyter.widget-view+json": {
       "model_id": "",
       "version_major": 2,
       "version_minor": 0
      },
      "text/plain": [
       "Train batch:   0%|          | 0/11 [00:00<?, ?it/s]"
      ]
     },
     "metadata": {},
     "output_type": "display_data"
    },
    {
     "data": {
      "application/vnd.jupyter.widget-view+json": {
       "model_id": "",
       "version_major": 2,
       "version_minor": 0
      },
      "text/plain": [
       "Eval batch:   0%|          | 0/5 [00:00<?, ?it/s]"
      ]
     },
     "metadata": {},
     "output_type": "display_data"
    },
    {
     "data": {
      "application/vnd.jupyter.widget-view+json": {
       "model_id": "",
       "version_major": 2,
       "version_minor": 0
      },
      "text/plain": [
       "Train batch:   0%|          | 0/11 [00:00<?, ?it/s]"
      ]
     },
     "metadata": {},
     "output_type": "display_data"
    },
    {
     "data": {
      "application/vnd.jupyter.widget-view+json": {
       "model_id": "",
       "version_major": 2,
       "version_minor": 0
      },
      "text/plain": [
       "Eval batch:   0%|          | 0/5 [00:00<?, ?it/s]"
      ]
     },
     "metadata": {},
     "output_type": "display_data"
    },
    {
     "data": {
      "application/vnd.jupyter.widget-view+json": {
       "model_id": "",
       "version_major": 2,
       "version_minor": 0
      },
      "text/plain": [
       "Train batch:   0%|          | 0/11 [00:00<?, ?it/s]"
      ]
     },
     "metadata": {},
     "output_type": "display_data"
    },
    {
     "data": {
      "application/vnd.jupyter.widget-view+json": {
       "model_id": "",
       "version_major": 2,
       "version_minor": 0
      },
      "text/plain": [
       "Eval batch:   0%|          | 0/5 [00:00<?, ?it/s]"
      ]
     },
     "metadata": {},
     "output_type": "display_data"
    },
    {
     "data": {
      "application/vnd.jupyter.widget-view+json": {
       "model_id": "",
       "version_major": 2,
       "version_minor": 0
      },
      "text/plain": [
       "Train batch:   0%|          | 0/11 [00:00<?, ?it/s]"
      ]
     },
     "metadata": {},
     "output_type": "display_data"
    },
    {
     "data": {
      "application/vnd.jupyter.widget-view+json": {
       "model_id": "",
       "version_major": 2,
       "version_minor": 0
      },
      "text/plain": [
       "Eval batch:   0%|          | 0/5 [00:00<?, ?it/s]"
      ]
     },
     "metadata": {},
     "output_type": "display_data"
    },
    {
     "data": {
      "application/vnd.jupyter.widget-view+json": {
       "model_id": "",
       "version_major": 2,
       "version_minor": 0
      },
      "text/plain": [
       "Train batch:   0%|          | 0/11 [00:00<?, ?it/s]"
      ]
     },
     "metadata": {},
     "output_type": "display_data"
    },
    {
     "data": {
      "application/vnd.jupyter.widget-view+json": {
       "model_id": "",
       "version_major": 2,
       "version_minor": 0
      },
      "text/plain": [
       "Eval batch:   0%|          | 0/5 [00:00<?, ?it/s]"
      ]
     },
     "metadata": {},
     "output_type": "display_data"
    },
    {
     "data": {
      "application/vnd.jupyter.widget-view+json": {
       "model_id": "",
       "version_major": 2,
       "version_minor": 0
      },
      "text/plain": [
       "Train batch:   0%|          | 0/11 [00:00<?, ?it/s]"
      ]
     },
     "metadata": {},
     "output_type": "display_data"
    },
    {
     "data": {
      "application/vnd.jupyter.widget-view+json": {
       "model_id": "",
       "version_major": 2,
       "version_minor": 0
      },
      "text/plain": [
       "Eval batch:   0%|          | 0/5 [00:00<?, ?it/s]"
      ]
     },
     "metadata": {},
     "output_type": "display_data"
    },
    {
     "data": {
      "application/vnd.jupyter.widget-view+json": {
       "model_id": "",
       "version_major": 2,
       "version_minor": 0
      },
      "text/plain": [
       "Train batch:   0%|          | 0/11 [00:00<?, ?it/s]"
      ]
     },
     "metadata": {},
     "output_type": "display_data"
    },
    {
     "data": {
      "application/vnd.jupyter.widget-view+json": {
       "model_id": "",
       "version_major": 2,
       "version_minor": 0
      },
      "text/plain": [
       "Eval batch:   0%|          | 0/5 [00:00<?, ?it/s]"
      ]
     },
     "metadata": {},
     "output_type": "display_data"
    },
    {
     "data": {
      "application/vnd.jupyter.widget-view+json": {
       "model_id": "",
       "version_major": 2,
       "version_minor": 0
      },
      "text/plain": [
       "Train batch:   0%|          | 0/11 [00:00<?, ?it/s]"
      ]
     },
     "metadata": {},
     "output_type": "display_data"
    },
    {
     "data": {
      "application/vnd.jupyter.widget-view+json": {
       "model_id": "",
       "version_major": 2,
       "version_minor": 0
      },
      "text/plain": [
       "Eval batch:   0%|          | 0/5 [00:00<?, ?it/s]"
      ]
     },
     "metadata": {},
     "output_type": "display_data"
    },
    {
     "data": {
      "application/vnd.jupyter.widget-view+json": {
       "model_id": "",
       "version_major": 2,
       "version_minor": 0
      },
      "text/plain": [
       "Train batch:   0%|          | 0/11 [00:00<?, ?it/s]"
      ]
     },
     "metadata": {},
     "output_type": "display_data"
    },
    {
     "data": {
      "application/vnd.jupyter.widget-view+json": {
       "model_id": "",
       "version_major": 2,
       "version_minor": 0
      },
      "text/plain": [
       "Eval batch:   0%|          | 0/5 [00:00<?, ?it/s]"
      ]
     },
     "metadata": {},
     "output_type": "display_data"
    },
    {
     "data": {
      "application/vnd.jupyter.widget-view+json": {
       "model_id": "",
       "version_major": 2,
       "version_minor": 0
      },
      "text/plain": [
       "Train batch:   0%|          | 0/11 [00:00<?, ?it/s]"
      ]
     },
     "metadata": {},
     "output_type": "display_data"
    },
    {
     "data": {
      "application/vnd.jupyter.widget-view+json": {
       "model_id": "bb52b72fbe9a4073863a1f91879d2754",
       "version_major": 2,
       "version_minor": 0
      },
      "text/plain": [
       "Eval batch:   0%|          | 0/5 [00:00<?, ?it/s]"
      ]
     },
     "metadata": {},
     "output_type": "display_data"
    },
    {
     "data": {
      "application/vnd.jupyter.widget-view+json": {
       "model_id": "5179ec30ea7c47038e126a538fd88593",
       "version_major": 2,
       "version_minor": 0
      },
      "text/plain": [
       "Train batch:   0%|          | 0/11 [00:00<?, ?it/s]"
      ]
     },
     "metadata": {},
     "output_type": "display_data"
    },
    {
     "data": {
      "application/vnd.jupyter.widget-view+json": {
       "model_id": "",
       "version_major": 2,
       "version_minor": 0
      },
      "text/plain": [
       "Eval batch:   0%|          | 0/5 [00:00<?, ?it/s]"
      ]
     },
     "metadata": {},
     "output_type": "display_data"
    },
    {
     "data": {
      "application/vnd.jupyter.widget-view+json": {
       "model_id": "",
       "version_major": 2,
       "version_minor": 0
      },
      "text/plain": [
       "Train batch:   0%|          | 0/11 [00:00<?, ?it/s]"
      ]
     },
     "metadata": {},
     "output_type": "display_data"
    },
    {
     "data": {
      "application/vnd.jupyter.widget-view+json": {
       "model_id": "",
       "version_major": 2,
       "version_minor": 0
      },
      "text/plain": [
       "Eval batch:   0%|          | 0/5 [00:00<?, ?it/s]"
      ]
     },
     "metadata": {},
     "output_type": "display_data"
    },
    {
     "data": {
      "application/vnd.jupyter.widget-view+json": {
       "model_id": "",
       "version_major": 2,
       "version_minor": 0
      },
      "text/plain": [
       "Train batch:   0%|          | 0/11 [00:00<?, ?it/s]"
      ]
     },
     "metadata": {},
     "output_type": "display_data"
    },
    {
     "data": {
      "application/vnd.jupyter.widget-view+json": {
       "model_id": "",
       "version_major": 2,
       "version_minor": 0
      },
      "text/plain": [
       "Eval batch:   0%|          | 0/5 [00:00<?, ?it/s]"
      ]
     },
     "metadata": {},
     "output_type": "display_data"
    },
    {
     "data": {
      "application/vnd.jupyter.widget-view+json": {
       "model_id": "",
       "version_major": 2,
       "version_minor": 0
      },
      "text/plain": [
       "Train batch:   0%|          | 0/11 [00:00<?, ?it/s]"
      ]
     },
     "metadata": {},
     "output_type": "display_data"
    },
    {
     "data": {
      "application/vnd.jupyter.widget-view+json": {
       "model_id": "",
       "version_major": 2,
       "version_minor": 0
      },
      "text/plain": [
       "Eval batch:   0%|          | 0/5 [00:00<?, ?it/s]"
      ]
     },
     "metadata": {},
     "output_type": "display_data"
    },
    {
     "data": {
      "application/vnd.jupyter.widget-view+json": {
       "model_id": "",
       "version_major": 2,
       "version_minor": 0
      },
      "text/plain": [
       "Train batch:   0%|          | 0/11 [00:00<?, ?it/s]"
      ]
     },
     "metadata": {},
     "output_type": "display_data"
    },
    {
     "data": {
      "application/vnd.jupyter.widget-view+json": {
       "model_id": "",
       "version_major": 2,
       "version_minor": 0
      },
      "text/plain": [
       "Eval batch:   0%|          | 0/5 [00:00<?, ?it/s]"
      ]
     },
     "metadata": {},
     "output_type": "display_data"
    },
    {
     "data": {
      "application/vnd.jupyter.widget-view+json": {
       "model_id": "",
       "version_major": 2,
       "version_minor": 0
      },
      "text/plain": [
       "Train batch:   0%|          | 0/11 [00:00<?, ?it/s]"
      ]
     },
     "metadata": {},
     "output_type": "display_data"
    },
    {
     "data": {
      "application/vnd.jupyter.widget-view+json": {
       "model_id": "",
       "version_major": 2,
       "version_minor": 0
      },
      "text/plain": [
       "Eval batch:   0%|          | 0/5 [00:00<?, ?it/s]"
      ]
     },
     "metadata": {},
     "output_type": "display_data"
    },
    {
     "data": {
      "application/vnd.jupyter.widget-view+json": {
       "model_id": "",
       "version_major": 2,
       "version_minor": 0
      },
      "text/plain": [
       "Train batch:   0%|          | 0/11 [00:00<?, ?it/s]"
      ]
     },
     "metadata": {},
     "output_type": "display_data"
    },
    {
     "data": {
      "application/vnd.jupyter.widget-view+json": {
       "model_id": "",
       "version_major": 2,
       "version_minor": 0
      },
      "text/plain": [
       "Eval batch:   0%|          | 0/5 [00:00<?, ?it/s]"
      ]
     },
     "metadata": {},
     "output_type": "display_data"
    },
    {
     "data": {
      "application/vnd.jupyter.widget-view+json": {
       "model_id": "",
       "version_major": 2,
       "version_minor": 0
      },
      "text/plain": [
       "Train batch:   0%|          | 0/11 [00:00<?, ?it/s]"
      ]
     },
     "metadata": {},
     "output_type": "display_data"
    },
    {
     "data": {
      "application/vnd.jupyter.widget-view+json": {
       "model_id": "",
       "version_major": 2,
       "version_minor": 0
      },
      "text/plain": [
       "Eval batch:   0%|          | 0/5 [00:00<?, ?it/s]"
      ]
     },
     "metadata": {},
     "output_type": "display_data"
    },
    {
     "data": {
      "application/vnd.jupyter.widget-view+json": {
       "model_id": "",
       "version_major": 2,
       "version_minor": 0
      },
      "text/plain": [
       "Train batch:   0%|          | 0/11 [00:00<?, ?it/s]"
      ]
     },
     "metadata": {},
     "output_type": "display_data"
    },
    {
     "data": {
      "application/vnd.jupyter.widget-view+json": {
       "model_id": "",
       "version_major": 2,
       "version_minor": 0
      },
      "text/plain": [
       "Eval batch:   0%|          | 0/5 [00:00<?, ?it/s]"
      ]
     },
     "metadata": {},
     "output_type": "display_data"
    },
    {
     "data": {
      "application/vnd.jupyter.widget-view+json": {
       "model_id": "",
       "version_major": 2,
       "version_minor": 0
      },
      "text/plain": [
       "Train batch:   0%|          | 0/11 [00:00<?, ?it/s]"
      ]
     },
     "metadata": {},
     "output_type": "display_data"
    },
    {
     "data": {
      "application/vnd.jupyter.widget-view+json": {
       "model_id": "",
       "version_major": 2,
       "version_minor": 0
      },
      "text/plain": [
       "Eval batch:   0%|          | 0/5 [00:00<?, ?it/s]"
      ]
     },
     "metadata": {},
     "output_type": "display_data"
    },
    {
     "data": {
      "application/vnd.jupyter.widget-view+json": {
       "model_id": "",
       "version_major": 2,
       "version_minor": 0
      },
      "text/plain": [
       "Train batch:   0%|          | 0/11 [00:00<?, ?it/s]"
      ]
     },
     "metadata": {},
     "output_type": "display_data"
    },
    {
     "data": {
      "application/vnd.jupyter.widget-view+json": {
       "model_id": "",
       "version_major": 2,
       "version_minor": 0
      },
      "text/plain": [
       "Eval batch:   0%|          | 0/5 [00:00<?, ?it/s]"
      ]
     },
     "metadata": {},
     "output_type": "display_data"
    },
    {
     "data": {
      "application/vnd.jupyter.widget-view+json": {
       "model_id": "",
       "version_major": 2,
       "version_minor": 0
      },
      "text/plain": [
       "Train batch:   0%|          | 0/11 [00:00<?, ?it/s]"
      ]
     },
     "metadata": {},
     "output_type": "display_data"
    },
    {
     "data": {
      "application/vnd.jupyter.widget-view+json": {
       "model_id": "",
       "version_major": 2,
       "version_minor": 0
      },
      "text/plain": [
       "Eval batch:   0%|          | 0/5 [00:00<?, ?it/s]"
      ]
     },
     "metadata": {},
     "output_type": "display_data"
    },
    {
     "data": {
      "application/vnd.jupyter.widget-view+json": {
       "model_id": "",
       "version_major": 2,
       "version_minor": 0
      },
      "text/plain": [
       "Train batch:   0%|          | 0/11 [00:00<?, ?it/s]"
      ]
     },
     "metadata": {},
     "output_type": "display_data"
    },
    {
     "data": {
      "application/vnd.jupyter.widget-view+json": {
       "model_id": "",
       "version_major": 2,
       "version_minor": 0
      },
      "text/plain": [
       "Eval batch:   0%|          | 0/5 [00:00<?, ?it/s]"
      ]
     },
     "metadata": {},
     "output_type": "display_data"
    },
    {
     "data": {
      "application/vnd.jupyter.widget-view+json": {
       "model_id": "",
       "version_major": 2,
       "version_minor": 0
      },
      "text/plain": [
       "Train batch:   0%|          | 0/11 [00:00<?, ?it/s]"
      ]
     },
     "metadata": {},
     "output_type": "display_data"
    },
    {
     "data": {
      "application/vnd.jupyter.widget-view+json": {
       "model_id": "",
       "version_major": 2,
       "version_minor": 0
      },
      "text/plain": [
       "Eval batch:   0%|          | 0/5 [00:00<?, ?it/s]"
      ]
     },
     "metadata": {},
     "output_type": "display_data"
    },
    {
     "data": {
      "application/vnd.jupyter.widget-view+json": {
       "model_id": "",
       "version_major": 2,
       "version_minor": 0
      },
      "text/plain": [
       "Train batch:   0%|          | 0/11 [00:00<?, ?it/s]"
      ]
     },
     "metadata": {},
     "output_type": "display_data"
    },
    {
     "data": {
      "application/vnd.jupyter.widget-view+json": {
       "model_id": "",
       "version_major": 2,
       "version_minor": 0
      },
      "text/plain": [
       "Eval batch:   0%|          | 0/5 [00:00<?, ?it/s]"
      ]
     },
     "metadata": {},
     "output_type": "display_data"
    },
    {
     "data": {
      "application/vnd.jupyter.widget-view+json": {
       "model_id": "",
       "version_major": 2,
       "version_minor": 0
      },
      "text/plain": [
       "Train batch:   0%|          | 0/11 [00:00<?, ?it/s]"
      ]
     },
     "metadata": {},
     "output_type": "display_data"
    },
    {
     "data": {
      "application/vnd.jupyter.widget-view+json": {
       "model_id": "",
       "version_major": 2,
       "version_minor": 0
      },
      "text/plain": [
       "Eval batch:   0%|          | 0/5 [00:00<?, ?it/s]"
      ]
     },
     "metadata": {},
     "output_type": "display_data"
    },
    {
     "data": {
      "application/vnd.jupyter.widget-view+json": {
       "model_id": "",
       "version_major": 2,
       "version_minor": 0
      },
      "text/plain": [
       "Train batch:   0%|          | 0/11 [00:00<?, ?it/s]"
      ]
     },
     "metadata": {},
     "output_type": "display_data"
    },
    {
     "data": {
      "application/vnd.jupyter.widget-view+json": {
       "model_id": "",
       "version_major": 2,
       "version_minor": 0
      },
      "text/plain": [
       "Eval batch:   0%|          | 0/5 [00:00<?, ?it/s]"
      ]
     },
     "metadata": {},
     "output_type": "display_data"
    },
    {
     "data": {
      "application/vnd.jupyter.widget-view+json": {
       "model_id": "",
       "version_major": 2,
       "version_minor": 0
      },
      "text/plain": [
       "Train batch:   0%|          | 0/11 [00:00<?, ?it/s]"
      ]
     },
     "metadata": {},
     "output_type": "display_data"
    },
    {
     "data": {
      "application/vnd.jupyter.widget-view+json": {
       "model_id": "",
       "version_major": 2,
       "version_minor": 0
      },
      "text/plain": [
       "Eval batch:   0%|          | 0/5 [00:00<?, ?it/s]"
      ]
     },
     "metadata": {},
     "output_type": "display_data"
    },
    {
     "data": {
      "application/vnd.jupyter.widget-view+json": {
       "model_id": "",
       "version_major": 2,
       "version_minor": 0
      },
      "text/plain": [
       "Train batch:   0%|          | 0/11 [00:00<?, ?it/s]"
      ]
     },
     "metadata": {},
     "output_type": "display_data"
    },
    {
     "data": {
      "application/vnd.jupyter.widget-view+json": {
       "model_id": "",
       "version_major": 2,
       "version_minor": 0
      },
      "text/plain": [
       "Eval batch:   0%|          | 0/5 [00:00<?, ?it/s]"
      ]
     },
     "metadata": {},
     "output_type": "display_data"
    },
    {
     "data": {
      "application/vnd.jupyter.widget-view+json": {
       "model_id": "",
       "version_major": 2,
       "version_minor": 0
      },
      "text/plain": [
       "Train batch:   0%|          | 0/11 [00:00<?, ?it/s]"
      ]
     },
     "metadata": {},
     "output_type": "display_data"
    },
    {
     "data": {
      "application/vnd.jupyter.widget-view+json": {
       "model_id": "",
       "version_major": 2,
       "version_minor": 0
      },
      "text/plain": [
       "Eval batch:   0%|          | 0/5 [00:00<?, ?it/s]"
      ]
     },
     "metadata": {},
     "output_type": "display_data"
    },
    {
     "data": {
      "application/vnd.jupyter.widget-view+json": {
       "model_id": "",
       "version_major": 2,
       "version_minor": 0
      },
      "text/plain": [
       "Train batch:   0%|          | 0/11 [00:00<?, ?it/s]"
      ]
     },
     "metadata": {},
     "output_type": "display_data"
    },
    {
     "data": {
      "application/vnd.jupyter.widget-view+json": {
       "model_id": "",
       "version_major": 2,
       "version_minor": 0
      },
      "text/plain": [
       "Eval batch:   0%|          | 0/5 [00:00<?, ?it/s]"
      ]
     },
     "metadata": {},
     "output_type": "display_data"
    },
    {
     "data": {
      "application/vnd.jupyter.widget-view+json": {
       "model_id": "",
       "version_major": 2,
       "version_minor": 0
      },
      "text/plain": [
       "Train batch:   0%|          | 0/11 [00:00<?, ?it/s]"
      ]
     },
     "metadata": {},
     "output_type": "display_data"
    },
    {
     "data": {
      "application/vnd.jupyter.widget-view+json": {
       "model_id": "",
       "version_major": 2,
       "version_minor": 0
      },
      "text/plain": [
       "Eval batch:   0%|          | 0/5 [00:00<?, ?it/s]"
      ]
     },
     "metadata": {},
     "output_type": "display_data"
    },
    {
     "data": {
      "application/vnd.jupyter.widget-view+json": {
       "model_id": "",
       "version_major": 2,
       "version_minor": 0
      },
      "text/plain": [
       "Train batch:   0%|          | 0/11 [00:00<?, ?it/s]"
      ]
     },
     "metadata": {},
     "output_type": "display_data"
    },
    {
     "data": {
      "application/vnd.jupyter.widget-view+json": {
       "model_id": "",
       "version_major": 2,
       "version_minor": 0
      },
      "text/plain": [
       "Eval batch:   0%|          | 0/5 [00:00<?, ?it/s]"
      ]
     },
     "metadata": {},
     "output_type": "display_data"
    },
    {
     "data": {
      "application/vnd.jupyter.widget-view+json": {
       "model_id": "",
       "version_major": 2,
       "version_minor": 0
      },
      "text/plain": [
       "Train batch:   0%|          | 0/11 [00:00<?, ?it/s]"
      ]
     },
     "metadata": {},
     "output_type": "display_data"
    },
    {
     "data": {
      "application/vnd.jupyter.widget-view+json": {
       "model_id": "",
       "version_major": 2,
       "version_minor": 0
      },
      "text/plain": [
       "Eval batch:   0%|          | 0/5 [00:00<?, ?it/s]"
      ]
     },
     "metadata": {},
     "output_type": "display_data"
    },
    {
     "data": {
      "application/vnd.jupyter.widget-view+json": {
       "model_id": "",
       "version_major": 2,
       "version_minor": 0
      },
      "text/plain": [
       "Train batch:   0%|          | 0/11 [00:00<?, ?it/s]"
      ]
     },
     "metadata": {},
     "output_type": "display_data"
    },
    {
     "data": {
      "application/vnd.jupyter.widget-view+json": {
       "model_id": "",
       "version_major": 2,
       "version_minor": 0
      },
      "text/plain": [
       "Eval batch:   0%|          | 0/5 [00:00<?, ?it/s]"
      ]
     },
     "metadata": {},
     "output_type": "display_data"
    }
   ],
   "source": [
    "fc1hl_train_state = train_model(\n",
    "    model=fc1hl,\n",
    "    optimizer=optim.AdamW(fc1hl.parameters(), lr=3e-4),\n",
    "    train_dl=train_dl,\n",
    "    val_dl=val_dl,\n",
    "    num_epochs=50,\n",
    "    criterion='corr',\n",
    "    criterion_dirn='higher',\n",
    "    model_path='./nn_models/fc1hl.pkl',\n",
    "    train_state=fc1hl_train_state,\n",
    ")"
   ]
  },
  {
   "cell_type": "code",
   "execution_count": 58,
   "id": "e66c2006-c018-4421-b93e-89f23f4382ad",
   "metadata": {},
   "outputs": [
    {
     "data": {
      "text/plain": [
       "{'best_val_model': BestModel(metric=0.04145512878894806, model=Sequential(\n",
       "   (0): Linear(in_features=641, out_features=32, bias=True)\n",
       "   (1): GELU(approximate='none')\n",
       "   (2): Dropout(p=0.1, inplace=False)\n",
       "   (3): ResidualConn(\n",
       "     (module): Sequential(\n",
       "       (0): Linear(in_features=32, out_features=32, bias=True)\n",
       "       (1): GELU(approximate='none')\n",
       "       (2): Dropout(p=0.1, inplace=False)\n",
       "     )\n",
       "   )\n",
       "   (4): Linear(in_features=32, out_features=1, bias=True)\n",
       "   (5): Sigmoid()\n",
       " ), epoch=33),\n",
       " 'train_metrics': corr: 0.0702 mse: 0.0498 sharpe: 3.364,\n",
       " 'val_metrics': corr: 0.0369 mse: 0.0501 sharpe: 3.1888}"
      ]
     },
     "metadata": {},
     "output_type": "display_data"
    },
    {
     "data": {
      "image/png": "[encoded data removed]",
      "text/plain": [
       "<Figure size 1440x288 with 3 Axes>"
      ]
     },
     "metadata": {
      "needs_background": "light"
     },
     "output_type": "display_data"
    },
    {
     "data": {
      "image/png": "[encoded data removed]",
      "text/plain": [
       "<Figure size 1440x288 with 3 Axes>"
      ]
     },
     "metadata": {
      "needs_background": "light"
     },
     "output_type": "display_data"
    },
    {
     "data": {
      "text/html": [
       "<div>\n",
       "<style scoped>\n",
       "    .dataframe tbody tr th:only-of-type {\n",
       "        vertical-align: middle;\n",
       "    }\n",
       "\n",
       "    .dataframe tbody tr th {\n",
       "        vertical-align: top;\n",
       "    }\n",
       "\n",
       "    .dataframe thead th {\n",
       "        text-align: right;\n",
       "    }\n",
       "</style>\n",
       "<table border=\"1\" class=\"dataframe\">\n",
       "  <thead>\n",
       "    <tr style=\"text-align: right;\">\n",
       "      <th></th>\n",
       "      <th>mse</th>\n",
       "      <th>corr</th>\n",
       "      <th>sharpe</th>\n",
       "    </tr>\n",
       "  </thead>\n",
       "  <tbody>\n",
       "    <tr>\n",
       "      <th>46</th>\n",
       "      <td>0.050151</td>\n",
       "      <td>0.039787</td>\n",
       "      <td>2.722797</td>\n",
       "    </tr>\n",
       "    <tr>\n",
       "      <th>47</th>\n",
       "      <td>0.050394</td>\n",
       "      <td>0.040135</td>\n",
       "      <td>2.743811</td>\n",
       "    </tr>\n",
       "    <tr>\n",
       "      <th>48</th>\n",
       "      <td>0.050353</td>\n",
       "      <td>0.040218</td>\n",
       "      <td>2.611557</td>\n",
       "    </tr>\n",
       "    <tr>\n",
       "      <th>49</th>\n",
       "      <td>0.050220</td>\n",
       "      <td>0.039125</td>\n",
       "      <td>2.551952</td>\n",
       "    </tr>\n",
       "  </tbody>\n",
       "</table>\n",
       "</div>"
      ],
      "text/plain": [
       "         mse      corr    sharpe\n",
       "46  0.050151  0.039787  2.722797\n",
       "47  0.050394  0.040135  2.743811\n",
       "48  0.050353  0.040218  2.611557\n",
       "49  0.050220  0.039125  2.551952"
      ]
     },
     "metadata": {},
     "output_type": "display_data"
    },
    {
     "name": "stdout",
     "output_type": "stream",
     "text": [
      "\n",
      "Final model on test set\n",
      "-----------------------\n"
     ]
    },
    {
     "data": {
      "application/vnd.jupyter.widget-view+json": {
       "model_id": "",
       "version_major": 2,
       "version_minor": 0
      },
      "text/plain": [
       "Batches:   0%|          | 0/13 [00:00<?, ?it/s]"
      ]
     },
     "metadata": {},
     "output_type": "display_data"
    },
    {
     "data": {
      "application/vnd.jupyter.widget-view+json": {
       "model_id": "",
       "version_major": 2,
       "version_minor": 0
      },
      "text/plain": [
       "Batches:   0%|          | 0/13 [00:00<?, ?it/s]"
      ]
     },
     "metadata": {},
     "output_type": "display_data"
    },
    {
     "name": "stdout",
     "output_type": "stream",
     "text": [
      "test_df.shape=(2546387, 645), preds.shape=(2546387,)\n",
      "Corr: {'corr': 0.018760650946925916, 'sharpe': 0.8822053284199934}\n",
      "\n",
      "Best val model on test set\n",
      "--------------------------\n"
     ]
    },
    {
     "data": {
      "application/vnd.jupyter.widget-view+json": {
       "model_id": "",
       "version_major": 2,
       "version_minor": 0
      },
      "text/plain": [
       "Batches:   0%|          | 0/13 [00:00<?, ?it/s]"
      ]
     },
     "metadata": {},
     "output_type": "display_data"
    },
    {
     "data": {
      "application/vnd.jupyter.widget-view+json": {
       "model_id": "",
       "version_major": 2,
       "version_minor": 0
      },
      "text/plain": [
       "Batches:   0%|          | 0/13 [00:00<?, ?it/s]"
      ]
     },
     "metadata": {},
     "output_type": "display_data"
    },
    {
     "name": "stdout",
     "output_type": "stream",
     "text": [
      "test_df.shape=(2546387, 645), preds.shape=(2546387,)\n",
      "Corr: {'corr': 0.01817902421671469, 'sharpe': 0.8298527432079091}\n"
     ]
    }
   ],
   "source": [
    "summarise_model_perf(\n",
    "    model=fc1hl,\n",
    "    train_state=fc1hl_train_state,\n",
    "    test_df=test_df,\n",
    "    test_dl=test_dl,\n",
    "    model_name=\"FC 2-layer model\",\n",
    ")"
   ]
  },
  {
   "cell_type": "code",
   "execution_count": null,
   "id": "22cdc73b-25bc-48a2-b6a7-3c5425e75993",
   "metadata": {},
   "outputs": [],
   "source": [
    "fc2hl = FC(n_hidden_layers=2).to(DEVICE)\n",
    "fc2hl_train_state = {\n",
    "    \"best_val_model\": BestModel(),\n",
    "    \"train_metrics\": MetricsSequence(),\n",
    "    \"val_metrics\": MetricsSequence(),\n",
    "}"
   ]
  },
  {
   "cell_type": "code",
   "execution_count": null,
   "id": "a9fdd22a-5724-4b1c-b188-3d4389b12cc9",
   "metadata": {},
   "outputs": [],
   "source": [
    "# --------------------------\n",
    "# Fully connected 3 layer NN\n",
    "#\n",
    "# With just one hidden layer, and a residual connection we\n",
    "# can get fairly close to lgbm performance\n",
    "# --------------------------\n",
    "fc2hl_train_state = train_model(\n",
    "    model=fc2hl,\n",
    "    optimizer=optim.AdamW(fc2hl.parameters(), lr=3e-4),\n",
    "    train_dl=train_dl,\n",
    "    val_dl=val_dl,\n",
    "    num_epochs=100,\n",
    "    criterion='corr',\n",
    "    criterion_dirn='higher',\n",
    "    model_path='./nn_models/fc2hl.pkl',\n",
    "    train_state=fc2hl_train_state,\n",
    ")"
   ]
  },
  {
   "cell_type": "code",
   "execution_count": 68,
   "id": "f75c661a-37d3-4649-b235-72be71020dbc",
   "metadata": {},
   "outputs": [
    {
     "data": {
      "text/plain": [
       "{'best_val_model': BestModel(metric=0.03797890469431877, model=Sequential(\n",
       "   (0): Linear(in_features=641, out_features=32, bias=True)\n",
       "   (1): GELU(approximate='none')\n",
       "   (2): Dropout(p=0.1, inplace=False)\n",
       "   (3): ResidualConn(\n",
       "     (module): Sequential(\n",
       "       (0): Linear(in_features=32, out_features=32, bias=True)\n",
       "       (1): GELU(approximate='none')\n",
       "       (2): Dropout(p=0.1, inplace=False)\n",
       "     )\n",
       "   )\n",
       "   (4): ResidualConn(\n",
       "     (module): Sequential(\n",
       "       (0): Linear(in_features=32, out_features=32, bias=True)\n",
       "       (1): GELU(approximate='none')\n",
       "       (2): Dropout(p=0.1, inplace=False)\n",
       "     )\n",
       "   )\n",
       "   (5): Linear(in_features=32, out_features=1, bias=True)\n",
       "   (6): Sigmoid()\n",
       " ), epoch=67),\n",
       " 'train_metrics': corr: 0.0844 mse: 0.0505 sharpe: 3.8842,\n",
       " 'val_metrics': corr: 0.0354 mse: 0.0509 sharpe: 2.6387}"
      ]
     },
     "metadata": {},
     "output_type": "display_data"
    },
    {
     "data": {
      "image/png": "[encoded data removed]",
      "text/plain": [
       "<Figure size 1440x288 with 3 Axes>"
      ]
     },
     "metadata": {
      "needs_background": "light"
     },
     "output_type": "display_data"
    },
    {
     "data": {
      "image/png": "[encoded data removed]",
      "text/plain": [
       "<Figure size 1440x288 with 3 Axes>"
      ]
     },
     "metadata": {
      "needs_background": "light"
     },
     "output_type": "display_data"
    },
    {
     "data": {
      "text/html": [
       "<div>\n",
       "<style scoped>\n",
       "    .dataframe tbody tr th:only-of-type {\n",
       "        vertical-align: middle;\n",
       "    }\n",
       "\n",
       "    .dataframe tbody tr th {\n",
       "        vertical-align: top;\n",
       "    }\n",
       "\n",
       "    .dataframe thead th {\n",
       "        text-align: right;\n",
       "    }\n",
       "</style>\n",
       "<table border=\"1\" class=\"dataframe\">\n",
       "  <thead>\n",
       "    <tr style=\"text-align: right;\">\n",
       "      <th></th>\n",
       "      <th>mse</th>\n",
       "      <th>corr</th>\n",
       "      <th>sharpe</th>\n",
       "    </tr>\n",
       "  </thead>\n",
       "  <tbody>\n",
       "    <tr>\n",
       "      <th>91</th>\n",
       "      <td>0.051157</td>\n",
       "      <td>0.034799</td>\n",
       "      <td>2.014651</td>\n",
       "    </tr>\n",
       "    <tr>\n",
       "      <th>92</th>\n",
       "      <td>0.051300</td>\n",
       "      <td>0.035582</td>\n",
       "      <td>2.090212</td>\n",
       "    </tr>\n",
       "    <tr>\n",
       "      <th>93</th>\n",
       "      <td>0.051274</td>\n",
       "      <td>0.034984</td>\n",
       "      <td>2.058028</td>\n",
       "    </tr>\n",
       "    <tr>\n",
       "      <th>94</th>\n",
       "      <td>0.051351</td>\n",
       "      <td>0.035984</td>\n",
       "      <td>2.089926</td>\n",
       "    </tr>\n",
       "  </tbody>\n",
       "</table>\n",
       "</div>"
      ],
      "text/plain": [
       "         mse      corr    sharpe\n",
       "91  0.051157  0.034799  2.014651\n",
       "92  0.051300  0.035582  2.090212\n",
       "93  0.051274  0.034984  2.058028\n",
       "94  0.051351  0.035984  2.089926"
      ]
     },
     "metadata": {},
     "output_type": "display_data"
    },
    {
     "name": "stdout",
     "output_type": "stream",
     "text": [
      "\n",
      "Final model on test set\n",
      "-----------------------\n"
     ]
    },
    {
     "data": {
      "application/vnd.jupyter.widget-view+json": {
       "model_id": "",
       "version_major": 2,
       "version_minor": 0
      },
      "text/plain": [
       "Batches:   0%|          | 0/13 [00:00<?, ?it/s]"
      ]
     },
     "metadata": {},
     "output_type": "display_data"
    },
    {
     "data": {
      "application/vnd.jupyter.widget-view+json": {
       "model_id": "",
       "version_major": 2,
       "version_minor": 0
      },
      "text/plain": [
       "Batches:   0%|          | 0/13 [00:00<?, ?it/s]"
      ]
     },
     "metadata": {},
     "output_type": "display_data"
    },
    {
     "name": "stdout",
     "output_type": "stream",
     "text": [
      "test_df.shape=(2546387, 645), preds.shape=(2546387,)\n",
      "Corr: {'corr': 0.01925541562175023, 'sharpe': 0.9106698087337853}\n",
      "\n",
      "Best val model on test set\n",
      "--------------------------\n"
     ]
    },
    {
     "data": {
      "application/vnd.jupyter.widget-view+json": {
       "model_id": "",
       "version_major": 2,
       "version_minor": 0
      },
      "text/plain": [
       "Batches:   0%|          | 0/13 [00:00<?, ?it/s]"
      ]
     },
     "metadata": {},
     "output_type": "display_data"
    },
    {
     "data": {
      "application/vnd.jupyter.widget-view+json": {
       "model_id": "",
       "version_major": 2,
       "version_minor": 0
      },
      "text/plain": [
       "Batches:   0%|          | 0/13 [00:00<?, ?it/s]"
      ]
     },
     "metadata": {},
     "output_type": "display_data"
    },
    {
     "name": "stdout",
     "output_type": "stream",
     "text": [
      "test_df.shape=(2546387, 645), preds.shape=(2546387,)\n",
      "Corr: {'corr': 0.019661001961097182, 'sharpe': 0.8992243292647177}\n"
     ]
    }
   ],
   "source": [
    "summarise_model_perf(\n",
    "    model=fc2hl,\n",
    "    train_state=fc2hl_train_state,\n",
    "    test_df=test_df,\n",
    "    test_dl=test_dl,\n",
    "    model_name=\"FC 3-layer model\",\n",
    ")"
   ]
  },
  {
   "cell_type": "markdown",
   "id": "cfea3c16-8b91-431a-bb7e-0483e196396d",
   "metadata": {},
   "source": [
    "## 4.2 TRANSFORMER MODELS\n",
    "Attention, MultiHeadedAttention and Full transformer models"
   ]
  },
  {
   "cell_type": "code",
   "execution_count": 434,
   "id": "fd717417-1611-4d1e-a1b9-b85e16efa158",
   "metadata": {},
   "outputs": [],
   "source": [
    "# ------------------------------------------------------------------------------\n",
    "# TRANSFORMERS\n",
    "#\n",
    "# Attention, MultiHeadedAttention and Full transformer models.\n",
    "#\n",
    "# Improvised rewriting of nanoGPT tutorial by Andrej K at\n",
    "# https://github.com/vispz/andrej_lectures/blob/main/gpt/gpt.py\n",
    "# ------------------------------------------------------------------------------\n",
    "\n",
    "@dataclass(eq=False)\n",
    "class Transformer(nn.Module):\n",
    "\n",
    "    input_dim: int\n",
    "    embed_dim: int\n",
    "    num_attn_head: int\n",
    "    mlp_hidden_dim: int  # embed_dim * 4 in paper\n",
    "    num_blocks: int\n",
    "    dropout_frac: float\n",
    "    to_layer_norm: bool\n",
    "\n",
    "    def __post_init__(self):\n",
    "        super().__init__()\n",
    "        bk_kwargs = dict(\n",
    "            embed_dim=self.embed_dim,\n",
    "            num_attn_head=self.num_attn_head,\n",
    "            mlp_hidden_dim=self.mlp_hidden_dim,\n",
    "            dropout_frac=self.dropout_frac,\n",
    "            to_layer_norm=self.to_layer_norm,\n",
    "        )\n",
    "        self.net = nn.ModuleList(\n",
    "            [\n",
    "                nn.Linear(self.input_dim, self.embed_dim),\n",
    "                *[Block(**bk_kwargs) for _ in range(self.num_blocks)],\n",
    "                nn.LayerNorm(self.embed_dim) if self.to_layer_norm else nn.Identity(),\n",
    "                nn.Linear(self.embed_dim, 1),\n",
    "                nn.Sigmoid()\n",
    "            ],\n",
    "        )\n",
    "\n",
    "    def forward(self, X, mask):\n",
    "        B, S, F = X.shape\n",
    "        x = X\n",
    "        for subnet in self.net:\n",
    "            if isinstance(subnet, Block):\n",
    "                x = subnet(X=x, mask=mask)\n",
    "            else:\n",
    "                x = subnet(x)\n",
    "        assert tuple(x.shape) == (B, S, 1)\n",
    "        return x[:,:,0]\n",
    "\n",
    "    def __repr__(self) -> str:\n",
    "        return str(self.net)\n",
    "\n",
    "\n",
    "@dataclass(eq=False)\n",
    "class Block(nn.Module):\n",
    "\n",
    "    embed_dim: int\n",
    "    num_attn_head: int\n",
    "    mlp_hidden_dim: int\n",
    "    dropout_frac: float\n",
    "    to_layer_norm: bool\n",
    "\n",
    "    def __post_init__(self):\n",
    "        super().__init__()\n",
    "        ln_cls = nn.LayerNorm if self.to_layer_norm else nn.Identity\n",
    "        self.sa = MultiHeadedAttention(\n",
    "            nhead=self.num_attn_head,\n",
    "            embed_dim=self.embed_dim,\n",
    "            dropout_frac=self.dropout_frac,\n",
    "        )\n",
    "        self.ln1 = ln_cls(self.embed_dim)\n",
    "        self.mlp = MLP(\n",
    "            embed_dim=self.embed_dim,\n",
    "            hidden_dim=self.mlp_hidden_dim,\n",
    "            dropout_frac=self.dropout_frac,\n",
    "        )\n",
    "        self.ln2 = ln_cls(self.embed_dim)\n",
    "\n",
    "    def forward(self, X, mask):\n",
    "        attn = X + self.sa(X=self.ln1(X), mask=mask)\n",
    "        out = attn + self.mlp(self.ln2(attn))\n",
    "        return out\n",
    "\n",
    "    def __repr__(self) -> str:\n",
    "        return (\n",
    "            f\"Block(\\n{self.sa},\\n{self.ln1},\\n{self.mlp},\\n{self.ln2}\\n)\"\n",
    "        )\n",
    "\n",
    "\n",
    "@dataclass(eq=False)\n",
    "class MLP(nn.Module):\n",
    "\n",
    "    embed_dim: int\n",
    "    hidden_dim: int\n",
    "    dropout_frac: float\n",
    "\n",
    "    def __post_init__(self):\n",
    "        super().__init__()\n",
    "        self.net = nn.Sequential(\n",
    "            nn.Linear(self.embed_dim, self.hidden_dim),\n",
    "            nn.GELU(),\n",
    "            nn.Linear(self.hidden_dim, self.embed_dim),\n",
    "            nn.Dropout(self.dropout_frac),\n",
    "        )\n",
    "\n",
    "    def forward(self, X):\n",
    "        return self.net(X)\n",
    "\n",
    "    def __repr__(self) -> str:\n",
    "        return str(self.net).replace(\"Sequential\", \"MLP\")\n",
    "\n",
    "\n",
    "@dataclass(eq=False)\n",
    "class MultiHeadedAttention(nn.Module):\n",
    "\n",
    "    \"\"\"This takes in the B x S [Batch(eras) x Stocks] or output of the previous\n",
    "    enccoder layer (B x Sx C) and then produces (B x S x (nhead*(out_dim/nhead)))\n",
    "    output.\n",
    "\n",
    "    We create nhead attention heads each mapping C -> (out_dim/nhead) space.\n",
    "    \"\"\"\n",
    "\n",
    "    nhead: int\n",
    "    embed_dim: int\n",
    "    dropout_frac: float\n",
    "\n",
    "    def __post_init__(self):\n",
    "        super().__init__()\n",
    "        assert (\n",
    "            self.embed_dim % self.nhead == 0\n",
    "        ), \"Embedding dim not divisible num attention heads\"\n",
    "        self.heads = nn.ModuleList(\n",
    "            [\n",
    "                AttentionHead(\n",
    "                    input_dim=self.embed_dim,\n",
    "                    output_dim=self.embed_dim // self.nhead,\n",
    "                    dropout_frac=self.dropout_frac,\n",
    "                )\n",
    "                for _ in range(self.nhead)\n",
    "            ],\n",
    "        )\n",
    "        self.projection = nn.Linear(self.embed_dim, self.embed_dim)\n",
    "        self.dropout_lyr = nn.Dropout(self.dropout_frac)\n",
    "\n",
    "    def forward(self, X, mask):\n",
    "        # concat nhead of dims B x S x E/nhead\n",
    "        attn = torch.cat([h(X=X, mask=mask) for h in self.heads], dim=-1)\n",
    "        out = self.dropout_lyr(self.projection(attn))  # B x S x E\n",
    "        # Force the predictions of padded outputs to be 0.\n",
    "        out[~mask, :] = 0.\n",
    "        return out\n",
    "\n",
    "@dataclass(eq=False)\n",
    "class AttentionHead(nn.Module):\n",
    "\n",
    "    \"\"\"A single attention head implementation.\n",
    "\n",
    "    This takes in the batch(eras) x Stocks x (features or output of the previous\n",
    "    encoder layer (B x S x C)) and then produces (B x S x embed_dim) output. Where\n",
    "    each (b, s) outputs a weighted value vector. The (b, s) example looks at all other\n",
    "    stocks (b, :) computes attention scores ie., softmax(query[s]@key[:]) and computes\n",
    "    a weighted sum of the value vectors.\n",
    "    \"\"\"\n",
    "\n",
    "    input_dim: int\n",
    "    output_dim: int\n",
    "    dropout_frac: float\n",
    "\n",
    "    def __post_init__(self):\n",
    "        super().__init__()\n",
    "        lin_kwargs = dict(\n",
    "            in_features=self.input_dim, out_features=self.output_dim, bias=False\n",
    "        )\n",
    "        self.key = nn.Linear(**lin_kwargs)\n",
    "        self.query = nn.Linear(**lin_kwargs)\n",
    "        self.value = nn.Linear(**lin_kwargs)\n",
    "        # Keep the initial softmax fairly diffused so that we look at all the stocks\n",
    "        for nm, param in self.key.named_parameters():\n",
    "            if nm != \"weight\":\n",
    "                continue\n",
    "            param.data *= 0.01\n",
    "        self.dropout = nn.Dropout(self.dropout_frac)\n",
    "\n",
    "    def forward(self, X, mask):\n",
    "        return AttentionHead._forward(\n",
    "            X=X,\n",
    "            mask=mask,\n",
    "            key=self.key,\n",
    "            query=self.query,\n",
    "            value=self.value,\n",
    "            dropout=self.dropout,\n",
    "            output_dim=self.output_dim,\n",
    "        )\n",
    "\n",
    "    @staticmethod\n",
    "    def _forward(X, mask, key, query, value, dropout, output_dim):\n",
    "        # X : B x S x D(feats), outputs B x S x E (embed_dim)\n",
    "        B, S, D = X.shape\n",
    "        keys, queries, values = key(X), query(X), value(X)  # B,S,E\n",
    "        attn_logit = (\n",
    "            # Div by sqrt(out_dim) to keep std() at the same scale as input\n",
    "            torch.einsum(\"ijk,ilk->ijl\", queries, keys) / output_dim**0.5\n",
    "        )  # B x S x S\n",
    "        # Mask provides which stock indices are real. We want to zero out\n",
    "        # padded indices\n",
    "        attn_logit[~mask, :] = -torch.inf\n",
    "        attn_logit.transpose(2,1)[~mask, :] = -torch.inf\n",
    "        affinities = dropout(F.softmax(attn_logit, dim=2))  # B,S,S\n",
    "        # The rows of padded columns are all 0s, when taking softmax\n",
    "        # we want to set them to 0, so that their output is always 0\n",
    "        affinities[~mask, :] = 0.\n",
    "        out = affinities @ values  # B,S,S @ B,S,E = B,S,E\n",
    "        return out\n"
   ]
  },
  {
   "cell_type": "code",
   "execution_count": 445,
   "id": "23ae297c-21a6-4d63-b563-bb6f14e149f4",
   "metadata": {},
   "outputs": [],
   "source": [
    "# --------------------------\n",
    "# Attention only model\n",
    "# --------------------------\n",
    "@dataclass(eq=False)\n",
    "class AttentionModel(nn.Module):\n",
    "    input_dim: int\n",
    "    output_dim: int\n",
    "    dropout_frac: int\n",
    "\n",
    "    def __post_init__(self):\n",
    "        super().__init__()\n",
    "        self.ah = AttentionHead(\n",
    "            input_dim=self.input_dim,\n",
    "            output_dim=self.output_dim,\n",
    "            dropout_frac=self.dropout_frac,\n",
    "        )\n",
    "        self.act = nn.Sigmoid()\n",
    "    \n",
    "    def forward(self, X, mask):\n",
    "        B, S, D = X.shape\n",
    "        out = self.act(self.ah(X=X, mask=mask))\n",
    "        assert tuple(out.shape) == (B, S, 1)\n",
    "        return out[:,:,0]\n",
    "\n",
    "    def __repr__(self):\n",
    "        return f\"Sigmoid({self.ah})\"\n",
    "\n",
    "\n",
    "attn_ts = {\n",
    "    \"best_val_model\": BestModel(),\n",
    "    \"train_metrics\": MetricsSequence(),\n",
    "    \"val_metrics\": MetricsSequence(),\n",
    "}\n",
    "attn = AttentionModel(\n",
    "    input_dim=N_FEATURES,\n",
    "    output_dim=1,\n",
    "    dropout_frac=0.1,\n",
    ").to(DEVICE)"
   ]
  },
  {
   "cell_type": "code",
   "execution_count": null,
   "id": "727fb8ba-4ad5-41b1-b44d-9a57574d470c",
   "metadata": {},
   "outputs": [],
   "source": [
    "attn_ts = train_model(\n",
    "    model=attn,\n",
    "    optimizer=optim.AdamW(attn.parameters(), lr=3e-4),\n",
    "    train_dl=train_dl,\n",
    "    val_dl=val_dl,\n",
    "    num_epochs=40,\n",
    "    criterion='corr',\n",
    "    criterion_dirn='higher',\n",
    "    model_path='./nn_models/attn.pkl',\n",
    "    train_state=attn_ts,\n",
    ")\n",
    "gc.collect()"
   ]
  },
  {
   "cell_type": "code",
   "execution_count": 467,
   "id": "85730f15-9387-487f-baee-de0750d163f0",
   "metadata": {},
   "outputs": [
    {
     "data": {
      "text/plain": [
       "{'best_val_model': BestModel(metric=0.028018762656886662, model=Sigmoid(AttentionHead(input_dim=32, output_dim=1, dropout_frac=0.1)), epoch=94),\n",
       " 'train_metrics': corr: 0.0224 mse: 0.0498 sharpe: 1.1495,\n",
       " 'val_metrics': corr: 0.019 mse: 0.0498 sharpe: 1.9907}"
      ]
     },
     "metadata": {},
     "output_type": "display_data"
    },
    {
     "data": {
      "image/png": "[encoded data removed]",
      "text/plain": [
       "<Figure size 1440x288 with 3 Axes>"
      ]
     },
     "metadata": {},
     "output_type": "display_data"
    },
    {
     "data": {
      "image/png": "[encoded data removed]",
      "text/plain": [
       "<Figure size 1440x288 with 3 Axes>"
      ]
     },
     "metadata": {},
     "output_type": "display_data"
    },
    {
     "data": {
      "text/html": [
       "<div>\n",
       "<style scoped>\n",
       "    .dataframe tbody tr th:only-of-type {\n",
       "        vertical-align: middle;\n",
       "    }\n",
       "\n",
       "    .dataframe tbody tr th {\n",
       "        vertical-align: top;\n",
       "    }\n",
       "\n",
       "    .dataframe thead th {\n",
       "        text-align: right;\n",
       "    }\n",
       "</style>\n",
       "<table border=\"1\" class=\"dataframe\">\n",
       "  <thead>\n",
       "    <tr style=\"text-align: right;\">\n",
       "      <th></th>\n",
       "      <th>mse</th>\n",
       "      <th>corr</th>\n",
       "      <th>sharpe</th>\n",
       "    </tr>\n",
       "  </thead>\n",
       "  <tbody>\n",
       "    <tr>\n",
       "      <th>108</th>\n",
       "      <td>0.049811</td>\n",
       "      <td>0.027880</td>\n",
       "      <td>2.904573</td>\n",
       "    </tr>\n",
       "    <tr>\n",
       "      <th>109</th>\n",
       "      <td>0.049832</td>\n",
       "      <td>0.027921</td>\n",
       "      <td>2.909938</td>\n",
       "    </tr>\n",
       "    <tr>\n",
       "      <th>110</th>\n",
       "      <td>0.049848</td>\n",
       "      <td>0.027973</td>\n",
       "      <td>2.917476</td>\n",
       "    </tr>\n",
       "    <tr>\n",
       "      <th>111</th>\n",
       "      <td>0.049833</td>\n",
       "      <td>0.028019</td>\n",
       "      <td>2.923848</td>\n",
       "    </tr>\n",
       "  </tbody>\n",
       "</table>\n",
       "</div>"
      ],
      "text/plain": [
       "          mse      corr    sharpe\n",
       "108  0.049811  0.027880  2.904573\n",
       "109  0.049832  0.027921  2.909938\n",
       "110  0.049848  0.027973  2.917476\n",
       "111  0.049833  0.028019  2.923848"
      ]
     },
     "metadata": {},
     "output_type": "display_data"
    },
    {
     "name": "stdout",
     "output_type": "stream",
     "text": [
      "\n",
      "Final model on test set\n",
      "-----------------------\n"
     ]
    },
    {
     "data": {
      "application/vnd.jupyter.widget-view+json": {
       "model_id": "",
       "version_major": 2,
       "version_minor": 0
      },
      "text/plain": [
       "Batches:   0%|          | 0/63 [00:00<?, ?it/s]"
      ]
     },
     "metadata": {},
     "output_type": "display_data"
    },
    {
     "data": {
      "application/vnd.jupyter.widget-view+json": {
       "model_id": "",
       "version_major": 2,
       "version_minor": 0
      },
      "text/plain": [
       "Batches:   0%|          | 0/63 [00:00<?, ?it/s]"
      ]
     },
     "metadata": {},
     "output_type": "display_data"
    },
    {
     "name": "stdout",
     "output_type": "stream",
     "text": [
      "test_df.shape=(2546387, 36), preds.shape=(2546387,)\n",
      "Corr: {'corr': 0.00972301114838203, 'sharpe': 0.4587941426453222}\n",
      "\n",
      "Best val model on test set\n",
      "--------------------------\n"
     ]
    },
    {
     "data": {
      "application/vnd.jupyter.widget-view+json": {
       "model_id": "",
       "version_major": 2,
       "version_minor": 0
      },
      "text/plain": [
       "Batches:   0%|          | 0/63 [00:00<?, ?it/s]"
      ]
     },
     "metadata": {},
     "output_type": "display_data"
    },
    {
     "data": {
      "application/vnd.jupyter.widget-view+json": {
       "model_id": "",
       "version_major": 2,
       "version_minor": 0
      },
      "text/plain": [
       "Batches:   0%|          | 0/63 [00:00<?, ?it/s]"
      ]
     },
     "metadata": {},
     "output_type": "display_data"
    },
    {
     "name": "stdout",
     "output_type": "stream",
     "text": [
      "test_df.shape=(2546387, 36), preds.shape=(2546387,)\n",
      "Corr: {'corr': 0.00972301114838203, 'sharpe': 0.4587941426453222}\n"
     ]
    }
   ],
   "source": [
    "summarise_model_perf(\n",
    "    model=attn,\n",
    "    train_state=attn_ts,\n",
    "    test_df=test_df,\n",
    "    test_dl=test_dl,\n",
    "    model_name=\"Attention only partial training\",\n",
    ")"
   ]
  },
  {
   "cell_type": "code",
   "execution_count": 471,
   "id": "dbe409ca-676d-4ffe-9f47-dd6c3bb5376d",
   "metadata": {},
   "outputs": [
    {
     "data": {
      "text/plain": [
       "ModuleList(\n",
       "  (0): Linear(in_features=32, out_features=4, bias=True)\n",
       "  (1): Block(\n",
       "  MultiHeadedAttention(nhead=2, embed_dim=4, dropout_frac=0.1),\n",
       "  Identity(),\n",
       "  MLP(\n",
       "    (0): Linear(in_features=4, out_features=8, bias=True)\n",
       "    (1): GELU(approximate='none')\n",
       "    (2): Linear(in_features=8, out_features=4, bias=True)\n",
       "    (3): Dropout(p=0.1, inplace=False)\n",
       "  ),\n",
       "  Identity()\n",
       "  )\n",
       "  (2): Identity()\n",
       "  (3): Linear(in_features=4, out_features=1, bias=True)\n",
       "  (4): Sigmoid()\n",
       ")"
      ]
     },
     "execution_count": 471,
     "metadata": {},
     "output_type": "execute_result"
    }
   ],
   "source": [
    "# --------------------------\n",
    "# Transformer model\n",
    "# --------------------------\n",
    "tfm_train_state = {\n",
    "    \"best_val_model\": BestModel(),\n",
    "    \"train_metrics\": MetricsSequence(),\n",
    "    \"val_metrics\": MetricsSequence(),\n",
    "}\n",
    "tfm = Transformer(\n",
    "    input_dim=N_FEATURES,\n",
    "    embed_dim=4,\n",
    "    num_attn_head=2,\n",
    "    mlp_hidden_dim=8,\n",
    "    num_blocks=1,\n",
    "    dropout_frac=0.1,\n",
    "    to_layer_norm=False,\n",
    ").to(DEVICE)\n",
    "# if \"./nn_models/tfm.pkl\" in os.listdir():\n",
    "#     transformer.load_state_dict(torch.load(\"./nn_models/tfm.pkl\"))\n",
    "tfm"
   ]
  },
  {
   "cell_type": "code",
   "execution_count": null,
   "id": "99fe0539-9809-40ec-a669-43b10ece1867",
   "metadata": {},
   "outputs": [],
   "source": [
    "tfm_train_state = train_model(\n",
    "    model=tfm,\n",
    "    optimizer=optim.AdamW(tfm.parameters(), lr=3e-4),\n",
    "    train_dl=train_dl,\n",
    "    val_dl=val_dl,\n",
    "    num_epochs=40,\n",
    "    criterion='corr',\n",
    "    criterion_dirn='higher',\n",
    "    model_path='./nn_models/tfm.pkl',\n",
    "    train_state=tfm_train_state,\n",
    ")"
   ]
  },
  {
   "cell_type": "code",
   "execution_count": 478,
   "id": "eb197440-2e1c-4146-8711-61f55fd2e9c0",
   "metadata": {},
   "outputs": [
    {
     "data": {
      "text/plain": [
       "{'best_val_model': BestModel(metric=-0.007974565697146491, model=ModuleList(\n",
       "   (0): Linear(in_features=32, out_features=4, bias=True)\n",
       "   (1): Block(\n",
       "   MultiHeadedAttention(nhead=2, embed_dim=4, dropout_frac=0.1),\n",
       "   Identity(),\n",
       "   MLP(\n",
       "     (0): Linear(in_features=4, out_features=8, bias=True)\n",
       "     (1): GELU(approximate='none')\n",
       "     (2): Linear(in_features=8, out_features=4, bias=True)\n",
       "     (3): Dropout(p=0.1, inplace=False)\n",
       "   ),\n",
       "   Identity()\n",
       "   )\n",
       "   (2): Identity()\n",
       "   (3): Linear(in_features=4, out_features=1, bias=True)\n",
       "   (4): Sigmoid()\n",
       " ), epoch=3),\n",
       " 'train_metrics': corr: -0.0036 mse: 0.072 sharpe: -0.2347,\n",
       " 'val_metrics': corr: -0.0014 mse: 0.0713 sharpe: 0.9345}"
      ]
     },
     "metadata": {},
     "output_type": "display_data"
    },
    {
     "data": {
      "image/png": "[encoded data removed]",
      "text/plain": [
       "<Figure size 1440x288 with 3 Axes>"
      ]
     },
     "metadata": {},
     "output_type": "display_data"
    },
    {
     "data": {
      "image/png": "[encoded data removed]",
      "text/plain": [
       "<Figure size 1440x288 with 3 Axes>"
      ]
     },
     "metadata": {},
     "output_type": "display_data"
    },
    {
     "data": {
      "text/html": [
       "<div>\n",
       "<style scoped>\n",
       "    .dataframe tbody tr th:only-of-type {\n",
       "        vertical-align: middle;\n",
       "    }\n",
       "\n",
       "    .dataframe tbody tr th {\n",
       "        vertical-align: top;\n",
       "    }\n",
       "\n",
       "    .dataframe thead th {\n",
       "        text-align: right;\n",
       "    }\n",
       "</style>\n",
       "<table border=\"1\" class=\"dataframe\">\n",
       "  <thead>\n",
       "    <tr style=\"text-align: right;\">\n",
       "      <th></th>\n",
       "      <th>mse</th>\n",
       "      <th>corr</th>\n",
       "      <th>sharpe</th>\n",
       "    </tr>\n",
       "  </thead>\n",
       "  <tbody>\n",
       "    <tr>\n",
       "      <th>11</th>\n",
       "      <td>0.068171</td>\n",
       "      <td>0.003843</td>\n",
       "      <td>1.479853</td>\n",
       "    </tr>\n",
       "    <tr>\n",
       "      <th>12</th>\n",
       "      <td>0.067676</td>\n",
       "      <td>0.004904</td>\n",
       "      <td>2.563451</td>\n",
       "    </tr>\n",
       "    <tr>\n",
       "      <th>13</th>\n",
       "      <td>0.067182</td>\n",
       "      <td>0.005963</td>\n",
       "      <td>5.175566</td>\n",
       "    </tr>\n",
       "    <tr>\n",
       "      <th>14</th>\n",
       "      <td>0.066832</td>\n",
       "      <td>0.006934</td>\n",
       "      <td>6.374494</td>\n",
       "    </tr>\n",
       "  </tbody>\n",
       "</table>\n",
       "</div>"
      ],
      "text/plain": [
       "         mse      corr    sharpe\n",
       "11  0.068171  0.003843  1.479853\n",
       "12  0.067676  0.004904  2.563451\n",
       "13  0.067182  0.005963  5.175566\n",
       "14  0.066832  0.006934  6.374494"
      ]
     },
     "metadata": {},
     "output_type": "display_data"
    },
    {
     "name": "stdout",
     "output_type": "stream",
     "text": [
      "\n",
      "Final model on test set\n",
      "-----------------------\n"
     ]
    },
    {
     "data": {
      "application/vnd.jupyter.widget-view+json": {
       "model_id": "",
       "version_major": 2,
       "version_minor": 0
      },
      "text/plain": [
       "Batches:   0%|          | 0/63 [00:00<?, ?it/s]"
      ]
     },
     "metadata": {},
     "output_type": "display_data"
    },
    {
     "data": {
      "application/vnd.jupyter.widget-view+json": {
       "model_id": "",
       "version_major": 2,
       "version_minor": 0
      },
      "text/plain": [
       "Batches:   0%|          | 0/63 [00:00<?, ?it/s]"
      ]
     },
     "metadata": {},
     "output_type": "display_data"
    },
    {
     "name": "stdout",
     "output_type": "stream",
     "text": [
      "test_df.shape=(2546387, 36), preds.shape=(2546387,)\n",
      "Corr: {'corr': 0.0014027638345967708, 'sharpe': 0.07618739065051013}\n",
      "\n",
      "Best val model on test set\n",
      "--------------------------\n"
     ]
    },
    {
     "data": {
      "application/vnd.jupyter.widget-view+json": {
       "model_id": "",
       "version_major": 2,
       "version_minor": 0
      },
      "text/plain": [
       "Batches:   0%|          | 0/63 [00:00<?, ?it/s]"
      ]
     },
     "metadata": {},
     "output_type": "display_data"
    },
    {
     "data": {
      "application/vnd.jupyter.widget-view+json": {
       "model_id": "",
       "version_major": 2,
       "version_minor": 0
      },
      "text/plain": [
       "Batches:   0%|          | 0/63 [00:00<?, ?it/s]"
      ]
     },
     "metadata": {},
     "output_type": "display_data"
    },
    {
     "name": "stdout",
     "output_type": "stream",
     "text": [
      "test_df.shape=(2546387, 36), preds.shape=(2546387,)\n",
      "Corr: {'corr': -0.003948656753321279, 'sharpe': -0.2557160122043845}\n"
     ]
    }
   ],
   "source": [
    "summarise_model_perf(\n",
    "    model=tfm,\n",
    "    train_state=tfm_train_state,\n",
    "    test_df=test_df,\n",
    "    test_dl=test_dl,\n",
    "    model_name=\"Transformer tinyl\",\n",
    ")"
   ]
  },
  {
   "cell_type": "code",
   "execution_count": 479,
   "id": "ccb3c9be-0f75-4a0f-967c-b3d306bec661",
   "metadata": {},
   "outputs": [
    {
     "data": {
      "text/plain": [
       "8193"
      ]
     },
     "execution_count": 479,
     "metadata": {},
     "output_type": "execute_result"
    }
   ],
   "source": [
    "gc.collect()"
   ]
  },
  {
   "cell_type": "markdown",
   "id": "cd9234d9-354c-4d89-bd2b-058066a3398d",
   "metadata": {},
   "source": [
    "# Test"
   ]
  },
  {
   "cell_type": "code",
   "execution_count": 302,
   "id": "b245cde7-4465-44f8-ac5f-4ed4f0d5ffb5",
   "metadata": {},
   "outputs": [],
   "source": [
    "def test_corr_masked():\n",
    "    \"\"\"Compare the above implementation with an iterative numpy implementation\"\"\"\n",
    "    # Given padded inputs and targets where each row is an era and each\n",
    "    # column is a stock's model's prediction or label or padding mask\n",
    "    B, S = 4, 5000  # batchsize (eras) and num_stock\n",
    "    pred = np.random.random((B, S))\n",
    "    target = np.random.random((B, S))\n",
    "    mask = np.random.random((B, S)) > 0.3\n",
    "    # When we compute erawise pearson corr with the label\n",
    "    res = corr_masked(\n",
    "        pred=torch.from_numpy(pred),\n",
    "        target=torch.from_numpy(target),\n",
    "        mask=torch.from_numpy(mask),\n",
    "    )\n",
    "    # Then we should compute pearson corr after masking\n",
    "    res_corr = res[\"erawise_corr\"].detach().numpy()\n",
    "    for  _rcorr, _o, _l, _m in zip(res_corr, pred, target, mask):\n",
    "        np.testing.assert_almost_equal(_rcorr[0], np.corrcoef(_o[_m], _l[_m])[0,1])\n",
    "\n",
    "test_corr_masked()"
   ]
  },
  {
   "cell_type": "code",
   "execution_count": 480,
   "id": "ed8e35a9-aaea-4fde-8222-8802f23e808d",
   "metadata": {},
   "outputs": [],
   "source": [
    "def test_attn_w_mask():\n",
    "    # Given some input data of B eras and padded\n",
    "    # S stocks and D features\n",
    "    B, S, D = 3, 60, 4\n",
    "    X = torch.randn(B, S, D)\n",
    "    mask = torch.ones(B, S)\n",
    "    # Stocks after these are padded\n",
    "    era2stk_cnt = {0: 40, 1: 50, 2: 30}\n",
    "    for era, stk_cnt in era2stk_cnt.items():\n",
    "        mask[era,stk_cnt:] = 0\n",
    "    mask = mask > 0\n",
    "    # And a MultiHeadAttention Model\n",
    "    attn = MultiHeadedAttention(\n",
    "        embed_dim=D,\n",
    "        nhead=4,\n",
    "        dropout_frac=0.1,\n",
    "    )\n",
    "    # When we forward through the layer\n",
    "    out = attn(X=X, mask=mask)\n",
    "    # Then the output should be of expected dimensions\n",
    "    assert tuple(out.shape) == (B, S, D)\n",
    "    # And have 0 predictions only for the padded stocks\n",
    "    for era, era_out in enumerate(out):\n",
    "        assert tuple(era_out.shape) == (S, D)\n",
    "        nstk = era2stk_cnt[era]\n",
    "        # All the non padded stocks should have non NaN preds\n",
    "        assert not torch.isnan(era_out[:nstk, :]).any()\n",
    "        # All the padded stocks should have NaN preds\n",
    "        assert (era_out[nstk:, :]==0.).all()\n",
    "\n",
    "test_attn_w_mask()"
   ]
  }
 ],
 "metadata": {
  "kernelspec": {
   "display_name": "Python 3 (ipykernel)",
   "language": "python",
   "name": "python3"
  },
  "language_info": {
   "codemirror_mode": {
    "name": "ipython",
    "version": 3
   },
   "file_extension": ".py",
   "mimetype": "text/x-python",
   "name": "python",
   "nbconvert_exporter": "python",
   "pygments_lexer": "ipython3",
   "version": "3.10.8"
  }
 },
 "nbformat": 4,
 "nbformat_minor": 5
}
