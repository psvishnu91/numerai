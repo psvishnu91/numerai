{
 "cells": [
  {
   "cell_type": "markdown",
   "id": "c61402ed",
   "metadata": {},
   "source": [
    "# Transformers for numerai\n",
    "\n",
    "## Credit\n",
    "Through researching this approach, I've realised that Suraj Parmar has already implemented this ([medium post](https://parmarsuraj99.medium.com/era-of-transformers-792e5960e287)). Parts of the code here in structuring the input and the overall transformer structure is inspired by his code. There are variations as the transformer implementation is taken from my reimplmentation of nano-gpt [here](https://github.com/vispz/andrej_lectures/blob/main/gpt/gpt.py). \n",
    "\n",
    "Regardless, credits to Suraj for the idea and the awesome writeup!\n",
    "\n",
    "## What does this notebook do differently?\n",
    "We build from simple to more complex models. Why?\n",
    "1. I wanted to know if neural nets can produce results similar to Gradient Boosted Trees on the numerai dataset. This is a different question from whether transformers are a good idea for this problem.\n",
    "2. Does the transformer architecture improve over a simple Multi Layer Perceptron or a Fully-Connected NN?\n",
    "3. Pedagogical reasons. It would be a useful exercise to build from simple to a complex network.\n",
    "\n",
    "## Steps\n",
    "\n",
    "1. Load the data offered by numerai. _The numerai dataset is split into eras corresponding to a specific week. Each era has features and targets for ~5k equities/stocks. Targets correspond to stock returns after residualising some macro effects._\n",
    "2. Pad the dataset such that each era has a fixed number of equities.\n",
    "3. Push the padded X, targets, mask into a pytorch dataloader.\n",
    "4. Build baselines\n",
    "    * example script, lgbm model. This is a very strong baseline; likely will not beat this performance but we can ensemble with it.\n",
    "    * A simple linear model MSE(sigmoid(w@x))\n",
    "5. More complex models: 2-layer and 3-layer Fully-Connected Nets\n",
    "6. More complex models: Transformers\n",
    "    * Attention only model\n",
    "    * Transformer model with Blocks of (MultiHeaded Attention + MLP)\n",
    "  \n",
    "The hope is as we get to more increasingly complex model, we get better performance. It's also possible the more complex models lead to overfitting or are simply hard to train.\n",
    "\n",
    "## Future\n",
    "Convert this to a script to enable multi-gpu training."
   ]
  },
  {
   "cell_type": "code",
   "execution_count": 1,
   "id": "d03e0b53",
   "metadata": {},
   "outputs": [
    {
     "name": "stderr",
     "output_type": "stream",
     "text": [
      "/home/ubuntu/.local/lib/python3.8/site-packages/pandas/core/computation/expressions.py:20: UserWarning: Pandas requires version '2.7.3' or newer of 'numexpr' (version '2.7.1' currently installed).\n",
      "  from pandas.core.computation.check import NUMEXPR_INSTALLED\n",
      "/usr/lib/python3/dist-packages/dask/dataframe/utils.py:14: FutureWarning: pandas.util.testing is deprecated. Use the functions in the public API at pandas.testing instead.\n",
      "  import pandas.util.testing as tm\n",
      "/usr/lib/python3/dist-packages/dask/dataframe/utils.py:362: FutureWarning: pandas.Int64Index is deprecated and will be removed from pandas in a future version. Use pandas.Index with the appropriate dtype instead.\n",
      "  _numeric_index_types = (pd.Int64Index, pd.Float64Index, pd.UInt64Index)\n",
      "/usr/lib/python3/dist-packages/dask/dataframe/utils.py:362: FutureWarning: pandas.Float64Index is deprecated and will be removed from pandas in a future version. Use pandas.Index with the appropriate dtype instead.\n",
      "  _numeric_index_types = (pd.Int64Index, pd.Float64Index, pd.UInt64Index)\n",
      "/usr/lib/python3/dist-packages/dask/dataframe/utils.py:362: FutureWarning: pandas.UInt64Index is deprecated and will be removed from pandas in a future version. Use pandas.Index with the appropriate dtype instead.\n",
      "  _numeric_index_types = (pd.Int64Index, pd.Float64Index, pd.UInt64Index)\n"
     ]
    }
   ],
   "source": [
    "from IPython.display import display\n",
    "from typing import *\n",
    "\n",
    "import copy\n",
    "import gc\n",
    "import itertools\n",
    "import lightgbm as lgb\n",
    "import pandas as pd\n",
    "import torch\n",
    "import torch.nn as nn\n",
    "import torch.optim as optim\n",
    "import torch.nn.functional as F\n",
    "import numerapi\n",
    "import json\n",
    "import numpy as np\n",
    "import scipy.stats as stats\n",
    "import time\n",
    "import os\n",
    "import torch.utils.data as data_utils\n",
    "import matplotlib.pyplot as plt\n",
    "\n",
    "from collections import defaultdict\n",
    "from tqdm.notebook import tqdm\n",
    "from dataclasses import dataclass\n",
    "\n",
    "plt.style.use(\"seaborn-v0_8-whitegrid\")\n",
    "plt.rcParams.update(\n",
    "    {\n",
    "        'legend.fontsize': 'x-large',\n",
    "        'axes.labelsize': 'x-large',\n",
    "        'axes.titlesize':'x-large',\n",
    "        'xtick.labelsize':'x-large',\n",
    "        'ytick.labelsize':'x-large',\n",
    "    }\n",
    ")\n",
    "\n",
    "torch.set_default_dtype(torch.float32)"
   ]
  },
  {
   "cell_type": "markdown",
   "id": "7ce5a047",
   "metadata": {},
   "source": [
    "## 1. DATA LOADING"
   ]
  },
  {
   "cell_type": "code",
   "execution_count": 2,
   "id": "6ae93635",
   "metadata": {},
   "outputs": [
    {
     "name": "stderr",
     "output_type": "stream",
     "text": [
      "2023-08-01 23:21:57,147 INFO numerapi.utils: resuming download\n",
      "/home/ubuntu/.local/lib/python3.8/site-packages/urllib3/connectionpool.py:1056: InsecureRequestWarning: Unverified HTTPS request is being made to host 'numerai-datasets-us-west-2.s3.amazonaws.com'. Adding certificate verification is strongly advised. See: https://urllib3.readthedocs.io/en/1.26.x/advanced-usage.html#ssl-warnings\n",
      "  warnings.warn(\n",
      "../../data/v4.1/train_int8.parquet: 1.45GB [01:14, 19.4MB/s]                            \n",
      "2023-08-01 23:23:14,924 INFO numerapi.utils: starting download\n",
      "../../data/v4.1/validation_int8.parquet: 1.60GB [02:24, 11.1MB/s]                               \n",
      "2023-08-01 23:25:41,126 INFO numerapi.utils: starting download\n",
      "../../data/v4.1/features.json: 703kB [00:01, 553kB/s]                             \n"
     ]
    },
    {
     "data": {
      "text/plain": [
       "'../../data/v4.1/features.json'"
      ]
     },
     "execution_count": 2,
     "metadata": {},
     "output_type": "execute_result"
    }
   ],
   "source": [
    "train_fl = \"../../data/v4.1/train_int8.parquet\"\n",
    "val_fl = \"../../data/v4.1/validation_int8.parquet\"\n",
    "ft_fl = \"../../data/v4.1/features.json\"\n",
    "\n",
    "napi = numerapi.NumerAPI()\n",
    "napi.download_dataset(filename=\"v4.1/train_int8.parquet\", dest_path=train_fl)\n",
    "napi.download_dataset(filename=\"v4.1/validation_int8.parquet\", dest_path=val_fl)\n",
    "napi.download_dataset(filename=\"v4.1/features.json\", dest_path=ft_fl)"
   ]
  },
  {
   "cell_type": "code",
   "execution_count": 3,
   "id": "02b8e489",
   "metadata": {},
   "outputs": [],
   "source": [
    "# DATA CONSTANTS\n",
    "\n",
    "TARGETS = [\"target_cyrus_v4_20\", \"target_waldo_v4_20\", \"target_ralph_v4_20\"]\n",
    "# Final metrics are always computed against this metric\n",
    "TARGET_COL = \"target_cyrus_v4_20\"\n",
    "# This allows for creating a weighted combination of multiple targets\n",
    "TARGET_WTS = torch.tensor([1., 0., 0.])\n",
    "\n",
    "TRAIN_FRAC = 0.7  # Fraction train vs val set\n",
    "EMBARGO = 10 # Number of weeks of embargo to prevent label leakage\n",
    "\n",
    "# Load small or all features\n",
    "fts_meta = json.loads(open(ft_fl).read())\n",
    "FEATURES = None  # fts_meta[\"feature_sets\"][\"small\"]  # `FEATURES = None` -> all features\n",
    "\n",
    "## Load dataset and pad\n",
    "# E - num_eras\n",
    "# S - num_stocks padded to fixed size\n",
    "# F - num_features\n",
    "PADDING_VALUE = -1\n",
    "MAX_NSTOCKS = 6000\n",
    "DEVICE = 'cuda' if torch.cuda.is_available()  else 'cpu'\n",
    "\n",
    "# Models save dir\n",
    "os.makedirs(\"nn_models\", exist_ok=True)"
   ]
  },
  {
   "cell_type": "code",
   "execution_count": 4,
   "id": "2e29ef7c",
   "metadata": {},
   "outputs": [
    {
     "name": "stdout",
     "output_type": "stream",
     "text": [
      "Train\tShape: (2420521, 1590)\t Eras: (1, 574)\n",
      "Test\tShape: (2546387, 1590)\t Eras: (575, 1073)\n"
     ]
    }
   ],
   "source": [
    "def load_data(fl):\n",
    "    if FEATURES is not None:\n",
    "        df = pd.read_parquet(fl, columns=[\"era\"] + FEATURES + TARGETS)\n",
    "    else:\n",
    "        df = pd.read_parquet(fl)\n",
    "    df[\"era\"] = df[\"era\"].astype(int)\n",
    "    df = df[[\"era\"] + [c for c in df.columns if c.startswith('feature_')] + TARGETS]\n",
    "    df = df.fillna(df.median())  # There can be NAs in fts and tgts\n",
    "    assert not(df.isna().any().any())\n",
    "    print(f\"Shape: {df.shape}\\t Eras: {df.era.min(), df.era.max()}\")\n",
    "    return df\n",
    "\n",
    "print(\"Train\\t\", end=\"\")\n",
    "train_all_df = load_data(train_fl)\n",
    "print(\"Test\\t\", end=\"\")\n",
    "test_df = load_data(val_fl)"
   ]
  },
  {
   "cell_type": "code",
   "execution_count": 8,
   "id": "1f99b591",
   "metadata": {},
   "outputs": [],
   "source": [
    "N_FEATURES = test_df.filter(like=\"feature\").shape[1]\n",
    "FEATURES = test_df.filter(like=\"feature\").columns.tolist()"
   ]
  },
  {
   "cell_type": "code",
   "execution_count": 6,
   "id": "5dffbbc7",
   "metadata": {},
   "outputs": [
    {
     "name": "stdout",
     "output_type": "stream",
     "text": [
      "Train\tshape: (1625257, 1590)\t Eras: (1, 401)\n",
      "Val\tshape: (750606, 1590)\t Eras: (412, 574)\n"
     ]
    },
    {
     "data": {
      "text/plain": [
       "0"
      ]
     },
     "execution_count": 6,
     "metadata": {},
     "output_type": "execute_result"
    }
   ],
   "source": [
    "# Create a train and validation set. The test set will always be kept\n",
    "# aside to get final validation metrics from numer.ai\n",
    "n_train_all_eras = train_all_df.era.nunique()\n",
    "last_train_era   = int(n_train_all_eras * TRAIN_FRAC)\n",
    "\n",
    "train_df = train_all_df[train_all_df[\"era\"] <= last_train_era]\n",
    "val_df   = train_all_df[train_all_df[\"era\"] >  last_train_era + EMBARGO]\n",
    "\n",
    "# 400 eras/weeks ~8 years of training and 175 weeks of val ~3.5 years\n",
    "print(f\"Train\\tshape: {train_df.shape}\\t Eras: {train_df.era.min(), train_df.era.max()}\")\n",
    "print(f\"Val\\tshape: {val_df.shape}\\t Eras: {val_df.era.min(), val_df.era.max()}\")\n",
    "\n",
    "del train_all_df\n",
    "gc.collect()"
   ]
  },
  {
   "cell_type": "code",
   "execution_count": 9,
   "id": "3569d173",
   "metadata": {},
   "outputs": [
    {
     "data": {
      "application/vnd.jupyter.widget-view+json": {
       "model_id": "868634e8ddb74ca694c5da891b9b4947",
       "version_major": 2,
       "version_minor": 0
      },
      "text/plain": [
       "  0%|          | 0/401 [00:00<?, ?it/s]"
      ]
     },
     "metadata": {},
     "output_type": "display_data"
    },
    {
     "data": {
      "application/vnd.jupyter.widget-view+json": {
       "model_id": "f489fffa73174524b4d8405ca05ec8e8",
       "version_major": 2,
       "version_minor": 0
      },
      "text/plain": [
       "  0%|          | 0/163 [00:00<?, ?it/s]"
      ]
     },
     "metadata": {},
     "output_type": "display_data"
    },
    {
     "data": {
      "application/vnd.jupyter.widget-view+json": {
       "model_id": "b24c52013a4241f5969506ebcd73841c",
       "version_major": 2,
       "version_minor": 0
      },
      "text/plain": [
       "  0%|          | 0/499 [00:00<?, ?it/s]"
      ]
     },
     "metadata": {},
     "output_type": "display_data"
    },
    {
     "name": "stdout",
     "output_type": "stream",
     "text": [
      "X\ttorch.Size([401, 6000, 1586])\n",
      "labels\ttorch.Size([401, 6000, 3])\n",
      "mask\ttorch.Size([401, 6000])\n"
     ]
    }
   ],
   "source": [
    "# This cell is very much inspired by Suraj's implementation\n",
    "\n",
    "def pad_data(df):\n",
    "    \"\"\"Pad input data to create a transformer friendly input.\"\"\"\n",
    "    Xs, labels, masks = [], [], []\n",
    "    for era, data in tqdm(df.groupby(\"era\")):\n",
    "        padded_data = convert_to_torch(data=data)\n",
    "        Xs.append(padded_data[\"inputs\"])\n",
    "        labels.append(padded_data[\"labels\"])\n",
    "        masks.append(padded_data[\"masks\"])\n",
    "    return {\n",
    "        \"X\": torch.cat(Xs, dim=0),  # E x S x F\n",
    "        \"labels\": torch.cat(labels, dim=0),  # E x S x num_targets\n",
    "        \"mask\": torch.squeeze(torch.cat(masks, dim=0)),  # E x S\n",
    "    }\n",
    "\n",
    "def convert_to_torch(data):\n",
    "    inputs = torch.from_numpy(data[FEATURES].values.astype(np.int8))\n",
    "    labels = torch.from_numpy(data[TARGETS].values.astype(np.float32))\n",
    "    padded_inputs, masks_inputs = pad_sequence(\n",
    "            inputs, padding_value=PADDING_VALUE, max_len=MAX_NSTOCKS\n",
    "    )\n",
    "    padded_labels, masks_labels = pad_sequence(\n",
    "            labels, padding_value=PADDING_VALUE, max_len=MAX_NSTOCKS\n",
    "    )\n",
    "    return {\"inputs\": padded_inputs, \"labels\": padded_labels, \"masks\": masks_inputs}\n",
    "\n",
    "def pad_sequence(inputs, padding_value, max_len):\n",
    "    assert inputs.shape[0] < max_len\n",
    "    padded_inputs = []\n",
    "    masks = []\n",
    "    pad_len = max_len - inputs.shape[0]\n",
    "    padded_input = F.pad(inputs, (0, 0, 0, pad_len), value=padding_value)\n",
    "    mask = torch.ones((inputs.shape[0], 1), dtype=torch.float)\n",
    "    masks.append(\n",
    "        torch.cat((mask, torch.zeros((pad_len, 1), dtype=torch.float)), dim=0)\n",
    "    )\n",
    "    padded_inputs.append(padded_input)\n",
    "    return torch.stack(padded_inputs), torch.stack(masks)\n",
    "\n",
    "\n",
    "train_padded = pad_data(train_df)\n",
    "val_padded = pad_data(val_df)\n",
    "test_padded = pad_data(test_df)\n",
    "\n",
    "for k, v in train_padded.items():\n",
    "    print(f\"{k}\\t{v.shape}\")"
   ]
  },
  {
   "cell_type": "code",
   "execution_count": 10,
   "id": "d4eec5c7",
   "metadata": {},
   "outputs": [],
   "source": [
    "# -------------------------------------------------------------------\n",
    "# Pytorch Dataset and DataLoader classes\n",
    "# \n",
    "# If we decide to move to multi-GPU training these would be useful.\n",
    "# -------------------------------------------------------------------\n",
    "@dataclass\n",
    "class NmrDataset(data_utils.Dataset):\n",
    "\n",
    "    X: torch.Tensor\n",
    "    mask: torch.Tensor\n",
    "    # Won't have during live data\n",
    "    targets: Optional[torch.Tensor] = None\n",
    "    # This is to create a weighted sum of multiple targets into a single target\n",
    "    target_wts: torch.Tensor = TARGET_WTS\n",
    "    device: str = DEVICE\n",
    "    \n",
    "    def __post_init__(self):\n",
    "        super().__init__()\n",
    "\n",
    "    def __len__(self):\n",
    "        return len(self.X)\n",
    "\n",
    "    def __getitem__(self, index):\n",
    "        \"\"\"Returns (\n",
    "            X, # S x F  (torch.float32)  \\in {-1.0, 0, 0.25, 0.5, 0.75, 1.0}\n",
    "            targets,  # S x 1 (torch.float32) \\in {0, 0.25, 0.5, 0.75, 1.0} \n",
    "            mask, # S x 1 (bool)\n",
    "        )\n",
    "        \"\"\"\n",
    "        i, dvc = index, self.device\n",
    "        # X convert int8 to float values btw 0-1, leave the padded values unchanged\n",
    "        X = self.X[i].to(dtype=torch.float32)\n",
    "        mask = self.mask[i] > 0\n",
    "        X[mask] = X[mask] / 4.0\n",
    "        if self.targets is not None:\n",
    "            # Won't have during live data\n",
    "            target = (self.targets[i] @ self.target_wts).to(dvc)\n",
    "        else:\n",
    "            target = None\n",
    "        return X.to(dvc), target, mask.to(dvc)"
   ]
  },
  {
   "cell_type": "code",
   "execution_count": 43,
   "id": "aff0e40e",
   "metadata": {},
   "outputs": [
    {
     "name": "stdout",
     "output_type": "stream",
     "text": [
      "Input(torch.float32): torch.Size([16, 6000, 1586])  | Target(torch.float32): torch.Size([16, 6000]) | Mask(torch.bool): torch.Size([16, 6000]) \n"
     ]
    }
   ],
   "source": [
    "BATCH_SIZE = 16\n",
    "train_ds = NmrDataset(X=train_padded['X'], targets=train_padded['labels'], mask=train_padded['mask'])\n",
    "train_dl = data_utils.DataLoader(\n",
    "    dataset=train_ds,\n",
    "    batch_size=BATCH_SIZE,\n",
    "    sampler=None,\n",
    "    shuffle=True,\n",
    "    pin_memory=False,\n",
    ")\n",
    "val_ds = NmrDataset(X=val_padded['X'], targets=val_padded['labels'], mask=val_padded['mask'])\n",
    "val_dl = data_utils.DataLoader(\n",
    "    dataset=val_ds,   # Shuffle has to be set to false for test\n",
    "    batch_size=BATCH_SIZE,\n",
    "    sampler=None,\n",
    "    shuffle=False,\n",
    "    pin_memory=False,\n",
    ")\n",
    "test_ds = NmrDataset(X=test_padded['X'], targets=test_padded['labels'], mask=test_padded['mask'])\n",
    "test_dl = data_utils.DataLoader(\n",
    "    dataset=test_ds,\n",
    "    batch_size=BATCH_SIZE,\n",
    "    sampler=None,\n",
    "    shuffle=False,  # Shuffle has to be set to false for test\n",
    "    pin_memory=False,\n",
    ")\n",
    "\n",
    "batch = next(iter(train_dl))\n",
    "inputs, target, mask = batch\n",
    "print(f\"Input({inputs.dtype}): {inputs.shape}  | Target({target.dtype}): {target.shape} | Mask({mask.dtype}): {mask.shape} \")"
   ]
  },
  {
   "cell_type": "markdown",
   "id": "44b01e6c",
   "metadata": {},
   "source": [
    "## 2. Model Training Code"
   ]
  },
  {
   "cell_type": "code",
   "execution_count": 35,
   "id": "a32217bb",
   "metadata": {},
   "outputs": [],
   "source": [
    "#####################################################################################################\n",
    "# MODEL TRAINING\n",
    "#####################################################################################################\n",
    "# ------------------------------------------------------------------------------------------------\n",
    "# Metrics\n",
    "# ------------------------------------------------------------------------------------------------\n",
    "\n",
    "def corr_masked(pred, target, mask):\n",
    "    \"\"\"Computes Pearson corr by era and then averages era_corr, also returns sharpe.\n",
    "\n",
    "    The operations are differentiable and hence we can optimise for corr or sharpe.\n",
    "\n",
    "    preds:  (B, S) dtype=float32\n",
    "    target: (B, S) dtype=float32\n",
    "    mask:   (B, S) dtype=bool\n",
    "    \"\"\"\n",
    "    mask = mask.type(torch.float) # B, S\n",
    "    mask_sum = mask.sum(dim=1, keepdims=True) # B, 1\n",
    "    masked_mat = {} # k -> (B, S) or (B, S)\n",
    "    centered = {}  # k -> (B, S) or (B, S)\n",
    "    unnorm_var = {} # k -> (B, 1)\n",
    "    for k, mat in [(\"pred\", pred), (\"target\", target)]:\n",
    "        # Mean center the preds and targets\n",
    "        masked_mat[k] = mat.clone()\n",
    "        masked_mat[k][mask==0] = 0\n",
    "        era_means = masked_mat[k].sum(dim=1, keepdims=True) / mask_sum  # B, 1\n",
    "        centered[k] = (masked_mat[k] - era_means) * mask  # B, S\n",
    "        # Unnormed variance\n",
    "        unnorm_var[k] = (centered[k] ** 2).sum(dim=1, keepdims=True) # B, 1\n",
    "\n",
    "    unnorm_covar = torch.sum(centered[\"pred\"] * centered[\"target\"], dim=1, keepdims=True)  # B, 1\n",
    "    unnorm_std_prod = torch.sqrt(unnorm_var[\"pred\"] * unnorm_var[\"target\"])  # B, 1\n",
    "    erawise_corr = unnorm_covar / unnorm_std_prod\n",
    "    avg_corr = erawise_corr.mean()\n",
    "    return {\n",
    "        \"erawise_corr\": erawise_corr, # B, 1\n",
    "        \"corr\": avg_corr, # scalar\n",
    "        \"sharpe\": avg_corr / erawise_corr.std(), # scalar\n",
    "    }\n",
    "\n",
    "\n",
    "def numerai_corr_stats(eras: pd.Series, pred: pd.Series, target: pd.Series) -> float:\n",
    "    \"\"\"Computes numerai corr and sharpe. These operations are not differentiable.\n",
    "    \"\"\"\n",
    "    df = pd.concat([eras, pred, target], axis=1)\n",
    "    df.columns = [\"era\", \"pred\", \"target\"]\n",
    "    with np.errstate(divide='ignore',invalid='ignore'): \n",
    "        per_era_corr = df.groupby(\"era\").apply(lambda x: numerai_corr(x[\"pred\"], x[\"target\"]))\n",
    "    avg_corr = per_era_corr.mean()\n",
    "    return {\n",
    "        \"corr\": avg_corr, \n",
    "        \"sharpe\": avg_corr / per_era_corr.std(),\n",
    "    }\n",
    "\n",
    "def numerai_corr(preds, target):\n",
    "    \"\"\"Numerai corr metric, lifted straight Hello Numerai tutorial notebook.\"\"\"\n",
    "    # rank (keeping ties) then gaussianize predictions to standardize prediction distributions\n",
    "    ranked_preds = (preds.rank(method=\"average\").values - 0.5) / preds.count()\n",
    "    gauss_ranked_preds = stats.norm.ppf(ranked_preds)\n",
    "    # center targets around 0\n",
    "    centered_target = target - target.mean()\n",
    "    # raise both preds and target to the power of 1.5 to accentuate the tails\n",
    "    preds_p15 = np.sign(gauss_ranked_preds) * np.abs(gauss_ranked_preds) ** 1.5\n",
    "    target_p15 = np.sign(centered_target) * np.abs(centered_target) ** 1.5\n",
    "    # finally return the Pearson correlation\n",
    "    return np.corrcoef(preds_p15, target_p15)[0, 1]\n",
    "\n",
    "# ------------------------------------------------------------------------------------------------\n",
    "# Training loop\n",
    "# ------------------------------------------------------------------------------------------------\n",
    "@dataclass(frozen=True, order=True)\n",
    "class BestModel:\n",
    "    \"\"\"Keeps track of the best model on val set during training.\n",
    "\n",
    "    As training progresses train metrics will improve but val set can go\n",
    "    down due to overfitting. This allows for early stopping or at least\n",
    "    keeping track of the best model during training.\n",
    "    \"\"\"\n",
    "    metric: float = -float('inf')\n",
    "    model: Optional[nn.Module] = None\n",
    "    epoch: Optional[int] = None\n",
    "\n",
    "\n",
    "class MetricsSequence:\n",
    "    \"\"\"Datastructure that holds {'metric_name': [metric_value]}.\n",
    "\n",
    "    These are updated during training. Each element in the list of\n",
    "    metric values could be the average of a single training batch or\n",
    "    an entire epoch.\n",
    "    \"\"\"\n",
    "\n",
    "    def __init__(self):\n",
    "        self.m2seq: Dict[str, List[float]] = defaultdict(list)\n",
    "\n",
    "    def append(self, metric_dict: Dict[str, float]) -> None:\n",
    "        # Mutates\n",
    "        for k, v in metric_dict.items():\n",
    "            self.m2seq[k].append(v)\n",
    "\n",
    "    def mean(self) -> Dict[str, float]:\n",
    "        return {\n",
    "            # nanmean because sharpe can be nan when only one batch era element exists\n",
    "            metric: np.nanmean(value_list)\n",
    "            for metric, value_list in self.m2seq.items()\n",
    "        }\n",
    "\n",
    "    @property\n",
    "    def num_epochs(self) -> int:\n",
    "        if not self.m2seq:\n",
    "            return 0\n",
    "        else:\n",
    "            m = next(iter(self.m2seq))\n",
    "            return len(self.m2seq[m])\n",
    "\n",
    "    def __repr__(self):\n",
    "        return ' '.join(f\"{m}: {round(v,4)}\" for m, v in sorted(self.mean().items()))\n",
    "\n",
    "    @staticmethod\n",
    "    def plot(mseq: 'MetricsSequence', title='', rolling_avg=True) -> None:\n",
    "        m2seq = mseq.m2seq\n",
    "        num_metrics = len(m2seq)\n",
    "        _, axes = plt.subplots(1, num_metrics, figsize=(20,4))\n",
    "        for m, ax in zip(m2seq, axes.flat):\n",
    "            if rolling_avg:\n",
    "                _plot_roll_avg_w_ebars(m2seq[m], ax=ax)\n",
    "            else:\n",
    "                ax.plot(m2seq[m], marker='o', linestyle='dashed', linewidth=2)\n",
    "            ax.set_title(m)\n",
    "            ax.set_xlabel(\"Epoch/batch\")\n",
    "        plt.suptitle(title, fontsize=18)\n",
    "        plt.tight_layout()\n",
    "        plt.show()\n",
    "\n",
    "    @staticmethod\n",
    "    def tabular(mseq: 'MetricsSequence') -> None:\n",
    "        return pd.DataFrame(mseq.m2seq)\n",
    "\n",
    "\n",
    "def _plot_roll_avg_w_ebars(data, ax, window_size=10, color='b', alpha=0.3):\n",
    "    \"\"\"Plots rolling average of data, taken from ChatGPT.\"\"\"\n",
    "    rolling_avg = np.convolve(data, np.ones(window_size) / window_size, mode='valid')\n",
    "    std_dev = np.std([data[i:i + window_size] for i in range(len(data) - window_size + 1)], axis=1)\n",
    "    ax.plot(range(window_size - 1, len(data)), rolling_avg, f'{color}-', label='Rolling Average')\n",
    "    ax.fill_between(\n",
    "        range(window_size - 1, len(data)),\n",
    "        rolling_avg - std_dev,\n",
    "        rolling_avg + std_dev,\n",
    "        color=color,\n",
    "        alpha=alpha,\n",
    "        label='Error Bars',\n",
    "    )\n",
    "\n",
    "\n",
    "def calculate_metrics(outputs, target, mask):\n",
    "    \"\"\"Calculates metrics and losses during training. Used to take grad in backprop.\"\"\"\n",
    "    corr_metrics = corr_masked(pred=outputs, target=target, mask=mask)\n",
    "    return {\n",
    "        \"mse\": F.mse_loss(\n",
    "            # preds: dim (S_0+S_1...+S_B, F), that is 2d matrix where the first dimension is\n",
    "            # a concatenation of all the (era, stock) which were not padded\n",
    "            outputs[mask],\n",
    "            # preds: dim (S_0+S_1...+S_B, L), where L is the number of True target\n",
    "            target[mask],\n",
    "        ),\n",
    "        \"corr\":   corr_metrics[\"corr\"],\n",
    "        \"sharpe\": corr_metrics[\"sharpe\"],\n",
    "    }\n",
    "    \n",
    "\n",
    "def train_on_batch(model, optimizer, batch, criterion: str, criterion_dirn: str):\n",
    "    was_in_eval = not model.training\n",
    "    model.train()\n",
    "    inputs, target, mask = batch\n",
    "    optimizer.zero_grad()\n",
    "    outputs = model(inputs, mask)\n",
    "    metrics = calculate_metrics(outputs=outputs, target=target, mask=mask)\n",
    "    loss_dirn_mult = {\"lower\": 1, \"higher\": -1}[criterion_dirn]\n",
    "    (loss_dirn_mult * metrics[criterion]).backward()\n",
    "    optimizer.step()\n",
    "    if was_in_eval:\n",
    "        # leave the model in the same state it came in\n",
    "        model.eval()\n",
    "    return _pluck_item( metrics)\n",
    "\n",
    "\n",
    "def _pluck_item(d: Dict[str, torch.Tensor]) -> Dict[str, float]:\n",
    "    return {k: v.item() for k, v in d.items()}\n",
    "\n",
    "\n",
    "@torch.no_grad()\n",
    "def evaluate_on_batch(model, batch):\n",
    "    was_in_train = model.training\n",
    "    model.eval()\n",
    "    inputs, target, mask = batch\n",
    "    outputs = model(inputs, mask)\n",
    "    metrics = calculate_metrics(outputs=outputs, target=target, mask=mask)\n",
    "    if was_in_train:\n",
    "        # leave the model in the same state it came in\n",
    "        model.train()\n",
    "    return _pluck_item(metrics)\n",
    "\n",
    "\n",
    "def train_model(\n",
    "    model,\n",
    "    optimizer,\n",
    "    train_dl,\n",
    "    val_dl,\n",
    "    num_epochs,\n",
    "    # These two keep track of train and eval metrics. These are passed in so\n",
    "    # that this function can be called repeatedly\n",
    "    criterion: str, model_path: str,\n",
    "    criterion_dirn: str,  # \"lower\" or \"higher\"\n",
    "    # {\"best_val_model\": , \"train_metrics\": , \"val_metrics\": }\n",
    "    train_state: Dict[str, Any], \n",
    "    save_every_epoch: int = 50,\n",
    "):\n",
    "    \"\"\"The main training loop. Entrypoint for model training.\n",
    "    \n",
    "    :param train_state: This is passed in and returned by the training function.\n",
    "        We might want to train for a few epochs inspect the model and then continue\n",
    "        training. In those scenarios, this dict, keeps track of training state.\n",
    "    \"\"\"\n",
    "    best_model = train_state[\"best_val_model\"]\n",
    "    for epoch in (pbar:= tqdm(range(num_epochs),  desc=\"Epoch\")):\n",
    "        # Training\n",
    "        # --------\n",
    "        model.train()\n",
    "        ep_trn_metrics = MetricsSequence()\n",
    "        for batch in tqdm(train_dl, desc=\"Train batch\", leave=False):\n",
    "            ep_trn_metrics.append(\n",
    "                train_on_batch(\n",
    "                    model,\n",
    "                    optimizer,\n",
    "                    batch,\n",
    "                    criterion=criterion,\n",
    "                    criterion_dirn=criterion_dirn,\n",
    "                )\n",
    "            )\n",
    "        train_state[\"train_metrics\"].append(ep_trn_metrics.mean())\n",
    "        # Evaluation\n",
    "        # ----------\n",
    "        model.eval()\n",
    "        ep_val_metrics = MetricsSequence()\n",
    "        for batch in tqdm(val_dl, desc=\"Eval batch\", leave=False):\n",
    "            ep_val_metrics.append(evaluate_on_batch(model, batch))\n",
    "        avg_val_metrics = ep_val_metrics.mean()\n",
    "        train_state[\"val_metrics\"].append(avg_val_metrics)\n",
    "        # Bookkeeping and cleanup\n",
    "        # -----------------------\n",
    "        if avg_val_metrics[\"corr\"] > best_model.metric:\n",
    "            best_model = BestModel(\n",
    "                metric=avg_val_metrics[\"corr\"],\n",
    "                model=copy.deepcopy(model),\n",
    "                epoch=train_state[\"train_metrics\"].num_epochs,\n",
    "            )\n",
    "        pbar.set_description(\n",
    "            f\"Epoch \\n [Train] {ep_trn_metrics} \\n\"\n",
    "            f\"[Val] {ep_val_metrics}\"\n",
    "        )\n",
    "        torch.cuda.empty_cache()\n",
    "        gc.collect()\n",
    "        if model_path and epoch % save_every_epoch == 0:\n",
    "            torch.save(model.state_dict(), model_path)\n",
    "    return {\n",
    "        \"best_val_model\": best_model,\n",
    "        \"train_metrics\": train_state[\"train_metrics\"],\n",
    "        \"val_metrics\": train_state[\"val_metrics\"],\n",
    "    }\n",
    "\n",
    "\n",
    "# ------------------------------------------------------------------------------------------------\n",
    "# Predict test-set for validation diagnostics at https://numer.ai/scores\n",
    "# ------------------------------------------------------------------------------------------------\n",
    "def build_val_submission(model, test_df, test_dl) -> pd.DataFrame:\n",
    "    preds = predict_dl(model=model, dl=test_dl).cpu().detach().numpy()\n",
    "    df = pd.Series(\n",
    "        predict_dl(model=model, dl=test_dl).cpu().detach().numpy(),\n",
    "        index=test_df.index,\n",
    "    ).reset_index()\n",
    "    df.columns = [\"id\", \"prediction\"]\n",
    "    # Print stats\n",
    "    print(f\"{test_df.shape=}, {preds.shape=}\")\n",
    "    corr = numerai_corr_stats(\n",
    "        eras=test_df.era,\n",
    "        pred=df.set_index('id'),\n",
    "        target=test_df.target_cyrus_v4_20,\n",
    "    )\n",
    "    print(f\"Corr: {corr}\")\n",
    "    return df\n",
    "\n",
    "\n",
    "@torch.no_grad()\n",
    "def predict_dl(model, dl):\n",
    "    # (E*S) x 1 where (E*S) includes all era x stock pair in input data \n",
    "    return torch.concat(\n",
    "        [\n",
    "            predict_batch(model=model, batch=batch)\n",
    "            for batch in tqdm(dl, leave=False, desc=\"Batches\")\n",
    "        ],\n",
    "        dim=0,\n",
    "    )\n",
    "\n",
    "@torch.no_grad()\n",
    "def predict_batch(model, batch):\n",
    "    was_in_train = model.training\n",
    "    model.eval()\n",
    "    inputs, target, mask = batch\n",
    "    preds = model(inputs, mask)\n",
    "    if was_in_train:\n",
    "        # leave the model in the same state it came in\n",
    "        model.train()\n",
    "    return preds[mask]  # (B*S'); S' only includes unpadded stocks\n",
    "\n",
    "\n",
    "def summarise_model_perf(model, train_state, test_df, test_dl, model_name=\"\"):\n",
    "    display(train_state)\n",
    "    MetricsSequence.plot(train_state[\"train_metrics\"], title=f\"[Train] {model_name} model\")\n",
    "    MetricsSequence.plot(train_state[\"val_metrics\"], title=f\"[Val] {model_name} model\")\n",
    "    display(MetricsSequence.tabular(train_state[\"val_metrics\"]).tail(4))\n",
    "    print(\"\\nFinal model on test set\\n-----------------------\")\n",
    "    # prints metrics on test set by the final model from training\n",
    "    build_val_submission(model=model, test_df=test_df, test_dl=test_dl)\n",
    "    print(\"\\nBest val model on test set\\n--------------------------\")\n",
    "    # prints metrics on test set by model that had best perf on val set during training\n",
    "    build_val_submission(model=train_state[\"best_val_model\"].model, test_df=test_df, test_dl=test_dl)\n",
    "    gc.collect()"
   ]
  },
  {
   "cell_type": "markdown",
   "id": "21bd4297",
   "metadata": {},
   "source": [
    "## 3. Baseline Models"
   ]
  },
  {
   "cell_type": "code",
   "execution_count": 23,
   "id": "3ad8762a",
   "metadata": {},
   "outputs": [],
   "source": [
    "#####################################################################################################\n",
    "# BASELINE MODELS\n",
    "#####################################################################################################"
   ]
  },
  {
   "cell_type": "code",
   "execution_count": 14,
   "id": "f85dc75e",
   "metadata": {},
   "outputs": [
    {
     "name": "stdout",
     "output_type": "stream",
     "text": [
      "[LightGBM] [Warning] Auto-choosing row-wise multi-threading, the overhead of testing was 0.083205 seconds.\n",
      "You can set `force_row_wise=true` to remove the overhead.\n",
      "And if memory is not enough, you can set `force_col_wise=true`.\n",
      "[LightGBM] [Info] Total Bins 7930\n",
      "[LightGBM] [Info] Number of data points in the train set: 1625257, number of used features: 1586\n",
      "[LightGBM] [Info] Start training from score 0.500027\n",
      "[LightGBM] [Warning] No further splits with positive gain, best gain: -inf\n",
      "[LightGBM] [Warning] No further splits with positive gain, best gain: -inf\n",
      "[LightGBM] [Warning] No further splits with positive gain, best gain: -inf\n",
      "[LightGBM] [Warning] No further splits with positive gain, best gain: -inf\n",
      "[LightGBM] [Warning] No further splits with positive gain, best gain: -inf\n"
     ]
    },
    {
     "data": {
      "text/plain": [
       "LGBMRegressor(boosting_type='gbdt', class_weight=None, colsample_bytree=0.1,\n",
       "              importance_type='split', learning_rate=0.01, max_depth=5,\n",
       "              min_child_samples=20, min_child_weight=0.001, min_split_gain=0.0,\n",
       "              n_estimators=2000, n_jobs=None, num_leaves=32, objective=None,\n",
       "              random_state=None, reg_alpha=0.0, reg_lambda=0.0, subsample=1.0,\n",
       "              subsample_for_bin=200000, subsample_freq=0)"
      ]
     },
     "execution_count": 14,
     "metadata": {},
     "output_type": "execute_result"
    }
   ],
   "source": [
    "# ------------------------------------------------------------------------------------------------\n",
    "# BASELINE: LGBM (Very strong baseline)\n",
    "# ------------------------------------------------------------------------------------------------\n",
    "params = {\"n_estimators\": 2000,\n",
    "          \"learning_rate\": 0.01,\n",
    "          \"max_depth\": 5,\n",
    "          \"num_leaves\": 2 ** 5,\n",
    "          \"colsample_bytree\": 0.1}\n",
    "lgreg = lgb.LGBMRegressor(**params)\n",
    "lgreg.fit(train_df.filter(like='feature_', axis='columns').astype(np.int8),\n",
    "          train_df[TARGET_COL].astype(np.float32))"
   ]
  },
  {
   "cell_type": "code",
   "execution_count": 74,
   "id": "17994b2d",
   "metadata": {},
   "outputs": [],
   "source": [
    "test_fts_df = test_df.filter(like='feature_', axis='columns').astype(np.int8)"
   ]
  },
  {
   "cell_type": "code",
   "execution_count": 75,
   "id": "f3a1070c",
   "metadata": {},
   "outputs": [
    {
     "data": {
      "text/plain": [
       "id\n",
       "n000101811a8a843    0.500662\n",
       "n001e1318d5072ac    0.501137\n",
       "n002a9c5ab785cbb    0.495660\n",
       "n002ccf6d0e8c5ad    0.526975\n",
       "n0051ab821295c29    0.485180\n",
       "                      ...   \n",
       "nff9694d7c110513    0.495540\n",
       "nffa11825d8ce071    0.510135\n",
       "nffa4d6e827c1ebb    0.482017\n",
       "nffbcd77e22f2aa4    0.521490\n",
       "nffde5e63a0ea6ca    0.486159\n",
       "Length: 2546387, dtype: float64"
      ]
     },
     "execution_count": 75,
     "metadata": {},
     "output_type": "execute_result"
    }
   ],
   "source": [
    "lgb_pred = pd.Series(\n",
    "    lgreg.predict(test_fts_df),\n",
    "    index=test_df.index,\n",
    ")\n",
    "lgb_pred"
   ]
  },
  {
   "cell_type": "code",
   "execution_count": 67,
   "id": "70342d5c",
   "metadata": {},
   "outputs": [
    {
     "data": {
      "text/plain": [
       "<lightgbm.basic.Booster at 0x7f25e29d6070>"
      ]
     },
     "execution_count": 67,
     "metadata": {},
     "output_type": "execute_result"
    }
   ],
   "source": [
    "lgreg.booster_.save_model(filename=\"lgb.txt\")\n",
    "# lgreg2 = lgb.Booster(model_file='lgb.txt')"
   ]
  },
  {
   "cell_type": "code",
   "execution_count": 76,
   "id": "7af57522",
   "metadata": {},
   "outputs": [
    {
     "data": {
      "text/plain": [
       "{'corr': 0.022616696147758773, 'sharpe': 1.0428046673686329}"
      ]
     },
     "execution_count": 76,
     "metadata": {},
     "output_type": "execute_result"
    }
   ],
   "source": [
    "numerai_corr_stats(\n",
    "    eras=test_df.era,\n",
    "    pred=lgb_pred,\n",
    "    target=test_df[TARGET_COL],\n",
    ")"
   ]
  },
  {
   "cell_type": "code",
   "execution_count": null,
   "id": "cc79f72a",
   "metadata": {},
   "outputs": [],
   "source": [
    "del train_df, val_df\n",
    "gc.collect()"
   ]
  },
  {
   "cell_type": "code",
   "execution_count": 24,
   "id": "8be985d4",
   "metadata": {},
   "outputs": [
    {
     "name": "stdout",
     "output_type": "stream",
     "text": [
      "out.shape=torch.Size([32, 6000])\n"
     ]
    },
    {
     "data": {
      "image/png": "[encoded data removed]",
      "text/plain": [
       "<Figure size 432x288 with 1 Axes>"
      ]
     },
     "metadata": {
      "needs_background": "light"
     },
     "output_type": "display_data"
    }
   ],
   "source": [
    "# ------------------------------------------------------------------------------------------------\n",
    "# BASELINE: LINEAR MODEL\n",
    "# ------------------------------------------------------------------------------------------------\n",
    "\n",
    "@dataclass(eq=False)\n",
    "class LinearModel(nn.Module):\n",
    "    n_feats: int = N_FEATURES\n",
    "\n",
    "    def __post_init__(self):\n",
    "        super().__init__()\n",
    "        self.fc = nn.Sequential(nn.Linear(self.n_feats, 1), nn.Sigmoid())\n",
    "\n",
    "    def forward(self, X, mask):\n",
    "        B, S, F = X.shape\n",
    "        out = self.fc(X)  # B, S, 1\n",
    "        assert tuple(out.shape) == (B, S, 1)\n",
    "        return out[:,:,0]\n",
    "\n",
    "\n",
    "# Build a linear model and show the prediction distribution\n",
    "# ---------------------------------------------------------\n",
    "lm = LinearModel().to(DEVICE)\n",
    "input_, lbls, mask = next(iter(train_dl))\n",
    "out = lm(input_, mask)\n",
    "print(f\"{out.shape=}\")\n",
    "preds = torch.squeeze(out[0]).cpu().detach().numpy()\n",
    "# When era has fewer than 6k stocks, we pad those with -1 and predict\n",
    "# a constant value for all those padded stocks. That's the spike below.\n",
    "pd.Series(preds).hist();"
   ]
  },
  {
   "cell_type": "code",
   "execution_count": 25,
   "id": "888a8109",
   "metadata": {},
   "outputs": [],
   "source": [
    "# Train the linear model and see performance\n",
    "# {metric -> [val_batch_1, val_batch_2...]}\n",
    "\n",
    "# Predefine these if we want to run `train_model` multiple times\n",
    "lm = LinearModel().to(DEVICE)\n",
    "lm_train_state = {\n",
    "    \"best_val_model\": BestModel(),\n",
    "    \"train_metrics\": MetricsSequence(),\n",
    "    \"val_metrics\": MetricsSequence(),\n",
    "}"
   ]
  },
  {
   "cell_type": "code",
   "execution_count": 37,
   "id": "11d88165",
   "metadata": {},
   "outputs": [
    {
     "data": {
      "application/vnd.jupyter.widget-view+json": {
       "model_id": "0caf52c301744858ab112e8b4acde4d8",
       "version_major": 2,
       "version_minor": 0
      },
      "text/plain": [
       "Epoch:   0%|          | 0/1 [00:00<?, ?it/s]"
      ]
     },
     "metadata": {},
     "output_type": "display_data"
    },
    {
     "data": {
      "application/vnd.jupyter.widget-view+json": {
       "model_id": "",
       "version_major": 2,
       "version_minor": 0
      },
      "text/plain": [
       "Train batch:   0%|          | 0/13 [00:00<?, ?it/s]"
      ]
     },
     "metadata": {},
     "output_type": "display_data"
    },
    {
     "data": {
      "application/vnd.jupyter.widget-view+json": {
       "model_id": "",
       "version_major": 2,
       "version_minor": 0
      },
      "text/plain": [
       "Eval batch:   0%|          | 0/6 [00:00<?, ?it/s]"
      ]
     },
     "metadata": {},
     "output_type": "display_data"
    }
   ],
   "source": [
    "lm_train_state = train_model(\n",
    "    model=lm,\n",
    "    optimizer=optim.AdamW(lm.parameters(), lr=3e-4),\n",
    "    train_dl=train_dl,\n",
    "    val_dl=val_dl,\n",
    "    num_epochs=1,\n",
    "    criterion='corr',\n",
    "    criterion_dirn='higher',\n",
    "    model_path='./nn_models/linear.pkl',\n",
    "    train_state=lm_train_state,\n",
    ")"
   ]
  },
  {
   "cell_type": "code",
   "execution_count": 38,
   "id": "1b510cbd",
   "metadata": {
    "scrolled": false
   },
   "outputs": [
    {
     "data": {
      "text/plain": [
       "{'best_val_model': BestModel(metric=0.027460987058778603, model=LinearModel(n_feats=1586), epoch=30),\n",
       " 'train_metrics': corr: 0.0573 mse: 0.0522 sharpe: 2.5687,\n",
       " 'val_metrics': corr: 0.0272 mse: 0.0527 sharpe: 2.3157}"
      ]
     },
     "metadata": {},
     "output_type": "display_data"
    },
    {
     "data": {
      "image/png": "[encoded data removed]",
      "text/plain": [
       "<Figure size 1440x288 with 3 Axes>"
      ]
     },
     "metadata": {
      "needs_background": "light"
     },
     "output_type": "display_data"
    },
    {
     "data": {
      "image/png": "[encoded data removed]",
      "text/plain": [
       "<Figure size 1440x288 with 3 Axes>"
      ]
     },
     "metadata": {
      "needs_background": "light"
     },
     "output_type": "display_data"
    },
    {
     "data": {
      "text/html": [
       "<div>\n",
       "<style scoped>\n",
       "    .dataframe tbody tr th:only-of-type {\n",
       "        vertical-align: middle;\n",
       "    }\n",
       "\n",
       "    .dataframe tbody tr th {\n",
       "        vertical-align: top;\n",
       "    }\n",
       "\n",
       "    .dataframe thead th {\n",
       "        text-align: right;\n",
       "    }\n",
       "</style>\n",
       "<table border=\"1\" class=\"dataframe\">\n",
       "  <thead>\n",
       "    <tr style=\"text-align: right;\">\n",
       "      <th></th>\n",
       "      <th>mse</th>\n",
       "      <th>corr</th>\n",
       "      <th>sharpe</th>\n",
       "    </tr>\n",
       "  </thead>\n",
       "  <tbody>\n",
       "    <tr>\n",
       "      <th>26</th>\n",
       "      <td>0.051844</td>\n",
       "      <td>0.027580</td>\n",
       "      <td>2.077177</td>\n",
       "    </tr>\n",
       "    <tr>\n",
       "      <th>27</th>\n",
       "      <td>0.052713</td>\n",
       "      <td>0.026970</td>\n",
       "      <td>2.104377</td>\n",
       "    </tr>\n",
       "    <tr>\n",
       "      <th>28</th>\n",
       "      <td>0.052368</td>\n",
       "      <td>0.027045</td>\n",
       "      <td>2.044086</td>\n",
       "    </tr>\n",
       "    <tr>\n",
       "      <th>29</th>\n",
       "      <td>0.051547</td>\n",
       "      <td>0.027461</td>\n",
       "      <td>2.096957</td>\n",
       "    </tr>\n",
       "  </tbody>\n",
       "</table>\n",
       "</div>"
      ],
      "text/plain": [
       "         mse      corr    sharpe\n",
       "26  0.051844  0.027580  2.077177\n",
       "27  0.052713  0.026970  2.104377\n",
       "28  0.052368  0.027045  2.044086\n",
       "29  0.051547  0.027461  2.096957"
      ]
     },
     "metadata": {},
     "output_type": "display_data"
    },
    {
     "name": "stdout",
     "output_type": "stream",
     "text": [
      "\n",
      "Final model on test set\n",
      "-----------------------\n"
     ]
    },
    {
     "data": {
      "application/vnd.jupyter.widget-view+json": {
       "model_id": "",
       "version_major": 2,
       "version_minor": 0
      },
      "text/plain": [
       "Batches:   0%|          | 0/16 [00:00<?, ?it/s]"
      ]
     },
     "metadata": {},
     "output_type": "display_data"
    },
    {
     "data": {
      "application/vnd.jupyter.widget-view+json": {
       "model_id": "",
       "version_major": 2,
       "version_minor": 0
      },
      "text/plain": [
       "Batches:   0%|          | 0/16 [00:00<?, ?it/s]"
      ]
     },
     "metadata": {},
     "output_type": "display_data"
    },
    {
     "name": "stdout",
     "output_type": "stream",
     "text": [
      "test_df.shape=(2546387, 1590), preds.shape=(2546387,)\n",
      "Corr: {'corr': 0.01154524683606878, 'sharpe': 0.5898105473737426}\n",
      "\n",
      "Best val model on test set\n",
      "--------------------------\n"
     ]
    },
    {
     "data": {
      "application/vnd.jupyter.widget-view+json": {
       "model_id": "",
       "version_major": 2,
       "version_minor": 0
      },
      "text/plain": [
       "Batches:   0%|          | 0/16 [00:00<?, ?it/s]"
      ]
     },
     "metadata": {},
     "output_type": "display_data"
    },
    {
     "data": {
      "application/vnd.jupyter.widget-view+json": {
       "model_id": "",
       "version_major": 2,
       "version_minor": 0
      },
      "text/plain": [
       "Batches:   0%|          | 0/16 [00:00<?, ?it/s]"
      ]
     },
     "metadata": {},
     "output_type": "display_data"
    },
    {
     "name": "stdout",
     "output_type": "stream",
     "text": [
      "test_df.shape=(2546387, 1590), preds.shape=(2546387,)\n",
      "Corr: {'corr': 0.01154524683606878, 'sharpe': 0.5898105473737426}\n"
     ]
    }
   ],
   "source": [
    "summarise_model_perf(\n",
    "    model=lm,\n",
    "    train_state=lm_train_state,\n",
    "    test_df=test_df,\n",
    "    test_dl=test_dl,\n",
    "    model_name=\"Linear Model\",\n",
    ")"
   ]
  },
  {
   "cell_type": "code",
   "execution_count": 39,
   "id": "d8ed83a4",
   "metadata": {},
   "outputs": [
    {
     "data": {
      "application/vnd.jupyter.widget-view+json": {
       "model_id": "",
       "version_major": 2,
       "version_minor": 0
      },
      "text/plain": [
       "Batches:   0%|          | 0/16 [00:00<?, ?it/s]"
      ]
     },
     "metadata": {},
     "output_type": "display_data"
    },
    {
     "data": {
      "application/vnd.jupyter.widget-view+json": {
       "model_id": "",
       "version_major": 2,
       "version_minor": 0
      },
      "text/plain": [
       "Batches:   0%|          | 0/16 [00:00<?, ?it/s]"
      ]
     },
     "metadata": {},
     "output_type": "display_data"
    },
    {
     "name": "stdout",
     "output_type": "stream",
     "text": [
      "test_df.shape=(2546387, 1590), preds.shape=(2546387,)\n",
      "Corr: {'corr': 0.01154524683606878, 'sharpe': 0.5898105473737426}\n"
     ]
    }
   ],
   "source": [
    "# These are the validation metrics. As we can see a simple linear model is a lot weaker\n",
    "# than an lgbm model.\n",
    "lm_pred_df = build_val_submission(model=lm, test_df=test_df, test_dl=test_dl)\n",
    "# We can upload this csv file to numer.ai/scores Diagnostics modal for more metrics\n",
    "# lm_pred_df.to_csv(\"./nn_models/linear_preds.csv\", index=False)"
   ]
  },
  {
   "cell_type": "code",
   "execution_count": 62,
   "id": "d0c4d910",
   "metadata": {},
   "outputs": [],
   "source": [
    "torch.save(lm.state_dict(), \"./lm.pt\")"
   ]
  },
  {
   "cell_type": "markdown",
   "id": "a8bda8a3",
   "metadata": {},
   "source": [
    "## 4. More complex Models\n",
    "### 4.1 FC 2 and 3 layer models"
   ]
  },
  {
   "cell_type": "code",
   "execution_count": 40,
   "id": "055b7f34",
   "metadata": {},
   "outputs": [],
   "source": [
    "#####################################################################################################\n",
    "# COMPLEX MODELS\n",
    "#####################################################################################################\n",
    "\n",
    "# ------------------------------------------------------------------------------------------------\n",
    "# FC - 2 LAYERS\n",
    "# -------------\n",
    "#\n",
    "# Takeaway: Significantly better than a linear model but worse than xgb\n",
    "# ------------------------------------------------------------------------------------------------\n",
    "class ResidualConn(nn.Module):\n",
    "\n",
    "    mod: nn.Module\n",
    "\n",
    "    def __init__(self, module):\n",
    "        super().__init__()\n",
    "        self.module = module\n",
    "\n",
    "    def forward(self, x):\n",
    "        return self.module(x) + x\n",
    "\n",
    "\n",
    "@dataclass(eq=False)\n",
    "class FC(nn.Module):\n",
    "    n_feats: int = N_FEATURES\n",
    "    n_hidden: int = 32\n",
    "    n_hidden_layers: int = 1\n",
    "\n",
    "    def __post_init__(self):\n",
    "        super().__init__()\n",
    "        self.fc = nn.Sequential(\n",
    "            nn.Linear(self.n_feats, self.n_hidden),\n",
    "            nn.GELU(),\n",
    "            nn.Dropout(p=0.1),\n",
    "            *[\n",
    "                ResidualConn(\n",
    "                    module=nn.Sequential(\n",
    "                        nn.Linear(self.n_hidden, self.n_hidden),\n",
    "                        nn.GELU(),\n",
    "                        nn.Dropout(p=0.1),\n",
    "                    ),\n",
    "                )\n",
    "                for _ in range(self.n_hidden_layers)\n",
    "            ],\n",
    "            nn.Linear(self.n_hidden, 1),\n",
    "            nn.Sigmoid(),\n",
    "        )\n",
    "\n",
    "    def forward(self, X, mask):\n",
    "        B, S, F = X.shape\n",
    "        out = self.fc(X)  # B, S, 1\n",
    "        assert tuple(out.shape) == (B, S, 1)\n",
    "        return out[:,:,0]\n",
    "\n",
    "    def __repr__(self):\n",
    "        return str(self.fc)"
   ]
  },
  {
   "cell_type": "code",
   "execution_count": 41,
   "id": "e589b54c",
   "metadata": {},
   "outputs": [
    {
     "name": "stdout",
     "output_type": "stream",
     "text": [
      "Sequential(\n",
      "  (0): Linear(in_features=1586, out_features=32, bias=True)\n",
      "  (1): GELU(approximate='none')\n",
      "  (2): Dropout(p=0.1, inplace=False)\n",
      "  (3): ResidualConn(\n",
      "    (module): Sequential(\n",
      "      (0): Linear(in_features=32, out_features=32, bias=True)\n",
      "      (1): GELU(approximate='none')\n",
      "      (2): Dropout(p=0.1, inplace=False)\n",
      "    )\n",
      "  )\n",
      "  (4): Linear(in_features=32, out_features=1, bias=True)\n",
      "  (5): Sigmoid()\n",
      ")\n"
     ]
    }
   ],
   "source": [
    "# --------------------------\n",
    "# Fully connected 2 layer NN\n",
    "# --------------------------\n",
    "fc1hl = FC(n_hidden_layers=1).to(DEVICE)\n",
    "print(fc1hl)\n",
    "fc1hl_train_state = {\n",
    "    \"best_val_model\": BestModel(),\n",
    "    \"train_metrics\": MetricsSequence(),\n",
    "    \"val_metrics\": MetricsSequence(),\n",
    "}"
   ]
  },
  {
   "cell_type": "code",
   "execution_count": null,
   "id": "516b5bdf",
   "metadata": {},
   "outputs": [
    {
     "data": {
      "application/vnd.jupyter.widget-view+json": {
       "model_id": "885019ca66b649f29acdf361b496ed2c",
       "version_major": 2,
       "version_minor": 0
      },
      "text/plain": [
       "Epoch:   0%|          | 0/30 [00:00<?, ?it/s]"
      ]
     },
     "metadata": {},
     "output_type": "display_data"
    },
    {
     "data": {
      "application/vnd.jupyter.widget-view+json": {
       "model_id": "",
       "version_major": 2,
       "version_minor": 0
      },
      "text/plain": [
       "Train batch:   0%|          | 0/26 [00:00<?, ?it/s]"
      ]
     },
     "metadata": {},
     "output_type": "display_data"
    },
    {
     "data": {
      "application/vnd.jupyter.widget-view+json": {
       "model_id": "",
       "version_major": 2,
       "version_minor": 0
      },
      "text/plain": [
       "Eval batch:   0%|          | 0/11 [00:00<?, ?it/s]"
      ]
     },
     "metadata": {},
     "output_type": "display_data"
    },
    {
     "data": {
      "application/vnd.jupyter.widget-view+json": {
       "model_id": "",
       "version_major": 2,
       "version_minor": 0
      },
      "text/plain": [
       "Train batch:   0%|          | 0/26 [00:00<?, ?it/s]"
      ]
     },
     "metadata": {},
     "output_type": "display_data"
    },
    {
     "data": {
      "application/vnd.jupyter.widget-view+json": {
       "model_id": "",
       "version_major": 2,
       "version_minor": 0
      },
      "text/plain": [
       "Eval batch:   0%|          | 0/11 [00:00<?, ?it/s]"
      ]
     },
     "metadata": {},
     "output_type": "display_data"
    },
    {
     "data": {
      "application/vnd.jupyter.widget-view+json": {
       "model_id": "",
       "version_major": 2,
       "version_minor": 0
      },
      "text/plain": [
       "Train batch:   0%|          | 0/26 [00:00<?, ?it/s]"
      ]
     },
     "metadata": {},
     "output_type": "display_data"
    },
    {
     "data": {
      "application/vnd.jupyter.widget-view+json": {
       "model_id": "",
       "version_major": 2,
       "version_minor": 0
      },
      "text/plain": [
       "Eval batch:   0%|          | 0/11 [00:00<?, ?it/s]"
      ]
     },
     "metadata": {},
     "output_type": "display_data"
    },
    {
     "data": {
      "application/vnd.jupyter.widget-view+json": {
       "model_id": "",
       "version_major": 2,
       "version_minor": 0
      },
      "text/plain": [
       "Train batch:   0%|          | 0/26 [00:00<?, ?it/s]"
      ]
     },
     "metadata": {},
     "output_type": "display_data"
    },
    {
     "data": {
      "application/vnd.jupyter.widget-view+json": {
       "model_id": "",
       "version_major": 2,
       "version_minor": 0
      },
      "text/plain": [
       "Eval batch:   0%|          | 0/11 [00:00<?, ?it/s]"
      ]
     },
     "metadata": {},
     "output_type": "display_data"
    },
    {
     "data": {
      "application/vnd.jupyter.widget-view+json": {
       "model_id": "",
       "version_major": 2,
       "version_minor": 0
      },
      "text/plain": [
       "Train batch:   0%|          | 0/26 [00:00<?, ?it/s]"
      ]
     },
     "metadata": {},
     "output_type": "display_data"
    },
    {
     "data": {
      "application/vnd.jupyter.widget-view+json": {
       "model_id": "",
       "version_major": 2,
       "version_minor": 0
      },
      "text/plain": [
       "Eval batch:   0%|          | 0/11 [00:00<?, ?it/s]"
      ]
     },
     "metadata": {},
     "output_type": "display_data"
    },
    {
     "data": {
      "application/vnd.jupyter.widget-view+json": {
       "model_id": "",
       "version_major": 2,
       "version_minor": 0
      },
      "text/plain": [
       "Train batch:   0%|          | 0/26 [00:00<?, ?it/s]"
      ]
     },
     "metadata": {},
     "output_type": "display_data"
    },
    {
     "data": {
      "application/vnd.jupyter.widget-view+json": {
       "model_id": "",
       "version_major": 2,
       "version_minor": 0
      },
      "text/plain": [
       "Eval batch:   0%|          | 0/11 [00:00<?, ?it/s]"
      ]
     },
     "metadata": {},
     "output_type": "display_data"
    },
    {
     "data": {
      "application/vnd.jupyter.widget-view+json": {
       "model_id": "",
       "version_major": 2,
       "version_minor": 0
      },
      "text/plain": [
       "Train batch:   0%|          | 0/26 [00:00<?, ?it/s]"
      ]
     },
     "metadata": {},
     "output_type": "display_data"
    },
    {
     "data": {
      "application/vnd.jupyter.widget-view+json": {
       "model_id": "",
       "version_major": 2,
       "version_minor": 0
      },
      "text/plain": [
       "Eval batch:   0%|          | 0/11 [00:00<?, ?it/s]"
      ]
     },
     "metadata": {},
     "output_type": "display_data"
    },
    {
     "data": {
      "application/vnd.jupyter.widget-view+json": {
       "model_id": "",
       "version_major": 2,
       "version_minor": 0
      },
      "text/plain": [
       "Train batch:   0%|          | 0/26 [00:00<?, ?it/s]"
      ]
     },
     "metadata": {},
     "output_type": "display_data"
    },
    {
     "data": {
      "application/vnd.jupyter.widget-view+json": {
       "model_id": "f4ae4526be1541dc967476495f13d4f2",
       "version_major": 2,
       "version_minor": 0
      },
      "text/plain": [
       "Eval batch:   0%|          | 0/11 [00:00<?, ?it/s]"
      ]
     },
     "metadata": {},
     "output_type": "display_data"
    }
   ],
   "source": [
    "fc1hl_train_state = train_model(\n",
    "    model=fc1hl,\n",
    "    optimizer=optim.AdamW(fc1hl.parameters(), lr=3e-4),\n",
    "    train_dl=train_dl,\n",
    "    val_dl=val_dl,\n",
    "    num_epochs=30,\n",
    "    criterion='corr',\n",
    "    criterion_dirn='higher',\n",
    "    model_path='./nn_models/fc1hl.pkl',\n",
    "    train_state=fc1hl_train_state,\n",
    ")"
   ]
  },
  {
   "cell_type": "code",
   "execution_count": 50,
   "id": "306002ed",
   "metadata": {
    "scrolled": false
   },
   "outputs": [
    {
     "data": {
      "text/plain": [
       "{'best_val_model': BestModel(metric=0.03641148470342159, model=Sequential(\n",
       "   (0): Linear(in_features=1586, out_features=32, bias=True)\n",
       "   (1): GELU(approximate='none')\n",
       "   (2): Dropout(p=0.1, inplace=False)\n",
       "   (3): ResidualConn(\n",
       "     (module): Sequential(\n",
       "       (0): Linear(in_features=32, out_features=32, bias=True)\n",
       "       (1): GELU(approximate='none')\n",
       "       (2): Dropout(p=0.1, inplace=False)\n",
       "     )\n",
       "   )\n",
       "   (4): Linear(in_features=32, out_features=1, bias=True)\n",
       "   (5): Sigmoid()\n",
       " ), epoch=9),\n",
       " 'train_metrics': corr: 0.1084 mse: 0.0498 sharpe: 5.3298,\n",
       " 'val_metrics': corr: 0.0328 mse: 0.0503 sharpe: 2.1986}"
      ]
     },
     "metadata": {},
     "output_type": "display_data"
    },
    {
     "data": {
      "image/png": "[encoded data removed]",
      "text/plain": [
       "<Figure size 1440x288 with 3 Axes>"
      ]
     },
     "metadata": {
      "needs_background": "light"
     },
     "output_type": "display_data"
    },
    {
     "data": {
      "image/png": "[encoded data removed]",
      "text/plain": [
       "<Figure size 1440x288 with 3 Axes>"
      ]
     },
     "metadata": {
      "needs_background": "light"
     },
     "output_type": "display_data"
    },
    {
     "data": {
      "text/html": [
       "<div>\n",
       "<style scoped>\n",
       "    .dataframe tbody tr th:only-of-type {\n",
       "        vertical-align: middle;\n",
       "    }\n",
       "\n",
       "    .dataframe tbody tr th {\n",
       "        vertical-align: top;\n",
       "    }\n",
       "\n",
       "    .dataframe thead th {\n",
       "        text-align: right;\n",
       "    }\n",
       "</style>\n",
       "<table border=\"1\" class=\"dataframe\">\n",
       "  <thead>\n",
       "    <tr style=\"text-align: right;\">\n",
       "      <th></th>\n",
       "      <th>mse</th>\n",
       "      <th>corr</th>\n",
       "      <th>sharpe</th>\n",
       "    </tr>\n",
       "  </thead>\n",
       "  <tbody>\n",
       "    <tr>\n",
       "      <th>28</th>\n",
       "      <td>0.049869</td>\n",
       "      <td>0.031825</td>\n",
       "      <td>2.079835</td>\n",
       "    </tr>\n",
       "    <tr>\n",
       "      <th>29</th>\n",
       "      <td>0.050066</td>\n",
       "      <td>0.031263</td>\n",
       "      <td>1.981893</td>\n",
       "    </tr>\n",
       "    <tr>\n",
       "      <th>30</th>\n",
       "      <td>0.049990</td>\n",
       "      <td>0.030901</td>\n",
       "      <td>2.008044</td>\n",
       "    </tr>\n",
       "    <tr>\n",
       "      <th>31</th>\n",
       "      <td>0.049964</td>\n",
       "      <td>0.030062</td>\n",
       "      <td>1.972458</td>\n",
       "    </tr>\n",
       "  </tbody>\n",
       "</table>\n",
       "</div>"
      ],
      "text/plain": [
       "         mse      corr    sharpe\n",
       "28  0.049869  0.031825  2.079835\n",
       "29  0.050066  0.031263  1.981893\n",
       "30  0.049990  0.030901  2.008044\n",
       "31  0.049964  0.030062  1.972458"
      ]
     },
     "metadata": {},
     "output_type": "display_data"
    },
    {
     "name": "stdout",
     "output_type": "stream",
     "text": [
      "\n",
      "Final model on test set\n",
      "-----------------------\n"
     ]
    },
    {
     "data": {
      "application/vnd.jupyter.widget-view+json": {
       "model_id": "",
       "version_major": 2,
       "version_minor": 0
      },
      "text/plain": [
       "Batches:   0%|          | 0/32 [00:00<?, ?it/s]"
      ]
     },
     "metadata": {},
     "output_type": "display_data"
    },
    {
     "data": {
      "application/vnd.jupyter.widget-view+json": {
       "model_id": "",
       "version_major": 2,
       "version_minor": 0
      },
      "text/plain": [
       "Batches:   0%|          | 0/32 [00:00<?, ?it/s]"
      ]
     },
     "metadata": {},
     "output_type": "display_data"
    },
    {
     "name": "stdout",
     "output_type": "stream",
     "text": [
      "test_df.shape=(2546387, 1590), preds.shape=(2546387,)\n",
      "Corr: {'corr': 0.016934598332679993, 'sharpe': 0.8863014395166134}\n",
      "\n",
      "Best val model on test set\n",
      "--------------------------\n"
     ]
    },
    {
     "data": {
      "application/vnd.jupyter.widget-view+json": {
       "model_id": "",
       "version_major": 2,
       "version_minor": 0
      },
      "text/plain": [
       "Batches:   0%|          | 0/32 [00:00<?, ?it/s]"
      ]
     },
     "metadata": {},
     "output_type": "display_data"
    },
    {
     "data": {
      "application/vnd.jupyter.widget-view+json": {
       "model_id": "",
       "version_major": 2,
       "version_minor": 0
      },
      "text/plain": [
       "Batches:   0%|          | 0/32 [00:00<?, ?it/s]"
      ]
     },
     "metadata": {},
     "output_type": "display_data"
    },
    {
     "name": "stdout",
     "output_type": "stream",
     "text": [
      "test_df.shape=(2546387, 1590), preds.shape=(2546387,)\n",
      "Corr: {'corr': 0.019309957076534063, 'sharpe': 0.9088366153773922}\n"
     ]
    }
   ],
   "source": [
    "summarise_model_perf(\n",
    "    model=fc1hl,\n",
    "    train_state=fc1hl_train_state,\n",
    "    test_df=test_df,\n",
    "    test_dl=test_dl,\n",
    "    model_name=\"FC 2-layer model\",\n",
    ")"
   ]
  },
  {
   "cell_type": "code",
   "execution_count": 63,
   "id": "d72e0ff1",
   "metadata": {},
   "outputs": [],
   "source": [
    "torch.save(fc1hl.state_dict(), \"fc1hl.pt\")"
   ]
  },
  {
   "cell_type": "code",
   "execution_count": 57,
   "id": "c8361fd1",
   "metadata": {},
   "outputs": [],
   "source": [
    "fc2hl = FC(n_hidden_layers=2).to(DEVICE)\n",
    "fc2hl_train_state = {\n",
    "    \"best_val_model\": BestModel(),\n",
    "    \"train_metrics\": MetricsSequence(),\n",
    "    \"val_metrics\": MetricsSequence(),\n",
    "}"
   ]
  },
  {
   "cell_type": "code",
   "execution_count": 58,
   "id": "f239b8eb",
   "metadata": {},
   "outputs": [
    {
     "data": {
      "application/vnd.jupyter.widget-view+json": {
       "model_id": "f4cd6afa6c7d432b964bac7eef1e4b8e",
       "version_major": 2,
       "version_minor": 0
      },
      "text/plain": [
       "Epoch:   0%|          | 0/20 [00:00<?, ?it/s]"
      ]
     },
     "metadata": {},
     "output_type": "display_data"
    },
    {
     "data": {
      "application/vnd.jupyter.widget-view+json": {
       "model_id": "",
       "version_major": 2,
       "version_minor": 0
      },
      "text/plain": [
       "Train batch:   0%|          | 0/26 [00:00<?, ?it/s]"
      ]
     },
     "metadata": {},
     "output_type": "display_data"
    },
    {
     "data": {
      "application/vnd.jupyter.widget-view+json": {
       "model_id": "",
       "version_major": 2,
       "version_minor": 0
      },
      "text/plain": [
       "Eval batch:   0%|          | 0/11 [00:00<?, ?it/s]"
      ]
     },
     "metadata": {},
     "output_type": "display_data"
    },
    {
     "data": {
      "application/vnd.jupyter.widget-view+json": {
       "model_id": "",
       "version_major": 2,
       "version_minor": 0
      },
      "text/plain": [
       "Train batch:   0%|          | 0/26 [00:00<?, ?it/s]"
      ]
     },
     "metadata": {},
     "output_type": "display_data"
    },
    {
     "data": {
      "application/vnd.jupyter.widget-view+json": {
       "model_id": "",
       "version_major": 2,
       "version_minor": 0
      },
      "text/plain": [
       "Eval batch:   0%|          | 0/11 [00:00<?, ?it/s]"
      ]
     },
     "metadata": {},
     "output_type": "display_data"
    },
    {
     "data": {
      "application/vnd.jupyter.widget-view+json": {
       "model_id": "",
       "version_major": 2,
       "version_minor": 0
      },
      "text/plain": [
       "Train batch:   0%|          | 0/26 [00:00<?, ?it/s]"
      ]
     },
     "metadata": {},
     "output_type": "display_data"
    },
    {
     "data": {
      "application/vnd.jupyter.widget-view+json": {
       "model_id": "",
       "version_major": 2,
       "version_minor": 0
      },
      "text/plain": [
       "Eval batch:   0%|          | 0/11 [00:00<?, ?it/s]"
      ]
     },
     "metadata": {},
     "output_type": "display_data"
    },
    {
     "data": {
      "application/vnd.jupyter.widget-view+json": {
       "model_id": "",
       "version_major": 2,
       "version_minor": 0
      },
      "text/plain": [
       "Train batch:   0%|          | 0/26 [00:00<?, ?it/s]"
      ]
     },
     "metadata": {},
     "output_type": "display_data"
    },
    {
     "data": {
      "application/vnd.jupyter.widget-view+json": {
       "model_id": "",
       "version_major": 2,
       "version_minor": 0
      },
      "text/plain": [
       "Eval batch:   0%|          | 0/11 [00:00<?, ?it/s]"
      ]
     },
     "metadata": {},
     "output_type": "display_data"
    },
    {
     "data": {
      "application/vnd.jupyter.widget-view+json": {
       "model_id": "",
       "version_major": 2,
       "version_minor": 0
      },
      "text/plain": [
       "Train batch:   0%|          | 0/26 [00:00<?, ?it/s]"
      ]
     },
     "metadata": {},
     "output_type": "display_data"
    },
    {
     "data": {
      "application/vnd.jupyter.widget-view+json": {
       "model_id": "",
       "version_major": 2,
       "version_minor": 0
      },
      "text/plain": [
       "Eval batch:   0%|          | 0/11 [00:00<?, ?it/s]"
      ]
     },
     "metadata": {},
     "output_type": "display_data"
    },
    {
     "data": {
      "application/vnd.jupyter.widget-view+json": {
       "model_id": "",
       "version_major": 2,
       "version_minor": 0
      },
      "text/plain": [
       "Train batch:   0%|          | 0/26 [00:00<?, ?it/s]"
      ]
     },
     "metadata": {},
     "output_type": "display_data"
    },
    {
     "data": {
      "application/vnd.jupyter.widget-view+json": {
       "model_id": "",
       "version_major": 2,
       "version_minor": 0
      },
      "text/plain": [
       "Eval batch:   0%|          | 0/11 [00:00<?, ?it/s]"
      ]
     },
     "metadata": {},
     "output_type": "display_data"
    },
    {
     "data": {
      "application/vnd.jupyter.widget-view+json": {
       "model_id": "",
       "version_major": 2,
       "version_minor": 0
      },
      "text/plain": [
       "Train batch:   0%|          | 0/26 [00:00<?, ?it/s]"
      ]
     },
     "metadata": {},
     "output_type": "display_data"
    },
    {
     "data": {
      "application/vnd.jupyter.widget-view+json": {
       "model_id": "",
       "version_major": 2,
       "version_minor": 0
      },
      "text/plain": [
       "Eval batch:   0%|          | 0/11 [00:00<?, ?it/s]"
      ]
     },
     "metadata": {},
     "output_type": "display_data"
    },
    {
     "data": {
      "application/vnd.jupyter.widget-view+json": {
       "model_id": "",
       "version_major": 2,
       "version_minor": 0
      },
      "text/plain": [
       "Train batch:   0%|          | 0/26 [00:00<?, ?it/s]"
      ]
     },
     "metadata": {},
     "output_type": "display_data"
    },
    {
     "data": {
      "application/vnd.jupyter.widget-view+json": {
       "model_id": "",
       "version_major": 2,
       "version_minor": 0
      },
      "text/plain": [
       "Eval batch:   0%|          | 0/11 [00:00<?, ?it/s]"
      ]
     },
     "metadata": {},
     "output_type": "display_data"
    },
    {
     "data": {
      "application/vnd.jupyter.widget-view+json": {
       "model_id": "",
       "version_major": 2,
       "version_minor": 0
      },
      "text/plain": [
       "Train batch:   0%|          | 0/26 [00:00<?, ?it/s]"
      ]
     },
     "metadata": {},
     "output_type": "display_data"
    },
    {
     "data": {
      "application/vnd.jupyter.widget-view+json": {
       "model_id": "",
       "version_major": 2,
       "version_minor": 0
      },
      "text/plain": [
       "Eval batch:   0%|          | 0/11 [00:00<?, ?it/s]"
      ]
     },
     "metadata": {},
     "output_type": "display_data"
    },
    {
     "data": {
      "application/vnd.jupyter.widget-view+json": {
       "model_id": "",
       "version_major": 2,
       "version_minor": 0
      },
      "text/plain": [
       "Train batch:   0%|          | 0/26 [00:00<?, ?it/s]"
      ]
     },
     "metadata": {},
     "output_type": "display_data"
    },
    {
     "data": {
      "application/vnd.jupyter.widget-view+json": {
       "model_id": "",
       "version_major": 2,
       "version_minor": 0
      },
      "text/plain": [
       "Eval batch:   0%|          | 0/11 [00:00<?, ?it/s]"
      ]
     },
     "metadata": {},
     "output_type": "display_data"
    },
    {
     "data": {
      "application/vnd.jupyter.widget-view+json": {
       "model_id": "",
       "version_major": 2,
       "version_minor": 0
      },
      "text/plain": [
       "Train batch:   0%|          | 0/26 [00:00<?, ?it/s]"
      ]
     },
     "metadata": {},
     "output_type": "display_data"
    },
    {
     "data": {
      "application/vnd.jupyter.widget-view+json": {
       "model_id": "",
       "version_major": 2,
       "version_minor": 0
      },
      "text/plain": [
       "Eval batch:   0%|          | 0/11 [00:00<?, ?it/s]"
      ]
     },
     "metadata": {},
     "output_type": "display_data"
    },
    {
     "data": {
      "application/vnd.jupyter.widget-view+json": {
       "model_id": "",
       "version_major": 2,
       "version_minor": 0
      },
      "text/plain": [
       "Train batch:   0%|          | 0/26 [00:00<?, ?it/s]"
      ]
     },
     "metadata": {},
     "output_type": "display_data"
    },
    {
     "data": {
      "application/vnd.jupyter.widget-view+json": {
       "model_id": "",
       "version_major": 2,
       "version_minor": 0
      },
      "text/plain": [
       "Eval batch:   0%|          | 0/11 [00:00<?, ?it/s]"
      ]
     },
     "metadata": {},
     "output_type": "display_data"
    },
    {
     "data": {
      "application/vnd.jupyter.widget-view+json": {
       "model_id": "",
       "version_major": 2,
       "version_minor": 0
      },
      "text/plain": [
       "Train batch:   0%|          | 0/26 [00:00<?, ?it/s]"
      ]
     },
     "metadata": {},
     "output_type": "display_data"
    },
    {
     "data": {
      "application/vnd.jupyter.widget-view+json": {
       "model_id": "",
       "version_major": 2,
       "version_minor": 0
      },
      "text/plain": [
       "Eval batch:   0%|          | 0/11 [00:00<?, ?it/s]"
      ]
     },
     "metadata": {},
     "output_type": "display_data"
    },
    {
     "data": {
      "application/vnd.jupyter.widget-view+json": {
       "model_id": "",
       "version_major": 2,
       "version_minor": 0
      },
      "text/plain": [
       "Train batch:   0%|          | 0/26 [00:00<?, ?it/s]"
      ]
     },
     "metadata": {},
     "output_type": "display_data"
    },
    {
     "data": {
      "application/vnd.jupyter.widget-view+json": {
       "model_id": "",
       "version_major": 2,
       "version_minor": 0
      },
      "text/plain": [
       "Eval batch:   0%|          | 0/11 [00:00<?, ?it/s]"
      ]
     },
     "metadata": {},
     "output_type": "display_data"
    },
    {
     "data": {
      "application/vnd.jupyter.widget-view+json": {
       "model_id": "",
       "version_major": 2,
       "version_minor": 0
      },
      "text/plain": [
       "Train batch:   0%|          | 0/26 [00:00<?, ?it/s]"
      ]
     },
     "metadata": {},
     "output_type": "display_data"
    },
    {
     "data": {
      "application/vnd.jupyter.widget-view+json": {
       "model_id": "",
       "version_major": 2,
       "version_minor": 0
      },
      "text/plain": [
       "Eval batch:   0%|          | 0/11 [00:00<?, ?it/s]"
      ]
     },
     "metadata": {},
     "output_type": "display_data"
    },
    {
     "data": {
      "application/vnd.jupyter.widget-view+json": {
       "model_id": "",
       "version_major": 2,
       "version_minor": 0
      },
      "text/plain": [
       "Train batch:   0%|          | 0/26 [00:00<?, ?it/s]"
      ]
     },
     "metadata": {},
     "output_type": "display_data"
    },
    {
     "data": {
      "application/vnd.jupyter.widget-view+json": {
       "model_id": "",
       "version_major": 2,
       "version_minor": 0
      },
      "text/plain": [
       "Eval batch:   0%|          | 0/11 [00:00<?, ?it/s]"
      ]
     },
     "metadata": {},
     "output_type": "display_data"
    },
    {
     "data": {
      "application/vnd.jupyter.widget-view+json": {
       "model_id": "",
       "version_major": 2,
       "version_minor": 0
      },
      "text/plain": [
       "Train batch:   0%|          | 0/26 [00:00<?, ?it/s]"
      ]
     },
     "metadata": {},
     "output_type": "display_data"
    },
    {
     "data": {
      "application/vnd.jupyter.widget-view+json": {
       "model_id": "",
       "version_major": 2,
       "version_minor": 0
      },
      "text/plain": [
       "Eval batch:   0%|          | 0/11 [00:00<?, ?it/s]"
      ]
     },
     "metadata": {},
     "output_type": "display_data"
    },
    {
     "data": {
      "application/vnd.jupyter.widget-view+json": {
       "model_id": "",
       "version_major": 2,
       "version_minor": 0
      },
      "text/plain": [
       "Train batch:   0%|          | 0/26 [00:00<?, ?it/s]"
      ]
     },
     "metadata": {},
     "output_type": "display_data"
    },
    {
     "data": {
      "application/vnd.jupyter.widget-view+json": {
       "model_id": "",
       "version_major": 2,
       "version_minor": 0
      },
      "text/plain": [
       "Eval batch:   0%|          | 0/11 [00:00<?, ?it/s]"
      ]
     },
     "metadata": {},
     "output_type": "display_data"
    },
    {
     "data": {
      "application/vnd.jupyter.widget-view+json": {
       "model_id": "",
       "version_major": 2,
       "version_minor": 0
      },
      "text/plain": [
       "Train batch:   0%|          | 0/26 [00:00<?, ?it/s]"
      ]
     },
     "metadata": {},
     "output_type": "display_data"
    },
    {
     "data": {
      "application/vnd.jupyter.widget-view+json": {
       "model_id": "",
       "version_major": 2,
       "version_minor": 0
      },
      "text/plain": [
       "Eval batch:   0%|          | 0/11 [00:00<?, ?it/s]"
      ]
     },
     "metadata": {},
     "output_type": "display_data"
    },
    {
     "data": {
      "application/vnd.jupyter.widget-view+json": {
       "model_id": "",
       "version_major": 2,
       "version_minor": 0
      },
      "text/plain": [
       "Train batch:   0%|          | 0/26 [00:00<?, ?it/s]"
      ]
     },
     "metadata": {},
     "output_type": "display_data"
    },
    {
     "data": {
      "application/vnd.jupyter.widget-view+json": {
       "model_id": "",
       "version_major": 2,
       "version_minor": 0
      },
      "text/plain": [
       "Eval batch:   0%|          | 0/11 [00:00<?, ?it/s]"
      ]
     },
     "metadata": {},
     "output_type": "display_data"
    }
   ],
   "source": [
    "# --------------------------\n",
    "# Fully connected 3 layer NN\n",
    "#\n",
    "# With just one hidden layer, and a residual connection we\n",
    "# can get fairly close to lgbm performance\n",
    "# --------------------------\n",
    "fc2hl_train_state = train_model(\n",
    "    model=fc2hl,\n",
    "    optimizer=optim.AdamW(fc2hl.parameters(), lr=3e-4),\n",
    "    train_dl=train_dl,\n",
    "    val_dl=val_dl,\n",
    "    num_epochs=20,\n",
    "    criterion='corr',\n",
    "    criterion_dirn='higher',\n",
    "    model_path='./nn_models/fc2hl.pkl',\n",
    "    train_state=fc2hl_train_state,\n",
    ")"
   ]
  },
  {
   "cell_type": "code",
   "execution_count": 59,
   "id": "b734d4e7",
   "metadata": {
    "scrolled": false
   },
   "outputs": [
    {
     "data": {
      "text/plain": [
       "{'best_val_model': BestModel(metric=0.03548957644538446, model=Sequential(\n",
       "   (0): Linear(in_features=1586, out_features=32, bias=True)\n",
       "   (1): GELU(approximate='none')\n",
       "   (2): Dropout(p=0.1, inplace=False)\n",
       "   (3): ResidualConn(\n",
       "     (module): Sequential(\n",
       "       (0): Linear(in_features=32, out_features=32, bias=True)\n",
       "       (1): GELU(approximate='none')\n",
       "       (2): Dropout(p=0.1, inplace=False)\n",
       "     )\n",
       "   )\n",
       "   (4): ResidualConn(\n",
       "     (module): Sequential(\n",
       "       (0): Linear(in_features=32, out_features=32, bias=True)\n",
       "       (1): GELU(approximate='none')\n",
       "       (2): Dropout(p=0.1, inplace=False)\n",
       "     )\n",
       "   )\n",
       "   (5): Linear(in_features=32, out_features=1, bias=True)\n",
       "   (6): Sigmoid()\n",
       " ), epoch=7),\n",
       " 'train_metrics': corr: 0.0904 mse: 0.0499 sharpe: 4.3978,\n",
       " 'val_metrics': corr: 0.0331 mse: 0.0504 sharpe: 2.2422}"
      ]
     },
     "metadata": {},
     "output_type": "display_data"
    },
    {
     "data": {
      "image/png": "[encoded data removed]",
      "text/plain": [
       "<Figure size 1440x288 with 3 Axes>"
      ]
     },
     "metadata": {
      "needs_background": "light"
     },
     "output_type": "display_data"
    },
    {
     "data": {
      "image/png": "[encoded data removed]",
      "text/plain": [
       "<Figure size 1440x288 with 3 Axes>"
      ]
     },
     "metadata": {
      "needs_background": "light"
     },
     "output_type": "display_data"
    },
    {
     "data": {
      "text/html": [
       "<div>\n",
       "<style scoped>\n",
       "    .dataframe tbody tr th:only-of-type {\n",
       "        vertical-align: middle;\n",
       "    }\n",
       "\n",
       "    .dataframe tbody tr th {\n",
       "        vertical-align: top;\n",
       "    }\n",
       "\n",
       "    .dataframe thead th {\n",
       "        text-align: right;\n",
       "    }\n",
       "</style>\n",
       "<table border=\"1\" class=\"dataframe\">\n",
       "  <thead>\n",
       "    <tr style=\"text-align: right;\">\n",
       "      <th></th>\n",
       "      <th>mse</th>\n",
       "      <th>corr</th>\n",
       "      <th>sharpe</th>\n",
       "    </tr>\n",
       "  </thead>\n",
       "  <tbody>\n",
       "    <tr>\n",
       "      <th>16</th>\n",
       "      <td>0.050494</td>\n",
       "      <td>0.032628</td>\n",
       "      <td>2.023521</td>\n",
       "    </tr>\n",
       "    <tr>\n",
       "      <th>17</th>\n",
       "      <td>0.050665</td>\n",
       "      <td>0.032428</td>\n",
       "      <td>1.948660</td>\n",
       "    </tr>\n",
       "    <tr>\n",
       "      <th>18</th>\n",
       "      <td>0.050368</td>\n",
       "      <td>0.031637</td>\n",
       "      <td>1.830845</td>\n",
       "    </tr>\n",
       "    <tr>\n",
       "      <th>19</th>\n",
       "      <td>0.050145</td>\n",
       "      <td>0.033395</td>\n",
       "      <td>1.975974</td>\n",
       "    </tr>\n",
       "  </tbody>\n",
       "</table>\n",
       "</div>"
      ],
      "text/plain": [
       "         mse      corr    sharpe\n",
       "16  0.050494  0.032628  2.023521\n",
       "17  0.050665  0.032428  1.948660\n",
       "18  0.050368  0.031637  1.830845\n",
       "19  0.050145  0.033395  1.975974"
      ]
     },
     "metadata": {},
     "output_type": "display_data"
    },
    {
     "name": "stdout",
     "output_type": "stream",
     "text": [
      "\n",
      "Final model on test set\n",
      "-----------------------\n"
     ]
    },
    {
     "data": {
      "application/vnd.jupyter.widget-view+json": {
       "model_id": "",
       "version_major": 2,
       "version_minor": 0
      },
      "text/plain": [
       "Batches:   0%|          | 0/32 [00:00<?, ?it/s]"
      ]
     },
     "metadata": {},
     "output_type": "display_data"
    },
    {
     "data": {
      "application/vnd.jupyter.widget-view+json": {
       "model_id": "",
       "version_major": 2,
       "version_minor": 0
      },
      "text/plain": [
       "Batches:   0%|          | 0/32 [00:00<?, ?it/s]"
      ]
     },
     "metadata": {},
     "output_type": "display_data"
    },
    {
     "name": "stdout",
     "output_type": "stream",
     "text": [
      "test_df.shape=(2546387, 1590), preds.shape=(2546387,)\n",
      "Corr: {'corr': 0.01778119001816869, 'sharpe': 0.8803199869872985}\n",
      "\n",
      "Best val model on test set\n",
      "--------------------------\n"
     ]
    },
    {
     "data": {
      "application/vnd.jupyter.widget-view+json": {
       "model_id": "",
       "version_major": 2,
       "version_minor": 0
      },
      "text/plain": [
       "Batches:   0%|          | 0/32 [00:00<?, ?it/s]"
      ]
     },
     "metadata": {},
     "output_type": "display_data"
    },
    {
     "data": {
      "application/vnd.jupyter.widget-view+json": {
       "model_id": "",
       "version_major": 2,
       "version_minor": 0
      },
      "text/plain": [
       "Batches:   0%|          | 0/32 [00:00<?, ?it/s]"
      ]
     },
     "metadata": {},
     "output_type": "display_data"
    },
    {
     "name": "stdout",
     "output_type": "stream",
     "text": [
      "test_df.shape=(2546387, 1590), preds.shape=(2546387,)\n",
      "Corr: {'corr': 0.01924545325695592, 'sharpe': 0.8727633059622467}\n"
     ]
    }
   ],
   "source": [
    "summarise_model_perf(\n",
    "    model=fc2hl,\n",
    "    train_state=fc2hl_train_state,\n",
    "    test_df=test_df,\n",
    "    test_dl=test_dl,\n",
    "    model_name=\"FC 3-layer model\",\n",
    ")"
   ]
  },
  {
   "cell_type": "code",
   "execution_count": 64,
   "id": "df024868",
   "metadata": {},
   "outputs": [],
   "source": [
    "torch.save(fc2hl.state_dict(), \"fc2hl.pt\")"
   ]
  },
  {
   "cell_type": "markdown",
   "id": "9b87683d",
   "metadata": {},
   "source": [
    "## 4.2 TRANSFORMER MODELS\n",
    "Attention, MultiHeadedAttention and Full transformer models"
   ]
  },
  {
   "cell_type": "code",
   "execution_count": null,
   "id": "a3e10feb",
   "metadata": {},
   "outputs": [],
   "source": [
    "# ------------------------------------------------------------------------------\n",
    "# TRANSFORMERS\n",
    "#\n",
    "# Attention, MultiHeadedAttention and Full transformer models.\n",
    "#\n",
    "# Improvised rewriting of nanoGPT tutorial by Andrej K at\n",
    "# https://github.com/vispz/andrej_lectures/blob/main/gpt/gpt.py\n",
    "# ------------------------------------------------------------------------------\n",
    "\n",
    "@dataclass(eq=False)\n",
    "class Transformer(nn.Module):\n",
    "\n",
    "    input_dim: int\n",
    "    embed_dim: int\n",
    "    num_attn_head: int\n",
    "    mlp_hidden_dim: int  # embed_dim * 4 in paper\n",
    "    num_blocks: int\n",
    "    dropout_frac: float\n",
    "    to_layer_norm: bool\n",
    "\n",
    "    def __post_init__(self):\n",
    "        super().__init__()\n",
    "        bk_kwargs = dict(\n",
    "            embed_dim=self.embed_dim,\n",
    "            num_attn_head=self.num_attn_head,\n",
    "            mlp_hidden_dim=self.mlp_hidden_dim,\n",
    "            dropout_frac=self.dropout_frac,\n",
    "            to_layer_norm=self.to_layer_norm,\n",
    "        )\n",
    "        self.net = nn.ModuleList(\n",
    "            [\n",
    "                nn.Linear(self.input_dim, self.embed_dim),\n",
    "                *[Block(**bk_kwargs) for _ in range(self.num_blocks)],\n",
    "                nn.LayerNorm(self.embed_dim) if self.to_layer_norm else nn.Identity(),\n",
    "                nn.Linear(self.embed_dim, 1),\n",
    "                nn.Sigmoid()\n",
    "            ],\n",
    "        )\n",
    "\n",
    "    def forward(self, X, mask):\n",
    "        B, S, F = X.shape\n",
    "        x = X\n",
    "        for subnet in self.net:\n",
    "            if isinstance(subnet, Block):\n",
    "                x = subnet(X=x, mask=mask)\n",
    "            else:\n",
    "                x = subnet(x)\n",
    "        assert tuple(x.shape) == (B, S, 1)\n",
    "        return x[:,:,0]\n",
    "\n",
    "    def __repr__(self) -> str:\n",
    "        return str(self.net)\n",
    "\n",
    "\n",
    "@dataclass(eq=False)\n",
    "class Block(nn.Module):\n",
    "\n",
    "    embed_dim: int\n",
    "    num_attn_head: int\n",
    "    mlp_hidden_dim: int\n",
    "    dropout_frac: float\n",
    "    to_layer_norm: bool\n",
    "\n",
    "    def __post_init__(self):\n",
    "        super().__init__()\n",
    "        ln_cls = nn.LayerNorm if self.to_layer_norm else nn.Identity\n",
    "        self.sa = MultiHeadedAttention(\n",
    "            nhead=self.num_attn_head,\n",
    "            embed_dim=self.embed_dim,\n",
    "            dropout_frac=self.dropout_frac,\n",
    "        )\n",
    "        self.ln1 = ln_cls(self.embed_dim)\n",
    "        self.mlp = MLP(\n",
    "            embed_dim=self.embed_dim,\n",
    "            hidden_dim=self.mlp_hidden_dim,\n",
    "            dropout_frac=self.dropout_frac,\n",
    "        )\n",
    "        self.ln2 = ln_cls(self.embed_dim)\n",
    "\n",
    "    def forward(self, X, mask):\n",
    "        attn = X + self.sa(X=self.ln1(X), mask=mask)\n",
    "        out = attn + self.mlp(self.ln2(attn))\n",
    "        return out\n",
    "\n",
    "    def __repr__(self) -> str:\n",
    "        return (\n",
    "            f\"Block(\\n{self.sa},\\n{self.ln1},\\n{self.mlp},\\n{self.ln2}\\n)\"\n",
    "        )\n",
    "\n",
    "\n",
    "@dataclass(eq=False)\n",
    "class MLP(nn.Module):\n",
    "\n",
    "    embed_dim: int\n",
    "    hidden_dim: int\n",
    "    dropout_frac: float\n",
    "\n",
    "    def __post_init__(self):\n",
    "        super().__init__()\n",
    "        self.net = nn.Sequential(\n",
    "            nn.Linear(self.embed_dim, self.hidden_dim),\n",
    "            nn.GELU(),\n",
    "            nn.Linear(self.hidden_dim, self.embed_dim),\n",
    "            nn.Dropout(self.dropout_frac),\n",
    "        )\n",
    "\n",
    "    def forward(self, X):\n",
    "        return self.net(X)\n",
    "\n",
    "    def __repr__(self) -> str:\n",
    "        return str(self.net).replace(\"Sequential\", \"MLP\")\n",
    "\n",
    "\n",
    "@dataclass(eq=False)\n",
    "class MultiHeadedAttention(nn.Module):\n",
    "\n",
    "    \"\"\"This takes in the B x S [Batch(eras) x Stocks] or output of the previous\n",
    "    enccoder layer (B x Sx C) and then produces (B x S x (nhead*(out_dim/nhead)))\n",
    "    output.\n",
    "\n",
    "    We create nhead attention heads each mapping C -> (out_dim/nhead) space.\n",
    "    \"\"\"\n",
    "\n",
    "    nhead: int\n",
    "    embed_dim: int\n",
    "    dropout_frac: float\n",
    "\n",
    "    def __post_init__(self):\n",
    "        super().__init__()\n",
    "        assert (\n",
    "            self.embed_dim % self.nhead == 0\n",
    "        ), \"Embedding dim not divisible num attention heads\"\n",
    "        self.heads = nn.ModuleList(\n",
    "            [\n",
    "                AttentionHead(\n",
    "                    input_dim=self.embed_dim,\n",
    "                    output_dim=self.embed_dim // self.nhead,\n",
    "                    dropout_frac=self.dropout_frac,\n",
    "                )\n",
    "                for _ in range(self.nhead)\n",
    "            ],\n",
    "        )\n",
    "        self.projection = nn.Linear(self.embed_dim, self.embed_dim)\n",
    "        self.dropout_lyr = nn.Dropout(self.dropout_frac)\n",
    "\n",
    "    def forward(self, X, mask):\n",
    "        # concat nhead of dims B x S x E/nhead\n",
    "        attn = torch.cat([h(X=X, mask=mask) for h in self.heads], dim=-1)\n",
    "        out = self.dropout_lyr(self.projection(attn))  # B x S x E\n",
    "        # Force the predictions of padded outputs to be 0.\n",
    "        out[~mask, :] = 0.\n",
    "        return out\n",
    "\n",
    "@dataclass(eq=False)\n",
    "class AttentionHead(nn.Module):\n",
    "\n",
    "    \"\"\"A single attention head implementation.\n",
    "\n",
    "    This takes in the batch(eras) x Stocks x (features or output of the previous\n",
    "    encoder layer (B x S x C)) and then produces (B x S x embed_dim) output. Where\n",
    "    each (b, s) outputs a weighted value vector. The (b, s) example looks at all other\n",
    "    stocks (b, :) computes attention scores ie., softmax(query[s]@key[:]) and computes\n",
    "    a weighted sum of the value vectors.\n",
    "    \"\"\"\n",
    "\n",
    "    input_dim: int\n",
    "    output_dim: int\n",
    "    dropout_frac: float\n",
    "\n",
    "    def __post_init__(self):\n",
    "        super().__init__()\n",
    "        lin_kwargs = dict(\n",
    "            in_features=self.input_dim, out_features=self.output_dim, bias=False\n",
    "        )\n",
    "        self.key = nn.Linear(**lin_kwargs)\n",
    "        self.query = nn.Linear(**lin_kwargs)\n",
    "        self.value = nn.Linear(**lin_kwargs)\n",
    "        # Keep the initial softmax fairly diffused so that we look at all the stocks\n",
    "        for nm, param in self.key.named_parameters():\n",
    "            if nm != \"weight\":\n",
    "                continue\n",
    "            param.data *= 0.01\n",
    "        self.dropout = nn.Dropout(self.dropout_frac)\n",
    "\n",
    "    def forward(self, X, mask):\n",
    "        return AttentionHead._forward(\n",
    "            X=X,\n",
    "            mask=mask,\n",
    "            key=self.key,\n",
    "            query=self.query,\n",
    "            value=self.value,\n",
    "            dropout=self.dropout,\n",
    "            output_dim=self.output_dim,\n",
    "        )\n",
    "\n",
    "    @staticmethod\n",
    "    def _forward(X, mask, key, query, value, dropout, output_dim):\n",
    "        # X : B x S x D(feats), outputs B x S x E (embed_dim)\n",
    "        B, S, D = X.shape\n",
    "        keys, queries, values = key(X), query(X), value(X)  # B,S,E\n",
    "        attn_logit = (\n",
    "            # Div by sqrt(out_dim) to keep std() at the same scale as input\n",
    "            torch.einsum(\"ijk,ilk->ijl\", queries, keys) / output_dim**0.5\n",
    "        )  # B x S x S\n",
    "        # Mask provides which stock indices are real. We want to zero out\n",
    "        # padded indices\n",
    "        attn_logit[~mask, :] = -torch.inf\n",
    "        attn_logit.transpose(2,1)[~mask, :] = -torch.inf\n",
    "        affinities = dropout(F.softmax(attn_logit, dim=2))  # B,S,S\n",
    "        # The rows of padded columns are all 0s, when taking softmax\n",
    "        # we want to set them to 0, so that their output is always 0\n",
    "        affinities[~mask, :] = 0.\n",
    "        out = affinities @ values  # B,S,S @ B,S,E = B,S,E\n",
    "        return out\n"
   ]
  },
  {
   "cell_type": "code",
   "execution_count": null,
   "id": "a12943a5",
   "metadata": {},
   "outputs": [],
   "source": [
    "# --------------------------\n",
    "# Attention only model\n",
    "# --------------------------\n",
    "@dataclass(eq=False)\n",
    "class AttentionModel(nn.Module):\n",
    "    input_dim: int\n",
    "    output_dim: int\n",
    "    dropout_frac: int\n",
    "\n",
    "    def __post_init__(self):\n",
    "        super().__init__()\n",
    "        self.ah = AttentionHead(\n",
    "            input_dim=self.input_dim,\n",
    "            output_dim=self.output_dim,\n",
    "            dropout_frac=self.dropout_frac,\n",
    "        )\n",
    "        self.act = nn.Sigmoid()\n",
    "    \n",
    "    def forward(self, X, mask):\n",
    "        B, S, D = X.shape\n",
    "        out = self.act(self.ah(X=X, mask=mask))\n",
    "        assert tuple(out.shape) == (B, S, 1)\n",
    "        return out[:,:,0]\n",
    "\n",
    "    def __repr__(self):\n",
    "        return f\"Sigmoid({self.ah})\"\n",
    "\n",
    "\n",
    "attn_ts = {\n",
    "    \"best_val_model\": BestModel(),\n",
    "    \"train_metrics\": MetricsSequence(),\n",
    "    \"val_metrics\": MetricsSequence(),\n",
    "}\n",
    "attn = AttentionModel(\n",
    "    input_dim=N_FEATURES,\n",
    "    output_dim=1,\n",
    "    dropout_frac=0.1,\n",
    ").to(DEVICE)"
   ]
  },
  {
   "cell_type": "code",
   "execution_count": null,
   "id": "2a545931",
   "metadata": {},
   "outputs": [],
   "source": [
    "attn_ts = train_model(\n",
    "    model=attn,\n",
    "    optimizer=optim.AdamW(attn.parameters(), lr=3e-4),\n",
    "    train_dl=train_dl,\n",
    "    val_dl=val_dl,\n",
    "    num_epochs=40,\n",
    "    criterion='corr',\n",
    "    criterion_dirn='higher',\n",
    "    model_path='./nn_models/attn.pkl',\n",
    "    train_state=attn_ts,\n",
    ")\n",
    "gc.collect()"
   ]
  },
  {
   "cell_type": "code",
   "execution_count": null,
   "id": "0fb6830b",
   "metadata": {},
   "outputs": [],
   "source": [
    "summarise_model_perf(\n",
    "    model=attn,\n",
    "    train_state=attn_ts,\n",
    "    test_df=test_df,\n",
    "    test_dl=test_dl,\n",
    "    model_name=\"Attention only partial training\",\n",
    ")"
   ]
  },
  {
   "cell_type": "code",
   "execution_count": null,
   "id": "76461e6a",
   "metadata": {},
   "outputs": [],
   "source": [
    "# --------------------------\n",
    "# Transformer model\n",
    "# --------------------------\n",
    "tfm_train_state = {\n",
    "    \"best_val_model\": BestModel(),\n",
    "    \"train_metrics\": MetricsSequence(),\n",
    "    \"val_metrics\": MetricsSequence(),\n",
    "}\n",
    "tfm = Transformer(\n",
    "    input_dim=N_FEATURES,\n",
    "    embed_dim=4,\n",
    "    num_attn_head=2,\n",
    "    mlp_hidden_dim=8,\n",
    "    num_blocks=1,\n",
    "    dropout_frac=0.1,\n",
    "    to_layer_norm=False,\n",
    ").to(DEVICE)\n",
    "# if \"./nn_models/tfm.pkl\" in os.listdir():\n",
    "#     transformer.load_state_dict(torch.load(\"./nn_models/tfm.pkl\"))\n",
    "tfm"
   ]
  },
  {
   "cell_type": "code",
   "execution_count": null,
   "id": "d557c04d",
   "metadata": {},
   "outputs": [],
   "source": [
    "tfm_train_state = train_model(\n",
    "    model=tfm,\n",
    "    optimizer=optim.AdamW(tfm.parameters(), lr=3e-4),\n",
    "    train_dl=train_dl,\n",
    "    val_dl=val_dl,\n",
    "    num_epochs=40,\n",
    "    criterion='corr',\n",
    "    criterion_dirn='higher',\n",
    "    model_path='./nn_models/tfm.pkl',\n",
    "    train_state=tfm_train_state,\n",
    ")"
   ]
  },
  {
   "cell_type": "code",
   "execution_count": null,
   "id": "2991f882",
   "metadata": {},
   "outputs": [],
   "source": [
    "summarise_model_perf(\n",
    "    model=tfm,\n",
    "    train_state=tfm_train_state,\n",
    "    test_df=test_df,\n",
    "    test_dl=test_dl,\n",
    "    model_name=\"Transformer tinyl\",\n",
    ")"
   ]
  },
  {
   "cell_type": "code",
   "execution_count": null,
   "id": "37f767ff",
   "metadata": {},
   "outputs": [],
   "source": [
    "gc.collect()"
   ]
  },
  {
   "cell_type": "markdown",
   "id": "ea19d29f",
   "metadata": {},
   "source": [
    "# Test"
   ]
  },
  {
   "cell_type": "code",
   "execution_count": 302,
   "id": "3fee89b4",
   "metadata": {},
   "outputs": [],
   "source": [
    "def test_corr_masked():\n",
    "    \"\"\"Compare the above implementation with an iterative numpy implementation\"\"\"\n",
    "    # Given padded inputs and targets where each row is an era and each\n",
    "    # column is a stock's model's prediction or label or padding mask\n",
    "    B, S = 4, 5000  # batchsize (eras) and num_stock\n",
    "    pred = np.random.random((B, S))\n",
    "    target = np.random.random((B, S))\n",
    "    mask = np.random.random((B, S)) > 0.3\n",
    "    # When we compute erawise pearson corr with the label\n",
    "    res = corr_masked(\n",
    "        pred=torch.from_numpy(pred),\n",
    "        target=torch.from_numpy(target),\n",
    "        mask=torch.from_numpy(mask),\n",
    "    )\n",
    "    # Then we should compute pearson corr after masking\n",
    "    res_corr = res[\"erawise_corr\"].detach().numpy()\n",
    "    for  _rcorr, _o, _l, _m in zip(res_corr, pred, target, mask):\n",
    "        np.testing.assert_almost_equal(_rcorr[0], np.corrcoef(_o[_m], _l[_m])[0,1])\n",
    "\n",
    "test_corr_masked()"
   ]
  },
  {
   "cell_type": "code",
   "execution_count": 480,
   "id": "b8416dd7",
   "metadata": {},
   "outputs": [],
   "source": [
    "def test_attn_w_mask():\n",
    "    # Given some input data of B eras and padded\n",
    "    # S stocks and D features\n",
    "    B, S, D = 3, 60, 4\n",
    "    X = torch.randn(B, S, D)\n",
    "    mask = torch.ones(B, S)\n",
    "    # Stocks after these are padded\n",
    "    era2stk_cnt = {0: 40, 1: 50, 2: 30}\n",
    "    for era, stk_cnt in era2stk_cnt.items():\n",
    "        mask[era,stk_cnt:] = 0\n",
    "    mask = mask > 0\n",
    "    # And a MultiHeadAttention Model\n",
    "    attn = MultiHeadedAttention(\n",
    "        embed_dim=D,\n",
    "        nhead=4,\n",
    "        dropout_frac=0.1,\n",
    "    )\n",
    "    # When we forward through the layer\n",
    "    out = attn(X=X, mask=mask)\n",
    "    # Then the output should be of expected dimensions\n",
    "    assert tuple(out.shape) == (B, S, D)\n",
    "    # And have 0 predictions only for the padded stocks\n",
    "    for era, era_out in enumerate(out):\n",
    "        assert tuple(era_out.shape) == (S, D)\n",
    "        nstk = era2stk_cnt[era]\n",
    "        # All the non padded stocks should have non NaN preds\n",
    "        assert not torch.isnan(era_out[:nstk, :]).any()\n",
    "        # All the padded stocks should have NaN preds\n",
    "        assert (era_out[nstk:, :]==0.).all()\n",
    "\n",
    "test_attn_w_mask()"
   ]
  }
 ],
 "metadata": {
  "kernelspec": {
   "display_name": "Python 3",
   "language": "python",
   "name": "python3"
  }
 },
 "nbformat": 4,
 "nbformat_minor": 5
}
