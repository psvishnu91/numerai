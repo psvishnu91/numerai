{
 "cells": [
  {
   "cell_type": "code",
   "execution_count": 2,
   "id": "f1124b60",
   "metadata": {},
   "outputs": [
    {
     "data": {
      "text/html": [
       "<style>.container { width:100% !important; }</style>"
      ],
      "text/plain": [
       "<IPython.core.display.HTML object>"
      ]
     },
     "metadata": {},
     "output_type": "display_data"
    }
   ],
   "source": [
    "from IPython.display import display, HTML, clear_output\n",
    "display(HTML(\"<style>.container { width:100% !important; }</style>\"))"
   ]
  },
  {
   "cell_type": "code",
   "execution_count": 33,
   "id": "44c648aa",
   "metadata": {},
   "outputs": [
    {
     "name": "stdout",
     "output_type": "stream",
     "text": [
      "\r"
     ]
    }
   ],
   "source": [
    "TO_TRAIN = True\n",
    "RUN_NAME = \"all_targets_medm_feats_every4th_int8\"\n",
    "AS_INT8 = True\n",
    "FEATURE_SET_NAME = \"medium\"\n",
    "TO_DOWNLOAD_DATA = True\n",
    "TRAINING_PARAMS = {\n",
    "    \"neutralisation\": 0.5,\n",
    "    \"sample_every_nth\": 32,\n",
    "    \"val_fracs\": [0.2, 0.2],\n",
    "}\n",
    "# small fast params\n",
    "params_name = \"sm_lgbm\"\n",
    "params = {\"n_estimators\": 5000,\n",
    "          \"learning_rate\": 0.001,\n",
    "          \"max_depth\": 6,\n",
    "          \"num_leaves\": 2 ** 6,\n",
    "          \"colsample_bytree\": 0.1}\n",
    "\n",
    "# recommended params\n",
    "# params_name = \"lg_lgbm\"\n",
    "# params = {\n",
    "#     \"n_estimators\": 20000,\n",
    "#     \"learning_rate\": 0.001,\n",
    "#     \"max_depth\": 6,\n",
    "#     \"num_leaves\": 2**6,\n",
    "#     \"colsample_bytree\": 0.1,\n",
    "# }\n",
    "\n",
    "# loop through all of our favorite targets and build models on each of them - one over training data, one over all available data\n",
    "# for the train_data models, we'll then predict on validation data\n",
    "# for the all_data models, we'll predict on live\n",
    "targets = [\n",
    "    \"target_nomi_v4_20\",\n",
    "    \"target_jerome_v4_60\",\n",
    "    \"target_ralph_v4_20\",\n",
    "    \"target_tyler_v4_20\",\n",
    "    \"target_victor_v4_20\",\n",
    "    \"target_waldo_v4_20\",\n",
    "]"
   ]
  },
  {
   "cell_type": "code",
   "execution_count": 34,
   "id": "98fa49a9",
   "metadata": {},
   "outputs": [
    {
     "name": "stdout",
     "output_type": "stream",
     "text": [
      "The autoreload extension is already loaded. To reload it, use:\n",
      "  %reload_ext autoreload\n",
      "\r"
     ]
    }
   ],
   "source": []
  },
  {
   "cell_type": "code",
   "execution_count": 35,
   "id": "cf0b97c6",
   "metadata": {
    "scrolled": true
   },
   "outputs": [
    {
     "data": {
      "text/plain": [
       "'/Users/vispers/work/numerai/numerai'"
      ]
     },
     "execution_count": 35,
     "metadata": {},
     "output_type": "execute_result"
    },
    {
     "name": "stdout",
     "output_type": "stream",
     "text": [
      "\r"
     ]
    }
   ],
   "source": [
    "!pwd"
   ]
  },
  {
   "cell_type": "markdown",
   "id": "edba5bd2",
   "metadata": {},
   "source": [
    "## Data loading"
   ]
  },
  {
   "cell_type": "markdown",
   "id": "26da90a2",
   "metadata": {},
   "source": [
    "### 1. Download relevant datasets"
   ]
  },
  {
   "cell_type": "code",
   "execution_count": 36,
   "id": "a607f917",
   "metadata": {},
   "outputs": [
    {
     "name": "stdout",
     "output_type": "stream",
     "text": [
      "\r"
     ]
    }
   ],
   "source": [
    "data_fld_root = \"../data\"\n",
    "dataset_name = \"v4.1\"\n",
    "data_path = os.path.join(data_fld_root, dataset_name)"
   ]
  },
  {
   "cell_type": "code",
   "execution_count": 37,
   "id": "9735f58d",
   "metadata": {},
   "outputs": [
    {
     "name": "stdout",
     "output_type": "stream",
     "text": [
      "Current round: 459\n",
      "Current round: 459\n",
      "Downloading dataset files...\n",
      "Downloading v4.1/train_int8.parquet to ../data/v4.1/train_int8.parquet...\n"
     ]
    },
    {
     "name": "stderr",
     "output_type": "stream",
     "text": [
      "2023-04-11 06:24:47,119 INFO numerapi.utils: target file already exists\n",
      "2023-04-11 06:24:47,120 INFO numerapi.utils: download complete\n"
     ]
    },
    {
     "name": "stdout",
     "output_type": "stream",
     "text": [
      "Downloading v4.1/validation_int8.parquet to ../data/v4.1/validation_int8.parquet...\n"
     ]
    },
    {
     "name": "stderr",
     "output_type": "stream",
     "text": [
      "2023-04-11 06:24:47,872 INFO numerapi.utils: target file already exists\n",
      "2023-04-11 06:24:47,874 INFO numerapi.utils: download complete\n"
     ]
    },
    {
     "name": "stdout",
     "output_type": "stream",
     "text": [
      "Downloading v4.1/features.json to ../data/v4.1/features.json...\n"
     ]
    },
    {
     "name": "stderr",
     "output_type": "stream",
     "text": [
      "2023-04-11 06:24:48,586 INFO numerapi.utils: target file already exists\n",
      "2023-04-11 06:24:48,588 INFO numerapi.utils: download complete\n"
     ]
    },
    {
     "name": "stdout",
     "output_type": "stream",
     "text": [
      "Downloading v4.1/validation_example_preds.parquet to ../data/v4.1/validation_example_preds.parquet...\n"
     ]
    },
    {
     "name": "stderr",
     "output_type": "stream",
     "text": [
      "2023-04-11 06:24:49,322 INFO numerapi.utils: target file already exists\n",
      "2023-04-11 06:24:49,325 INFO numerapi.utils: download complete\n"
     ]
    },
    {
     "name": "stdout",
     "output_type": "stream",
     "text": [
      "Downloading v4.1/live_int8.parquet to ../data/v4.1/459/live_int8.parquet...\n"
     ]
    },
    {
     "name": "stderr",
     "output_type": "stream",
     "text": [
      "2023-04-11 06:24:50,072 INFO numerapi.utils: target file already exists\n",
      "2023-04-11 06:24:50,075 INFO numerapi.utils: download complete\n"
     ]
    },
    {
     "name": "stdout",
     "output_type": "stream",
     "text": [
      "{'train': '../data/v4.1/train_int8.parquet', 'test': '../data/v4.1/validation_int8.parquet', 'features_json': '../data/v4.1/features.json', 'val_example': '../data/v4.1/validation_example_preds.parquet', 'live': '../data/v4.1/459/live_int8.parquet'}\n",
      "\r"
     ]
    }
   ],
   "source": [
    "napi = NumerAPI()\n",
    "current_round = napi.get_current_round()\n",
    "print(f\"Current round: {current_round}\")\n",
    "\n",
    "if not TO_DOWNLOAD_DATA:\n",
    "    print(\"Not downloading data; assuming it exists already\")\n",
    "else:\n",
    "    downloaded_fl_map = ss_utils.download_data(\n",
    "        dataset_name=dataset_name, data_path=data_path, as_int8=AS_INT8,\n",
    "    )\n",
    "    print(downloaded_fl_map)"
   ]
  },
  {
   "cell_type": "markdown",
   "id": "d731610e",
   "metadata": {},
   "source": [
    "### 2. Load up training and test data. Split training data into train, validations splits."
   ]
  },
  {
   "cell_type": "code",
   "execution_count": 29,
   "id": "c15feedb",
   "metadata": {},
   "outputs": [
    {
     "name": "stdout",
     "output_type": "stream",
     "text": [
      "Reading live data ...\n",
      "Reading training data ...\n",
      "Reading test data ...\n",
      "Splitting into train and validations\n",
      "\r"
     ]
    }
   ],
   "source": [
    "data_map = cast(\n",
    "    dict[str, pd.DataFrame],\n",
    "    ss_utils.load_downloaded_data(\n",
    "        downloaded_fl_map=downloaded_fl_map,\n",
    "        cols_to_read=ss_utils.build_cols_to_read(\n",
    "            feature_json_fl=os.path.join(data_path, \"features.json\"),\n",
    "            feature_set_name=FEATURE_SET_NAME,\n",
    "        ),\n",
    "        val_fracs=TRAINING_PARAMS[\"val_fracs\"],\n",
    "        to_train=TO_TRAIN,\n",
    "        sample_every_nth_era=TRAINING_PARAMS[\"sample_every_nth\"],\n",
    "    )"
   ]
  },
  {
   "cell_type": "code",
   "execution_count": 40,
   "id": "8dce05e7",
   "metadata": {},
   "outputs": [
    {
     "data": {
      "text/html": [
       "<h5>Split: train</h5>"
      ],
      "text/plain": [
       "<IPython.core.display.HTML object>"
      ]
     },
     "metadata": {},
     "output_type": "display_data"
    },
    {
     "name": "stdout",
     "output_type": "stream",
     "text": [
      "Number of rows: 42,565\n"
     ]
    },
    {
     "data": {
      "text/html": [
       "<div>\n",
       "<style scoped>\n",
       "    .dataframe tbody tr th:only-of-type {\n",
       "        vertical-align: middle;\n",
       "    }\n",
       "\n",
       "    .dataframe tbody tr th {\n",
       "        vertical-align: top;\n",
       "    }\n",
       "\n",
       "    .dataframe thead th {\n",
       "        text-align: right;\n",
       "    }\n",
       "</style>\n",
       "<table border=\"1\" class=\"dataframe\">\n",
       "  <thead>\n",
       "    <tr style=\"text-align: right;\">\n",
       "      <th></th>\n",
       "      <th>feature_abating_unadaptable_weakfish</th>\n",
       "      <th>feature_ablest_mauritanian_elding</th>\n",
       "      <th>feature_acclimatisable_unfeigned_maghreb</th>\n",
       "      <th>feature_accommodable_crinite_cleft</th>\n",
       "      <th>feature_accretive_sorrier_skedaddle</th>\n",
       "      <th>feature_acetose_periotic_coronation</th>\n",
       "      <th>feature_additive_untrustworthy_hierologist</th>\n",
       "      <th>feature_adsorbed_blizzardy_burlesque</th>\n",
       "      <th>feature_affettuoso_taxidermic_greg</th>\n",
       "      <th>feature_afoul_valvate_faery</th>\n",
       "      <th>...</th>\n",
       "      <th>target_george_v4_20</th>\n",
       "      <th>target_george_v4_60</th>\n",
       "      <th>target_william_v4_20</th>\n",
       "      <th>target_william_v4_60</th>\n",
       "      <th>target_arthur_v4_20</th>\n",
       "      <th>target_arthur_v4_60</th>\n",
       "      <th>target_thomas_v4_20</th>\n",
       "      <th>target_thomas_v4_60</th>\n",
       "      <th>era</th>\n",
       "      <th>data_type</th>\n",
       "    </tr>\n",
       "    <tr>\n",
       "      <th>id</th>\n",
       "      <th></th>\n",
       "      <th></th>\n",
       "      <th></th>\n",
       "      <th></th>\n",
       "      <th></th>\n",
       "      <th></th>\n",
       "      <th></th>\n",
       "      <th></th>\n",
       "      <th></th>\n",
       "      <th></th>\n",
       "      <th></th>\n",
       "      <th></th>\n",
       "      <th></th>\n",
       "      <th></th>\n",
       "      <th></th>\n",
       "      <th></th>\n",
       "      <th></th>\n",
       "      <th></th>\n",
       "      <th></th>\n",
       "      <th></th>\n",
       "      <th></th>\n",
       "    </tr>\n",
       "  </thead>\n",
       "  <tbody>\n",
       "    <tr>\n",
       "      <th>n003bba8a98662e4</th>\n",
       "      <td>0</td>\n",
       "      <td>4</td>\n",
       "      <td>0</td>\n",
       "      <td>4</td>\n",
       "      <td>&lt;NA&gt;</td>\n",
       "      <td>0</td>\n",
       "      <td>1</td>\n",
       "      <td>4</td>\n",
       "      <td>0</td>\n",
       "      <td>3</td>\n",
       "      <td>...</td>\n",
       "      <td>0.25</td>\n",
       "      <td>0.0</td>\n",
       "      <td>0.333333</td>\n",
       "      <td>0.000000</td>\n",
       "      <td>0.500000</td>\n",
       "      <td>0.500000</td>\n",
       "      <td>0.166667</td>\n",
       "      <td>0.000000</td>\n",
       "      <td>0001</td>\n",
       "      <td>train</td>\n",
       "    </tr>\n",
       "    <tr>\n",
       "      <th>n003bee128c2fcfc</th>\n",
       "      <td>4</td>\n",
       "      <td>2</td>\n",
       "      <td>2</td>\n",
       "      <td>2</td>\n",
       "      <td>&lt;NA&gt;</td>\n",
       "      <td>3</td>\n",
       "      <td>1</td>\n",
       "      <td>3</td>\n",
       "      <td>2</td>\n",
       "      <td>2</td>\n",
       "      <td>...</td>\n",
       "      <td>1.00</td>\n",
       "      <td>1.0</td>\n",
       "      <td>0.666667</td>\n",
       "      <td>0.666667</td>\n",
       "      <td>0.833333</td>\n",
       "      <td>0.666667</td>\n",
       "      <td>0.833333</td>\n",
       "      <td>0.666667</td>\n",
       "      <td>0001</td>\n",
       "      <td>train</td>\n",
       "    </tr>\n",
       "  </tbody>\n",
       "</table>\n",
       "<p>2 rows × 672 columns</p>\n",
       "</div>"
      ],
      "text/plain": [
       "                  feature_abating_unadaptable_weakfish   \n",
       "id                                                       \n",
       "n003bba8a98662e4                                     0  \\\n",
       "n003bee128c2fcfc                                     4   \n",
       "\n",
       "                  feature_ablest_mauritanian_elding   \n",
       "id                                                    \n",
       "n003bba8a98662e4                                  4  \\\n",
       "n003bee128c2fcfc                                  2   \n",
       "\n",
       "                  feature_acclimatisable_unfeigned_maghreb   \n",
       "id                                                           \n",
       "n003bba8a98662e4                                         0  \\\n",
       "n003bee128c2fcfc                                         2   \n",
       "\n",
       "                  feature_accommodable_crinite_cleft   \n",
       "id                                                     \n",
       "n003bba8a98662e4                                   4  \\\n",
       "n003bee128c2fcfc                                   2   \n",
       "\n",
       "                  feature_accretive_sorrier_skedaddle   \n",
       "id                                                      \n",
       "n003bba8a98662e4                                 <NA>  \\\n",
       "n003bee128c2fcfc                                 <NA>   \n",
       "\n",
       "                  feature_acetose_periotic_coronation   \n",
       "id                                                      \n",
       "n003bba8a98662e4                                    0  \\\n",
       "n003bee128c2fcfc                                    3   \n",
       "\n",
       "                  feature_additive_untrustworthy_hierologist   \n",
       "id                                                             \n",
       "n003bba8a98662e4                                           1  \\\n",
       "n003bee128c2fcfc                                           1   \n",
       "\n",
       "                  feature_adsorbed_blizzardy_burlesque   \n",
       "id                                                       \n",
       "n003bba8a98662e4                                     4  \\\n",
       "n003bee128c2fcfc                                     3   \n",
       "\n",
       "                  feature_affettuoso_taxidermic_greg   \n",
       "id                                                     \n",
       "n003bba8a98662e4                                   0  \\\n",
       "n003bee128c2fcfc                                   2   \n",
       "\n",
       "                  feature_afoul_valvate_faery  ...  target_george_v4_20   \n",
       "id                                             ...                        \n",
       "n003bba8a98662e4                            3  ...                 0.25  \\\n",
       "n003bee128c2fcfc                            2  ...                 1.00   \n",
       "\n",
       "                  target_george_v4_60  target_william_v4_20   \n",
       "id                                                            \n",
       "n003bba8a98662e4                  0.0              0.333333  \\\n",
       "n003bee128c2fcfc                  1.0              0.666667   \n",
       "\n",
       "                  target_william_v4_60  target_arthur_v4_20   \n",
       "id                                                            \n",
       "n003bba8a98662e4              0.000000             0.500000  \\\n",
       "n003bee128c2fcfc              0.666667             0.833333   \n",
       "\n",
       "                  target_arthur_v4_60  target_thomas_v4_20   \n",
       "id                                                           \n",
       "n003bba8a98662e4             0.500000             0.166667  \\\n",
       "n003bee128c2fcfc             0.666667             0.833333   \n",
       "\n",
       "                  target_thomas_v4_60   era  data_type  \n",
       "id                                                      \n",
       "n003bba8a98662e4             0.000000  0001      train  \n",
       "n003bee128c2fcfc             0.666667  0001      train  \n",
       "\n",
       "[2 rows x 672 columns]"
      ]
     },
     "metadata": {},
     "output_type": "display_data"
    },
    {
     "data": {
      "text/html": [
       "<h5>Split: val1</h5>"
      ],
      "text/plain": [
       "<IPython.core.display.HTML object>"
      ]
     },
     "metadata": {},
     "output_type": "display_data"
    },
    {
     "name": "stdout",
     "output_type": "stream",
     "text": [
      "Number of rows: 13,792\n"
     ]
    },
    {
     "data": {
      "text/html": [
       "<div>\n",
       "<style scoped>\n",
       "    .dataframe tbody tr th:only-of-type {\n",
       "        vertical-align: middle;\n",
       "    }\n",
       "\n",
       "    .dataframe tbody tr th {\n",
       "        vertical-align: top;\n",
       "    }\n",
       "\n",
       "    .dataframe thead th {\n",
       "        text-align: right;\n",
       "    }\n",
       "</style>\n",
       "<table border=\"1\" class=\"dataframe\">\n",
       "  <thead>\n",
       "    <tr style=\"text-align: right;\">\n",
       "      <th></th>\n",
       "      <th>feature_abating_unadaptable_weakfish</th>\n",
       "      <th>feature_ablest_mauritanian_elding</th>\n",
       "      <th>feature_acclimatisable_unfeigned_maghreb</th>\n",
       "      <th>feature_accommodable_crinite_cleft</th>\n",
       "      <th>feature_accretive_sorrier_skedaddle</th>\n",
       "      <th>feature_acetose_periotic_coronation</th>\n",
       "      <th>feature_additive_untrustworthy_hierologist</th>\n",
       "      <th>feature_adsorbed_blizzardy_burlesque</th>\n",
       "      <th>feature_affettuoso_taxidermic_greg</th>\n",
       "      <th>feature_afoul_valvate_faery</th>\n",
       "      <th>...</th>\n",
       "      <th>target_george_v4_20</th>\n",
       "      <th>target_george_v4_60</th>\n",
       "      <th>target_william_v4_20</th>\n",
       "      <th>target_william_v4_60</th>\n",
       "      <th>target_arthur_v4_20</th>\n",
       "      <th>target_arthur_v4_60</th>\n",
       "      <th>target_thomas_v4_20</th>\n",
       "      <th>target_thomas_v4_60</th>\n",
       "      <th>era</th>\n",
       "      <th>data_type</th>\n",
       "    </tr>\n",
       "    <tr>\n",
       "      <th>id</th>\n",
       "      <th></th>\n",
       "      <th></th>\n",
       "      <th></th>\n",
       "      <th></th>\n",
       "      <th></th>\n",
       "      <th></th>\n",
       "      <th></th>\n",
       "      <th></th>\n",
       "      <th></th>\n",
       "      <th></th>\n",
       "      <th></th>\n",
       "      <th></th>\n",
       "      <th></th>\n",
       "      <th></th>\n",
       "      <th></th>\n",
       "      <th></th>\n",
       "      <th></th>\n",
       "      <th></th>\n",
       "      <th></th>\n",
       "      <th></th>\n",
       "      <th></th>\n",
       "    </tr>\n",
       "  </thead>\n",
       "  <tbody>\n",
       "    <tr>\n",
       "      <th>n0000a7873fbc168</th>\n",
       "      <td>3</td>\n",
       "      <td>1</td>\n",
       "      <td>3</td>\n",
       "      <td>1</td>\n",
       "      <td>0</td>\n",
       "      <td>0</td>\n",
       "      <td>0</td>\n",
       "      <td>4</td>\n",
       "      <td>3</td>\n",
       "      <td>1</td>\n",
       "      <td>...</td>\n",
       "      <td>0.5</td>\n",
       "      <td>0.5</td>\n",
       "      <td>0.5</td>\n",
       "      <td>0.5</td>\n",
       "      <td>0.333333</td>\n",
       "      <td>0.500000</td>\n",
       "      <td>0.5</td>\n",
       "      <td>0.5</td>\n",
       "      <td>0449</td>\n",
       "      <td>train</td>\n",
       "    </tr>\n",
       "    <tr>\n",
       "      <th>n00038990d1c4308</th>\n",
       "      <td>0</td>\n",
       "      <td>4</td>\n",
       "      <td>3</td>\n",
       "      <td>3</td>\n",
       "      <td>2</td>\n",
       "      <td>3</td>\n",
       "      <td>2</td>\n",
       "      <td>3</td>\n",
       "      <td>3</td>\n",
       "      <td>3</td>\n",
       "      <td>...</td>\n",
       "      <td>0.5</td>\n",
       "      <td>0.5</td>\n",
       "      <td>0.5</td>\n",
       "      <td>0.5</td>\n",
       "      <td>0.500000</td>\n",
       "      <td>0.333333</td>\n",
       "      <td>0.5</td>\n",
       "      <td>0.5</td>\n",
       "      <td>0449</td>\n",
       "      <td>train</td>\n",
       "    </tr>\n",
       "  </tbody>\n",
       "</table>\n",
       "<p>2 rows × 672 columns</p>\n",
       "</div>"
      ],
      "text/plain": [
       "                  feature_abating_unadaptable_weakfish   \n",
       "id                                                       \n",
       "n0000a7873fbc168                                     3  \\\n",
       "n00038990d1c4308                                     0   \n",
       "\n",
       "                  feature_ablest_mauritanian_elding   \n",
       "id                                                    \n",
       "n0000a7873fbc168                                  1  \\\n",
       "n00038990d1c4308                                  4   \n",
       "\n",
       "                  feature_acclimatisable_unfeigned_maghreb   \n",
       "id                                                           \n",
       "n0000a7873fbc168                                         3  \\\n",
       "n00038990d1c4308                                         3   \n",
       "\n",
       "                  feature_accommodable_crinite_cleft   \n",
       "id                                                     \n",
       "n0000a7873fbc168                                   1  \\\n",
       "n00038990d1c4308                                   3   \n",
       "\n",
       "                  feature_accretive_sorrier_skedaddle   \n",
       "id                                                      \n",
       "n0000a7873fbc168                                    0  \\\n",
       "n00038990d1c4308                                    2   \n",
       "\n",
       "                  feature_acetose_periotic_coronation   \n",
       "id                                                      \n",
       "n0000a7873fbc168                                    0  \\\n",
       "n00038990d1c4308                                    3   \n",
       "\n",
       "                  feature_additive_untrustworthy_hierologist   \n",
       "id                                                             \n",
       "n0000a7873fbc168                                           0  \\\n",
       "n00038990d1c4308                                           2   \n",
       "\n",
       "                  feature_adsorbed_blizzardy_burlesque   \n",
       "id                                                       \n",
       "n0000a7873fbc168                                     4  \\\n",
       "n00038990d1c4308                                     3   \n",
       "\n",
       "                  feature_affettuoso_taxidermic_greg   \n",
       "id                                                     \n",
       "n0000a7873fbc168                                   3  \\\n",
       "n00038990d1c4308                                   3   \n",
       "\n",
       "                  feature_afoul_valvate_faery  ...  target_george_v4_20   \n",
       "id                                             ...                        \n",
       "n0000a7873fbc168                            1  ...                  0.5  \\\n",
       "n00038990d1c4308                            3  ...                  0.5   \n",
       "\n",
       "                  target_george_v4_60  target_william_v4_20   \n",
       "id                                                            \n",
       "n0000a7873fbc168                  0.5                   0.5  \\\n",
       "n00038990d1c4308                  0.5                   0.5   \n",
       "\n",
       "                  target_william_v4_60  target_arthur_v4_20   \n",
       "id                                                            \n",
       "n0000a7873fbc168                   0.5             0.333333  \\\n",
       "n00038990d1c4308                   0.5             0.500000   \n",
       "\n",
       "                  target_arthur_v4_60  target_thomas_v4_20   \n",
       "id                                                           \n",
       "n0000a7873fbc168             0.500000                  0.5  \\\n",
       "n00038990d1c4308             0.333333                  0.5   \n",
       "\n",
       "                  target_thomas_v4_60   era  data_type  \n",
       "id                                                      \n",
       "n0000a7873fbc168                  0.5  0449      train  \n",
       "n00038990d1c4308                  0.5  0449      train  \n",
       "\n",
       "[2 rows x 672 columns]"
      ]
     },
     "metadata": {},
     "output_type": "display_data"
    },
    {
     "data": {
      "text/html": [
       "<h5>Split: val2</h5>"
      ],
      "text/plain": [
       "<IPython.core.display.HTML object>"
      ]
     },
     "metadata": {},
     "output_type": "display_data"
    },
    {
     "name": "stdout",
     "output_type": "stream",
     "text": [
      "Number of rows: 18,046\n"
     ]
    },
    {
     "data": {
      "text/html": [
       "<div>\n",
       "<style scoped>\n",
       "    .dataframe tbody tr th:only-of-type {\n",
       "        vertical-align: middle;\n",
       "    }\n",
       "\n",
       "    .dataframe tbody tr th {\n",
       "        vertical-align: top;\n",
       "    }\n",
       "\n",
       "    .dataframe thead th {\n",
       "        text-align: right;\n",
       "    }\n",
       "</style>\n",
       "<table border=\"1\" class=\"dataframe\">\n",
       "  <thead>\n",
       "    <tr style=\"text-align: right;\">\n",
       "      <th></th>\n",
       "      <th>feature_abating_unadaptable_weakfish</th>\n",
       "      <th>feature_ablest_mauritanian_elding</th>\n",
       "      <th>feature_acclimatisable_unfeigned_maghreb</th>\n",
       "      <th>feature_accommodable_crinite_cleft</th>\n",
       "      <th>feature_accretive_sorrier_skedaddle</th>\n",
       "      <th>feature_acetose_periotic_coronation</th>\n",
       "      <th>feature_additive_untrustworthy_hierologist</th>\n",
       "      <th>feature_adsorbed_blizzardy_burlesque</th>\n",
       "      <th>feature_affettuoso_taxidermic_greg</th>\n",
       "      <th>feature_afoul_valvate_faery</th>\n",
       "      <th>...</th>\n",
       "      <th>target_george_v4_20</th>\n",
       "      <th>target_george_v4_60</th>\n",
       "      <th>target_william_v4_20</th>\n",
       "      <th>target_william_v4_60</th>\n",
       "      <th>target_arthur_v4_20</th>\n",
       "      <th>target_arthur_v4_60</th>\n",
       "      <th>target_thomas_v4_20</th>\n",
       "      <th>target_thomas_v4_60</th>\n",
       "      <th>era</th>\n",
       "      <th>data_type</th>\n",
       "    </tr>\n",
       "    <tr>\n",
       "      <th>id</th>\n",
       "      <th></th>\n",
       "      <th></th>\n",
       "      <th></th>\n",
       "      <th></th>\n",
       "      <th></th>\n",
       "      <th></th>\n",
       "      <th></th>\n",
       "      <th></th>\n",
       "      <th></th>\n",
       "      <th></th>\n",
       "      <th></th>\n",
       "      <th></th>\n",
       "      <th></th>\n",
       "      <th></th>\n",
       "      <th></th>\n",
       "      <th></th>\n",
       "      <th></th>\n",
       "      <th></th>\n",
       "      <th></th>\n",
       "      <th></th>\n",
       "      <th></th>\n",
       "    </tr>\n",
       "  </thead>\n",
       "  <tbody>\n",
       "    <tr>\n",
       "      <th>n0004b2cf9bd1d3b</th>\n",
       "      <td>3</td>\n",
       "      <td>1</td>\n",
       "      <td>4</td>\n",
       "      <td>1</td>\n",
       "      <td>3</td>\n",
       "      <td>2</td>\n",
       "      <td>3</td>\n",
       "      <td>3</td>\n",
       "      <td>4</td>\n",
       "      <td>1</td>\n",
       "      <td>...</td>\n",
       "      <td>0.5</td>\n",
       "      <td>0.5</td>\n",
       "      <td>0.5</td>\n",
       "      <td>0.500000</td>\n",
       "      <td>0.333333</td>\n",
       "      <td>0.333333</td>\n",
       "      <td>0.333333</td>\n",
       "      <td>0.5</td>\n",
       "      <td>0353</td>\n",
       "      <td>train</td>\n",
       "    </tr>\n",
       "    <tr>\n",
       "      <th>n00105becd525868</th>\n",
       "      <td>2</td>\n",
       "      <td>4</td>\n",
       "      <td>4</td>\n",
       "      <td>3</td>\n",
       "      <td>4</td>\n",
       "      <td>4</td>\n",
       "      <td>3</td>\n",
       "      <td>3</td>\n",
       "      <td>4</td>\n",
       "      <td>3</td>\n",
       "      <td>...</td>\n",
       "      <td>0.5</td>\n",
       "      <td>0.5</td>\n",
       "      <td>0.5</td>\n",
       "      <td>0.333333</td>\n",
       "      <td>0.333333</td>\n",
       "      <td>0.333333</td>\n",
       "      <td>0.500000</td>\n",
       "      <td>0.5</td>\n",
       "      <td>0353</td>\n",
       "      <td>train</td>\n",
       "    </tr>\n",
       "  </tbody>\n",
       "</table>\n",
       "<p>2 rows × 672 columns</p>\n",
       "</div>"
      ],
      "text/plain": [
       "                  feature_abating_unadaptable_weakfish   \n",
       "id                                                       \n",
       "n0004b2cf9bd1d3b                                     3  \\\n",
       "n00105becd525868                                     2   \n",
       "\n",
       "                  feature_ablest_mauritanian_elding   \n",
       "id                                                    \n",
       "n0004b2cf9bd1d3b                                  1  \\\n",
       "n00105becd525868                                  4   \n",
       "\n",
       "                  feature_acclimatisable_unfeigned_maghreb   \n",
       "id                                                           \n",
       "n0004b2cf9bd1d3b                                         4  \\\n",
       "n00105becd525868                                         4   \n",
       "\n",
       "                  feature_accommodable_crinite_cleft   \n",
       "id                                                     \n",
       "n0004b2cf9bd1d3b                                   1  \\\n",
       "n00105becd525868                                   3   \n",
       "\n",
       "                  feature_accretive_sorrier_skedaddle   \n",
       "id                                                      \n",
       "n0004b2cf9bd1d3b                                    3  \\\n",
       "n00105becd525868                                    4   \n",
       "\n",
       "                  feature_acetose_periotic_coronation   \n",
       "id                                                      \n",
       "n0004b2cf9bd1d3b                                    2  \\\n",
       "n00105becd525868                                    4   \n",
       "\n",
       "                  feature_additive_untrustworthy_hierologist   \n",
       "id                                                             \n",
       "n0004b2cf9bd1d3b                                           3  \\\n",
       "n00105becd525868                                           3   \n",
       "\n",
       "                  feature_adsorbed_blizzardy_burlesque   \n",
       "id                                                       \n",
       "n0004b2cf9bd1d3b                                     3  \\\n",
       "n00105becd525868                                     3   \n",
       "\n",
       "                  feature_affettuoso_taxidermic_greg   \n",
       "id                                                     \n",
       "n0004b2cf9bd1d3b                                   4  \\\n",
       "n00105becd525868                                   4   \n",
       "\n",
       "                  feature_afoul_valvate_faery  ...  target_george_v4_20   \n",
       "id                                             ...                        \n",
       "n0004b2cf9bd1d3b                            1  ...                  0.5  \\\n",
       "n00105becd525868                            3  ...                  0.5   \n",
       "\n",
       "                  target_george_v4_60  target_william_v4_20   \n",
       "id                                                            \n",
       "n0004b2cf9bd1d3b                  0.5                   0.5  \\\n",
       "n00105becd525868                  0.5                   0.5   \n",
       "\n",
       "                  target_william_v4_60  target_arthur_v4_20   \n",
       "id                                                            \n",
       "n0004b2cf9bd1d3b              0.500000             0.333333  \\\n",
       "n00105becd525868              0.333333             0.333333   \n",
       "\n",
       "                  target_arthur_v4_60  target_thomas_v4_20   \n",
       "id                                                           \n",
       "n0004b2cf9bd1d3b             0.333333             0.333333  \\\n",
       "n00105becd525868             0.333333             0.500000   \n",
       "\n",
       "                  target_thomas_v4_60   era  data_type  \n",
       "id                                                      \n",
       "n0004b2cf9bd1d3b                  0.5  0353      train  \n",
       "n00105becd525868                  0.5  0353      train  \n",
       "\n",
       "[2 rows x 672 columns]"
      ]
     },
     "metadata": {},
     "output_type": "display_data"
    },
    {
     "data": {
      "text/html": [
       "<h5>Split: test</h5>"
      ],
      "text/plain": [
       "<IPython.core.display.HTML object>"
      ]
     },
     "metadata": {},
     "output_type": "display_data"
    },
    {
     "name": "stdout",
     "output_type": "stream",
     "text": [
      "Number of rows: 81,509\n"
     ]
    },
    {
     "data": {
      "text/html": [
       "<div>\n",
       "<style scoped>\n",
       "    .dataframe tbody tr th:only-of-type {\n",
       "        vertical-align: middle;\n",
       "    }\n",
       "\n",
       "    .dataframe tbody tr th {\n",
       "        vertical-align: top;\n",
       "    }\n",
       "\n",
       "    .dataframe thead th {\n",
       "        text-align: right;\n",
       "    }\n",
       "</style>\n",
       "<table border=\"1\" class=\"dataframe\">\n",
       "  <thead>\n",
       "    <tr style=\"text-align: right;\">\n",
       "      <th></th>\n",
       "      <th>feature_abating_unadaptable_weakfish</th>\n",
       "      <th>feature_ablest_mauritanian_elding</th>\n",
       "      <th>feature_acclimatisable_unfeigned_maghreb</th>\n",
       "      <th>feature_accommodable_crinite_cleft</th>\n",
       "      <th>feature_accretive_sorrier_skedaddle</th>\n",
       "      <th>feature_acetose_periotic_coronation</th>\n",
       "      <th>feature_additive_untrustworthy_hierologist</th>\n",
       "      <th>feature_adsorbed_blizzardy_burlesque</th>\n",
       "      <th>feature_affettuoso_taxidermic_greg</th>\n",
       "      <th>feature_afoul_valvate_faery</th>\n",
       "      <th>...</th>\n",
       "      <th>target_george_v4_20</th>\n",
       "      <th>target_george_v4_60</th>\n",
       "      <th>target_william_v4_20</th>\n",
       "      <th>target_william_v4_60</th>\n",
       "      <th>target_arthur_v4_20</th>\n",
       "      <th>target_arthur_v4_60</th>\n",
       "      <th>target_thomas_v4_20</th>\n",
       "      <th>target_thomas_v4_60</th>\n",
       "      <th>era</th>\n",
       "      <th>data_type</th>\n",
       "    </tr>\n",
       "    <tr>\n",
       "      <th>id</th>\n",
       "      <th></th>\n",
       "      <th></th>\n",
       "      <th></th>\n",
       "      <th></th>\n",
       "      <th></th>\n",
       "      <th></th>\n",
       "      <th></th>\n",
       "      <th></th>\n",
       "      <th></th>\n",
       "      <th></th>\n",
       "      <th></th>\n",
       "      <th></th>\n",
       "      <th></th>\n",
       "      <th></th>\n",
       "      <th></th>\n",
       "      <th></th>\n",
       "      <th></th>\n",
       "      <th></th>\n",
       "      <th></th>\n",
       "      <th></th>\n",
       "      <th></th>\n",
       "    </tr>\n",
       "  </thead>\n",
       "  <tbody>\n",
       "    <tr>\n",
       "      <th>n000101811a8a843</th>\n",
       "      <td>0</td>\n",
       "      <td>0</td>\n",
       "      <td>1</td>\n",
       "      <td>0</td>\n",
       "      <td>3</td>\n",
       "      <td>1</td>\n",
       "      <td>0</td>\n",
       "      <td>0</td>\n",
       "      <td>1</td>\n",
       "      <td>2</td>\n",
       "      <td>...</td>\n",
       "      <td>0.5</td>\n",
       "      <td>0.5</td>\n",
       "      <td>0.666667</td>\n",
       "      <td>0.500000</td>\n",
       "      <td>0.500000</td>\n",
       "      <td>0.500000</td>\n",
       "      <td>0.666667</td>\n",
       "      <td>0.500000</td>\n",
       "      <td>0575</td>\n",
       "      <td>validation</td>\n",
       "    </tr>\n",
       "    <tr>\n",
       "      <th>n001e1318d5072ac</th>\n",
       "      <td>1</td>\n",
       "      <td>4</td>\n",
       "      <td>3</td>\n",
       "      <td>1</td>\n",
       "      <td>3</td>\n",
       "      <td>1</td>\n",
       "      <td>4</td>\n",
       "      <td>4</td>\n",
       "      <td>3</td>\n",
       "      <td>1</td>\n",
       "      <td>...</td>\n",
       "      <td>0.0</td>\n",
       "      <td>0.5</td>\n",
       "      <td>0.166667</td>\n",
       "      <td>0.333333</td>\n",
       "      <td>0.333333</td>\n",
       "      <td>0.166667</td>\n",
       "      <td>0.166667</td>\n",
       "      <td>0.333333</td>\n",
       "      <td>0575</td>\n",
       "      <td>validation</td>\n",
       "    </tr>\n",
       "  </tbody>\n",
       "</table>\n",
       "<p>2 rows × 672 columns</p>\n",
       "</div>"
      ],
      "text/plain": [
       "                  feature_abating_unadaptable_weakfish   \n",
       "id                                                       \n",
       "n000101811a8a843                                     0  \\\n",
       "n001e1318d5072ac                                     1   \n",
       "\n",
       "                  feature_ablest_mauritanian_elding   \n",
       "id                                                    \n",
       "n000101811a8a843                                  0  \\\n",
       "n001e1318d5072ac                                  4   \n",
       "\n",
       "                  feature_acclimatisable_unfeigned_maghreb   \n",
       "id                                                           \n",
       "n000101811a8a843                                         1  \\\n",
       "n001e1318d5072ac                                         3   \n",
       "\n",
       "                  feature_accommodable_crinite_cleft   \n",
       "id                                                     \n",
       "n000101811a8a843                                   0  \\\n",
       "n001e1318d5072ac                                   1   \n",
       "\n",
       "                  feature_accretive_sorrier_skedaddle   \n",
       "id                                                      \n",
       "n000101811a8a843                                    3  \\\n",
       "n001e1318d5072ac                                    3   \n",
       "\n",
       "                  feature_acetose_periotic_coronation   \n",
       "id                                                      \n",
       "n000101811a8a843                                    1  \\\n",
       "n001e1318d5072ac                                    1   \n",
       "\n",
       "                  feature_additive_untrustworthy_hierologist   \n",
       "id                                                             \n",
       "n000101811a8a843                                           0  \\\n",
       "n001e1318d5072ac                                           4   \n",
       "\n",
       "                  feature_adsorbed_blizzardy_burlesque   \n",
       "id                                                       \n",
       "n000101811a8a843                                     0  \\\n",
       "n001e1318d5072ac                                     4   \n",
       "\n",
       "                  feature_affettuoso_taxidermic_greg   \n",
       "id                                                     \n",
       "n000101811a8a843                                   1  \\\n",
       "n001e1318d5072ac                                   3   \n",
       "\n",
       "                  feature_afoul_valvate_faery  ...  target_george_v4_20   \n",
       "id                                             ...                        \n",
       "n000101811a8a843                            2  ...                  0.5  \\\n",
       "n001e1318d5072ac                            1  ...                  0.0   \n",
       "\n",
       "                  target_george_v4_60  target_william_v4_20   \n",
       "id                                                            \n",
       "n000101811a8a843                  0.5              0.666667  \\\n",
       "n001e1318d5072ac                  0.5              0.166667   \n",
       "\n",
       "                  target_william_v4_60  target_arthur_v4_20   \n",
       "id                                                            \n",
       "n000101811a8a843              0.500000             0.500000  \\\n",
       "n001e1318d5072ac              0.333333             0.333333   \n",
       "\n",
       "                  target_arthur_v4_60  target_thomas_v4_20   \n",
       "id                                                           \n",
       "n000101811a8a843             0.500000             0.666667  \\\n",
       "n001e1318d5072ac             0.166667             0.166667   \n",
       "\n",
       "                  target_thomas_v4_60   era   data_type  \n",
       "id                                                       \n",
       "n000101811a8a843             0.500000  0575  validation  \n",
       "n001e1318d5072ac             0.333333  0575  validation  \n",
       "\n",
       "[2 rows x 672 columns]"
      ]
     },
     "metadata": {},
     "output_type": "display_data"
    },
    {
     "data": {
      "text/html": [
       "<h5>Split: live</h5>"
      ],
      "text/plain": [
       "<IPython.core.display.HTML object>"
      ]
     },
     "metadata": {},
     "output_type": "display_data"
    },
    {
     "name": "stdout",
     "output_type": "stream",
     "text": [
      "Number of rows: 5,173\n"
     ]
    },
    {
     "data": {
      "text/html": [
       "<div>\n",
       "<style scoped>\n",
       "    .dataframe tbody tr th:only-of-type {\n",
       "        vertical-align: middle;\n",
       "    }\n",
       "\n",
       "    .dataframe tbody tr th {\n",
       "        vertical-align: top;\n",
       "    }\n",
       "\n",
       "    .dataframe thead th {\n",
       "        text-align: right;\n",
       "    }\n",
       "</style>\n",
       "<table border=\"1\" class=\"dataframe\">\n",
       "  <thead>\n",
       "    <tr style=\"text-align: right;\">\n",
       "      <th></th>\n",
       "      <th>feature_abating_unadaptable_weakfish</th>\n",
       "      <th>feature_ablest_mauritanian_elding</th>\n",
       "      <th>feature_acclimatisable_unfeigned_maghreb</th>\n",
       "      <th>feature_accommodable_crinite_cleft</th>\n",
       "      <th>feature_accretive_sorrier_skedaddle</th>\n",
       "      <th>feature_acetose_periotic_coronation</th>\n",
       "      <th>feature_additive_untrustworthy_hierologist</th>\n",
       "      <th>feature_adsorbed_blizzardy_burlesque</th>\n",
       "      <th>feature_affettuoso_taxidermic_greg</th>\n",
       "      <th>feature_afoul_valvate_faery</th>\n",
       "      <th>...</th>\n",
       "      <th>target_george_v4_20</th>\n",
       "      <th>target_george_v4_60</th>\n",
       "      <th>target_william_v4_20</th>\n",
       "      <th>target_william_v4_60</th>\n",
       "      <th>target_arthur_v4_20</th>\n",
       "      <th>target_arthur_v4_60</th>\n",
       "      <th>target_thomas_v4_20</th>\n",
       "      <th>target_thomas_v4_60</th>\n",
       "      <th>era</th>\n",
       "      <th>data_type</th>\n",
       "    </tr>\n",
       "    <tr>\n",
       "      <th>id</th>\n",
       "      <th></th>\n",
       "      <th></th>\n",
       "      <th></th>\n",
       "      <th></th>\n",
       "      <th></th>\n",
       "      <th></th>\n",
       "      <th></th>\n",
       "      <th></th>\n",
       "      <th></th>\n",
       "      <th></th>\n",
       "      <th></th>\n",
       "      <th></th>\n",
       "      <th></th>\n",
       "      <th></th>\n",
       "      <th></th>\n",
       "      <th></th>\n",
       "      <th></th>\n",
       "      <th></th>\n",
       "      <th></th>\n",
       "      <th></th>\n",
       "      <th></th>\n",
       "    </tr>\n",
       "  </thead>\n",
       "  <tbody>\n",
       "    <tr>\n",
       "      <th>n000ccedd86fc94f</th>\n",
       "      <td>4</td>\n",
       "      <td>4</td>\n",
       "      <td>4</td>\n",
       "      <td>1</td>\n",
       "      <td>0</td>\n",
       "      <td>3</td>\n",
       "      <td>3</td>\n",
       "      <td>2</td>\n",
       "      <td>4</td>\n",
       "      <td>4</td>\n",
       "      <td>...</td>\n",
       "      <td>NaN</td>\n",
       "      <td>NaN</td>\n",
       "      <td>NaN</td>\n",
       "      <td>NaN</td>\n",
       "      <td>NaN</td>\n",
       "      <td>NaN</td>\n",
       "      <td>NaN</td>\n",
       "      <td>NaN</td>\n",
       "      <td>X</td>\n",
       "      <td>live</td>\n",
       "    </tr>\n",
       "    <tr>\n",
       "      <th>n00176ebf594813d</th>\n",
       "      <td>2</td>\n",
       "      <td>4</td>\n",
       "      <td>0</td>\n",
       "      <td>1</td>\n",
       "      <td>2</td>\n",
       "      <td>3</td>\n",
       "      <td>4</td>\n",
       "      <td>1</td>\n",
       "      <td>0</td>\n",
       "      <td>3</td>\n",
       "      <td>...</td>\n",
       "      <td>NaN</td>\n",
       "      <td>NaN</td>\n",
       "      <td>NaN</td>\n",
       "      <td>NaN</td>\n",
       "      <td>NaN</td>\n",
       "      <td>NaN</td>\n",
       "      <td>NaN</td>\n",
       "      <td>NaN</td>\n",
       "      <td>X</td>\n",
       "      <td>live</td>\n",
       "    </tr>\n",
       "  </tbody>\n",
       "</table>\n",
       "<p>2 rows × 672 columns</p>\n",
       "</div>"
      ],
      "text/plain": [
       "                  feature_abating_unadaptable_weakfish   \n",
       "id                                                       \n",
       "n000ccedd86fc94f                                     4  \\\n",
       "n00176ebf594813d                                     2   \n",
       "\n",
       "                  feature_ablest_mauritanian_elding   \n",
       "id                                                    \n",
       "n000ccedd86fc94f                                  4  \\\n",
       "n00176ebf594813d                                  4   \n",
       "\n",
       "                  feature_acclimatisable_unfeigned_maghreb   \n",
       "id                                                           \n",
       "n000ccedd86fc94f                                         4  \\\n",
       "n00176ebf594813d                                         0   \n",
       "\n",
       "                  feature_accommodable_crinite_cleft   \n",
       "id                                                     \n",
       "n000ccedd86fc94f                                   1  \\\n",
       "n00176ebf594813d                                   1   \n",
       "\n",
       "                  feature_accretive_sorrier_skedaddle   \n",
       "id                                                      \n",
       "n000ccedd86fc94f                                    0  \\\n",
       "n00176ebf594813d                                    2   \n",
       "\n",
       "                  feature_acetose_periotic_coronation   \n",
       "id                                                      \n",
       "n000ccedd86fc94f                                    3  \\\n",
       "n00176ebf594813d                                    3   \n",
       "\n",
       "                  feature_additive_untrustworthy_hierologist   \n",
       "id                                                             \n",
       "n000ccedd86fc94f                                           3  \\\n",
       "n00176ebf594813d                                           4   \n",
       "\n",
       "                  feature_adsorbed_blizzardy_burlesque   \n",
       "id                                                       \n",
       "n000ccedd86fc94f                                     2  \\\n",
       "n00176ebf594813d                                     1   \n",
       "\n",
       "                  feature_affettuoso_taxidermic_greg   \n",
       "id                                                     \n",
       "n000ccedd86fc94f                                   4  \\\n",
       "n00176ebf594813d                                   0   \n",
       "\n",
       "                  feature_afoul_valvate_faery  ...  target_george_v4_20   \n",
       "id                                             ...                        \n",
       "n000ccedd86fc94f                            4  ...                  NaN  \\\n",
       "n00176ebf594813d                            3  ...                  NaN   \n",
       "\n",
       "                  target_george_v4_60  target_william_v4_20   \n",
       "id                                                            \n",
       "n000ccedd86fc94f                  NaN                   NaN  \\\n",
       "n00176ebf594813d                  NaN                   NaN   \n",
       "\n",
       "                  target_william_v4_60  target_arthur_v4_20   \n",
       "id                                                            \n",
       "n000ccedd86fc94f                   NaN                  NaN  \\\n",
       "n00176ebf594813d                   NaN                  NaN   \n",
       "\n",
       "                  target_arthur_v4_60  target_thomas_v4_20   \n",
       "id                                                           \n",
       "n000ccedd86fc94f                  NaN                  NaN  \\\n",
       "n00176ebf594813d                  NaN                  NaN   \n",
       "\n",
       "                  target_thomas_v4_60  era  data_type  \n",
       "id                                                     \n",
       "n000ccedd86fc94f                  NaN    X       live  \n",
       "n00176ebf594813d                  NaN    X       live  \n",
       "\n",
       "[2 rows x 672 columns]"
      ]
     },
     "metadata": {},
     "output_type": "display_data"
    },
    {
     "name": "stdout",
     "output_type": "stream",
     "text": [
      "\r"
     ]
    }
   ],
   "source": [
    "for split, df in data_map.items():\n",
    "    display(HTML(f\"<h5>Split: {split}</h5>\"))\n",
    "    print(f\"Number of rows: {len(df):,}\")\n",
    "    display(df.head(2))"
   ]
  },
  {
   "cell_type": "code",
   "execution_count": 31,
   "id": "124c4b81",
   "metadata": {},
   "outputs": [
    {
     "data": {
      "text/html": [
       "<h5>train</h5>"
      ],
      "text/plain": [
       "<IPython.core.display.HTML object>"
      ]
     },
     "metadata": {},
     "output_type": "display_data"
    },
    {
     "name": "stdout",
     "output_type": "stream",
     "text": [
      "era_col.min()='0001', era_col.max()='0321'\n"
     ]
    },
    {
     "data": {
      "text/html": [
       "<div>\n",
       "<style scoped>\n",
       "    .dataframe tbody tr th:only-of-type {\n",
       "        vertical-align: middle;\n",
       "    }\n",
       "\n",
       "    .dataframe tbody tr th {\n",
       "        vertical-align: top;\n",
       "    }\n",
       "\n",
       "    .dataframe thead th {\n",
       "        text-align: right;\n",
       "    }\n",
       "</style>\n",
       "<table border=\"1\" class=\"dataframe\">\n",
       "  <thead>\n",
       "    <tr style=\"text-align: right;\">\n",
       "      <th></th>\n",
       "      <th>era</th>\n",
       "    </tr>\n",
       "  </thead>\n",
       "  <tbody>\n",
       "    <tr>\n",
       "      <th>count</th>\n",
       "      <td>42565</td>\n",
       "    </tr>\n",
       "    <tr>\n",
       "      <th>unique</th>\n",
       "      <td>11</td>\n",
       "    </tr>\n",
       "    <tr>\n",
       "      <th>top</th>\n",
       "      <td>0257</td>\n",
       "    </tr>\n",
       "    <tr>\n",
       "      <th>freq</th>\n",
       "      <td>4841</td>\n",
       "    </tr>\n",
       "  </tbody>\n",
       "</table>\n",
       "</div>"
      ],
      "text/plain": [
       "          era\n",
       "count   42565\n",
       "unique     11\n",
       "top      0257\n",
       "freq     4841"
      ]
     },
     "metadata": {},
     "output_type": "display_data"
    },
    {
     "data": {
      "text/html": [
       "<h5>val1</h5>"
      ],
      "text/plain": [
       "<IPython.core.display.HTML object>"
      ]
     },
     "metadata": {},
     "output_type": "display_data"
    },
    {
     "name": "stdout",
     "output_type": "stream",
     "text": [
      "era_col.min()='0449', era_col.max()='0545'\n"
     ]
    },
    {
     "data": {
      "text/html": [
       "<div>\n",
       "<style scoped>\n",
       "    .dataframe tbody tr th:only-of-type {\n",
       "        vertical-align: middle;\n",
       "    }\n",
       "\n",
       "    .dataframe tbody tr th {\n",
       "        vertical-align: top;\n",
       "    }\n",
       "\n",
       "    .dataframe thead th {\n",
       "        text-align: right;\n",
       "    }\n",
       "</style>\n",
       "<table border=\"1\" class=\"dataframe\">\n",
       "  <thead>\n",
       "    <tr style=\"text-align: right;\">\n",
       "      <th></th>\n",
       "      <th>era</th>\n",
       "    </tr>\n",
       "  </thead>\n",
       "  <tbody>\n",
       "    <tr>\n",
       "      <th>count</th>\n",
       "      <td>13792</td>\n",
       "    </tr>\n",
       "    <tr>\n",
       "      <th>unique</th>\n",
       "      <td>3</td>\n",
       "    </tr>\n",
       "    <tr>\n",
       "      <th>top</th>\n",
       "      <td>0545</td>\n",
       "    </tr>\n",
       "    <tr>\n",
       "      <th>freq</th>\n",
       "      <td>4685</td>\n",
       "    </tr>\n",
       "  </tbody>\n",
       "</table>\n",
       "</div>"
      ],
      "text/plain": [
       "          era\n",
       "count   13792\n",
       "unique      3\n",
       "top      0545\n",
       "freq     4685"
      ]
     },
     "metadata": {},
     "output_type": "display_data"
    },
    {
     "data": {
      "text/html": [
       "<h5>val2</h5>"
      ],
      "text/plain": [
       "<IPython.core.display.HTML object>"
      ]
     },
     "metadata": {},
     "output_type": "display_data"
    },
    {
     "name": "stdout",
     "output_type": "stream",
     "text": [
      "era_col.min()='0353', era_col.max()='0481'\n"
     ]
    },
    {
     "data": {
      "text/html": [
       "<div>\n",
       "<style scoped>\n",
       "    .dataframe tbody tr th:only-of-type {\n",
       "        vertical-align: middle;\n",
       "    }\n",
       "\n",
       "    .dataframe tbody tr th {\n",
       "        vertical-align: top;\n",
       "    }\n",
       "\n",
       "    .dataframe thead th {\n",
       "        text-align: right;\n",
       "    }\n",
       "</style>\n",
       "<table border=\"1\" class=\"dataframe\">\n",
       "  <thead>\n",
       "    <tr style=\"text-align: right;\">\n",
       "      <th></th>\n",
       "      <th>era</th>\n",
       "    </tr>\n",
       "  </thead>\n",
       "  <tbody>\n",
       "    <tr>\n",
       "      <th>count</th>\n",
       "      <td>18046</td>\n",
       "    </tr>\n",
       "    <tr>\n",
       "      <th>unique</th>\n",
       "      <td>4</td>\n",
       "    </tr>\n",
       "    <tr>\n",
       "      <th>top</th>\n",
       "      <td>0417</td>\n",
       "    </tr>\n",
       "    <tr>\n",
       "      <th>freq</th>\n",
       "      <td>4645</td>\n",
       "    </tr>\n",
       "  </tbody>\n",
       "</table>\n",
       "</div>"
      ],
      "text/plain": [
       "          era\n",
       "count   18046\n",
       "unique      4\n",
       "top      0417\n",
       "freq     4645"
      ]
     },
     "metadata": {},
     "output_type": "display_data"
    },
    {
     "data": {
      "text/html": [
       "<h5>test</h5>"
      ],
      "text/plain": [
       "<IPython.core.display.HTML object>"
      ]
     },
     "metadata": {},
     "output_type": "display_data"
    },
    {
     "name": "stdout",
     "output_type": "stream",
     "text": [
      "era_col.min()='0575', era_col.max()='1055'\n"
     ]
    },
    {
     "data": {
      "text/html": [
       "<div>\n",
       "<style scoped>\n",
       "    .dataframe tbody tr th:only-of-type {\n",
       "        vertical-align: middle;\n",
       "    }\n",
       "\n",
       "    .dataframe tbody tr th {\n",
       "        vertical-align: top;\n",
       "    }\n",
       "\n",
       "    .dataframe thead th {\n",
       "        text-align: right;\n",
       "    }\n",
       "</style>\n",
       "<table border=\"1\" class=\"dataframe\">\n",
       "  <thead>\n",
       "    <tr style=\"text-align: right;\">\n",
       "      <th></th>\n",
       "      <th>era</th>\n",
       "    </tr>\n",
       "  </thead>\n",
       "  <tbody>\n",
       "    <tr>\n",
       "      <th>count</th>\n",
       "      <td>81509</td>\n",
       "    </tr>\n",
       "    <tr>\n",
       "      <th>unique</th>\n",
       "      <td>16</td>\n",
       "    </tr>\n",
       "    <tr>\n",
       "      <th>top</th>\n",
       "      <td>0959</td>\n",
       "    </tr>\n",
       "    <tr>\n",
       "      <th>freq</th>\n",
       "      <td>5398</td>\n",
       "    </tr>\n",
       "  </tbody>\n",
       "</table>\n",
       "</div>"
      ],
      "text/plain": [
       "          era\n",
       "count   81509\n",
       "unique     16\n",
       "top      0959\n",
       "freq     5398"
      ]
     },
     "metadata": {},
     "output_type": "display_data"
    },
    {
     "data": {
      "text/html": [
       "<h5>live</h5>"
      ],
      "text/plain": [
       "<IPython.core.display.HTML object>"
      ]
     },
     "metadata": {},
     "output_type": "display_data"
    },
    {
     "name": "stdout",
     "output_type": "stream",
     "text": [
      "era_col.min()='X', era_col.max()='X'\n"
     ]
    },
    {
     "data": {
      "text/html": [
       "<div>\n",
       "<style scoped>\n",
       "    .dataframe tbody tr th:only-of-type {\n",
       "        vertical-align: middle;\n",
       "    }\n",
       "\n",
       "    .dataframe tbody tr th {\n",
       "        vertical-align: top;\n",
       "    }\n",
       "\n",
       "    .dataframe thead th {\n",
       "        text-align: right;\n",
       "    }\n",
       "</style>\n",
       "<table border=\"1\" class=\"dataframe\">\n",
       "  <thead>\n",
       "    <tr style=\"text-align: right;\">\n",
       "      <th></th>\n",
       "      <th>era</th>\n",
       "    </tr>\n",
       "  </thead>\n",
       "  <tbody>\n",
       "    <tr>\n",
       "      <th>count</th>\n",
       "      <td>5173</td>\n",
       "    </tr>\n",
       "    <tr>\n",
       "      <th>unique</th>\n",
       "      <td>1</td>\n",
       "    </tr>\n",
       "    <tr>\n",
       "      <th>top</th>\n",
       "      <td>X</td>\n",
       "    </tr>\n",
       "    <tr>\n",
       "      <th>freq</th>\n",
       "      <td>5173</td>\n",
       "    </tr>\n",
       "  </tbody>\n",
       "</table>\n",
       "</div>"
      ],
      "text/plain": [
       "         era\n",
       "count   5173\n",
       "unique     1\n",
       "top        X\n",
       "freq    5173"
      ]
     },
     "metadata": {},
     "output_type": "display_data"
    },
    {
     "name": "stdout",
     "output_type": "stream",
     "text": [
      "\r"
     ]
    }
   ],
   "source": [
    "for split, df in data_map.items():\n",
    "    era_col = df[ERA_COL]\n",
    "    display(HTML(f\"<h5>{split}</h5>\"))\n",
    "    print(f\"{era_col.min()=}, {era_col.max()=}\")\n",
    "    display(era_col.describe().to_frame())"
   ]
  },
  {
   "cell_type": "markdown",
   "id": "ca1d9c8c",
   "metadata": {},
   "source": [
    "### 4. Impute NAs with median values as int8 cannot handle NAs"
   ]
  },
  {
   "cell_type": "code",
   "execution_count": null,
   "id": "ccddc41f",
   "metadata": {},
   "outputs": [],
   "source": [
    "print(\"cleaning up NAs in live data...\")\n",
    "live_data[features] = live_data[features].fillna(\n",
    "    all_data[features].median(skipna=True)\n",
    ")  # since live data is only one era, we need to use the median for all eras\n",
    "live_data[features] = live_data[features].astype(\"int8\")  # make sure change to float32 if using the non int8 data!\n",
    "# Alternatively could convert nan columns to be floats and replace pd.NA with np.nan\n",
    "\n",
    "if TO_TRAIN:\n",
    "    print(\"cleaning up NAs in train and validation data...\")\n",
    "    # Int8 datatype has pd.NA which don't play nice with models.  We simply fill NA with median values here\n",
    "    all_data[features] = all_data[features].fillna(all_data[features].median(skipna=True))\n",
    "    all_data[features] = all_data[features].astype(\"int8\")  # make sure change to float32 if using the non int8 data!"
   ]
  },
  {
   "cell_type": "markdown",
   "id": "0f341136",
   "metadata": {},
   "source": [
    "## Training"
   ]
  },
  {
   "cell_type": "code",
   "execution_count": null,
   "id": "6d65b085",
   "metadata": {},
   "outputs": [],
   "source": [
    "if TO_TRAIN:\n",
    "    mlflow.start_run(run_name=RUN_NAME)"
   ]
  },
  {
   "cell_type": "markdown",
   "id": "075357a8",
   "metadata": {},
   "source": [
    "### 1. Fast train the model with different targets"
   ]
  },
  {
   "cell_type": "code",
   "execution_count": null,
   "id": "23465fa6",
   "metadata": {},
   "outputs": [],
   "source": [
    "if not TO_TRAIN:\n",
    "    print(\"Not training models...\")\n",
    "else:\n",
    "    print(\"Training models and saving them...\")\n",
    "    mlflow.log_params(params)\n",
    "    mlflow.log_param(\"targets\", targets)\n",
    "    mlflow.log_params(TRAINING_PARAMS)\n",
    "    for target in tqdm(targets):\n",
    "        prediction_col = f\"{params_name}_{dataset_name}_{feature_set_name}_{target}\"\n",
    "        train_data_model_name = f\"train_data_{prediction_col}\"\n",
    "        print(f\"Checking for existing model '{train_data_model_name}'\")\n",
    "        train_model = load_model(train_data_model_name)\n",
    "        if not train_model:\n",
    "            print(f\"model not found, creating new one\")\n",
    "            train_model = LGBMRegressor(**params)\n",
    "            # train on all of train and save the model so we don't have to train next time\n",
    "            target_train_index = (\n",
    "                all_data.loc[training_index, target].dropna().index\n",
    "            )  # make sure we only train on rows which have this target\n",
    "            train_model.fit(\n",
    "                all_data.loc[target_train_index, features],\n",
    "                all_data.loc[target_train_index, target],\n",
    "            )  # in case some of the targets are missing data\n",
    "            print(f\"saving new model: {train_data_model_name}\")\n",
    "            save_model(train_model, train_data_model_name)\n",
    "\n",
    "        # predict on validation data\n",
    "        all_data.loc[validation_index, prediction_col] = train_model.predict(\n",
    "            all_data.loc[validation_index, features]\n",
    "        )\n",
    "        gc.collect()"
   ]
  },
  {
   "cell_type": "code",
   "execution_count": null,
   "id": "d038ca54",
   "metadata": {},
   "outputs": [],
   "source": [
    "def get_pred_col_name(target, params_name, dataset_name, feature_set_name):\n",
    "    return f\"{params_name}_{dataset_name}_{feature_set_name}_{target}\""
   ]
  },
  {
   "cell_type": "code",
   "execution_count": null,
   "id": "b359034c",
   "metadata": {},
   "outputs": [],
   "source": [
    "for target in tqdm(targets):\n",
    "    prediction_col = get_pred_col_name(target, params_name, dataset_name, feature_set_name)\n",
    "    # do the same thing for all data (for predicting on live)\n",
    "    all_data_model_name = f\"all_data_{prediction_col}\"\n",
    "    print(f\"Checking for existing model '{all_data_model_name}'\")\n",
    "    all_data_model = load_model(all_data_model_name)\n",
    "    if not all_data_model:\n",
    "        print(f\"model not found, creating new one\")\n",
    "        raise ValueError(\"Model is not trained and saved, switch to TO_TRAIN mode and train the model.\")\n",
    "    # predict on live data\n",
    "    live_data[prediction_col] = all_data_model.predict(\n",
    "        live_data[features].fillna(np.nan)\n",
    "    )  # filling live data with nans makes us ignore those features if necessary\n",
    "    gc.collect()"
   ]
  },
  {
   "cell_type": "markdown",
   "id": "40f767a7",
   "metadata": {},
   "source": [
    "### 2. Equal weight the different targets and then neutralise 50% of the features"
   ]
  },
  {
   "cell_type": "code",
   "execution_count": null,
   "id": "fd4acb1d",
   "metadata": {},
   "outputs": [],
   "source": [
    "def get_raw_pred_cols():\n",
    "    \"\"\"These are the columns of the output dataframe where predicted values are stored\"\"\"\n",
    "    return [\n",
    "        get_pred_col_name(\n",
    "            target=tgt,\n",
    "            params_name=params_name,\n",
    "            dataset_name=dataset_name,\n",
    "            feature_set_name=feature_set_name,\n",
    "        )\n",
    "        for tgt in targets\n",
    "    ]\n",
    "\n",
    "\n",
    "def get_all_pred_cols():\n",
    "    \"\"\"These include the prediction columns in :meth:`get_raw_pred_cols` but\n",
    "    also derived columns from neutralisation.\n",
    "    \"\"\"\n",
    "    return (\n",
    "        [\"equal_weight\", \"half_neutral_equal_weight\"]\n",
    "        + get_pred_col_name(\n",
    "            targets=targets,\n",
    "            params_name=params_name,\n",
    "            dataset_name=dataset_name,\n",
    "            feature_set_name=feature_set_name,\n",
    "        )\n",
    "    )\n"
   ]
  },
  {
   "cell_type": "code",
   "execution_count": null,
   "id": "5b843178",
   "metadata": {},
   "outputs": [],
   "source": [
    "model_to_submit = f\"half_neutral_equal_weight\"\n",
    "if TO_TRAIN:\n",
    "    data_w_ixes = [(live_data, live_data.index), (all_data, validation_index)]\n",
    "else:\n",
    "    data_w_ixes = [(live_data, live_data.index)]\n",
    "\n",
    "for df, ixes in data_w_ixes:\n",
    "    # make an ensemble\n",
    "    df.loc[:, \"equal_weight\"] = df[get_raw_pred_cols()].mean(axis=1)\n",
    "    # make a 50% feature neutral variation of the ensemble model\n",
    "    df[\"half_neutral_equal_weight\"] = neutralize(\n",
    "        df=df.loc[ixes, :],\n",
    "        columns=[f\"equal_weight\"],\n",
    "        neutralizers=features,\n",
    "        proportion=TRAINING_PARAMS[\"neutralisation\"],\n",
    "        normalize=True,\n",
    "        era_col=ERA_COL,\n",
    "        verbose=True,\n",
    "    )"
   ]
  },
  {
   "cell_type": "markdown",
   "id": "ee81a6ca",
   "metadata": {},
   "source": [
    "### 3. Make the predictions submission ready for numer.ai website\n",
    "\n",
    "Convert regressed values to rank values"
   ]
  },
  {
   "cell_type": "code",
   "execution_count": null,
   "id": "7703fdef",
   "metadata": {},
   "outputs": [],
   "source": [
    "# rename best model to \"prediction\" and rank from 0 to 1 to meet upload requirements\n",
    "if TO_TRAIN:\n",
    "    print(\"rename best model to 'prediction' and rank from 0 to 1 to meet upload requirements\")\n",
    "    all_data.loc[validation_index, \"prediction\"] = all_data.loc[\n",
    "        validation_index, model_to_submit\n",
    "    ].rank(pct=True)\n",
    "    all_data.loc[validation_index, \"prediction\"].to_csv(\n",
    "        f\"validation_predictions_{current_round}.csv\"\n",
    "    )\n",
    "    validation_example_preds = pd.read_parquet(\n",
    "        os.path.join(data_path, f\"validation_example_preds.parquet\"),\n",
    "    )\n",
    "    all_data.loc[validation_index, EXAMPLE_PREDS_COL] = validation_example_preds[\n",
    "        \"prediction\"\n",
    "    ]"
   ]
  },
  {
   "cell_type": "code",
   "execution_count": null,
   "id": "e9239aac",
   "metadata": {},
   "outputs": [],
   "source": [
    "live_data[\"prediction\"] = live_data[model_to_submit].rank(pct=True)\n",
    "live_data[\"prediction\"].to_csv(f\"live_predictions_{current_round}.csv\")"
   ]
  },
  {
   "cell_type": "code",
   "execution_count": null,
   "id": "feeef85b",
   "metadata": {
    "scrolled": false
   },
   "outputs": [],
   "source": [
    "pwd"
   ]
  },
  {
   "cell_type": "code",
   "execution_count": null,
   "id": "b6dda1cf",
   "metadata": {},
   "outputs": [],
   "source": [
    "ls"
   ]
  },
  {
   "cell_type": "markdown",
   "id": "7ab9a853",
   "metadata": {},
   "source": [
    "### 4. Print some metrics"
   ]
  },
  {
   "cell_type": "code",
   "execution_count": null,
   "id": "57b81ec4",
   "metadata": {},
   "outputs": [],
   "source": [
    "if TO_TRAIN:\n",
    "    # get some stats about each of our models to compare...\n",
    "    # fast_mode=True so that we skip some of the stats that are slower to calculate\n",
    "    validation_stats = validation_metrics(\n",
    "        all_data.loc[validation_index, :],\n",
    "        prediction_cols,\n",
    "        example_col=EXAMPLE_PREDS_COL,\n",
    "        fast_mode=True,\n",
    "        target_col=TARGET_COL,\n",
    "    )\n",
    "    print(validation_stats[[\"mean\", \"sharpe\"]].to_markdown())\n",
    "\n",
    "    print(\n",
    "        f\"\"\"\n",
    "    Done! Next steps:\n",
    "        1. Go to numer.ai/tournament (make sure you have an account)\n",
    "        2. Submit validation_predictions_{current_round}.csv to the diagnostics tool\n",
    "        3. Submit tournament_predictions_{current_round}.csv to the \"Upload Predictions\" button\n",
    "    \"\"\"\n",
    "    )"
   ]
  },
  {
   "cell_type": "code",
   "execution_count": null,
   "id": "e87a38d6",
   "metadata": {},
   "outputs": [],
   "source": [
    "validation_stats"
   ]
  },
  {
   "cell_type": "code",
   "execution_count": null,
   "id": "fab4689d",
   "metadata": {},
   "outputs": [],
   "source": [
    "mlflow.active_run().info.run_id"
   ]
  },
  {
   "cell_type": "code",
   "execution_count": null,
   "id": "466354bd",
   "metadata": {},
   "outputs": [],
   "source": [
    "out_folder = f\"outputs/{mlflow.active_run().info.run_id}/\"\n",
    "val_stats_html_path = os.path.join(out_folder, \"metrics.html\")\n",
    "os.makedirs(out_folder, exist_ok=True)\n",
    "validation_stats.to_html(buf=val_stats_html_path)\n",
    "mlflow.log_artifact(local_path=val_stats_html_path)"
   ]
  },
  {
   "cell_type": "markdown",
   "id": "11a4b8e0",
   "metadata": {},
   "source": [
    "#### Log metrics"
   ]
  },
  {
   "cell_type": "code",
   "execution_count": null,
   "id": "ebaa6855",
   "metadata": {},
   "outputs": [],
   "source": [
    "for ix in validation_stats.index:\n",
    "    for col in validation_stats.columns:\n",
    "        mlflow.log_metric(f\"{col}__{ix}\", validation_stats.loc[ix, col])"
   ]
  },
  {
   "cell_type": "code",
   "execution_count": null,
   "id": "fccc1978",
   "metadata": {},
   "outputs": [],
   "source": [
    "validation_metrics(\n",
    "    validation_data=all_data.loc[validation_index, :],\n",
    "    pred_cols=[EXAMPLE_PREDS_COL],\n",
    "    example_col=EXAMPLE_PREDS_COL,\n",
    "    fast_mode=True,\n",
    "    target_col=TARGET_COL,\n",
    ")"
   ]
  },
  {
   "cell_type": "code",
   "execution_count": null,
   "id": "dae268b0",
   "metadata": {},
   "outputs": [],
   "source": [
    "validation_stats.to_html(\"validation_stats.html\")"
   ]
  },
  {
   "cell_type": "code",
   "execution_count": null,
   "id": "aa0933b4",
   "metadata": {},
   "outputs": [],
   "source": [
    "mlflow.end_run()"
   ]
  },
  {
   "cell_type": "code",
   "execution_count": null,
   "id": "e5bcc455",
   "metadata": {},
   "outputs": [],
   "source": []
  }
 ],
 "metadata": {
  "kernelspec": {
   "display_name": "Python 3 (ipykernel)",
   "language": "python",
   "name": "python3"
  },
  "language_info": {
   "codemirror_mode": {
    "name": "ipython",
    "version": 3
   },
   "file_extension": ".py",
   "mimetype": "text/x-python",
   "name": "python",
   "nbconvert_exporter": "python",
   "pygments_lexer": "ipython3",
   "version": "3.10.11"
  }
 },
 "nbformat": 4,
 "nbformat_minor": 5
}
